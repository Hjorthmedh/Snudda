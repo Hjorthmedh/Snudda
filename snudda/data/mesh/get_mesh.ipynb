{
 "cells": [
  {
   "cell_type": "markdown",
   "metadata": {},
   "source": [
    "Alex Kozlov script for getting mesh from Allen Brain"
   ]
  },
  {
   "cell_type": "code",
   "execution_count": null,
   "metadata": {},
   "outputs": [],
   "source": [
    "from __future__ import print_function"
   ]
  },
  {
   "cell_type": "code",
   "execution_count": null,
   "metadata": {},
   "outputs": [],
   "source": [
    "from allensdk.api.queries.ontologies_api import OntologiesApi\n",
    "from allensdk.core.structure_tree import StructureTree"
   ]
  },
  {
   "cell_type": "code",
   "execution_count": null,
   "metadata": {},
   "outputs": [],
   "source": [
    "oapi = OntologiesApi()\n",
    "structure_graph = oapi.get_structures_with_sets([1])  # 1 is the id of the adult mouse structure graph\n",
    "\n",
    "# This removes some unused fields returned by the query\n",
    "structure_graph = StructureTree.clean_structures(structure_graph)  \n",
    "\n",
    "tree = StructureTree(structure_graph)"
   ]
  },
  {
   "cell_type": "code",
   "execution_count": null,
   "metadata": {},
   "outputs": [],
   "source": [
    "s = tree.get_structures_by_acronym(['SNc'])\n",
    "struc = s[0]\n",
    "struc"
   ]
  },
  {
   "cell_type": "code",
   "execution_count": null,
   "metadata": {},
   "outputs": [],
   "source": [
    "from allensdk.api.queries.reference_space_api import ReferenceSpaceApi"
   ]
  },
  {
   "cell_type": "code",
   "execution_count": null,
   "metadata": {
    "scrolled": true
   },
   "outputs": [],
   "source": [
    "rsa = ReferenceSpaceApi()\n",
    "mesh = rsa.download_structure_mesh(struc['id'], \n",
    "                                   ccf_version=\"annotation/ccf_2017\", \n",
    "                                   file_name='meshes/SNc.obj')"
   ]
  },
  {
   "cell_type": "code",
   "execution_count": null,
   "metadata": {},
   "outputs": [],
   "source": []
  }
 ],
 "metadata": {
  "kernelspec": {
   "display_name": "Python 3",
   "language": "python",
   "name": "python3"
  },
  "language_info": {
   "codemirror_mode": {
    "name": "ipython",
    "version": 3
   },
   "file_extension": ".py",
   "mimetype": "text/x-python",
   "name": "python",
   "nbconvert_exporter": "python",
   "pygments_lexer": "ipython3",
   "version": "3.6.10"
  }
 },
 "nbformat": 4,
 "nbformat_minor": 1
}
