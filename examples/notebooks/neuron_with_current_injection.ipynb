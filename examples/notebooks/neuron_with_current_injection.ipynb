{
 "cells": [
  {
   "cell_type": "markdown",
   "id": "6ee7f4a3-33bb-482d-b794-336608122095",
   "metadata": {},
   "source": [
    "## Current injection simulation\n",
    "This notebook runs a predefined neuron with current injection. Nothing fancy, very basic."
   ]
  },
  {
   "cell_type": "code",
   "execution_count": 1,
   "id": "81e0db5d-53f0-4bfc-993c-5e1aa864ffe7",
   "metadata": {},
   "outputs": [],
   "source": [
    "from snudda import Snudda"
   ]
  },
  {
   "cell_type": "code",
   "execution_count": 2,
   "id": "7621c263-a32b-4c05-be7d-5486d07f6f2c",
   "metadata": {},
   "outputs": [
    {
     "name": "stdout",
     "output_type": "stream",
     "text": [
      "Adding neurons: dSPN from dir ../../snudda/data/neurons/striatum/dspn/str-dspn-e150602_c1_D1-mWT-0728MSN01-v20190508/\n",
      "Writing network/single_neuron/network-config.json\n"
     ]
    },
    {
     "data": {
      "text/plain": [
       "<snudda.init.init.SnuddaInit at 0xffff295452b0>"
      ]
     },
     "execution_count": 2,
     "metadata": {},
     "output_type": "execute_result"
    }
   ],
   "source": [
    "network_path = \"network/single_neuron\"\n",
    "ss = Snudda(network_path=network_path)\n",
    "ss.init_tiny(neuron_paths=[\"../../snudda/data/neurons/striatum/dspn/str-dspn-e150602_c1_D1-mWT-0728MSN01-v20190508/\"],\n",
    "             neuron_names=[\"dSPN\"], number_of_neurons=[1], random_seed=123)"
   ]
  },
  {
   "cell_type": "code",
   "execution_count": 3,
   "id": "978c1d9c-6b3a-4622-a2bd-9afd03854b74",
   "metadata": {},
   "outputs": [
    {
     "name": "stdout",
     "output_type": "stream",
     "text": [
      "Placing neurons\n",
      "Network path: network/single_neuron\n",
      "Reading SNUDDA_DATA=None from network/single_neuron/network-config.json\n",
      "Reading SNUDDA_DATA=/home/hjorth/HBP/Snudda/snudda/utils/../data from network/single_neuron/network-synapses.hdf5\n",
      "No n_putative_points and putative_density, setting n_putative_points = 46\n",
      "(this must be larger than the number of neurons you want to place)\n",
      "Generating 46 points for network/single_neuron/mesh/Cube-cube-mesh-2.3159794767993218e-05.obj\n",
      "Filtering, keeping inside points: 1 / 20\n",
      "neuron_name = 'dSPN', num = 1, neuron_path = '../../snudda/data/neurons/striatum/dspn/str-dspn-e150602_c1_D1-mWT-0728MSN01-v20190508/'\n",
      "stop_parallel disabled, to keep pool running.\n",
      "\n",
      "Execution time: 0.0s\n",
      "Touch detection\n",
      "Network path: network/single_neuron\n",
      "Reading SNUDDA_DATA=None from network/single_neuron/network-config.json\n",
      "Reading SNUDDA_DATA=/home/hjorth/HBP/Snudda/snudda/utils/../data from network/single_neuron/network-synapses.hdf5\n",
      "No d_view specified, running distribute neurons in serial\n",
      "No connections specified in connectivity_distribution.\n",
      "Reading SNUDDA_DATA=None from network/single_neuron/network-config.json\n",
      "stop_parallel disabled, to keep pool running.\n",
      "\n",
      "Execution time: 0.1s\n",
      "Prune synapses\n",
      "Network path: network/single_neuron\n",
      "No file network/single_neuron/pruning_merge_info.json\n",
      "stop_parallel disabled, to keep pool running.\n",
      "\n",
      "Execution time: 0.1s\n"
     ]
    }
   ],
   "source": [
    "ss.create_network()"
   ]
  },
  {
   "cell_type": "code",
   "execution_count": 4,
   "id": "4c86c755-abd2-4b86-9819-31c30257f81e",
   "metadata": {},
   "outputs": [],
   "source": [
    "simulation_config = {\"current_injection_info\" : {\"0\": {\"time\": [0, 0.4999, 0.5, 0.9999, 1, 10],\n",
    "                                                       \"current\": [0, 0, 300e-12, 300e-12, 0, 0]}}}"
   ]
  },
  {
   "cell_type": "code",
   "execution_count": 5,
   "id": "b21c9ea6-a0c0-40aa-b0ab-a78c7e0f185d",
   "metadata": {},
   "outputs": [
    {
     "name": "stdout",
     "output_type": "stream",
     "text": [
      "MPI Rank: 0, Size: 1\n",
      "Using input file None\n",
      "Reading SNUDDA_DATA=None from network/single_neuron/network-config.json\n",
      "Reading SNUDDA_DATA=/home/hjorth/HBP/Snudda/snudda/utils/../data from network/single_neuron/network-synapses.hdf5\n",
      "NEURON mechanisms already compiled, make sure you have the correct version of NEURON modules.\n",
      "If you delete x86_64, aarch64, arm64 directories (or nrnmech.dll) then you will force a recompilation of the modules.\n",
      "Reading SNUDDA_DATA=None from network/single_neuron/network-config.json\n",
      "Reading SNUDDA_DATA=/home/hjorth/HBP/Snudda/snudda/utils/../data from network/single_neuron/network-synapses.hdf5\n",
      "Warning: No external synaptic input file given!\n",
      "MPI Rank: 0, Size: 1 -- NEURON: This is node 0 out of 1\n",
      "Using network_file: network/single_neuron/network-synapses.hdf5\n",
      "Using input_file: None\n",
      "Using output_file: network/single_neuron/simulation/output.hdf5\n",
      "Using logFile: network/single_neuron/log/network-simulation-log.txt-0\n",
      "Worker 0 : Loading network from network/single_neuron/network-synapses.hdf5\n",
      "Loading config file network/single_neuron/network-config.json\n",
      "0 : Memory status: 73% free\n",
      "Distributing neurons.\n",
      "Setup neurons\n",
      "numprocs=1\n",
      "Warning: Old format of parameter config, using parameter_id = 0.\n",
      "Warning! No modulation key specified, ignoring /home/hjorth/HBP/Snudda/snudda/data/neurons/striatum/dspn/str-dspn-e150602_c1_D1-mWT-0728MSN01-v20190508/modulation.json\n",
      "Node 0 - cell 0 dSPN\n",
      "Neuron dSPN (0) resting voltage = -86.0\n",
      "!!! Popping extra segment from neuron -- temp fix!\n",
      "0 : Memory status: 73% free\n",
      "Adding gap junctions.\n",
      "connect_network_gap_junctions_local\n",
      "Finding node local gap junctions...\n",
      "Added 0.0 gap junctions to simulation (0 total)\n",
      "Adding synapses.\n",
      "connect_network_synapses\n",
      "Added 0 on worker 0\n",
      "Added 0 synapses to simulation (0 total)\n",
      "0 : Memory status: 73% free\n",
      "Parsing current_injection_info.\n",
      "Adding current injection to neuron 0: time = [ 0.      0.4999  0.5     0.9999  1.     10.    ], current = [0.e+00 0.e+00 3.e-10 3.e-10 0.e+00 0.e+00], interpolate\n",
      "No input file given, not adding external input!\n",
      "0 : Memory status: 73% free\n",
      "0 : Memory status: 73% free\n",
      "Running simulation for 2000.0 ms.\n",
      "Running simulation for 2.0 s\n",
      "Running Neuron simulator 2000 ms, with dt=0.025\n",
      "  1% done. Elapsed: 0.1 s, estimated time left: 10.2 s\n",
      "  2% done. Elapsed: 0.2 s, estimated time left: 10.1 s\n",
      "  3% done. Elapsed: 0.3 s, estimated time left: 10.1 s\n",
      "  4% done. Elapsed: 0.4 s, estimated time left: 10.0 s\n",
      "  5% done. Elapsed: 0.5 s, estimated time left: 9.9 s\n",
      " 10% done. Elapsed: 1.0 s, estimated time left: 9.3 s\n",
      " 20% done. Elapsed: 2.1 s, estimated time left: 8.4 s\n",
      " 30% done. Elapsed: 3.1 s, estimated time left: 7.3 s\n",
      " 40% done. Elapsed: 4.2 s, estimated time left: 6.3 s\n",
      " 50% done. Elapsed: 5.2 s, estimated time left: 5.2 s\n",
      " 60% done. Elapsed: 6.2 s, estimated time left: 4.2 s\n",
      " 70% done. Elapsed: 7.3 s, estimated time left: 3.1 s\n",
      " 80% done. Elapsed: 8.3 s, estimated time left: 2.1 s\n",
      " 90% done. Elapsed: 9.4 s, estimated time left: 1.0 s\n",
      "100% done. Elapsed: 10.4 s, estimated time left: 0.0 s\n",
      "Neuron simulation finished\n",
      "Simulation done.\n",
      "Simulation run time: 10.4 s\n",
      "Simulation done, saving output\n",
      "Writing network output to network/single_neuron/simulation/output.hdf5\n",
      "Using sample dt = None (sample step size None)\n",
      "Worker 1/1 writing data to network/single_neuron/simulation/output.hdf5\n",
      "Program run time: 10.6s\n"
     ]
    },
    {
     "data": {
      "text/plain": [
       "<snudda.simulate.simulate.SnuddaSimulate at 0xffff985e3ee0>"
      ]
     },
     "execution_count": 5,
     "metadata": {},
     "output_type": "execute_result"
    }
   ],
   "source": [
    "ss.simulate(simulation_config=simulation_config, verbose=True, time=2.0)"
   ]
  },
  {
   "cell_type": "code",
   "execution_count": 6,
   "id": "eecaaa29-0047-4fd8-b7f5-d15a038e3cce",
   "metadata": {},
   "outputs": [
    {
     "name": "stdout",
     "output_type": "stream",
     "text": [
      "Loading network/single_neuron/simulation/output.hdf5\n"
     ]
    }
   ],
   "source": [
    "from snudda.utils import SnuddaLoadSimulation\n",
    "sls = SnuddaLoadSimulation(network_path=network_path)"
   ]
  },
  {
   "cell_type": "code",
   "execution_count": 7,
   "id": "69dbe223-b41a-4b6f-b54a-b55430981676",
   "metadata": {},
   "outputs": [
    {
     "data": {
      "text/plain": [
       "['spikes', 'voltage']"
      ]
     },
     "execution_count": 7,
     "metadata": {},
     "output_type": "execute_result"
    }
   ],
   "source": [
    "sls.list_data_types(neuron_id=0)"
   ]
  },
  {
   "cell_type": "code",
   "execution_count": 8,
   "id": "7fe9e765-20ee-4216-a854-83c0066d30c0",
   "metadata": {},
   "outputs": [],
   "source": [
    "time = sls.get_time()\n",
    "neuron_id = 0\n",
    "voltage = sls.get_data(neuron_id=0, data_type=\"voltage\")[0][neuron_id]"
   ]
  },
  {
   "cell_type": "code",
   "execution_count": 9,
   "id": "a41a9158-94d3-4dee-9026-a5a4b4f04431",
   "metadata": {},
   "outputs": [
    {
     "data": {
      "text/plain": [
       "Text(0, 0.5, 'voltage')"
      ]
     },
     "execution_count": 9,
     "metadata": {},
     "output_type": "execute_result"
    },
    {
     "data": {
      "image/png": "[encoded data removed]",
      "text/plain": [
       "<Figure size 640x480 with 1 Axes>"
      ]
     },
     "metadata": {},
     "output_type": "display_data"
    }
   ],
   "source": [
    "import matplotlib.pyplot as plt\n",
    "plt.figure()\n",
    "plt.plot(time, voltage)\n",
    "plt.xlabel(\"time\")\n",
    "plt.ylabel(\"voltage\")"
   ]
  },
  {
   "cell_type": "code",
   "execution_count": null,
   "id": "903550c5-1082-4eb4-bcf8-e0d14a402311",
   "metadata": {},
   "outputs": [],
   "source": []
  }
 ],
 "metadata": {
  "kernelspec": {
   "display_name": "Python 3 (ipykernel)",
   "language": "python",
   "name": "python3"
  },
  "language_info": {
   "codemirror_mode": {
    "name": "ipython",
    "version": 3
   },
   "file_extension": ".py",
   "mimetype": "text/x-python",
   "name": "python",
   "nbconvert_exporter": "python",
   "pygments_lexer": "ipython3",
   "version": "3.9.2"
  }
 },
 "nbformat": 4,
 "nbformat_minor": 5
}
