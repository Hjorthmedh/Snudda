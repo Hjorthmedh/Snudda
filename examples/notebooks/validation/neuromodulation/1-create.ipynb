{
 "cells": [
  {
   "cell_type": "code",
   "execution_count": 1,
   "id": "ae5992f0-a38a-41e4-95b4-a13a37b40fff",
   "metadata": {},
   "outputs": [],
   "source": [
    "from neuromodulation_sim import *"
   ]
  },
  {
   "cell_type": "code",
   "execution_count": 2,
   "id": "0333aa67-3723-4c09-925a-12f2895e89cc",
   "metadata": {},
   "outputs": [
    {
     "name": "stdout",
     "output_type": "stream",
     "text": [
      "Warning, running in serial.\n"
     ]
    }
   ],
   "source": [
    "import os\n",
    "from ipyparallel import Client\n",
    "\n",
    "os.environ[\"IPYTHONDIR\"] = \".ipython\"\n",
    "os.environ[\"IPYTHON_PROFILE\"] = \"default\"\n",
    "\n",
    "u_file = os.path.join(\".ipython\", \"profile_default\", \"security\", \"ipcontroller-client.json\")\n",
    "if os.path.exists(u_file):\n",
    "    rc = Client(url_file=u_file, timeout=120, debug=False)\n",
    "else:\n",
    "    print(\"Warning, running in serial.\")\n",
    "    rc = None"
   ]
  },
  {
   "cell_type": "code",
   "execution_count": 3,
   "id": "7b7e158e-103b-4d27-8508-e3b0d655f047",
   "metadata": {},
   "outputs": [
    {
     "name": "stdout",
     "output_type": "stream",
     "text": [
      "Setting SNUDDA_DATA to ../../../../../BasalGangliaData/data\n"
     ]
    }
   ],
   "source": [
    "# If the BasalGangliaData directory exists, then use that for our data\n",
    "snudda_data = os.path.join(\"..\", \"..\",\"..\",\"..\",\"..\", \"BasalGangliaData\", \"data\")\n",
    "if os.path.exists(snudda_data):\n",
    "    os.environ[\"SNUDDA_DATA\"] = snudda_data\n",
    "    print(f\"Setting SNUDDA_DATA to {snudda_data}\")\n",
    "else:\n",
    "    print(f\"SNUDDA_DATA environment variable not changed (may be empty)\")"
   ]
  },
  {
   "cell_type": "code",
   "execution_count": 4,
   "id": "974e4c36-9d99-46dc-bf4b-fa3b5dcb1608",
   "metadata": {},
   "outputs": [
    {
     "name": "stdout",
     "output_type": "stream",
     "text": [
      "Using cube for striatum\n",
      "Neurons for striatum read from /home/hjorth/HBP/BasalGangliaData/data/neurons/striatum\n",
      "Adding neurons: dSPN from dir /home/hjorth/HBP/BasalGangliaData/data/neurons/striatum/dspn\n",
      "Writing networks/dopamine_validation/network-config.json\n"
     ]
    }
   ],
   "source": [
    "import os\n",
    "\n",
    "network_path = os.path.join(\"networks/dopamine_validation\")\n",
    "\n",
    "from snudda import SnuddaInit\n",
    "si = SnuddaInit(network_path=network_path, random_seed=12345, snudda_data=snudda_data)\n",
    "si.define_striatum(num_dSPN=10,volume_type=\"cube\")\n",
    "si.write_json()"
   ]
  },
  {
   "cell_type": "code",
   "execution_count": 5,
   "id": "b47aca78-b7ff-4e6c-ac0d-d438e71d4c44",
   "metadata": {},
   "outputs": [
    {
     "name": "stdout",
     "output_type": "stream",
     "text": [
      "Reading SNUDDA_DATA=../../../../../BasalGangliaData/data from networks/dopamine_validation/network-config.json\n"
     ]
    }
   ],
   "source": [
    "from snudda import SnuddaPlace\n",
    "sp = SnuddaPlace(network_path=network_path, rc=rc)\n",
    "sp.place()"
   ]
  },
  {
   "cell_type": "code",
   "execution_count": 6,
   "id": "bbf49460-97ab-4b7e-a39e-aed07bee4490",
   "metadata": {
    "scrolled": true,
    "tags": []
   },
   "outputs": [
    {
     "name": "stdout",
     "output_type": "stream",
     "text": [
      "Reading SNUDDA_DATA=../../../../../BasalGangliaData/data from networks/dopamine_validation/network-config.json\n",
      "No d_view specified, running distribute neurons in serial\n",
      "Processing hyper voxel : 20/80 (10 neurons)\n",
      "Processing hyper voxel : 21/80 (10 neurons)\n",
      "Processing hyper voxel : 37/80 (10 neurons)\n",
      "Processing hyper voxel : 17/80 (10 neurons)\n",
      "Processing hyper voxel : 33/80 (9 neurons)\n",
      "Processing hyper voxel : 36/80 (9 neurons)\n",
      "Processing hyper voxel : 16/80 (7 neurons)\n",
      "Processing hyper voxel : 22/80 (6 neurons)\n",
      "Processing hyper voxel : 5/80 (5 neurons)\n",
      "Processing hyper voxel : 38/80 (5 neurons)\n",
      "Processing hyper voxel : 32/80 (5 neurons)\n",
      "Processing hyper voxel : 18/80 (4 neurons)\n",
      "Processing hyper voxel : 25/80 (4 neurons)\n",
      "Processing hyper voxel : 26/80 (3 neurons)\n",
      "Processing hyper voxel : 1/80 (3 neurons)\n",
      "Processing hyper voxel : 9/80 (2 neurons)\n",
      "Processing hyper voxel : 6/80 (2 neurons)\n",
      "Processing hyper voxel : 41/80 (2 neurons)\n",
      "Processing hyper voxel : 0/80 (1 neurons)\n",
      "Processing hyper voxel : 24/80 (1 neurons)\n",
      "Processing hyper voxel : 34/80 (1 neurons)\n",
      "Processing hyper voxel : 53/80 (1 neurons)\n"
     ]
    }
   ],
   "source": [
    "from snudda import SnuddaDetect\n",
    "\n",
    "sd = SnuddaDetect(network_path=network_path, rc=rc)\n",
    "sd.detect()"
   ]
  },
  {
   "cell_type": "code",
   "execution_count": 7,
   "id": "dcc105e8-0705-426f-b635-0eb8720e7136",
   "metadata": {},
   "outputs": [
    {
     "name": "stdout",
     "output_type": "stream",
     "text": [
      "Read 1947 out of total 1947 synapses\n"
     ]
    }
   ],
   "source": [
    "from snudda import SnuddaPrune\n",
    "\n",
    "sp = SnuddaPrune(network_path=network_path, rc=rc)\n",
    "sp.prune()"
   ]
  },
  {
   "cell_type": "code",
   "execution_count": 8,
   "id": "ccf62261-8e50-43eb-9902-b4baf122fb62",
   "metadata": {},
   "outputs": [
    {
     "name": "stdout",
     "output_type": "stream",
     "text": [
      "Loading 10 neurons with 82 synapses and 0 gap junctions\n"
     ]
    }
   ],
   "source": [
    "generate_current_injection(network_path=network_path)"
   ]
  },
  {
   "cell_type": "code",
   "execution_count": 9,
   "id": "6b257367-f78a-45dd-a261-8890c0bc7cdc",
   "metadata": {},
   "outputs": [],
   "source": [
    "create_modulation()"
   ]
  },
  {
   "cell_type": "code",
   "execution_count": 10,
   "id": "9e795e9a-9f63-41af-b44a-9f16b7d2d540",
   "metadata": {
    "scrolled": true,
    "tags": []
   },
   "outputs": [
    {
     "name": "stdout",
     "output_type": "stream",
     "text": [
      "/home/hjorth/HBP/Snudda/examples/notebooks/validation/neuromodulation\n",
      "Mod files: \"../../../../../BasalGangliaData/data/neurons/mechanisms/bk_ch.mod\" \"../../../../../BasalGangliaData/data/neurons/mechanisms/bk_fs.mod\" \"../../../../../BasalGangliaData/data/neurons/mechanisms/bk_ms.mod\" \"../../../../../BasalGangliaData/data/neurons/mechanisms/ca_ch.mod\" \"../../../../../BasalGangliaData/data/neurons/mechanisms/cadyn_fs.mod\" \"../../../../../BasalGangliaData/data/neurons/mechanisms/cadyn_ms.mod\" \"../../../../../BasalGangliaData/data/neurons/mechanisms/cal12_ms.mod\" \"../../../../../BasalGangliaData/data/neurons/mechanisms/cal13_ms.mod\" \"../../../../../BasalGangliaData/data/neurons/mechanisms/cal_ch.mod\" \"../../../../../BasalGangliaData/data/neurons/mechanisms/caldyn_ms.mod\" \"../../../../../BasalGangliaData/data/neurons/mechanisms/can_fs.mod\" \"../../../../../BasalGangliaData/data/neurons/mechanisms/can_ms.mod\" \"../../../../../BasalGangliaData/data/neurons/mechanisms/cap_ch.mod\" \"../../../../../BasalGangliaData/data/neurons/mechanisms/caq_fs.mod\" \"../../../../../BasalGangliaData/data/neurons/mechanisms/caq_ms.mod\" \"../../../../../BasalGangliaData/data/neurons/mechanisms/car_fs.mod\" \"../../../../../BasalGangliaData/data/neurons/mechanisms/car_ms.mod\" \"../../../../../BasalGangliaData/data/neurons/mechanisms/cat32_ms.mod\" \"../../../../../BasalGangliaData/data/neurons/mechanisms/cat33_ms.mod\" \"../../../../../BasalGangliaData/data/neurons/mechanisms/hcn12_ch.mod\" \"../../../../../BasalGangliaData/data/neurons/mechanisms/hd_lts.mod\" \"../../../../../BasalGangliaData/data/neurons/mechanisms/im_lts.mod\" \"../../../../../BasalGangliaData/data/neurons/mechanisms/Im_ms.mod\" \"../../../../../BasalGangliaData/data/neurons/mechanisms/it_lts.mod\" \"../../../../../BasalGangliaData/data/neurons/mechanisms/kaf_fs.mod\" \"../../../../../BasalGangliaData/data/neurons/mechanisms/kaf_lts.mod\" \"../../../../../BasalGangliaData/data/neurons/mechanisms/kaf_ms.mod\" \"../../../../../BasalGangliaData/data/neurons/mechanisms/kas_fs.mod\" \"../../../../../BasalGangliaData/data/neurons/mechanisms/kas_ms.mod\" \"../../../../../BasalGangliaData/data/neurons/mechanisms/kcnq_ch.mod\" \"../../../../../BasalGangliaData/data/neurons/mechanisms/kdb_lts.mod\" \"../../../../../BasalGangliaData/data/neurons/mechanisms/kdrb_lts.mod\" \"../../../../../BasalGangliaData/data/neurons/mechanisms/kdr_fs.mod\" \"../../../../../BasalGangliaData/data/neurons/mechanisms/kdr_lts.mod\" \"../../../../../BasalGangliaData/data/neurons/mechanisms/kdr_ms.mod\" \"../../../../../BasalGangliaData/data/neurons/mechanisms/kir23_ch.mod\" \"../../../../../BasalGangliaData/data/neurons/mechanisms/kir23_lts.mod\" \"../../../../../BasalGangliaData/data/neurons/mechanisms/kir2_ch.mod\" \"../../../../../BasalGangliaData/data/neurons/mechanisms/kir_fs.mod\" \"../../../../../BasalGangliaData/data/neurons/mechanisms/kir_ms.mod\" \"../../../../../BasalGangliaData/data/neurons/mechanisms/kv2_ch.mod\" \"../../../../../BasalGangliaData/data/neurons/mechanisms/kv4_ch.mod\" \"../../../../../BasalGangliaData/data/neurons/mechanisms/na2_ch.mod\" \"../../../../../BasalGangliaData/data/neurons/mechanisms/na3_lts.mod\" \"../../../../../BasalGangliaData/data/neurons/mechanisms/na_ch.mod\" \"../../../../../BasalGangliaData/data/neurons/mechanisms/naf_fs.mod\" \"../../../../../BasalGangliaData/data/neurons/mechanisms/naf_lts.mod\" \"../../../../../BasalGangliaData/data/neurons/mechanisms/naf_ms.mod\" \"../../../../../BasalGangliaData/data/neurons/mechanisms/NO.mod\" \"../../../../../BasalGangliaData/data/neurons/mechanisms/par_ggap.mod\" \"../../../../../BasalGangliaData/data/neurons/mechanisms/sk_ch.mod\" \"../../../../../BasalGangliaData/data/neurons/mechanisms/sk_fs.mod\" \"../../../../../BasalGangliaData/data/neurons/mechanisms/sk_ms.mod\" \"../../../../../BasalGangliaData/data/neurons/mechanisms/tmgabaa.mod\" \"../../../../../BasalGangliaData/data/neurons/mechanisms/tmglut_double.mod\" \"../../../../../BasalGangliaData/data/neurons/mechanisms/tmglut_M1RH_D1.mod\" \"../../../../../BasalGangliaData/data/neurons/mechanisms/tmglut.mod\" \"../../../../../BasalGangliaData/data/neurons/mechanisms/vecevent.mod\"\n",
      "\n",
      "Creating x86_64 directory for .o files.\n",
      "\n",
      "COBJS=''\n",
      " -> \u001b[32mCompiling\u001b[0m mod_func.cpp\n",
      " -> \u001b[32mNMODL\u001b[0m ../../../../../../BasalGangliaData/data/neurons/mechanisms/bk_ch.mod\n",
      " -> \u001b[32mNMODL\u001b[0m ../../../../../../BasalGangliaData/data/neurons/mechanisms/bk_fs.mod\n",
      " -> \u001b[32mNMODL\u001b[0m ../../../../../../BasalGangliaData/data/neurons/mechanisms/bk_ms.mod\n",
      "Translating bk_fs.mod into /home/hjorth/HBP/Snudda/examples/notebooks/validation/neuromodulation/x86_64/bk_fs.c\n",
      "Translating bk_ch.mod into /home/hjorth/HBP/Snudda/examples/notebooks/validation/neuromodulation/x86_64/bk_ch.c\n",
      "Translating bk_ms.mod into /home/hjorth/HBP/Snudda/examples/notebooks/validation/neuromodulation/x86_64/bk_ms.c\n",
      "Thread Safe\n",
      " -> \u001b[32mNMODL\u001b[0m ../../../../../../BasalGangliaData/data/neurons/mechanisms/ca_ch.mod\n",
      "Thread Safe\n",
      "Notice: Assignment to the GLOBAL variable, \"htau\", is not thread safe\n",
      "Notice: Assignment to the GLOBAL variable, \"hinf\", is not thread safe\n",
      "Notice: Assignment to the GLOBAL variable, \"mtau\", is not thread safe\n",
      "Notice: Assignment to the GLOBAL variable, \"minf\", is not thread safe\n",
      "Notice: Assignment to the GLOBAL variable, \"zinf\", is not thread safe\n",
      " -> \u001b[32mNMODL\u001b[0m ../../../../../../BasalGangliaData/data/neurons/mechanisms/cadyn_fs.mod\n",
      "Translating ca_ch.mod into /home/hjorth/HBP/Snudda/examples/notebooks/validation/neuromodulation/x86_64/ca_ch.c\n",
      " -> \u001b[32mNMODL\u001b[0m ../../../../../../BasalGangliaData/data/neurons/mechanisms/cadyn_ms.mod\n",
      "Translating cadyn_fs.mod into /home/hjorth/HBP/Snudda/examples/notebooks/validation/neuromodulation/x86_64/cadyn_fs.c\n",
      "Thread Safe\n",
      " -> \u001b[32mNMODL\u001b[0m ../../../../../../BasalGangliaData/data/neurons/mechanisms/cal12_ms.mod\n",
      "Translating cadyn_ms.mod into /home/hjorth/HBP/Snudda/examples/notebooks/validation/neuromodulation/x86_64/cadyn_ms.c\n",
      "Notice: Assignment to the GLOBAL variable, \"vol\", is not thread safe\n",
      "Warning: Default 1 of PARAMETER diam will be ignored and set by NEURON.\n",
      " -> \u001b[32mNMODL\u001b[0m ../../../../../../BasalGangliaData/data/neurons/mechanisms/cal13_ms.mod\n",
      "Thread Safe\n",
      "Translating cal12_ms.mod into /home/hjorth/HBP/Snudda/examples/notebooks/validation/neuromodulation/x86_64/cal12_ms.c\n",
      "Translating cal13_ms.mod into /home/hjorth/HBP/Snudda/examples/notebooks/validation/neuromodulation/x86_64/cal13_ms.c\n",
      " -> \u001b[32mNMODL\u001b[0m ../../../../../../BasalGangliaData/data/neurons/mechanisms/cal_ch.mod\n",
      "Thread Safe\n",
      " -> \u001b[32mNMODL\u001b[0m ../../../../../../BasalGangliaData/data/neurons/mechanisms/caldyn_ms.mod\n",
      "Thread Safe\n",
      "Translating cal_ch.mod into /home/hjorth/HBP/Snudda/examples/notebooks/validation/neuromodulation/x86_64/cal_ch.c\n",
      " -> \u001b[32mNMODL\u001b[0m ../../../../../../BasalGangliaData/data/neurons/mechanisms/can_fs.mod\n",
      "Translating caldyn_ms.mod into /home/hjorth/HBP/Snudda/examples/notebooks/validation/neuromodulation/x86_64/caldyn_ms.c\n",
      "Translating can_fs.mod into /home/hjorth/HBP/Snudda/examples/notebooks/validation/neuromodulation/x86_64/can_fs.c\n",
      "Notice: Assignment to the GLOBAL variable, \"minf\", is not thread safe\n",
      "Notice: Assignment to the GLOBAL variable, \"tau\", is not thread safe\n",
      "Warning: Default 6.3 of PARAMETER celsius will be ignored and set by NEURON.\n",
      "Thread Safe\n",
      " -> \u001b[32mNMODL\u001b[0m ../../../../../../BasalGangliaData/data/neurons/mechanisms/can_ms.mod\n",
      " -> \u001b[32mNMODL\u001b[0m ../../../../../../BasalGangliaData/data/neurons/mechanisms/cap_ch.mod\n",
      "Thread Safe\n",
      " -> \u001b[32mNMODL\u001b[0m ../../../../../../BasalGangliaData/data/neurons/mechanisms/caq_fs.mod\n",
      "Translating can_ms.mod into /home/hjorth/HBP/Snudda/examples/notebooks/validation/neuromodulation/x86_64/can_ms.c\n",
      "Translating cap_ch.mod into /home/hjorth/HBP/Snudda/examples/notebooks/validation/neuromodulation/x86_64/cap_ch.c\n",
      "Translating caq_fs.mod into /home/hjorth/HBP/Snudda/examples/notebooks/validation/neuromodulation/x86_64/caq_fs.c\n",
      "Notice: Assignment to the GLOBAL variable, \"mtau\", is not thread safe\n",
      "Notice: Assignment to the GLOBAL variable, \"minf\", is not thread safe\n",
      "Thread Safe\n",
      "Warning: Default 35 of PARAMETER celsius will be ignored and set by NEURON.\n",
      "Thread Safe\n",
      " -> \u001b[32mNMODL\u001b[0m ../../../../../../BasalGangliaData/data/neurons/mechanisms/caq_ms.mod\n",
      " -> \u001b[32mNMODL\u001b[0m ../../../../../../BasalGangliaData/data/neurons/mechanisms/car_fs.mod\n",
      " -> \u001b[32mNMODL\u001b[0m ../../../../../../BasalGangliaData/data/neurons/mechanisms/car_ms.mod\n",
      "Translating caq_ms.mod into /home/hjorth/HBP/Snudda/examples/notebooks/validation/neuromodulation/x86_64/caq_ms.c\n",
      "Translating car_fs.mod into /home/hjorth/HBP/Snudda/examples/notebooks/validation/neuromodulation/x86_64/car_fs.c\n",
      "Translating car_ms.mod into /home/hjorth/HBP/Snudda/examples/notebooks/validation/neuromodulation/x86_64/car_ms.c\n",
      "Thread Safe\n",
      "Thread Safe\n",
      " -> \u001b[32mNMODL\u001b[0m ../../../../../../BasalGangliaData/data/neurons/mechanisms/cat32_ms.mod\n",
      " -> \u001b[32mNMODL\u001b[0m ../../../../../../BasalGangliaData/data/neurons/mechanisms/cat33_ms.mod\n",
      "Thread Safe\n",
      "Translating cat32_ms.mod into /home/hjorth/HBP/Snudda/examples/notebooks/validation/neuromodulation/x86_64/cat32_ms.c\n",
      " -> \u001b[32mNMODL\u001b[0m ../../../../../../BasalGangliaData/data/neurons/mechanisms/hcn12_ch.mod\n",
      "Translating cat33_ms.mod into /home/hjorth/HBP/Snudda/examples/notebooks/validation/neuromodulation/x86_64/cat33_ms.c\n",
      "Thread Safe\n",
      " -> \u001b[32mNMODL\u001b[0m ../../../../../../BasalGangliaData/data/neurons/mechanisms/hd_lts.mod\n",
      "Translating hcn12_ch.mod into /home/hjorth/HBP/Snudda/examples/notebooks/validation/neuromodulation/x86_64/hcn12_ch.c\n",
      "Thread Safe\n",
      "Translating hd_lts.mod into /home/hjorth/HBP/Snudda/examples/notebooks/validation/neuromodulation/x86_64/hd_lts.c\n",
      " -> \u001b[32mNMODL\u001b[0m ../../../../../../BasalGangliaData/data/neurons/mechanisms/im_lts.mod\n",
      "Notice: Assignment to the GLOBAL variable, \"linf\", is not thread safe\n",
      "Notice: Assignment to the GLOBAL variable, \"taul\", is not thread safe\n",
      " -> \u001b[32mNMODL\u001b[0m ../../../../../../BasalGangliaData/data/neurons/mechanisms/Im_ms.mod\n",
      "NEURON's CVode method ignores conservation\n",
      "Thread Safe\n",
      "Translating im_lts.mod into /home/hjorth/HBP/Snudda/examples/notebooks/validation/neuromodulation/x86_64/im_lts.c\n",
      "Translating Im_ms.mod into /home/hjorth/HBP/Snudda/examples/notebooks/validation/neuromodulation/x86_64/Im_ms.c\n",
      " -> \u001b[32mNMODL\u001b[0m ../../../../../../BasalGangliaData/data/neurons/mechanisms/it_lts.mod\n",
      "Thread Safe\n",
      " -> \u001b[32mNMODL\u001b[0m ../../../../../../BasalGangliaData/data/neurons/mechanisms/kaf_fs.mod\n",
      "Warning: Default 36 of PARAMETER celsius will be ignored and set by NEURON.\n",
      "Thread Safe\n",
      "Translating it_lts.mod into /home/hjorth/HBP/Snudda/examples/notebooks/validation/neuromodulation/x86_64/it_lts.c\n",
      "Translating kaf_fs.mod into /home/hjorth/HBP/Snudda/examples/notebooks/validation/neuromodulation/x86_64/kaf_fs.c\n",
      " -> \u001b[32mNMODL\u001b[0m ../../../../../../BasalGangliaData/data/neurons/mechanisms/kaf_lts.mod\n",
      "Thread Safe\n",
      "Warning: Default 36 of PARAMETER celsius will be ignored and set by NEURON.\n",
      "Warning: Default 2 of PARAMETER cao will be ignored and set by NEURON.\n",
      "Warning: Default 0.00024 of PARAMETER cai will be ignored and set by NEURON.\n",
      " -> \u001b[32mNMODL\u001b[0m ../../../../../../BasalGangliaData/data/neurons/mechanisms/kaf_ms.mod\n",
      "Thread Safe\n",
      "Translating kaf_lts.mod into /home/hjorth/HBP/Snudda/examples/notebooks/validation/neuromodulation/x86_64/kaf_lts.c\n",
      " -> \u001b[32mNMODL\u001b[0m ../../../../../../BasalGangliaData/data/neurons/mechanisms/kas_fs.mod\n",
      "Translating kaf_ms.mod into /home/hjorth/HBP/Snudda/examples/notebooks/validation/neuromodulation/x86_64/kaf_ms.c\n",
      "Thread Safe\n",
      " -> \u001b[32mNMODL\u001b[0m ../../../../../../BasalGangliaData/data/neurons/mechanisms/kas_ms.mod\n",
      "Translating kas_fs.mod into /home/hjorth/HBP/Snudda/examples/notebooks/validation/neuromodulation/x86_64/kas_fs.c\n",
      "Thread Safe\n",
      " -> \u001b[32mNMODL\u001b[0m ../../../../../../BasalGangliaData/data/neurons/mechanisms/kcnq_ch.mod\n",
      "Thread Safe\n",
      "Translating kas_ms.mod into /home/hjorth/HBP/Snudda/examples/notebooks/validation/neuromodulation/x86_64/kas_ms.c\n",
      " -> \u001b[32mNMODL\u001b[0m ../../../../../../BasalGangliaData/data/neurons/mechanisms/kdb_lts.mod\n",
      "Translating kcnq_ch.mod into /home/hjorth/HBP/Snudda/examples/notebooks/validation/neuromodulation/x86_64/kcnq_ch.c\n",
      "NEURON's CVode method ignores conservation\n",
      "Thread Safe\n",
      "Thread Safe\n",
      "Translating kdb_lts.mod into /home/hjorth/HBP/Snudda/examples/notebooks/validation/neuromodulation/x86_64/kdb_lts.c\n",
      " -> \u001b[32mNMODL\u001b[0m ../../../../../../BasalGangliaData/data/neurons/mechanisms/kdrb_lts.mod\n",
      "Notice: Assignment to the GLOBAL variable, \"ninf\", is not thread safe\n",
      "Notice: Assignment to the GLOBAL variable, \"taun\", is not thread safe\n",
      " -> \u001b[32mNMODL\u001b[0m ../../../../../../BasalGangliaData/data/neurons/mechanisms/kdr_fs.mod\n",
      " -> \u001b[32mNMODL\u001b[0m ../../../../../../BasalGangliaData/data/neurons/mechanisms/kdr_lts.mod\n",
      "Translating kdrb_lts.mod into /home/hjorth/HBP/Snudda/examples/notebooks/validation/neuromodulation/x86_64/kdrb_lts.c\n",
      "Translating kdr_fs.mod into /home/hjorth/HBP/Snudda/examples/notebooks/validation/neuromodulation/x86_64/kdr_fs.c\n",
      "Translating kdr_lts.mod into /home/hjorth/HBP/Snudda/examples/notebooks/validation/neuromodulation/x86_64/kdr_lts.c\n",
      "Thread Safe\n",
      " -> \u001b[32mNMODL\u001b[0m ../../../../../../BasalGangliaData/data/neurons/mechanisms/kdr_ms.mod\n",
      "Notice: Assignment to the GLOBAL variable, \"ninf\", is not thread safe\n",
      "Notice: Assignment to the GLOBAL variable, \"taun\", is not thread safe\n",
      " -> \u001b[32mNMODL\u001b[0m ../../../../../../BasalGangliaData/data/neurons/mechanisms/kir23_ch.mod\n",
      "Thread Safe\n",
      " -> \u001b[32mNMODL\u001b[0m ../../../../../../BasalGangliaData/data/neurons/mechanisms/kir23_lts.mod\n",
      "Translating kdr_ms.mod into /home/hjorth/HBP/Snudda/examples/notebooks/validation/neuromodulation/x86_64/kdr_ms.c\n",
      " -> \u001b[32mNMODL\u001b[0m ../../../../../../BasalGangliaData/data/neurons/mechanisms/kir2_ch.mod\n",
      "Translating kir23_ch.mod into /home/hjorth/HBP/Snudda/examples/notebooks/validation/neuromodulation/x86_64/kir23_ch.c\n",
      "Thread Safe\n",
      "Translating kir23_lts.mod into /home/hjorth/HBP/Snudda/examples/notebooks/validation/neuromodulation/x86_64/kir23_lts.c\n",
      " -> \u001b[32mNMODL\u001b[0m ../../../../../../BasalGangliaData/data/neurons/mechanisms/kir_fs.mod\n",
      "Thread Safe\n",
      "Translating kir2_ch.mod into /home/hjorth/HBP/Snudda/examples/notebooks/validation/neuromodulation/x86_64/kir2_ch.c\n",
      " -> \u001b[32mNMODL\u001b[0m ../../../../../../BasalGangliaData/data/neurons/mechanisms/kir_ms.mod\n",
      "Thread Safe\n",
      "Translating kir_fs.mod into /home/hjorth/HBP/Snudda/examples/notebooks/validation/neuromodulation/x86_64/kir_fs.c\n",
      " -> \u001b[32mNMODL\u001b[0m ../../../../../../BasalGangliaData/data/neurons/mechanisms/kv2_ch.mod\n",
      "Thread Safe\n",
      "Translating kir_ms.mod into /home/hjorth/HBP/Snudda/examples/notebooks/validation/neuromodulation/x86_64/kir_ms.c\n",
      " -> \u001b[32mNMODL\u001b[0m ../../../../../../BasalGangliaData/data/neurons/mechanisms/kv4_ch.mod\n",
      "Thread Safe\n",
      "Translating kv2_ch.mod into /home/hjorth/HBP/Snudda/examples/notebooks/validation/neuromodulation/x86_64/kv2_ch.c\n",
      "Thread Safe\n",
      " -> \u001b[32mNMODL\u001b[0m ../../../../../../BasalGangliaData/data/neurons/mechanisms/na2_ch.mod\n",
      " -> \u001b[32mNMODL\u001b[0m ../../../../../../BasalGangliaData/data/neurons/mechanisms/na3_lts.mod\n",
      "Translating kv4_ch.mod into /home/hjorth/HBP/Snudda/examples/notebooks/validation/neuromodulation/x86_64/kv4_ch.c\n",
      "NEURON's CVode method ignores conservation\n",
      "Thread Safe\n",
      "Translating na2_ch.mod into /home/hjorth/HBP/Snudda/examples/notebooks/validation/neuromodulation/x86_64/na2_ch.c\n",
      "NEURON's CVode method ignores conservation\n",
      "Translating na3_lts.mod into /home/hjorth/HBP/Snudda/examples/notebooks/validation/neuromodulation/x86_64/na3_lts.c\n",
      " -> \u001b[32mNMODL\u001b[0m ../../../../../../BasalGangliaData/data/neurons/mechanisms/na_ch.mod\n",
      "Notice: Assignment to the GLOBAL variable, \"alpha\", is not thread safe\n",
      "Notice: Assignment to the GLOBAL variable, \"beta\", is not thread safe\n",
      "NEURON's CVode method ignores conservation\n",
      "Notice: Assignment to the GLOBAL variable, \"htau\", is not thread safe\n",
      "Notice: Assignment to the GLOBAL variable, \"hinf\", is not thread safe\n",
      "Notice: Assignment to the GLOBAL variable, \"mtau\", is not thread safe\n",
      "Notice: Assignment to the GLOBAL variable, \"minf\", is not thread safe\n",
      "Notice: Assignment to the GLOBAL variable, \"sinf\", is not thread safe\n",
      "Notice: Assignment to the GLOBAL variable, \"taus\", is not thread safe\n",
      "Thread Safe\n",
      " -> \u001b[32mNMODL\u001b[0m ../../../../../../BasalGangliaData/data/neurons/mechanisms/naf_fs.mod\n",
      " -> \u001b[32mNMODL\u001b[0m ../../../../../../BasalGangliaData/data/neurons/mechanisms/naf_lts.mod\n",
      "Translating na_ch.mod into /home/hjorth/HBP/Snudda/examples/notebooks/validation/neuromodulation/x86_64/na_ch.c\n",
      " -> \u001b[32mNMODL\u001b[0m ../../../../../../BasalGangliaData/data/neurons/mechanisms/naf_ms.mod\n",
      "Translating naf_fs.mod into /home/hjorth/HBP/Snudda/examples/notebooks/validation/neuromodulation/x86_64/naf_fs.c\n",
      "Translating naf_lts.mod into /home/hjorth/HBP/Snudda/examples/notebooks/validation/neuromodulation/x86_64/naf_lts.c\n",
      "Translating naf_ms.mod into /home/hjorth/HBP/Snudda/examples/notebooks/validation/neuromodulation/x86_64/naf_ms.c\n",
      "NEURON's CVode method ignores conservation\n",
      "Thread Safe\n",
      "Thread Safe\n",
      " -> \u001b[32mNMODL\u001b[0m ../../../../../../BasalGangliaData/data/neurons/mechanisms/NO.mod\n",
      "Thread Safe\n",
      "Thread Safe\n",
      " -> \u001b[32mNMODL\u001b[0m ../../../../../../BasalGangliaData/data/neurons/mechanisms/par_ggap.mod\n",
      " -> \u001b[32mNMODL\u001b[0m ../../../../../../BasalGangliaData/data/neurons/mechanisms/sk_ch.mod\n",
      " -> \u001b[32mNMODL\u001b[0m ../../../../../../BasalGangliaData/data/neurons/mechanisms/sk_fs.mod\n",
      "Translating NO.mod into /home/hjorth/HBP/Snudda/examples/notebooks/validation/neuromodulation/x86_64/NO.c\n",
      "Translating par_ggap.mod into /home/hjorth/HBP/Snudda/examples/notebooks/validation/neuromodulation/x86_64/par_ggap.c\n",
      "Thread Safe\n",
      "Translating sk_ch.mod into /home/hjorth/HBP/Snudda/examples/notebooks/validation/neuromodulation/x86_64/sk_ch.c\n",
      "Thread Safe\n",
      "Translating sk_fs.mod into /home/hjorth/HBP/Snudda/examples/notebooks/validation/neuromodulation/x86_64/sk_fs.c\n",
      " -> \u001b[32mNMODL\u001b[0m ../../../../../../BasalGangliaData/data/neurons/mechanisms/sk_ms.mod\n",
      " -> \u001b[32mNMODL\u001b[0m ../../../../../../BasalGangliaData/data/neurons/mechanisms/tmgabaa.mod\n",
      "Thread Safe\n",
      "Translating sk_ms.mod into /home/hjorth/HBP/Snudda/examples/notebooks/validation/neuromodulation/x86_64/sk_ms.c\n",
      " -> \u001b[32mNMODL\u001b[0m ../../../../../../BasalGangliaData/data/neurons/mechanisms/tmglut_double.mod\n",
      "Thread Safe\n",
      "Translating tmgabaa.mod into /home/hjorth/HBP/Snudda/examples/notebooks/validation/neuromodulation/x86_64/tmgabaa.c\n",
      " -> \u001b[32mNMODL\u001b[0m ../../../../../../BasalGangliaData/data/neurons/mechanisms/tmglut_M1RH_D1.mod\n",
      "Thread Safe\n",
      "Translating tmglut_double.mod into /home/hjorth/HBP/Snudda/examples/notebooks/validation/neuromodulation/x86_64/tmglut_double.c\n",
      "Notice: VERBATIM blocks are not thread safe\n",
      "Notice: scop_random is not thread safe\n",
      " -> \u001b[32mNMODL\u001b[0m ../../../../../../BasalGangliaData/data/neurons/mechanisms/tmglut.mod\n",
      "Translating tmglut_M1RH_D1.mod into /home/hjorth/HBP/Snudda/examples/notebooks/validation/neuromodulation/x86_64/tmglut_M1RH_D1.c\n",
      " -> \u001b[32mNMODL\u001b[0m ../../../../../../BasalGangliaData/data/neurons/mechanisms/vecevent.mod\n",
      "Translating tmglut.mod into /home/hjorth/HBP/Snudda/examples/notebooks/validation/neuromodulation/x86_64/tmglut.c\n",
      "Thread Safe\n",
      " -> \u001b[32mCompiling\u001b[0m bk_ch.c\n",
      "Translating vecevent.mod into /home/hjorth/HBP/Snudda/examples/notebooks/validation/neuromodulation/x86_64/vecevent.c\n",
      "Thread Safe\n",
      "Notice: ARTIFICIAL_CELL is a synonym for POINT_PROCESS which hints that it\n",
      "only affects and is affected by discrete events. As such it is not\n",
      "located in a section and is not associated with an integrator\n",
      "Thread Safe\n",
      " -> \u001b[32mCompiling\u001b[0m bk_fs.c\n",
      " -> \u001b[32mCompiling\u001b[0m bk_ms.c\n",
      "Thread Safe\n",
      " -> \u001b[32mCompiling\u001b[0m ca_ch.c\n",
      " -> \u001b[32mCompiling\u001b[0m cadyn_fs.c\n",
      " -> \u001b[32mCompiling\u001b[0m cadyn_ms.c\n",
      " -> \u001b[32mCompiling\u001b[0m cal12_ms.c\n",
      " -> \u001b[32mCompiling\u001b[0m cal13_ms.c\n",
      " -> \u001b[32mCompiling\u001b[0m cal_ch.c\n",
      " -> \u001b[32mCompiling\u001b[0m caldyn_ms.c\n",
      " -> \u001b[32mCompiling\u001b[0m can_fs.c\n",
      " -> \u001b[32mCompiling\u001b[0m can_ms.c\n",
      " -> \u001b[32mCompiling\u001b[0m cap_ch.c\n",
      " -> \u001b[32mCompiling\u001b[0m caq_fs.c\n",
      " -> \u001b[32mCompiling\u001b[0m caq_ms.c\n",
      " -> \u001b[32mCompiling\u001b[0m car_fs.c\n",
      " -> \u001b[32mCompiling\u001b[0m car_ms.c\n",
      " -> \u001b[32mCompiling\u001b[0m cat32_ms.c\n",
      " -> \u001b[32mCompiling\u001b[0m cat33_ms.c\n",
      " -> \u001b[32mCompiling\u001b[0m hcn12_ch.c\n",
      " -> \u001b[32mCompiling\u001b[0m hd_lts.c\n",
      " -> \u001b[32mCompiling\u001b[0m im_lts.c\n",
      " -> \u001b[32mCompiling\u001b[0m Im_ms.c\n",
      " -> \u001b[32mCompiling\u001b[0m it_lts.c\n",
      " -> \u001b[32mCompiling\u001b[0m kaf_fs.c\n",
      " -> \u001b[32mCompiling\u001b[0m kaf_lts.c\n",
      " -> \u001b[32mCompiling\u001b[0m kaf_ms.c\n",
      " -> \u001b[32mCompiling\u001b[0m kas_fs.c\n",
      " -> \u001b[32mCompiling\u001b[0m kas_ms.c\n",
      " -> \u001b[32mCompiling\u001b[0m kcnq_ch.c\n",
      " -> \u001b[32mCompiling\u001b[0m kdb_lts.c\n",
      " -> \u001b[32mCompiling\u001b[0m kdrb_lts.c\n",
      " -> \u001b[32mCompiling\u001b[0m kdr_fs.c\n",
      " -> \u001b[32mCompiling\u001b[0m kdr_lts.c\n",
      " -> \u001b[32mCompiling\u001b[0m kdr_ms.c\n",
      " -> \u001b[32mCompiling\u001b[0m kir23_ch.c\n",
      " -> \u001b[32mCompiling\u001b[0m kir23_lts.c\n",
      " -> \u001b[32mCompiling\u001b[0m kir2_ch.c\n",
      " -> \u001b[32mCompiling\u001b[0m kir_fs.c\n",
      " -> \u001b[32mCompiling\u001b[0m kir_ms.c\n",
      " -> \u001b[32mCompiling\u001b[0m kv2_ch.c\n",
      " -> \u001b[32mCompiling\u001b[0m kv4_ch.c\n",
      " -> \u001b[32mCompiling\u001b[0m na2_ch.c\n",
      " -> \u001b[32mCompiling\u001b[0m na3_lts.c\n",
      " -> \u001b[32mCompiling\u001b[0m na_ch.c\n",
      " -> \u001b[32mCompiling\u001b[0m naf_fs.c\n",
      " -> \u001b[32mCompiling\u001b[0m naf_lts.c\n",
      " -> \u001b[32mCompiling\u001b[0m naf_ms.c\n",
      " -> \u001b[32mCompiling\u001b[0m NO.c\n",
      " -> \u001b[32mCompiling\u001b[0m par_ggap.c\n",
      " -> \u001b[32mCompiling\u001b[0m sk_ch.c\n",
      " -> \u001b[32mCompiling\u001b[0m sk_fs.c\n",
      " -> \u001b[32mCompiling\u001b[0m sk_ms.c\n",
      " -> \u001b[32mCompiling\u001b[0m tmgabaa.c\n",
      " -> \u001b[32mCompiling\u001b[0m tmglut_double.c\n",
      " -> \u001b[32mCompiling\u001b[0m tmglut_M1RH_D1.c\n",
      " -> \u001b[32mCompiling\u001b[0m tmglut.c\n",
      " -> \u001b[32mCompiling\u001b[0m vecevent.c\n",
      " => \u001b[32mLINKING\u001b[0m shared library ./libnrnmech.so\n",
      " => \u001b[32mLINKING\u001b[0m executable ./special LDFLAGS are:   -pthread /usr/lib/x86_64-linux-gnu/libreadline.so -Wl,-rpath,/usr/lib/x86_64-linux-gnu /usr/lib/x86_64-linux-gnu/libcurses.so -Wl,-rpath,/usr/lib/x86_64-linux-gnu /usr/lib/x86_64-linux-gnu/libform.so -Wl,-rpath,/usr/lib/x86_64-linux-gnu /usr/lib/x86_64-linux-gnu/libpython3.9.so -Wl,-rpath,/usr/lib/x86_64-linux-gnu /usr/lib/x86_64-linux-gnu/openmpi/lib/libmpi.so -Wl,-rpath,/usr/lib/x86_64-linux-gnu/openmpi/lib /usr/lib/x86_64-linux-gnu/libSM.so -Wl,-rpath,/usr/lib/x86_64-linux-gnu /usr/lib/x86_64-linux-gnu/libICE.so -Wl,-rpath,/usr/lib/x86_64-linux-gnu /usr/lib/x86_64-linux-gnu/libX11.so -Wl,-rpath,/usr/lib/x86_64-linux-gnu /usr/lib/x86_64-linux-gnu/libXext.so -Wl,-rpath,/usr/lib/x86_64-linux-gnu\n",
      "Successfully created x86_64/special\n"
     ]
    }
   ],
   "source": [
    "!nrnivmodl ../../../../../BasalGangliaData/data/neurons/mechanisms"
   ]
  },
  {
   "cell_type": "code",
   "execution_count": null,
   "id": "3056c288-509a-48d3-941a-cd833f31e1b6",
   "metadata": {},
   "outputs": [],
   "source": []
  }
 ],
 "metadata": {
  "kernelspec": {
   "display_name": "Python 3 (ipykernel)",
   "language": "python",
   "name": "python3"
  },
  "language_info": {
   "codemirror_mode": {
    "name": "ipython",
    "version": 3
   },
   "file_extension": ".py",
   "mimetype": "text/x-python",
   "name": "python",
   "nbconvert_exporter": "python",
   "pygments_lexer": "ipython3",
   "version": "3.9.2"
  }
 },
 "nbformat": 4,
 "nbformat_minor": 5
}
