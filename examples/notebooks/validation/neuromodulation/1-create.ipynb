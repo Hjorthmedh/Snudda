{
 "cells": [
  {
   "cell_type": "code",
   "execution_count": 1,
   "id": "ae5992f0-a38a-41e4-95b4-a13a37b40fff",
   "metadata": {},
   "outputs": [],
   "source": [
    "from neuromodulation_sim import *"
   ]
  },
  {
   "cell_type": "code",
   "execution_count": 2,
   "id": "0333aa67-3723-4c09-925a-12f2895e89cc",
   "metadata": {},
   "outputs": [
    {
     "name": "stdout",
     "output_type": "stream",
     "text": [
      "Warning, running in serial.\n"
     ]
    }
   ],
   "source": [
    "import os\n",
    "from ipyparallel import Client\n",
    "\n",
    "os.environ[\"IPYTHONDIR\"] = \".ipython\"\n",
    "os.environ[\"IPYTHON_PROFILE\"] = \"default\"\n",
    "\n",
    "u_file = os.path.join(\".ipython\", \"profile_default\", \"security\", \"ipcontroller-client.json\")\n",
    "if os.path.exists(u_file):\n",
    "    rc = Client(url_file=u_file, timeout=120, debug=False)\n",
    "else:\n",
    "    print(\"Warning, running in serial.\")\n",
    "    rc = None"
   ]
  },
  {
   "cell_type": "code",
   "execution_count": 3,
   "id": "7b7e158e-103b-4d27-8508-e3b0d655f047",
   "metadata": {},
   "outputs": [
    {
     "name": "stdout",
     "output_type": "stream",
     "text": [
      "Setting SNUDDA_DATA to ../../../../../BasalGangliaData/data\n"
     ]
    }
   ],
   "source": [
    "# If the BasalGangliaData directory exists, then use that for our data\n",
    "BG_path = os.path.join(\"..\", \"..\",\"..\",\"..\",\"..\", \"BasalGangliaData\", \"data\")\n",
    "if os.path.exists(BG_path):\n",
    "    os.environ[\"SNUDDA_DATA\"] = BG_path\n",
    "    print(f\"Setting SNUDDA_DATA to {BG_path}\")\n",
    "else:\n",
    "    print(f\"SNUDDA_DATA environment variable not changed (may be empty)\")"
   ]
  },
  {
   "cell_type": "code",
   "execution_count": 4,
   "id": "974e4c36-9d99-46dc-bf4b-fa3b5dcb1608",
   "metadata": {},
   "outputs": [
    {
     "name": "stdout",
     "output_type": "stream",
     "text": [
      "Using cube for striatum\n",
      "Neurons for striatum read from /home/jofrony/Documents/Repositories/BasalGangliaData/data/neurons/striatum\n",
      "Adding neurons: dSPN from dir /home/jofrony/Documents/Repositories/BasalGangliaData/data/neurons/striatum/dspn\n",
      "Writing networks/dopamine_validation/network-config.json\n"
     ]
    }
   ],
   "source": [
    "import os\n",
    "\n",
    "network_path = os.path.join(\"networks/dopamine_validation\")\n",
    "\n",
    "from snudda import SnuddaInit\n",
    "si = SnuddaInit(network_path=network_path, random_seed=12345)\n",
    "si.define_striatum(num_dSPN=10,volume_type=\"cube\")\n",
    "si.write_json()"
   ]
  },
  {
   "cell_type": "code",
   "execution_count": 5,
   "id": "b47aca78-b7ff-4e6c-ac0d-d438e71d4c44",
   "metadata": {},
   "outputs": [],
   "source": [
    "from snudda import SnuddaPlace\n",
    "sp = SnuddaPlace(network_path=network_path, rc=rc)\n",
    "sp.place()"
   ]
  },
  {
   "cell_type": "code",
   "execution_count": 6,
   "id": "bbf49460-97ab-4b7e-a39e-aed07bee4490",
   "metadata": {
    "scrolled": true,
    "tags": []
   },
   "outputs": [
    {
     "name": "stdout",
     "output_type": "stream",
     "text": [
      "No d_view specified, running distribute neurons in serial\n",
      "Processing hyper voxel : 20/80 (10 neurons)\n",
      "Processing hyper voxel : 21/80 (10 neurons)\n",
      "Processing hyper voxel : 37/80 (10 neurons)\n",
      "Processing hyper voxel : 17/80 (10 neurons)\n",
      "Processing hyper voxel : 33/80 (9 neurons)\n",
      "Processing hyper voxel : 36/80 (9 neurons)\n",
      "Processing hyper voxel : 16/80 (7 neurons)\n",
      "Processing hyper voxel : 22/80 (6 neurons)\n",
      "Processing hyper voxel : 5/80 (5 neurons)\n",
      "Processing hyper voxel : 38/80 (5 neurons)\n",
      "Processing hyper voxel : 32/80 (5 neurons)\n",
      "Processing hyper voxel : 18/80 (4 neurons)\n",
      "Processing hyper voxel : 25/80 (4 neurons)\n",
      "Processing hyper voxel : 26/80 (3 neurons)\n",
      "Processing hyper voxel : 1/80 (3 neurons)\n",
      "Processing hyper voxel : 9/80 (2 neurons)\n",
      "Processing hyper voxel : 6/80 (2 neurons)\n",
      "Processing hyper voxel : 41/80 (2 neurons)\n",
      "Processing hyper voxel : 0/80 (1 neurons)\n",
      "Processing hyper voxel : 24/80 (1 neurons)\n",
      "Processing hyper voxel : 34/80 (1 neurons)\n",
      "Processing hyper voxel : 53/80 (1 neurons)\n"
     ]
    }
   ],
   "source": [
    "from snudda import SnuddaDetect\n",
    "\n",
    "sd = SnuddaDetect(network_path=network_path, rc=rc)\n",
    "sd.detect()"
   ]
  },
  {
   "cell_type": "code",
   "execution_count": 7,
   "id": "dcc105e8-0705-426f-b635-0eb8720e7136",
   "metadata": {},
   "outputs": [
    {
     "name": "stdout",
     "output_type": "stream",
     "text": [
      "Read 2074 out of total 2074 synapses\n"
     ]
    }
   ],
   "source": [
    "from snudda import SnuddaPrune\n",
    "\n",
    "sp = SnuddaPrune(network_path=network_path, rc=rc)\n",
    "sp.prune()"
   ]
  },
  {
   "cell_type": "code",
   "execution_count": 8,
   "id": "ccf62261-8e50-43eb-9902-b4baf122fb62",
   "metadata": {},
   "outputs": [
    {
     "name": "stdout",
     "output_type": "stream",
     "text": [
      "Loading 10 neurons with 101 synapses and 0 gap junctions\n"
     ]
    }
   ],
   "source": [
    "generate_current_injection(network_path=network_path)"
   ]
  },
  {
   "cell_type": "code",
   "execution_count": 9,
   "id": "6b257367-f78a-45dd-a261-8890c0bc7cdc",
   "metadata": {},
   "outputs": [],
   "source": [
    "create_modulation()"
   ]
  },
  {
   "cell_type": "code",
   "execution_count": null,
   "id": "9e795e9a-9f63-41af-b44a-9f16b7d2d540",
   "metadata": {},
   "outputs": [],
   "source": []
  }
 ],
 "metadata": {
  "kernelspec": {
   "display_name": "Python 3",
   "language": "python",
   "name": "python3"
  },
  "language_info": {
   "codemirror_mode": {
    "name": "ipython",
    "version": 3
   },
   "file_extension": ".py",
   "mimetype": "text/x-python",
   "name": "python",
   "nbconvert_exporter": "python",
   "pygments_lexer": "ipython3",
   "version": "3.7.10"
  }
 },
 "nbformat": 4,
 "nbformat_minor": 5
}
