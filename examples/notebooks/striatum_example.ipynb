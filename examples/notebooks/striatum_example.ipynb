{
 "cells": [
  {
   "cell_type": "markdown",
   "id": "photographic-florist",
   "metadata": {},
   "source": [
    "# Striatum example network\n",
    "\n",
    "In this notebook we create and simulate an example striatum network. Since it is run locally we have reduced the number of neurons, so to run the full network you have to increase the neuron numbers listed below."
   ]
  },
  {
   "cell_type": "markdown",
   "id": "structural-scene",
   "metadata": {},
   "source": [
    "### Start ipcluster\n",
    "\n",
    "Please first start ```ipcluster```, on linux you type the following into the terminal, note that you should be in the ```Snudda/examples/notebook``` directory:\n",
    "\n",
    "```\n",
    "export IPYTHONDIR=\"`pwd`/.ipython\"\n",
    "export IPYTHON_PROFILE=default\n",
    "ipcluster start \n",
    "```\n",
    "\n",
    "These commands are in ```start_ipcluster.sh``` in the ```examples/notebook``` directory. After starting ipcluster give it a few seconds to get fully up and running before proceeding with the rest of the commands in this notebook. \n",
    "\n",
    "If you restart the run you might need to do:\n",
    "\n",
    "```\n",
    "ipcluster stop\n",
    "ipcluster start\n",
    "```\n",
    "\n",
    "For instructions how to install and activate ipyparallel for your notebook see \n",
    "https://github.com/ipython/ipyparallel"
   ]
  },
  {
   "cell_type": "code",
   "execution_count": 1,
   "id": "brown-bedroom",
   "metadata": {},
   "outputs": [
    {
     "name": "stdout",
     "output_type": "stream",
     "text": [
      "Warning, running in serial.\n"
     ]
    }
   ],
   "source": [
    "import os\n",
    "from ipyparallel import Client\n",
    "\n",
    "os.environ[\"IPYTHONDIR\"] = \".ipython\"\n",
    "os.environ[\"IPYTHON_PROFILE\"] = \"default\"\n",
    "\n",
    "u_file = os.path.join(\".ipython\", \"profile_default\", \"security\", \"ipcontroller-client.json\")\n",
    "if os.path.exists(u_file):\n",
    "    rc = Client(url_file=u_file, timeout=120, debug=False)\n",
    "else:\n",
    "    print(\"Warning, running in serial.\")\n",
    "    rc = None"
   ]
  },
  {
   "cell_type": "markdown",
   "id": "psychological-australia",
   "metadata": {},
   "source": [
    "In ```struct_def``` we define the number of neurons to simulate in the striatum. Since this is an example we do a quite small network."
   ]
  },
  {
   "cell_type": "code",
   "execution_count": 2,
   "id": "civil-finnish",
   "metadata": {},
   "outputs": [
    {
     "name": "stdout",
     "output_type": "stream",
     "text": [
      "Adding Striatum with 20 neurons\n",
      "Using cube for striatum\n",
      "Neurons for striatum read from /home/hjorth/HBP/Snudda/snudda/data/neurons/striatum\n",
      "Adding neurons: dSPN from dir /home/hjorth/HBP/Snudda/snudda/data/neurons/striatum/dspn\n",
      "Adding neurons: iSPN from dir /home/hjorth/HBP/Snudda/snudda/data/neurons/striatum/ispn\n",
      "Writing networks/striatum_example/network-config.json\n"
     ]
    }
   ],
   "source": [
    "import os\n",
    "\n",
    "network_path = os.path.join(\"networks/striatum_example\")\n",
    "\n",
    "from snudda import SnuddaInit\n",
    "struct_def = {\"Striatum\": 20 }\n",
    "\n",
    "si = SnuddaInit(network_path=network_path, struct_def=struct_def, random_seed=123)"
   ]
  },
  {
   "cell_type": "code",
   "execution_count": 3,
   "id": "broadband-indonesian",
   "metadata": {},
   "outputs": [],
   "source": [
    "from snudda import SnuddaPlace\n",
    "sp = SnuddaPlace(network_path=network_path, rc=rc)\n",
    "sp.place()"
   ]
  },
  {
   "cell_type": "code",
   "execution_count": 4,
   "id": "assigned-detector",
   "metadata": {},
   "outputs": [
    {
     "name": "stdout",
     "output_type": "stream",
     "text": [
      "No d_view specified, running distribute neurons in serial\n",
      "Processing hyper voxel : 5/64 (20 neurons)\n",
      "Processing hyper voxel : 21/64 (20 neurons)\n",
      "Processing hyper voxel : 17/64 (20 neurons)\n",
      "Processing hyper voxel : 20/64 (19 neurons)\n",
      "Processing hyper voxel : 1/64 (18 neurons)\n",
      "Processing hyper voxel : 16/64 (16 neurons)\n",
      "Processing hyper voxel : 4/64 (14 neurons)\n",
      "Processing hyper voxel : 0/64 (9 neurons)\n",
      "Processing hyper voxel : 22/64 (8 neurons)\n",
      "Processing hyper voxel : 18/64 (7 neurons)\n",
      "Processing hyper voxel : 6/64 (6 neurons)\n",
      "Processing hyper voxel : 25/64 (6 neurons)\n",
      "Processing hyper voxel : 37/64 (6 neurons)\n",
      "Processing hyper voxel : 2/64 (5 neurons)\n",
      "Processing hyper voxel : 9/64 (2 neurons)\n",
      "Processing hyper voxel : 24/64 (2 neurons)\n",
      "Processing hyper voxel : 33/64 (2 neurons)\n",
      "Processing hyper voxel : 32/64 (1 neurons)\n",
      "Processing hyper voxel : 34/64 (1 neurons)\n",
      "Processing hyper voxel : 36/64 (1 neurons)\n"
     ]
    }
   ],
   "source": [
    "from snudda import SnuddaDetect\n",
    "\n",
    "sd = SnuddaDetect(network_path=network_path, rc=rc)\n",
    "sd.detect()"
   ]
  },
  {
   "cell_type": "code",
   "execution_count": 5,
   "id": "chronic-covering",
   "metadata": {},
   "outputs": [
    {
     "name": "stdout",
     "output_type": "stream",
     "text": [
      "Read 8638 out of total 8638 synapses\n"
     ]
    }
   ],
   "source": [
    "from snudda import SnuddaPrune\n",
    "\n",
    "sp = SnuddaPrune(network_path=network_path, rc=rc)\n",
    "sp.prune()"
   ]
  },
  {
   "cell_type": "markdown",
   "id": "tribal-identification",
   "metadata": {},
   "source": [
    "To generate input and simulate this network in NEURON please see ```striatum_example_simulate.ipynb```.\n",
    "\n",
    "\n",
    "**Important** you need to shut down the kernel in this notebook before running the next notebook, otherwise the hdf5 file will complain that it is already locked.\n"
   ]
  },
  {
   "cell_type": "code",
   "execution_count": null,
   "id": "numeric-society",
   "metadata": {},
   "outputs": [],
   "source": []
  }
 ],
 "metadata": {
  "kernelspec": {
   "display_name": "Python 3",
   "language": "python",
   "name": "python3"
  },
  "language_info": {
   "codemirror_mode": {
    "name": "ipython",
    "version": 3
   },
   "file_extension": ".py",
   "mimetype": "text/x-python",
   "name": "python",
   "nbconvert_exporter": "python",
   "pygments_lexer": "ipython3",
   "version": "3.7.3"
  }
 },
 "nbformat": 4,
 "nbformat_minor": 5
}
