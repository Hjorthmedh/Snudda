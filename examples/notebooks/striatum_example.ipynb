{
 "cells": [
  {
   "cell_type": "markdown",
   "id": "photographic-florist",
   "metadata": {},
   "source": [
    "# Striatum example network\n",
    "\n",
    "In this notebook we create and simulate an example striatum network. Since it is run locally we have reduced the number of neurons, so to run the full network you have to increase the neuron numbers listed below."
   ]
  },
  {
   "cell_type": "markdown",
   "id": "structural-scene",
   "metadata": {},
   "source": [
    "### Start ipcluster\n",
    "\n",
    "Please first start ```ipcluster```, on linux you type the following into the terminal, note that you should be in the ```Snudda/examples/notebook``` directory:\n",
    "\n",
    "```\n",
    "export IPYTHONDIR=\"`pwd`/.ipython\"\n",
    "export IPYTHON_PROFILE=default\n",
    "ipcluster start \n",
    "```\n",
    "\n",
    "These commands are in ```start_ipcluster.sh``` in the ```examples/notebook``` directory. After starting ipcluster give it a few seconds to get fully up and running before proceeding with the rest of the commands in this notebook. \n",
    "\n",
    "If you restart the run you might need to do:\n",
    "\n",
    "```\n",
    "ipcluster stop\n",
    "ipcluster start\n",
    "```\n",
    "\n",
    "For instructions how to install and activate ipyparallel for your notebook see \n",
    "https://github.com/ipython/ipyparallel"
   ]
  },
  {
   "cell_type": "code",
   "execution_count": 1,
   "id": "brown-bedroom",
   "metadata": {},
   "outputs": [],
   "source": [
    "import os\n",
    "from ipyparallel import Client\n",
    "\n",
    "os.environ[\"IPYTHONDIR\"] = \".ipython\"\n",
    "os.environ[\"IPYTHON_PROFILE\"] = \"default\"\n",
    "\n",
    "u_file = os.path.join(\".ipython\", \"profile_default\", \"security\", \"ipcontroller-client.json\")\n",
    "rc = Client(url_file=u_file, timeout=120, debug=False)\n",
    "d_view = rc.direct_view(targets='all')  # rc[:] # Direct view into clients"
   ]
  },
  {
   "cell_type": "code",
   "execution_count": 3,
   "id": "civil-finnish",
   "metadata": {},
   "outputs": [
    {
     "name": "stdout",
     "output_type": "stream",
     "text": [
      "Adding Striatum with 5000 neurons\n",
      "Using cube for striatum\n",
      "Adding neurons: FSN from dir $DATA/neurons/striatum/fs\n",
      "Adding neurons: dSPN from dir $DATA/neurons/striatum/dspn\n",
      "Adding neurons: iSPN from dir $DATA/neurons/striatum/ispn\n",
      "Adding neurons: ChIN from dir $DATA/neurons/striatum/chin\n",
      "Checking boundaries, to make sure P is not too high\n",
      "LTS axon density P([-0.0002],[-0.0001],[-3.e-05]) = [1.84256218e-10]\n",
      "LTS axon density P([-0.0002],[-0.0001],[3.e-05]) = [1.84256218e-10]\n",
      "LTS axon density P([-0.0002],[0.0001],[-3.e-05]) = [1.84256218e-10]\n",
      "LTS axon density P([-0.0002],[0.0001],[3.e-05]) = [1.84256218e-10]\n",
      "LTS axon density P([0.0009],[-0.0001],[-3.e-05]) = [1.72360142e-23]\n",
      "LTS axon density P([0.0009],[-0.0001],[3.e-05]) = [1.72360142e-23]\n",
      "LTS axon density P([0.0009],[0.0001],[-3.e-05]) = [1.72360142e-23]\n",
      "LTS axon density P([0.0009],[0.0001],[3.e-05]) = [1.72360142e-23]\n",
      "Adding neurons: LTS from dir $DATA/neurons/striatum/lts\n",
      "Writing networks/striatum_example/network-config.json\n"
     ]
    },
    {
     "data": {
      "text/plain": [
       "<snudda.init.SnuddaInit at 0x7f1651786828>"
      ]
     },
     "execution_count": 3,
     "metadata": {},
     "output_type": "execute_result"
    }
   ],
   "source": [
    "import os\n",
    "\n",
    "network_path = os.path.join(\"networks/striatum_example\")\n",
    "\n",
    "from snudda.init import SnuddaInit\n",
    "struct_def = {\"Striatum\": 5000 }\n",
    "\n",
    "SnuddaInit(network_path=network_path, struct_def=struct_def, random_seed=123)"
   ]
  },
  {
   "cell_type": "code",
   "execution_count": 4,
   "id": "broadband-indonesian",
   "metadata": {},
   "outputs": [],
   "source": [
    "from snudda.place import SnuddaPlace\n",
    "sp = SnuddaPlace(network_path=network_path, rc=rc)\n",
    "sp.parse_config()\n",
    "sp.write_data()"
   ]
  },
  {
   "cell_type": "code",
   "execution_count": 5,
   "id": "assigned-detector",
   "metadata": {},
   "outputs": [
    {
     "name": "stdout",
     "output_type": "stream",
     "text": [
      "importing SnuddaDetect from snudda.detect on engine(s)\n",
      "HyperID 75 completed - 105157 synapses found (389.5 s)\n",
      "HyperID 45 completed - 120670 synapses found (409.9 s)\n",
      "HyperID 69 completed - 126679 synapses found (459.8 s)\n",
      "HyperID 39 completed - 138073 synapses found (487.4 s)\n",
      "HyperID 98 completed - 3805 synapses found (260.5 s)\n",
      "HyperID 62 completed - 16826 synapses found (358.6 s)\n",
      "HyperID 8 completed - 6228 synapses found (341.5 s)\n",
      "HyperID 32 completed - 16863 synapses found (416.5 s)\n",
      "HyperID 104 completed - 2612 synapses found (218.8 s)\n",
      "HyperID 14 completed - 4713 synapses found (255.5 s)\n",
      "HyperID 61 completed - 5675 synapses found (236.5 s)\n",
      "HyperID 73 completed - 2449988 synapses found (1069.7 s)\n",
      "HyperID 31 completed - 6635 synapses found (274.3 s)\n",
      "HyperID 50 completed - 1111 synapses found (188.0 s)\n",
      "HyperID 80 completed - 1021 synapses found (193.2 s)\n",
      "HyperID 97 completed - 1502 synapses found (153.5 s)\n",
      "HyperID 43 completed - 2841590 synapses found (1234.9 s)\n",
      "HyperID 13 completed - 1771 synapses found (192.1 s)\n",
      "HyperID 7 completed - 1697 synapses found (253.6 s)\n",
      "HyperID 67 completed - 3444698 synapses found (1307.2 s)\n",
      "HyperID 103 completed - 752 synapses found (132.4 s)\n",
      "HyperID 49 completed - 395 synapses found (121.8 s)\n",
      "Suppressing printouts for hyper voxels that complete in < 100 seconds.\n",
      "HyperID 79 completed - 491 synapses found (107.6 s)\n",
      "HyperID 36 completed - 37 synapses found (102.5 s)\n",
      "got unknown result: e33f1d0c-403ba7e637dd25528c4191f1_410\n",
      "HyperID 37 completed - 3964758 synapses found (1513.9 s)\n",
      "HyperID 74 completed - 7057523 synapses found (1555.1 s)\n",
      "HyperID 44 completed - 7636799 synapses found (1632.8 s)\n",
      "HyperID 68 completed - 9534944 synapses found (1751.8 s)\n",
      "HyperID 38 completed - 10418972 synapses found (1878.4 s)\n"
     ]
    }
   ],
   "source": [
    "from snudda.detect import SnuddaDetect\n",
    "\n",
    "sd = SnuddaDetect(network_path=network_path, rc=rc)\n",
    "sd.detect()"
   ]
  },
  {
   "cell_type": "code",
   "execution_count": 6,
   "id": "chronic-covering",
   "metadata": {},
   "outputs": [
    {
     "name": "stdout",
     "output_type": "stream",
     "text": [
      "importing SnuddaPrune from snudda.prune on engine(s)\n",
      "Synapses before pruning: 47913270\n",
      "Synapses after pruning: 2765692 (5.77 % kept)\n",
      "Gap junctions before pruning 1523\n",
      "Gap junctions after pruning 847 (55.61 % kept)\n"
     ]
    }
   ],
   "source": [
    "from snudda.prune import SnuddaPrune\n",
    "\n",
    "sp = SnuddaPrune(network_path=network_path, rc=rc)\n",
    "sp.prune()"
   ]
  },
  {
   "cell_type": "markdown",
   "id": "tribal-identification",
   "metadata": {},
   "source": [
    "To generate input and simulate this network in NEURON please see ```striatum_example_simulate.ipynb```.\n"
   ]
  },
  {
   "cell_type": "code",
   "execution_count": null,
   "id": "numeric-society",
   "metadata": {},
   "outputs": [],
   "source": []
  }
 ],
 "metadata": {
  "kernelspec": {
   "display_name": "Python 3",
   "language": "python",
   "name": "python3"
  },
  "language_info": {
   "codemirror_mode": {
    "name": "ipython",
    "version": 3
   },
   "file_extension": ".py",
   "mimetype": "text/x-python",
   "name": "python",
   "nbconvert_exporter": "python",
   "pygments_lexer": "ipython3",
   "version": "3.7.3"
  }
 },
 "nbformat": 4,
 "nbformat_minor": 5
}
