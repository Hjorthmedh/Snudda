{
 "cells": [
  {
   "cell_type": "markdown",
   "id": "photographic-florist",
   "metadata": {},
   "source": [
    "# Striatum example network\n",
    "\n",
    "In this notebook we create and simulate an example striatum network. Since it is run locally we have reduced the number of neurons, so to run the full network you have to increase the neuron numbers listed below."
   ]
  },
  {
   "cell_type": "markdown",
   "id": "structural-scene",
   "metadata": {},
   "source": [
    "### Start ipcluster\n",
    "\n",
    "Please first start ```ipcluster```, on linux you type the following into the terminal, note that you should be in the ```Snudda/examples/notebook``` directory:\n",
    "\n",
    "```\n",
    "export IPYTHONDIR=\"`pwd`/.ipython\"\n",
    "export IPYTHON_PROFILE=default\n",
    "ipcluster start \n",
    "```\n",
    "\n",
    "These commands are in ```start_ipcluster.sh``` in the ```examples/notebook``` directory. After starting ipcluster give it a few seconds to get fully up and running before proceeding with the rest of the commands in this notebook. \n",
    "\n",
    "If you restart the run you might need to do:\n",
    "\n",
    "```\n",
    "ipcluster stop\n",
    "ipcluster start\n",
    "```\n",
    "\n",
    "For instructions how to install and activate ipyparallel for your notebook see \n",
    "https://github.com/ipython/ipyparallel"
   ]
  },
  {
   "cell_type": "code",
   "execution_count": 1,
   "id": "brown-bedroom",
   "metadata": {},
   "outputs": [],
   "source": [
    "import os\n",
    "from ipyparallel import Client\n",
    "\n",
    "os.environ[\"IPYTHONDIR\"] = \".ipython\"\n",
    "os.environ[\"IPYTHON_PROFILE\"] = \"default\"\n",
    "\n",
    "u_file = os.path.join(\".ipython\", \"profile_default\", \"security\", \"ipcontroller-client.json\")\n",
    "rc = Client(url_file=u_file, timeout=120, debug=False)\n",
    "d_view = rc.direct_view(targets='all')  # rc[:] # Direct view into clients"
   ]
  },
  {
   "cell_type": "markdown",
   "id": "psychological-australia",
   "metadata": {},
   "source": [
    "In ```struct_def``` we define the number of neurons to simulate in the striatum. Since this is an example we do a quite small network."
   ]
  },
  {
   "cell_type": "code",
   "execution_count": 2,
   "id": "civil-finnish",
   "metadata": {},
   "outputs": [
    {
     "name": "stdout",
     "output_type": "stream",
     "text": [
      "Adding Striatum with 500 neurons\n",
      "Using cube for striatum\n",
      "Adding neurons: FSN from dir $DATA/neurons/striatum/fs\n",
      "Adding neurons: dSPN from dir $DATA/neurons/striatum/dspn\n",
      "Adding neurons: iSPN from dir $DATA/neurons/striatum/ispn\n",
      "Adding neurons: ChIN from dir $DATA/neurons/striatum/chin\n",
      "Checking boundaries, to make sure P is not too high\n",
      "LTS axon density P([-0.0002],[-0.0001],[-3.e-05]) = [1.84256218e-10]\n",
      "LTS axon density P([-0.0002],[-0.0001],[3.e-05]) = [1.84256218e-10]\n",
      "LTS axon density P([-0.0002],[0.0001],[-3.e-05]) = [1.84256218e-10]\n",
      "LTS axon density P([-0.0002],[0.0001],[3.e-05]) = [1.84256218e-10]\n",
      "LTS axon density P([0.0009],[-0.0001],[-3.e-05]) = [1.72360142e-23]\n",
      "LTS axon density P([0.0009],[-0.0001],[3.e-05]) = [1.72360142e-23]\n",
      "LTS axon density P([0.0009],[0.0001],[-3.e-05]) = [1.72360142e-23]\n",
      "LTS axon density P([0.0009],[0.0001],[3.e-05]) = [1.72360142e-23]\n",
      "Adding neurons: LTS from dir $DATA/neurons/striatum/lts\n",
      "Writing networks/striatum_example/network-config.json\n"
     ]
    },
    {
     "data": {
      "text/plain": [
       "<snudda.init.SnuddaInit at 0x7efcc23a7978>"
      ]
     },
     "execution_count": 2,
     "metadata": {},
     "output_type": "execute_result"
    }
   ],
   "source": [
    "import os\n",
    "\n",
    "network_path = os.path.join(\"networks/striatum_example\")\n",
    "\n",
    "from snudda.init import SnuddaInit\n",
    "struct_def = {\"Striatum\": 500 }\n",
    "\n",
    "si = SnuddaInit(network_path=network_path, struct_def=struct_def, random_seed=123)"
   ]
  },
  {
   "cell_type": "code",
   "execution_count": 3,
   "id": "broadband-indonesian",
   "metadata": {},
   "outputs": [],
   "source": [
    "from snudda.place import SnuddaPlace\n",
    "sp = SnuddaPlace(network_path=network_path, rc=rc)\n",
    "sp.parse_config()\n",
    "sp.write_data()"
   ]
  },
  {
   "cell_type": "code",
   "execution_count": 4,
   "id": "assigned-detector",
   "metadata": {},
   "outputs": [
    {
     "name": "stdout",
     "output_type": "stream",
     "text": [
      "importing SnuddaDetect from snudda.detect on engine(s)\n",
      "Suppressing printouts for hyper voxels that complete in < 100 seconds.\n",
      "HyperID 31 completed - 5845 synapses found (104.2 s)\n",
      "HyperID 41 completed - 4644 synapses found (109.3 s)\n",
      "HyperID 45 completed - 7825 synapses found (126.7 s)\n",
      "HyperID 21 completed - 8171 synapses found (134.6 s)\n",
      "HyperID 25 completed - 18810 synapses found (141.3 s)\n",
      "HyperID 46 completed - 586328 synapses found (187.8 s)\n",
      "HyperID 26 completed - 1248439 synapses found (236.2 s)\n"
     ]
    }
   ],
   "source": [
    "from snudda.detect import SnuddaDetect\n",
    "\n",
    "sd = SnuddaDetect(network_path=network_path, rc=rc)\n",
    "sd.detect()"
   ]
  },
  {
   "cell_type": "code",
   "execution_count": 5,
   "id": "chronic-covering",
   "metadata": {},
   "outputs": [
    {
     "name": "stdout",
     "output_type": "stream",
     "text": [
      "importing SnuddaPrune from snudda.prune on engine(s)\n",
      "There are few synapses, we will run it in serial instead\n",
      "Synapses before pruning: 1886981\n",
      "Synapses after pruning: 109542 (5.81 % kept)\n",
      "Gap junctions before pruning 48\n",
      "Gap junctions after pruning 27 (56.25 % kept)\n"
     ]
    }
   ],
   "source": [
    "from snudda.prune import SnuddaPrune\n",
    "\n",
    "sp = SnuddaPrune(network_path=network_path, rc=rc)\n",
    "sp.prune()"
   ]
  },
  {
   "cell_type": "markdown",
   "id": "tribal-identification",
   "metadata": {},
   "source": [
    "To generate input and simulate this network in NEURON please see ```striatum_example_simulate.ipynb```.\n"
   ]
  },
  {
   "cell_type": "code",
   "execution_count": null,
   "id": "numeric-society",
   "metadata": {},
   "outputs": [],
   "source": []
  }
 ],
 "metadata": {
  "kernelspec": {
   "display_name": "Python 3",
   "language": "python",
   "name": "python3"
  },
  "language_info": {
   "codemirror_mode": {
    "name": "ipython",
    "version": 3
   },
   "file_extension": ".py",
   "mimetype": "text/x-python",
   "name": "python",
   "nbconvert_exporter": "python",
   "pygments_lexer": "ipython3",
   "version": "3.7.3"
  }
 },
 "nbformat": 4,
 "nbformat_minor": 5
}
