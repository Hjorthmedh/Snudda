{
 "cells": [
  {
   "cell_type": "markdown",
   "id": "photographic-florist",
   "metadata": {},
   "source": [
    "# Striatum example network\n",
    "\n",
    "In this notebook we create and simulate an example striatum network. Since it is run locally we have reduced the number of neurons, so to run the full network you have to increase the neuron numbers listed below."
   ]
  },
  {
   "cell_type": "markdown",
   "id": "structural-scene",
   "metadata": {},
   "source": [
    "### Start ipcluster\n",
    "\n",
    "Please first start ```ipcluster```, on linux you type the following into the terminal, note that you should be in the ```Snudda/examples/notebook``` directory:\n",
    "\n",
    "```\n",
    "export IPYTHONDIR=\"`pwd`/.ipython\"\n",
    "export IPYTHON_PROFILE=default\n",
    "ipcluster start \n",
    "```\n",
    "\n",
    "These commands are in ```start_ipcluster.sh``` in the ```examples/notebook``` directory. After starting ipcluster give it a few seconds to get fully up and running before proceeding with the rest of the commands in this notebook. \n",
    "\n",
    "If you restart the run you might need to do:\n",
    "\n",
    "```\n",
    "ipcluster stop\n",
    "ipcluster start\n",
    "```\n",
    "\n",
    "For instructions how to install and activate ipyparallel for your notebook see \n",
    "https://github.com/ipython/ipyparallel"
   ]
  },
  {
   "cell_type": "code",
   "execution_count": 1,
   "id": "brown-bedroom",
   "metadata": {},
   "outputs": [
    {
     "name": "stdout",
     "output_type": "stream",
     "text": [
      "Warning, running in serial.\n"
     ]
    }
   ],
   "source": [
    "import os\n",
    "from ipyparallel import Client\n",
    "\n",
    "os.environ[\"IPYTHONDIR\"] = \".ipython\"\n",
    "os.environ[\"IPYTHON_PROFILE\"] = \"default\"\n",
    "\n",
    "u_file = os.path.join(\".ipython\", \"profile_default\", \"security\", \"ipcontroller-client.json\")\n",
    "if os.path.exists(u_file):\n",
    "    rc = Client(url_file=u_file, timeout=120, debug=False)\n",
    "else:\n",
    "    print(\"Warning, running in serial.\")\n",
    "    rc = None\n",
    "\n",
    "bg_path = \"../../../BasalGangliaData/data/\"\n",
    "if os.path.isdir(bg_path):\n",
    "    snudda_data = bg_path\n",
    "else:\n",
    "    snudda_data = None"
   ]
  },
  {
   "cell_type": "markdown",
   "id": "psychological-australia",
   "metadata": {},
   "source": [
    "In ```struct_def``` we define the number of neurons to simulate in the striatum. Since this is an example we do a quite small network."
   ]
  },
  {
   "cell_type": "code",
   "execution_count": 2,
   "id": "civil-finnish",
   "metadata": {},
   "outputs": [
    {
     "name": "stdout",
     "output_type": "stream",
     "text": [
      "Adding Striatum with 20 neurons\n",
      "Using cube for striatum\n",
      "Neurons for striatum read from /home/hjorth/HBP/BasalGangliaData/data/neurons/striatum\n",
      "Adding neurons: dSPN from dir /home/hjorth/HBP/BasalGangliaData/data/neurons/striatum/dspn\n",
      "Adding neurons: iSPN from dir /home/hjorth/HBP/BasalGangliaData/data/neurons/striatum/ispn\n",
      "Writing networks/striatum_example/network-config.json\n"
     ]
    }
   ],
   "source": [
    "import os\n",
    "\n",
    "network_path = os.path.join(\"networks/striatum_example\")\n",
    "\n",
    "from snudda import SnuddaInit\n",
    "struct_def = {\"Striatum\": 20 }\n",
    "\n",
    "si = SnuddaInit(network_path=network_path, struct_def=struct_def, random_seed=123, snudda_data=snudda_data)"
   ]
  },
  {
   "cell_type": "code",
   "execution_count": 3,
   "id": "broadband-indonesian",
   "metadata": {},
   "outputs": [
    {
     "name": "stdout",
     "output_type": "stream",
     "text": [
      "Reading SNUDDA_DATA=../../../BasalGangliaData/data/ from networks/striatum_example/network-config.json\n"
     ]
    }
   ],
   "source": [
    "from snudda import SnuddaPlace\n",
    "sp = SnuddaPlace(network_path=network_path, rc=rc)\n",
    "sp.place()"
   ]
  },
  {
   "cell_type": "code",
   "execution_count": 4,
   "id": "assigned-detector",
   "metadata": {},
   "outputs": [
    {
     "name": "stdout",
     "output_type": "stream",
     "text": [
      "Reading SNUDDA_DATA=../../../BasalGangliaData/data/ from networks/striatum_example/network-config.json\n",
      "No d_view specified, running distribute neurons in serial\n",
      "Processing hyper voxel : 26/80 (20 neurons)\n",
      "Processing hyper voxel : 6/80 (20 neurons)\n",
      "Processing hyper voxel : 31/80 (19 neurons)\n",
      "Processing hyper voxel : 21/80 (18 neurons)\n",
      "Processing hyper voxel : 27/80 (16 neurons)\n",
      "Processing hyper voxel : 11/80 (16 neurons)\n",
      "Processing hyper voxel : 1/80 (14 neurons)\n",
      "Processing hyper voxel : 7/80 (14 neurons)\n",
      "Processing hyper voxel : 25/80 (11 neurons)\n",
      "Processing hyper voxel : 5/80 (10 neurons)\n",
      "Processing hyper voxel : 32/80 (7 neurons)\n",
      "Processing hyper voxel : 30/80 (6 neurons)\n",
      "Processing hyper voxel : 46/80 (6 neurons)\n",
      "Processing hyper voxel : 22/80 (5 neurons)\n",
      "Processing hyper voxel : 20/80 (4 neurons)\n",
      "Processing hyper voxel : 10/80 (4 neurons)\n",
      "Processing hyper voxel : 41/80 (3 neurons)\n",
      "Processing hyper voxel : 47/80 (3 neurons)\n",
      "Processing hyper voxel : 52/80 (3 neurons)\n",
      "Processing hyper voxel : 12/80 (3 neurons)\n",
      "Processing hyper voxel : 51/80 (3 neurons)\n",
      "Processing hyper voxel : 42/80 (2 neurons)\n",
      "Processing hyper voxel : 45/80 (2 neurons)\n",
      "Processing hyper voxel : 2/80 (2 neurons)\n",
      "Processing hyper voxel : 0/80 (2 neurons)\n",
      "Processing hyper voxel : 8/80 (1 neurons)\n",
      "Processing hyper voxel : 3/80 (1 neurons)\n"
     ]
    }
   ],
   "source": [
    "from snudda import SnuddaDetect\n",
    "\n",
    "sd = SnuddaDetect(network_path=network_path, rc=rc)\n",
    "sd.detect()"
   ]
  },
  {
   "cell_type": "code",
   "execution_count": 5,
   "id": "chronic-covering",
   "metadata": {},
   "outputs": [
    {
     "name": "stdout",
     "output_type": "stream",
     "text": [
      "Read 7344 out of total 7344 synapses\n"
     ]
    }
   ],
   "source": [
    "from snudda import SnuddaPrune\n",
    "\n",
    "sp = SnuddaPrune(network_path=network_path, rc=rc)\n",
    "sp.prune()"
   ]
  },
  {
   "cell_type": "markdown",
   "id": "tribal-identification",
   "metadata": {},
   "source": [
    "To generate input and simulate this network in NEURON please see ```striatum_example_simulate.ipynb```.\n",
    "\n",
    "\n",
    "**Important** you need to shut down the kernel in this notebook before running the next notebook, otherwise the hdf5 file will complain that it is already locked.\n"
   ]
  },
  {
   "cell_type": "code",
   "execution_count": null,
   "id": "numeric-society",
   "metadata": {},
   "outputs": [],
   "source": []
  }
 ],
 "metadata": {
  "kernelspec": {
   "display_name": "Python 3 (ipykernel)",
   "language": "python",
   "name": "python3"
  },
  "language_info": {
   "codemirror_mode": {
    "name": "ipython",
    "version": 3
   },
   "file_extension": ".py",
   "mimetype": "text/x-python",
   "name": "python",
   "nbconvert_exporter": "python",
   "pygments_lexer": "ipython3",
   "version": "3.9.2"
  }
 },
 "nbformat": 4,
 "nbformat_minor": 5
}
