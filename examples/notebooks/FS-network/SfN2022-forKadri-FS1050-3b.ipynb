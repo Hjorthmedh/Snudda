{
 "cells": [
  {
   "cell_type": "code",
   "execution_count": 1,
   "id": "1174e61c",
   "metadata": {},
   "outputs": [],
   "source": [
    "import os\n",
    "import numpy as np\n",
    "\n",
    "network_path = \"forKadri-FS1050-1\"\n",
    "input_name = \"SfN2022-forKadri-oscillating-50Hz-ramp-up-background\"\n",
    "sim_file_gj = os.path.join(network_path, \"simulation\", f\"output-GJ-{input_name}.hdf5\")\n",
    "sim_file_nogj = os.path.join(network_path, \"simulation\", f\"output-noGJ-{input_name}.hdf5\")\n",
    "fig_path = os.path.join(network_path, \"figures\")\n",
    "sl = None\n",
    "sls_gj = None\n",
    "sls_nogj = None"
   ]
  },
  {
   "cell_type": "code",
   "execution_count": null,
   "id": "62c69d4a",
   "metadata": {},
   "outputs": [
    {
     "name": "stdout",
     "output_type": "stream",
     "text": [
      "Loading 1050 neurons with 20763 synapses and 10598 gap junctions\n",
      "Loading forKadri-FS1050-1/simulation/output-GJ-SfN2022-forKadri-oscillating-50Hz-ramp-up-background.hdf5\n"
     ]
    }
   ],
   "source": [
    "from snudda.utils import SnuddaLoad\n",
    "from snudda.utils import SnuddaLoadNetworkSimulation\n",
    "\n",
    "sl = SnuddaLoad(network_path)\n",
    "sls_gj = SnuddaLoadNetworkSimulation(network_simulation_output_file=sim_file_gj)\n",
    "sls_nogj = SnuddaLoadNetworkSimulation(network_simulation_output_file=sim_file_nogj)"
   ]
  },
  {
   "cell_type": "code",
   "execution_count": null,
   "id": "173aa76b",
   "metadata": {},
   "outputs": [],
   "source": [
    "from snudda.plotting import PlotInput\n",
    "input_file = os.path.join(network_path, f\"{input_name}.hdf5\")\n",
    "spi = PlotInput(input_file)"
   ]
  },
  {
   "cell_type": "code",
   "execution_count": null,
   "id": "738684ee",
   "metadata": {},
   "outputs": [],
   "source": [
    "spi.plot_input(num_neurons=5, neuron_type=\"FS\", fig_size=(15,5))"
   ]
  },
  {
   "cell_type": "code",
   "execution_count": null,
   "id": "c004b724",
   "metadata": {},
   "outputs": [],
   "source": [
    "from snudda.plotting import SnuddaPlotSpikeRaster2\n",
    "fig_file_1 = f\"spike-raster-osc-GJ-{input_name}.png\"\n",
    "fig_file_2 = f\"spike-histogram-osc-GJ-{input_name}.png\"\n",
    "spr = SnuddaPlotSpikeRaster2(network_path=network_path, simulation_file=sim_file_gj, figure_path=fig_path,\n",
    "                             snudda_load=sl, snudda_simulation_load=sls_gj)"
   ]
  },
  {
   "cell_type": "code",
   "execution_count": null,
   "id": "e6b0ecff",
   "metadata": {},
   "outputs": [],
   "source": [
    "# spr.plot_spike_raster(fig_file=fig_file_1)"
   ]
  },
  {
   "cell_type": "code",
   "execution_count": null,
   "id": "1bfc26f0",
   "metadata": {},
   "outputs": [],
   "source": [
    "spr.plot_spike_histogram(fig_file=fig_file_2, bin_size=10e-3)"
   ]
  },
  {
   "cell_type": "code",
   "execution_count": null,
   "id": "7476b15b",
   "metadata": {},
   "outputs": [],
   "source": [
    "time_range = (6,8)\n",
    "fig_file_3 = f\"spike-period-histogram-osc-GJ-{input_name}-range-{time_range[0]}-{time_range[1]}.png\"\n",
    "\n",
    "spr.plot_period_histogram_mod(neuron_id=None, period=1/20, time_range=time_range, fig_file=fig_file_3)"
   ]
  },
  {
   "cell_type": "code",
   "execution_count": null,
   "id": "256cec53",
   "metadata": {},
   "outputs": [],
   "source": [
    "from snudda.plotting import SnuddaPlotSpikeRaster2\n",
    "fig_file_1b = f\"spike-raster-osc-noGJ-{input_name}.png\"\n",
    "fig_file_2b = f\"spike-histogram-osc-noGJ-{input_name}.png\"\n",
    "spr2 = SnuddaPlotSpikeRaster2(network_path=network_path, simulation_file=sim_file_nogj, figure_path=fig_path,\n",
    "                             snudda_load=sl, snudda_simulation_load=sls_nogj)"
   ]
  },
  {
   "cell_type": "code",
   "execution_count": null,
   "id": "e57cb295",
   "metadata": {},
   "outputs": [],
   "source": [
    "# spr2.plot_spike_raster(fig_file=fig_file_1b)"
   ]
  },
  {
   "cell_type": "code",
   "execution_count": null,
   "id": "adab713e",
   "metadata": {},
   "outputs": [],
   "source": [
    "spr2.plot_spike_histogram(fig_file=fig_file_2b, bin_size=0.010)"
   ]
  },
  {
   "cell_type": "code",
   "execution_count": null,
   "id": "aa1b7710",
   "metadata": {},
   "outputs": [],
   "source": [
    "time_range = (6,8)\n",
    "fig_file_3b = f\"spike-period-histogram-osc-noGJ-{input_name}-range-{time_range[0]}-{time_range[1]}.png\"\n",
    "\n",
    "spr2.plot_period_histogram_mod(neuron_id=None, period=1/20, time_range=time_range, fig_file=fig_file_3b)"
   ]
  },
  {
   "cell_type": "code",
   "execution_count": null,
   "id": "c5eddfc7",
   "metadata": {},
   "outputs": [],
   "source": [
    "from snudda.plotting.plot_cross_correlogram import PlotCrossCorrelogram\n",
    "pcc1 = PlotCrossCorrelogram(sim_file_gj, snudda_simulation_load=sls_gj)"
   ]
  },
  {
   "cell_type": "code",
   "execution_count": null,
   "id": "c154aa02",
   "metadata": {
    "scrolled": true
   },
   "outputs": [],
   "source": [
    "time_range = (6, 8)\n",
    "fig_name = os.path.join(fig_path, f\"FS-cross-correlogram-GJ-{input_name}-range-{time_range[0]}-{time_range[1]}\")\n",
    "                        \n",
    "pcc1.plot_all_pair_cross_correlogram(neuron_id=None, time_range=time_range,\n",
    "                                     fig_file_name=fig_name)"
   ]
  },
  {
   "cell_type": "code",
   "execution_count": null,
   "id": "ad804866",
   "metadata": {},
   "outputs": [],
   "source": [
    "from snudda.plotting.plot_cross_correlogram import PlotCrossCorrelogram\n",
    "pcc2 = PlotCrossCorrelogram(sim_file_nogj, snudda_simulation_load=sls_nogj)"
   ]
  },
  {
   "cell_type": "code",
   "execution_count": null,
   "id": "fd8fffc4",
   "metadata": {},
   "outputs": [],
   "source": [
    "time_range = (6, 8)\n",
    "fig_name = os.path.join(fig_path, f\"FS-cross-correlogram-noGJ-{input_name}-range-{time_range[0]}-{time_range[1]}\")\n",
    "                        \n",
    "pcc2.plot_all_pair_cross_correlogram(neuron_id=None, time_range=time_range,\n",
    "                                     fig_file_name=fig_name)"
   ]
  },
  {
   "cell_type": "code",
   "execution_count": null,
   "id": "4169f337",
   "metadata": {},
   "outputs": [],
   "source": []
  },
  {
   "cell_type": "code",
   "execution_count": null,
   "id": "f1a2ce5a",
   "metadata": {},
   "outputs": [],
   "source": []
  }
 ],
 "metadata": {
  "kernelspec": {
   "display_name": "Python 3 (ipykernel)",
   "language": "python",
   "name": "python3"
  },
  "language_info": {
   "codemirror_mode": {
    "name": "ipython",
    "version": 3
   },
   "file_extension": ".py",
   "mimetype": "text/x-python",
   "name": "python",
   "nbconvert_exporter": "python",
   "pygments_lexer": "ipython3",
   "version": "3.9.2"
  }
 },
 "nbformat": 4,
 "nbformat_minor": 5
}
