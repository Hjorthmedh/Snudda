{
 "cells": [
  {
   "cell_type": "markdown",
   "id": "cbc05cc5",
   "metadata": {},
   "source": [
    "## Detection of correlated input to FS with and without gap junctions.\n",
    "\n",
    "Here we run one population unit, and steadily increase the input frequency to see roughly what level of activity we should use for the experiment."
   ]
  },
  {
   "cell_type": "code",
   "execution_count": 1,
   "id": "2b880953",
   "metadata": {},
   "outputs": [],
   "source": [
    "import os\n",
    "import numpy as np\n",
    "\n",
    "os.environ[\"SNUDDA_DATA\"] = \"../../../../BasalGangliaData/data/\"\n",
    "assert os.path.isdir(os.getenv(\"SNUDDA_DATA\")), f\"You need to have BasalGangliaData installed for this example.\"\n",
    "\n",
    "network_path = os.path.join(\"networks\", \"FS-input-correlation-detection-4-dopamine\")\n",
    "rc = None"
   ]
  },
  {
   "cell_type": "code",
   "execution_count": null,
   "id": "02559ee1",
   "metadata": {},
   "outputs": [],
   "source": [
    "from snudda import SnuddaInit\n",
    "si = SnuddaInit(network_path=network_path, random_seed=12345)\n",
    "si.define_striatum(num_dSPN=0, num_iSPN=0, num_FS=50, num_LTS=0, num_ChIN=0)\n",
    "\n",
    "# The centre of the cube is [0.00475, 0.004, 0.00775]. num_neurons is optional\n",
    "# First test, we place units on top of each other -- set num_neurons to 8\n",
    "if False:\n",
    "    si.add_population_unit_density(structure_name=\"Striatum\", neuron_types=[\"FS\"], unit_id=1, \n",
    "                                   unit_centre=np.array([0.00475, 0.004, 0.00775]) -np.array([0, 100e-6, 0]),\n",
    "                                   probability_function=\"(d < 300e-6)*1\", num_neurons=20)\n",
    "    si.add_population_unit_density(structure_name=\"Striatum\", neuron_types=[\"FS\"], unit_id=2, \n",
    "                                   unit_centre=np.array([0.00475, 0.004, 0.00775]) -np.array([0, 0, 100e-6]),\n",
    "                                   probability_function=\"(d < 300e-6) * 1\", num_neurons=20)\n",
    "else:\n",
    "    si.add_population_unit_random(structure_name=\"Striatum\", neuron_types=[\"FS\"], fraction_of_neurons=1, unit_id=1)\n",
    "    \n",
    "si.write_json()"
   ]
  },
  {
   "cell_type": "code",
   "execution_count": null,
   "id": "48ce7c88",
   "metadata": {},
   "outputs": [],
   "source": [
    "# Smaller network -- TESTING\n",
    "if False:\n",
    "    from snudda import SnuddaInit\n",
    "    si = SnuddaInit(network_path=network_path, random_seed=12345)\n",
    "    si.define_striatum(num_dSPN=0, num_iSPN=0, num_FS=10, num_LTS=0, num_ChIN=0)\n",
    "\n",
    "    # The centre of the cube is [0.00475, 0.004, 0.00775]. num_neurons is optional\n",
    "    # First test, we place units on top of each other -- set num_neurons to 8\n",
    "    si.add_population_unit_density(structure_name=\"Striatum\", neuron_types=[\"FS\"], unit_id=1, \n",
    "                                   unit_centre=np.array([0.00475, 0.004, 0.00775]) -np.array([0, 100e-6, 0]),\n",
    "                                   probability_function=\"(d < 300e-6)*1\", num_neurons=4)\n",
    "    si.add_population_unit_density(structure_name=\"Striatum\", neuron_types=[\"FS\"], unit_id=2, \n",
    "                                   unit_centre=np.array([0.00475, 0.004, 0.00775]) -np.array([0, 0, 100e-6]),\n",
    "                                   probability_function=\"(d < 300e-6) * 1\", num_neurons=4)\n",
    "\n",
    "    si.write_json()"
   ]
  },
  {
   "cell_type": "code",
   "execution_count": null,
   "id": "9a871b0f",
   "metadata": {},
   "outputs": [],
   "source": [
    "from snudda import SnuddaPlace\n",
    "sp = SnuddaPlace(network_path=network_path)\n",
    "sp.place()"
   ]
  },
  {
   "cell_type": "markdown",
   "id": "a5fc7139",
   "metadata": {},
   "source": [
    "### Plotting the network\n",
    "Plotting the network to verify that the population units are placed the way we expect."
   ]
  },
  {
   "cell_type": "code",
   "execution_count": null,
   "id": "2787d727",
   "metadata": {},
   "outputs": [],
   "source": [
    "from snudda.plotting import PlotNetwork\n",
    "pos_file = os.path.join(network_path, \"network-neuron-positions.hdf5\")\n",
    "\n",
    "pn = PlotNetwork(pos_file)\n",
    "pn.plot_populations()\n",
    "\n",
    "# The commented code below also plots the network, but with the option to plot more detail of the neurons:\n",
    "# pn = PlotNetwork(network_path)\n",
    "# pn.plot(plot_axon=False, plot_dendrite=False, plot_synapses=False, colour_population_unit=True)\n",
    "\n",
    "pn.close()  # Close the hdf5 file so others can use it (or better shut down kernel after)"
   ]
  },
  {
   "cell_type": "markdown",
   "id": "523f4c37",
   "metadata": {},
   "source": [
    "### Check if ipyparallel running\n",
    "For larger networks it is useful to run network creation in parallel."
   ]
  },
  {
   "cell_type": "code",
   "execution_count": null,
   "id": "290c146d",
   "metadata": {},
   "outputs": [],
   "source": [
    "import os\n",
    "from ipyparallel import Client\n",
    "\n",
    "os.environ[\"IPYTHONDIR\"] = \".ipython\"\n",
    "os.environ[\"IPYTHON_PROFILE\"] = \"default\"\n",
    "\n",
    "u_file = os.path.join(\".ipython\", \"profile_default\", \"security\", \"ipcontroller-client.json\")\n",
    "if os.path.exists(u_file):\n",
    "    rc = Client(url_file=u_file, timeout=120, debug=False)\n",
    "else:\n",
    "    print(\"Warning, running in serial.\")\n",
    "    rc = None"
   ]
  },
  {
   "cell_type": "code",
   "execution_count": null,
   "id": "3a8d0e19",
   "metadata": {},
   "outputs": [],
   "source": [
    "from snudda import SnuddaDetect\n",
    "\n",
    "sd = SnuddaDetect(network_path=network_path, rc=rc, verbose=False)\n",
    "sd.detect()"
   ]
  },
  {
   "cell_type": "code",
   "execution_count": null,
   "id": "bd365921",
   "metadata": {},
   "outputs": [],
   "source": [
    "from snudda import SnuddaPrune\n",
    "\n",
    "sp = SnuddaPrune(network_path=network_path, rc=rc, verbose=False)\n",
    "sp.prune()"
   ]
  },
  {
   "cell_type": "markdown",
   "id": "d33b743b",
   "metadata": {},
   "source": [
    "### Generate input\n",
    "\n",
    "Next we generate the input according to specifications in [FS-input-correlation-detection-4.json](FS-input-correlation-detection-4.json)\n",
    "\n",
    "Here each FS neuron receives 100 extra cortical inputs (```nInputs=100```) at 7.5Hz. The correlation is 0.7 (```populationUnitCorrelation=0.7```), and the two first seconds are discarded. For five seconds the correlation is only within the neuron (```populationUnitCorrelationFactor=0```), then the following five seconds the correlation is within the population unit (```populationUnitCorrelationFactor=1```). Then another five seconds of correlation within the neuron only, and then five seconds with correlation within the population unit ."
   ]
  },
  {
   "cell_type": "code",
   "execution_count": null,
   "id": "908d5b84",
   "metadata": {},
   "outputs": [],
   "source": [
    "from snudda.input import SnuddaInput\n",
    "si = SnuddaInput(network_path=network_path, \n",
    "                 input_config_file=os.path.join(\"FS-input-correlation-detection-4.json\"),\n",
    "                 time=22,\n",
    "                 rc=rc, verbose=False)\n",
    "si.generate()"
   ]
  },
  {
   "cell_type": "markdown",
   "id": "8fb3a316",
   "metadata": {},
   "source": [
    "### Plot the input to verify it looks reasonable"
   ]
  },
  {
   "cell_type": "code",
   "execution_count": null,
   "id": "51e7ce35",
   "metadata": {},
   "outputs": [],
   "source": [
    "from snudda.plotting import PlotInput\n",
    "input_file = os.path.join(network_path, \"input-spikes.hdf5\")\n",
    "spi = PlotInput(input_file)"
   ]
  },
  {
   "cell_type": "markdown",
   "id": "4a75cd56",
   "metadata": {},
   "source": [
    "Input to FS population unit 1. We successively increase the input frequency for cortical signal every 2 seconds. The second half of each period has correlation between the units with the population unit, the first does not (correlation is then only within the neuron)."
   ]
  },
  {
   "cell_type": "code",
   "execution_count": null,
   "id": "24db6fd5",
   "metadata": {},
   "outputs": [],
   "source": [
    "spi.plot_input_population_unit(population_unit_id=1, num_neurons=2, neuron_type=\"FS\", fig_size=(15,5))"
   ]
  },
  {
   "cell_type": "markdown",
   "id": "3bbba46e",
   "metadata": {},
   "source": [
    "Setup neuromodulation, see example https://github.com/jofrony/Neuromodulation-software/blob/main/examples/Example-replay-neuromodulation.ipynb"
   ]
  },
  {
   "cell_type": "code",
   "execution_count": null,
   "id": "2ca20173",
   "metadata": {},
   "outputs": [],
   "source": [
    "from snudda.neuromodulation.modulation_network import Neuromodulation\n",
    "\n",
    "nl = Neuromodulation()\n",
    "nl.set_timestep(dt=0.025)\n",
    "nl.set_modulation(neurotransmitter = 'dopamine', neurotransmitter_key = 'DA')\n",
    "# Duration is the duration of the entire simulation (in milliseconds)\n",
    "nl.transient(neurotransmitter='dopamine',\\\n",
    "             method='alpha_repetition',\\\n",
    "             duration= 22000,\\\n",
    "             parameters={\"tstart\" : [12000, 17000], \"gmax\" : 1, \"tau\" : 300})\n",
    "\n",
    "nl.ion_channel_modulation(neurotransmitter = 'dopamine',\\\n",
    "                          cell_type = 'dSPN',\\\n",
    "                          section = 'soma',\\\n",
    "                          ion_channels = [\"cal12_ms\",\"cal13_ms\",\"kir_ms\",\"kas_ms\",\"naf_ms\",\"can_ms\"])\n",
    "nl.ion_channel_modulation(neurotransmitter = 'dopamine',\\\n",
    "                          cell_type = 'dSPN',\\\n",
    "                          section = 'dendrite',\\\n",
    "                          ion_channels = [\"kir_ms\",\"kas_ms\",\"kaf_ms\",\"cal12_ms\",\"cal13_ms\"])\n",
    "nl.ion_channel_modulation(neurotransmitter = 'dopamine',\\\n",
    "                          cell_type = 'dSPN',\\\n",
    "                          section = 'axon',\\\n",
    "                          ion_channels = [])\n",
    "\n",
    "nl.ion_channel_modulation(neurotransmitter = 'dopamine',\\\n",
    "                          cell_type = 'iSPN',\\\n",
    "                          section = 'soma',\\\n",
    "                          ion_channels = [\"kir_ms\",\"kas_ms\",\"kaf_ms\",\"naf_ms\",\"cal12_ms\",\"cal13_ms\", \"can_ms\",\"car_ms\"])\n",
    "nl.ion_channel_modulation(neurotransmitter = 'dopamine',\\\n",
    "                          cell_type = 'iSPN',\\\n",
    "                          section = 'dendrite',\\\n",
    "                          ion_channels = [\"kir_ms\",\"kas_ms\",\"kaf_ms\",\"naf_ms\",\"cal12_ms\",\"cal13_ms\", \"can_ms\",\"car_ms\"])\n",
    "nl.ion_channel_modulation(neurotransmitter = 'dopamine',\\\n",
    "                          cell_type = 'iSPN',\\\n",
    "                          section = 'axon',\\\n",
    "                          ion_channels = [\"kir_ms\",\"kas_ms\",\"kaf_ms\",\"naf_ms\",\"cal12_ms\",\"cal13_ms\", \"can_ms\",\"car_ms\"])\n",
    "\n",
    "nl.ion_channel_modulation(neurotransmitter = 'dopamine',\\\n",
    "                          cell_type = 'FS',\\\n",
    "                          section = 'soma',\\\n",
    "                          ion_channels = ['kir_fs','kas_fs','kaf_fs','naf_fs'])\n",
    "nl.ion_channel_modulation(neurotransmitter = 'dopamine',\\\n",
    "                          cell_type = 'FS',\\\n",
    "                          section = 'dendrite',\\\n",
    "                          ion_channels = ['kir_fs'])\n",
    "nl.ion_channel_modulation(neurotransmitter = 'dopamine',\\\n",
    "                          cell_type = 'FS',\\\n",
    "                          section = 'axon',\\\n",
    "                          ion_channels = [])\n",
    "\n",
    "\n",
    "nl.save(dir_path=network_path,name='dopamine_modulation.json')"
   ]
  },
  {
   "cell_type": "markdown",
   "id": "3b8d1365",
   "metadata": {},
   "source": [
    "### Compile neuron modules"
   ]
  },
  {
   "cell_type": "code",
   "execution_count": null,
   "id": "65713403",
   "metadata": {},
   "outputs": [],
   "source": [
    "!nrnivmodl ../../../../BasalGangliaData/data/neurons/mechanisms"
   ]
  },
  {
   "cell_type": "markdown",
   "id": "3af4b2bc",
   "metadata": {},
   "source": [
    "### Run the simulation"
   ]
  },
  {
   "cell_type": "markdown",
   "id": "f52598d2",
   "metadata": {},
   "source": [
    "If you run the ```snudda simulate``` command in a terminal window, make sure to set ```SNUDDA_DATA``` using ```export SNUDDA=/path/to/BasalGangliaData```"
   ]
  },
  {
   "cell_type": "code",
   "execution_count": null,
   "id": "8e88d0ed",
   "metadata": {},
   "outputs": [],
   "source": [
    "!mpiexec -n 6 snudda simulate networks/FS-input-correlation-detection-4-dopamine --time 22 --neuromodulation networks/FS-input-correlation-detection-4-dopamine/dopamine_modulation.json --verbose"
   ]
  },
  {
   "cell_type": "code",
   "execution_count": null,
   "id": "c2324c0a",
   "metadata": {
    "scrolled": true
   },
   "outputs": [],
   "source": [
    "from snudda.plotting.plot_cross_correlogram import PlotCrossCorrelogram\n",
    "pcc1 = PlotCrossCorrelogram(os.path.join(network_path, \"simulation\", \"output.hdf5\"))\n",
    "pcc1.plot_all_pair_cross_correlogram(neuron_id=None, time_range=(2,7),\n",
    "                                     fig_file_name=os.path.join(network_path, \"figures\", \"FS-cross-corr-2-7s.pdf\"))\n",
    "pcc1.plot_all_pair_cross_correlogram(neuron_id=None, time_range=(7,12),\n",
    "                                     fig_file_name=os.path.join(network_path, \"figures\", \"FS-cross-corr-7-12s.pdf\"))\n",
    "pcc1.plot_all_pair_cross_correlogram(neuron_id=None, time_range=(12,17),\n",
    "                                     fig_file_name=os.path.join(network_path, \"figures\", \"FS-cross-corr-12-17s.pdf\"))\n",
    "pcc1.plot_all_pair_cross_correlogram(neuron_id=None, time_range=(17,22),\n",
    "                                     fig_file_name=os.path.join(network_path, \"figures\", \"FS-cross-corr-17-22s.pdf\"))"
   ]
  },
  {
   "cell_type": "code",
   "execution_count": null,
   "id": "4068fd41",
   "metadata": {
    "scrolled": true
   },
   "outputs": [],
   "source": [
    "from snudda.plotting import SnuddaPlotSpikeRaster2\n",
    "sim_file = os.path.join(network_path, \"simulation\", \"output.hdf5\")\n",
    "\n",
    "spr = SnuddaPlotSpikeRaster2(network_path=network_path, simulation_file=sim_file)\n",
    "spr.plot_spike_raster(fig_size=(10,5), fig_file=\"spike-raster-gj.pdf\")\n",
    "ax = spr.plot_spike_histogram(bin_size=5000e-3, skip_time=2, end_time=23, fig_size=(10,5),\n",
    "                             fig_file=\"spike-histogram-gj.pdf\")"
   ]
  },
  {
   "cell_type": "code",
   "execution_count": null,
   "id": "2959c4ce",
   "metadata": {},
   "outputs": [],
   "source": [
    "!mpiexec -n 6 snudda simulate networks/FS-input-correlation-detection-4-dopamine --time 22 --disableGJ --outputFile networks/FS-input-correlation-detection-4-dopamine/simulation/output-no-GJ.hdf5 --neuromodulation networks/FS-input-correlation-detection-4-dopamine/dopamine_modulation.json"
   ]
  },
  {
   "cell_type": "code",
   "execution_count": null,
   "id": "64308b7d",
   "metadata": {},
   "outputs": [],
   "source": [
    "pcc2 = PlotCrossCorrelogram(os.path.join(network_path, \"simulation\", \"output-no-GJ.hdf5\"))\n",
    "pcc2.plot_all_pair_cross_correlogram(neuron_id=None, time_range=(2,7),\n",
    "                                     fig_file_name=os.path.join(network_path, \"figures\", \"FS-cross-corr-no-gj-2-7s.png\"))\n",
    "pcc2.plot_all_pair_cross_correlogram(neuron_id=None, time_range=(7,12),\n",
    "                                     fig_file_name=os.path.join(network_path, \"figures\", \"FS-cross-corr-no-gj-7-12s.png\"))\n",
    "pcc2.plot_all_pair_cross_correlogram(neuron_id=None, time_range=(12,17),\n",
    "                                     fig_file_name=os.path.join(network_path, \"figures\", \"FS-cross-corr-no-gj-12-17s.png\"))\n",
    "pcc2.plot_all_pair_cross_correlogram(neuron_id=None, time_range=(17,22),\n",
    "                                     fig_file_name=os.path.join(network_path, \"figures\", \"FS-cross-corr-no-gj-17-22s.png\"))"
   ]
  },
  {
   "cell_type": "code",
   "execution_count": null,
   "id": "f305556a",
   "metadata": {},
   "outputs": [],
   "source": [
    "from snudda.plotting import SnuddaPlotSpikeRaster2\n",
    "sim_file_no_gj = os.path.join(network_path, \"simulation\", \"output-no-GJ.hdf5\")\n",
    "\n",
    "spr2 = SnuddaPlotSpikeRaster2(network_path=network_path, simulation_file=sim_file_no_gj)\n",
    "spr2.plot_spike_raster(fig_size=(10,5), fig_file=\"spike-raster-no-gj.pdf\")\n",
    "spr2.plot_spike_histogram(bin_size=5, skip_time=2, end_time=23, fig_size=(10,5), fig_file=\"spike-histogram-no-gj.pdf\")"
   ]
  },
  {
   "cell_type": "markdown",
   "id": "5b268d60",
   "metadata": {},
   "source": [
    "### Plotting\n",
    "\n",
    "We want to see what frequency we should have the cortical input at to get gap junction case to spike."
   ]
  },
  {
   "cell_type": "code",
   "execution_count": 6,
   "id": "94e7b11c",
   "metadata": {},
   "outputs": [
    {
     "name": "stdout",
     "output_type": "stream",
     "text": [
      "Loading 50 neurons with 4995 synapses and 3443 gap junctions\n",
      "Loading networks/FS-input-correlation-detection-4-dopamine/simulation/output-no-GJ.hdf5\n",
      "Loading 50 neurons with 4995 synapses and 3443 gap junctions\n",
      "Loading networks/FS-input-correlation-detection-4-dopamine/simulation/output.hdf5\n"
     ]
    },
    {
     "data": {
      "image/png": "[encoded data removed]",
      "text/plain": [
       "<Figure size 720x360 with 1 Axes>"
      ]
     },
     "metadata": {
      "needs_background": "light"
     },
     "output_type": "display_data"
    },
    {
     "data": {
      "text/plain": [
       "<AxesSubplot:xlabel='Time (s)', ylabel='Frequency (Hz)'>"
      ]
     },
     "execution_count": 6,
     "metadata": {},
     "output_type": "execute_result"
    }
   ],
   "source": [
    "from snudda.plotting import SnuddaPlotSpikeRaster2\n",
    "sim_file = os.path.join(network_path, \"simulation\", \"output.hdf5\")\n",
    "sim_file_no_gj = os.path.join(network_path, \"simulation\", \"output-no-GJ.hdf5\")\n",
    "\n",
    "spr2 = SnuddaPlotSpikeRaster2(network_path=network_path, simulation_file=sim_file_no_gj)\n",
    "ax = spr2.plot_spike_histogram(bin_size=5, skip_time=2, end_time=23, \n",
    "                               label_text=\"No GJ \", colour=\"lightgrey\",\n",
    "                               fig_size=(10,5), show_figure=False, save_figure=False)\n",
    "\n",
    "spr = SnuddaPlotSpikeRaster2(network_path=network_path, simulation_file=sim_file)\n",
    "ax = spr.plot_spike_histogram(bin_size=5000e-3, skip_time=2, end_time=23, fig_size=(10,5),\n",
    "                              label_text=\"GJ \", colour=\"black\",\n",
    "                              fig_file=\"spike-histogram-summary.pdf\", ax=ax)"
   ]
  },
  {
   "cell_type": "code",
   "execution_count": null,
   "id": "e09e370a",
   "metadata": {},
   "outputs": [],
   "source": []
  },
  {
   "cell_type": "code",
   "execution_count": null,
   "id": "3398e079",
   "metadata": {},
   "outputs": [],
   "source": []
  }
 ],
 "metadata": {
  "kernelspec": {
   "display_name": "Python 3 (ipykernel)",
   "language": "python",
   "name": "python3"
  },
  "language_info": {
   "codemirror_mode": {
    "name": "ipython",
    "version": 3
   },
   "file_extension": ".py",
   "mimetype": "text/x-python",
   "name": "python",
   "nbconvert_exporter": "python",
   "pygments_lexer": "ipython3",
   "version": "3.9.2"
  }
 },
 "nbformat": 4,
 "nbformat_minor": 5
}
