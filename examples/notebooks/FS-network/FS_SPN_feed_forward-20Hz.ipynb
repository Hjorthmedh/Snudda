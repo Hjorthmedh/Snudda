{
 "cells": [
  {
   "cell_type": "code",
   "execution_count": 1,
   "id": "b6999902-b586-48db-a160-62cb12934532",
   "metadata": {},
   "outputs": [],
   "source": [
    "import os\n",
    "\n",
    "network_path = os.path.join(\"networks\", \"FS_SPN_feed_forward-20Hz-oscillating\")\n",
    "\n",
    "input_name = \"FS_SPN_feed_forward\"\n",
    "sim_file_gj = os.path.join(network_path, \"simulation\", f\"output-GJ-{input_name}.hdf5\")\n",
    "sim_file_nogj = os.path.join(network_path, \"simulation\", f\"output-noGJ-{input_name}.hdf5\")\n",
    "\n",
    "fig_path = os.path.join(network_path, \"figures\")\n",
    "\n",
    "input_config = f\"{input_name}-input.json\"\n",
    "duration=3\n",
    "osc_freq = 20\n",
    "\n",
    "# Number of cores to use for NEURON\n",
    "n_cores = 8\n",
    "\n",
    "modified_network = os.path.join(network_path, \"network-synapses-ablated.hdf5\")"
   ]
  },
  {
   "cell_type": "code",
   "execution_count": 2,
   "id": "8cf627ab-0f3f-4aa8-8267-2cc9fcdc28a4",
   "metadata": {},
   "outputs": [
    {
     "name": "stdout",
     "output_type": "stream",
     "text": [
      "Using cube for striatum\n",
      "Neurons for striatum read from /home/hjorth/HBP/BasalGangliaData/data/neurons/striatum\n",
      "Adding neurons: FS from dir /home/hjorth/HBP/BasalGangliaData/data/neurons/striatum/fs\n",
      "Adding neurons: dSPN from dir /home/hjorth/HBP/BasalGangliaData/data/neurons/striatum/dspn\n",
      "Adding neurons: iSPN from dir /home/hjorth/HBP/BasalGangliaData/data/neurons/striatum/ispn\n"
     ]
    },
    {
     "ename": "NameError",
     "evalue": "name 'FS_gGapJunction' is not defined",
     "output_type": "error",
     "traceback": [
      "\u001b[0;31m---------------------------------------------------------------------------\u001b[0m",
      "\u001b[0;31mNameError\u001b[0m                                 Traceback (most recent call last)",
      "Input \u001b[0;32mIn [2]\u001b[0m, in \u001b[0;36m<cell line: 20>\u001b[0;34m()\u001b[0m\n\u001b[1;32m     17\u001b[0m cnc\u001b[38;5;241m.\u001b[39madd_population_unit_random(\u001b[38;5;124m\"\u001b[39m\u001b[38;5;124mStriatum\u001b[39m\u001b[38;5;124m\"\u001b[39m, \u001b[38;5;124m\"\u001b[39m\u001b[38;5;124mFS\u001b[39m\u001b[38;5;124m\"\u001b[39m, \u001b[38;5;241m1.0\u001b[39m, \u001b[38;5;241m1\u001b[39m)\n\u001b[1;32m     19\u001b[0m \u001b[38;5;66;03m# Overwrite adult GJ connectivity, with higher juvenile connectivity\u001b[39;00m\n\u001b[1;32m     20\u001b[0m cnc\u001b[38;5;241m.\u001b[39madd_neuron_target(neuron_name\u001b[38;5;241m=\u001b[39m\u001b[38;5;124m\"\u001b[39m\u001b[38;5;124mFS\u001b[39m\u001b[38;5;124m\"\u001b[39m,\n\u001b[1;32m     21\u001b[0m                       target_name\u001b[38;5;241m=\u001b[39m\u001b[38;5;124m\"\u001b[39m\u001b[38;5;124mFS\u001b[39m\u001b[38;5;124m\"\u001b[39m,\n\u001b[1;32m     22\u001b[0m                       connection_type\u001b[38;5;241m=\u001b[39m\u001b[38;5;124m\"\u001b[39m\u001b[38;5;124mGapJunction\u001b[39m\u001b[38;5;124m\"\u001b[39m,\n\u001b[1;32m     23\u001b[0m                       dist_pruning\u001b[38;5;241m=\u001b[39m\u001b[38;5;28;01mNone\u001b[39;00m,\n\u001b[1;32m     24\u001b[0m                       f1\u001b[38;5;241m=\u001b[39m\u001b[38;5;241m0.7\u001b[39m, soft_max\u001b[38;5;241m=\u001b[39m\u001b[38;5;241m8\u001b[39m, mu2\u001b[38;5;241m=\u001b[39m\u001b[38;5;241m2\u001b[39m, a3\u001b[38;5;241m=\u001b[39m\u001b[38;5;241m1.0\u001b[39m,\n\u001b[0;32m---> 25\u001b[0m                       conductance\u001b[38;5;241m=\u001b[39m\u001b[43mFS_gGapJunction\u001b[49m,\n\u001b[1;32m     26\u001b[0m                       cluster_synapses\u001b[38;5;241m=\u001b[39m\u001b[38;5;28;01mFalse\u001b[39;00m,\n\u001b[1;32m     27\u001b[0m                       channel_param_dictionary\u001b[38;5;241m=\u001b[39m\u001b[38;5;28;01mNone\u001b[39;00m)\n\u001b[1;32m     28\u001b[0m cnc\u001b[38;5;241m.\u001b[39mwrite_json()\n",
      "\u001b[0;31mNameError\u001b[0m: name 'FS_gGapJunction' is not defined"
     ]
    }
   ],
   "source": [
    "from snudda.init import SnuddaInit\n",
    "\n",
    "from snudda.init.init import SnuddaInit\n",
    "cnc = SnuddaInit(struct_def={}, network_path=network_path, random_seed=1337,\n",
    "                 snudda_data=\"../../../../BasalGangliaData/data/\")\n",
    "# To get only FS density we would use 0.013*80500, but then we also have dSPN and iSPN here in network\n",
    "# so we need to compensate to get the correct FS neuron density (which is the important part)\n",
    "\n",
    "num_FS = 400\n",
    "num_dSPN_orig = 800\n",
    "num_iSPN_orig = 800\n",
    "num_dSPN_final = 40\n",
    "num_iSPN_final = 40\n",
    "\n",
    "cnc.define_striatum(num_dSPN=num_dSPN_orig, num_iSPN=num_iSPN_orig, num_FS=num_FS, num_LTS=0, num_ChIN=0,\n",
    "                    volume_type=\"cube\", neuron_density=0.013*80500*(1 + (num_dSPN_orig + num_iSPN_orig)/num_FS))\n",
    "cnc.add_population_unit_random(\"Striatum\", \"FS\", 1.0, 1)\n",
    "\n",
    "# Overwrite adult GJ connectivity, with higher juvenile connectivity\n",
    "cnc.add_neuron_target(neuron_name=\"FS\",\n",
    "                      target_name=\"FS\",\n",
    "                      connection_type=\"GapJunction\",\n",
    "                      dist_pruning=None,\n",
    "                      f1=0.7, soft_max=8, mu2=2, a3=1.0,\n",
    "                      conductance=[0.5e-9, 0.1e-9],\n",
    "                      cluster_synapses=False,\n",
    "                      channel_param_dictionary=None)\n",
    "cnc.write_json()"
   ]
  },
  {
   "cell_type": "code",
   "execution_count": null,
   "id": "3e4dfe26-f1af-42df-a82e-158a53df9df0",
   "metadata": {},
   "outputs": [],
   "source": [
    "from snudda import SnuddaPlace\n",
    "sp = SnuddaPlace(network_path=network_path, verbose=False)\n",
    "sp.place()"
   ]
  },
  {
   "cell_type": "code",
   "execution_count": null,
   "id": "1225836a-e1ce-4031-a142-30820f4b2267",
   "metadata": {},
   "outputs": [],
   "source": [
    "from snudda import SnuddaDetect\n",
    "\n",
    "sd = SnuddaDetect(network_path=network_path, verbose=False)\n",
    "sd.detect()"
   ]
  },
  {
   "cell_type": "code",
   "execution_count": null,
   "id": "659b37e6-0031-40fa-9565-9fd661f08dba",
   "metadata": {},
   "outputs": [],
   "source": [
    "from snudda import SnuddaPrune\n",
    "\n",
    "sp = SnuddaPrune(network_path=network_path)\n",
    "sp.prune()"
   ]
  },
  {
   "cell_type": "markdown",
   "id": "2dbbf353-e5e9-4277-bfa6-148560ef57b4",
   "metadata": {},
   "source": [
    "### Ablating network\n",
    "It is important that the SPN networks receive a full set of FS inputs, so we want to only keep the SPN that are in the core."
   ]
  },
  {
   "cell_type": "code",
   "execution_count": null,
   "id": "5cb997ef-b280-40da-8861-b90e3cc66ffd",
   "metadata": {},
   "outputs": [],
   "source": [
    "from snudda.utils import SnuddaLoad\n",
    "from snudda.utils.ablate_network import SnuddaAblateNetwork\n",
    "mod_network = SnuddaAblateNetwork(network_file=os.path.join(network_path, \"network-synapses.hdf5\"))\n",
    "orig_sl = SnuddaLoad(network_path)\n",
    "orig_fs_id = orig_sl.get_neuron_id_of_type(\"FS\")\n",
    "orig_dspn_id = [x for x, y in orig_sl.get_centre_neurons_iterator(neuron_type=\"dSPN\", n_neurons=num_dSPN_final)]\n",
    "orig_ispn_id = [x for x, y in orig_sl.get_centre_neurons_iterator(neuron_type=\"iSPN\", n_neurons=num_iSPN_final)]\n",
    "\n",
    "keep_id = set(list(orig_fs_id) + list(orig_dspn_id) + list(orig_ispn_id)) \n",
    "mod_network.only_keep_neuron_id(keep_id)\n",
    "mod_network.write_network(modified_network)"
   ]
  },
  {
   "cell_type": "code",
   "execution_count": null,
   "id": "565d89c9-b448-45ed-aad5-f45a834ea909",
   "metadata": {},
   "outputs": [],
   "source": [
    "from snudda.plotting.plot_network import PlotNetwork\n",
    "pn = PlotNetwork(modified_network)\n",
    "pn.plot(plot_axon=False, plot_dendrite=False, plot_synapses=False)"
   ]
  },
  {
   "cell_type": "code",
   "execution_count": null,
   "id": "6901bdf5-bbd3-4507-a5ac-d99265fe3dc2",
   "metadata": {},
   "outputs": [],
   "source": [
    "from snudda.analyse.analyse import SnuddaAnalyse\n",
    "\n",
    "nas = SnuddaAnalyse(modified_network, volume_type=\"cube\")\n",
    "nas.plot_connection_probability(\"FS\", \"FS\",\n",
    "                                dist_3d=True,\n",
    "                                connection_type=\"gapjunctions\",\n",
    "                                exp_max_dist=[200e-6, 250e-6, 250e-6],\n",
    "                                exp_data=[6/78.0, 2 / 6.0, 3 / 7.0],\n",
    "                                exp_data_detailed=[(6, 78), (2, 6), (3, 7)], )"
   ]
  },
  {
   "cell_type": "code",
   "execution_count": null,
   "id": "82f92e3c-86a3-4dce-a411-7d0505e08e9c",
   "metadata": {},
   "outputs": [],
   "source": [
    "nas.plot_connection_probability(\"FS\", \"iSPN\",\n",
    "                                dist_3d=True,\n",
    "                                exp_max_dist=[100e-6, 150e-6, 250e-6],\n",
    "                                exp_data=[6 / 9.0, 21 / 54.0, 27 / 77.0],\n",
    "                                exp_data_detailed=[(6, 9), (21, 54), (27, 77)],\n",
    "                                y_max=None)\n",
    "\n",
    "nas.plot_connection_probability(\"FS\", \"dSPN\",\n",
    "                                dist_3d=dist3D,\n",
    "                                exp_max_dist=[100e-6, 150e-6, 250e-6],\n",
    "                                exp_data=[8 / 9.0, 29 / 48.0, 48 / 90.0],\n",
    "                                exp_data_detailed=[(8, 9), (29, 48), (48, 90)],\n",
    "                                y_max=None)"
   ]
  },
  {
   "cell_type": "code",
   "execution_count": null,
   "id": "31edd0e4-11d6-45dc-b61f-2fcf5f8edc98",
   "metadata": {},
   "outputs": [],
   "source": [
    "from snudda.input import SnuddaInput\n",
    "si = SnuddaInput(network_path=network_path,\n",
    "                 hdf5_network_file=modified_network,\n",
    "                 input_config_file=f\"{input_name}-input.json\",\n",
    "                 verbose=False)\n",
    "si.generate()"
   ]
  },
  {
   "cell_type": "code",
   "execution_count": null,
   "id": "2f2666ff-0521-48a6-9a4d-3921f491e26c",
   "metadata": {},
   "outputs": [],
   "source": [
    "from snudda.plotting import PlotInput\n",
    "input_file = os.path.join(network_path, \"input-spikes.hdf5\")\n",
    "spi = PlotInput(input_file, network_path=modified_network)\n",
    "spi.plot_input(neuron_type=\"FS\", num_neurons=3)\n",
    "spi.plot_input(neuron_type=\"dSPN\", num_neurons=2)\n",
    "spi.plot_input(neuron_type=\"iSPN\", num_neurons=2)"
   ]
  },
  {
   "cell_type": "code",
   "execution_count": null,
   "id": "09793d15-2f08-406d-bd22-794253410c63",
   "metadata": {},
   "outputs": [],
   "source": [
    "os.system(f\"mpiexec -n {n_cores} snudda simulate {network_path} --networkFile {modified_network} --time {duration} --outputFile {sim_file_gj}\")"
   ]
  },
  {
   "cell_type": "code",
   "execution_count": null,
   "id": "f87e7645-e0ef-45ef-9cc3-377ca09386e4",
   "metadata": {},
   "outputs": [],
   "source": [
    "os.system(f\"mpiexec -n {n_cores} snudda simulate {network_path} --networkFile {modified_network} --time {duration} --outputFile {sim_file_nogj} --disableGJ\")"
   ]
  },
  {
   "cell_type": "markdown",
   "id": "9fee365d-a1ea-433a-9a60-27e853281040",
   "metadata": {},
   "source": [
    "### Figures"
   ]
  },
  {
   "cell_type": "code",
   "execution_count": null,
   "id": "1d5fa011-18ed-47b7-aa43-7dcae06eb5e6",
   "metadata": {},
   "outputs": [],
   "source": [
    "from snudda.utils import SnuddaLoad\n",
    "from snudda.utils import SnuddaLoadNetworkSimulation\n",
    "\n",
    "sl = SnuddaLoad(modified_network)\n",
    "sls_gj = SnuddaLoadNetworkSimulation(network_simulation_output_file=sim_file_gj)\n",
    "sls_nogj = SnuddaLoadNetworkSimulation(network_simulation_output_file=sim_file_nogj)\n",
    "\n",
    "n_centre=10\n",
    "\n",
    "nid_fs = [x for x,y in sl.get_centre_neurons_iterator(n_neurons=n_centre, neuron_type=\"FS\")]\n",
    "nid_dspn = [x for x,y in sl.get_centre_neurons_iterator(n_neurons=n_centre, neuron_type=\"dSPN\")]\n",
    "nid_ispn = [x for x,y in sl.get_centre_neurons_iterator(n_neurons=n_centre, neuron_type=\"iSPN\")]"
   ]
  },
  {
   "cell_type": "code",
   "execution_count": null,
   "id": "d0873c8b-6745-4ef0-8e89-d37f4132afdd",
   "metadata": {},
   "outputs": [],
   "source": [
    "%matplotlib inline\n",
    "\n",
    "from snudda.plotting.plot_traces import PlotTraces\n",
    "pt = PlotTraces(output_file=sim_file_gj, network_file=modified_network)\n",
    "# Use trace_id to specify which traces\n",
    "ax = pt.plot_traces(offset=0, time_range=(2,2.5),fig_size=(10,4))"
   ]
  },
  {
   "cell_type": "code",
   "execution_count": null,
   "id": "1fb27dda-9cbe-44cc-ae21-4ad800e331f8",
   "metadata": {},
   "outputs": [],
   "source": [
    "from snudda.plotting.plot_traces import PlotTraces\n",
    "pt2 = PlotTraces(output_file=sim_file_nogj, network_file=modified_network)\n",
    "ax2 = pt2.plot_traces(offset=0, time_range=(2,2.5),fig_size=(10,4))"
   ]
  },
  {
   "cell_type": "code",
   "execution_count": null,
   "id": "afba7046-843c-4a48-b8df-c0587d298b92",
   "metadata": {},
   "outputs": [],
   "source": [
    "from snudda.plotting import SnuddaPlotSpikeRaster2\n",
    "spr = SnuddaPlotSpikeRaster2(network_path=network_path,\n",
    "                             network_file=modified_network,\n",
    "                             simulation_file=sim_file_gj,\n",
    "                             snudda_load=sl, snudda_simulation_load=sls_gj)\n",
    "time_range = (1,3)\n",
    "fig_name_ph_gj = f\"Period-histogram-{input_name}-GJ.png\"\n",
    "ax, _, _ = spr.plot_period_histogram_mod(neuron_id=nid_fs, period=1/osc_freq, time_range=time_range, label=\"FS\", color=spr.get_colours(\"FS\"), show_figure=False,\n",
    "                                         exclude_depolarisation_blocked_neurons=True, save_figure=False)\n",
    "ax, _, _ = spr.plot_period_histogram_mod(neuron_id=nid_dspn, period=1/osc_freq, time_range=time_range, label=\"dSPN\", ax=ax, color=spr.get_colours(\"dSPN\"), show_figure=False,\n",
    "                                        exclude_depolarisation_blocked_neurons=True, save_figure=False)\n",
    "ax, _, _ = spr.plot_period_histogram_mod(neuron_id=nid_ispn, period=1/osc_freq, time_range=time_range, label=\"iSPN\", ax=ax, color=spr.get_colours(\"iSPN\"),\n",
    "                                        exclude_depolarisation_blocked_neurons=True, fig_file=fig_name_ph_gj)"
   ]
  },
  {
   "cell_type": "code",
   "execution_count": null,
   "id": "db4701be-04f1-4322-a65b-bd14da1d4c4b",
   "metadata": {},
   "outputs": [],
   "source": [
    "fig_name_sh_gj = f\"{input_name}-spike-histogram-GJ.png\"\n",
    "spr.plot_spike_histogram_type([\"FS\", \"dSPN\", \"iSPN\"], bin_size=200e-3, n_core=10, fig_file=fig_name_sh_gj, linestyle=\"-\")"
   ]
  },
  {
   "cell_type": "code",
   "execution_count": null,
   "id": "ee6243ed-f8d4-43e9-aa43-71d05dfe05c6",
   "metadata": {},
   "outputs": [],
   "source": [
    "from snudda.plotting import SnuddaPlotSpikeRaster2\n",
    "spr2 = SnuddaPlotSpikeRaster2(network_path=network_path, \n",
    "                              network_file=modified_network,\n",
    "                              simulation_file=sim_file_nogj,\n",
    "                              snudda_load=sl, snudda_simulation_load=sls_nogj)\n",
    "\n",
    "fig_name_ph_nogj = f\"Period-histogram-{input_name}-noGJ.png\"\n",
    "ax, _, _ = spr2.plot_period_histogram_mod(neuron_id=nid_fs, period=1/osc_freq, time_range=time_range, label=\"FS\", color=spr.get_colours(\"FS\"), show_figure=False,\n",
    "                                          exclude_depolarisation_blocked_neurons=True, save_figure=False, fig_size=(8,6))\n",
    "ax, _, _ = spr2.plot_period_histogram_mod(neuron_id=nid_dspn, period=1/osc_freq, time_range=time_range, label=\"dSPN\", ax=ax, color=spr.get_colours(\"dSPN\"), show_figure=False,\n",
    "                                         exclude_depolarisation_blocked_neurons=True, save_figure=False)\n",
    "ax, _, _ = spr2.plot_period_histogram_mod(neuron_id=nid_ispn, period=1/osc_freq, time_range=time_range, label=\"iSPN\", ax=ax, color=spr.get_colours(\"iSPN\"),\n",
    "                                         exclude_depolarisation_blocked_neurons=True, fig_file=fig_name_ph_nogj)"
   ]
  },
  {
   "cell_type": "code",
   "execution_count": null,
   "id": "2afe90f3-1cf5-4c1e-8ec5-1940d3047372",
   "metadata": {},
   "outputs": [],
   "source": [
    "fig_name_sh_nogj = f\"{input_name}-spike-histogram-noGJ.png\"\n",
    "\n",
    "spr2.plot_spike_histogram_type([\"FS\", \"dSPN\", \"iSPN\"], bin_size=200e-3, fig_file=fig_name_sh_nogj, linestyle=\"--\", legend_loc=\"lower right\", fig_size=(8,6))"
   ]
  },
  {
   "cell_type": "markdown",
   "id": "e8a90967-43d7-4493-9cfb-621ba9cfeaef",
   "metadata": {},
   "source": [
    "Comparing with and without gap junctions"
   ]
  },
  {
   "cell_type": "code",
   "execution_count": null,
   "id": "95572386-cf83-4409-94cd-97e7674da7e6",
   "metadata": {},
   "outputs": [],
   "source": [
    "fig_name_ph = f\"Period-histogram-{input_name}-summary.png\"\n",
    "ax, _, _ = spr.plot_period_histogram_mod(neuron_id=nid_fs, period=1/osc_freq, time_range=time_range, label=\"FS GJ\", color=spr.get_colours(\"FS\"), show_figure=False, fig_size=(10,10),\n",
    "                                         exclude_depolarisation_blocked_neurons=True, save_figure=False, linestyle=\"-\")\n",
    "ax, _, _ = spr.plot_period_histogram_mod(neuron_id=nid_dspn, period=1/osc_freq, time_range=time_range, label=\"dSPN GJ\", ax=ax, color=spr.get_colours(\"dSPN\"), show_figure=False,\n",
    "                                        exclude_depolarisation_blocked_neurons=True, save_figure=False, linestyle=\"-\")\n",
    "ax, _, _ = spr.plot_period_histogram_mod(neuron_id=nid_ispn, period=1/osc_freq, time_range=time_range, label=\"iSPN GJ\", ax=ax, color=spr.get_colours(\"iSPN\"), show_figure=False,\n",
    "                                        exclude_depolarisation_blocked_neurons=True, save_figure=False, linestyle=\"-\")\n",
    "ax, _, _ = spr2.plot_period_histogram_mod(neuron_id=nid_fs, period=1/osc_freq, time_range=time_range, label=\"FS no GJ\", ax=ax, color=spr.get_colours(\"FS\"), show_figure=False,\n",
    "                                          exclude_depolarisation_blocked_neurons=True, save_figure=False, linestyle=\"--\")\n",
    "ax, _, _ = spr2.plot_period_histogram_mod(neuron_id=nid_dspn, period=1/osc_freq, time_range=time_range, label=\"dSPN no GJ\", ax=ax, color=spr.get_colours(\"dSPN\"), show_figure=False,\n",
    "                                         exclude_depolarisation_blocked_neurons=True, save_figure=False, linestyle=\"--\")\n",
    "ax, _, _ = spr2.plot_period_histogram_mod(neuron_id=nid_ispn, period=1/osc_freq, time_range=time_range, label=\"iSPN no GJ\", ax=ax, color=spr.get_colours(\"iSPN\"),\n",
    "                                         exclude_depolarisation_blocked_neurons=True, fig_file=fig_name_ph, linestyle=\"--\")"
   ]
  },
  {
   "cell_type": "code",
   "execution_count": null,
   "id": "eaecbefa-6e3a-41a3-9947-dcfa0d473a49",
   "metadata": {},
   "outputs": [],
   "source": [
    "fig_file_raster_gj = f\"{input_name}-spike-raster-GJ.png\"\n",
    "fig_file_raster_nogj = f\"{input_name}-spike-raster-noGJ.png\"\n",
    "\n",
    "time_range_zoom = (2.5,3)\n",
    "\n",
    "spr.plot_spike_raster(fig_file=fig_file_raster_gj, time_range=time_range_zoom)\n",
    "spr2.plot_spike_raster(fig_file=fig_file_raster_nogj, time_range=time_range_zoom)"
   ]
  },
  {
   "cell_type": "code",
   "execution_count": null,
   "id": "dd001a55-ad2e-45b6-abe8-39d298e7ad76",
   "metadata": {},
   "outputs": [],
   "source": [
    "from snudda.plotting.plot_cross_correlogram import PlotCrossCorrelogram\n",
    "\n",
    "fig_file_fs=os.path.join(fig_path, f\"{input_name}-shuffle-corrected-cross-correlogram-FS.png\")\n",
    "fig_file_dspn=os.path.join(fig_path, f\"{input_name}-shuffle-corrected-cross-correlogram-dSPN.png\")\n",
    "fig_file_ispn=os.path.join(fig_path, f\"{input_name}-shuffle-corrected-cross-correlogram-iSPN.png\")\n",
    "\n",
    "pcc = PlotCrossCorrelogram(simulation_file=sim_file_gj, snudda_simulation_load=sls_gj)\n",
    "pcc2 = PlotCrossCorrelogram(simulation_file=sim_file_nogj, snudda_simulation_load=sls_nogj)\n",
    "\n",
    "fs_colour = spr.get_colours(\"FS\")\n",
    "dspn_colour = spr.get_colours(\"dSPN\")\n",
    "ispn_colour = spr.get_colours(\"iSPN\")\n",
    "\n",
    "# Pick centre FS only, use same number as for dSPN\n",
    "nid_fs_center = [x for x, y in sl.get_centre_neurons_iterator(neuron_type=\"FS\", n_neurons=len(nid_dspn))]\n",
    "\n",
    "n_bins= 41\n",
    "width = 20e-3\n",
    "\n",
    "ax = pcc.plot_all_pair_cross_correlogram(neuron_id=nid_fs_center, show_figure=False, linestyle=\"-\", label=\"FS GJ\", colour=fs_colour, n_bins=n_bins, width=width, fig_size=(9,7))\n",
    "pcc2.plot_all_pair_cross_correlogram(neuron_id=nid_fs_center, show_figure=True, linestyle=\"--\", ax=ax, label=\"FS no GJ\", fig_file_name=fig_file_fs, colour=fs_colour, n_bins=n_bins, width=width)\n",
    "\n",
    "ax = pcc.plot_all_pair_cross_correlogram(neuron_id=nid_dspn, show_figure=False, linestyle=\"-\", label=\"dSPN GJ\", colour=dspn_colour, n_bins=n_bins, width=width, fig_size=(9,7))\n",
    "pcc2.plot_all_pair_cross_correlogram(neuron_id=nid_dspn, show_figure=True, linestyle=\"--\", ax=ax, label=\"dSPN no GJ\", fig_file_name=fig_file_dspn, colour=dspn_colour, n_bins=n_bins, width=width)\n",
    "\n",
    "ax = pcc.plot_all_pair_cross_correlogram(neuron_id=nid_ispn, show_figure=False, linestyle=\"-\", label=\"iSPN GJ\", colour=ispn_colour, n_bins=n_bins, width=width, fig_size=(9,7))\n",
    "pcc2.plot_all_pair_cross_correlogram(neuron_id=nid_ispn, show_figure=True, linestyle=\"--\", ax=ax, label=\"iSPN no GJ\", fig_file_name=fig_file_ispn, colour=ispn_colour, n_bins=n_bins, width=width)"
   ]
  },
  {
   "cell_type": "code",
   "execution_count": null,
   "id": "930eff5d-1c8f-45cc-97a4-af9e8d927357",
   "metadata": {},
   "outputs": [],
   "source": []
  },
  {
   "cell_type": "code",
   "execution_count": null,
   "id": "a13e3489-d962-4c49-9c34-413474a7377d",
   "metadata": {},
   "outputs": [],
   "source": []
  }
 ],
 "metadata": {
  "kernelspec": {
   "display_name": "Python 3 (ipykernel)",
   "language": "python",
   "name": "python3"
  },
  "language_info": {
   "codemirror_mode": {
    "name": "ipython",
    "version": 3
   },
   "file_extension": ".py",
   "mimetype": "text/x-python",
   "name": "python",
   "nbconvert_exporter": "python",
   "pygments_lexer": "ipython3",
   "version": "3.9.2"
  }
 },
 "nbformat": 4,
 "nbformat_minor": 5
}
