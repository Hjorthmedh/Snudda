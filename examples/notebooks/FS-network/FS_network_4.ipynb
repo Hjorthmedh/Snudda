{
 "cells": [
  {
   "cell_type": "markdown",
   "id": "7c5afb9e",
   "metadata": {},
   "source": [
    "# Gap junction coupled neurons driven by synaptic input\n",
    "\n",
    "When a network is driven by continuous current injections each neuron receives a steady depolarisation, however when instead driven by more natural synaptic input, the neurons receive random input. Here the gap junctions are less able to synchronise the input.\n",
    "\n",
    "This uses the same striatal network as before [FS_network_3.ipynb](FS_network_3.ipynb) but this time it is driven by synaptic input."
   ]
  },
  {
   "cell_type": "code",
   "execution_count": 1,
   "id": "06bf02a6",
   "metadata": {},
   "outputs": [],
   "source": [
    "import os\n",
    "os.environ[\"SNUDDA_DATA\"] = \"../../../../BasalGangliaData/data/\"\n",
    "assert os.path.isdir(os.getenv(\"SNUDDA_DATA\")), f\"You need to have BasalGangliaData installed for this example. You can run this example without it, but then do not execute this cell.\"\n",
    "\n",
    "network_path = os.path.join(\"FS_network_4-synaptic\")"
   ]
  },
  {
   "cell_type": "code",
   "execution_count": 2,
   "id": "6e9b00f6",
   "metadata": {},
   "outputs": [
    {
     "name": "stdout",
     "output_type": "stream",
     "text": [
      "Using cube for striatum\n",
      "Neurons for striatum read from /home/hjorth/HBP/BasalGangliaData/data/neurons/striatum\n",
      "Adding neurons: FS from dir /home/hjorth/HBP/BasalGangliaData/data/neurons/striatum/fs\n",
      "Writing FS_network_4-synaptic/network-config.json\n"
     ]
    }
   ],
   "source": [
    "# This should be 100 neurons to match previous run, setting it to 10 FS for speed while developing\n",
    "\n",
    "from snudda.init.init import SnuddaInit\n",
    "cnc = SnuddaInit(struct_def={}, network_path=network_path, random_seed=1337)\n",
    "cnc.define_striatum(num_dSPN=0, num_iSPN=0, num_FS=10, num_LTS=0, num_ChIN=0,\n",
    "                    volume_type=\"cube\", side_len=230e-6)\n",
    "cnc.write_json()"
   ]
  },
  {
   "cell_type": "code",
   "execution_count": 3,
   "id": "1e1f0a27",
   "metadata": {},
   "outputs": [],
   "source": [
    "from snudda import SnuddaPlace\n",
    "sp = SnuddaPlace(network_path=network_path, verbose=False)\n",
    "sp.place()"
   ]
  },
  {
   "cell_type": "code",
   "execution_count": 4,
   "id": "1bc3d428",
   "metadata": {},
   "outputs": [
    {
     "name": "stdout",
     "output_type": "stream",
     "text": [
      "No d_view specified, running distribute neurons in serial\n",
      "Processing hyper voxel : 37/150 (10 neurons)\n",
      "Processing hyper voxel : 67/150 (10 neurons)\n",
      "Processing hyper voxel : 43/150 (10 neurons)\n",
      "Processing hyper voxel : 36/150 (10 neurons)\n",
      "Processing hyper voxel : 66/150 (9 neurons)\n",
      "Processing hyper voxel : 73/150 (9 neurons)\n",
      "Processing hyper voxel : 31/150 (9 neurons)\n",
      "Processing hyper voxel : 61/150 (7 neurons)\n",
      "Processing hyper voxel : 42/150 (7 neurons)\n",
      "Processing hyper voxel : 30/150 (6 neurons)\n",
      "Processing hyper voxel : 60/150 (6 neurons)\n",
      "Processing hyper voxel : 72/150 (6 neurons)\n",
      "Processing hyper voxel : 68/150 (5 neurons)\n",
      "Processing hyper voxel : 38/150 (5 neurons)\n",
      "Processing hyper voxel : 96/150 (4 neurons)\n",
      "Processing hyper voxel : 97/150 (4 neurons)\n",
      "Processing hyper voxel : 7/150 (3 neurons)\n",
      "Processing hyper voxel : 103/150 (3 neurons)\n",
      "Processing hyper voxel : 74/150 (2 neurons)\n",
      "Processing hyper voxel : 2/150 (2 neurons)\n",
      "Processing hyper voxel : 79/150 (2 neurons)\n",
      "Processing hyper voxel : 6/150 (2 neurons)\n",
      "Processing hyper voxel : 50/150 (2 neurons)\n",
      "Processing hyper voxel : 20/150 (2 neurons)\n",
      "Processing hyper voxel : 91/150 (2 neurons)\n",
      "Processing hyper voxel : 44/150 (2 neurons)\n",
      "Processing hyper voxel : 8/150 (2 neurons)\n",
      "Processing hyper voxel : 32/150 (2 neurons)\n",
      "Processing hyper voxel : 49/150 (2 neurons)\n",
      "Processing hyper voxel : 90/150 (1 neurons)\n",
      "Processing hyper voxel : 80/150 (1 neurons)\n",
      "Processing hyper voxel : 99/150 (1 neurons)\n",
      "Processing hyper voxel : 98/150 (1 neurons)\n",
      "Processing hyper voxel : 102/150 (1 neurons)\n",
      "Processing hyper voxel : 93/150 (1 neurons)\n",
      "Processing hyper voxel : 94/150 (1 neurons)\n",
      "Processing hyper voxel : 0/150 (1 neurons)\n",
      "Processing hyper voxel : 69/150 (1 neurons)\n",
      "Processing hyper voxel : 64/150 (1 neurons)\n",
      "Processing hyper voxel : 63/150 (1 neurons)\n",
      "Processing hyper voxel : 62/150 (1 neurons)\n",
      "Processing hyper voxel : 48/150 (1 neurons)\n",
      "Processing hyper voxel : 33/150 (1 neurons)\n",
      "Processing hyper voxel : 19/150 (1 neurons)\n",
      "Processing hyper voxel : 18/150 (1 neurons)\n",
      "Processing hyper voxel : 14/150 (1 neurons)\n",
      "Processing hyper voxel : 13/150 (1 neurons)\n",
      "Processing hyper voxel : 12/150 (1 neurons)\n",
      "Processing hyper voxel : 1/150 (1 neurons)\n",
      "Processing hyper voxel : 70/150 (1 neurons)\n",
      "Processing hyper voxel : 104/150 (1 neurons)\n"
     ]
    }
   ],
   "source": [
    "from snudda import SnuddaDetect\n",
    "\n",
    "sd = SnuddaDetect(network_path=network_path)\n",
    "sd.detect()"
   ]
  },
  {
   "cell_type": "code",
   "execution_count": 5,
   "id": "e1dc3335",
   "metadata": {},
   "outputs": [
    {
     "name": "stdout",
     "output_type": "stream",
     "text": [
      "Read 2243 out of total 2243 synapses\n",
      "Read 494 out of total 494 gapJunctions\n"
     ]
    }
   ],
   "source": [
    "from snudda import SnuddaPrune\n",
    "\n",
    "sp = SnuddaPrune(network_path=network_path)\n",
    "sp.prune()"
   ]
  },
  {
   "cell_type": "code",
   "execution_count": 6,
   "id": "ac4a169b",
   "metadata": {},
   "outputs": [
    {
     "name": "stdout",
     "output_type": "stream",
     "text": [
      "/home/hjorth/HBP/Snudda/examples/notebooks/FS-network\n",
      "Mod files: \"../../../../BasalGangliaData/data//neurons/mechanisms/bk_ch.mod\" \"../../../../BasalGangliaData/data//neurons/mechanisms/bk_fs.mod\" \"../../../../BasalGangliaData/data//neurons/mechanisms/bk_ms.mod\" \"../../../../BasalGangliaData/data//neurons/mechanisms/ca_ch.mod\" \"../../../../BasalGangliaData/data//neurons/mechanisms/cadyn_fs.mod\" \"../../../../BasalGangliaData/data//neurons/mechanisms/cadyn_ms.mod\" \"../../../../BasalGangliaData/data//neurons/mechanisms/cal12_ms.mod\" \"../../../../BasalGangliaData/data//neurons/mechanisms/cal13_ms.mod\" \"../../../../BasalGangliaData/data//neurons/mechanisms/cal_ch.mod\" \"../../../../BasalGangliaData/data//neurons/mechanisms/caldyn_ms.mod\" \"../../../../BasalGangliaData/data//neurons/mechanisms/can_fs.mod\" \"../../../../BasalGangliaData/data//neurons/mechanisms/can_ms.mod\" \"../../../../BasalGangliaData/data//neurons/mechanisms/cap_ch.mod\" \"../../../../BasalGangliaData/data//neurons/mechanisms/caq_fs.mod\" \"../../../../BasalGangliaData/data//neurons/mechanisms/caq_ms.mod\" \"../../../../BasalGangliaData/data//neurons/mechanisms/car_fs.mod\" \"../../../../BasalGangliaData/data//neurons/mechanisms/car_ms.mod\" \"../../../../BasalGangliaData/data//neurons/mechanisms/cat32_ms.mod\" \"../../../../BasalGangliaData/data//neurons/mechanisms/cat33_ms.mod\" \"../../../../BasalGangliaData/data//neurons/mechanisms/concACh.mod\" \"../../../../BasalGangliaData/data//neurons/mechanisms/concDA.mod\" \"../../../../BasalGangliaData/data//neurons/mechanisms/hcn12_ch.mod\" \"../../../../BasalGangliaData/data//neurons/mechanisms/hd_lts.mod\" \"../../../../BasalGangliaData/data//neurons/mechanisms/im_lts.mod\" \"../../../../BasalGangliaData/data//neurons/mechanisms/Im_ms.mod\" \"../../../../BasalGangliaData/data//neurons/mechanisms/it_lts.mod\" \"../../../../BasalGangliaData/data//neurons/mechanisms/kaf_fs.mod\" \"../../../../BasalGangliaData/data//neurons/mechanisms/kaf_lts.mod\" \"../../../../BasalGangliaData/data//neurons/mechanisms/kaf_ms.mod\" \"../../../../BasalGangliaData/data//neurons/mechanisms/kas_fs.mod\" \"../../../../BasalGangliaData/data//neurons/mechanisms/kas_ms.mod\" \"../../../../BasalGangliaData/data//neurons/mechanisms/kcnq_ch.mod\" \"../../../../BasalGangliaData/data//neurons/mechanisms/kdb_lts.mod\" \"../../../../BasalGangliaData/data//neurons/mechanisms/kdrb_lts.mod\" \"../../../../BasalGangliaData/data//neurons/mechanisms/kdr_fs.mod\" \"../../../../BasalGangliaData/data//neurons/mechanisms/kdr_lts.mod\" \"../../../../BasalGangliaData/data//neurons/mechanisms/kdr_ms.mod\" \"../../../../BasalGangliaData/data//neurons/mechanisms/kir23_ch.mod\" \"../../../../BasalGangliaData/data//neurons/mechanisms/kir23_lts.mod\" \"../../../../BasalGangliaData/data//neurons/mechanisms/kir2_ch.mod\" \"../../../../BasalGangliaData/data//neurons/mechanisms/kir_fs.mod\" \"../../../../BasalGangliaData/data//neurons/mechanisms/kir_ms.mod\" \"../../../../BasalGangliaData/data//neurons/mechanisms/kv2_ch.mod\" \"../../../../BasalGangliaData/data//neurons/mechanisms/kv4_ch.mod\" \"../../../../BasalGangliaData/data//neurons/mechanisms/na2_ch.mod\" \"../../../../BasalGangliaData/data//neurons/mechanisms/na3_lts.mod\" \"../../../../BasalGangliaData/data//neurons/mechanisms/na_ch.mod\" \"../../../../BasalGangliaData/data//neurons/mechanisms/naf_fs.mod\" \"../../../../BasalGangliaData/data//neurons/mechanisms/naf_lts.mod\" \"../../../../BasalGangliaData/data//neurons/mechanisms/naf_ms.mod\" \"../../../../BasalGangliaData/data//neurons/mechanisms/NO.mod\" \"../../../../BasalGangliaData/data//neurons/mechanisms/par_ggap.mod\" \"../../../../BasalGangliaData/data//neurons/mechanisms/sk_ch.mod\" \"../../../../BasalGangliaData/data//neurons/mechanisms/sk_fs.mod\" \"../../../../BasalGangliaData/data//neurons/mechanisms/sk_ms.mod\" \"../../../../BasalGangliaData/data//neurons/mechanisms/tmgabaa.mod\" \"../../../../BasalGangliaData/data//neurons/mechanisms/tmglut_double.mod\" \"../../../../BasalGangliaData/data//neurons/mechanisms/tmglut_M1RH_D1.mod\" \"../../../../BasalGangliaData/data//neurons/mechanisms/tmglut.mod\" \"../../../../BasalGangliaData/data//neurons/mechanisms/vecevent.mod\"\n",
      "\n",
      "COBJS=''\n",
      " -> \u001b[32mCompiling\u001b[0m mod_func.c\n",
      "x86_64-linux-gnu-gcc -O2   -I.   -I/home/hjorth/.local/lib/python3.7/site-packages/neuron/.data/include  -I/nrnwheel/openmpi/include -fPIC -c mod_func.c -o mod_func.o\n",
      " => \u001b[32mLINKING\u001b[0m shared library ./libnrnmech.so\n",
      "x86_64-linux-gnu-g++ -O2 -DVERSION_INFO='8.0.2' -std=c++11 -shared -fPIC  -I /home/hjorth/.local/lib/python3.7/site-packages/neuron/.data/include -o ./libnrnmech.so -Wl,-soname,libnrnmech.so \\\n",
      "  ./mod_func.o ./bk_ch.o ./bk_fs.o ./bk_ms.o ./ca_ch.o ./cadyn_fs.o ./cadyn_ms.o ./cal12_ms.o ./cal13_ms.o ./cal_ch.o ./caldyn_ms.o ./can_fs.o ./can_ms.o ./cap_ch.o ./caq_fs.o ./caq_ms.o ./car_fs.o ./car_ms.o ./cat32_ms.o ./cat33_ms.o ./concACh.o ./concDA.o ./hcn12_ch.o ./hd_lts.o ./im_lts.o ./Im_ms.o ./it_lts.o ./kaf_fs.o ./kaf_lts.o ./kaf_ms.o ./kas_fs.o ./kas_ms.o ./kcnq_ch.o ./kdb_lts.o ./kdrb_lts.o ./kdr_fs.o ./kdr_lts.o ./kdr_ms.o ./kir23_ch.o ./kir23_lts.o ./kir2_ch.o ./kir_fs.o ./kir_ms.o ./kv2_ch.o ./kv4_ch.o ./na2_ch.o ./na3_lts.o ./na_ch.o ./naf_fs.o ./naf_lts.o ./naf_ms.o ./NO.o ./par_ggap.o ./sk_ch.o ./sk_fs.o ./sk_ms.o ./tmgabaa.o ./tmglut_double.o ./tmglut_M1RH_D1.o ./tmglut.o ./vecevent.o  -L/home/hjorth/.local/lib/python3.7/site-packages/neuron/.data/lib -lnrniv -Wl,-rpath,/home/hjorth/.local/lib/python3.7/site-packages/neuron/.data/lib   \n",
      "rm -f ./.libs/libnrnmech.so ; mkdir -p ./.libs ; cp ./libnrnmech.so ./.libs/libnrnmech.so\n",
      "Successfully created x86_64/special\n"
     ]
    }
   ],
   "source": [
    "!nrnivmodl $SNUDDA_DATA/neurons/mechanisms"
   ]
  },
  {
   "cell_type": "code",
   "execution_count": 7,
   "id": "8c766822",
   "metadata": {},
   "outputs": [
    {
     "name": "stdout",
     "output_type": "stream",
     "text": [
      "Loading 10 neurons with 275 synapses and 298 gap junctions\n",
      "Writing spikes to FS_network_4-synaptic/input-spikes.hdf5\n"
     ]
    }
   ],
   "source": [
    "import os\n",
    "from snudda.input import SnuddaInput\n",
    "si = SnuddaInput(network_path=network_path, \n",
    "                 input_config_file=\"example-FS-input.json\",\n",
    "                 verbose=False)\n",
    "si.generate()"
   ]
  },
  {
   "cell_type": "code",
   "execution_count": 8,
   "id": "fc5b97ad",
   "metadata": {},
   "outputs": [
    {
     "name": "stdout",
     "output_type": "stream",
     "text": [
      "numprocs=2\n",
      "Using input file FS_network_4-synaptic/input-spikes.hdf5\n",
      "NEURON mechanisms already compiled, make sure you have the correct version of NEURON modules.\n",
      "If you delete x86_64 directory (or nrnmech.dll) then you will force a recompilation of the modules.\n",
      "args: Namespace(action='simulate', disable_gj=False, exportCoreNeuron=False, input_file=None, mech_dir=None, network_file=None, neuromodulation=None, output_file='simulation/output-no-gj.hdf5', path='FS_network_4-synaptic', profile=False, randomseed=None, record_all=None, record_volt=True, time=1.0, verbose=False)\n",
      "Using input file FS_network_4-synaptic/input-spikes.hdf5\n",
      "NEURON mechanisms already compiled, make sure you have the correct version of NEURON modules.\n",
      "If you delete x86_64 directory (or nrnmech.dll) then you will force a recompilation of the modules.\n",
      "args: Namespace(action='simulate', disable_gj=False, exportCoreNeuron=False, input_file=None, mech_dir=None, network_file=None, neuromodulation=None, output_file='simulation/output-no-gj.hdf5', path='FS_network_4-synaptic', profile=False, randomseed=None, record_all=None, record_volt=True, time=1.0, verbose=False)\n",
      "Loading 10 neurons with 275 synapses and 298 gap junctions\n",
      "Loading 10 neurons with 275 synapses and 298 gap junctions\n",
      "Found 280 local gap junctions on node.\n",
      "Found 316 local gap junctions on node.\n",
      "Running simulation for 1000.0 ms.\n",
      "Running simulation for 1000.0 ms.\n",
      "Running simulation for 1.0 s\n",
      "Running simulation for 1.0 s\n",
      "Running Neuron simulator 1000 ms, with dt=0.025\n",
      "Running Neuron simulator 1000 ms, with dt=0.025\n",
      "1% done. Elapsed: 2.0 s, estimated time left: 195.9 s\n",
      "73% done. Elapsed: 102.1 s, estimated time left: 37.7 s\n",
      "99% done. Elapsed: 136.9 s, estimated time left: 1.4 s\n",
      "Neuron simulation finished\n",
      "Neuron simulation finished\n",
      "Simulation run time: 137.9 s\n",
      "Simulation done, saving output\n",
      "Simulation run time: 138.3 s\n",
      "Simulation done, saving output\n",
      "Writing network output to simulation/output-no-gj.hdf5\n",
      "Program run time: 152.2s\n"
     ]
    }
   ],
   "source": [
    "!mpiexec -n 2 snudda simulate FS_network_4-synaptic --time 1 --outputFile simulation/output-no-gj.hdf5"
   ]
  },
  {
   "cell_type": "code",
   "execution_count": 9,
   "id": "6b1ab7d3",
   "metadata": {},
   "outputs": [
    {
     "name": "stdout",
     "output_type": "stream",
     "text": [
      "Loading FS_network_4-synaptic/simulation/output-no-gj.hdf5\n"
     ]
    },
    {
     "ename": "FileNotFoundError",
     "evalue": "[Errno 2] Unable to open file (unable to open file: name = 'FS_network_4-synaptic/simulation/output-no-gj.hdf5', errno = 2, error message = 'No such file or directory', flags = 0, o_flags = 0)",
     "output_type": "error",
     "traceback": [
      "\u001b[0;31m---------------------------------------------------------------------------\u001b[0m",
      "\u001b[0;31mFileNotFoundError\u001b[0m                         Traceback (most recent call last)",
      "\u001b[0;32m/tmp/ipykernel_22006/2797899627.py\u001b[0m in \u001b[0;36m<module>\u001b[0;34m\u001b[0m\n\u001b[1;32m      1\u001b[0m \u001b[0;32mfrom\u001b[0m \u001b[0msnudda\u001b[0m\u001b[0;34m.\u001b[0m\u001b[0mplotting\u001b[0m\u001b[0;34m.\u001b[0m\u001b[0mplot_cross_correlogram\u001b[0m \u001b[0;32mimport\u001b[0m \u001b[0mPlotCrossCorrelogram\u001b[0m\u001b[0;34m\u001b[0m\u001b[0;34m\u001b[0m\u001b[0m\n\u001b[0;32m----> 2\u001b[0;31m \u001b[0mpcc\u001b[0m \u001b[0;34m=\u001b[0m \u001b[0mPlotCrossCorrelogram\u001b[0m\u001b[0;34m(\u001b[0m\u001b[0mos\u001b[0m\u001b[0;34m.\u001b[0m\u001b[0mpath\u001b[0m\u001b[0;34m.\u001b[0m\u001b[0mjoin\u001b[0m\u001b[0;34m(\u001b[0m\u001b[0mnetwork_path\u001b[0m\u001b[0;34m,\u001b[0m \u001b[0;34m\"simulation\"\u001b[0m\u001b[0;34m,\u001b[0m \u001b[0;34m\"output-no-gj.hdf5\"\u001b[0m\u001b[0;34m)\u001b[0m\u001b[0;34m)\u001b[0m\u001b[0;34m\u001b[0m\u001b[0;34m\u001b[0m\u001b[0m\n\u001b[0m\u001b[1;32m      3\u001b[0m \u001b[0mpcc\u001b[0m\u001b[0;34m.\u001b[0m\u001b[0mplot_all_pair_cross_correlogram\u001b[0m\u001b[0;34m(\u001b[0m\u001b[0mneuron_id\u001b[0m\u001b[0;34m=\u001b[0m\u001b[0;32mNone\u001b[0m\u001b[0;34m,\u001b[0m \u001b[0mfig_file_name\u001b[0m\u001b[0;34m=\u001b[0m\u001b[0mos\u001b[0m\u001b[0;34m.\u001b[0m\u001b[0mpath\u001b[0m\u001b[0;34m.\u001b[0m\u001b[0mjoin\u001b[0m\u001b[0;34m(\u001b[0m\u001b[0mnetwork_path\u001b[0m\u001b[0;34m,\u001b[0m \u001b[0;34m\"figures\"\u001b[0m\u001b[0;34m,\u001b[0m \u001b[0;34m\"FS-cross-corr-no-gj.png\"\u001b[0m\u001b[0;34m)\u001b[0m\u001b[0;34m)\u001b[0m\u001b[0;34m\u001b[0m\u001b[0;34m\u001b[0m\u001b[0m\n",
      "\u001b[0;32m~/HBP/Snudda/snudda/plotting/plot_cross_correlogram.py\u001b[0m in \u001b[0;36m__init__\u001b[0;34m(self, simulation_file)\u001b[0m\n\u001b[1;32m     10\u001b[0m     \u001b[0;32mdef\u001b[0m \u001b[0m__init__\u001b[0m\u001b[0;34m(\u001b[0m\u001b[0mself\u001b[0m\u001b[0;34m,\u001b[0m \u001b[0msimulation_file\u001b[0m\u001b[0;34m)\u001b[0m\u001b[0;34m:\u001b[0m\u001b[0;34m\u001b[0m\u001b[0;34m\u001b[0m\u001b[0m\n\u001b[1;32m     11\u001b[0m \u001b[0;34m\u001b[0m\u001b[0m\n\u001b[0;32m---> 12\u001b[0;31m         \u001b[0mself\u001b[0m\u001b[0;34m.\u001b[0m\u001b[0msim_data\u001b[0m \u001b[0;34m=\u001b[0m \u001b[0mSnuddaLoadNetworkSimulation\u001b[0m\u001b[0;34m(\u001b[0m\u001b[0mnetwork_simulation_output_file\u001b[0m\u001b[0;34m=\u001b[0m\u001b[0msimulation_file\u001b[0m\u001b[0;34m)\u001b[0m\u001b[0;34m\u001b[0m\u001b[0;34m\u001b[0m\u001b[0m\n\u001b[0m\u001b[1;32m     13\u001b[0m \u001b[0;34m\u001b[0m\u001b[0m\n\u001b[1;32m     14\u001b[0m     \u001b[0;32mdef\u001b[0m \u001b[0mcalculate_all_pair_cross_correlogram\u001b[0m\u001b[0;34m(\u001b[0m\u001b[0mself\u001b[0m\u001b[0;34m,\u001b[0m \u001b[0mneuron_id\u001b[0m\u001b[0;34m)\u001b[0m\u001b[0;34m:\u001b[0m\u001b[0;34m\u001b[0m\u001b[0;34m\u001b[0m\u001b[0m\n",
      "\u001b[0;32m~/HBP/Snudda/snudda/utils/load_network_simulation.py\u001b[0m in \u001b[0;36m__init__\u001b[0;34m(self, network_simulation_output_file, network_path)\u001b[0m\n\u001b[1;32m     29\u001b[0m \u001b[0;34m\u001b[0m\u001b[0m\n\u001b[1;32m     30\u001b[0m         \u001b[0;32mif\u001b[0m \u001b[0mself\u001b[0m\u001b[0;34m.\u001b[0m\u001b[0mnetwork_simulation_output_file_name\u001b[0m\u001b[0;34m:\u001b[0m\u001b[0;34m\u001b[0m\u001b[0;34m\u001b[0m\u001b[0m\n\u001b[0;32m---> 31\u001b[0;31m             \u001b[0mself\u001b[0m\u001b[0;34m.\u001b[0m\u001b[0mload\u001b[0m\u001b[0;34m(\u001b[0m\u001b[0;34m)\u001b[0m\u001b[0;34m\u001b[0m\u001b[0;34m\u001b[0m\u001b[0m\n\u001b[0m\u001b[1;32m     32\u001b[0m \u001b[0;34m\u001b[0m\u001b[0m\n\u001b[1;32m     33\u001b[0m     \u001b[0;32mdef\u001b[0m \u001b[0mload\u001b[0m\u001b[0;34m(\u001b[0m\u001b[0mself\u001b[0m\u001b[0;34m,\u001b[0m \u001b[0mnetwork_simulation_output_file\u001b[0m\u001b[0;34m=\u001b[0m\u001b[0;32mNone\u001b[0m\u001b[0;34m)\u001b[0m\u001b[0;34m:\u001b[0m\u001b[0;34m\u001b[0m\u001b[0;34m\u001b[0m\u001b[0m\n",
      "\u001b[0;32m~/HBP/Snudda/snudda/utils/load_network_simulation.py\u001b[0m in \u001b[0;36mload\u001b[0;34m(self, network_simulation_output_file)\u001b[0m\n\u001b[1;32m     37\u001b[0m \u001b[0;34m\u001b[0m\u001b[0m\n\u001b[1;32m     38\u001b[0m         \u001b[0mprint\u001b[0m\u001b[0;34m(\u001b[0m\u001b[0;34mf\"Loading {network_simulation_output_file}\"\u001b[0m\u001b[0;34m)\u001b[0m\u001b[0;34m\u001b[0m\u001b[0;34m\u001b[0m\u001b[0m\n\u001b[0;32m---> 39\u001b[0;31m         \u001b[0mself\u001b[0m\u001b[0;34m.\u001b[0m\u001b[0mnetwork_simulation_file\u001b[0m \u001b[0;34m=\u001b[0m \u001b[0mh5py\u001b[0m\u001b[0;34m.\u001b[0m\u001b[0mFile\u001b[0m\u001b[0;34m(\u001b[0m\u001b[0mnetwork_simulation_output_file\u001b[0m\u001b[0;34m,\u001b[0m \u001b[0;34m\"r\"\u001b[0m\u001b[0;34m)\u001b[0m\u001b[0;34m\u001b[0m\u001b[0;34m\u001b[0m\u001b[0m\n\u001b[0m\u001b[1;32m     40\u001b[0m \u001b[0;34m\u001b[0m\u001b[0m\n\u001b[1;32m     41\u001b[0m     \u001b[0;32mdef\u001b[0m \u001b[0mclose\u001b[0m\u001b[0;34m(\u001b[0m\u001b[0mself\u001b[0m\u001b[0;34m)\u001b[0m\u001b[0;34m:\u001b[0m\u001b[0;34m\u001b[0m\u001b[0;34m\u001b[0m\u001b[0m\n",
      "\u001b[0;32m~/.local/lib/python3.7/site-packages/h5py/_hl/files.py\u001b[0m in \u001b[0;36m__init__\u001b[0;34m(self, name, mode, driver, libver, userblock_size, swmr, rdcc_nslots, rdcc_nbytes, rdcc_w0, track_order, fs_strategy, fs_persist, fs_threshold, fs_page_size, page_buf_size, min_meta_keep, min_raw_keep, locking, **kwds)\u001b[0m\n\u001b[1;32m    505\u001b[0m                                  \u001b[0mfs_persist\u001b[0m\u001b[0;34m=\u001b[0m\u001b[0mfs_persist\u001b[0m\u001b[0;34m,\u001b[0m \u001b[0mfs_threshold\u001b[0m\u001b[0;34m=\u001b[0m\u001b[0mfs_threshold\u001b[0m\u001b[0;34m,\u001b[0m\u001b[0;34m\u001b[0m\u001b[0;34m\u001b[0m\u001b[0m\n\u001b[1;32m    506\u001b[0m                                  fs_page_size=fs_page_size)\n\u001b[0;32m--> 507\u001b[0;31m                 \u001b[0mfid\u001b[0m \u001b[0;34m=\u001b[0m \u001b[0mmake_fid\u001b[0m\u001b[0;34m(\u001b[0m\u001b[0mname\u001b[0m\u001b[0;34m,\u001b[0m \u001b[0mmode\u001b[0m\u001b[0;34m,\u001b[0m \u001b[0muserblock_size\u001b[0m\u001b[0;34m,\u001b[0m \u001b[0mfapl\u001b[0m\u001b[0;34m,\u001b[0m \u001b[0mfcpl\u001b[0m\u001b[0;34m,\u001b[0m \u001b[0mswmr\u001b[0m\u001b[0;34m=\u001b[0m\u001b[0mswmr\u001b[0m\u001b[0;34m)\u001b[0m\u001b[0;34m\u001b[0m\u001b[0;34m\u001b[0m\u001b[0m\n\u001b[0m\u001b[1;32m    508\u001b[0m \u001b[0;34m\u001b[0m\u001b[0m\n\u001b[1;32m    509\u001b[0m             \u001b[0;32mif\u001b[0m \u001b[0misinstance\u001b[0m\u001b[0;34m(\u001b[0m\u001b[0mlibver\u001b[0m\u001b[0;34m,\u001b[0m \u001b[0mtuple\u001b[0m\u001b[0;34m)\u001b[0m\u001b[0;34m:\u001b[0m\u001b[0;34m\u001b[0m\u001b[0;34m\u001b[0m\u001b[0m\n",
      "\u001b[0;32m~/.local/lib/python3.7/site-packages/h5py/_hl/files.py\u001b[0m in \u001b[0;36mmake_fid\u001b[0;34m(name, mode, userblock_size, fapl, fcpl, swmr)\u001b[0m\n\u001b[1;32m    218\u001b[0m         \u001b[0;32mif\u001b[0m \u001b[0mswmr\u001b[0m \u001b[0;32mand\u001b[0m \u001b[0mswmr_support\u001b[0m\u001b[0;34m:\u001b[0m\u001b[0;34m\u001b[0m\u001b[0;34m\u001b[0m\u001b[0m\n\u001b[1;32m    219\u001b[0m             \u001b[0mflags\u001b[0m \u001b[0;34m|=\u001b[0m \u001b[0mh5f\u001b[0m\u001b[0;34m.\u001b[0m\u001b[0mACC_SWMR_READ\u001b[0m\u001b[0;34m\u001b[0m\u001b[0;34m\u001b[0m\u001b[0m\n\u001b[0;32m--> 220\u001b[0;31m         \u001b[0mfid\u001b[0m \u001b[0;34m=\u001b[0m \u001b[0mh5f\u001b[0m\u001b[0;34m.\u001b[0m\u001b[0mopen\u001b[0m\u001b[0;34m(\u001b[0m\u001b[0mname\u001b[0m\u001b[0;34m,\u001b[0m \u001b[0mflags\u001b[0m\u001b[0;34m,\u001b[0m \u001b[0mfapl\u001b[0m\u001b[0;34m=\u001b[0m\u001b[0mfapl\u001b[0m\u001b[0;34m)\u001b[0m\u001b[0;34m\u001b[0m\u001b[0;34m\u001b[0m\u001b[0m\n\u001b[0m\u001b[1;32m    221\u001b[0m     \u001b[0;32melif\u001b[0m \u001b[0mmode\u001b[0m \u001b[0;34m==\u001b[0m \u001b[0;34m'r+'\u001b[0m\u001b[0;34m:\u001b[0m\u001b[0;34m\u001b[0m\u001b[0;34m\u001b[0m\u001b[0m\n\u001b[1;32m    222\u001b[0m         \u001b[0mfid\u001b[0m \u001b[0;34m=\u001b[0m \u001b[0mh5f\u001b[0m\u001b[0;34m.\u001b[0m\u001b[0mopen\u001b[0m\u001b[0;34m(\u001b[0m\u001b[0mname\u001b[0m\u001b[0;34m,\u001b[0m \u001b[0mh5f\u001b[0m\u001b[0;34m.\u001b[0m\u001b[0mACC_RDWR\u001b[0m\u001b[0;34m,\u001b[0m \u001b[0mfapl\u001b[0m\u001b[0;34m=\u001b[0m\u001b[0mfapl\u001b[0m\u001b[0;34m)\u001b[0m\u001b[0;34m\u001b[0m\u001b[0;34m\u001b[0m\u001b[0m\n",
      "\u001b[0;32mh5py/_objects.pyx\u001b[0m in \u001b[0;36mh5py._objects.with_phil.wrapper\u001b[0;34m()\u001b[0m\n",
      "\u001b[0;32mh5py/_objects.pyx\u001b[0m in \u001b[0;36mh5py._objects.with_phil.wrapper\u001b[0;34m()\u001b[0m\n",
      "\u001b[0;32mh5py/h5f.pyx\u001b[0m in \u001b[0;36mh5py.h5f.open\u001b[0;34m()\u001b[0m\n",
      "\u001b[0;31mFileNotFoundError\u001b[0m: [Errno 2] Unable to open file (unable to open file: name = 'FS_network_4-synaptic/simulation/output-no-gj.hdf5', errno = 2, error message = 'No such file or directory', flags = 0, o_flags = 0)"
     ]
    }
   ],
   "source": [
    "from snudda.plotting.plot_cross_correlogram import PlotCrossCorrelogram\n",
    "pcc = PlotCrossCorrelogram(os.path.join(network_path, \"simulation\", \"output-no-gj.hdf5\"))\n",
    "pcc.plot_all_pair_cross_correlogram(neuron_id=None, fig_file_name=os.path.join(network_path, \"figures\", \"FS-cross-corr-no-gj.png\"))"
   ]
  },
  {
   "cell_type": "code",
   "execution_count": null,
   "id": "fb89f639",
   "metadata": {},
   "outputs": [],
   "source": []
  }
 ],
 "metadata": {
  "kernelspec": {
   "display_name": "Python 3 (ipykernel)",
   "language": "python",
   "name": "python3"
  },
  "language_info": {
   "codemirror_mode": {
    "name": "ipython",
    "version": 3
   },
   "file_extension": ".py",
   "mimetype": "text/x-python",
   "name": "python",
   "nbconvert_exporter": "python",
   "pygments_lexer": "ipython3",
   "version": "3.7.3"
  }
 },
 "nbformat": 4,
 "nbformat_minor": 5
}
