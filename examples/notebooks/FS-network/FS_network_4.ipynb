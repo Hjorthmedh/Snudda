{
 "cells": [
  {
   "cell_type": "markdown",
   "id": "7c5afb9e",
   "metadata": {},
   "source": [
    "# Gap junction coupled neurons driven by synaptic input\n",
    "\n",
    "When a network is driven by continuous current injections each neuron receives a steady depolarisation, however when instead driven by more natural synaptic input, the neurons receive random input. Here the gap junctions are less able to synchronise the input.\n",
    "\n",
    "This uses the same striatal network as before [FS_network_3.ipynb](FS_network_3.ipynb) but this time it is driven by synaptic input."
   ]
  },
  {
   "cell_type": "code",
   "execution_count": 1,
   "id": "06bf02a6",
   "metadata": {},
   "outputs": [],
   "source": [
    "import os\n",
    "os.environ[\"SNUDDA_DATA\"] = \"../../../../BasalGangliaData/data/\"\n",
    "assert os.path.isdir(os.getenv(\"SNUDDA_DATA\")), f\"You need to have BasalGangliaData installed for this example. You can run this example without it, but then do not execute this cell.\"\n",
    "\n",
    "network_path = os.path.join(\"FS_network_4-synaptic\")"
   ]
  },
  {
   "cell_type": "code",
   "execution_count": 2,
   "id": "6e9b00f6",
   "metadata": {},
   "outputs": [
    {
     "name": "stdout",
     "output_type": "stream",
     "text": [
      "Using cube for striatum\n",
      "Neurons for striatum read from /home/hjorth/HBP/BasalGangliaData/data/neurons/striatum\n",
      "Adding neurons: FS from dir /home/hjorth/HBP/BasalGangliaData/data/neurons/striatum/fs\n",
      "Writing FS_network_4-synaptic/network-config.json\n"
     ]
    }
   ],
   "source": [
    "# This should be 100 neurons to match previous run, setting it to 10 FS for speed while developing\n",
    "\n",
    "from snudda.init.init import SnuddaInit\n",
    "cnc = SnuddaInit(struct_def={}, network_path=network_path, random_seed=1337)\n",
    "cnc.define_striatum(num_dSPN=0, num_iSPN=0, num_FS=10, num_LTS=0, num_ChIN=0,\n",
    "                    volume_type=\"cube\", side_len=230e-6)\n",
    "cnc.write_json()"
   ]
  },
  {
   "cell_type": "code",
   "execution_count": 3,
   "id": "1e1f0a27",
   "metadata": {},
   "outputs": [],
   "source": [
    "from snudda import SnuddaPlace\n",
    "sp = SnuddaPlace(network_path=network_path, verbose=False)\n",
    "sp.place()"
   ]
  },
  {
   "cell_type": "code",
   "execution_count": 4,
   "id": "1bc3d428",
   "metadata": {},
   "outputs": [
    {
     "name": "stdout",
     "output_type": "stream",
     "text": [
      "No d_view specified, running distribute neurons in serial\n",
      "Processing hyper voxel : 37/150 (10 neurons)\n",
      "Processing hyper voxel : 67/150 (10 neurons)\n",
      "Processing hyper voxel : 43/150 (10 neurons)\n",
      "Processing hyper voxel : 36/150 (10 neurons)\n",
      "Processing hyper voxel : 66/150 (9 neurons)\n",
      "Processing hyper voxel : 73/150 (9 neurons)\n",
      "Processing hyper voxel : 31/150 (9 neurons)\n",
      "Processing hyper voxel : 61/150 (7 neurons)\n",
      "Processing hyper voxel : 42/150 (7 neurons)\n",
      "Processing hyper voxel : 30/150 (6 neurons)\n",
      "Processing hyper voxel : 60/150 (6 neurons)\n",
      "Processing hyper voxel : 72/150 (6 neurons)\n",
      "Processing hyper voxel : 68/150 (5 neurons)\n",
      "Processing hyper voxel : 38/150 (5 neurons)\n",
      "Processing hyper voxel : 96/150 (4 neurons)\n",
      "Processing hyper voxel : 97/150 (4 neurons)\n",
      "Processing hyper voxel : 7/150 (3 neurons)\n",
      "Processing hyper voxel : 103/150 (3 neurons)\n",
      "Processing hyper voxel : 74/150 (2 neurons)\n",
      "Processing hyper voxel : 2/150 (2 neurons)\n",
      "Processing hyper voxel : 79/150 (2 neurons)\n",
      "Processing hyper voxel : 6/150 (2 neurons)\n",
      "Processing hyper voxel : 50/150 (2 neurons)\n",
      "Processing hyper voxel : 20/150 (2 neurons)\n",
      "Processing hyper voxel : 91/150 (2 neurons)\n",
      "Processing hyper voxel : 44/150 (2 neurons)\n",
      "Processing hyper voxel : 8/150 (2 neurons)\n",
      "Processing hyper voxel : 32/150 (2 neurons)\n",
      "Processing hyper voxel : 49/150 (2 neurons)\n",
      "Processing hyper voxel : 90/150 (1 neurons)\n",
      "Processing hyper voxel : 80/150 (1 neurons)\n",
      "Processing hyper voxel : 99/150 (1 neurons)\n",
      "Processing hyper voxel : 98/150 (1 neurons)\n",
      "Processing hyper voxel : 102/150 (1 neurons)\n",
      "Processing hyper voxel : 93/150 (1 neurons)\n",
      "Processing hyper voxel : 94/150 (1 neurons)\n",
      "Processing hyper voxel : 0/150 (1 neurons)\n",
      "Processing hyper voxel : 69/150 (1 neurons)\n",
      "Processing hyper voxel : 64/150 (1 neurons)\n",
      "Processing hyper voxel : 63/150 (1 neurons)\n",
      "Processing hyper voxel : 62/150 (1 neurons)\n",
      "Processing hyper voxel : 48/150 (1 neurons)\n",
      "Processing hyper voxel : 33/150 (1 neurons)\n",
      "Processing hyper voxel : 19/150 (1 neurons)\n",
      "Processing hyper voxel : 18/150 (1 neurons)\n",
      "Processing hyper voxel : 14/150 (1 neurons)\n",
      "Processing hyper voxel : 13/150 (1 neurons)\n",
      "Processing hyper voxel : 12/150 (1 neurons)\n",
      "Processing hyper voxel : 1/150 (1 neurons)\n",
      "Processing hyper voxel : 70/150 (1 neurons)\n",
      "Processing hyper voxel : 104/150 (1 neurons)\n"
     ]
    }
   ],
   "source": [
    "from snudda import SnuddaDetect\n",
    "\n",
    "sd = SnuddaDetect(network_path=network_path)\n",
    "sd.detect()"
   ]
  },
  {
   "cell_type": "code",
   "execution_count": 5,
   "id": "e1dc3335",
   "metadata": {},
   "outputs": [
    {
     "name": "stdout",
     "output_type": "stream",
     "text": [
      "Read 2243 out of total 2243 synapses\n",
      "Read 494 out of total 494 gapJunctions\n"
     ]
    }
   ],
   "source": [
    "from snudda import SnuddaPrune\n",
    "\n",
    "sp = SnuddaPrune(network_path=network_path)\n",
    "sp.prune()"
   ]
  },
  {
   "cell_type": "code",
   "execution_count": 6,
   "id": "ac4a169b",
   "metadata": {},
   "outputs": [
    {
     "name": "stdout",
     "output_type": "stream",
     "text": [
      "/home/hjorth/HBP/Snudda/examples/notebooks/FS-network\n",
      "Mod files: \"../../../../BasalGangliaData/data//neurons/mechanisms/bk_ch.mod\" \"../../../../BasalGangliaData/data//neurons/mechanisms/bk_fs.mod\" \"../../../../BasalGangliaData/data//neurons/mechanisms/bk_ms.mod\" \"../../../../BasalGangliaData/data//neurons/mechanisms/ca_ch.mod\" \"../../../../BasalGangliaData/data//neurons/mechanisms/cadyn_fs.mod\" \"../../../../BasalGangliaData/data//neurons/mechanisms/cadyn_ms.mod\" \"../../../../BasalGangliaData/data//neurons/mechanisms/cal12_ms.mod\" \"../../../../BasalGangliaData/data//neurons/mechanisms/cal13_ms.mod\" \"../../../../BasalGangliaData/data//neurons/mechanisms/cal_ch.mod\" \"../../../../BasalGangliaData/data//neurons/mechanisms/caldyn_ms.mod\" \"../../../../BasalGangliaData/data//neurons/mechanisms/can_fs.mod\" \"../../../../BasalGangliaData/data//neurons/mechanisms/can_ms.mod\" \"../../../../BasalGangliaData/data//neurons/mechanisms/cap_ch.mod\" \"../../../../BasalGangliaData/data//neurons/mechanisms/caq_fs.mod\" \"../../../../BasalGangliaData/data//neurons/mechanisms/caq_ms.mod\" \"../../../../BasalGangliaData/data//neurons/mechanisms/car_fs.mod\" \"../../../../BasalGangliaData/data//neurons/mechanisms/car_ms.mod\" \"../../../../BasalGangliaData/data//neurons/mechanisms/cat32_ms.mod\" \"../../../../BasalGangliaData/data//neurons/mechanisms/cat33_ms.mod\" \"../../../../BasalGangliaData/data//neurons/mechanisms/concACh.mod\" \"../../../../BasalGangliaData/data//neurons/mechanisms/concDA.mod\" \"../../../../BasalGangliaData/data//neurons/mechanisms/hcn12_ch.mod\" \"../../../../BasalGangliaData/data//neurons/mechanisms/hd_lts.mod\" \"../../../../BasalGangliaData/data//neurons/mechanisms/im_lts.mod\" \"../../../../BasalGangliaData/data//neurons/mechanisms/Im_ms.mod\" \"../../../../BasalGangliaData/data//neurons/mechanisms/it_lts.mod\" \"../../../../BasalGangliaData/data//neurons/mechanisms/kaf_fs.mod\" \"../../../../BasalGangliaData/data//neurons/mechanisms/kaf_lts.mod\" \"../../../../BasalGangliaData/data//neurons/mechanisms/kaf_ms.mod\" \"../../../../BasalGangliaData/data//neurons/mechanisms/kas_fs.mod\" \"../../../../BasalGangliaData/data//neurons/mechanisms/kas_ms.mod\" \"../../../../BasalGangliaData/data//neurons/mechanisms/kcnq_ch.mod\" \"../../../../BasalGangliaData/data//neurons/mechanisms/kdb_lts.mod\" \"../../../../BasalGangliaData/data//neurons/mechanisms/kdrb_lts.mod\" \"../../../../BasalGangliaData/data//neurons/mechanisms/kdr_fs.mod\" \"../../../../BasalGangliaData/data//neurons/mechanisms/kdr_lts.mod\" \"../../../../BasalGangliaData/data//neurons/mechanisms/kdr_ms.mod\" \"../../../../BasalGangliaData/data//neurons/mechanisms/kir23_ch.mod\" \"../../../../BasalGangliaData/data//neurons/mechanisms/kir23_lts.mod\" \"../../../../BasalGangliaData/data//neurons/mechanisms/kir2_ch.mod\" \"../../../../BasalGangliaData/data//neurons/mechanisms/kir_fs.mod\" \"../../../../BasalGangliaData/data//neurons/mechanisms/kir_ms.mod\" \"../../../../BasalGangliaData/data//neurons/mechanisms/kv2_ch.mod\" \"../../../../BasalGangliaData/data//neurons/mechanisms/kv4_ch.mod\" \"../../../../BasalGangliaData/data//neurons/mechanisms/na2_ch.mod\" \"../../../../BasalGangliaData/data//neurons/mechanisms/na3_lts.mod\" \"../../../../BasalGangliaData/data//neurons/mechanisms/na_ch.mod\" \"../../../../BasalGangliaData/data//neurons/mechanisms/naf_fs.mod\" \"../../../../BasalGangliaData/data//neurons/mechanisms/naf_lts.mod\" \"../../../../BasalGangliaData/data//neurons/mechanisms/naf_ms.mod\" \"../../../../BasalGangliaData/data//neurons/mechanisms/NO.mod\" \"../../../../BasalGangliaData/data//neurons/mechanisms/par_ggap.mod\" \"../../../../BasalGangliaData/data//neurons/mechanisms/sk_ch.mod\" \"../../../../BasalGangliaData/data//neurons/mechanisms/sk_fs.mod\" \"../../../../BasalGangliaData/data//neurons/mechanisms/sk_ms.mod\" \"../../../../BasalGangliaData/data//neurons/mechanisms/tmgabaa.mod\" \"../../../../BasalGangliaData/data//neurons/mechanisms/tmglut.mod\" \"../../../../BasalGangliaData/data//neurons/mechanisms/vecevent.mod\"\n",
      "\n",
      "COBJS=''\n",
      " -> \u001b[32mCompiling\u001b[0m mod_func.c\n",
      "x86_64-linux-gnu-gcc -O2   -I.   -I/home/hjorth/.local/lib/python3.7/site-packages/neuron/.data/include  -I/nrnwheel/openmpi/include -fPIC -c mod_func.c -o mod_func.o\n",
      " => \u001b[32mLINKING\u001b[0m shared library ./libnrnmech.so\n",
      "x86_64-linux-gnu-g++ -O2 -DVERSION_INFO='8.0.2' -std=c++11 -shared -fPIC  -I /home/hjorth/.local/lib/python3.7/site-packages/neuron/.data/include -o ./libnrnmech.so -Wl,-soname,libnrnmech.so \\\n",
      "  ./mod_func.o ./bk_ch.o ./bk_fs.o ./bk_ms.o ./ca_ch.o ./cadyn_fs.o ./cadyn_ms.o ./cal12_ms.o ./cal13_ms.o ./cal_ch.o ./caldyn_ms.o ./can_fs.o ./can_ms.o ./cap_ch.o ./caq_fs.o ./caq_ms.o ./car_fs.o ./car_ms.o ./cat32_ms.o ./cat33_ms.o ./concACh.o ./concDA.o ./hcn12_ch.o ./hd_lts.o ./im_lts.o ./Im_ms.o ./it_lts.o ./kaf_fs.o ./kaf_lts.o ./kaf_ms.o ./kas_fs.o ./kas_ms.o ./kcnq_ch.o ./kdb_lts.o ./kdrb_lts.o ./kdr_fs.o ./kdr_lts.o ./kdr_ms.o ./kir23_ch.o ./kir23_lts.o ./kir2_ch.o ./kir_fs.o ./kir_ms.o ./kv2_ch.o ./kv4_ch.o ./na2_ch.o ./na3_lts.o ./na_ch.o ./naf_fs.o ./naf_lts.o ./naf_ms.o ./NO.o ./par_ggap.o ./sk_ch.o ./sk_fs.o ./sk_ms.o ./tmgabaa.o ./tmglut.o ./vecevent.o  -L/home/hjorth/.local/lib/python3.7/site-packages/neuron/.data/lib -lnrniv -Wl,-rpath,/home/hjorth/.local/lib/python3.7/site-packages/neuron/.data/lib   \n",
      "rm -f ./.libs/libnrnmech.so ; mkdir -p ./.libs ; cp ./libnrnmech.so ./.libs/libnrnmech.so\n",
      "Successfully created x86_64/special\n"
     ]
    }
   ],
   "source": [
    "!nrnivmodl $SNUDDA_DATA/neurons/mechanisms"
   ]
  },
  {
   "cell_type": "code",
   "execution_count": 7,
   "id": "8c766822",
   "metadata": {},
   "outputs": [
    {
     "name": "stdout",
     "output_type": "stream",
     "text": [
      "Loading 10 neurons with 275 synapses and 298 gap junctions\n",
      "Writing spikes to FS_network_4-synaptic/input-spikes.hdf5\n"
     ]
    }
   ],
   "source": [
    "import os\n",
    "from snudda.input import SnuddaInput\n",
    "si = SnuddaInput(network_path=network_path, \n",
    "                 input_config_file=\"example-FS-input-4.json\",\n",
    "                 verbose=False)\n",
    "si.generate()"
   ]
  },
  {
   "cell_type": "code",
   "execution_count": null,
   "id": "bf6141b9",
   "metadata": {},
   "outputs": [
    {
     "name": "stdout",
     "output_type": "stream",
     "text": [
      "numprocs=2\n",
      "Using input file FS_network_4-synaptic/input-spikes.hdf5\n",
      "NEURON mechanisms already compiled, make sure you have the correct version of NEURON modules.\n",
      "If you delete x86_64 directory (or nrnmech.dll) then you will force a recompilation of the modules.\n",
      "args: Namespace(action='simulate', disable_gj=True, disable_synapses=True, exportCoreNeuron=False, input_file=None, mech_dir=None, network_file=None, neuromodulation=None, output_file='FS_network_4-synaptic/simulation/output-no-gj-no-syn.hdf5', path='FS_network_4-synaptic', profile=False, randomseed=None, record_all=None, record_volt=True, time=1.0, verbose=False)\n",
      "!!! WE HAVE DISABLED GAP JUNCTIONS !!!\n",
      "!!! SYNAPSES DISABLED\n",
      "Using input file FS_network_4-synaptic/input-spikes.hdf5\n",
      "NEURON mechanisms already compiled, make sure you have the correct version of NEURON modules.\n",
      "If you delete x86_64 directory (or nrnmech.dll) then you will force a recompilation of the modules.\n",
      "args: Namespace(action='simulate', disable_gj=True, disable_synapses=True, exportCoreNeuron=False, input_file=None, mech_dir=None, network_file=None, neuromodulation=None, output_file='FS_network_4-synaptic/simulation/output-no-gj-no-syn.hdf5', path='FS_network_4-synaptic', profile=False, randomseed=None, record_all=None, record_volt=True, time=1.0, verbose=False)\n",
      "!!! WE HAVE DISABLED GAP JUNCTIONS !!!\n",
      "!!! SYNAPSES DISABLED\n",
      "Loading 10 neurons with 275 synapses and 298 gap junctions\n",
      "Loading 10 neurons with 275 synapses and 298 gap junctions\n",
      "!!! Gap junctions disabled.\n",
      "!!! Gap junctions disabled.\n",
      "Running simulation for 1000.0 ms.\n",
      "Running simulation for 1000.0 ms.\n",
      "Running simulation for 1.0 s\n",
      "Running simulation for 1.0 s\n",
      "Running Neuron simulator 1000 ms, with dt=0.025\n",
      "Running Neuron simulator 1000 ms, with dt=0.025\n",
      "1% done. Elapsed: 2.4 s, estimated time left: 235.9 s\n",
      "30% done. Elapsed: 105.0 s, estimated time left: 244.9 s\n"
     ]
    }
   ],
   "source": [
    "!mpiexec -n 2 snudda simulate FS_network_4-synaptic --time 1 --disableGJ --disableSyn --outputFile FS_network_4-synaptic/simulation/output-no-gj-no-syn.hdf5"
   ]
  },
  {
   "cell_type": "code",
   "execution_count": null,
   "id": "7967004d",
   "metadata": {},
   "outputs": [],
   "source": [
    "!mpiexec -n 2 snudda simulate FS_network_4-synaptic --time 1 --disableSyn --outputFile FS_network_4-synaptic/simulation/output-no-syn.hdf5"
   ]
  },
  {
   "cell_type": "code",
   "execution_count": null,
   "id": "fc5b97ad",
   "metadata": {},
   "outputs": [],
   "source": [
    "!mpiexec -n 2 snudda simulate FS_network_4-synaptic --time 1 --disableGJ --outputFile FS_network_4-synaptic/simulation/output-no-gj.hdf5"
   ]
  },
  {
   "cell_type": "code",
   "execution_count": null,
   "id": "d7a6a7e7",
   "metadata": {},
   "outputs": [],
   "source": [
    "!mpiexec -n 2 snudda simulate FS_network_4-synaptic --time 1 --outputFile FS_network_4-synaptic/simulation/output.hdf5"
   ]
  },
  {
   "cell_type": "code",
   "execution_count": null,
   "id": "2b5f0eb3",
   "metadata": {},
   "outputs": [],
   "source": [
    "from snudda.plotting.plot_cross_correlogram import PlotCrossCorrelogram\n",
    "pcc0 = PlotCrossCorrelogram(os.path.join(network_path, \"simulation\", \"output-no-gj-no-syn.hdf5\"))\n",
    "pcc0.plot_all_pair_cross_correlogram(neuron_id=None, fig_file_name=os.path.join(network_path, \"figures\", \"FS-cross-corr-no-gj-no-syn.png\"))"
   ]
  },
  {
   "cell_type": "code",
   "execution_count": null,
   "id": "6b1ab7d3",
   "metadata": {},
   "outputs": [],
   "source": [
    "from snudda.plotting.plot_cross_correlogram import PlotCrossCorrelogram\n",
    "pcc1 = PlotCrossCorrelogram(os.path.join(network_path, \"simulation\", \"output-no-gj.hdf5\"))\n",
    "pcc1.plot_all_pair_cross_correlogram(neuron_id=None, fig_file_name=os.path.join(network_path, \"figures\", \"FS-cross-corr-no-gj.png\"))"
   ]
  },
  {
   "cell_type": "code",
   "execution_count": null,
   "id": "1e9e1df9",
   "metadata": {},
   "outputs": [],
   "source": [
    "from snudda.plotting.plot_cross_correlogram import PlotCrossCorrelogram\n",
    "pcc1 = PlotCrossCorrelogram(os.path.join(network_path, \"simulation\", \"output-no-syn.hdf5\"))\n",
    "pcc1.plot_all_pair_cross_correlogram(neuron_id=None, fig_file_name=os.path.join(network_path, \"figures\", \"FS-cross-corr-no-syn.png\"))"
   ]
  },
  {
   "cell_type": "code",
   "execution_count": null,
   "id": "62d9b721",
   "metadata": {},
   "outputs": [],
   "source": [
    "from snudda.plotting.plot_cross_correlogram import PlotCrossCorrelogram\n",
    "pcc2 = PlotCrossCorrelogram(os.path.join(network_path, \"simulation\", \"output.hdf5\"))\n",
    "pcc2.plot_all_pair_cross_correlogram(neuron_id=None, fig_file_name=os.path.join(network_path, \"figures\", \"FS-cross-corr.png\"))"
   ]
  },
  {
   "cell_type": "code",
   "execution_count": null,
   "id": "5418aff2",
   "metadata": {},
   "outputs": [],
   "source": [
    "output_file = os.path.join(network_path, \"simulation\", \"output-no-gj-no-syn.hdf5\")\n",
    "network_file = os.path.join(network_path, \"network-synapses.hdf5\")\n",
    "input_file = os.path.join(network_path, \"input-spikes.hdf5\")\n",
    "from snudda.plotting.plot_traces import PlotTraces\n",
    "pt = PlotTraces(output_file = output_file, network_file=network_file, input_file=input_file)\n",
    "pt.plot_traces(offset=None)"
   ]
  },
  {
   "cell_type": "code",
   "execution_count": null,
   "id": "fb89f639",
   "metadata": {},
   "outputs": [],
   "source": [
    "output_file = os.path.join(network_path, \"simulation\", \"output-no-gj.hdf5\")\n",
    "network_file = os.path.join(network_path, \"network-synapses.hdf5\")\n",
    "input_file = os.path.join(network_path, \"input-spikes.hdf5\")\n",
    "from snudda.plotting.plot_traces import PlotTraces\n",
    "pt = PlotTraces(output_file = output_file, network_file=network_file, input_file=input_file)\n",
    "pt.plot_traces(offset=None)"
   ]
  },
  {
   "cell_type": "code",
   "execution_count": null,
   "id": "ea7739b8",
   "metadata": {},
   "outputs": [],
   "source": [
    "output_file = os.path.join(network_path, \"simulation\", \"output.hdf5\")\n",
    "network_file = os.path.join(network_path, \"network-synapses.hdf5\")\n",
    "input_file = os.path.join(network_path, \"input-spikes.hdf5\")\n",
    "from snudda.plotting.plot_traces import PlotTraces\n",
    "pt = PlotTraces(output_file = output_file, network_file=network_file, input_file=input_file)\n",
    "pt.plot_traces(offset=None)"
   ]
  },
  {
   "cell_type": "code",
   "execution_count": null,
   "id": "223177e8",
   "metadata": {},
   "outputs": [],
   "source": []
  },
  {
   "cell_type": "code",
   "execution_count": null,
   "id": "a8be0f50",
   "metadata": {},
   "outputs": [],
   "source": []
  }
 ],
 "metadata": {
  "kernelspec": {
   "display_name": "Python 3 (ipykernel)",
   "language": "python",
   "name": "python3"
  },
  "language_info": {
   "codemirror_mode": {
    "name": "ipython",
    "version": 3
   },
   "file_extension": ".py",
   "mimetype": "text/x-python",
   "name": "python",
   "nbconvert_exporter": "python",
   "pygments_lexer": "ipython3",
   "version": "3.7.3"
  }
 },
 "nbformat": 4,
 "nbformat_minor": 5
}
