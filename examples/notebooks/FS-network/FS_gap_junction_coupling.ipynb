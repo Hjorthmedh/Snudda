{
 "cells": [
  {
   "cell_type": "code",
   "execution_count": 1,
   "id": "ce8b140f",
   "metadata": {},
   "outputs": [],
   "source": [
    "import os\n",
    "os.environ[\"SNUDDA_DATA\"] = \"../../../../BasalGangliaData/data/\"\n",
    "assert os.path.isdir(os.getenv(\"SNUDDA_DATA\")), f\"You need to have BasalGangliaData installed for this example. You can run this example without it, but then do not execute this cell.\""
   ]
  },
  {
   "cell_type": "code",
   "execution_count": 2,
   "id": "2c5bfbbc",
   "metadata": {},
   "outputs": [],
   "source": [
    "network_path = \"FS_gap_junction_coupling_simulation\"\n",
    "experiment_config_file = \"FS_gap_junction_experiment-0.json\""
   ]
  },
  {
   "cell_type": "code",
   "execution_count": null,
   "id": "393b9abf",
   "metadata": {},
   "outputs": [],
   "source": [
    "# 80500 neurons per mm3, 1.3% are FS.\n",
    "n_FS = 10\n",
    "d_cube = (100/80500)**(1/3) * 1e-3\n",
    "\n",
    "from snudda.place import create_cube_mesh\n",
    "mesh_file = os.path.join(network_path, \"mesh\", \"volume.obj\")\n",
    "create_cube_mesh(mesh_file, [0,0,0], d_cube, \"FS network volume\")"
   ]
  },
  {
   "cell_type": "code",
   "execution_count": null,
   "id": "9ccaa478",
   "metadata": {},
   "outputs": [],
   "source": [
    "from snudda.init import SnuddaInit\n",
    "si = SnuddaInit(network_path=network_path, random_seed=123)\n",
    "\n",
    "si.define_structure(struct_name=\"StriatalVolume\", struct_mesh=mesh_file, d_min=15e-6, mesh_bin_width=50e-6)\n",
    "\n",
    "si.add_neurons(name=\"FS\", num_neurons=n_FS, volume_id=\"StriatalVolume\",\n",
    "               neuron_dir=os.path.join(\"$SNUDDA_DATA\",\"neurons\",\"striatum\",\"fs\"))\n",
    "\n",
    "cluster_FS_synapses = True\n",
    "cluster_FS_gap_junctions = False\n",
    "FS_gGABA = [1.1e-9, 1.5e-9]\n",
    "FS_gGapJunction = [0.5e-9, 0.1e-9]\n",
    "\n",
    "if False:\n",
    "    # For this example we just want gap junctions, just listing GABA here for completness\n",
    "    si.add_neuron_target(neuron_name=\"FS\",\n",
    "                         target_name=\"FS\",\n",
    "                         connection_type=\"GABA\",\n",
    "                         dist_pruning=None,\n",
    "                         f1=0.15, soft_max=5, mu2=2, a3=1,\n",
    "                         conductance=FS_gGABA,\n",
    "                         cluster_synapses=cluster_FS_synapses,\n",
    "                         mod_file=\"tmGabaA\",\n",
    "                         channel_param_dictionary={\"tau1\": (1.33e-3, 1e3),\n",
    "                                                   \"tau2\": (5.7e-3, 1e3)})\n",
    "    \n",
    "si.add_neuron_target(neuron_name=\"FS\",\n",
    "                     target_name=\"FS\",\n",
    "                     connection_type=\"GapJunction\",\n",
    "                     dist_pruning=None,\n",
    "                     f1=0.7, soft_max=8, mu2=2, a3=1.0,\n",
    "                     conductance=FS_gGapJunction,\n",
    "                     cluster_synapses=cluster_FS_gap_junctions,\n",
    "                     channel_param_dictionary=None)\n",
    "\n",
    "si.write_json()"
   ]
  },
  {
   "cell_type": "code",
   "execution_count": null,
   "id": "dbe78573",
   "metadata": {},
   "outputs": [],
   "source": [
    "from snudda.place import SnuddaPlace\n",
    "sp = SnuddaPlace(network_path=network_path)\n",
    "sp.place()\n",
    "\n",
    "from snudda.detect import SnuddaDetect\n",
    "sd = SnuddaDetect(network_path=network_path)\n",
    "sd.detect()\n",
    "\n",
    "from snudda.detect import SnuddaPrune\n",
    "spr = SnuddaPrune(network_path=network_path)\n",
    "spr.prune()"
   ]
  },
  {
   "cell_type": "code",
   "execution_count": null,
   "id": "8d9b5f70",
   "metadata": {},
   "outputs": [],
   "source": [
    "!nrnivmodl $SNUDDA_DATA/neurons/mechanisms"
   ]
  },
  {
   "cell_type": "code",
   "execution_count": null,
   "id": "f0c53367",
   "metadata": {},
   "outputs": [],
   "source": [
    "from snudda.simulate.pair_recording import PairRecording\n",
    "\n",
    "pr = PairRecording(network_path=network_path, experiment_config_file=experiment_config_file)\n",
    "pr.run()"
   ]
  },
  {
   "cell_type": "code",
   "execution_count": 3,
   "id": "508d03de",
   "metadata": {},
   "outputs": [
    {
     "name": "stdout",
     "output_type": "stream",
     "text": [
      "Loading 10 neurons with 0 synapses and 133 gap junctions\n",
      "Loading FS_gap_junction_coupling_simulation/simulation/FS-gap-junction-output.hdf5\n"
     ]
    }
   ],
   "source": [
    "from snudda.analyse.analyse_gap_junction_coupling import AnalyseGapJunctionCoupling\n",
    "ac = AnalyseGapJunctionCoupling(network_path=network_path, \n",
    "                                experiment_config_file=experiment_config_file)"
   ]
  },
  {
   "cell_type": "code",
   "execution_count": 4,
   "id": "cfe06b43",
   "metadata": {},
   "outputs": [],
   "source": [
    "coupling, trace_info = ac.extract_coupling()"
   ]
  },
  {
   "cell_type": "code",
   "execution_count": 5,
   "id": "5310a796",
   "metadata": {},
   "outputs": [],
   "source": [
    "coupling, trace_info = ac.extract_coupling(duration=0.010)"
   ]
  },
  {
   "cell_type": "code",
   "execution_count": 6,
   "id": "ad29ddc7",
   "metadata": {},
   "outputs": [
    {
     "data": {
      "image/png": "[encoded data removed]",
      "text/plain": [
       "<Figure size 432x288 with 1 Axes>"
      ]
     },
     "metadata": {
      "needs_background": "light"
     },
     "output_type": "display_data"
    }
   ],
   "source": [
    "ac.plot_coupling(duration=0.010, amplitude=None)"
   ]
  },
  {
   "cell_type": "code",
   "execution_count": null,
   "id": "0171903a",
   "metadata": {},
   "outputs": [],
   "source": []
  }
 ],
 "metadata": {
  "kernelspec": {
   "display_name": "Python 3 (ipykernel)",
   "language": "python",
   "name": "python3"
  },
  "language_info": {
   "codemirror_mode": {
    "name": "ipython",
    "version": 3
   },
   "file_extension": ".py",
   "mimetype": "text/x-python",
   "name": "python",
   "nbconvert_exporter": "python",
   "pygments_lexer": "ipython3",
   "version": "3.7.3"
  }
 },
 "nbformat": 4,
 "nbformat_minor": 5
}
