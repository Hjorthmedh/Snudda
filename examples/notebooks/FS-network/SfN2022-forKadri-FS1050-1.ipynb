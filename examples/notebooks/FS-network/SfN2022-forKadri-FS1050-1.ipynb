{
 "cells": [
  {
   "cell_type": "code",
   "execution_count": null,
   "id": "6e5ef85f",
   "metadata": {},
   "outputs": [],
   "source": [
    "import os\n",
    "import numpy as np\n",
    "\n",
    "network_path = \"forKadri-FS1050-1\""
   ]
  },
  {
   "cell_type": "code",
   "execution_count": null,
   "id": "d33dc8d9",
   "metadata": {},
   "outputs": [],
   "source": [
    "from snudda.plotting import PlotInput\n",
    "input_file = os.path.join(network_path, \"input-spikes.hdf5\")\n",
    "spi = PlotInput(input_file)"
   ]
  },
  {
   "cell_type": "code",
   "execution_count": null,
   "id": "57f7dd92",
   "metadata": {},
   "outputs": [],
   "source": [
    "spi.plot_input_population_unit(population_unit_id=0, num_neurons=5, neuron_type=\"FS\", fig_size=(15,5))"
   ]
  },
  {
   "cell_type": "code",
   "execution_count": null,
   "id": "0fd86c6f",
   "metadata": {},
   "outputs": [],
   "source": [
    "from snudda.plotting import SnuddaPlotSpikeRaster2\n",
    "sim_file = os.path.join(network_path, \"simulation\", \"output.hdf5\")\n",
    "fig_path = os.path.join(network_path, \"figures\")\n",
    "fig_file_1 = os.path.join(fig_path, \"spike-raster-GJ.png\")\n",
    "fig_file_2 = os.path.join(fig_path, \"spike-histogram-GJ.png\")\n",
    "spr = SnuddaPlotSpikeRaster2(network_path=network_path, simulation_file=sim_file, figure_path=fig_path)\n",
    "spr.plot_spike_raster(fig_file=fig_file_1)\n",
    "spr.plot_spike_histogram(fig_file=fig_file_2)"
   ]
  },
  {
   "cell_type": "code",
   "execution_count": null,
   "id": "58e55aae",
   "metadata": {},
   "outputs": [],
   "source": [
    "from snudda.plotting import SnuddaPlotSpikeRaster2\n",
    "sim_file2 = os.path.join(network_path, \"simulation\", \"output-noGJ.hdf5\")\n",
    "fig_path2 = os.path.join(network_path, \"figures\")\n",
    "fig_file_1 = os.path.join(fig_path, \"spike-raster-noGJ.png\")\n",
    "fig_file_2 = os.path.join(fig_path, \"spike-histogram-noGJ.png\")\n",
    "spr2 = SnuddaPlotSpikeRaster2(network_path=network_path, simulation_file=sim_file2, figure_path=fig_path2)\n",
    "spr2.plot_spike_raster(fig_file=fig_file_1)\n",
    "spr2.plot_spike_histogram(fig_file=fig_file_2)"
   ]
  },
  {
   "cell_type": "code",
   "execution_count": null,
   "id": "575f7efb",
   "metadata": {},
   "outputs": [],
   "source": [
    "from snudda.plotting.plot_cross_correlogram import PlotCrossCorrelogram\n",
    "pcc1 = PlotCrossCorrelogram(os.path.join(network_path, \"simulation\", \"output.hdf5\"))\n",
    "pcc1.plot_all_pair_cross_correlogram(neuron_id=None, time_range=(4,6),\n",
    "                                     fig_file_name=os.path.join(network_path, \"figures\", \"FS-cross-corr-GJ-1.5Hz.png\"))\n",
    "pcc1.plot_all_pair_cross_correlogram(neuron_id=None, time_range=(7,9),\n",
    "                                     fig_file_name=os.path.join(network_path, \"figures\", \"FS-cross-corr-GJ-2Hz.png\"))\n",
    "pcc1.plot_all_pair_cross_correlogram(neuron_id=None, time_range=(10,12),\n",
    "                                     fig_file_name=os.path.join(network_path, \"figures\", \"FS-cross-corr-GJ-2.5Hz.png\"))\n"
   ]
  },
  {
   "cell_type": "code",
   "execution_count": null,
   "id": "3e7cdc32",
   "metadata": {},
   "outputs": [],
   "source": [
    "# Should be 13 to 15, but accidentally only had input to 14...\n",
    "pcc1.plot_all_pair_cross_correlogram(neuron_id=None, time_range=(13,14),\n",
    "                                     fig_file_name=os.path.join(network_path, \"figures\", \"FS-cross-corr-GJ-3Hz.png\"))\n"
   ]
  },
  {
   "cell_type": "code",
   "execution_count": null,
   "id": "8a62c4bc",
   "metadata": {},
   "outputs": [],
   "source": [
    "pcc1.plot_all_pair_cross_correlogram(neuron_id=None, \n",
    "                                     fig_file_name=os.path.join(network_path, \"figures\", \"FS-cross-corr-GJ-TEST.png\"))\n"
   ]
  },
  {
   "cell_type": "code",
   "execution_count": null,
   "id": "85a4c2b8",
   "metadata": {},
   "outputs": [],
   "source": [
    "from snudda.plotting.plot_cross_correlogram import PlotCrossCorrelogram\n",
    "pcc1 = PlotCrossCorrelogram(os.path.join(network_path, \"simulation\", \"output-noGJ.hdf5\"))\n",
    "pcc1.plot_all_pair_cross_correlogram(neuron_id=None, time_range=(4,6),\n",
    "                                     fig_file_name=os.path.join(network_path, \"figures\", \"FS-cross-corr-noGJ-1.5Hz.png\"))\n",
    "pcc1.plot_all_pair_cross_correlogram(neuron_id=None, time_range=(7,9),\n",
    "                                     fig_file_name=os.path.join(network_path, \"figures\", \"FS-cross-corr-noGJ-2Hz.png\"))\n",
    "pcc1.plot_all_pair_cross_correlogram(neuron_id=None, time_range=(10,12),\n",
    "                                     fig_file_name=os.path.join(network_path, \"figures\", \"FS-cross-corr-noGJ-2.5Hz.png\"))\n",
    "pcc1.plot_all_pair_cross_correlogram(neuron_id=None, time_range=(13,14),\n",
    "                                     fig_file_name=os.path.join(network_path, \"figures\", \"FS-cross-corr-noGJ-3Hz.png\"))\n"
   ]
  },
  {
   "cell_type": "code",
   "execution_count": null,
   "id": "d8c0b447",
   "metadata": {},
   "outputs": [],
   "source": []
  }
 ],
 "metadata": {
  "kernelspec": {
   "display_name": "Python 3 (ipykernel)",
   "language": "python",
   "name": "python3"
  },
  "language_info": {
   "codemirror_mode": {
    "name": "ipython",
    "version": 3
   },
   "file_extension": ".py",
   "mimetype": "text/x-python",
   "name": "python",
   "nbconvert_exporter": "python",
   "pygments_lexer": "ipython3",
   "version": "3.9.2"
  }
 },
 "nbformat": 4,
 "nbformat_minor": 5
}
