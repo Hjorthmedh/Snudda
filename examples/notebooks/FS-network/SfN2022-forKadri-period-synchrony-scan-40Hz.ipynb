{
 "cells": [
  {
   "cell_type": "code",
   "execution_count": null,
   "id": "d8119dae",
   "metadata": {},
   "outputs": [],
   "source": [
    "import os\n",
    "import numpy as np\n",
    "\n",
    "osc_freq = 40\n",
    "period = 1/osc_freq\n",
    "\n",
    "network_path = \"forKadri-FS1050-1\"\n",
    "input_name = f\"SfN2022-forKadri-oscillating-{osc_freq}Hz-ramp-up-background\"\n",
    "sim_file_gj = os.path.join(network_path, \"simulation\", f\"output-GJ-{input_name}.hdf5\")\n",
    "sim_file_nogj = os.path.join(network_path, \"simulation\", f\"output-noGJ-{input_name}.hdf5\")\n",
    "fig_path = os.path.join(network_path, \"figures\")\n",
    "sl = None\n",
    "sls_gj = None\n",
    "sls_nogj = None"
   ]
  },
  {
   "cell_type": "code",
   "execution_count": null,
   "id": "056162b2",
   "metadata": {},
   "outputs": [],
   "source": [
    "from snudda.utils import SnuddaLoad\n",
    "from snudda.utils import SnuddaLoadNetworkSimulation\n",
    "\n",
    "sl = SnuddaLoad(network_path)\n",
    "sls_gj = SnuddaLoadNetworkSimulation(network_simulation_output_file=sim_file_gj)\n",
    "sls_nogj = SnuddaLoadNetworkSimulation(network_simulation_output_file=sim_file_nogj)"
   ]
  },
  {
   "cell_type": "code",
   "execution_count": null,
   "id": "beba0333",
   "metadata": {},
   "outputs": [],
   "source": [
    "from snudda.plotting import PlotInput\n",
    "input_file = os.path.join(network_path, f\"{input_name}.hdf5\")\n",
    "spi = PlotInput(input_file)\n",
    "spi.plot_input(num_neurons=5, neuron_type=\"FS\", fig_size=(15,5))"
   ]
  },
  {
   "cell_type": "code",
   "execution_count": null,
   "id": "294eb40c",
   "metadata": {},
   "outputs": [],
   "source": [
    "from snudda.plotting import SnuddaPlotSpikeRaster2\n",
    "\n",
    "spr = SnuddaPlotSpikeRaster2(network_path=network_path, simulation_file=sim_file_gj, figure_path=fig_path,\n",
    "                             snudda_load=sl, snudda_simulation_load=sls_gj)\n",
    "\n",
    "spr2 = SnuddaPlotSpikeRaster2(network_path=network_path, simulation_file=sim_file_nogj, figure_path=fig_path,\n",
    "                              snudda_load=sl, snudda_simulation_load=sls_nogj)"
   ]
  },
  {
   "cell_type": "code",
   "execution_count": null,
   "id": "9e55abaa",
   "metadata": {},
   "outputs": [],
   "source": [
    "start_time = spi.config[\"FS\"][\"cortical_background\"][\"start\"]\n",
    "end_time =  spi.config[\"FS\"][\"cortical_background\"][\"end\"]\n",
    "background_frequency = spi.config[\"FS\"][\"cortical_background\"][\"frequency\"]\n",
    "\n",
    "synch_gj = []\n",
    "synch_nogj = []\n",
    "\n",
    "for st, et in zip(start_time, end_time):\n",
    "    synch_gj.append(spr.calculate_period_synchrony(period=period, time_range=(st,et)))\n",
    "    synch_nogj.append(spr2.calculate_period_synchrony(period=period, time_range=(st,et)))\n",
    "\n",
    "synch_gj = np.array(synch_gj)\n",
    "synch_nogj = np.array(synch_nogj)\n",
    "    \n",
    "import matplotlib.pyplot as plt\n",
    "\n",
    "plt.figure()\n",
    "plt.plot(background_frequency, synch_gj, label=\"GJ\")\n",
    "plt.plot(background_frequency, synch_nogj, label=\"No GJ\")\n",
    "plt.legend()\n",
    "plt.xlabel(\"Background frequency\")\n",
    "plt.ylabel(\"Synchronisation Index (Vector Strength)\")\n",
    "plt.title(f\"Oscillation frequency {osc_freq} Hz\")\n",
    "plt.savefig(f\"{fig_path}/SfN2022-synchronisation-index-osc-{osc_freq}-Hz-background-varied.png\")"
   ]
  },
  {
   "cell_type": "code",
   "execution_count": null,
   "id": "44e88f57",
   "metadata": {},
   "outputs": [],
   "source": [
    "start_time = spi.config[\"FS\"][\"cortical_background\"][\"start\"]\n",
    "end_time =  spi.config[\"FS\"][\"cortical_background\"][\"end\"]\n",
    "background_frequency = spi.config[\"FS\"][\"cortical_background\"][\"frequency\"]\n",
    "\n",
    "idx = [0, 7, 9, 10, 11, 15, 16]\n",
    "start_time = [start_time[x] for x in idx]\n",
    "end_time = [end_time[x] for x in idx]\n",
    "background_frequency = [background_frequency[x] for x in idx]\n",
    "\n",
    "import matplotlib.pyplot as plt\n",
    "plt.figure(figsize=(10,5))\n",
    "colours = plt.cm.jet(np.linspace(0,1,len(start_time)))\n",
    "\n",
    "\n",
    "for st, et, bg, colour in zip(start_time, end_time, background_frequency, colours):\n",
    "    freq_gj, bins_gj = spr.calculate_period_histogram_mod(period=period, time_range=(st,et), neuron_id=None)\n",
    "    freq_nogj, bins_nogj = spr2.calculate_period_histogram_mod(period=period, time_range=(st,et), neuron_id=None)\n",
    "\n",
    "    plt.stairs(freq_gj, bins_gj*1e3, label=f\"GJ - {bg} Hz\", linestyle=\"solid\", color=colour)\n",
    "    plt.stairs(freq_nogj, bins_nogj*1e3, label=f\"No GJ - {bg} Hz\", linestyle=\"dashed\", color=colour)\n",
    "    \n",
    "plt.legend(loc=\"center right\")\n",
    "plt.xlim((0, period*1e3))\n",
    "plt.xlabel(\"Time (ms)\")\n",
    "plt.ylabel(\"Frequency (Hz)\")\n",
    "plt.title(f\"Period histogram. Oscillation frequency {osc_freq} Hz\")\n",
    "plt.savefig(f\"{fig_path}/SfN2022-period-histogram-osc-{osc_freq}-Hz-background-varied.png\")"
   ]
  },
  {
   "cell_type": "markdown",
   "id": "dd3bfa7b-6df6-4c2e-825f-e334e54d2072",
   "metadata": {},
   "source": [
    "from snudda.plotting.plot_cross_correlogram import PlotCrossCorrelogram\n",
    "pcc1 = PlotCrossCorrelogram(sim_file_gj, snudda_simulation_load=sls_gj)\n",
    "\n",
    "from snudda.plotting.plot_cross_correlogram import PlotCrossCorrelogram\n",
    "pcc2 = PlotCrossCorrelogram(sim_file_nogj, snudda_simulation_load=sls_nogj)"
   ]
  },
  {
   "cell_type": "markdown",
   "id": "4cd7420c-41bb-4e03-b988-5a71a7515e2a",
   "metadata": {},
   "source": [
    "start_time = spi.config[\"FS\"][\"cortical_background\"][\"start\"]\n",
    "end_time =  spi.config[\"FS\"][\"cortical_background\"][\"end\"]\n",
    "background_frequency = spi.config[\"FS\"][\"cortical_background\"][\"frequency\"]\n",
    "\n",
    "import matplotlib.pyplot as plt\n",
    "\n",
    "plt.figure()\n",
    "\n",
    "for st, et, freq in zip(start_time, end_time, background_frequency):\n",
    "    bin_count_gj, bin_edges_gj = pcc1.calculate_all_pair_cross_correlogram(neuron_id=None, time_range=(st,et))  \n",
    "    bin_count_nogj, bin_edges_nogj = pcc2.calculate_all_pair_cross_correlogram(neuron_id=None, time_range=(st,et))  \n",
    "    \n",
    "    plt.stairs(values=bin_count_gj, edges=bin_edges_gj*1e3, label=f\"GJ freq {freq}\", linestyle=\"solid\")\n",
    "    plt.stairs(values=bin_count_nogj, edges=bin_edges_nogj*1e3, label=f\"noGJ freq {freq}\", linestyle=\"dashed\")\n",
    "    \n",
    "plt.xlabel(\"Time (ms)\")\n",
    "plt.ylabel(\"Count\")\n",
    "plt.legend()\n",
    "plt.title(\"Oscillation frequency {osc_freq}, varying background\")\n",
    "plt.show()\n",
    "plt.savefig(f\"{fig_path}/SfN2022-cross-correlogram-osc-{osc_freq}-Hz-background-varied.png\")"
   ]
  },
  {
   "cell_type": "code",
   "execution_count": null,
   "id": "c8bb2c38",
   "metadata": {},
   "outputs": [],
   "source": []
  }
 ],
 "metadata": {
  "kernelspec": {
   "display_name": "Python 3 (ipykernel)",
   "language": "python",
   "name": "python3"
  },
  "language_info": {
   "codemirror_mode": {
    "name": "ipython",
    "version": 3
   },
   "file_extension": ".py",
   "mimetype": "text/x-python",
   "name": "python",
   "nbconvert_exporter": "python",
   "pygments_lexer": "ipython3",
   "version": "3.9.2"
  }
 },
 "nbformat": 4,
 "nbformat_minor": 5
}
