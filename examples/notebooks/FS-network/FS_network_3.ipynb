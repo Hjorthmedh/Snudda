{
 "cells": [
  {
   "cell_type": "markdown",
   "id": "4364c585",
   "metadata": {},
   "source": [
    "# Effect of gap junctions on fast spiking interneurons driven by current injection\n",
    "\n",
    "This notebook validates the old result that when FS neurons are driven by current injections we will see a synchronisation if there are also gap junctions coupling them together.\n",
    "\n",
    "Here we create a network of FS neurons, then simulate them without gap junctions ('''gap_junctions_disabled=True'''). Then the gap junctions are manually inserted into the network, and the simulation is rerun this time with the gap junctions. In both cases the FS neurons are driven by current injections (and not synaptic inputs)."
   ]
  },
  {
   "cell_type": "code",
   "execution_count": null,
   "id": "c8f8a3c7",
   "metadata": {},
   "outputs": [],
   "source": [
    "import os\n",
    "os.environ[\"SNUDDA_DATA\"] = \"../../../../BasalGangliaData/data/\"\n",
    "assert os.path.isdir(os.getenv(\"SNUDDA_DATA\")), f\"You need to have BasalGangliaData installed for this example. You can run this example without it, but then do not execute this cell.\"\n",
    "\n",
    "network_path = os.path.join(\"FS_network_3-cur-inj\")"
   ]
  },
  {
   "cell_type": "code",
   "execution_count": null,
   "id": "854219cd",
   "metadata": {},
   "outputs": [],
   "source": [
    "from snudda.init.init import SnuddaInit\n",
    "cnc = SnuddaInit(struct_def={}, network_path=network_path, random_seed=1337)\n",
    "cnc.define_striatum(num_dSPN=0, num_iSPN=0, num_FS=100, num_LTS=0, num_ChIN=0,\n",
    "                    volume_type=\"cube\", side_len=230e-6)\n",
    "cnc.write_json()"
   ]
  },
  {
   "cell_type": "code",
   "execution_count": null,
   "id": "4751b3e1",
   "metadata": {},
   "outputs": [],
   "source": [
    "from snudda import SnuddaPlace\n",
    "sp = SnuddaPlace(network_path=network_path, verbose=False)\n",
    "sp.place()"
   ]
  },
  {
   "cell_type": "code",
   "execution_count": null,
   "id": "5bc59fde",
   "metadata": {},
   "outputs": [],
   "source": [
    "from snudda import SnuddaDetect\n",
    "\n",
    "sd = SnuddaDetect(network_path=network_path)\n",
    "sd.detect()"
   ]
  },
  {
   "cell_type": "code",
   "execution_count": null,
   "id": "ab0f673c",
   "metadata": {},
   "outputs": [],
   "source": [
    "from snudda import SnuddaPrune\n",
    "\n",
    "sp = SnuddaPrune(network_path=network_path)\n",
    "sp.prune()"
   ]
  },
  {
   "cell_type": "code",
   "execution_count": null,
   "id": "83ad6ca9",
   "metadata": {},
   "outputs": [],
   "source": [
    "# !snudda_load FS_network_2-cur-inj/network-synapses.hdf5 --listN"
   ]
  },
  {
   "cell_type": "code",
   "execution_count": null,
   "id": "47756e00",
   "metadata": {},
   "outputs": [],
   "source": [
    "!nrnivmodl $SNUDDA_DATA/neurons/mechanisms"
   ]
  },
  {
   "cell_type": "markdown",
   "id": "87ecea0c",
   "metadata": {},
   "source": [
    "### Running FS network without gap junctions (driven by current injections)"
   ]
  },
  {
   "cell_type": "code",
   "execution_count": null,
   "id": "2fb3aca6",
   "metadata": {},
   "outputs": [],
   "source": [
    "from snudda.simulate.pair_recording import PairRecording \n",
    "experiment_config_file = \"FS_network_3-experiment-config.json\"\n",
    "output_file_no_gj = os.path.join(network_path, \"simulation\", \"output-no-gj.hdf5\")\n",
    "pr = PairRecording(network_path=network_path, experiment_config_file=experiment_config_file, disable_gap_junctions=True, output_file=output_file_no_gj, verbose=False)"
   ]
  },
  {
   "cell_type": "code",
   "execution_count": null,
   "id": "853a1b68",
   "metadata": {},
   "outputs": [],
   "source": [
    "pr.run()"
   ]
  },
  {
   "cell_type": "markdown",
   "id": "855bbe2b",
   "metadata": {},
   "source": [
    "Note the lack of synchronisation in the network (without gap junctions) in the figure below."
   ]
  },
  {
   "cell_type": "code",
   "execution_count": null,
   "id": "b28d8ebe",
   "metadata": {},
   "outputs": [],
   "source": [
    "%matplotlib notebook\n",
    "pr.plot_trace_overview(experiment_name=\"FS-cur-inj-without-GJ\")"
   ]
  },
  {
   "cell_type": "markdown",
   "id": "31ab8d04",
   "metadata": {},
   "source": [
    "### Adding gap junctions to the network, and rerunning."
   ]
  },
  {
   "cell_type": "code",
   "execution_count": null,
   "id": "de7af918",
   "metadata": {},
   "outputs": [],
   "source": [
    "pr.disable_gap_junctions = False\n",
    "output_file_with_gj = os.path.join(network_path, \"simulation\", \"output-with-gj.hdf5\")\n",
    "\n",
    "pr.output_file = output_file_with_gj\n",
    "pr.record.set_new_output_file(output_file_with_gj)\n",
    "\n",
    "# Connect the gap junctions that were disabled previously\n",
    "pr.connect_network_gap_junctions_local()\n",
    "pr.pc.setup_transfer()"
   ]
  },
  {
   "cell_type": "code",
   "execution_count": null,
   "id": "aa2cdaa5",
   "metadata": {},
   "outputs": [],
   "source": [
    "pr.run()"
   ]
  },
  {
   "cell_type": "markdown",
   "id": "59395c64",
   "metadata": {},
   "source": [
    "The addition of gap junctions to the network synchronises the activity in the network when driven by current injections. It is important to realise that how we drive the network matters, neurons driven by synaptic input would not be synchronised in the same way by gap junctions."
   ]
  },
  {
   "cell_type": "code",
   "execution_count": null,
   "id": "60fb347e",
   "metadata": {},
   "outputs": [],
   "source": [
    "pr.plot_trace_overview(experiment_name=\"FS-cur-inj-with-GJ\")"
   ]
  },
  {
   "cell_type": "code",
   "execution_count": null,
   "id": "ef87a0c6",
   "metadata": {},
   "outputs": [],
   "source": []
  },
  {
   "cell_type": "code",
   "execution_count": null,
   "id": "a3b8cab9",
   "metadata": {},
   "outputs": [],
   "source": []
  }
 ],
 "metadata": {
  "kernelspec": {
   "display_name": "Python 3 (ipykernel)",
   "language": "python",
   "name": "python3"
  },
  "language_info": {
   "codemirror_mode": {
    "name": "ipython",
    "version": 3
   },
   "file_extension": ".py",
   "mimetype": "text/x-python",
   "name": "python",
   "nbconvert_exporter": "python",
   "pygments_lexer": "ipython3",
   "version": "3.7.3"
  }
 },
 "nbformat": 4,
 "nbformat_minor": 5
}
