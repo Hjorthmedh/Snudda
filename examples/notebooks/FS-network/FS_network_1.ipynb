{
 "cells": [
  {
   "cell_type": "markdown",
   "id": "accepting-yugoslavia",
   "metadata": {},
   "source": [
    "This notebook creates a network of FS neurons and runs the simulation with and without gap junctions.\n",
    "\n",
    "First we define a cubic millimeter volume for the FS neurons."
   ]
  },
  {
   "cell_type": "code",
   "execution_count": 1,
   "id": "overhead-feedback",
   "metadata": {},
   "outputs": [],
   "source": [
    "import os\n",
    "os.environ[\"SNUDDA_DATA\"] = \"../../../../BasalGangliaData/data/\"\n",
    "assert os.path.isdir(os.getenv(\"SNUDDA_DATA\")), f\"You need to have BasalGangliaData installed for this example. You can run this example without it, but then do not execute this cell.\"\n",
    "\n",
    "network_path = os.path.join(\"FS_network_1\")"
   ]
  },
  {
   "cell_type": "code",
   "execution_count": null,
   "id": "present-learning",
   "metadata": {},
   "outputs": [],
   "source": [
    "from snudda.place import create_cube_mesh\n",
    "\n",
    "mesh_file = os.path.join(network_path, \"mesh\", \"volume.obj\")\n",
    "create_cube_mesh(mesh_file, [0,0,0], 1e-3, \"FS network volume\")"
   ]
  },
  {
   "cell_type": "markdown",
   "id": "qualified-amazon",
   "metadata": {},
   "source": [
    "Create config file defining the network. Here 1050 FS neurons are added."
   ]
  },
  {
   "cell_type": "code",
   "execution_count": null,
   "id": "forbidden-original",
   "metadata": {},
   "outputs": [],
   "source": [
    "from snudda import SnuddaInit\n",
    "\n",
    "si = SnuddaInit(network_path=network_path, random_seed=123)\n",
    "\n",
    "si.define_structure(struct_name=\"StriatalVolume\", struct_mesh=mesh_file, d_min=15e-6, mesh_bin_width=50e-6)\n",
    "\n",
    "# Should be 1050 neurons, temp reducing it to 50 neurons for runtime of simulation while developing -- OBS increase to 1050!\n",
    "si.add_neurons(name=\"FS\", num_neurons=50, volume_id=\"StriatalVolume\",\n",
    "               neuron_dir=os.path.join(\"$DATA\",\"neurons\",\"striatum\",\"fs\"))\n",
    "\n",
    "cluster_FS_synapses = True\n",
    "FS_gGABA = [1.1e-9, 1.5e-9]\n",
    "FS_gGapJunction = [0.5e-9, 0.1e-9]\n",
    "\n",
    "si.add_neuron_target(neuron_name=\"FS\",\n",
    "                     target_name=\"FS\",\n",
    "                     connection_type=\"GABA\",\n",
    "                     dist_pruning=None,\n",
    "                     f1=0.15, soft_max=5, mu2=2, a3=1,\n",
    "                     conductance=FS_gGABA,\n",
    "                     cluster_synapses=cluster_FS_synapses,\n",
    "                     mod_file=\"tmGabaA\",\n",
    "                     channel_param_dictionary={\"tau1\": (1.33e-3, 1e3),\n",
    "                                               \"tau2\": (5.7e-3, 1e3)})\n",
    "    \n",
    "si.add_neuron_target(neuron_name=\"FS\",\n",
    "                     target_name=\"FS\",\n",
    "                     connection_type=\"GapJunction\",\n",
    "                     dist_pruning=None,\n",
    "                     f1=0.7, soft_max=8, mu2=2, a3=1.0,\n",
    "                     conductance=FS_gGapJunction,\n",
    "                     cluster_synapses=False,\n",
    "                     channel_param_dictionary=None)\n",
    "\n",
    "si.write_json()"
   ]
  },
  {
   "cell_type": "code",
   "execution_count": null,
   "id": "convinced-tension",
   "metadata": {},
   "outputs": [],
   "source": [
    "from snudda import SnuddaPlace\n",
    "sp = SnuddaPlace(network_path=network_path, verbose=False)\n",
    "sp.place()"
   ]
  },
  {
   "cell_type": "code",
   "execution_count": null,
   "id": "placed-hayes",
   "metadata": {},
   "outputs": [],
   "source": [
    "from snudda import SnuddaDetect\n",
    "\n",
    "sd = SnuddaDetect(network_path=network_path)\n",
    "sd.detect()"
   ]
  },
  {
   "cell_type": "code",
   "execution_count": null,
   "id": "polyphonic-silly",
   "metadata": {},
   "outputs": [],
   "source": [
    "from snudda import SnuddaDetect\n",
    "\n",
    "sd = SnuddaDetect(network_path=network_path)\n",
    "sd.detect()"
   ]
  },
  {
   "cell_type": "code",
   "execution_count": null,
   "id": "defensive-dietary",
   "metadata": {},
   "outputs": [],
   "source": [
    "from snudda import SnuddaPrune\n",
    "\n",
    "sp = SnuddaPrune(network_path=network_path)\n",
    "sp.prune()"
   ]
  },
  {
   "cell_type": "code",
   "execution_count": null,
   "id": "2ba932f9",
   "metadata": {},
   "outputs": [],
   "source": [
    "import os\n",
    "from snudda.input import SnuddaInput\n",
    "si = SnuddaInput(network_path=network_path, \n",
    "                 input_config_file=\"example-FS-input.json\",\n",
    "                 verbose=False)\n",
    "si.generate()"
   ]
  },
  {
   "cell_type": "code",
   "execution_count": null,
   "id": "020b69df",
   "metadata": {},
   "outputs": [],
   "source": [
    "!nrnivmodl $SNUDDA_DATA/neurons/mechanisms"
   ]
  },
  {
   "cell_type": "code",
   "execution_count": null,
   "id": "fab5070c",
   "metadata": {},
   "outputs": [],
   "source": [
    "!mpiexec -n 2 snudda simulate FS_network_1 --time 1"
   ]
  },
  {
   "cell_type": "code",
   "execution_count": 3,
   "id": "10035640",
   "metadata": {},
   "outputs": [
    {
     "name": "stdout",
     "output_type": "stream",
     "text": [
      "Loading FS_network_1/simulation/output.hdf5\n"
     ]
    },
    {
     "data": {
      "image/png": "[encoded data removed]",
      "text/plain": [
       "<Figure size 432x288 with 1 Axes>"
      ]
     },
     "metadata": {
      "needs_background": "light"
     },
     "output_type": "display_data"
    },
    {
     "data": {
      "text/plain": [
       "<Figure size 432x288 with 0 Axes>"
      ]
     },
     "metadata": {},
     "output_type": "display_data"
    }
   ],
   "source": [
    "from snudda.plotting.plot_cross_correlogram import PlotCrossCorrelogram\n",
    "pcc = PlotCrossCorrelogram(os.path.join(network_path, \"simulation\", \"output.hdf5\"))\n",
    "pcc.plot_all_pair_cross_correlogram(neuron_id=None, fig_file_name=os.path.join(network_path, \"figures\", \"FS-cross-corr.png\"))"
   ]
  },
  {
   "cell_type": "code",
   "execution_count": null,
   "id": "09698221",
   "metadata": {},
   "outputs": [],
   "source": [
    "ADD SHUFFLE CORRECTION"
   ]
  }
 ],
 "metadata": {
  "kernelspec": {
   "display_name": "Python 3 (ipykernel)",
   "language": "python",
   "name": "python3"
  },
  "language_info": {
   "codemirror_mode": {
    "name": "ipython",
    "version": 3
   },
   "file_extension": ".py",
   "mimetype": "text/x-python",
   "name": "python",
   "nbconvert_exporter": "python",
   "pygments_lexer": "ipython3",
   "version": "3.9.2"
  }
 },
 "nbformat": 4,
 "nbformat_minor": 5
}
