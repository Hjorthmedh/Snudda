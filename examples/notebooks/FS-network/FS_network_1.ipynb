{
 "cells": [
  {
   "cell_type": "markdown",
   "id": "accepting-yugoslavia",
   "metadata": {},
   "source": [
    "This notebook creates a network of FS neurons and runs the simulation with and without gap junctions.\n",
    "\n",
    "First we define a cubic millimeter volume for the FS neurons."
   ]
  },
  {
   "cell_type": "code",
   "execution_count": 1,
   "id": "overhead-feedback",
   "metadata": {},
   "outputs": [],
   "source": [
    "import os\n",
    "os.environ[\"SNUDDA_DATA\"] = \"../../../../BasalGangliaData/data/\"\n",
    "assert os.path.isdir(os.getenv(\"SNUDDA_DATA\")), f\"You need to have BasalGangliaData installed for this example. You can run this example without it, but then do not execute this cell.\"\n",
    "\n",
    "network_path = os.path.join(\"FS_network_1\")"
   ]
  },
  {
   "cell_type": "code",
   "execution_count": null,
   "id": "present-learning",
   "metadata": {},
   "outputs": [],
   "source": [
    "from snudda.place import create_cube_mesh\n",
    "\n",
    "mesh_file = os.path.join(network_path, \"mesh\", \"volume.obj\")\n",
    "create_cube_mesh(mesh_file, [0,0,0], 1e-3, \"FS network volume\")"
   ]
  },
  {
   "cell_type": "markdown",
   "id": "qualified-amazon",
   "metadata": {},
   "source": [
    "Create config file defining the network. Here 1050 FS neurons are added."
   ]
  },
  {
   "cell_type": "code",
   "execution_count": null,
   "id": "forbidden-original",
   "metadata": {},
   "outputs": [],
   "source": [
    "from snudda import SnuddaInit\n",
    "\n",
    "si = SnuddaInit(network_path=network_path, random_seed=123)\n",
    "\n",
    "si.define_structure(struct_name=\"StriatalVolume\", struct_mesh=mesh_file, d_min=15e-6, mesh_bin_width=50e-6)\n",
    "\n",
    "# Should be 1050 neurons, temp reducing it to 50 neurons for runtime of simulation while developing\n",
    "si.add_neurons(name=\"FS\", num_neurons=50, volume_id=\"StriatalVolume\",\n",
    "               neuron_dir=os.path.join(\"$DATA\",\"neurons\",\"striatum\",\"fs\"))\n",
    "\n",
    "cluster_FS_synapses = True\n",
    "FS_gGABA = [1.1e-9, 1.5e-9]\n",
    "FS_gGapJunction = [0.5e-9, 0.1e-9]\n",
    "\n",
    "si.add_neuron_target(neuron_name=\"FS\",\n",
    "                     target_name=\"FS\",\n",
    "                     connection_type=\"GABA\",\n",
    "                     dist_pruning=None,\n",
    "                     f1=0.15, soft_max=5, mu2=2, a3=1,\n",
    "                     conductance=FS_gGABA,\n",
    "                     cluster_synapses=cluster_FS_synapses,\n",
    "                     mod_file=\"tmGabaA\",\n",
    "                     channel_param_dictionary={\"tau1\": (1.33e-3, 1e3),\n",
    "                                               \"tau2\": (5.7e-3, 1e3)})\n",
    "    \n",
    "si.add_neuron_target(neuron_name=\"FS\",\n",
    "                     target_name=\"FS\",\n",
    "                     connection_type=\"GapJunction\",\n",
    "                     dist_pruning=None,\n",
    "                     f1=0.7, soft_max=8, mu2=2, a3=1.0,\n",
    "                     conductance=FS_gGapJunction,\n",
    "                     cluster_synapses=False,\n",
    "                     channel_param_dictionary=None)\n",
    "\n",
    "si.write_json()"
   ]
  },
  {
   "cell_type": "code",
   "execution_count": null,
   "id": "convinced-tension",
   "metadata": {},
   "outputs": [],
   "source": [
    "from snudda import SnuddaPlace\n",
    "sp = SnuddaPlace(network_path=network_path, verbose=False)\n",
    "sp.place()"
   ]
  },
  {
   "cell_type": "code",
   "execution_count": null,
   "id": "placed-hayes",
   "metadata": {},
   "outputs": [],
   "source": [
    "from snudda import SnuddaDetect\n",
    "\n",
    "sd = SnuddaDetect(network_path=network_path)\n",
    "sd.detect()"
   ]
  },
  {
   "cell_type": "code",
   "execution_count": null,
   "id": "polyphonic-silly",
   "metadata": {},
   "outputs": [],
   "source": [
    "from snudda import SnuddaDetect\n",
    "\n",
    "sd = SnuddaDetect(network_path=network_path)\n",
    "sd.detect()"
   ]
  },
  {
   "cell_type": "code",
   "execution_count": null,
   "id": "defensive-dietary",
   "metadata": {},
   "outputs": [],
   "source": [
    "from snudda import SnuddaPrune\n",
    "\n",
    "sp = SnuddaPrune(network_path=network_path)\n",
    "sp.prune()"
   ]
  },
  {
   "cell_type": "code",
   "execution_count": 2,
   "id": "2ba932f9",
   "metadata": {},
   "outputs": [
    {
     "name": "stdout",
     "output_type": "stream",
     "text": [
      "Loading 50 neurons with 50 synapses and 16 gap junctions\n",
      "Writing spikes to FS_network_1/input-spikes.hdf5\n"
     ]
    }
   ],
   "source": [
    "import os\n",
    "from snudda.input import SnuddaInput\n",
    "si = SnuddaInput(network_path=network_path, \n",
    "                 input_config_file=\"example-FS-input.json\",\n",
    "                 verbose=False)\n",
    "si.generate()"
   ]
  },
  {
   "cell_type": "code",
   "execution_count": null,
   "id": "020b69df",
   "metadata": {},
   "outputs": [],
   "source": [
    "!nrnivmodl $SNUDDA_DATA/neurons/mechanisms"
   ]
  },
  {
   "cell_type": "code",
   "execution_count": 3,
   "id": "fab5070c",
   "metadata": {},
   "outputs": [
    {
     "name": "stdout",
     "output_type": "stream",
     "text": [
      "numprocs=2\n",
      "Using input file FS_network_1/input-spikes.hdf5\n",
      "Using input file FS_network_1/input-spikes.hdf5\n",
      "NEURON mechanisms already compiled, make sure you have the correct version of NEURON modules.\n",
      "If you delete x86_64 directory (or nrnmech.dll) then you will force a recompilation of the modules.\n",
      "NEURON mechanisms already compiled, make sure you have the correct version of NEURON modules.\n",
      "If you delete x86_64 directory (or nrnmech.dll) then you will force a recompilation of the modules.\n",
      "args: Namespace(action='simulate', disable_gj=False, exportCoreNeuron=False, input_file=None, mech_dir=None, network_file=None, neuromodulation=None, output_file=None, path='FS_network_1', profile=False, randomseed=None, record_all=None, record_volt=True, time=1.0, verbose=False)\n",
      "args: Namespace(action='simulate', disable_gj=False, exportCoreNeuron=False, input_file=None, mech_dir=None, network_file=None, neuromodulation=None, output_file=None, path='FS_network_1', profile=False, randomseed=None, record_all=None, record_volt=True, time=1.0, verbose=False)\n",
      "Loading 50 neurons with 50 synapses and 16 gap junctions\n",
      "Loading 50 neurons with 50 synapses and 16 gap junctions\n",
      "Running simulation for 1000.0 ms.\n",
      "Running simulation for 1000.0 ms.\n",
      "Running simulation for 1.0 s\n",
      "Running simulation for 1.0 s\n",
      "Running Neuron simulator 1000 ms, with dt=0.025\n",
      "Running Neuron simulator 1000 ms, with dt=0.025\n",
      "1% done. Elapsed: 14.7 s, estimated time left: 1455.9 s\n",
      "11% done. Elapsed: 125.3 s, estimated time left: 1013.8 s\n",
      "20% done. Elapsed: 231.0 s, estimated time left: 924.0 s\n",
      "30% done. Elapsed: 341.6 s, estimated time left: 797.1 s\n",
      "40% done. Elapsed: 448.9 s, estimated time left: 673.3 s\n",
      "46% done. Elapsed: 578.2 s, estimated time left: 678.7 s\n",
      "54% done. Elapsed: 678.2 s, estimated time left: 577.7 s\n",
      "63% done. Elapsed: 779.9 s, estimated time left: 458.0 s\n",
      "72% done. Elapsed: 898.2 s, estimated time left: 349.3 s\n",
      "81% done. Elapsed: 1005.0 s, estimated time left: 235.7 s\n",
      "90% done. Elapsed: 1116.0 s, estimated time left: 124.0 s\n",
      "99% done. Elapsed: 1223.9 s, estimated time left: 12.4 s\n",
      "Neuron simulation finished\n",
      "Neuron simulation finished\n",
      "Simulation run time: 1234.6 s\n",
      "Simulation done, saving output\n",
      "Simulation run time: 1232.0 s\n",
      "Simulation done, saving output\n",
      "Writing network output to FS_network_1/simulation/network-output.hdf5\n",
      "Program run time: 1301.1s\n"
     ]
    }
   ],
   "source": [
    "!mpiexec -n 2 snudda simulate FS_network_1 --time 1"
   ]
  },
  {
   "cell_type": "code",
   "execution_count": 4,
   "id": "10035640",
   "metadata": {},
   "outputs": [
    {
     "name": "stdout",
     "output_type": "stream",
     "text": [
      "Loading FS_network_1/simulation/network-output.hdf5\n",
      "> \u001b[0;32m/home/hjorth/HBP/Snudda/snudda/plotting/plot_cross_correlogram.py\u001b[0m(24)\u001b[0;36mcalculate_all_pair_cross_correlogram\u001b[0;34m()\u001b[0m\n",
      "\u001b[0;32m     22 \u001b[0;31m        \u001b[0mpdb\u001b[0m\u001b[0;34m.\u001b[0m\u001b[0mset_trace\u001b[0m\u001b[0;34m(\u001b[0m\u001b[0;34m)\u001b[0m\u001b[0;34m\u001b[0m\u001b[0;34m\u001b[0m\u001b[0m\n",
      "\u001b[0m\u001b[0;32m     23 \u001b[0;31m\u001b[0;34m\u001b[0m\u001b[0m\n",
      "\u001b[0m\u001b[0;32m---> 24 \u001b[0;31m        \u001b[0;32mfor\u001b[0m \u001b[0mna\u001b[0m \u001b[0;32min\u001b[0m \u001b[0mspike_data\u001b[0m\u001b[0;34m.\u001b[0m\u001b[0mkeys\u001b[0m\u001b[0;34m(\u001b[0m\u001b[0;34m)\u001b[0m\u001b[0;34m:\u001b[0m\u001b[0;34m\u001b[0m\u001b[0;34m\u001b[0m\u001b[0m\n",
      "\u001b[0m\u001b[0;32m     25 \u001b[0;31m\u001b[0;34m\u001b[0m\u001b[0m\n",
      "\u001b[0m\u001b[0;32m     26 \u001b[0;31m            \u001b[0;32mif\u001b[0m \u001b[0mspike_data\u001b[0m\u001b[0;34m[\u001b[0m\u001b[0mna\u001b[0m\u001b[0;34m]\u001b[0m\u001b[0;34m.\u001b[0m\u001b[0msize\u001b[0m \u001b[0;34m==\u001b[0m \u001b[0;36m0\u001b[0m\u001b[0;34m:\u001b[0m\u001b[0;34m\u001b[0m\u001b[0;34m\u001b[0m\u001b[0m\n",
      "\u001b[0m\n",
      "ipdb> spike_data\n",
      "{0: array([], shape=(1, 0), dtype=float64), 1: array([[0.217825, 0.396175, 0.605225, 0.810325, 0.92485 , 0.961075,\n",
      "        0.99935 ]]), 10: array([[0.991325]]), 11: array([], shape=(1, 0), dtype=float64), 12: array([], shape=(1, 0), dtype=float64), 13: array([], shape=(1, 0), dtype=float64), 14: array([[0.2881  , 0.52135 , 0.6652  , 0.69555 , 0.707825, 0.735325,\n",
      "        0.749225, 0.763075, 0.780625, 0.79625 , 0.8077  , 0.848525,\n",
      "        0.85635 , 0.87725 , 0.89425 , 0.90815 , 0.92565 , 0.943075,\n",
      "        0.9935  ]]), 15: array([[0.4345  , 0.45975 , 0.480475, 0.5754  , 0.6642  , 0.7264  ,\n",
      "        0.77065 ]]), 16: array([[0.158425, 0.198925, 0.21485 , 0.29635 , 0.53485 , 0.56185 ,\n",
      "        0.61285 , 0.683225, 0.8177  , 0.890675, 0.9517  ]]), 17: array([], shape=(1, 0), dtype=float64), 18: array([], shape=(1, 0), dtype=float64), 19: array([], shape=(1, 0), dtype=float64), 2: array([], shape=(1, 0), dtype=float64), 20: array([], shape=(1, 0), dtype=float64), 21: array([], shape=(1, 0), dtype=float64), 22: array([], shape=(1, 0), dtype=float64), 23: array([[0.588475, 0.614925, 0.63315 , 0.656675, 0.688675, 0.731525,\n",
      "        0.7599  , 0.77885 ]]), 24: array([[0.222175, 0.254675, 0.404325, 0.4572  , 0.5177  , 0.538775,\n",
      "        0.565225, 0.595525, 0.6173  , 0.649775, 0.701   , 0.73735 ,\n",
      "        0.77365 , 0.81555 , 0.850525, 0.88635 , 0.917575, 0.958325]]), 25: array([], shape=(1, 0), dtype=float64), 26: array([[0.379925, 0.470575, 0.55    , 0.6745  , 0.79315 , 0.8371  ,\n",
      "        0.8726  , 0.904225, 0.96045 , 0.99585 ]]), 27: array([[0.406375, 0.46835 , 0.519175, 0.614725, 0.633825, 0.686625,\n",
      "        0.763375, 0.859625, 0.890425, 0.91745 , 0.9456  , 0.989675]]), 28: array([[0.7227 , 0.84205, 0.9135 ]]), 29: array([[0.2594  , 0.3019  , 0.43065 , 0.47295 , 0.543875, 0.605025,\n",
      "        0.661225, 0.6993  , 0.769225, 0.888875]]), 3: array([], shape=(1, 0), dtype=float64), 30: array([[0.150175, 0.46195 , 0.58305 , 0.673425, 0.924475]]), 31: array([[0.617875, 0.7591  ]]), 32: array([[0.41675 , 0.485225, 0.6287  , 0.6825  , 0.718075, 0.771625,\n",
      "        0.81305 , 0.95205 , 0.99335 ]]), 33: array([[0.70155, 0.8495 ]]), 34: array([], shape=(1, 0), dtype=float64), 35: array([], shape=(1, 0), dtype=float64), 36: array([[0.59345, 0.61715, 0.6502 ]]), 37: array([], shape=(1, 0), dtype=float64), 38: array([[0.5629  , 0.610775, 0.6391  , 0.66515 , 0.69115 , 0.72455 ,\n",
      "        0.91785 , 0.94275 , 0.9781  ]]), 39: array([[0.3051  , 0.40765 , 0.440325, 0.471375, 0.514525, 0.55005 ,\n",
      "        0.5713  , 0.6145  , 0.6329  , 0.662325, 0.6924  , 0.713675,\n",
      "        0.741175, 0.76115 , 0.79065 , 0.821125, 0.839825, 0.8599  ,\n",
      "        0.882675, 0.900875, 0.9228  , 0.95845 , 0.978525]]), 4: array([], shape=(1, 0), dtype=float64), 40: array([[0.302675, 0.348075, 0.3922  , 0.455675, 0.47155 , 0.516825,\n",
      "        0.57285 , 0.610125, 0.713575, 0.7291  , 0.74375 , 0.7617  ,\n",
      "        0.8174  , 0.8326  , 0.8568  , 0.899375, 0.923   , 0.96325 ,\n",
      "        0.980975, 0.997425]]), 41: array([], shape=(1, 0), dtype=float64), 42: array([[0.233425, 0.276675, 0.3085  , 0.345725, 0.39015 , 0.538025,\n",
      "        0.60055 , 0.6326  , 0.711675, 0.747225, 0.7616  , 0.7901  ,\n",
      "        0.8171  , 0.841625, 0.920925, 0.95595 , 0.970475, 0.99625 ]]), 43: array([], shape=(1, 0), dtype=float64), 44: array([], shape=(1, 0), dtype=float64), 45: array([], shape=(1, 0), dtype=float64), 46: array([], shape=(1, 0), dtype=float64), 47: array([[0.8435, 0.8636]]), 48: array([[0.649375, 0.712975]]), 49: array([[0.8436  , 0.86315 , 0.906575]]), 5: array([[0.25125 , 0.495625, 0.57295 , 0.5956  , 0.63885 , 0.676575,\n",
      "        0.726875, 0.74745 , 0.790175, 0.81345 , 0.84815 , 0.894975,\n",
      "        0.940025, 0.9834  ]]), 6: array([], shape=(1, 0), dtype=float64), 7: array([[0.7638]]), 8: array([], shape=(1, 0), dtype=float64), 9: array([], shape=(1, 0), dtype=float64)}\n",
      "ipdb> c\n"
     ]
    },
    {
     "data": {
      "image/png": "[encoded data removed]",
      "text/plain": [
       "<Figure size 432x288 with 1 Axes>"
      ]
     },
     "metadata": {
      "needs_background": "light"
     },
     "output_type": "display_data"
    },
    {
     "data": {
      "text/plain": [
       "<Figure size 432x288 with 0 Axes>"
      ]
     },
     "metadata": {},
     "output_type": "display_data"
    }
   ],
   "source": [
    "from snudda.plotting.plot_cross_correlogram import PlotCrossCorrelogram\n",
    "pcc = PlotCrossCorrelogram(os.path.join(network_path, \"simulation\", \"network-output.hdf5\"))\n",
    "pcc.plot_all_pair_cross_correlogram(neuron_id=None, fig_file_name=os.path.join(network_path, \"figures\", \"FS-cross-corr.png\"))"
   ]
  },
  {
   "cell_type": "code",
   "execution_count": null,
   "id": "09698221",
   "metadata": {},
   "outputs": [],
   "source": []
  }
 ],
 "metadata": {
  "kernelspec": {
   "display_name": "Python 3 (ipykernel)",
   "language": "python",
   "name": "python3"
  },
  "language_info": {
   "codemirror_mode": {
    "name": "ipython",
    "version": 3
   },
   "file_extension": ".py",
   "mimetype": "text/x-python",
   "name": "python",
   "nbconvert_exporter": "python",
   "pygments_lexer": "ipython3",
   "version": "3.7.3"
  }
 },
 "nbformat": 4,
 "nbformat_minor": 5
}
