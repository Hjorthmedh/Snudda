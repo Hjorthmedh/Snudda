{
 "cells": [
  {
   "cell_type": "markdown",
   "id": "cbc05cc5",
   "metadata": {},
   "source": [
    "## Detection of correlated input to FS with and without gap junctions.\n",
    "\n",
    "Here we run one population unit, and steadily increase the input frequency to see roughly what level of activity we should use for the experiment."
   ]
  },
  {
   "cell_type": "code",
   "execution_count": null,
   "id": "2b880953",
   "metadata": {},
   "outputs": [],
   "source": [
    "import os\n",
    "import numpy as np\n",
    "\n",
    "os.environ[\"SNUDDA_DATA\"] = \"../../../../BasalGangliaData/data/\"\n",
    "assert os.path.isdir(os.getenv(\"SNUDDA_DATA\")), f\"You need to have BasalGangliaData installed for this example.\"\n",
    "\n",
    "network_path = os.path.join(\"networks\", \"FS-input-correlation-detection-2\")\n",
    "rc = None"
   ]
  },
  {
   "cell_type": "code",
   "execution_count": null,
   "id": "02559ee1",
   "metadata": {},
   "outputs": [],
   "source": [
    "from snudda import SnuddaInit\n",
    "si = SnuddaInit(network_path=network_path, random_seed=12345)\n",
    "si.define_striatum(num_dSPN=0, num_iSPN=0, num_FS=50, num_LTS=0, num_ChIN=0)\n",
    "\n",
    "# The centre of the cube is [0.00475, 0.004, 0.00775]. num_neurons is optional\n",
    "# First test, we place units on top of each other -- set num_neurons to 8\n",
    "if False:\n",
    "    si.add_population_unit_density(structure_name=\"Striatum\", neuron_types=[\"FS\"], unit_id=1, \n",
    "                                   unit_centre=np.array([0.00475, 0.004, 0.00775]) -np.array([0, 100e-6, 0]),\n",
    "                                   probability_function=\"(d < 300e-6)*1\", num_neurons=20)\n",
    "    si.add_population_unit_density(structure_name=\"Striatum\", neuron_types=[\"FS\"], unit_id=2, \n",
    "                                   unit_centre=np.array([0.00475, 0.004, 0.00775]) -np.array([0, 0, 100e-6]),\n",
    "                                   probability_function=\"(d < 300e-6) * 1\", num_neurons=20)\n",
    "else:\n",
    "    si.add_population_unit_random(structure_name=\"Striatum\", neuron_types=[\"FS\"], fraction_of_neurons=1, unit_id=1)\n",
    "    \n",
    "si.write_json()"
   ]
  },
  {
   "cell_type": "code",
   "execution_count": null,
   "id": "48ce7c88",
   "metadata": {},
   "outputs": [],
   "source": [
    "# Smaller network -- TESTING\n",
    "if False:\n",
    "    from snudda import SnuddaInit\n",
    "    si = SnuddaInit(network_path=network_path, random_seed=12345)\n",
    "    si.define_striatum(num_dSPN=0, num_iSPN=0, num_FS=10, num_LTS=0, num_ChIN=0)\n",
    "\n",
    "    # The centre of the cube is [0.00475, 0.004, 0.00775]. num_neurons is optional\n",
    "    # First test, we place units on top of each other -- set num_neurons to 8\n",
    "    si.add_population_unit_density(structure_name=\"Striatum\", neuron_types=[\"FS\"], unit_id=1, \n",
    "                                   unit_centre=np.array([0.00475, 0.004, 0.00775]) -np.array([0, 100e-6, 0]),\n",
    "                                   probability_function=\"(d < 300e-6)*1\", num_neurons=4)\n",
    "    si.add_population_unit_density(structure_name=\"Striatum\", neuron_types=[\"FS\"], unit_id=2, \n",
    "                                   unit_centre=np.array([0.00475, 0.004, 0.00775]) -np.array([0, 0, 100e-6]),\n",
    "                                   probability_function=\"(d < 300e-6) * 1\", num_neurons=4)\n",
    "\n",
    "    si.write_json()"
   ]
  },
  {
   "cell_type": "code",
   "execution_count": null,
   "id": "9a871b0f",
   "metadata": {},
   "outputs": [],
   "source": [
    "from snudda import SnuddaPlace\n",
    "sp = SnuddaPlace(network_path=network_path)\n",
    "sp.place()"
   ]
  },
  {
   "cell_type": "markdown",
   "id": "a5fc7139",
   "metadata": {},
   "source": [
    "### Plotting the network\n",
    "Plotting the network to verify that the population units are placed the way we expect."
   ]
  },
  {
   "cell_type": "code",
   "execution_count": null,
   "id": "2787d727",
   "metadata": {},
   "outputs": [],
   "source": [
    "from snudda.plotting import PlotNetwork\n",
    "pos_file = os.path.join(network_path, \"network-neuron-positions.hdf5\")\n",
    "\n",
    "pn = PlotNetwork(pos_file)\n",
    "pn.plot_populations()\n",
    "\n",
    "# The commented code below also plots the network, but with the option to plot more detail of the neurons:\n",
    "# pn = PlotNetwork(network_path)\n",
    "# pn.plot(plot_axon=False, plot_dendrite=False, plot_synapses=False, colour_population_unit=True)\n",
    "\n",
    "pn.close()  # Close the hdf5 file so others can use it (or better shut down kernel after)"
   ]
  },
  {
   "cell_type": "markdown",
   "id": "523f4c37",
   "metadata": {},
   "source": [
    "### Check if ipyparallel running\n",
    "For larger networks it is useful to run network creation in parallel."
   ]
  },
  {
   "cell_type": "code",
   "execution_count": null,
   "id": "290c146d",
   "metadata": {},
   "outputs": [],
   "source": [
    "import os\n",
    "from ipyparallel import Client\n",
    "\n",
    "os.environ[\"IPYTHONDIR\"] = \".ipython\"\n",
    "os.environ[\"IPYTHON_PROFILE\"] = \"default\"\n",
    "\n",
    "u_file = os.path.join(\".ipython\", \"profile_default\", \"security\", \"ipcontroller-client.json\")\n",
    "if os.path.exists(u_file):\n",
    "    rc = Client(url_file=u_file, timeout=120, debug=False)\n",
    "else:\n",
    "    print(\"Warning, running in serial.\")\n",
    "    rc = None"
   ]
  },
  {
   "cell_type": "code",
   "execution_count": null,
   "id": "3a8d0e19",
   "metadata": {},
   "outputs": [],
   "source": [
    "from snudda import SnuddaDetect\n",
    "\n",
    "sd = SnuddaDetect(network_path=network_path, rc=rc, verbose=False)\n",
    "sd.detect()"
   ]
  },
  {
   "cell_type": "code",
   "execution_count": null,
   "id": "bd365921",
   "metadata": {},
   "outputs": [],
   "source": [
    "from snudda import SnuddaPrune\n",
    "\n",
    "sp = SnuddaPrune(network_path=network_path, rc=rc, verbose=False)\n",
    "sp.prune()"
   ]
  },
  {
   "cell_type": "markdown",
   "id": "d33b743b",
   "metadata": {},
   "source": [
    "### Generate input\n",
    "\n",
    "Next we generate the input according to specifications in [FS-input-correlation-detection-2.json](FS-input-correlation-detection-2.json)"
   ]
  },
  {
   "cell_type": "code",
   "execution_count": null,
   "id": "908d5b84",
   "metadata": {},
   "outputs": [],
   "source": [
    "from snudda.input import SnuddaInput\n",
    "si = SnuddaInput(network_path=network_path, \n",
    "                 input_config_file=os.path.join(\"FS-input-correlation-detection-2.json\"),\n",
    "                 time=20,\n",
    "                 rc=rc, verbose=False)\n",
    "si.generate()"
   ]
  },
  {
   "cell_type": "markdown",
   "id": "8fb3a316",
   "metadata": {},
   "source": [
    "### Plot the input to verify it looks reasonable"
   ]
  },
  {
   "cell_type": "code",
   "execution_count": null,
   "id": "51e7ce35",
   "metadata": {},
   "outputs": [],
   "source": [
    "from snudda.plotting import PlotInput\n",
    "input_file = os.path.join(network_path, \"input-spikes.hdf5\")\n",
    "spi = PlotInput(input_file)"
   ]
  },
  {
   "cell_type": "markdown",
   "id": "4a75cd56",
   "metadata": {},
   "source": [
    "Input to FS population unit 1. We successively increase the input frequency for cortical signal every 2 seconds. The second half of each period has correlation between the units with the population unit, the first does not (correlation is then only within the neuron)."
   ]
  },
  {
   "cell_type": "code",
   "execution_count": null,
   "id": "24db6fd5",
   "metadata": {},
   "outputs": [],
   "source": [
    "spi.plot_input_population_unit(population_unit_id=1, num_neurons=2, neuron_type=\"FS\", fig_size=(15,5))"
   ]
  },
  {
   "cell_type": "markdown",
   "id": "3b8d1365",
   "metadata": {},
   "source": [
    "### Compile neuron modules"
   ]
  },
  {
   "cell_type": "code",
   "execution_count": null,
   "id": "65713403",
   "metadata": {},
   "outputs": [],
   "source": [
    "!nrnivmodl ../../../../BasalGangliaData/data/neurons/mechanisms"
   ]
  },
  {
   "cell_type": "markdown",
   "id": "3af4b2bc",
   "metadata": {},
   "source": [
    "### Run the simulation"
   ]
  },
  {
   "cell_type": "code",
   "execution_count": null,
   "id": "8e88d0ed",
   "metadata": {},
   "outputs": [],
   "source": [
    "!mpiexec -n 6 snudda simulate networks/FS-input-correlation-detection-2 --time 20"
   ]
  },
  {
   "cell_type": "code",
   "execution_count": null,
   "id": "2959c4ce",
   "metadata": {},
   "outputs": [],
   "source": [
    "!mpiexec -n 6 snudda simulate networks/FS-input-correlation-detection-2 --time 20 --disableGJ --outputFile networks/FS-input-correlation-detection-2/simulation/output-no-GJ.hdf5"
   ]
  },
  {
   "cell_type": "code",
   "execution_count": null,
   "id": "c2324c0a",
   "metadata": {},
   "outputs": [],
   "source": [
    "from snudda.plotting.plot_cross_correlogram import PlotCrossCorrelogram\n",
    "pcc1 = PlotCrossCorrelogram(os.path.join(network_path, \"simulation\", \"output.hdf5\"))\n",
    "pcc1.plot_all_pair_cross_correlogram(neuron_id=None, fig_file_name=os.path.join(network_path, \"figures\", \"FS-cross-corr.png\"))"
   ]
  },
  {
   "cell_type": "code",
   "execution_count": null,
   "id": "64308b7d",
   "metadata": {},
   "outputs": [],
   "source": [
    "pcc2 = PlotCrossCorrelogram(os.path.join(network_path, \"simulation\", \"output-no-GJ.hdf5\"))\n",
    "pcc2.plot_all_pair_cross_correlogram(neuron_id=None, fig_file_name=os.path.join(network_path, \"figures\", \"FS-cross-corr-no-gj.png\"))"
   ]
  },
  {
   "cell_type": "markdown",
   "id": "5b268d60",
   "metadata": {},
   "source": [
    "### Plotting\n",
    "\n",
    "We want to see what frequency we should have the cortical input at to get gap junction case to spike."
   ]
  },
  {
   "cell_type": "code",
   "execution_count": null,
   "id": "4068fd41",
   "metadata": {
    "scrolled": true
   },
   "outputs": [],
   "source": [
    "from snudda.plotting import SnuddaPlotSpikeRaster2\n",
    "sim_file = os.path.join(network_path, \"simulation\", \"output.hdf5\")\n",
    "fig_file = os.path.join(network_path, \"figures\", \"spike-raster-gj.pdf\")\n",
    "spr = SnuddaPlotSpikeRaster2(network_path=network_path, simulation_file=sim_file, figure_path=fig_file)\n",
    "spr.plot_spike_raster()\n",
    "spr.plot_spike_histogram(bin_size=2000e-3)"
   ]
  },
  {
   "cell_type": "code",
   "execution_count": null,
   "id": "f305556a",
   "metadata": {},
   "outputs": [],
   "source": [
    "from snudda.plotting import SnuddaPlotSpikeRaster2\n",
    "sim_file_no_gj = os.path.join(network_path, \"simulation\", \"output-no-GJ.hdf5\")\n",
    "fig_file_no_gj = os.path.join(network_path, \"figures\", \"spike-raster-no-gj.pdf\")\n",
    "spr2 = SnuddaPlotSpikeRaster2(network_path=network_path, simulation_file=sim_file_no_gj, figure_path=fig_file_no_gj)\n",
    "spr2.plot_spike_raster()\n",
    "spr2.plot_spike_histogram(bin_size=1000e-3)"
   ]
  },
  {
   "cell_type": "code",
   "execution_count": null,
   "id": "94e7b11c",
   "metadata": {},
   "outputs": [],
   "source": []
  },
  {
   "cell_type": "code",
   "execution_count": null,
   "id": "e09e370a",
   "metadata": {},
   "outputs": [],
   "source": []
  },
  {
   "cell_type": "code",
   "execution_count": null,
   "id": "3398e079",
   "metadata": {},
   "outputs": [],
   "source": []
  }
 ],
 "metadata": {
  "kernelspec": {
   "display_name": "Python 3 (ipykernel)",
   "language": "python",
   "name": "python3"
  },
  "language_info": {
   "codemirror_mode": {
    "name": "ipython",
    "version": 3
   },
   "file_extension": ".py",
   "mimetype": "text/x-python",
   "name": "python",
   "nbconvert_exporter": "python",
   "pygments_lexer": "ipython3",
   "version": "3.9.2"
  }
 },
 "nbformat": 4,
 "nbformat_minor": 5
}
