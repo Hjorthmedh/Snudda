{
 "cells": [
  {
   "cell_type": "markdown",
   "id": "falling-kitchen",
   "metadata": {},
   "source": [
    "# Creating a custom slice\n",
    "\n",
    "This code can be run in parallel. To do that, please first start ```ipcluster```, on linux you write the following into the terminal, note that you should be in the ```Snudda/examples/notebook``` directory:\n",
    "\n",
    "```\n",
    "export IPYTHONDIR=\"`pwd`/.ipython\"\n",
    "export IPYTHON_PROFILE=default\n",
    "ipcluster start \n",
    "```\n",
    "\n",
    "These commands are in ```start_ipcluster.sh``` in the ```examples/notebook``` directory. After starting ipcluster give it a few seconds to get fully up and running before proceeding with the rest of the commands in this notebook. \n",
    "\n",
    "If you restart the run you might need to do:\n",
    "\n",
    "```\n",
    "ipcluster stop\n",
    "ipcluster start\n",
    "```\n",
    "\n",
    "For instructions how to install and activate ipyparallel for your notebook see \n",
    "https://github.com/ipython/ipyparallel"
   ]
  },
  {
   "cell_type": "code",
   "execution_count": 1,
   "id": "nasty-surveillance",
   "metadata": {},
   "outputs": [],
   "source": [
    "import os\n",
    "\n",
    "os.environ[\"IPYTHONDIR\"] = \".ipython\"\n",
    "os.environ[\"IPYTHON_PROFILE\"] = \"default\""
   ]
  },
  {
   "cell_type": "code",
   "execution_count": 2,
   "id": "conscious-routine",
   "metadata": {},
   "outputs": [],
   "source": [
    "import os\n",
    "\n",
    "network_path = os.path.join(\"networks\", \"slice_example\")\n",
    "mesh_file = os.path.join(network_path, \"mesh\", \"slice.obj\")\n",
    "\n",
    "if not os.path.exists(os.path.dirname(mesh_file)):\n",
    "    os.makedirs(os.path.dirname(mesh_file))\n",
    "    "
   ]
  },
  {
   "cell_type": "markdown",
   "id": "continuing-pulse",
   "metadata": {},
   "source": [
    "Create a custom slice that is 1000x1000x25 micrometers in size."
   ]
  },
  {
   "cell_type": "code",
   "execution_count": 3,
   "id": "finished-league",
   "metadata": {},
   "outputs": [
    {
     "name": "stdout",
     "output_type": "stream",
     "text": [
      "Creating slice mesh\n",
      "File: networks/slice_example/mesh/slice.obj\n",
      "Centre: [0. 0. 0.]\n",
      "Sides: 0.001 x 0.001 x 2.5e-05\n",
      "Description: This is a test slice corresponding to Allen Institute data\n"
     ]
    }
   ],
   "source": [
    "from snudda.create_slice_mesh import create_slice_mesh\n",
    "create_slice_mesh(file_name=mesh_file,\n",
    "                  centre_point=[0.0, 0.0, 0.0],\n",
    "                  x_len=1e-3,\n",
    "                  y_len=1e-3,\n",
    "                  z_len=25e-6,\n",
    "                  description=\"This is a test slice corresponding to Allen Institute data\")"
   ]
  },
  {
   "cell_type": "markdown",
   "id": "third-ireland",
   "metadata": {},
   "source": [
    "Here we populate the slice with dSPN and iSPN neurons.\n",
    "\n",
    "First we ```define_structure```, specifying ```struct_name``` and the ```struct_mesh``` which is a [wavefront obj file](https://en.wikipedia.org/wiki/Wavefront_.obj_file). The ```d_min``` parameter (SI units, so meters) specify how close neurons can be placed. The ```mesh_bin_width``` is voxelisation of the mesh, and it needs to be larger than 2*```d_min```.\n",
    "\n",
    "Next we ```add_neurons```, passing ```name``` of the neuron, ```volume_id``` it belongs to, and the ```neuron_dir``` where the neurons are located. Note that each dSPN neuron morphology has its own folder, so point to the parent folder e.g. data/neurons/dspn.\n",
    "\n",
    "The next step is ```add_neuron_target``` which specifies how neurons are coupled together. The connection is from ```neuron_name``` to ```target_name``` of type ```connection_type``` (here GABA). \n",
    "\n",
    "The ```dist_pruning``` is optional, and allows us to form preferentially proximal or distal synapses. In this example ```\"1-exp(-(0.4*d/60e-6)**2)\"``` will result in distal synapses (```d``` is the dendritic distance from the soma). We also specify the pruning parameters ```f1``` (probability of keeping a synapse), ```soft_max``` (a soft upper limit on the number of synapses between connected pairs), ```mu2``` (a soft lower limit on the number of synapses between connected pairs) and ```a3``` (fraction of all connected pairs that we keep, this is useful for changing connection probability without affecting the number of synapses between connected pairs).\n",
    "\n",
    "The ```conductance``` has two values, the mean and standard deviation. The ```parameter_file``` specifies parameters for the synapse which is moddeled by ```mod_file```. You can also specify additional synapse parameters using the ```channel_param_dictionary```.\n",
    "\n",
    "Finally we need to write the config file."
   ]
  },
  {
   "cell_type": "code",
   "execution_count": 4,
   "id": "higher-christianity",
   "metadata": {},
   "outputs": [
    {
     "name": "stdout",
     "output_type": "stream",
     "text": [
      "Adding neurons: dSPN from dir $DATA/neurons/striatum/dspn\n",
      "Adding neurons: iSPN from dir $DATA/neurons/striatum/ispn\n",
      "Writing networks/slice_example/network-config.json\n"
     ]
    }
   ],
   "source": [
    "from snudda.init import SnuddaInit\n",
    "\n",
    "cnc = SnuddaInit(network_path=network_path)\n",
    "\n",
    "# d_min normally 15e-6, here set to 12e-6 because slice is only 25 micrometers, 2*d_min < mesh_bin_width\n",
    "cnc.define_structure(struct_name=\"SliceExample\", struct_mesh=mesh_file, d_min=12e-6, mesh_bin_width=25e-6)\n",
    "cnc.add_neurons(name=\"dSPN\", num_neurons=1000, volume_id=\"SliceExample\",\n",
    "                neuron_dir=os.path.join(\"$DATA\",\"neurons\",\"striatum\",\"dspn\"))\n",
    "cnc.add_neurons(name=\"iSPN\", num_neurons=1000, volume_id=\"SliceExample\",\n",
    "                neuron_dir=os.path.join(\"$DATA\",\"neurons\",\"striatum\",\"ispn\"))\n",
    "\n",
    "SPN2SPNdistDepPruning = \"1-exp(-(0.4*d/60e-6)**2)\"\n",
    "\n",
    "MSD1gGABA = [0.24e-9, 0.1e-9]\n",
    "MSD2gGABA = [0.24e-9, 0.1e-9]\n",
    "\n",
    "MSD1GABAfailRate = 0.7  # Taverna 2008, figure 2\n",
    "MSD2GABAfailRate = 0.4  # Taverna 2008, 2mM\n",
    "\n",
    "pfdSPNdSPN = os.path.join(\"$DATA\", \"synapses\", \"striatum\", \"PlanertFitting-DD-tmgaba-fit.json\")\n",
    "pfdSPNiSPN = os.path.join(\"$DATA\", \"synapses\", \"striatum\", \"PlanertFitting-DI-tmgaba-fit.json\")\n",
    "pfiSPNdSPN = os.path.join(\"$DATA\", \"synapses\", \"striatum\", \"PlanertFitting-ID-tmgaba-fit.json\")\n",
    "pfiSPNiSPN = os.path.join(\"$DATA\", \"synapses\", \"striatum\", \"PlanertFitting-II-tmgaba-fit.json\")\n",
    "\n",
    "cnc.add_neuron_target(neuron_name=\"dSPN\",\n",
    "                       target_name=\"dSPN\",\n",
    "                       connection_type=\"GABA\",\n",
    "                       dist_pruning=SPN2SPNdistDepPruning,\n",
    "                       f1=0.38, soft_max=3, mu2=2.4,\n",
    "                       a3=1.0,\n",
    "                       conductance=MSD1gGABA,\n",
    "                       parameter_file=pfdSPNdSPN,\n",
    "                       mod_file=\"tmGabaA\",\n",
    "                       channel_param_dictionary={\"tau1\": (1.3e-3, 1e3),\n",
    "                                                 \"tau2\": (12.4e-3, 1e3),\n",
    "                                                 \"failRate\": MSD1GABAfailRate})\n",
    "\n",
    "\n",
    "cnc.add_neuron_target(neuron_name=\"dSPN\",\n",
    "                       target_name=\"iSPN\",\n",
    "                       connection_type=\"GABA\",\n",
    "                       dist_pruning=SPN2SPNdistDepPruning,\n",
    "                       f1=0.20, soft_max=3, mu2=2.4,\n",
    "                       a3=1.0,\n",
    "                       conductance=MSD1gGABA,\n",
    "                       parameter_file=pfdSPNiSPN,\n",
    "                       mod_file=\"tmGabaA\",\n",
    "                       channel_param_dictionary={\"tau1\": (1.3e-3, 1e3),\n",
    "                                                 \"tau2\": (12.4e-3, 1e3),\n",
    "                                                 \"failRate\": MSD1GABAfailRate})\n",
    "\n",
    "\n",
    "cnc.add_neuron_target(neuron_name=\"iSPN\",\n",
    "                       target_name=\"dSPN\",\n",
    "                       connection_type=\"GABA\",\n",
    "                       dist_pruning=SPN2SPNdistDepPruning,\n",
    "                       f1=0.3, soft_max=4, mu2=2.4,\n",
    "                       a3=1.0,\n",
    "                       conductance=MSD2gGABA,\n",
    "                       parameter_file=pfiSPNdSPN,\n",
    "                       mod_file=\"tmGabaA\",\n",
    "                       channel_param_dictionary={\"tau1\": (1.3e-3, 1e3),\n",
    "                                                 \"tau2\": (12.4e-3, 1e3),\n",
    "                                                 \"failRate\": MSD2GABAfailRate})\n",
    "\n",
    "cnc.add_neuron_target(neuron_name=\"iSPN\",\n",
    "                       target_name=\"iSPN\",\n",
    "                       connection_type=\"GABA\",\n",
    "                       dist_pruning=SPN2SPNdistDepPruning,\n",
    "                       f1=0.55, soft_max=4, mu2=2.4,\n",
    "                       a3=1.0,\n",
    "                       conductance=MSD2gGABA,\n",
    "                       parameter_file=pfiSPNiSPN,\n",
    "                       mod_file=\"tmGabaA\",\n",
    "                       channel_param_dictionary={\"tau1\": (1.3e-3, 1e3),\n",
    "                                                 \"tau2\": (12.4e-3, 1e3),\n",
    "                                                 \"failRate\": MSD2GABAfailRate})\n",
    "\n",
    "cnc.write_json()"
   ]
  },
  {
   "cell_type": "code",
   "execution_count": 5,
   "id": "imperial-township",
   "metadata": {},
   "outputs": [],
   "source": [
    "# Run place, detect and prune in parallel by passing rc\n",
    "from ipyparallel import Client\n",
    "u_file = os.path.join(\".ipython\", \"profile_default\", \"security\", \"ipcontroller-client.json\")\n",
    "rc = Client(url_file=u_file, timeout=120, debug=False)\n",
    "d_view = rc.direct_view(targets='all')  # rc[:] # Direct view into clients"
   ]
  },
  {
   "cell_type": "code",
   "execution_count": 6,
   "id": "strategic-reconstruction",
   "metadata": {},
   "outputs": [],
   "source": [
    "from snudda.place import SnuddaPlace\n",
    "sp = SnuddaPlace(network_path=network_path, verbose=False, rc=rc)\n",
    "sp.parse_config()\n",
    "sp.write_data()"
   ]
  },
  {
   "cell_type": "markdown",
   "id": "unsigned-thinking",
   "metadata": {},
   "source": [
    "This plots the network, here we leave out axons and dendrites in the figure. Note that matplotlib will distort the axis in 3D plots, causing somas to not appear as spheres."
   ]
  },
  {
   "cell_type": "code",
   "execution_count": 7,
   "id": "useful-respect",
   "metadata": {},
   "outputs": [
    {
     "data": {
      "image/png": "[encoded data removed]",
      "text/plain": [
       "<Figure size 432x468 with 1 Axes>"
      ]
     },
     "metadata": {
      "needs_background": "light"
     },
     "output_type": "display_data"
    }
   ],
   "source": [
    "from snudda.plotting.plot_network import PlotNetwork\n",
    "network_file = os.path.join(network_path, \"network-neuron-positions.hdf5\")\n",
    "pn = PlotNetwork(network_file)\n",
    "pn.plot(plot_axon=False, plot_dendrite=False, plot_synapses=False)\n",
    "pn.close() "
   ]
  },
  {
   "cell_type": "markdown",
   "id": "optical-hunger",
   "metadata": {},
   "source": [
    "The below step is slow in serial. If you want to run the touch detection in parallel, look at the ```simple_network_parallel.ipynb``` example.\n",
    "\n",
    "For completion, let us do detection and pruning also. Note that we have chosen to specify ```hyper_voxel_size``` in this example, default value is 100. Larger values will take more memory but should be a bit faster, especially if running in serial mode. If your computer runs out of memory, reduce the ```hyper_voxel_size```."
   ]
  },
  {
   "cell_type": "code",
   "execution_count": 8,
   "id": "southeast-majority",
   "metadata": {
    "scrolled": true
   },
   "outputs": [
    {
     "name": "stdout",
     "output_type": "stream",
     "text": [
      "importing SnuddaDetect from snudda.detect on engine(s)\n",
      "HyperID 96 completed - 4292 synapses found (199.6 s)\n",
      "HyperID 68 completed - 4056 synapses found (206.3 s)\n",
      "HyperID 64 completed - 3697 synapses found (207.2 s)\n",
      "HyperID 92 completed - 4017 synapses found (207.4 s)\n",
      "HyperID 121 completed - 176492 synapses found (229.1 s)\n",
      "HyperID 37 completed - 179816 synapses found (242.1 s)\n",
      "HyperID 61 completed - 262812 synapses found (297.7 s)\n",
      "HyperID 89 completed - 304078 synapses found (316.3 s)\n",
      "HyperID 97 completed - 313926 synapses found (332.3 s)\n",
      "HyperID 69 completed - 335834 synapses found (361.5 s)\n",
      "HyperID 65 completed - 315109 synapses found (377.7 s)\n",
      "HyperID 73 completed - 116278 synapses found (176.0 s)\n",
      "HyperID 88 completed - 3511 synapses found (181.9 s)\n",
      "HyperID 60 completed - 3644 synapses found (160.9 s)\n",
      "HyperID 125 completed - 187718 synapses found (189.8 s)\n",
      "HyperID 101 completed - 92105 synapses found (158.0 s)\n",
      "HyperID 93 completed - 371142 synapses found (416.4 s)\n",
      "HyperID 41 completed - 231441 synapses found (248.6 s)\n",
      "HyperID 40 completed - 2842 synapses found (122.9 s)\n",
      "HyperID 117 completed - 141484 synapses found (182.3 s)\n",
      "Suppressing printouts for hyper voxels that complete in < 100 seconds.\n",
      "HyperID 36 completed - 2514 synapses found (128.0 s)\n",
      "HyperID 124 completed - 2674 synapses found (108.0 s)\n",
      "HyperID 33 completed - 124337 synapses found (178.4 s)\n",
      "HyperID 45 completed - 68610 synapses found (108.9 s)\n",
      "HyperID 120 completed - 2020 synapses found (120.9 s)\n"
     ]
    }
   ],
   "source": [
    "from snudda.detect import SnuddaDetect\n",
    "\n",
    "sd = SnuddaDetect(network_path=network_path, hyper_voxel_size=100, rc=rc)\n",
    "sd.detect()"
   ]
  },
  {
   "cell_type": "code",
   "execution_count": 9,
   "id": "sought-width",
   "metadata": {},
   "outputs": [
    {
     "name": "stdout",
     "output_type": "stream",
     "text": [
      "importing SnuddaPrune from snudda.prune on engine(s)\n",
      "prune_synapses_parallel: No gapJunctions skipping pruning\n",
      "Synapses before pruning: 3312058\n",
      "Synapses after pruning: 182731 (5.52 % kept)\n",
      "No gap junctions to prune.\n"
     ]
    }
   ],
   "source": [
    "from snudda.prune import SnuddaPrune\n",
    "\n",
    "sp = SnuddaPrune(network_path=network_path, rc=rc)\n",
    "sp.prune()"
   ]
  },
  {
   "cell_type": "markdown",
   "id": "turkish-correction",
   "metadata": {},
   "source": [
    "For simplicity this notebook is written using serial execution, please see ```simple_network_parallel.ipynb``` for instructions how to make detection and pruning in parallel."
   ]
  },
  {
   "cell_type": "markdown",
   "id": "imported-dividend",
   "metadata": {},
   "source": [
    "Snudda place generates ```examples/notebooks/networks/slice_example/network-neuron-positions.hdf5``` which contains the neuron positions. In the same folder prune creates ```network-pruned-synapses.hdf5``` which is the finished network with synapses. To load the data have a look at ```SnuddaLoad``` in ```load.py```."
   ]
  }
 ],
 "metadata": {
  "kernelspec": {
   "display_name": "Python 3",
   "language": "python",
   "name": "python3"
  },
  "language_info": {
   "codemirror_mode": {
    "name": "ipython",
    "version": 3
   },
   "file_extension": ".py",
   "mimetype": "text/x-python",
   "name": "python",
   "nbconvert_exporter": "python",
   "pygments_lexer": "ipython3",
   "version": "3.7.3"
  }
 },
 "nbformat": 4,
 "nbformat_minor": 5
}
