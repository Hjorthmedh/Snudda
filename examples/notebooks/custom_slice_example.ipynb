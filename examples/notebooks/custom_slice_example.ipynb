{
 "cells": [
  {
   "cell_type": "markdown",
   "id": "falling-kitchen",
   "metadata": {},
   "source": [
    "# Creating a custom slice\n",
    "\n",
    "This code can be run in parallel. To do that, please first start ```ipcluster```, on linux you write the following into the terminal, note that you should be in the ```Snudda/examples/notebook``` directory:\n",
    "\n",
    "```\n",
    "export IPYTHONDIR=\"`pwd`/.ipython\"\n",
    "export IPYTHON_PROFILE=default\n",
    "ipcluster start \n",
    "```\n",
    "\n",
    "These commands are in ```start_ipcluster.sh``` in the ```examples/notebook``` directory. After starting ipcluster give it a few seconds to get fully up and running before proceeding with the rest of the commands in this notebook. \n",
    "\n",
    "If you restart the run you might need to do:\n",
    "\n",
    "```\n",
    "ipcluster stop\n",
    "ipcluster start\n",
    "```\n",
    "\n",
    "For instructions how to install and activate ipyparallel for your notebook see \n",
    "https://github.com/ipython/ipyparallel"
   ]
  },
  {
   "cell_type": "code",
   "execution_count": 1,
   "id": "nasty-surveillance",
   "metadata": {},
   "outputs": [],
   "source": [
    "import os\n",
    "\n",
    "os.environ[\"IPYTHONDIR\"] = \".ipython\"\n",
    "os.environ[\"IPYTHON_PROFILE\"] = \"default\""
   ]
  },
  {
   "cell_type": "code",
   "execution_count": 2,
   "id": "conscious-routine",
   "metadata": {},
   "outputs": [],
   "source": [
    "import os\n",
    "\n",
    "network_path = os.path.join(\"networks\", \"slice_example\")\n",
    "mesh_file = os.path.join(network_path, \"mesh\", \"slice.obj\")\n",
    "\n",
    "if not os.path.exists(os.path.dirname(mesh_file)):\n",
    "    os.makedirs(os.path.dirname(mesh_file))\n",
    "    "
   ]
  },
  {
   "cell_type": "markdown",
   "id": "continuing-pulse",
   "metadata": {},
   "source": [
    "Create a custom slice that is 1000x1000x25 micrometers in size."
   ]
  },
  {
   "cell_type": "code",
   "execution_count": 3,
   "id": "finished-league",
   "metadata": {},
   "outputs": [
    {
     "name": "stdout",
     "output_type": "stream",
     "text": [
      "Creating slice mesh\n",
      "File: networks/slice_example/mesh/slice.obj\n",
      "Centre: [0. 0. 0.]\n",
      "Sides: 0.001 x 0.001 x 2.5e-05\n",
      "Description: This is a test slice corresponding to Allen Institute data\n"
     ]
    }
   ],
   "source": [
    "from snudda.place import create_slice_mesh\n",
    "create_slice_mesh(file_name=mesh_file,\n",
    "                  centre_point=[0.0, 0.0, 0.0],\n",
    "                  x_len=1e-3,\n",
    "                  y_len=1e-3,\n",
    "                  z_len=25e-6,\n",
    "                  description=\"This is a test slice corresponding to Allen Institute data\")"
   ]
  },
  {
   "cell_type": "markdown",
   "id": "third-ireland",
   "metadata": {},
   "source": [
    "Here we populate the slice with dSPN and iSPN neurons.\n",
    "\n",
    "First we ```define_structure```, specifying ```struct_name``` and the ```struct_mesh``` which is a [wavefront obj file](https://en.wikipedia.org/wiki/Wavefront_.obj_file). The ```d_min``` parameter (SI units, so meters) specify how close neurons can be placed. The ```mesh_bin_width``` is voxelisation of the mesh, and it needs to be larger than 2*```d_min```.\n",
    "\n",
    "Next we ```add_neurons```, passing ```name``` of the neuron, ```volume_id``` it belongs to, and the ```neuron_dir``` where the neurons are located. Note that each dSPN neuron morphology has its own folder, so point to the parent folder e.g. data/neurons/dspn.\n",
    "\n",
    "The next step is ```add_neuron_target``` which specifies how neurons are coupled together. The connection is from ```neuron_name``` to ```target_name``` of type ```connection_type``` (here GABA). \n",
    "\n",
    "The ```dist_pruning``` is optional, and allows us to form preferentially proximal or distal synapses. In this example ```\"1-exp(-(0.4*d/60e-6)**2)\"``` will result in distal synapses (```d``` is the dendritic distance from the soma). We also specify the pruning parameters ```f1``` (probability of keeping a synapse), ```soft_max``` (a soft upper limit on the number of synapses between connected pairs), ```mu2``` (a soft lower limit on the number of synapses between connected pairs) and ```a3``` (fraction of all connected pairs that we keep, this is useful for changing connection probability without affecting the number of synapses between connected pairs).\n",
    "\n",
    "The ```conductance``` has two values, the mean and standard deviation. The ```parameter_file``` specifies parameters for the synapse which is moddeled by ```mod_file```. You can also specify additional synapse parameters using the ```channel_param_dictionary```.\n",
    "\n",
    "Finally we need to write the config file."
   ]
  },
  {
   "cell_type": "code",
   "execution_count": 4,
   "id": "higher-christianity",
   "metadata": {},
   "outputs": [
    {
     "name": "stdout",
     "output_type": "stream",
     "text": [
      "Adding neurons: dSPN from dir $DATA/neurons/striatum/dspn\n",
      "Adding neurons: iSPN from dir $DATA/neurons/striatum/ispn\n",
      "Writing networks/slice_example/network-config.json\n"
     ]
    }
   ],
   "source": [
    "from snudda import SnuddaInit\n",
    "\n",
    "cnc = SnuddaInit(network_path=network_path)\n",
    "\n",
    "# d_min normally 15e-6, here set to 12e-6 because slice is only 25 micrometers, 2*d_min < mesh_bin_width\n",
    "cnc.define_structure(struct_name=\"SliceExample\", struct_mesh=mesh_file, d_min=12e-6, mesh_bin_width=25e-6)\n",
    "cnc.add_neurons(name=\"dSPN\", num_neurons=1000, volume_id=\"SliceExample\",\n",
    "                neuron_dir=os.path.join(\"$DATA\",\"neurons\",\"striatum\",\"dspn\"))\n",
    "cnc.add_neurons(name=\"iSPN\", num_neurons=1000, volume_id=\"SliceExample\",\n",
    "                neuron_dir=os.path.join(\"$DATA\",\"neurons\",\"striatum\",\"ispn\"))\n",
    "\n",
    "SPN2SPNdistDepPruning = \"1-exp(-(0.4*d/60e-6)**2)\"\n",
    "\n",
    "MSD1gGABA = [0.24e-9, 0.1e-9]\n",
    "MSD2gGABA = [0.24e-9, 0.1e-9]\n",
    "\n",
    "MSD1GABAfailRate = 0.7  # Taverna 2008, figure 2\n",
    "MSD2GABAfailRate = 0.4  # Taverna 2008, 2mM\n",
    "\n",
    "pfdSPNdSPN = os.path.join(\"$DATA\", \"synapses\", \"striatum\", \"PlanertFitting-DD-tmgaba-fit.json\")\n",
    "pfdSPNiSPN = os.path.join(\"$DATA\", \"synapses\", \"striatum\", \"PlanertFitting-DI-tmgaba-fit.json\")\n",
    "pfiSPNdSPN = os.path.join(\"$DATA\", \"synapses\", \"striatum\", \"PlanertFitting-ID-tmgaba-fit.json\")\n",
    "pfiSPNiSPN = os.path.join(\"$DATA\", \"synapses\", \"striatum\", \"PlanertFitting-II-tmgaba-fit.json\")\n",
    "\n",
    "cnc.add_neuron_target(neuron_name=\"dSPN\",\n",
    "                       target_name=\"dSPN\",\n",
    "                       connection_type=\"GABA\",\n",
    "                       dist_pruning=SPN2SPNdistDepPruning,\n",
    "                       f1=0.38, soft_max=3, mu2=2.4,\n",
    "                       a3=1.0,\n",
    "                       conductance=MSD1gGABA,\n",
    "                       parameter_file=pfdSPNdSPN,\n",
    "                       mod_file=\"tmGabaA\",\n",
    "                       channel_param_dictionary={\"tau1\": (1.3e-3, 1e3),\n",
    "                                                 \"tau2\": (12.4e-3, 1e3),\n",
    "                                                 \"failRate\": MSD1GABAfailRate})\n",
    "\n",
    "\n",
    "cnc.add_neuron_target(neuron_name=\"dSPN\",\n",
    "                       target_name=\"iSPN\",\n",
    "                       connection_type=\"GABA\",\n",
    "                       dist_pruning=SPN2SPNdistDepPruning,\n",
    "                       f1=0.20, soft_max=3, mu2=2.4,\n",
    "                       a3=1.0,\n",
    "                       conductance=MSD1gGABA,\n",
    "                       parameter_file=pfdSPNiSPN,\n",
    "                       mod_file=\"tmGabaA\",\n",
    "                       channel_param_dictionary={\"tau1\": (1.3e-3, 1e3),\n",
    "                                                 \"tau2\": (12.4e-3, 1e3),\n",
    "                                                 \"failRate\": MSD1GABAfailRate})\n",
    "\n",
    "\n",
    "cnc.add_neuron_target(neuron_name=\"iSPN\",\n",
    "                       target_name=\"dSPN\",\n",
    "                       connection_type=\"GABA\",\n",
    "                       dist_pruning=SPN2SPNdistDepPruning,\n",
    "                       f1=0.3, soft_max=4, mu2=2.4,\n",
    "                       a3=1.0,\n",
    "                       conductance=MSD2gGABA,\n",
    "                       parameter_file=pfiSPNdSPN,\n",
    "                       mod_file=\"tmGabaA\",\n",
    "                       channel_param_dictionary={\"tau1\": (1.3e-3, 1e3),\n",
    "                                                 \"tau2\": (12.4e-3, 1e3),\n",
    "                                                 \"failRate\": MSD2GABAfailRate})\n",
    "\n",
    "cnc.add_neuron_target(neuron_name=\"iSPN\",\n",
    "                       target_name=\"iSPN\",\n",
    "                       connection_type=\"GABA\",\n",
    "                       dist_pruning=SPN2SPNdistDepPruning,\n",
    "                       f1=0.55, soft_max=4, mu2=2.4,\n",
    "                       a3=1.0,\n",
    "                       conductance=MSD2gGABA,\n",
    "                       parameter_file=pfiSPNiSPN,\n",
    "                       mod_file=\"tmGabaA\",\n",
    "                       channel_param_dictionary={\"tau1\": (1.3e-3, 1e3),\n",
    "                                                 \"tau2\": (12.4e-3, 1e3),\n",
    "                                                 \"failRate\": MSD2GABAfailRate})\n",
    "\n",
    "cnc.write_json()"
   ]
  },
  {
   "cell_type": "code",
   "execution_count": 5,
   "id": "imperial-township",
   "metadata": {},
   "outputs": [
    {
     "name": "stderr",
     "output_type": "stream",
     "text": [
      "/home/hjorth/.local/lib/python3.7/site-packages/IPython/paths.py:67: UserWarning: IPython parent '' is not a writable location, using a temp directory.\n",
      "  \" using a temp directory.\".format(parent))\n"
     ]
    },
    {
     "ename": "OSError",
     "evalue": "Connection file '.ipython/profile_default/security/ipcontroller-client.json' not found. Is a controller running?",
     "output_type": "error",
     "traceback": [
      "\u001b[0;31m---------------------------------------------------------------------------\u001b[0m",
      "\u001b[0;31mOSError\u001b[0m                                   Traceback (most recent call last)",
      "\u001b[0;32m<ipython-input-5-4d3672634b2b>\u001b[0m in \u001b[0;36m<module>\u001b[0;34m\u001b[0m\n\u001b[1;32m      2\u001b[0m \u001b[0;32mfrom\u001b[0m \u001b[0mipyparallel\u001b[0m \u001b[0;32mimport\u001b[0m \u001b[0mClient\u001b[0m\u001b[0;34m\u001b[0m\u001b[0;34m\u001b[0m\u001b[0m\n\u001b[1;32m      3\u001b[0m \u001b[0mu_file\u001b[0m \u001b[0;34m=\u001b[0m \u001b[0mos\u001b[0m\u001b[0;34m.\u001b[0m\u001b[0mpath\u001b[0m\u001b[0;34m.\u001b[0m\u001b[0mjoin\u001b[0m\u001b[0;34m(\u001b[0m\u001b[0;34m\".ipython\"\u001b[0m\u001b[0;34m,\u001b[0m \u001b[0;34m\"profile_default\"\u001b[0m\u001b[0;34m,\u001b[0m \u001b[0;34m\"security\"\u001b[0m\u001b[0;34m,\u001b[0m \u001b[0;34m\"ipcontroller-client.json\"\u001b[0m\u001b[0;34m)\u001b[0m\u001b[0;34m\u001b[0m\u001b[0;34m\u001b[0m\u001b[0m\n\u001b[0;32m----> 4\u001b[0;31m \u001b[0mrc\u001b[0m \u001b[0;34m=\u001b[0m \u001b[0mClient\u001b[0m\u001b[0;34m(\u001b[0m\u001b[0murl_file\u001b[0m\u001b[0;34m=\u001b[0m\u001b[0mu_file\u001b[0m\u001b[0;34m,\u001b[0m \u001b[0mtimeout\u001b[0m\u001b[0;34m=\u001b[0m\u001b[0;36m120\u001b[0m\u001b[0;34m,\u001b[0m \u001b[0mdebug\u001b[0m\u001b[0;34m=\u001b[0m\u001b[0;32mFalse\u001b[0m\u001b[0;34m)\u001b[0m\u001b[0;34m\u001b[0m\u001b[0;34m\u001b[0m\u001b[0m\n\u001b[0m\u001b[1;32m      5\u001b[0m \u001b[0md_view\u001b[0m \u001b[0;34m=\u001b[0m \u001b[0mrc\u001b[0m\u001b[0;34m.\u001b[0m\u001b[0mdirect_view\u001b[0m\u001b[0;34m(\u001b[0m\u001b[0mtargets\u001b[0m\u001b[0;34m=\u001b[0m\u001b[0;34m'all'\u001b[0m\u001b[0;34m)\u001b[0m  \u001b[0;31m# rc[:] # Direct view into clients\u001b[0m\u001b[0;34m\u001b[0m\u001b[0;34m\u001b[0m\u001b[0m\n",
      "\u001b[0;32m~/.local/lib/python3.7/site-packages/ipyparallel/client/client.py\u001b[0m in \u001b[0;36m__init__\u001b[0;34m(self, url_file, profile, profile_dir, ipython_dir, context, debug, sshserver, sshkey, password, paramiko, timeout, cluster_id, **extra_args)\u001b[0m\n\u001b[1;32m    422\u001b[0m             \u001b[0;31m# Connection file explicitly specified, but not found\u001b[0m\u001b[0;34m\u001b[0m\u001b[0;34m\u001b[0m\u001b[0;34m\u001b[0m\u001b[0m\n\u001b[1;32m    423\u001b[0m             raise IOError(\"Connection file %r not found. Is a controller running?\" % \\\n\u001b[0;32m--> 424\u001b[0;31m                 \u001b[0mcompress_user\u001b[0m\u001b[0;34m(\u001b[0m\u001b[0murl_file\u001b[0m\u001b[0;34m)\u001b[0m\u001b[0;34m\u001b[0m\u001b[0;34m\u001b[0m\u001b[0m\n\u001b[0m\u001b[1;32m    425\u001b[0m             )\n\u001b[1;32m    426\u001b[0m \u001b[0;34m\u001b[0m\u001b[0m\n",
      "\u001b[0;31mOSError\u001b[0m: Connection file '.ipython/profile_default/security/ipcontroller-client.json' not found. Is a controller running?"
     ]
    }
   ],
   "source": [
    "# Run place, detect and prune in parallel by passing rc\n",
    "from ipyparallel import Client\n",
    "u_file = os.path.join(\".ipython\", \"profile_default\", \"security\", \"ipcontroller-client.json\")\n",
    "rc = Client(url_file=u_file, timeout=120, debug=False)\n",
    "d_view = rc.direct_view(targets='all')  # rc[:] # Direct view into clients"
   ]
  },
  {
   "cell_type": "code",
   "execution_count": null,
   "id": "strategic-reconstruction",
   "metadata": {},
   "outputs": [],
   "source": [
    "from snudda import SnuddaPlace\n",
    "sp = SnuddaPlace(network_path=network_path, verbose=False, rc=rc)\n",
    "sp.parse_config()\n",
    "sp.write_data()"
   ]
  },
  {
   "cell_type": "markdown",
   "id": "unsigned-thinking",
   "metadata": {},
   "source": [
    "This plots the network, here we leave out axons and dendrites in the figure. Note that matplotlib will distort the axis in 3D plots, causing somas to not appear as spheres."
   ]
  },
  {
   "cell_type": "code",
   "execution_count": null,
   "id": "useful-respect",
   "metadata": {},
   "outputs": [],
   "source": [
    "from snudda.plotting import PlotNetwork\n",
    "network_file = os.path.join(network_path, \"network-neuron-positions.hdf5\")\n",
    "pn = PlotNetwork(network_file)\n",
    "pn.plot(plot_axon=False, plot_dendrite=False, plot_synapses=False)\n",
    "pn.close() "
   ]
  },
  {
   "cell_type": "markdown",
   "id": "optical-hunger",
   "metadata": {},
   "source": [
    "The below step is slow in serial. If you want to run the touch detection in parallel, look at the ```simple_network_parallel.ipynb``` example.\n",
    "\n",
    "For completion, let us do detection and pruning also. Note that we have chosen to specify ```hyper_voxel_size``` in this example, default value is 100. Larger values will take more memory but should be a bit faster, especially if running in serial mode. If your computer runs out of memory, reduce the ```hyper_voxel_size```."
   ]
  },
  {
   "cell_type": "code",
   "execution_count": null,
   "id": "southeast-majority",
   "metadata": {
    "scrolled": true
   },
   "outputs": [],
   "source": [
    "from snudda import SnuddaDetect\n",
    "\n",
    "sd = SnuddaDetect(network_path=network_path, hyper_voxel_size=100, rc=rc)\n",
    "sd.detect()"
   ]
  },
  {
   "cell_type": "code",
   "execution_count": null,
   "id": "sought-width",
   "metadata": {},
   "outputs": [],
   "source": [
    "from snudda import SnuddaPrune\n",
    "\n",
    "sp = SnuddaPrune(network_path=network_path, rc=rc)\n",
    "sp.prune()"
   ]
  },
  {
   "cell_type": "markdown",
   "id": "turkish-correction",
   "metadata": {},
   "source": [
    "For simplicity this notebook is written using serial execution, please see ```simple_network_parallel.ipynb``` for instructions how to make detection and pruning in parallel."
   ]
  },
  {
   "cell_type": "markdown",
   "id": "imported-dividend",
   "metadata": {},
   "source": [
    "Snudda place generates ```examples/notebooks/networks/slice_example/network-neuron-positions.hdf5``` which contains the neuron positions. In the same folder prune creates ```network-pruned-synapses.hdf5``` which is the finished network with synapses. To load the data have a look at ```SnuddaLoad``` in ```load.py```."
   ]
  },
  {
   "cell_type": "code",
   "execution_count": null,
   "id": "flexible-daisy",
   "metadata": {},
   "outputs": [],
   "source": []
  }
 ],
 "metadata": {
  "kernelspec": {
   "display_name": "Python 3",
   "language": "python",
   "name": "python3"
  },
  "language_info": {
   "codemirror_mode": {
    "name": "ipython",
    "version": 3
   },
   "file_extension": ".py",
   "mimetype": "text/x-python",
   "name": "python",
   "nbconvert_exporter": "python",
   "pygments_lexer": "ipython3",
   "version": "3.7.3"
  }
 },
 "nbformat": 4,
 "nbformat_minor": 5
}
