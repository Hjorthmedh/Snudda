{
 "cells": [
  {
   "cell_type": "code",
   "execution_count": 1,
   "id": "conscious-routine",
   "metadata": {},
   "outputs": [],
   "source": [
    "import os\n",
    "\n",
    "network_path = os.path.join(\"networks\", \"slice_example\")\n",
    "mesh_file = os.path.join(network_path, \"mesh\", \"slice.obj\")\n",
    "\n",
    "if not os.path.exists(os.path.dirname(mesh_file)):\n",
    "    os.makedirs(os.path.dirname(mesh_file))\n",
    "    "
   ]
  },
  {
   "cell_type": "markdown",
   "id": "continuing-pulse",
   "metadata": {},
   "source": [
    "Create a custom slice that is 1000x1000x25 micrometers in size."
   ]
  },
  {
   "cell_type": "code",
   "execution_count": 2,
   "id": "finished-league",
   "metadata": {},
   "outputs": [
    {
     "name": "stdout",
     "output_type": "stream",
     "text": [
      "Creating slice mesh\n",
      "File: networks/slice_example/mesh/slice.obj\n",
      "Centre: [0. 0. 0.]\n",
      "Sides: 0.001 x 0.001 x 2.5e-05\n",
      "Description: This is a test slice corresponding to Allen Institute data\n"
     ]
    }
   ],
   "source": [
    "from snudda.create_slice_mesh import create_slice_mesh\n",
    "create_slice_mesh(file_name=mesh_file,\n",
    "                  centre_point=[0.0, 0.0, 0.0],\n",
    "                  x_len=1e-3,\n",
    "                  y_len=1e-3,\n",
    "                  z_len=25e-6,\n",
    "                  description=\"This is a test slice corresponding to Allen Institute data\")"
   ]
  },
  {
   "cell_type": "markdown",
   "id": "third-ireland",
   "metadata": {},
   "source": [
    "Here we populate the slice with dSPN and iSPN neurons.\n",
    "\n",
    "First we ```define_structure```, specifying ```struct_name``` and the ```struct_mesh``` which is a [wavefront obj file](https://en.wikipedia.org/wiki/Wavefront_.obj_file). The ```d_min``` parameter (SI units, so meters) specify how close neurons can be placed. The ```mesh_bin_width``` is voxelisation of the mesh, and it needs to be larger than 2*```d_min```.\n",
    "\n",
    "Next we ```add_neurons```, passing ```name``` of the neuron, ```volume_id``` it belongs to, and the ```neuron_dir``` where the neurons are located. Note that each dSPN neuron morphology has its own folder, so point to the parent folder e.g. data/neurons/dspn.\n",
    "\n",
    "The next step is ```add_neuron_target``` which specifies how neurons are coupled together. The connection is from ```neuron_name``` to ```target_name``` of type ```connection_type``` (here GABA). \n",
    "\n",
    "The ```dist_pruning``` is optional, and allows us to form preferentially proximal or distal synapses. In this example ```\"1-np.exp(-(0.4*d/60e-6)**2)\"``` will result in distal synapses (```d``` is the dendritic distance from the soma). We also specify the pruning parameters ```f1``` (probability of keeping a synapse), ```soft_max``` (a soft upper limit on the number of synapses between connected pairs), ```mu2``` (a soft lower limit on the number of synapses between connected pairs) and ```a3``` (fraction of all connected pairs that we keep, this is useful for changing connection probability without affecting the number of synapses between connected pairs).\n",
    "\n",
    "The ```conductance``` has two values, the mean and standard deviation. The ```parameter_file``` specifies parameters for the synapse which is moddeled by ```mod_file```. You can also specify additional synapse parameters using the ```channel_param_dictionary```.\n",
    "\n",
    "Finally we need to write the config file."
   ]
  },
  {
   "cell_type": "code",
   "execution_count": 3,
   "id": "higher-christianity",
   "metadata": {},
   "outputs": [
    {
     "name": "stdout",
     "output_type": "stream",
     "text": [
      "CreateConfig\n",
      "Seeding with rand_seed=None\n",
      "Random seed init to 705529495\n",
      "Random seed place to 2076991590\n",
      "Random seed detect to 4028247902\n",
      "Random seed prune to 3722169984\n",
      "Random seed input to 1206100233\n",
      "Random seed simulate to 3259544370\n",
      "No structDef defined, not writing JSON file in init\n",
      "Adding neurons: dSPN from dir $DATA/neurons/striatum/dspn\n",
      "Adding neurons: iSPN from dir $DATA/neurons/striatum/ispn\n",
      "Writing networks/slice_example/network-config.json\n"
     ]
    }
   ],
   "source": [
    "from snudda.init import SnuddaInit\n",
    "\n",
    "cnc = SnuddaInit(network_path=network_path)\n",
    "\n",
    "# d_min normally 15e-6, here set to 12e-6 because slice is only 25 micrometers, 2*d_min < mesh_bin_width\n",
    "cnc.define_structure(struct_name=\"SliceExample\", struct_mesh=mesh_file, d_min=12e-6, mesh_bin_width=25e-6)\n",
    "cnc.add_neurons(name=\"dSPN\", num_neurons=1000, volume_id=\"SliceExample\",\n",
    "                neuron_dir=os.path.join(\"$DATA\",\"neurons\",\"striatum\",\"dspn\"))\n",
    "cnc.add_neurons(name=\"iSPN\", num_neurons=1000, volume_id=\"SliceExample\",\n",
    "                neuron_dir=os.path.join(\"$DATA\",\"neurons\",\"striatum\",\"ispn\"))\n",
    "\n",
    "SPN2SPNdistDepPruning = \"1-np.exp(-(0.4*d/60e-6)**2)\"\n",
    "\n",
    "MSD1gGABA = [0.24e-9, 0.1e-9]\n",
    "MSD2gGABA = [0.24e-9, 0.1e-9]\n",
    "\n",
    "MSD1GABAfailRate = 0.7  # Taverna 2008, figure 2\n",
    "MSD2GABAfailRate = 0.4  # Taverna 2008, 2mM\n",
    "\n",
    "pfdSPNdSPN = os.path.join(\"$DATA\", \"synapses\", \"striatum\", \"PlanertFitting-DD-tmgaba-fit.json\")\n",
    "pfdSPNiSPN = os.path.join(\"$DATA\", \"synapses\", \"striatum\", \"PlanertFitting-DI-tmgaba-fit.json\")\n",
    "pfiSPNdSPN = os.path.join(\"$DATA\", \"synapses\", \"striatum\", \"PlanertFitting-ID-tmgaba-fit.json\")\n",
    "pfiSPNiSPN = os.path.join(\"$DATA\", \"synapses\", \"striatum\", \"PlanertFitting-II-tmgaba-fit.json\")\n",
    "\n",
    "cnc.add_neuron_target(neuron_name=\"dSPN\",\n",
    "                       target_name=\"dSPN\",\n",
    "                       connection_type=\"GABA\",\n",
    "                       dist_pruning=SPN2SPNdistDepPruning,\n",
    "                       f1=0.38, soft_max=3, mu2=2.4,\n",
    "                       a3=1.0,\n",
    "                       conductance=MSD1gGABA,\n",
    "                       parameter_file=pfdSPNdSPN,\n",
    "                       mod_file=\"tmGabaA\",\n",
    "                       channel_param_dictionary={\"tau1\": (1.3e-3, 1e3),\n",
    "                                                 \"tau2\": (12.4e-3, 1e3),\n",
    "                                                 \"failRate\": MSD1GABAfailRate})\n",
    "\n",
    "\n",
    "cnc.add_neuron_target(neuron_name=\"dSPN\",\n",
    "                       target_name=\"iSPN\",\n",
    "                       connection_type=\"GABA\",\n",
    "                       dist_pruning=SPN2SPNdistDepPruning,\n",
    "                       f1=0.20, soft_max=3, mu2=2.4,\n",
    "                       a3=1.0,\n",
    "                       conductance=MSD1gGABA,\n",
    "                       parameter_file=pfdSPNiSPN,\n",
    "                       mod_file=\"tmGabaA\",\n",
    "                       channel_param_dictionary={\"tau1\": (1.3e-3, 1e3),\n",
    "                                                 \"tau2\": (12.4e-3, 1e3),\n",
    "                                                 \"failRate\": MSD1GABAfailRate})\n",
    "\n",
    "\n",
    "cnc.add_neuron_target(neuron_name=\"iSPN\",\n",
    "                       target_name=\"dSPN\",\n",
    "                       connection_type=\"GABA\",\n",
    "                       dist_pruning=SPN2SPNdistDepPruning,\n",
    "                       f1=0.3, soft_max=4, mu2=2.4,\n",
    "                       a3=1.0,\n",
    "                       conductance=MSD2gGABA,\n",
    "                       parameter_file=pfiSPNdSPN,\n",
    "                       mod_file=\"tmGabaA\",\n",
    "                       channel_param_dictionary={\"tau1\": (1.3e-3, 1e3),\n",
    "                                                 \"tau2\": (12.4e-3, 1e3),\n",
    "                                                 \"failRate\": MSD2GABAfailRate})\n",
    "\n",
    "cnc.add_neuron_target(neuron_name=\"iSPN\",\n",
    "                       target_name=\"iSPN\",\n",
    "                       connection_type=\"GABA\",\n",
    "                       dist_pruning=SPN2SPNdistDepPruning,\n",
    "                       f1=0.55, soft_max=4, mu2=2.4,\n",
    "                       a3=1.0,\n",
    "                       conductance=MSD2gGABA,\n",
    "                       parameter_file=pfiSPNiSPN,\n",
    "                       mod_file=\"tmGabaA\",\n",
    "                       channel_param_dictionary={\"tau1\": (1.3e-3, 1e3),\n",
    "                                                 \"tau2\": (12.4e-3, 1e3),\n",
    "                                                 \"failRate\": MSD2GABAfailRate})\n",
    "\n",
    "cnc.write_json()"
   ]
  },
  {
   "cell_type": "code",
   "execution_count": 4,
   "id": "strategic-reconstruction",
   "metadata": {},
   "outputs": [
    {
     "name": "stdout",
     "output_type": "stream",
     "text": [
      "Using hdf5 version: latest\n",
      "Parsing configuration file networks/slice_example/network-config.json\n",
      "Reading random see from config file: 2076991590\n",
      "Using mesh_bin_width 2.5e-05\n",
      "Found old cache file (networks/slice_example/mesh/slice.obj-25-cache.pickle), ignoring.\n",
      "Running in serial\n",
      "Voxel mask: 44x44x5\n",
      "Processing x = 0\n",
      "Processing x = 1\n",
      "Processing x = 2\n",
      "Processing x = 3\n",
      "Processing x = 4\n",
      "Processing x = 5\n",
      "Processing x = 6\n",
      "Processing x = 7\n",
      "Processing x = 8\n",
      "Processing x = 9\n",
      "Processing x = 10\n",
      "Processing x = 11\n",
      "Processing x = 12\n",
      "Processing x = 13\n",
      "Processing x = 14\n",
      "Processing x = 15\n",
      "Processing x = 16\n",
      "Processing x = 17\n",
      "Processing x = 18\n",
      "Processing x = 19\n",
      "Processing x = 20\n",
      "Processing x = 21\n",
      "Processing x = 22\n",
      "Processing x = 23\n",
      "Processing x = 24\n",
      "Processing x = 25\n",
      "Processing x = 26\n",
      "Processing x = 27\n",
      "Processing x = 28\n",
      "Processing x = 29\n",
      "Processing x = 30\n",
      "Processing x = 31\n",
      "Processing x = 32\n",
      "Processing x = 33\n",
      "Processing x = 34\n",
      "Processing x = 35\n",
      "Processing x = 36\n",
      "Processing x = 37\n",
      "Processing x = 38\n",
      "Processing x = 39\n",
      "Processing x = 40\n",
      "Processing x = 41\n",
      "Processing x = 42\n",
      "Processing x = 43\n",
      "Fraction of border voxels: 0.0\n",
      "Saving mesh cache file networks/slice_example/mesh/slice.obj-25-cache.pickle\n",
      "Calculation time: 0.6617114439141005 s\n",
      "Setup voxel list\n",
      "Setup place neurons\n",
      "Update padding mask\n",
      "Regenerating new random pool\n",
      "Setup done\n",
      "Inner voxel bin volume: 0.0 mm³\n",
      "Using dimensions from config file\n",
      "Adding: 250 dSPN_0\n",
      "Found cache file: /home/hjorth/HBP/Snudda/snudda/data/neurons/striatum/dspn/str-dspn-e150917_c6_D1-m21-6-DE-v20190503/21-6-DE-cor-rep-ax-cache.pickle\n",
      "Placed 250 in 0.15139634197112173 s\n",
      "Adding: 250 dSPN_1\n",
      "Found cache file: /home/hjorth/HBP/Snudda/snudda/data/neurons/striatum/dspn/str-dspn-e150917_c10_D1-mWT-P270-20-v20190521/WT-P270-20-15ak-cor-cache.pickle\n",
      "Placed 250 in 0.11489365203306079 s\n",
      "Adding: 250 dSPN_2\n",
      "Found cache file: /home/hjorth/HBP/Snudda/snudda/data/neurons/striatum/dspn/str-dspn-e150917_c9_d1-mWT-1215MSN03-v20190521/WT-1215MSN03-cor-rep-ax2-cache.pickle\n",
      "Placed 250 in 0.11687859299127012 s\n",
      "Adding: 250 dSPN_3\n",
      "Found cache file: /home/hjorth/HBP/Snudda/snudda/data/neurons/striatum/dspn/str-dspn-e150602_c1_D1-mWT-0728MSN01-v20190508/WT-0728MSN01-cor-rep-ax-cache.pickle\n",
      "Placed 250 in 0.12560274102725089 s\n",
      "Adding: 250 iSPN_0\n",
      "Found cache file: /home/hjorth/HBP/Snudda/snudda/data/neurons/striatum/ispn/str-ispn-e150908_c4_D2-m51-5-DE-v20190611/51-5-DE-cor-rep-ax-cache.pickle\n",
      "Placed 250 in 0.13201374094933271 s\n",
      "Adding: 250 iSPN_1\n",
      "Found cache file: /home/hjorth/HBP/Snudda/snudda/data/neurons/striatum/ispn/str-ispn-e151123_c1_D2-mWT-P270-09-v20190527/WT-P270-09-15ak-cor-cache.pickle\n",
      "Placed 250 in 0.1279038169886917 s\n",
      "Adding: 250 iSPN_2\n",
      "Found cache file: /home/hjorth/HBP/Snudda/snudda/data/neurons/striatum/ispn/str-ispn-e160118_c10_D2-m46-3-DE-v20190529/46-3-DE-cor-rep-ax-cache.pickle\n",
      "Placed 250 in 0.17503376095555723 s\n",
      "Adding: 250 iSPN_3\n",
      "Found cache file: /home/hjorth/HBP/Snudda/snudda/data/neurons/striatum/ispn/str-ispn-e150917_c11_D2-mWT-MSN1-v20190603/WT-MSN1-cor-rep-ax-cache.pickle\n",
      "Placed 250 in 0.1650429330766201 s\n",
      "Re-sorting the neuron IDs after location\n",
      "Writing data to HDF5 file: networks/slice_example/network-neuron-positions.hdf5\n"
     ]
    }
   ],
   "source": [
    "from snudda.place import SnuddaPlace\n",
    "sp = SnuddaPlace(network_path=network_path)\n",
    "sp.read_config()\n",
    "sp.write_data()"
   ]
  },
  {
   "cell_type": "markdown",
   "id": "unsigned-thinking",
   "metadata": {},
   "source": [
    "This plots the network, here we leave out axons and dendrites in the figure. Note that matplotlib will distort the axis in 3D plots, causing somas to not appear as spheres."
   ]
  },
  {
   "cell_type": "code",
   "execution_count": 5,
   "id": "useful-respect",
   "metadata": {},
   "outputs": [
    {
     "name": "stdout",
     "output_type": "stream",
     "text": [
      "Loading networks/slice_example/network-neuron-positions.hdf5\n",
      "No SlurmID set, using -1\n",
      "Load done. 0.017506652045994997\n",
      "Found cache file: /home/hjorth/HBP/Snudda/snudda/data/neurons/striatum/dspn/str-dspn-e150917_c9_d1-mWT-1215MSN03-v20190521/WT-1215MSN03-cor-rep-ax2-cache.pickle\n",
      "Found cache file: /home/hjorth/HBP/Snudda/snudda/data/neurons/striatum/dspn/str-dspn-e150917_c6_D1-m21-6-DE-v20190503/21-6-DE-cor-rep-ax-cache.pickle\n",
      "Found cache file: /home/hjorth/HBP/Snudda/snudda/data/neurons/striatum/ispn/str-ispn-e150917_c11_D2-mWT-MSN1-v20190603/WT-MSN1-cor-rep-ax-cache.pickle\n",
      "Found cache file: /home/hjorth/HBP/Snudda/snudda/data/neurons/striatum/ispn/str-ispn-e160118_c10_D2-m46-3-DE-v20190529/46-3-DE-cor-rep-ax-cache.pickle\n",
      "Found cache file: /home/hjorth/HBP/Snudda/snudda/data/neurons/striatum/ispn/str-ispn-e150908_c4_D2-m51-5-DE-v20190611/51-5-DE-cor-rep-ax-cache.pickle\n",
      "Found cache file: /home/hjorth/HBP/Snudda/snudda/data/neurons/striatum/dspn/str-dspn-e150602_c1_D1-mWT-0728MSN01-v20190508/WT-0728MSN01-cor-rep-ax-cache.pickle\n",
      "Found cache file: /home/hjorth/HBP/Snudda/snudda/data/neurons/striatum/dspn/str-dspn-e150917_c10_D1-mWT-P270-20-v20190521/WT-P270-20-15ak-cor-cache.pickle\n",
      "Found cache file: /home/hjorth/HBP/Snudda/snudda/data/neurons/striatum/ispn/str-ispn-e151123_c1_D2-mWT-P270-09-v20190527/WT-P270-09-15ak-cor-cache.pickle\n"
     ]
    },
    {
     "data": {
      "image/png": "[encoded data removed]",
      "text/plain": [
       "<Figure size 432x468 with 1 Axes>"
      ]
     },
     "metadata": {
      "needs_background": "light"
     },
     "output_type": "display_data"
    }
   ],
   "source": [
    "from snudda.plotting.plot_network import PlotNetwork\n",
    "network_file = os.path.join(network_path, \"network-neuron-positions.hdf5\")\n",
    "pn = PlotNetwork(network_file)\n",
    "pn.plot(plot_axon=False, plot_dendrite=False, plot_synapses=False)\n",
    "pn.close() "
   ]
  },
  {
   "cell_type": "markdown",
   "id": "optical-hunger",
   "metadata": {},
   "source": [
    "The below step is slow in serial. If you want to run the touch detection in parallel, look at the ```simple_network_parallel.ipynb``` example.\n",
    "\n",
    "For completion, let us do detection and pruning also. Note that we have chosen to specify ```hyper_voxel_size``` in this example, default value is 100. Larger values will take more memory but should be a bit faster, especially if running in serial mode. If your computer runs out of memory, reduce the ```hyper_voxel_size```."
   ]
  },
  {
   "cell_type": "code",
   "execution_count": null,
   "id": "southeast-majority",
   "metadata": {},
   "outputs": [],
   "source": [
    "from snudda.detect import SnuddaDetect\n",
    "\n",
    "sd = SnuddaDetect(network_path=network_path, hyper_voxel_size=250)\n",
    "sd.detect()"
   ]
  },
  {
   "cell_type": "code",
   "execution_count": null,
   "id": "sought-width",
   "metadata": {},
   "outputs": [],
   "source": [
    "from snudda.prune import SnuddaPrune\n",
    "\n",
    "sp = SnuddaPrune(network_path=network_path)\n",
    "sp.prune()"
   ]
  },
  {
   "cell_type": "markdown",
   "id": "turkish-correction",
   "metadata": {},
   "source": [
    "For simplicity this notebook is written using serial execution, please see ```simple_network_parallel.ipynb``` for instructions how to make detection and pruning in parallel."
   ]
  },
  {
   "cell_type": "code",
   "execution_count": null,
   "id": "mobile-attention",
   "metadata": {},
   "outputs": [],
   "source": []
  }
 ],
 "metadata": {
  "kernelspec": {
   "display_name": "Python 3",
   "language": "python",
   "name": "python3"
  },
  "language_info": {
   "codemirror_mode": {
    "name": "ipython",
    "version": 3
   },
   "file_extension": ".py",
   "mimetype": "text/x-python",
   "name": "python",
   "nbconvert_exporter": "python",
   "pygments_lexer": "ipython3",
   "version": "3.7.3"
  }
 },
 "nbformat": 4,
 "nbformat_minor": 5
}
