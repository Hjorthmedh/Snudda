{
 "cells": [
  {
   "cell_type": "markdown",
   "id": "compatible-external",
   "metadata": {},
   "source": [
    "This code places neurons in striatum, then plots the neuron positions for various slices."
   ]
  },
  {
   "cell_type": "code",
   "execution_count": null,
   "id": "optional-yemen",
   "metadata": {
    "scrolled": true
   },
   "outputs": [],
   "source": [
    "import os\n",
    "from snudda import SnuddaInit\n",
    "\n",
    "network_path = os.path.join(\"networks\", \"neuron_density\")"
   ]
  },
  {
   "cell_type": "code",
   "execution_count": null,
   "id": "empirical-africa",
   "metadata": {},
   "outputs": [],
   "source": [
    "si = SnuddaInit(network_path=network_path, random_seed=123456)\n",
    "\n",
    "# Set smaller d_min for faster network generation\n",
    "si.define_striatum(num_neurons=1.6e6, d_min=10e-6, volume_type=\"mouseStriatum\", mesh_bin_width=2e-4)\n",
    "si.write_json()"
   ]
  },
  {
   "cell_type": "markdown",
   "id": "weird-metro",
   "metadata": {},
   "source": [
    "Placing the neurons for the full striatum takes a bit of time."
   ]
  },
  {
   "cell_type": "code",
   "execution_count": null,
   "id": "finished-tulsa",
   "metadata": {},
   "outputs": [],
   "source": [
    "from snudda import SnuddaPlace\n",
    "sp = SnuddaPlace(network_path=network_path, verbose=False)\n",
    "sp.parse_config()\n",
    "sp.write_data()"
   ]
  },
  {
   "cell_type": "code",
   "execution_count": null,
   "id": "prime-strap",
   "metadata": {},
   "outputs": [],
   "source": [
    "# %matplotlib\n",
    "from snudda.plotting.plot_density_slice import PlotDensitySlice\n",
    "\n",
    "network_file = os.path.join(network_path, \"network-neuron-positions.hdf5\")\n",
    "\n",
    "pds = PlotDensitySlice(network_file=network_file)"
   ]
  },
  {
   "cell_type": "code",
   "execution_count": null,
   "id": "smaller-apparel",
   "metadata": {},
   "outputs": [],
   "source": [
    "pds.plot_slice(\"FSN\", projection=\"yz\")\n",
    "pds.plot_slice(\"FSN\", projection=\"xy\")\n",
    "pds.plot_slice(\"FSN\", projection=\"xz\")"
   ]
  },
  {
   "cell_type": "code",
   "execution_count": null,
   "id": "cooperative-neighbor",
   "metadata": {},
   "outputs": [],
   "source": [
    "pds.plot_slice(\"FSN\", x_min=6052e-6, x_max=(6052e-6 + 100e-6), projection=\"yz\")"
   ]
  },
  {
   "cell_type": "code",
   "execution_count": null,
   "id": "physical-machine",
   "metadata": {},
   "outputs": [],
   "source": [
    "ax.view_init"
   ]
  },
  {
   "cell_type": "code",
   "execution_count": null,
   "id": "strong-beach",
   "metadata": {},
   "outputs": [],
   "source": []
  },
  {
   "cell_type": "code",
   "execution_count": null,
   "id": "coupled-berry",
   "metadata": {},
   "outputs": [],
   "source": []
  }
 ],
 "metadata": {
  "kernelspec": {
   "display_name": "Python 3 (ipykernel)",
   "language": "python",
   "name": "python3"
  },
  "language_info": {
   "codemirror_mode": {
    "name": "ipython",
    "version": 3
   },
   "file_extension": ".py",
   "mimetype": "text/x-python",
   "name": "python",
   "nbconvert_exporter": "python",
   "pygments_lexer": "ipython3",
   "version": "3.9.2"
  }
 },
 "nbformat": 4,
 "nbformat_minor": 5
}
