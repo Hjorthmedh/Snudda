{
 "cells": [
  {
   "cell_type": "markdown",
   "id": "f6775ac3-3e0b-4da5-b8d8-812268bc75a9",
   "metadata": {},
   "source": [
    "### Dopamine decay time constant estimation\n",
    "\n",
    "Cragg SJ, Hille CJ, Greenfield SA. Dopamine release and uptake dynamics within nonhuman primate striatum in vitro. J Neurosci. 2000;20(21):8209-8217. doi:10.1523/JNEUROSCI.20-21-08209.2000\n",
    "\n",
    "Data from marmoset.\n",
    "\n",
    "Link: https://www.jneurosci.org/content/20/21/8209\n",
    "\n"
   ]
  },
  {
   "cell_type": "markdown",
   "id": "1088162f-0a1f-488a-b3a2-acf7936fdf66",
   "metadata": {},
   "source": [
    "![alt text](cragg2000-fig3A.jpg \"Cragg2000-fig3A\")"
   ]
  },
  {
   "cell_type": "code",
   "execution_count": 1,
   "id": "fd090813-c857-4375-b805-9e0993853fb0",
   "metadata": {},
   "outputs": [],
   "source": [
    "import numpy as np\n",
    "\n",
    "import plotly.graph_objects as go\n",
    "import plotly.io as pio\n",
    "\n",
    "pio.renderers.default = 'iframe'\n",
    "pio.templates.default = 'simple_white'"
   ]
  },
  {
   "cell_type": "code",
   "execution_count": 2,
   "id": "6011c253-d60c-450d-b4e6-e4f220e59efa",
   "metadata": {},
   "outputs": [],
   "source": [
    "def cubic_interpolate(time, values, dt=1e-3):\n",
    "    from scipy.interpolate import CubicSpline \n",
    "\n",
    "    t, v = time, values # shorthand\n",
    "    cs = CubicSpline(x=t, y=v)\n",
    "    \n",
    "    t = np.arange(start=np.min(t), stop=np.max(t), step=dt)\n",
    "    \n",
    "    return t, cs\n",
    "\n",
    "def mask_crossing(arr, threshold):\n",
    "    mask = np.array(arr > threshold, dtype=np.int8)\n",
    "    mask[1:] = np.diff(mask)\n",
    "    mask[0] = 0\n",
    "\n",
    "    return mask"
   ]
  },
  {
   "cell_type": "code",
   "execution_count": 3,
   "id": "6bf1ad61-3ba2-4d1f-8f90-46d84a89ae57",
   "metadata": {},
   "outputs": [],
   "source": [
    "# digitized data, using fig 3A from Cragg et al. 2000\n",
    "original_time=np.array([1.2660550458715598, 1.4999999999999998, 1.7339449541284402, 2.0091743119266052, 2.229357798165138, 2.5045871559633026, 2.738532110091744, 3, 3.2477064220183482, 3.4954128440366983, 0.23394495412844019, 0.5091743119266054, 0.7293577981651376, 0.9908256880733946])\n",
    "original_concentration=np.array([1.8634538152610438, 1.6626506024096384, 1.0200803212851401, 0.618473895582329, 0.4497991967871484, 0.3373493975903612, 0.25702811244979884, 0.20080321285140545, 0.17670682730923692, 0.1686746987951806, -0.008032128514056325, -0.008032128514056325, 0.008032128514056325, 0.2730923694779117])\n",
    "\n",
    "# unsorted when digitzed\n",
    "idxs = np.argsort(original_time)\n",
    "original_time=original_time[idxs]\n",
    "original_concentration=original_concentration[idxs]\n",
    "\n",
    "# use spline interpolation\n",
    "time, cs = cubic_interpolate(time=original_time, values=original_concentration, dt=1e-3)\n",
    "concentration = cs(time,0)\n",
    "\n",
    "# get y-axis crossing of 1/exp(t/tau) where t=tau\n",
    "mask=mask_crossing(concentration, np.exp(-1))\n",
    "cross_idx = np.min(np.where(mask==-1)[0])\n",
    "peak_idx = np.argmax(concentration)\n",
    "tau=time[cross_idx] - time[peak_idx]\n",
    "\n",
    "\n"
   ]
  },
  {
   "cell_type": "code",
   "execution_count": 4,
   "id": "2b977194-b506-4a01-bd9e-dc756259ad6e",
   "metadata": {},
   "outputs": [
    {
     "data": {
      "text/html": [
       "<iframe\n",
       "    scrolling=\"no\"\n",
       "    width=\"100%\"\n",
       "    height=\"545px\"\n",
       "    src=\"iframe_figures/figure_4.html\"\n",
       "    frameborder=\"0\"\n",
       "    allowfullscreen\n",
       "></iframe>\n"
      ]
     },
     "metadata": {},
     "output_type": "display_data"
    }
   ],
   "source": [
    "\n",
    "# plot\n",
    "fig=go.Figure()\n",
    "fig.add_trace(go.Scatter(x=original_time, y=original_concentration, mode='markers', name=\"raw data (Cragg 2000 fig3A)\", marker=dict(size=15, color='red')))\n",
    "fig.add_trace(go.Scatter(x=time, y=concentration, mode='lines', name=\"interpolated\", line=dict(color='black')))\n",
    "fig.add_trace(go.Scatter(x=time[[peak_idx, cross_idx]], y=concentration[[peak_idx, cross_idx]], marker=dict(size=15, color='black'), mode='markers', name='idxs'))\n",
    "fig.update_layout(title=f\"tau = {tau:.3f} (s)\", xaxis_title='time (s)', yaxis_title='concentration (uM)')\n",
    "\n"
   ]
  },
  {
   "cell_type": "code",
   "execution_count": null,
   "id": "eccb454e-700f-453d-baf5-71bb62531312",
   "metadata": {},
   "outputs": [],
   "source": []
  }
 ],
 "metadata": {
  "kernelspec": {
   "display_name": "nrn",
   "language": "python",
   "name": "nrn"
  },
  "language_info": {
   "codemirror_mode": {
    "name": "ipython",
    "version": 3
   },
   "file_extension": ".py",
   "mimetype": "text/x-python",
   "name": "python",
   "nbconvert_exporter": "python",
   "pygments_lexer": "ipython3",
   "version": "3.11.3"
  }
 },
 "nbformat": 4,
 "nbformat_minor": 5
}
