{
 "cells": [
  {
   "cell_type": "code",
   "execution_count": 1,
   "id": "b9d1ca96-2e8e-43fb-9834-755b3e766a02",
   "metadata": {},
   "outputs": [],
   "source": [
    "%load_ext autoreload \n",
    "%autoreload 2"
   ]
  },
  {
   "cell_type": "code",
   "execution_count": 87,
   "id": "6044676f-9fa5-4674-9581-9ed27c939cd5",
   "metadata": {},
   "outputs": [],
   "source": [
    "import numpy as np\n",
    "import pandas as pd\n",
    "import plotly.graph_objects as go\n",
    "import plotly.express as px\n",
    "import plotly.io as pio\n",
    "pio.renderers.default = 'iframe'\n",
    "pio.templates.default = 'seaborn'"
   ]
  },
  {
   "cell_type": "code",
   "execution_count": 88,
   "id": "47641278-fa81-4867-8343-318f9b48d1e5",
   "metadata": {},
   "outputs": [],
   "source": [
    "def postprocess(filename):\n",
    "    raw_data = np.genfromtxt(filename, delimiter=',')\n",
    "    pre = raw_data[::2]\n",
    "    post = raw_data[1::2]\n",
    "    \n",
    "    assert post.shape == pre.shape, \"length mismatch\"\n",
    "\n",
    "    slopes = (post[:,1] - pre[:,1]) / (post[:,0] - pre[:,0])\n",
    "    pre_y = post[:,1]-slopes\n",
    "    pre_x = np.zeros(pre_y.shape)\n",
    "\n",
    "    post_x = post[:,0]\n",
    "    post_y = post[:,1]\n",
    "\n",
    "    return pre_x, pre_y, post_x, post_y"
   ]
  },
  {
   "cell_type": "code",
   "execution_count": 89,
   "id": "efe6417a-7b86-4084-9bf6-a16f852f230d",
   "metadata": {},
   "outputs": [],
   "source": [
    "table_data = {'post' : [], 'pre' : [], 'holding': [], 'receptor': [], 'filename': []}\n",
    "\n",
    "for filename, holding, receptor in [('planert2013/d1-60mV.csv', -60, 'D1'),\n",
    "                                    ('planert2013/d1-80mV.csv', -80, 'D1'),\n",
    "                                    ('planert2013/d2-60mV.csv', -60, 'D2'),\n",
    "                                    ('planert2013/d2-80mV.csv', -80, 'D2')]:\n",
    "    pre_x, pre_y, post_x, post_y = postprocess(filename)\n",
    "    table_data['post'] += list(post_y)\n",
    "    table_data['pre']  += list(pre_y)\n",
    "    table_data['holding']  += [holding] * len(pre_y)\n",
    "    table_data['receptor']  += [receptor] * len(pre_y)\n",
    "    table_data['filename']  += [filename] * len(pre_y)\n",
    "\n",
    "df = pd.DataFrame(table_data)\n"
   ]
  },
  {
   "cell_type": "code",
   "execution_count": 90,
   "id": "423e8ec9-9cb3-4b01-81b4-26d52bddc475",
   "metadata": {},
   "outputs": [
    {
     "data": {
      "text/html": [
       "<iframe\n",
       "    scrolling=\"no\"\n",
       "    width=\"100%\"\n",
       "    height=\"545px\"\n",
       "    src=\"iframe_figures/figure_90.html\"\n",
       "    frameborder=\"0\"\n",
       "    allowfullscreen\n",
       "></iframe>\n"
      ]
     },
     "metadata": {},
     "output_type": "display_data"
    }
   ],
   "source": [
    "px.scatter(df, x='pre', y='post', color='receptor', symbol='holding')"
   ]
  },
  {
   "cell_type": "code",
   "execution_count": 106,
   "id": "6d16d5a3-4ec8-4da1-89d5-a6ddb148e9a3",
   "metadata": {},
   "outputs": [],
   "source": [
    "def plot(df, receptor, holding):\n",
    "    _df = df.loc[(df['receptor'] == receptor) & (df['holding'] == holding)]\n",
    "    \n",
    "    fig = go.Figure()\n",
    "\n",
    "    for _, row in _df.iterrows():\n",
    "        fig.add_trace(go.Scatter(x=['pre','post'], y=[row['pre'], row['post']]))\n",
    "\n",
    "    fn = _df['filename'].unique()\n",
    "    fig.update_layout(title=f'Files: {fn}', height=500, width=500)\n",
    "    \n",
    "    return fig\n",
    "    \n",
    "\n",
    "\n"
   ]
  },
  {
   "cell_type": "code",
   "execution_count": 107,
   "id": "cfabc090-19f5-4473-b8fa-c41f71839526",
   "metadata": {},
   "outputs": [
    {
     "data": {
      "text/html": [
       "<iframe\n",
       "    scrolling=\"no\"\n",
       "    width=\"520px\"\n",
       "    height=\"520\"\n",
       "    src=\"iframe_figures/figure_107.html\"\n",
       "    frameborder=\"0\"\n",
       "    allowfullscreen\n",
       "></iframe>\n"
      ]
     },
     "metadata": {},
     "output_type": "display_data"
    }
   ],
   "source": [
    "plot(df, 'D1', -60)"
   ]
  },
  {
   "cell_type": "code",
   "execution_count": 108,
   "id": "2411b58f-c843-490b-b21a-7204dfbfdd3a",
   "metadata": {},
   "outputs": [
    {
     "data": {
      "text/html": [
       "<iframe\n",
       "    scrolling=\"no\"\n",
       "    width=\"520px\"\n",
       "    height=\"520\"\n",
       "    src=\"iframe_figures/figure_108.html\"\n",
       "    frameborder=\"0\"\n",
       "    allowfullscreen\n",
       "></iframe>\n"
      ]
     },
     "metadata": {},
     "output_type": "display_data"
    }
   ],
   "source": [
    "plot(df, 'D2', -60)"
   ]
  },
  {
   "cell_type": "code",
   "execution_count": 109,
   "id": "9afa8f71-009f-46fd-83ca-850c6c8fd653",
   "metadata": {},
   "outputs": [
    {
     "data": {
      "text/html": [
       "<iframe\n",
       "    scrolling=\"no\"\n",
       "    width=\"520px\"\n",
       "    height=\"520\"\n",
       "    src=\"iframe_figures/figure_109.html\"\n",
       "    frameborder=\"0\"\n",
       "    allowfullscreen\n",
       "></iframe>\n"
      ]
     },
     "metadata": {},
     "output_type": "display_data"
    }
   ],
   "source": [
    "plot(df, 'D2', -60)"
   ]
  },
  {
   "cell_type": "code",
   "execution_count": 110,
   "id": "61ce7b86-8704-4f9c-b330-14af76f3a6f4",
   "metadata": {},
   "outputs": [
    {
     "data": {
      "text/html": [
       "<iframe\n",
       "    scrolling=\"no\"\n",
       "    width=\"520px\"\n",
       "    height=\"520\"\n",
       "    src=\"iframe_figures/figure_110.html\"\n",
       "    frameborder=\"0\"\n",
       "    allowfullscreen\n",
       "></iframe>\n"
      ]
     },
     "metadata": {},
     "output_type": "display_data"
    }
   ],
   "source": [
    "plot(df, 'D2', -80)"
   ]
  }
 ],
 "metadata": {
  "kernelspec": {
   "display_name": "nrn",
   "language": "python",
   "name": "nrn"
  },
  "language_info": {
   "codemirror_mode": {
    "name": "ipython",
    "version": 3
   },
   "file_extension": ".py",
   "mimetype": "text/x-python",
   "name": "python",
   "nbconvert_exporter": "python",
   "pygments_lexer": "ipython3",
   "version": "3.11.3"
  }
 },
 "nbformat": 4,
 "nbformat_minor": 5
}
