{
 "cells": [
  {
   "cell_type": "code",
   "execution_count": 1,
   "id": "b9d1ca96-2e8e-43fb-9834-755b3e766a02",
   "metadata": {},
   "outputs": [],
   "source": [
    "%load_ext autoreload \n",
    "%autoreload 2"
   ]
  },
  {
   "cell_type": "code",
   "execution_count": 29,
   "id": "6044676f-9fa5-4674-9581-9ed27c939cd5",
   "metadata": {},
   "outputs": [],
   "source": [
    "import numpy as np\n",
    "import plotly.graph_objects as go\n",
    "import plotly.io as pio\n",
    "pio.renderers.default = 'iframe'"
   ]
  },
  {
   "cell_type": "code",
   "execution_count": 5,
   "id": "9f8dc3bd-8210-467f-8544-c654f2bbfa69",
   "metadata": {},
   "outputs": [],
   "source": [
    "d1_60mv = np.genfromtxt('planert2013/d1-60mV.csv', delimiter=',')"
   ]
  },
  {
   "cell_type": "code",
   "execution_count": 13,
   "id": "e3a34479-aa85-433c-a6f7-a5cf77de6681",
   "metadata": {},
   "outputs": [
    {
     "data": {
      "text/plain": [
       "array([[ 0.        ,  0.92511013],\n",
       "       [ 1.        ,  4.9339207 ],\n",
       "       [-0.01375661,  1.94260891],\n",
       "       [ 1.00310847,  4.89986132],\n",
       "       [-0.01375661,  2.93685756],\n",
       "       [ 0.99484127, -0.02039484],\n",
       "       [ 0.23425926,  2.88587045],\n",
       "       [ 0.99484127,  0.08157938],\n",
       "       [ 0.3582672 ,  3.54870289],\n",
       "       [ 1.00310847,  0.9228667 ],\n",
       "       [ 0.35      ,  4.38999021],\n",
       "       [ 1.01137566,  4.87436776],\n",
       "       [ 0.3582672 ,  4.69591287],\n",
       "       [ 0.99484127,  5.94509708],\n",
       "       [ 0.35      ,  4.77239354],\n",
       "       [ 1.00310847,  7.88260728],\n",
       "       [ 0.30866402,  5.00183554],\n",
       "       [ 0.99484127,  6.88835862],\n",
       "       [ 0.22599206,  5.05282265],\n",
       "       [ 1.01137566,  8.01007505],\n",
       "       [ 0.01931217,  5.10380976],\n",
       "       [ 0.96177249,  5.97059063],\n",
       "       [-0.03029101,  5.10380976],\n",
       "       [ 1.00310847,  8.90234949],\n",
       "       [-0.01375661,  5.99608419],\n",
       "       [ 1.01137566,  6.99033284],\n",
       "       [ 0.3582672 ,  4.03308044],\n",
       "       [ 0.99484127,  4.00758688]])"
      ]
     },
     "execution_count": 13,
     "metadata": {},
     "output_type": "execute_result"
    }
   ],
   "source": [
    "d1_60mv"
   ]
  },
  {
   "cell_type": "code",
   "execution_count": 16,
   "id": "65f88178-fc51-4cb4-8279-dcc6830a4bae",
   "metadata": {},
   "outputs": [],
   "source": [
    "pre = d1_60mv[::2]\n",
    "post = d1_60mv[1::2]\n",
    "assert post.shape == pre.shape, \"length mismatch\"\n",
    "\n",
    "\n"
   ]
  },
  {
   "cell_type": "code",
   "execution_count": 23,
   "id": "edaafa24-dcae-47c4-b859-30a047ec340d",
   "metadata": {},
   "outputs": [
    {
     "data": {
      "text/plain": [
       "array([1.        , 1.00310847, 0.99484127, 0.99484127, 1.00310847,\n",
       "       1.01137566, 0.99484127, 1.00310847, 0.99484127, 1.01137566,\n",
       "       0.96177249, 1.00310847, 1.01137566, 0.99484127])"
      ]
     },
     "execution_count": 23,
     "metadata": {},
     "output_type": "execute_result"
    }
   ],
   "source": [
    "d1_60mV_post[:,0]"
   ]
  },
  {
   "cell_type": "code",
   "execution_count": 34,
   "id": "de5f9a4c-b30f-44b4-85fb-b4ca5eca889c",
   "metadata": {},
   "outputs": [
    {
     "data": {
      "text/html": [
       "<iframe\n",
       "    scrolling=\"no\"\n",
       "    width=\"100%\"\n",
       "    height=\"545px\"\n",
       "    src=\"iframe_figures/figure_34.html\"\n",
       "    frameborder=\"0\"\n",
       "    allowfullscreen\n",
       "></iframe>\n"
      ]
     },
     "metadata": {},
     "output_type": "display_data"
    }
   ],
   "source": [
    "slopes = (post[:,1] - pre[:,1]) / (post[:,0] - pre[:,0])\n",
    "pre_y = post[:,1]-slopes\n",
    "pre_x = np.zeros(pre_y.shape)\n",
    "\n",
    "post_x = post[:,0]\n",
    "post_y = post[:,1]\n",
    "\n",
    "fig = go.Figure()\n",
    "for x0, x1, y0, y1 in zip(pre_x, post_x, pre_y, post_y):\n",
    "    fig.add_trace(go.Scatter(x=[x0,x1], y=[y0,y1]))\n",
    "\n",
    "fig.show()\n"
   ]
  },
  {
   "cell_type": "code",
   "execution_count": 33,
   "id": "2411b58f-c843-490b-b21a-7204dfbfdd3a",
   "metadata": {},
   "outputs": [
    {
     "data": {
      "text/plain": [
       "1.0"
      ]
     },
     "execution_count": 33,
     "metadata": {},
     "output_type": "execute_result"
    }
   ],
   "source": [
    "x0"
   ]
  }
 ],
 "metadata": {
  "kernelspec": {
   "display_name": "nrn",
   "language": "python",
   "name": "nrn"
  },
  "language_info": {
   "codemirror_mode": {
    "name": "ipython",
    "version": 3
   },
   "file_extension": ".py",
   "mimetype": "text/x-python",
   "name": "python",
   "nbconvert_exporter": "python",
   "pygments_lexer": "ipython3",
   "version": "3.11.3"
  }
 },
 "nbformat": 4,
 "nbformat_minor": 5
}
