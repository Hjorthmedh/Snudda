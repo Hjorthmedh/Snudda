{
 "cells": [
  {
   "cell_type": "markdown",
   "id": "b0b37371-3021-4a72-a880-c58a7e8d4160",
   "metadata": {},
   "source": [
    "# Virtual experiments, replicating Lahiri and Bevan 2020\n",
    "\n",
    "In this notebook, we try and replicate a few of the dopamine experiments in Lahiri and Bevan 2020.\n",
    "\n",
    "4Hz optogenetical stimulation (5 pulses) yielded approximately 0.3 uM DA concentration, while 20Hz stimulation yielded (5 pulses) on average 0.5 uM DA concentration. Here we model the optogenetic activation by setting the DA concentration to these values. In both cases the duration of the resulting DA pulse was set to 5 seconds. \n"
   ]
  },
  {
   "cell_type": "markdown",
   "id": "00ab7d4b-5872-4226-ba34-0d3248f394a5",
   "metadata": {},
   "source": [
    "Experiment 4¶\n",
    "\n",
    "Subthreshold current injection (<10 mV depolarisation). Size of depolarisation not affected by DA.\n",
    "\n",
    "Suprathreshold current injection, with DA lower threshold, and faster spiking.\n",
    "\n",
    "Compare Figure 5"
   ]
  },
  {
   "cell_type": "code",
   "execution_count": 1,
   "id": "5f0add18-69c0-44fc-9473-4325545e2dd2",
   "metadata": {},
   "outputs": [],
   "source": [
    "import os\n",
    "from snudda import Snudda\n",
    "\n",
    "neuron = \"dspn\"\n",
    "# neuron = \"ispn\"\n",
    "\n",
    "neuron_path = os.path.join(\"data\", neuron)\n",
    "network_path = os.path.join(\"networks\", \"bevan_fig4_bath_subthresh_current_SBML\")"
   ]
  },
  {
   "cell_type": "code",
   "execution_count": 2,
   "id": "9b576389-21a5-4ce0-9f0d-9b183763e0f6",
   "metadata": {},
   "outputs": [
    {
     "name": "stdout",
     "output_type": "stream",
     "text": [
      "Warning, no snudda_data set!\n",
      "Adding neurons: dspn from dir data/dspn\n",
      "Writing networks/bevan_fig4_bath_subthresh_current_SBML/network-config.json\n",
      "Writing networks/bevan_fig4_bath_subthresh_current_SBML/network-config.json\n",
      "Placing neurons\n",
      "Network path: networks/bevan_fig4_bath_subthresh_current_SBML\n",
      "Creating missing directory networks/bevan_fig4_bath_subthresh_current_SBML/log\n",
      "Created directory networks/bevan_fig4_bath_subthresh_current_SBML/log\n",
      "Reading SNUDDA_DATA=None from networks/bevan_fig4_bath_subthresh_current_SBML/network-config.json\n",
      "No n_putative_points and putative_density, setting n_putative_points = 46\n",
      "(this must be larger than the number of neurons you want to place)\n",
      "Generating 46 points for networks/bevan_fig4_bath_subthresh_current_SBML/mesh/Cube-cube-mesh-2.3159794767993218e-05.obj\n",
      "Filtering, keeping inside points: 1 / 22\n",
      "Managed to create 1 putative points within the volume.\n",
      "  WARNING --> is the volume too small? You can create new cube mesh using create_cube_mesh.py\n",
      "\n",
      "Example how to use create_cube_mesh.py:\n",
      "from snudda.place.create_cube_mesh import create_cube_mesh\n",
      "create_cube_mesh(file_name='your_cube_mesh_name.obj', \n",
      "                 centre_point=(0,0,0), side_len=300e-6,\n",
      "                 description='Adjust side_len to get correct neuron density')\n",
      "\n",
      "neuron_name = 'dspn_0', num = np.int64(1), neuron_path = 'data/dspn/str-dspn-e150602_c1_D1-mWT-0728MSN01-v20211026'\n",
      "stop_parallel disabled, to keep pool running.\n",
      "\n",
      "Execution time: 0.1s\n",
      "Touch detection\n",
      "Network path: networks/bevan_fig4_bath_subthresh_current_SBML\n",
      "Creating missing directory networks/bevan_fig4_bath_subthresh_current_SBML/voxels\n",
      "Created directory networks/bevan_fig4_bath_subthresh_current_SBML/voxels\n",
      "Reading SNUDDA_DATA=None from networks/bevan_fig4_bath_subthresh_current_SBML/network-config.json\n",
      "No d_view specified, running distribute neurons in serial\n",
      "No connections specified in connectivity_distribution.\n",
      "Reading SNUDDA_DATA=None from networks/bevan_fig4_bath_subthresh_current_SBML/network-config.json\n",
      "stop_parallel disabled, to keep pool running.\n",
      "\n",
      "Execution time: 0.1s\n",
      "Prune synapses\n",
      "Network path: networks/bevan_fig4_bath_subthresh_current_SBML\n",
      "No file networks/bevan_fig4_bath_subthresh_current_SBML/pruning_merge_info.json\n",
      "stop_parallel disabled, to keep pool running.\n",
      "\n",
      "Execution time: 0.1s\n"
     ]
    }
   ],
   "source": [
    "snudda = Snudda(network_path=network_path)\n",
    "si = snudda.init_tiny(neuron_paths=neuron_path, neuron_names=neuron, number_of_neurons=[1], \n",
    "                      random_seed=1234)\n",
    "\n",
    "si.network_data[\"regions\"][\"Cube\"][\"neurons\"][\"dspn\"][\"reaction_diffusion\"] = \"data/JSON/reaction_diffusion_D1.json\"\n",
    "# si.network_data[\"regions\"][\"Cube\"][\"neurons\"][\"ispn\"][\"reaction_diffusion\"] = \"data/JSON/reaction_diffusion_D2.json-updated\"\n",
    "\n",
    "\n",
    "# How the ion channels are modified by DA\n",
    "# OBS, we include SK direkt modulation, in relality it should be modulated by DA acting on Ca \n",
    "# si.network_data[\"regions\"][\"Cube\"][\"neurons\"][neuron][\"modulation\"] = \"modulation_parameters.json\"\n",
    "si.network_data[\"regions\"][\"Cube\"][\"neurons\"][neuron][\"modulation\"] = \"data/modulation-bevan2020.json\"\n",
    "\n",
    "\n",
    "si.network_data[\"regions\"][\"Cube\"][\"neurons\"][neuron][\"modulation_key\"] = \"abc\"\n",
    "\n",
    "si.write_json()\n",
    "\n",
    "snudda.create_network()"
   ]
  },
  {
   "cell_type": "code",
   "execution_count": 3,
   "id": "7fe92bb9-3661-4e08-b0dc-229b935a3277",
   "metadata": {},
   "outputs": [],
   "source": [
    "# Free memory\n",
    "snudda = None\n",
    "\n",
    "mech_dir = \"/home/hjorth/HBP/BasalGangliaData/data/neurons/mechanisms\"\n",
    "sample_dt = None # 0.00005\n",
    "\n",
    "sim_config_on = os.path.join(\"data\", \"bevan_fig4_with_DA_sbml.json\")\n",
    "sim_config_off = os.path.join(\"data\", \"bevan_fig4_no_DA_sbml.json\")\n",
    "\n",
    "sim_output_neuromodulation_ON = os.path.join(network_path, \"simulation\", \"output_neuromodulation_ON.hdf5\")\n",
    "sim_output_neuromodulation_OFF = os.path.join(network_path, \"simulation\", \"output_neuromodulation_OFF.hdf5\")\n",
    "\n",
    "sim_time = 2\n",
    "n_workers = 1"
   ]
  },
  {
   "cell_type": "code",
   "execution_count": 4,
   "id": "bc0d07f8-aab9-4e84-a9b8-0a6fce1b0c56",
   "metadata": {},
   "outputs": [
    {
     "name": "stdout",
     "output_type": "stream",
     "text": [
      "snudda simulate networks/bevan_fig4_bath_subthresh_current_SBML --time 2 --simulation_config data/bevan_fig4_with_DA_sbml.json --mechdir /home/hjorth/HBP/BasalGangliaData/data/neurons/mechanisms --enable_rxd_neuromodulation --verbose\n"
     ]
    }
   ],
   "source": [
    "run_str_on = f\"snudda simulate {network_path} --time {sim_time} --simulation_config {sim_config_on} --mechdir {mech_dir} --enable_rxd_neuromodulation --verbose\"\n",
    "print(run_str_on)"
   ]
  },
  {
   "cell_type": "code",
   "execution_count": null,
   "id": "0f99fd10-818a-4678-95ee-e22361029b89",
   "metadata": {},
   "outputs": [],
   "source": [
    "os.system(run_str_on)"
   ]
  },
  {
   "cell_type": "code",
   "execution_count": 5,
   "id": "efebf00c-b6c1-48f3-86c0-8035cfb7f41a",
   "metadata": {},
   "outputs": [
    {
     "name": "stdout",
     "output_type": "stream",
     "text": [
      "snudda simulate networks/bevan_fig4_bath_subthresh_current_SBML --time 2 --simulation_config data/bevan_fig4_no_DA_sbml.json --mechdir /home/hjorth/HBP/BasalGangliaData/data/neurons/mechanisms --verbose\n"
     ]
    }
   ],
   "source": [
    "run_str_off = f\"snudda simulate {network_path} --time {sim_time} --simulation_config {sim_config_off} --mechdir {mech_dir} --verbose\"\n",
    "print(run_str_off)"
   ]
  },
  {
   "cell_type": "code",
   "execution_count": null,
   "id": "a7016cf4-f45a-40fd-b065-83bcea58a0ba",
   "metadata": {},
   "outputs": [],
   "source": [
    "os.system(run_str_off)"
   ]
  },
  {
   "cell_type": "code",
   "execution_count": 6,
   "id": "f0881e2b-f88c-4c9b-a55f-dcf740b597c1",
   "metadata": {},
   "outputs": [
    {
     "name": "stdout",
     "output_type": "stream",
     "text": [
      "Loading networks/bevan_fig4_bath_subthresh_current_SBML/simulation/output_neuromodulation_ON.hdf5\n"
     ]
    }
   ],
   "source": [
    "from snudda.utils import SnuddaLoadSimulation\n",
    "\n",
    "nd = SnuddaLoadSimulation(sim_output_neuromodulation_ON)\n",
    "time = nd.get_time()\n",
    "data_pka = nd.get_data(\"PKAc\", 0)[0][0]\n",
    "data_da = nd.get_data(\"DA\", 0)[0][0]\n",
    "data_da_external = nd.get_data(\"DA\", 0)[0][0]\n",
    "\n",
    "# This is saved with add_rxd_internal_concentration_recording_all -- check that it worked \n",
    "data_pka_all0 = nd.get_data(\"PKAc\", 0)[0][0]"
   ]
  },
  {
   "cell_type": "code",
   "execution_count": 7,
   "id": "1d2f8568-239d-4d6d-98f0-60d421d24f0b",
   "metadata": {},
   "outputs": [
    {
     "data": {
      "text/plain": [
       "['AC5',\n",
       " 'AC5GaolfGTP',\n",
       " 'AC5GaolfGTP_ATP',\n",
       " 'AC5_ATP',\n",
       " 'AMP',\n",
       " 'ATP',\n",
       " 'D1R',\n",
       " 'D1RDA',\n",
       " 'D1RDAGolf',\n",
       " 'D1RGolf',\n",
       " 'DA',\n",
       " 'GaolfGDP',\n",
       " 'GaolfGTP',\n",
       " 'Gbgolf',\n",
       " 'Golf',\n",
       " 'PDE10',\n",
       " 'PDE10_cAMP',\n",
       " 'PDE10c',\n",
       " 'PDE10c_cAMP',\n",
       " 'PDE4',\n",
       " 'PDE4_cAMP',\n",
       " 'PKA',\n",
       " 'PKAc',\n",
       " 'PKAcAMP2',\n",
       " 'PKAcAMP4',\n",
       " 'PKAreg',\n",
       " 'cAMP',\n",
       " 'cal12_ms.modulation_factor',\n",
       " 'cal13_ms.modulation_factor',\n",
       " 'kaf_ms.modulation_factor_g',\n",
       " 'kaf_ms.modulation_factor_shift',\n",
       " 'kas_ms.modulation_factor',\n",
       " 'naf_ms.modulation_factor',\n",
       " 'sk_ms.modulation_factor',\n",
       " 'spikes',\n",
       " 'voltage']"
      ]
     },
     "execution_count": 7,
     "metadata": {},
     "output_type": "execute_result"
    }
   ],
   "source": [
    "nd.list_data_types(0)"
   ]
  },
  {
   "cell_type": "code",
   "execution_count": 8,
   "id": "fef42874-a1c0-4dc4-ab9c-77793be2c0c2",
   "metadata": {},
   "outputs": [],
   "source": [
    "data_types = nd.list_data_types(0)\n",
    "all_species_data = nd.get_all_data(neuron_id=0, exclude=[\"spikes\", \"voltage\"])\n",
    "time = nd.get_time()\n",
    "voltage = nd.get_data(\"voltage\", [0])"
   ]
  },
  {
   "cell_type": "code",
   "execution_count": 9,
   "id": "1fae24a1-fac5-453d-9e94-83cd50166e07",
   "metadata": {},
   "outputs": [
    {
     "data": {
      "text/html": [
       "<iframe\n",
       "    scrolling=\"no\"\n",
       "    width=\"100%\"\n",
       "    height=\"545px\"\n",
       "    src=\"iframe_figures/figure_9.html\"\n",
       "    frameborder=\"0\"\n",
       "    allowfullscreen\n",
       "></iframe>\n"
      ]
     },
     "metadata": {},
     "output_type": "display_data"
    }
   ],
   "source": [
    "import plotly.graph_objects as go\n",
    "import plotly.io as pio\n",
    "pio.renderers.default = \"iframe\"  # Do not save plots in the notebook, they can get BIG\n",
    "\n",
    "fig = go.Figure()\n",
    "for data_type in all_species_data:\n",
    "    idx = time >= 0.0\n",
    "    fig.add_trace(go.Scatter(x=time[idx], y=all_species_data[data_type][0][0].T[0][idx], name=data_type, line={\"width\":4}))\n",
    "\n",
    "\"\"\"\n",
    "fig.update_layout(xaxis_title=\"Time (s)\", yaxis_title=\"Concentration\", width=1000, height=800,\n",
    "                 font={\"size\":18},  # General font size for all elements\n",
    "                 legend={\"font\":{\"size\":16}},  # Specific font size for legend\n",
    "                 xaxis={\"title\":{\"font\":{\"size\":20}}, \"tickfont\":{\"size\":14}},  # X-axis title and tick labels\n",
    "                 yaxis={\"title\":{\"font\":{\"size\":20}}, \"tickfont\":{\"size\":14}})   # Y-axis title and tick labels\n",
    "\"\"\"\n",
    "fig.show()"
   ]
  },
  {
   "cell_type": "code",
   "execution_count": 12,
   "id": "8a709771-fd02-4712-9b4e-d57e49a737fc",
   "metadata": {},
   "outputs": [
    {
     "data": {
      "text/html": [
       "<iframe\n",
       "    scrolling=\"no\"\n",
       "    width=\"1020px\"\n",
       "    height=\"820\"\n",
       "    src=\"iframe_figures/figure_12.html\"\n",
       "    frameborder=\"0\"\n",
       "    allowfullscreen\n",
       "></iframe>\n"
      ]
     },
     "metadata": {},
     "output_type": "display_data"
    },
    {
     "data": {
      "text/html": [
       "<iframe\n",
       "    scrolling=\"no\"\n",
       "    width=\"1020px\"\n",
       "    height=\"820\"\n",
       "    src=\"iframe_figures/figure_12.html\"\n",
       "    frameborder=\"0\"\n",
       "    allowfullscreen\n",
       "></iframe>\n"
      ]
     },
     "metadata": {},
     "output_type": "display_data"
    }
   ],
   "source": [
    "# Reporting plot\n",
    "\n",
    "import plotly.graph_objects as go\n",
    "import plotly.io as pio\n",
    "pio.renderers.default = \"iframe\"  # Do not save plots in the notebook, they can get BIG\n",
    "\n",
    "fig = go.Figure()\n",
    "for data_type in [\"D1RDA\", \"PKAc\", \"cAMP\"]: #all_species_data:\n",
    "    idx = time >= 0.0\n",
    "    fig.add_trace(go.Scatter(x=time[idx], y=all_species_data[data_type][0][0].T[0][idx], name=data_type, line={\"width\":4}))\n",
    "\n",
    "fig.update_layout(xaxis_title=\"Time (s)\", yaxis_title=\"Concentration\", width=1000, height=800,\n",
    "                  font={\"size\":18},  # General font size for all elements\n",
    "                  legend={\"font\":{\"size\":50}},  # Specific font size for legend\n",
    "                  xaxis={\"title\":{\"font\":{\"size\":40}}, \"tickfont\":{\"size\":30}},  # X-axis title and tick labels\n",
    "                  yaxis={\"title\":{\"font\":{\"size\":40}}, \"tickfont\":{\"size\":30}})   # Y-axis title and tick labels\n",
    "\n",
    "\n",
    "fig.show()\n",
    "\n",
    "fig.write_image(\"bevan_4-example-da-cascade-1.png\", width=1200, height=800)\n",
    "\n",
    "\n",
    "fig2 = go.Figure()\n",
    "for data_type in [\"cal12_ms.modulation_factor\", \"cal13_ms.modulation_factor\", \n",
    "                  \"kas_ms.modulation_factor\", \"kaf_ms.modulation_factor_g\", \"kaf_ms.modulation_factor_shift\", \n",
    "                  \"naf_ms.modulation_factor\", \n",
    "                 \"sk_ms.modulation_factor\", ]: #all_species_data:\n",
    "    idx = time >= 0.0\n",
    "    data_type_str = data_type.replace(\"modulation_factor\", \"modulation\")\n",
    "    fig2.add_trace(go.Scatter(x=time[idx], y=all_species_data[data_type][0][0].T[0][idx], name=data_type_str, line={\"width\":4}))\n",
    "\n",
    "fig2.update_layout(xaxis_title=\"Time (s)\", yaxis_title=\"Modulation factor\", width=1000, height=800,\n",
    "                  font={\"size\":18},  # General font size for all elements\n",
    "                  legend={\"font\":{\"size\":50}},  # Specific font size for legend\n",
    "                  xaxis={\"title\":{\"font\":{\"size\":40}}, \"tickfont\":{\"size\":40}},  # X-axis title and tick labels\n",
    "                  yaxis={\"title\":{\"font\":{\"size\":40}}, \"tickfont\":{\"size\":40}})   # Y-axis title and tick labels\n",
    "\n",
    "fig2.show()\n",
    "fig2.write_image(\"bevan_fig4_biochem.png\", width=1200, height=800)\n",
    "\n",
    "nd = None"
   ]
  },
  {
   "cell_type": "code",
   "execution_count": 13,
   "id": "e09b1fcd-375f-428d-8832-5dc9167b4dfa",
   "metadata": {},
   "outputs": [
    {
     "name": "stdout",
     "output_type": "stream",
     "text": [
      "Loading networks/bevan_fig4_bath_subthresh_current_SBML/simulation/output_neuromodulation_ON.hdf5\n"
     ]
    }
   ],
   "source": [
    "from snudda.utils import SnuddaLoadSimulation\n",
    "\n",
    "nd_on = SnuddaLoadSimulation(sim_output_neuromodulation_ON)\n",
    "data_types = nd_on.list_data_types(0)\n",
    "all_species_data = nd_on.get_all_data(neuron_id=0, exclude=[\"spikes\", \"voltage\"])\n",
    "time_on = nd_on.get_time()\n",
    "voltage_on = nd_on.get_data(\"voltage\")"
   ]
  },
  {
   "cell_type": "code",
   "execution_count": 14,
   "id": "ae39b75f-6fae-4f48-84ec-6dc23aea3d82",
   "metadata": {},
   "outputs": [
    {
     "name": "stdout",
     "output_type": "stream",
     "text": [
      "Loading networks/bevan_fig4_bath_subthresh_current_SBML/simulation/output_neuromodulation_OFF.hdf5\n"
     ]
    }
   ],
   "source": [
    "nd_off = SnuddaLoadSimulation(sim_output_neuromodulation_OFF)\n",
    "time_off = nd_off.get_time()\n",
    "voltage_off = nd_off.get_data(\"voltage\")"
   ]
  },
  {
   "cell_type": "code",
   "execution_count": 15,
   "id": "73046f3f-8c22-4c7a-8228-b2f7e479e1c6",
   "metadata": {},
   "outputs": [
    {
     "data": {
      "text/plain": [
       "{0: array([[-0.086     , -0.086     ],\n",
       "        [-0.08614558, -0.08614558],\n",
       "        [-0.08623902, -0.08623902],\n",
       "        ...,\n",
       "        [-0.09108087, -0.09108087],\n",
       "        [-0.09108087, -0.09108087],\n",
       "        [-0.09108087, -0.09108087]], shape=(80001, 2))}"
      ]
     },
     "execution_count": 15,
     "metadata": {},
     "output_type": "execute_result"
    }
   ],
   "source": [
    "voltage_off[0]"
   ]
  },
  {
   "cell_type": "code",
   "execution_count": 24,
   "id": "b4f59bee-20cd-4713-8590-66aefb218f75",
   "metadata": {},
   "outputs": [
    {
     "data": {
      "text/html": [
       "<iframe\n",
       "    scrolling=\"no\"\n",
       "    width=\"1020px\"\n",
       "    height=\"820\"\n",
       "    src=\"iframe_figures/figure_24.html\"\n",
       "    frameborder=\"0\"\n",
       "    allowfullscreen\n",
       "></iframe>\n"
      ]
     },
     "metadata": {},
     "output_type": "display_data"
    }
   ],
   "source": [
    "import plotly.graph_objects as go\n",
    "import plotly.io as pio\n",
    "pio.renderers.default = \"iframe\"  # Do not save plots in the notebook, they can get BIG\n",
    "\n",
    "\n",
    "for neuron_id in voltage_on[0].keys():\n",
    "    \n",
    "    fig = go.Figure()\n",
    "    \n",
    "    sct_on = go.Scatter(x=time_on, y=voltage_on[0][neuron_id][:,0]*1e3, name=\"DA\", opacity=0.5,  line={\"width\":8, \"color\":\"red\"})\n",
    "    sct_off = go.Scatter(x=time_off, y=voltage_off[0][neuron_id][:,0]*1e3, name=\"No DA\", opacity=0.5,  line={\"width\":8, \"color\":\"black\"})\n",
    "    fig.add_traces([sct_on, sct_off])\n",
    "    \n",
    "    fig.update_layout(xaxis_title=\"Time (s)\", yaxis_title=\"Voltage (mV)\", width=1000, height=800,\n",
    "                      font={\"size\":18},  # General font size for all elements\n",
    "                      legend={\"font\":{\"size\":50}},  # Specific font size for legend\n",
    "                      xaxis={\"title\":{\"font\":{\"size\":50}}, \"tickfont\":{\"size\":40}, \"range\":[0,2]},  # X-axis title and tick labels\n",
    "                      yaxis={\"title\":{\"font\":{\"size\":50}}, \"tickfont\":{\"size\":40}, \"dtick\": 2})   # Y-axis title and tick labels\n",
    "    fig.show()\n",
    "    fig.write_image(f\"bevan-figure4-{neuron_id}-volt-trace-subtresh.png\", scale=2, height=800, width=1200)"
   ]
  },
  {
   "cell_type": "code",
   "execution_count": 25,
   "id": "2446d96a-30f5-4d22-8f74-c58cc3e75c78",
   "metadata": {},
   "outputs": [],
   "source": [
    "fig.write_image(f\"bevan-figure4.png\", scale=2, height=800, width=1200)"
   ]
  },
  {
   "cell_type": "code",
   "execution_count": null,
   "id": "0909f4f7-417d-428d-a336-b0275f18b0c2",
   "metadata": {},
   "outputs": [],
   "source": []
  },
  {
   "cell_type": "markdown",
   "id": "a02d3ecb-cd6d-470d-bf4a-d598bb9e9d5c",
   "metadata": {},
   "source": [
    "## Experiment 2\n",
    "\n",
    "Can we show persistence for 15 minutes? (Compare Figure 2)"
   ]
  },
  {
   "cell_type": "code",
   "execution_count": null,
   "id": "77c9fb7e-178a-4238-86f4-71ef3d9b3c4b",
   "metadata": {},
   "outputs": [],
   "source": []
  },
  {
   "cell_type": "markdown",
   "id": "6c3813bd-b192-42f9-9f80-dd2cadce385d",
   "metadata": {},
   "source": [
    "## Experiment 3\n",
    "\n",
    "Current injection for 3 seconds, trigger 2 (4) spikes in dSPN. After DA application (1 second, 0.5u M) spikes come earlier and at a higher frequency.\n",
    "\n",
    "Compare Figure 4 B, C, D"
   ]
  },
  {
   "cell_type": "code",
   "execution_count": null,
   "id": "4d9a8043-ea3a-4b3b-9aa0-ba1314660f99",
   "metadata": {},
   "outputs": [],
   "source": []
  },
  {
   "cell_type": "markdown",
   "id": "161b3754-821f-4311-adbc-2ae15d42c926",
   "metadata": {},
   "source": [
    "## Experiment 4\n",
    "\n",
    "Subthreshold current injection (<10 mV depolarisation). Size of depolarisation not affected by DA.\n",
    "\n",
    "Suprathreshold current injection, with DA lower threshold, and faster spiking.\n",
    "\n",
    "Compare Figure 5"
   ]
  },
  {
   "cell_type": "code",
   "execution_count": null,
   "id": "e5f7d5a2-329f-4704-aa88-917dbfc86408",
   "metadata": {},
   "outputs": [],
   "source": [
    "\n"
   ]
  },
  {
   "cell_type": "code",
   "execution_count": null,
   "id": "413a1e94-c144-4fd7-bdc7-f2ef4b3cf54a",
   "metadata": {},
   "outputs": [],
   "source": [
    "Experiment 5\n",
    "\n",
    "Compare Figure 6"
   ]
  }
 ],
 "metadata": {
  "kernelspec": {
   "display_name": "Python 3 (ipykernel)",
   "language": "python",
   "name": "python3"
  },
  "language_info": {
   "codemirror_mode": {
    "name": "ipython",
    "version": 3
   },
   "file_extension": ".py",
   "mimetype": "text/x-python",
   "name": "python",
   "nbconvert_exporter": "python",
   "pygments_lexer": "ipython3",
   "version": "3.13.5"
  }
 },
 "nbformat": 4,
 "nbformat_minor": 5
}
