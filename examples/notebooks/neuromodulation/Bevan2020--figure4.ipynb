{
 "cells": [
  {
   "cell_type": "markdown",
   "id": "b0b37371-3021-4a72-a880-c58a7e8d4160",
   "metadata": {},
   "source": [
    "# Virtual experiments, replicating Lahiri and Bevan 2020\n",
    "\n",
    "In this notebook, we try and replicate a few of the dopamine experiments in Lahiri and Bevan 2020.\n",
    "\n",
    "4Hz optogenetical stimulation (5 pulses) yielded approximately 0.3 uM DA concentration, while 20Hz stimulation yielded (5 pulses) on average 0.5 uM DA concentration. Here we model the optogenetic activation by setting the DA concentration to these values. In both cases the duration of the resulting DA pulse was set to 5 seconds. \n"
   ]
  },
  {
   "cell_type": "markdown",
   "id": "00ab7d4b-5872-4226-ba34-0d3248f394a5",
   "metadata": {},
   "source": [
    "Experiment 4¶\n",
    "\n",
    "Subthreshold current injection (<10 mV depolarisation). Size of depolarisation not affected by DA.\n",
    "\n",
    "Suprathreshold current injection, with DA lower threshold, and faster spiking.\n",
    "\n",
    "Compare Figure 5"
   ]
  },
  {
   "cell_type": "code",
   "execution_count": 1,
   "id": "5f0add18-69c0-44fc-9473-4325545e2dd2",
   "metadata": {},
   "outputs": [],
   "source": [
    "import os\n",
    "from snudda import Snudda\n",
    "\n",
    "neuron = \"dspn\"\n",
    "# neuron = \"ispn\"\n",
    "\n",
    "neuron_path = os.path.join(\"data\", neuron)\n",
    "network_path = os.path.join(\"networks\", \"bevan_fig4_bath_subthresh_current_SBML\")"
   ]
  },
  {
   "cell_type": "code",
   "execution_count": 2,
   "id": "9b576389-21a5-4ce0-9f0d-9b183763e0f6",
   "metadata": {},
   "outputs": [
    {
     "name": "stdout",
     "output_type": "stream",
     "text": [
      "Warning, no snudda_data set!\n",
      "Adding neurons: dspn from dir data/dspn\n",
      "Writing networks/bevan_fig4_bath_subthresh_current_SBML/network-config.json\n",
      "Writing networks/bevan_fig4_bath_subthresh_current_SBML/network-config.json\n",
      "Placing neurons\n",
      "Network path: networks/bevan_fig4_bath_subthresh_current_SBML\n",
      "Reading SNUDDA_DATA=None from networks/bevan_fig4_bath_subthresh_current_SBML/network-config.json\n",
      "Reading SNUDDA_DATA=/home/hjorth/HBP/Snudda/snudda/data from networks/bevan_fig4_bath_subthresh_current_SBML/network-synapses.hdf5\n",
      "No n_putative_points and putative_density, setting n_putative_points = 46\n",
      "(this must be larger than the number of neurons you want to place)\n",
      "Generating 46 points for networks/bevan_fig4_bath_subthresh_current_SBML/mesh/Cube-cube-mesh-2.3159794767993218e-05.obj\n",
      "Filtering, keeping inside points: 1 / 22\n",
      "Managed to create 1 putative points within the volume.\n",
      "  WARNING --> is the volume too small? You can create new cube mesh using create_cube_mesh.py\n",
      "\n",
      "Example how to use create_cube_mesh.py:\n",
      "from snudda.place.create_cube_mesh import create_cube_mesh\n",
      "create_cube_mesh(file_name='your_cube_mesh_name.obj', \n",
      "                 centre_point=(0,0,0), side_len=300e-6,\n",
      "                 description='Adjust side_len to get correct neuron density')\n",
      "\n",
      "neuron_name = 'dspn_0', num = 1, neuron_path = 'data/dspn/str-dspn-e150602_c1_D1-mWT-0728MSN01-v20211026'\n",
      "stop_parallel disabled, to keep pool running.\n",
      "\n",
      "Execution time: 0.1s\n",
      "Touch detection\n",
      "Network path: networks/bevan_fig4_bath_subthresh_current_SBML\n",
      "Reading SNUDDA_DATA=None from networks/bevan_fig4_bath_subthresh_current_SBML/network-config.json\n",
      "Reading SNUDDA_DATA=/home/hjorth/HBP/Snudda/snudda/data from networks/bevan_fig4_bath_subthresh_current_SBML/network-synapses.hdf5\n",
      "No d_view specified, running distribute neurons in serial\n",
      "No connections specified in connectivity_distribution.\n",
      "Reading SNUDDA_DATA=None from networks/bevan_fig4_bath_subthresh_current_SBML/network-config.json\n",
      "stop_parallel disabled, to keep pool running.\n",
      "\n",
      "Execution time: 0.1s\n",
      "Prune synapses\n",
      "Network path: networks/bevan_fig4_bath_subthresh_current_SBML\n",
      "No file networks/bevan_fig4_bath_subthresh_current_SBML/pruning_merge_info.json\n",
      "stop_parallel disabled, to keep pool running.\n",
      "\n",
      "Execution time: 0.1s\n"
     ]
    }
   ],
   "source": [
    "snudda = Snudda(network_path=network_path)\n",
    "si = snudda.init_tiny(neuron_paths=neuron_path, neuron_names=neuron, number_of_neurons=[1], \n",
    "                      random_seed=1234)\n",
    "\n",
    "si.network_data[\"regions\"][\"Cube\"][\"neurons\"][\"dspn\"][\"reaction_diffusion\"] = \"data/JSON/reaction_diffusion_D1.json\"\n",
    "# si.network_data[\"regions\"][\"Cube\"][\"neurons\"][\"ispn\"][\"reaction_diffusion\"] = \"data/JSON/reaction_diffusion_D2.json-updated\"\n",
    "\n",
    "\n",
    "# How the ion channels are modified by DA\n",
    "# OBS, we include SK direkt modulation, in relality it should be modulated by DA acting on Ca \n",
    "# si.network_data[\"regions\"][\"Cube\"][\"neurons\"][neuron][\"modulation\"] = \"modulation_parameters.json\"\n",
    "si.network_data[\"regions\"][\"Cube\"][\"neurons\"][neuron][\"modulation\"] = \"data/modulation-bevan2020.json\"\n",
    "\n",
    "\n",
    "si.network_data[\"regions\"][\"Cube\"][\"neurons\"][neuron][\"modulation_key\"] = \"abc\"\n",
    "\n",
    "si.write_json()\n",
    "\n",
    "snudda.create_network()"
   ]
  },
  {
   "cell_type": "code",
   "execution_count": 3,
   "id": "7fe92bb9-3661-4e08-b0dc-229b935a3277",
   "metadata": {},
   "outputs": [],
   "source": [
    "# Free memory\n",
    "snudda = None\n",
    "\n",
    "mech_dir = \"/home/hjorth/HBP/BasalGangliaData/data/neurons/mechanisms\"\n",
    "sample_dt = None # 0.00005\n",
    "\n",
    "sim_config_on = os.path.join(\"data\", \"bevan_fig4_with_DA_sbml.json\")\n",
    "sim_config_off = os.path.join(\"data\", \"bevan_fig4_no_DA_sbml.json\")\n",
    "\n",
    "sim_output_neuromodulation_ON = os.path.join(network_path, \"simulation\", \"output_neuromodulation_ON.hdf5\")\n",
    "sim_output_neuromodulation_OFF = os.path.join(network_path, \"simulation\", \"output_neuromodulation_OFF.hdf5\")\n",
    "\n",
    "sim_time = 2\n",
    "n_workers = 1"
   ]
  },
  {
   "cell_type": "code",
   "execution_count": 4,
   "id": "bc0d07f8-aab9-4e84-a9b8-0a6fce1b0c56",
   "metadata": {},
   "outputs": [
    {
     "name": "stdout",
     "output_type": "stream",
     "text": [
      "snudda simulate networks/bevan_fig4_bath_subthresh_current_SBML --time 2 --simulation_config data/bevan_fig4_with_DA_sbml.json --mechdir /home/hjorth/HBP/BasalGangliaData/data/neurons/mechanisms --enable_rxd_neuromodulation --verbose\n"
     ]
    }
   ],
   "source": [
    "run_str_on = f\"snudda simulate {network_path} --time {sim_time} --simulation_config {sim_config_on} --mechdir {mech_dir} --enable_rxd_neuromodulation --verbose\"\n",
    "print(run_str_on)"
   ]
  },
  {
   "cell_type": "code",
   "execution_count": 5,
   "id": "0f99fd10-818a-4678-95ee-e22361029b89",
   "metadata": {},
   "outputs": [
    {
     "name": "stdout",
     "output_type": "stream",
     "text": [
      "numprocs=1\n",
      "args.ipython_profile = None\n",
      "args: Namespace(action='simulate', path='networks/bevan_fig4_bath_subthresh_current_SBML', network_file=None, input_file=None, output_file=None, time=2.0, snudda_data=None, simulation_config='data/bevan_fig4_with_DA_sbml.json', record_volt=True, randomseed=None, disable_synapses=None, disable_gj=None, mech_dir='/home/hjorth/HBP/BasalGangliaData/data/neurons/mechanisms', profile=False, verbose=True, exportCoreNeuron=False, record_all=None, enable_rxd_neuromodulation=True, disable_rxd_neuromodulation=None, ipython_profile=None)\n",
      "MPI Rank: 0, Size: 1\n",
      "Using input file None\n",
      "NEURON mechanisms already compiled, make sure you have the correct version of NEURON modules.\n",
      "If you delete x86_64, aarch64, arm64 directories (or nrnmech.dll) then you will force a recompilation of the modules.\n",
      "Reading SNUDDA_DATA=None from networks/bevan_fig4_bath_subthresh_current_SBML/network-config.json\n",
      "Reading SNUDDA_DATA=/home/hjorth/HBP/Snudda/snudda/data from networks/bevan_fig4_bath_subthresh_current_SBML/network-synapses.hdf5\n",
      "Warning: No external synaptic input file given!\n",
      "MPI Rank: 0, Size: 1 -- NEURON: This is node 0 out of 1\n",
      "Reading config: data/bevan_fig4_with_DA_sbml.json\n",
      "Loading simulation_config from data/bevan_fig4_with_DA_sbml.json\n",
      "Network path: networks/bevan_fig4_bath_subthresh_current_SBML/network-synapses.hdf5\n",
      "Using log file <_io.TextIOWrapper name='networks/bevan_fig4_bath_subthresh_current_SBML/log/network-simulation-ON.txt' mode='w' encoding='UTF-8'>\n",
      "Network file: networks/bevan_fig4_bath_subthresh_current_SBML/network-synapses.hdf5\n",
      "Output file: networks/bevan_fig4_bath_subthresh_current_SBML/simulation/output_neuromodulation_ON.hdf5\n",
      "Current injection file: data/bevan_current_injection_figure4_subthresh.json\n",
      "Using network_file: networks/bevan_fig4_bath_subthresh_current_SBML/network-synapses.hdf5\n",
      "Using input_file: None\n",
      "Using output_file: networks/bevan_fig4_bath_subthresh_current_SBML/simulation/output_neuromodulation_ON.hdf5\n",
      "Using logFile: networks/bevan_fig4_bath_subthresh_current_SBML/log/network-simulation-ON.txt\n",
      "Using conversion factor lookup for mod files: {'tauR': 1000.0, 'tauF': 1000.0, 'tau': 1000.0, 'tau1': 1000.0, 'tau2': 1000.0, 'tau1_ampa': 1000.0, 'tau2_ampa': 1000.0, 'tau1_nmda': 1000.0, 'tau2_nmda': 1000.0}\n",
      "Worker 0 : Loading network from networks/bevan_fig4_bath_subthresh_current_SBML/network-synapses.hdf5\n",
      "Loading config file networks/bevan_fig4_bath_subthresh_current_SBML/network-config.json\n",
      "0 : Memory status: 41% free\n",
      "Distributing neurons (#2).\n",
      "Worker 0 has real neurons real_neuron_id[r_idx] = array([0])\n",
      "virtual_neuron_id[v_idx] =array([], dtype=float64)\n",
      "RxD for neuromodulation: ENABLED.\n",
      "RxD extracellular not enabled.\n",
      "Setup neurons\n",
      "Node 0 - cell 0 dspn_0\n",
      "Neuron dspn_0 (0) resting voltage = -86.0\n",
      "!!! Popping extra segment from neuron -- temp fix!\n",
      "0 : Memory status: 41% free\n",
      "Adding gap junctions.\n",
      "connect_network_gap_junctions_local\n",
      "Finding node local gap junctions...\n",
      "Added 0.0 gap junctions to simulation (0 total)\n",
      "Adding synapses.\n",
      "connect_network_synapses\n",
      "Added 0 on worker 0\n",
      "Added 0 synapses to simulation (0 total)\n",
      "0 : Memory status: 41% free\n",
      "Recording all RxD species from neurons: [0, 1]\n",
      "Recording all RxD species from neurons: 0\n",
      "Recording all RxD species from neurons: 1\n",
      "Bath application t=[    0. 10000.]ms, conc=[0.0003 0.0003] mM\n",
      "Parsing current_injection_info.\n",
      "Adding current injection to neuron 0: time = [ 0.    1.    1.    1.25  1.25 10.  ], current = [0.0e+00 0.0e+00 1.5e-10 1.5e-10 0.0e+00 0.0e+00], interpolate\n",
      "No input file given, not adding external input!\n",
      "0 : Memory status: 41% free\n",
      "0 : Memory status: 41% free\n",
      "Running simulation for 2000.0 ms.\n",
      "Running simulation for 2.0 s\n",
      "Running Neuron simulator 2000 ms, with dt=0.025\n",
      "  1% done. Elapsed: 1.7 s, estimated time left: 167.1 s\n",
      "  2% done. Elapsed: 3.4 s, estimated time left: 165.0 s\n",
      "  3% done. Elapsed: 4.9 s, estimated time left: 159.9 s\n",
      "  4% done. Elapsed: 6.5 s, estimated time left: 156.3 s\n",
      "  5% done. Elapsed: 8.1 s, estimated time left: 153.9 s\n",
      " 10% done. Elapsed: 16.0 s, estimated time left: 144.3 s\n",
      " 20% done. Elapsed: 32.3 s, estimated time left: 129.2 s\n",
      " 30% done. Elapsed: 48.2 s, estimated time left: 112.4 s\n",
      " 40% done. Elapsed: 64.1 s, estimated time left: 96.1 s\n",
      " 50% done. Elapsed: 79.9 s, estimated time left: 79.9 s\n",
      " 60% done. Elapsed: 95.5 s, estimated time left: 63.7 s\n",
      " 70% done. Elapsed: 111.7 s, estimated time left: 47.9 s\n",
      " 80% done. Elapsed: 127.7 s, estimated time left: 31.9 s\n",
      " 90% done. Elapsed: 144.2 s, estimated time left: 16.0 s\n",
      "100% done. Elapsed: 161.1 s, estimated time left: 0.0 s\n",
      "Neuron simulation finished\n",
      "Simulation done.\n",
      "Simulation run time: 162.7 s\n",
      "Simulation done, saving output\n",
      "Writing network output to networks/bevan_fig4_bath_subthresh_current_SBML/simulation/output_neuromodulation_ON.hdf5\n",
      "Using sample dt = None (sample step size None)\n",
      "Worker 1/1 writing data to networks/bevan_fig4_bath_subthresh_current_SBML/simulation/output_neuromodulation_ON.hdf5\n",
      "Program run time: 173.9s\n"
     ]
    },
    {
     "data": {
      "text/plain": [
       "0"
      ]
     },
     "execution_count": 5,
     "metadata": {},
     "output_type": "execute_result"
    }
   ],
   "source": [
    "os.system(run_str_on)"
   ]
  },
  {
   "cell_type": "code",
   "execution_count": 6,
   "id": "efebf00c-b6c1-48f3-86c0-8035cfb7f41a",
   "metadata": {},
   "outputs": [
    {
     "name": "stdout",
     "output_type": "stream",
     "text": [
      "snudda simulate networks/bevan_fig4_bath_subthresh_current_SBML --time 2 --simulation_config data/bevan_fig4_no_DA_sbml.json --mechdir /home/hjorth/HBP/BasalGangliaData/data/neurons/mechanisms --verbose\n"
     ]
    }
   ],
   "source": [
    "run_str_off = f\"snudda simulate {network_path} --time {sim_time} --simulation_config {sim_config_off} --mechdir {mech_dir} --verbose\"\n",
    "print(run_str_off)"
   ]
  },
  {
   "cell_type": "code",
   "execution_count": 7,
   "id": "a7016cf4-f45a-40fd-b065-83bcea58a0ba",
   "metadata": {},
   "outputs": [
    {
     "name": "stdout",
     "output_type": "stream",
     "text": [
      "numprocs=1\n",
      "args.ipython_profile = None\n",
      "args: Namespace(action='simulate', path='networks/bevan_fig4_bath_subthresh_current_SBML', network_file=None, input_file=None, output_file=None, time=2.0, snudda_data=None, simulation_config='data/bevan_fig4_no_DA_sbml.json', record_volt=True, randomseed=None, disable_synapses=None, disable_gj=None, mech_dir='/home/hjorth/HBP/BasalGangliaData/data/neurons/mechanisms', profile=False, verbose=True, exportCoreNeuron=False, record_all=None, enable_rxd_neuromodulation=None, disable_rxd_neuromodulation=None, ipython_profile=None)\n",
      "MPI Rank: 0, Size: 1\n",
      "Using input file None\n",
      "NEURON mechanisms already compiled, make sure you have the correct version of NEURON modules.\n",
      "If you delete x86_64, aarch64, arm64 directories (or nrnmech.dll) then you will force a recompilation of the modules.\n",
      "Reading SNUDDA_DATA=None from networks/bevan_fig4_bath_subthresh_current_SBML/network-config.json\n",
      "Reading SNUDDA_DATA=/home/hjorth/HBP/Snudda/snudda/data from networks/bevan_fig4_bath_subthresh_current_SBML/network-synapses.hdf5\n",
      "Warning: No external synaptic input file given!\n",
      "MPI Rank: 0, Size: 1 -- NEURON: This is node 0 out of 1\n",
      "Reading config: data/bevan_fig4_no_DA_sbml.json\n",
      "Loading simulation_config from data/bevan_fig4_no_DA_sbml.json\n",
      "Network path: networks/bevan_fig4_bath_subthresh_current_SBML/network-synapses.hdf5\n",
      "Using log file <_io.TextIOWrapper name='networks/bevan_fig4_bath_subthresh_current_SBML/log/network-simulation-OFF.txt' mode='w' encoding='UTF-8'>\n",
      "Network file: networks/bevan_fig4_bath_subthresh_current_SBML/network-synapses.hdf5\n",
      "Output file: networks/bevan_fig4_bath_subthresh_current_SBML/simulation/output_neuromodulation_OFF.hdf5\n",
      "Current injection file: data/bevan_current_injection_figure4_subthresh.json\n",
      "Using network_file: networks/bevan_fig4_bath_subthresh_current_SBML/network-synapses.hdf5\n",
      "Using input_file: None\n",
      "Using output_file: networks/bevan_fig4_bath_subthresh_current_SBML/simulation/output_neuromodulation_OFF.hdf5\n",
      "Using logFile: networks/bevan_fig4_bath_subthresh_current_SBML/log/network-simulation-OFF.txt\n",
      "Using conversion factor lookup for mod files: {'tauR': 1000.0, 'tauF': 1000.0, 'tau': 1000.0, 'tau1': 1000.0, 'tau2': 1000.0, 'tau1_ampa': 1000.0, 'tau2_ampa': 1000.0, 'tau1_nmda': 1000.0, 'tau2_nmda': 1000.0}\n",
      "Worker 0 : Loading network from networks/bevan_fig4_bath_subthresh_current_SBML/network-synapses.hdf5\n",
      "Loading config file networks/bevan_fig4_bath_subthresh_current_SBML/network-config.json\n",
      "0 : Memory status: 59% free\n",
      "Distributing neurons (#2).\n",
      "Worker 0 has real neurons real_neuron_id[r_idx] = array([0])\n",
      "virtual_neuron_id[v_idx] =array([], dtype=float64)\n",
      "RxD for neuromodulation: ENABLED.\n",
      "RxD extracellular not enabled.\n",
      "Setup neurons\n",
      "Node 0 - cell 0 dspn_0\n",
      "Neuron dspn_0 (0) resting voltage = -86.0\n",
      "!!! Popping extra segment from neuron -- temp fix!\n",
      "0 : Memory status: 59% free\n",
      "Adding gap junctions.\n",
      "connect_network_gap_junctions_local\n",
      "Finding node local gap junctions...\n",
      "Added 0.0 gap junctions to simulation (0 total)\n",
      "Adding synapses.\n",
      "connect_network_synapses\n",
      "Added 0 on worker 0\n",
      "Added 0 synapses to simulation (0 total)\n",
      "0 : Memory status: 59% free\n",
      "Recording all RxD species from neurons: [0, 1]\n",
      "Recording all RxD species from neurons: 0\n",
      "Recording all RxD species from neurons: 1\n",
      "Bath application t=[    0. 10000.]ms, conc=[2.e-05 2.e-05] mM\n",
      "Parsing current_injection_info.\n",
      "Adding current injection to neuron 0: time = [ 0.    1.    1.    1.25  1.25 10.  ], current = [0.0e+00 0.0e+00 1.5e-10 1.5e-10 0.0e+00 0.0e+00], interpolate\n",
      "No input file given, not adding external input!\n",
      "0 : Memory status: 59% free\n",
      "0 : Memory status: 59% free\n",
      "Running simulation for 2000.0 ms.\n",
      "Running simulation for 2.0 s\n",
      "Running Neuron simulator 2000 ms, with dt=0.025\n",
      "  1% done. Elapsed: 1.7 s, estimated time left: 168.3 s\n",
      "  2% done. Elapsed: 3.4 s, estimated time left: 167.5 s\n",
      "  3% done. Elapsed: 5.1 s, estimated time left: 164.3 s\n",
      "  4% done. Elapsed: 6.7 s, estimated time left: 161.3 s\n",
      "  5% done. Elapsed: 8.4 s, estimated time left: 158.9 s\n",
      " 10% done. Elapsed: 16.7 s, estimated time left: 150.5 s\n",
      " 20% done. Elapsed: 33.4 s, estimated time left: 133.8 s\n",
      " 30% done. Elapsed: 49.8 s, estimated time left: 116.2 s\n",
      " 40% done. Elapsed: 66.5 s, estimated time left: 99.8 s\n",
      " 50% done. Elapsed: 82.9 s, estimated time left: 82.9 s\n",
      " 60% done. Elapsed: 99.2 s, estimated time left: 66.2 s\n",
      " 70% done. Elapsed: 115.6 s, estimated time left: 49.6 s\n",
      " 80% done. Elapsed: 131.9 s, estimated time left: 33.0 s\n",
      " 90% done. Elapsed: 149.0 s, estimated time left: 16.6 s\n",
      "100% done. Elapsed: 165.7 s, estimated time left: 0.0 s\n",
      "Neuron simulation finished\n",
      "Simulation done.\n",
      "Simulation run time: 167.3 s\n",
      "Simulation done, saving output\n",
      "Writing network output to networks/bevan_fig4_bath_subthresh_current_SBML/simulation/output_neuromodulation_OFF.hdf5\n",
      "Using sample dt = None (sample step size None)\n",
      "Worker 1/1 writing data to networks/bevan_fig4_bath_subthresh_current_SBML/simulation/output_neuromodulation_OFF.hdf5\n",
      "Program run time: 173.9s\n"
     ]
    },
    {
     "data": {
      "text/plain": [
       "0"
      ]
     },
     "execution_count": 7,
     "metadata": {},
     "output_type": "execute_result"
    }
   ],
   "source": [
    "os.system(run_str_off)"
   ]
  },
  {
   "cell_type": "code",
   "execution_count": 8,
   "id": "f0881e2b-f88c-4c9b-a55f-dcf740b597c1",
   "metadata": {},
   "outputs": [
    {
     "name": "stdout",
     "output_type": "stream",
     "text": [
      "Loading networks/bevan_fig4_bath_subthresh_current_SBML/simulation/output_neuromodulation_ON.hdf5\n"
     ]
    }
   ],
   "source": [
    "from snudda.utils import SnuddaLoadSimulation\n",
    "\n",
    "nd = SnuddaLoadSimulation(sim_output_neuromodulation_ON)\n",
    "time = nd.get_time()\n",
    "data_pka = nd.get_data(\"PKAc\", 0)[0][0]\n",
    "data_da = nd.get_data(\"DA\", 0)[0][0]\n",
    "data_da_external = nd.get_data(\"DA\", 0)[0][0]\n",
    "\n",
    "# This is saved with add_rxd_internal_concentration_recording_all -- check that it worked \n",
    "data_pka_all0 = nd.get_data(\"PKAc\", 0)[0][0]"
   ]
  },
  {
   "cell_type": "code",
   "execution_count": 9,
   "id": "1d2f8568-239d-4d6d-98f0-60d421d24f0b",
   "metadata": {},
   "outputs": [
    {
     "data": {
      "text/plain": [
       "['AC5',\n",
       " 'AC5GaolfGTP',\n",
       " 'AC5GaolfGTP_ATP',\n",
       " 'AC5_ATP',\n",
       " 'AMP',\n",
       " 'ATP',\n",
       " 'D1R',\n",
       " 'D1RDA',\n",
       " 'D1RDAGolf',\n",
       " 'D1RGolf',\n",
       " 'DA',\n",
       " 'GaolfGDP',\n",
       " 'GaolfGTP',\n",
       " 'Gbgolf',\n",
       " 'Golf',\n",
       " 'PDE10',\n",
       " 'PDE10_cAMP',\n",
       " 'PDE10c',\n",
       " 'PDE10c_cAMP',\n",
       " 'PDE4',\n",
       " 'PDE4_cAMP',\n",
       " 'PKA',\n",
       " 'PKAc',\n",
       " 'PKAcAMP2',\n",
       " 'PKAcAMP4',\n",
       " 'PKAreg',\n",
       " 'cAMP',\n",
       " 'cal12_ms.modulation_factor',\n",
       " 'cal13_ms.modulation_factor',\n",
       " 'kaf_ms.modulation_factor_g',\n",
       " 'kaf_ms.modulation_factor_shift',\n",
       " 'kas_ms.modulation_factor',\n",
       " 'kir_ms.modulation_factor',\n",
       " 'naf_ms.modulation_factor',\n",
       " 'spikes',\n",
       " 'voltage']"
      ]
     },
     "execution_count": 9,
     "metadata": {},
     "output_type": "execute_result"
    }
   ],
   "source": [
    "nd.list_data_types(0)"
   ]
  },
  {
   "cell_type": "code",
   "execution_count": 10,
   "id": "fef42874-a1c0-4dc4-ab9c-77793be2c0c2",
   "metadata": {},
   "outputs": [],
   "source": [
    "data_types = nd.list_data_types(0)\n",
    "all_species_data = nd.get_all_data(neuron_id=0, exclude=[\"spikes\", \"voltage\"])\n",
    "time = nd.get_time()\n",
    "voltage = nd.get_data(\"voltage\", [0])"
   ]
  },
  {
   "cell_type": "code",
   "execution_count": 11,
   "id": "1fae24a1-fac5-453d-9e94-83cd50166e07",
   "metadata": {},
   "outputs": [
    {
     "data": {
      "text/html": [
       "<iframe\n",
       "    scrolling=\"no\"\n",
       "    width=\"100%\"\n",
       "    height=\"545px\"\n",
       "    src=\"iframe_figures/figure_11.html\"\n",
       "    frameborder=\"0\"\n",
       "    allowfullscreen\n",
       "></iframe>\n"
      ]
     },
     "metadata": {},
     "output_type": "display_data"
    }
   ],
   "source": [
    "import plotly.graph_objects as go\n",
    "import plotly.io as pio\n",
    "pio.renderers.default = \"iframe\"  # Do not save plots in the notebook, they can get BIG\n",
    "\n",
    "fig = go.Figure()\n",
    "for data_type in all_species_data:\n",
    "    idx = time >= 0.0\n",
    "    fig.add_trace(go.Scatter(x=time[idx], y=all_species_data[data_type][0][0].T[0][idx], name=data_type, line={\"width\":4}))\n",
    "\n",
    "\"\"\"\n",
    "fig.update_layout(xaxis_title=\"Time (s)\", yaxis_title=\"Concentration\", width=1000, height=800,\n",
    "                 font={\"size\":18},  # General font size for all elements\n",
    "                 legend={\"font\":{\"size\":16}},  # Specific font size for legend\n",
    "                 xaxis={\"title\":{\"font\":{\"size\":20}}, \"tickfont\":{\"size\":14}},  # X-axis title and tick labels\n",
    "                 yaxis={\"title\":{\"font\":{\"size\":20}}, \"tickfont\":{\"size\":14}})   # Y-axis title and tick labels\n",
    "\"\"\"\n",
    "fig.show()"
   ]
  },
  {
   "cell_type": "code",
   "execution_count": 13,
   "id": "8a709771-fd02-4712-9b4e-d57e49a737fc",
   "metadata": {},
   "outputs": [
    {
     "data": {
      "text/html": [
       "<iframe\n",
       "    scrolling=\"no\"\n",
       "    width=\"1020px\"\n",
       "    height=\"820\"\n",
       "    src=\"iframe_figures/figure_13.html\"\n",
       "    frameborder=\"0\"\n",
       "    allowfullscreen\n",
       "></iframe>\n"
      ]
     },
     "metadata": {},
     "output_type": "display_data"
    },
    {
     "ename": "KeyError",
     "evalue": "'sk_ms.modulation_factor'",
     "output_type": "error",
     "traceback": [
      "\u001b[0;31m---------------------------------------------------------------------------\u001b[0m",
      "\u001b[0;31mKeyError\u001b[0m                                  Traceback (most recent call last)",
      "Cell \u001b[0;32mIn[13], line 31\u001b[0m\n\u001b[1;32m     29\u001b[0m     idx \u001b[38;5;241m=\u001b[39m time \u001b[38;5;241m>\u001b[39m\u001b[38;5;241m=\u001b[39m \u001b[38;5;241m0.0\u001b[39m\n\u001b[1;32m     30\u001b[0m     data_type_str \u001b[38;5;241m=\u001b[39m data_type\u001b[38;5;241m.\u001b[39mreplace(\u001b[38;5;124m\"\u001b[39m\u001b[38;5;124mmodulation_factor\u001b[39m\u001b[38;5;124m\"\u001b[39m, \u001b[38;5;124m\"\u001b[39m\u001b[38;5;124mmodulation\u001b[39m\u001b[38;5;124m\"\u001b[39m)\n\u001b[0;32m---> 31\u001b[0m     fig2\u001b[38;5;241m.\u001b[39madd_trace(go\u001b[38;5;241m.\u001b[39mScatter(x\u001b[38;5;241m=\u001b[39mtime[idx], y\u001b[38;5;241m=\u001b[39m\u001b[43mall_species_data\u001b[49m\u001b[43m[\u001b[49m\u001b[43mdata_type\u001b[49m\u001b[43m]\u001b[49m[\u001b[38;5;241m0\u001b[39m][\u001b[38;5;241m0\u001b[39m]\u001b[38;5;241m.\u001b[39mT[\u001b[38;5;241m0\u001b[39m][idx], name\u001b[38;5;241m=\u001b[39mdata_type_str, line\u001b[38;5;241m=\u001b[39m{\u001b[38;5;124m\"\u001b[39m\u001b[38;5;124mwidth\u001b[39m\u001b[38;5;124m\"\u001b[39m:\u001b[38;5;241m4\u001b[39m}))\n\u001b[1;32m     33\u001b[0m fig2\u001b[38;5;241m.\u001b[39mupdate_layout(xaxis_title\u001b[38;5;241m=\u001b[39m\u001b[38;5;124m\"\u001b[39m\u001b[38;5;124mTime (s)\u001b[39m\u001b[38;5;124m\"\u001b[39m, yaxis_title\u001b[38;5;241m=\u001b[39m\u001b[38;5;124m\"\u001b[39m\u001b[38;5;124mModulation factor\u001b[39m\u001b[38;5;124m\"\u001b[39m, width\u001b[38;5;241m=\u001b[39m\u001b[38;5;241m1000\u001b[39m, height\u001b[38;5;241m=\u001b[39m\u001b[38;5;241m800\u001b[39m,\n\u001b[1;32m     34\u001b[0m                   font\u001b[38;5;241m=\u001b[39m{\u001b[38;5;124m\"\u001b[39m\u001b[38;5;124msize\u001b[39m\u001b[38;5;124m\"\u001b[39m:\u001b[38;5;241m18\u001b[39m},  \u001b[38;5;66;03m# General font size for all elements\u001b[39;00m\n\u001b[1;32m     35\u001b[0m                   legend\u001b[38;5;241m=\u001b[39m{\u001b[38;5;124m\"\u001b[39m\u001b[38;5;124mfont\u001b[39m\u001b[38;5;124m\"\u001b[39m:{\u001b[38;5;124m\"\u001b[39m\u001b[38;5;124msize\u001b[39m\u001b[38;5;124m\"\u001b[39m:\u001b[38;5;241m50\u001b[39m}},  \u001b[38;5;66;03m# Specific font size for legend\u001b[39;00m\n\u001b[1;32m     36\u001b[0m                   xaxis\u001b[38;5;241m=\u001b[39m{\u001b[38;5;124m\"\u001b[39m\u001b[38;5;124mtitle\u001b[39m\u001b[38;5;124m\"\u001b[39m:{\u001b[38;5;124m\"\u001b[39m\u001b[38;5;124mfont\u001b[39m\u001b[38;5;124m\"\u001b[39m:{\u001b[38;5;124m\"\u001b[39m\u001b[38;5;124msize\u001b[39m\u001b[38;5;124m\"\u001b[39m:\u001b[38;5;241m40\u001b[39m}}, \u001b[38;5;124m\"\u001b[39m\u001b[38;5;124mtickfont\u001b[39m\u001b[38;5;124m\"\u001b[39m:{\u001b[38;5;124m\"\u001b[39m\u001b[38;5;124msize\u001b[39m\u001b[38;5;124m\"\u001b[39m:\u001b[38;5;241m30\u001b[39m}},  \u001b[38;5;66;03m# X-axis title and tick labels\u001b[39;00m\n\u001b[1;32m     37\u001b[0m                   yaxis\u001b[38;5;241m=\u001b[39m{\u001b[38;5;124m\"\u001b[39m\u001b[38;5;124mtitle\u001b[39m\u001b[38;5;124m\"\u001b[39m:{\u001b[38;5;124m\"\u001b[39m\u001b[38;5;124mfont\u001b[39m\u001b[38;5;124m\"\u001b[39m:{\u001b[38;5;124m\"\u001b[39m\u001b[38;5;124msize\u001b[39m\u001b[38;5;124m\"\u001b[39m:\u001b[38;5;241m40\u001b[39m}}, \u001b[38;5;124m\"\u001b[39m\u001b[38;5;124mtickfont\u001b[39m\u001b[38;5;124m\"\u001b[39m:{\u001b[38;5;124m\"\u001b[39m\u001b[38;5;124msize\u001b[39m\u001b[38;5;124m\"\u001b[39m:\u001b[38;5;241m30\u001b[39m}})   \u001b[38;5;66;03m# Y-axis title and tick labels\u001b[39;00m\n\u001b[1;32m     39\u001b[0m fig2\u001b[38;5;241m.\u001b[39mshow()\n",
      "\u001b[0;31mKeyError\u001b[0m: 'sk_ms.modulation_factor'"
     ]
    }
   ],
   "source": [
    "# Reporting plot\n",
    "\n",
    "import plotly.graph_objects as go\n",
    "import plotly.io as pio\n",
    "pio.renderers.default = \"iframe\"  # Do not save plots in the notebook, they can get BIG\n",
    "\n",
    "fig = go.Figure()\n",
    "for data_type in [\"D1RDA\", \"PKAc\", \"cAMP\"]: #all_species_data:\n",
    "    idx = time >= 0.0\n",
    "    fig.add_trace(go.Scatter(x=time[idx], y=all_species_data[data_type][0][0].T[0][idx], name=data_type, line={\"width\":4}))\n",
    "\n",
    "fig.update_layout(xaxis_title=\"Time (s)\", yaxis_title=\"Concentration\", width=1000, height=800,\n",
    "                  font={\"size\":18},  # General font size for all elements\n",
    "                  legend={\"font\":{\"size\":50}},  # Specific font size for legend\n",
    "                  xaxis={\"title\":{\"font\":{\"size\":40}}, \"tickfont\":{\"size\":30}},  # X-axis title and tick labels\n",
    "                  yaxis={\"title\":{\"font\":{\"size\":40}}, \"tickfont\":{\"size\":30}})   # Y-axis title and tick labels\n",
    "\n",
    "\n",
    "fig.show()\n",
    "\n",
    "fig.write_image(\"bevan_4-example-da-cascade-1.png\", width=1200, height=800)\n",
    "\n",
    "\n",
    "fig2 = go.Figure()\n",
    "for data_type in [\"cal12_ms.modulation_factor\", \"cal13_ms.modulation_factor\", \n",
    "                  \"kas_ms.modulation_factor\", \"kaf_ms.modulation_factor_g\", \"kaf_ms.modulation_factor_shift\", \n",
    "                  \"naf_ms.modulation_factor\", \n",
    "                 \"sk_ms.modulation_factor\", \"car_ms.modulation_factor\", ]: #all_species_data:\n",
    "    idx = time >= 0.0\n",
    "    data_type_str = data_type.replace(\"modulation_factor\", \"modulation\")\n",
    "    fig2.add_trace(go.Scatter(x=time[idx], y=all_species_data[data_type][0][0].T[0][idx], name=data_type_str, line={\"width\":4}))\n",
    "\n",
    "fig2.update_layout(xaxis_title=\"Time (s)\", yaxis_title=\"Modulation factor\", width=1000, height=800,\n",
    "                  font={\"size\":18},  # General font size for all elements\n",
    "                  legend={\"font\":{\"size\":50}},  # Specific font size for legend\n",
    "                  xaxis={\"title\":{\"font\":{\"size\":40}}, \"tickfont\":{\"size\":30}},  # X-axis title and tick labels\n",
    "                  yaxis={\"title\":{\"font\":{\"size\":40}}, \"tickfont\":{\"size\":30}})   # Y-axis title and tick labels\n",
    "\n",
    "fig2.show()\n",
    "fig2.write_image(\"bevan_fig4_biochem.png\", width=1200, height=800)\n",
    "\n",
    "nd = None"
   ]
  },
  {
   "cell_type": "code",
   "execution_count": 14,
   "id": "e09b1fcd-375f-428d-8832-5dc9167b4dfa",
   "metadata": {},
   "outputs": [
    {
     "name": "stdout",
     "output_type": "stream",
     "text": [
      "Loading networks/bevan_fig4_bath_subthresh_current_SBML/simulation/output_neuromodulation_ON.hdf5\n"
     ]
    }
   ],
   "source": [
    "from snudda.utils import SnuddaLoadSimulation\n",
    "\n",
    "nd_on = SnuddaLoadSimulation(sim_output_neuromodulation_ON)\n",
    "data_types = nd_on.list_data_types(0)\n",
    "all_species_data = nd_on.get_all_data(neuron_id=0, exclude=[\"spikes\", \"voltage\"])\n",
    "time_on = nd_on.get_time()\n",
    "voltage_on = nd_on.get_data(\"voltage\")"
   ]
  },
  {
   "cell_type": "code",
   "execution_count": 15,
   "id": "ae39b75f-6fae-4f48-84ec-6dc23aea3d82",
   "metadata": {},
   "outputs": [
    {
     "name": "stdout",
     "output_type": "stream",
     "text": [
      "Loading networks/bevan_fig4_bath_subthresh_current_SBML/simulation/output_neuromodulation_OFF.hdf5\n"
     ]
    }
   ],
   "source": [
    "nd_off = SnuddaLoadSimulation(sim_output_neuromodulation_OFF)\n",
    "time_off = nd_off.get_time()\n",
    "voltage_off = nd_off.get_data(\"voltage\")"
   ]
  },
  {
   "cell_type": "code",
   "execution_count": 16,
   "id": "73046f3f-8c22-4c7a-8228-b2f7e479e1c6",
   "metadata": {},
   "outputs": [
    {
     "data": {
      "text/plain": [
       "{0: array([[-0.086     , -0.086     ],\n",
       "        [-0.08614558, -0.08614558],\n",
       "        [-0.08623902, -0.08623902],\n",
       "        ...,\n",
       "        [-0.09108087, -0.09108087],\n",
       "        [-0.09108087, -0.09108087],\n",
       "        [-0.09108087, -0.09108087]])}"
      ]
     },
     "execution_count": 16,
     "metadata": {},
     "output_type": "execute_result"
    }
   ],
   "source": [
    "voltage_off[0]"
   ]
  },
  {
   "cell_type": "code",
   "execution_count": 17,
   "id": "b4f59bee-20cd-4713-8590-66aefb218f75",
   "metadata": {},
   "outputs": [
    {
     "data": {
      "text/html": [
       "<iframe\n",
       "    scrolling=\"no\"\n",
       "    width=\"1020px\"\n",
       "    height=\"820\"\n",
       "    src=\"iframe_figures/figure_17.html\"\n",
       "    frameborder=\"0\"\n",
       "    allowfullscreen\n",
       "></iframe>\n"
      ]
     },
     "metadata": {},
     "output_type": "display_data"
    }
   ],
   "source": [
    "import plotly.graph_objects as go\n",
    "import plotly.io as pio\n",
    "pio.renderers.default = \"iframe\"  # Do not save plots in the notebook, they can get BIG\n",
    "\n",
    "\n",
    "for neuron_id in voltage_on[0].keys():\n",
    "    \n",
    "    fig = go.Figure()\n",
    "    \n",
    "    sct_on = go.Scatter(x=time_on, y=voltage_on[0][neuron_id][:,0], name=\"DA\", opacity=0.5,  line={\"width\":4, \"color\":\"red\"})\n",
    "    sct_off = go.Scatter(x=time_off, y=voltage_off[0][neuron_id][:,0], name=\"No DA\", opacity=0.5,  line={\"width\":4, \"color\":\"black\"})\n",
    "    fig.add_traces([sct_on, sct_off])\n",
    "    \n",
    "    fig.update_layout(xaxis_title=\"Time (s)\", yaxis_title=\"Voltage (V)\", width=1000, height=800,\n",
    "                      font={\"size\":18},  # General font size for all elements\n",
    "                      legend={\"font\":{\"size\":50}},  # Specific font size for legend\n",
    "                      xaxis={\"title\":{\"font\":{\"size\":40}}, \"tickfont\":{\"size\":30}, \"range\":[0,3]},  # X-axis title and tick labels\n",
    "                      yaxis={\"title\":{\"font\":{\"size\":40}}, \"tickfont\":{\"size\":30}})   # Y-axis title and tick labels\n",
    "    fig.show()\n",
    "    fig.write_image(f\"bevan-figure4-{neuron_id}-volt-trace-subtresh.png\", scale=2, height=800, width=1200)"
   ]
  },
  {
   "cell_type": "code",
   "execution_count": 22,
   "id": "2446d96a-30f5-4d22-8f74-c58cc3e75c78",
   "metadata": {},
   "outputs": [],
   "source": [
    "fig.write_image(f\"bevan-figure4.png\", scale=2, height=800, width=1200)"
   ]
  },
  {
   "cell_type": "code",
   "execution_count": null,
   "id": "0909f4f7-417d-428d-a336-b0275f18b0c2",
   "metadata": {},
   "outputs": [],
   "source": []
  },
  {
   "cell_type": "markdown",
   "id": "a02d3ecb-cd6d-470d-bf4a-d598bb9e9d5c",
   "metadata": {},
   "source": [
    "## Experiment 2\n",
    "\n",
    "Can we show persistence for 15 minutes? (Compare Figure 2)"
   ]
  },
  {
   "cell_type": "code",
   "execution_count": null,
   "id": "77c9fb7e-178a-4238-86f4-71ef3d9b3c4b",
   "metadata": {},
   "outputs": [],
   "source": []
  },
  {
   "cell_type": "markdown",
   "id": "6c3813bd-b192-42f9-9f80-dd2cadce385d",
   "metadata": {},
   "source": [
    "## Experiment 3\n",
    "\n",
    "Current injection for 3 seconds, trigger 2 (4) spikes in dSPN. After DA application (1 second, 0.5u M) spikes come earlier and at a higher frequency.\n",
    "\n",
    "Compare Figure 4 B, C, D"
   ]
  },
  {
   "cell_type": "code",
   "execution_count": null,
   "id": "4d9a8043-ea3a-4b3b-9aa0-ba1314660f99",
   "metadata": {},
   "outputs": [],
   "source": []
  },
  {
   "cell_type": "markdown",
   "id": "161b3754-821f-4311-adbc-2ae15d42c926",
   "metadata": {},
   "source": [
    "## Experiment 4\n",
    "\n",
    "Subthreshold current injection (<10 mV depolarisation). Size of depolarisation not affected by DA.\n",
    "\n",
    "Suprathreshold current injection, with DA lower threshold, and faster spiking.\n",
    "\n",
    "Compare Figure 5"
   ]
  },
  {
   "cell_type": "code",
   "execution_count": null,
   "id": "e5f7d5a2-329f-4704-aa88-917dbfc86408",
   "metadata": {},
   "outputs": [],
   "source": [
    "\n"
   ]
  },
  {
   "cell_type": "code",
   "execution_count": null,
   "id": "413a1e94-c144-4fd7-bdc7-f2ef4b3cf54a",
   "metadata": {},
   "outputs": [],
   "source": [
    "Experiment 5\n",
    "\n",
    "Compare Figure 6"
   ]
  }
 ],
 "metadata": {
  "kernelspec": {
   "display_name": "Python 3 (ipykernel)",
   "language": "python",
   "name": "python3"
  },
  "language_info": {
   "codemirror_mode": {
    "name": "ipython",
    "version": 3
   },
   "file_extension": ".py",
   "mimetype": "text/x-python",
   "name": "python",
   "nbconvert_exporter": "python",
   "pygments_lexer": "ipython3",
   "version": "3.9.2"
  }
 },
 "nbformat": 4,
 "nbformat_minor": 5
}
