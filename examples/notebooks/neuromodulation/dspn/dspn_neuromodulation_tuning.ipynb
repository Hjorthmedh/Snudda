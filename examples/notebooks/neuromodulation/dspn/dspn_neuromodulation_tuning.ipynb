{
 "cells": [
  {
   "cell_type": "markdown",
   "id": "d4c170ea-f2de-419b-b3f7-f30b34e1505a",
   "metadata": {},
   "source": [
    "# Tuning of dSPN neuromodulation\n",
    "\n",
    "## Setup network with dSPN population\n",
    "Create a network of disconnected dSPN neurons where each morphology key / parameter key combination is represented.\n",
    "\n",
    "Here we use the ```setup_network``` function in InputTuning to create the network."
   ]
  },
  {
   "cell_type": "code",
   "execution_count": null,
   "id": "91b3ba92-f929-4386-b4e4-d0e881758703",
   "metadata": {},
   "outputs": [],
   "source": [
    "import os\n",
    "from snudda.input.input_tuning import InputTuning\n",
    "\n",
    "snudda_data = \"../../../../../BasalGangliaData/data/\"\n",
    "network_path = os.path.join(\"..\", \"networks\", \"dspn_modulation\")\n",
    "input_tuning = InputTuning(network_path, snudda_data=snudda_data)\n",
    "\n",
    "#neurons_path = os.path.join(\"$DATA\", \"neurons\", \"striatum\")\n",
    "neurons_path = os.path.join(\"..\", \"data\")\n",
    "\n",
    "input_tuning.setup_network(neurons_path=neurons_path, \n",
    "                           num_replicas=2,\n",
    "                           neuron_types=\"dspn\")\n",
    "input_tuning = None"
   ]
  },
  {
   "cell_type": "markdown",
   "id": "907b3cdc-008a-470a-9c18-b673947a5ee2",
   "metadata": {},
   "source": [
    "## Generate synaptic input for the neuron population\n",
    "\n",
    "Setup glutamate input, and GABA input. Also generate dopamine input.\n",
    "\n",
    "| time (s) | glutamate (Hz) | GABA (Hz) | DA (Hz) |\n",
    "| --- | --- | --- | --- |\n",
    "| 1 - 3 | 10 | 5 | 0 |\n",
    "| 5 - 7 | 10 | 5 | 5 |\n",
    "| 9 - 11 | 10 | 5 | 10 |"
   ]
  },
  {
   "cell_type": "code",
   "execution_count": null,
   "id": "ede302ac-ba27-4fee-9a86-db7081d00bc4",
   "metadata": {
    "scrolled": true
   },
   "outputs": [],
   "source": [
    "from snudda import Snudda\n",
    "snd = Snudda(network_path=network_path)\n",
    "snd.setup_input(input_config=\"input.json\")"
   ]
  },
  {
   "cell_type": "markdown",
   "id": "d0ad4a94-2043-4ea2-9a9c-e980870254d5",
   "metadata": {},
   "source": [
    "## Simulate"
   ]
  },
  {
   "cell_type": "code",
   "execution_count": null,
   "id": "df61067c-9fc0-4d7f-99ab-79f1ed31384b",
   "metadata": {},
   "outputs": [],
   "source": [
    "duration = 0.11\n",
    "os.system(f\"mpirun -n 6 snudda simulate {network_path} --time {duration}\")"
   ]
  },
  {
   "cell_type": "markdown",
   "id": "c1d060c0-8250-4dd3-a243-e03a59d2b781",
   "metadata": {},
   "source": [
    "## Plot PKA level"
   ]
  },
  {
   "cell_type": "markdown",
   "id": "9bd68bbe-4152-42c6-94d8-e9efc1cab0a5",
   "metadata": {},
   "source": [
    "## Determine parameters:\n",
    "\n",
    "KIR: ```mod_pka_g_min```, ```mod_pka_g_max```, ```mod_pka_g_half```, ```mod_pka_g_slope```\n",
    "\n",
    "Kaf: ```mod_pka_g_min```, ```mod_pka_g_max```, ```mod_pka_g_half```, ```mod_pka_g_slope```, ```mod_pka_shift_min```, ```mod_pka_shift_max```, ```mod_pka_shift_half```, ```mod_pka_shift_slope```\n"
   ]
  },
  {
   "cell_type": "markdown",
   "id": "f6b32b68-fa7f-43c0-bf33-9c4420995c4e",
   "metadata": {},
   "source": [
    "## Plot the PKA activation curves"
   ]
  },
  {
   "cell_type": "code",
   "execution_count": null,
   "id": "9f0ff623-0d4e-4cd1-95c0-4092b3ba4f7b",
   "metadata": {},
   "outputs": [],
   "source": []
  }
 ],
 "metadata": {
  "kernelspec": {
   "display_name": "Python 3 (ipykernel)",
   "language": "python",
   "name": "python3"
  },
  "language_info": {
   "codemirror_mode": {
    "name": "ipython",
    "version": 3
   },
   "file_extension": ".py",
   "mimetype": "text/x-python",
   "name": "python",
   "nbconvert_exporter": "python",
   "pygments_lexer": "ipython3",
   "version": "3.9.2"
  }
 },
 "nbformat": 4,
 "nbformat_minor": 5
}
