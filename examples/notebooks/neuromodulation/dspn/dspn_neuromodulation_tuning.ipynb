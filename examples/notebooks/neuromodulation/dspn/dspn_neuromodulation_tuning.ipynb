{
 "cells": [
  {
   "cell_type": "markdown",
   "id": "d4c170ea-f2de-419b-b3f7-f30b34e1505a",
   "metadata": {},
   "source": [
    "# Tuning of dSPN neuromodulation\n",
    "\n",
    "## Setup network with dSPN population\n",
    "Create a network of disconnected dSPN neurons where each morphology key / parameter key combination is represented.\n",
    "\n",
    "Here we use the ```setup_network``` function in InputTuning to create the network."
   ]
  },
  {
   "cell_type": "code",
   "execution_count": 1,
   "id": "ac751b7f-1198-4f73-b605-f45031d16828",
   "metadata": {
    "scrolled": true
   },
   "outputs": [
    {
     "name": "stdout",
     "output_type": "stream",
     "text": [
      "Found 1 neuron models in ../data/dspn\n",
      "Skipping neuron type SBML\n",
      "Skipping neuron type dspn_rxd\n",
      "Skipping neuron type dspn_no_rxd\n",
      "Skipping neuron type mechanisms\n",
      "Skipping neuron type JSON\n",
      "Writing network config file to ../networks/dspn_modulation/network-config.json\n",
      "Reading SNUDDA_DATA=../../../../../BasalGangliaData/data/ from ../networks/dspn_modulation/network-config.json\n",
      "Generating 10928 points for data/mesh/InputTestMesh.obj\n",
      "Filtering, keeping inside points: 9341 / 10217\n",
      "neuron_name = 'str_dspn_e150602_c1_D1_mWT_0728MSN01_v20211026', num = 1, neuron_path = '../data/dspn/str-dspn-e150602_c1_D1-mWT-0728MSN01-v20211026'\n",
      "Reading SNUDDA_DATA=../../../../../BasalGangliaData/data/ from ../networks/dspn_modulation/network-config.json\n",
      "No d_view specified, running distribute neurons in serial\n",
      "No connections specified in connectivity_distribution.\n",
      "No file ../networks/dspn_modulation/pruning_merge_info.json\n"
     ]
    }
   ],
   "source": [
    "import os\n",
    "from snudda.input.input_tuning import InputTuning\n",
    "\n",
    "snudda_data = \"../../../../../BasalGangliaData/data/\"\n",
    "network_path = os.path.join(\"..\", \"networks\", \"dspn_modulation\")\n",
    "input_tuning = InputTuning(network_path, snudda_data=snudda_data)\n",
    "\n",
    "#neurons_path = os.path.join(\"$DATA\", \"neurons\", \"striatum\")\n",
    "neurons_path = os.path.join(\"..\", \"data\")\n",
    "\n",
    "input_tuning.setup_network(neurons_path=neurons_path, \n",
    "                           num_replicas=1,\n",
    "                           neuron_types=\"dspn\",\n",
    "                           reaction_diffusion_file=\"../data/JSON/robert_reaction_diffusion.json\",\n",
    "                           morphology_key=\"m22be6817\",\n",
    "                           network_random_seed=1234)\n",
    "input_tuning = None"
   ]
  },
  {
   "cell_type": "markdown",
   "id": "907b3cdc-008a-470a-9c18-b673947a5ee2",
   "metadata": {},
   "source": [
    "## Generate synaptic input for the neuron population\n",
    "\n",
    "Setup glutamate input, and GABA input. Also generate dopamine input.\n",
    "\n",
    "| time (s) | glutamate (Hz) | GABA (Hz) | DA (Hz) |\n",
    "| --- | --- | --- | --- |\n",
    "| 1 - 3 | 10 | 5 | 0 |\n",
    "| 5 - 7 | 10 | 5 | 5 |\n",
    "| 9 - 11 | 10 | 5 | 10 |"
   ]
  },
  {
   "cell_type": "code",
   "execution_count": 2,
   "id": "ede302ac-ba27-4fee-9a86-db7081d00bc4",
   "metadata": {
    "scrolled": true
   },
   "outputs": [
    {
     "name": "stdout",
     "output_type": "stream",
     "text": [
      "Setting up inputs, assuming input.json exists\n",
      "Reading SNUDDA_DATA=../../../../../BasalGangliaData/data/ from ../networks/dspn_modulation/network-config.json\n",
      "Writing input spikes to ../networks/dspn_modulation/input-spikes.hdf5\n",
      "Reading SNUDDA_DATA=../../../../../BasalGangliaData/data/ from ../networks/dspn_modulation/network-config.json\n",
      "Writing spikes to ../networks/dspn_modulation/input-spikes.hdf5\n",
      "stop_parallel disabled, to keep pool running.\n",
      "\n",
      "Execution time: 0.1s\n"
     ]
    },
    {
     "data": {
      "text/plain": [
       "<snudda.input.input.SnuddaInput at 0xffff84677fa0>"
      ]
     },
     "execution_count": 2,
     "metadata": {},
     "output_type": "execute_result"
    }
   ],
   "source": [
    "from snudda import Snudda\n",
    "snd = Snudda(network_path=network_path)\n",
    "snd.setup_input(input_config=\"input.json\")"
   ]
  },
  {
   "cell_type": "markdown",
   "id": "d0ad4a94-2043-4ea2-9a9c-e980870254d5",
   "metadata": {},
   "source": [
    "## Simulate"
   ]
  },
  {
   "cell_type": "code",
   "execution_count": 3,
   "id": "df61067c-9fc0-4d7f-99ab-79f1ed31384b",
   "metadata": {},
   "outputs": [
    {
     "name": "stdout",
     "output_type": "stream",
     "text": [
      "mpirun -n 6 snudda simulate ../networks/dspn_modulation --time 11 --simulation_config dspn_experiment_config.json\n"
     ]
    }
   ],
   "source": [
    "duration = 11 # 4.5\n",
    "simulation_config = \"dspn_experiment_config.json\"\n",
    "exec_cmd = f\"mpirun -n 6 snudda simulate {network_path} --time {duration} --simulation_config {simulation_config}\" \n",
    "print(exec_cmd)\n",
    "# os.system(exec_cmd)"
   ]
  },
  {
   "cell_type": "markdown",
   "id": "c1d060c0-8250-4dd3-a243-e03a59d2b781",
   "metadata": {},
   "source": [
    "## Plot PKA level"
   ]
  },
  {
   "cell_type": "markdown",
   "id": "9bd68bbe-4152-42c6-94d8-e9efc1cab0a5",
   "metadata": {},
   "source": [
    "## Determine parameters:\n",
    "\n",
    "KIR: ```mod_pka_g_min```, ```mod_pka_g_max```, ```mod_pka_g_half```, ```mod_pka_g_slope```\n",
    "\n",
    "Kaf: ```mod_pka_g_min```, ```mod_pka_g_max```, ```mod_pka_g_half```, ```mod_pka_g_slope```, ```mod_pka_shift_min```, ```mod_pka_shift_max```, ```mod_pka_shift_half```, ```mod_pka_shift_slope```\n"
   ]
  },
  {
   "cell_type": "markdown",
   "id": "f6b32b68-fa7f-43c0-bf33-9c4420995c4e",
   "metadata": {},
   "source": [
    "## Plot the PKA activation curves"
   ]
  },
  {
   "cell_type": "code",
   "execution_count": null,
   "id": "9f0ff623-0d4e-4cd1-95c0-4092b3ba4f7b",
   "metadata": {},
   "outputs": [],
   "source": [
    "from snudda.utils import SnuddaLoadSimulation\n",
    "\n",
    "output_file = os.path.join(network_path, \"simulation\", \"dspn-output.hdf5\")\n",
    "nd = SnuddaLoadSimulation(output_file)\n",
    "time = nd.get_time()\n",
    "data_pka = nd.get_data(\"PKA\", 0)[0][0]\n",
    "data_da = nd.get_data(\"DA\", 0)[0][0]"
   ]
  },
  {
   "cell_type": "code",
   "execution_count": null,
   "id": "787c874a-1eb3-4ae1-90b2-027bad46ba85",
   "metadata": {},
   "outputs": [],
   "source": [
    "import matplotlib.pyplot as plt\n",
    "plt.figure()\n",
    "plt.plot(time, data_da, label=\"DA\")\n",
    "plt.xlabel(\"Time (s)\")\n",
    "plt.ylabel(\"Concentration\")\n",
    "# plt.legend()\n",
    "plt.title(\"DA\")\n",
    "plt.show()"
   ]
  },
  {
   "cell_type": "code",
   "execution_count": null,
   "id": "ff187fa9-6ef5-4d47-a64a-7390865ccf59",
   "metadata": {},
   "outputs": [],
   "source": [
    "import matplotlib.pyplot as plt\n",
    "plt.figure()\n",
    "plt.plot(time, data_pka, label=\"PKA\")\n",
    "plt.xlabel(\"Time (s)\")\n",
    "plt.ylabel(\"Concentration\")\n",
    "# plt.legend()\n",
    "plt.title(\"PKA\")\n",
    "plt.show()"
   ]
  },
  {
   "cell_type": "code",
   "execution_count": null,
   "id": "c22ae2e9-f355-4bc2-911a-04052676e2e3",
   "metadata": {},
   "outputs": [],
   "source": []
  }
 ],
 "metadata": {
  "kernelspec": {
   "display_name": "Python 3 (ipykernel)",
   "language": "python",
   "name": "python3"
  },
  "language_info": {
   "codemirror_mode": {
    "name": "ipython",
    "version": 3
   },
   "file_extension": ".py",
   "mimetype": "text/x-python",
   "name": "python",
   "nbconvert_exporter": "python",
   "pygments_lexer": "ipython3",
   "version": "3.9.2"
  }
 },
 "nbformat": 4,
 "nbformat_minor": 5
}
