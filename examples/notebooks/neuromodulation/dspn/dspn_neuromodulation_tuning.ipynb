{
 "cells": [
  {
   "cell_type": "markdown",
   "id": "d4c170ea-f2de-419b-b3f7-f30b34e1505a",
   "metadata": {},
   "source": [
    "# Tuning of dSPN neuromodulation\n",
    "\n",
    "## Setup network with dSPN population\n",
    "Create a network of disconnected dSPN neurons where each morphology key / parameter key combination is represented.\n",
    "\n",
    "Here we use the ```setup_network``` function in InputTuning to create the network."
   ]
  },
  {
   "cell_type": "code",
   "execution_count": 1,
   "id": "ac751b7f-1198-4f73-b605-f45031d16828",
   "metadata": {
    "scrolled": true
   },
   "outputs": [
    {
     "name": "stdout",
     "output_type": "stream",
     "text": [
      "Found 51 neuron models in ../data/dspn\n",
      "Skipping neuron type SBML\n",
      "Skipping neuron type dspn_rxd\n",
      "Skipping neuron type dspn_no_rxd\n",
      "Skipping neuron type mechanisms\n",
      "Skipping neuron type JSON\n",
      "Writing network config file to ../networks/dspn_modulation/network-config.json\n",
      "Reading SNUDDA_DATA=../../../../../BasalGangliaData/data/ from ../networks/dspn_modulation/network-config.json\n",
      "Generating 10928 points for data/mesh/InputTestMesh.obj\n",
      "Filtering, keeping inside points: 9341 / 10217\n",
      "neuron_name = 'dspn_str_dspn_e_p1863c9a5_m22be6817', num = 1, neuron_path = '../data/dspn/str-dspn-e150602_c1_D1-mWT-0728MSN01-v20211026'\n",
      "neuron_name = 'dspn_str_dspn_e_p1863c9a5_m37886c78', num = 1, neuron_path = '../data/dspn/str-dspn-e150602_c1_D1-mWT-0728MSN01-v20211026'\n",
      "neuron_name = 'dspn_str_dspn_e_p1863c9a5_mc710c1a4', num = 1, neuron_path = '../data/dspn/str-dspn-e150602_c1_D1-mWT-0728MSN01-v20211026'\n",
      "neuron_name = 'dspn_str_dspn_e_p1863c9a5_mf702205f', num = 1, neuron_path = '../data/dspn/str-dspn-e150602_c1_D1-mWT-0728MSN01-v20211026'\n",
      "neuron_name = 'dspn_str_dspn_e_p510bab86_m22be6817', num = 1, neuron_path = '../data/dspn/str-dspn-e150602_c1_D1-mWT-0728MSN01-v20211026'\n",
      "neuron_name = 'dspn_str_dspn_e_p510bab86_m37886c78', num = 1, neuron_path = '../data/dspn/str-dspn-e150602_c1_D1-mWT-0728MSN01-v20211026'\n",
      "neuron_name = 'dspn_str_dspn_e_p510bab86_mbb8e5b24', num = 1, neuron_path = '../data/dspn/str-dspn-e150602_c1_D1-mWT-0728MSN01-v20211026'\n",
      "neuron_name = 'dspn_str_dspn_e_p510bab86_mc710c1a4', num = 1, neuron_path = '../data/dspn/str-dspn-e150602_c1_D1-mWT-0728MSN01-v20211026'\n",
      "neuron_name = 'dspn_str_dspn_e_p510bab86_mf702205f', num = 1, neuron_path = '../data/dspn/str-dspn-e150602_c1_D1-mWT-0728MSN01-v20211026'\n",
      "neuron_name = 'dspn_str_dspn_e_p7517a0e9_m22be6817', num = 1, neuron_path = '../data/dspn/str-dspn-e150602_c1_D1-mWT-0728MSN01-v20211026'\n",
      "neuron_name = 'dspn_str_dspn_e_p7517a0e9_m37886c78', num = 1, neuron_path = '../data/dspn/str-dspn-e150602_c1_D1-mWT-0728MSN01-v20211026'\n",
      "neuron_name = 'dspn_str_dspn_e_p7517a0e9_m9fda9b20', num = 1, neuron_path = '../data/dspn/str-dspn-e150602_c1_D1-mWT-0728MSN01-v20211026'\n",
      "neuron_name = 'dspn_str_dspn_e_p7517a0e9_mbb8e5b24', num = 1, neuron_path = '../data/dspn/str-dspn-e150602_c1_D1-mWT-0728MSN01-v20211026'\n",
      "neuron_name = 'dspn_str_dspn_e_p7517a0e9_mc710c1a4', num = 1, neuron_path = '../data/dspn/str-dspn-e150602_c1_D1-mWT-0728MSN01-v20211026'\n",
      "neuron_name = 'dspn_str_dspn_e_p7517a0e9_mf702205f', num = 1, neuron_path = '../data/dspn/str-dspn-e150602_c1_D1-mWT-0728MSN01-v20211026'\n",
      "neuron_name = 'dspn_str_dspn_e_p7aa400d6_m22be6817', num = 1, neuron_path = '../data/dspn/str-dspn-e150602_c1_D1-mWT-0728MSN01-v20211026'\n",
      "neuron_name = 'dspn_str_dspn_e_p7aa400d6_m37886c78', num = 1, neuron_path = '../data/dspn/str-dspn-e150602_c1_D1-mWT-0728MSN01-v20211026'\n",
      "neuron_name = 'dspn_str_dspn_e_p7aa400d6_m9fda9b20', num = 1, neuron_path = '../data/dspn/str-dspn-e150602_c1_D1-mWT-0728MSN01-v20211026'\n",
      "neuron_name = 'dspn_str_dspn_e_p7aa400d6_mbb8e5b24', num = 1, neuron_path = '../data/dspn/str-dspn-e150602_c1_D1-mWT-0728MSN01-v20211026'\n",
      "neuron_name = 'dspn_str_dspn_e_p7aa400d6_mc710c1a4', num = 1, neuron_path = '../data/dspn/str-dspn-e150602_c1_D1-mWT-0728MSN01-v20211026'\n",
      "neuron_name = 'dspn_str_dspn_e_p7aa400d6_mf702205f', num = 1, neuron_path = '../data/dspn/str-dspn-e150602_c1_D1-mWT-0728MSN01-v20211026'\n",
      "neuron_name = 'dspn_str_dspn_e_p8bf90d1f_m22be6817', num = 1, neuron_path = '../data/dspn/str-dspn-e150602_c1_D1-mWT-0728MSN01-v20211026'\n",
      "neuron_name = 'dspn_str_dspn_e_p8bf90d1f_m37886c78', num = 1, neuron_path = '../data/dspn/str-dspn-e150602_c1_D1-mWT-0728MSN01-v20211026'\n",
      "neuron_name = 'dspn_str_dspn_e_p8bf90d1f_m9fda9b20', num = 1, neuron_path = '../data/dspn/str-dspn-e150602_c1_D1-mWT-0728MSN01-v20211026'\n",
      "neuron_name = 'dspn_str_dspn_e_p8bf90d1f_mbb8e5b24', num = 1, neuron_path = '../data/dspn/str-dspn-e150602_c1_D1-mWT-0728MSN01-v20211026'\n",
      "neuron_name = 'dspn_str_dspn_e_p8bf90d1f_mc710c1a4', num = 1, neuron_path = '../data/dspn/str-dspn-e150602_c1_D1-mWT-0728MSN01-v20211026'\n",
      "neuron_name = 'dspn_str_dspn_e_p8bf90d1f_mf702205f', num = 1, neuron_path = '../data/dspn/str-dspn-e150602_c1_D1-mWT-0728MSN01-v20211026'\n",
      "neuron_name = 'dspn_str_dspn_e_pb0529fb9_m22be6817', num = 1, neuron_path = '../data/dspn/str-dspn-e150602_c1_D1-mWT-0728MSN01-v20211026'\n",
      "neuron_name = 'dspn_str_dspn_e_pb0529fb9_m37886c78', num = 1, neuron_path = '../data/dspn/str-dspn-e150602_c1_D1-mWT-0728MSN01-v20211026'\n",
      "neuron_name = 'dspn_str_dspn_e_pb0529fb9_m9fda9b20', num = 1, neuron_path = '../data/dspn/str-dspn-e150602_c1_D1-mWT-0728MSN01-v20211026'\n",
      "neuron_name = 'dspn_str_dspn_e_pb0529fb9_mbb8e5b24', num = 1, neuron_path = '../data/dspn/str-dspn-e150602_c1_D1-mWT-0728MSN01-v20211026'\n",
      "neuron_name = 'dspn_str_dspn_e_pb0529fb9_mc710c1a4', num = 1, neuron_path = '../data/dspn/str-dspn-e150602_c1_D1-mWT-0728MSN01-v20211026'\n",
      "neuron_name = 'dspn_str_dspn_e_pb0529fb9_mf702205f', num = 1, neuron_path = '../data/dspn/str-dspn-e150602_c1_D1-mWT-0728MSN01-v20211026'\n",
      "neuron_name = 'dspn_str_dspn_e_pc8cbdb24_m22be6817', num = 1, neuron_path = '../data/dspn/str-dspn-e150602_c1_D1-mWT-0728MSN01-v20211026'\n",
      "neuron_name = 'dspn_str_dspn_e_pc8cbdb24_m37886c78', num = 1, neuron_path = '../data/dspn/str-dspn-e150602_c1_D1-mWT-0728MSN01-v20211026'\n",
      "neuron_name = 'dspn_str_dspn_e_pc8cbdb24_mbb8e5b24', num = 1, neuron_path = '../data/dspn/str-dspn-e150602_c1_D1-mWT-0728MSN01-v20211026'\n",
      "neuron_name = 'dspn_str_dspn_e_pc8cbdb24_mc710c1a4', num = 1, neuron_path = '../data/dspn/str-dspn-e150602_c1_D1-mWT-0728MSN01-v20211026'\n",
      "neuron_name = 'dspn_str_dspn_e_pc8cbdb24_mf702205f', num = 1, neuron_path = '../data/dspn/str-dspn-e150602_c1_D1-mWT-0728MSN01-v20211026'\n",
      "neuron_name = 'dspn_str_dspn_e_pd01ac450_m22be6817', num = 1, neuron_path = '../data/dspn/str-dspn-e150602_c1_D1-mWT-0728MSN01-v20211026'\n",
      "neuron_name = 'dspn_str_dspn_e_pd01ac450_m37886c78', num = 1, neuron_path = '../data/dspn/str-dspn-e150602_c1_D1-mWT-0728MSN01-v20211026'\n",
      "neuron_name = 'dspn_str_dspn_e_pd01ac450_mbb8e5b24', num = 1, neuron_path = '../data/dspn/str-dspn-e150602_c1_D1-mWT-0728MSN01-v20211026'\n",
      "neuron_name = 'dspn_str_dspn_e_pd01ac450_mc710c1a4', num = 1, neuron_path = '../data/dspn/str-dspn-e150602_c1_D1-mWT-0728MSN01-v20211026'\n",
      "neuron_name = 'dspn_str_dspn_e_pd01ac450_mf702205f', num = 1, neuron_path = '../data/dspn/str-dspn-e150602_c1_D1-mWT-0728MSN01-v20211026'\n",
      "neuron_name = 'dspn_str_dspn_e_pe1ec8fbd_m22be6817', num = 1, neuron_path = '../data/dspn/str-dspn-e150602_c1_D1-mWT-0728MSN01-v20211026'\n",
      "neuron_name = 'dspn_str_dspn_e_pe1ec8fbd_mbb8e5b24', num = 1, neuron_path = '../data/dspn/str-dspn-e150602_c1_D1-mWT-0728MSN01-v20211026'\n",
      "neuron_name = 'dspn_str_dspn_e_pe6ec2d4b_m22be6817', num = 1, neuron_path = '../data/dspn/str-dspn-e150602_c1_D1-mWT-0728MSN01-v20211026'\n",
      "neuron_name = 'dspn_str_dspn_e_pe6ec2d4b_m37886c78', num = 1, neuron_path = '../data/dspn/str-dspn-e150602_c1_D1-mWT-0728MSN01-v20211026'\n",
      "neuron_name = 'dspn_str_dspn_e_pe6ec2d4b_m9fda9b20', num = 1, neuron_path = '../data/dspn/str-dspn-e150602_c1_D1-mWT-0728MSN01-v20211026'\n",
      "neuron_name = 'dspn_str_dspn_e_pe6ec2d4b_mbb8e5b24', num = 1, neuron_path = '../data/dspn/str-dspn-e150602_c1_D1-mWT-0728MSN01-v20211026'\n",
      "neuron_name = 'dspn_str_dspn_e_pe6ec2d4b_mc710c1a4', num = 1, neuron_path = '../data/dspn/str-dspn-e150602_c1_D1-mWT-0728MSN01-v20211026'\n",
      "neuron_name = 'dspn_str_dspn_e_pe6ec2d4b_mf702205f', num = 1, neuron_path = '../data/dspn/str-dspn-e150602_c1_D1-mWT-0728MSN01-v20211026'\n",
      "Reading SNUDDA_DATA=../../../../../BasalGangliaData/data/ from ../networks/dspn_modulation/network-config.json\n",
      "No d_view specified, running distribute neurons in serial\n",
      "No connections specified in connectivity_distribution.\n",
      "No file ../networks/dspn_modulation/pruning_merge_info.json\n"
     ]
    }
   ],
   "source": [
    "import os\n",
    "from snudda.input.input_tuning import InputTuning\n",
    "\n",
    "snudda_data = \"../../../../../BasalGangliaData/data/\"\n",
    "network_path = os.path.join(\"..\", \"networks\", \"dspn_modulation\")\n",
    "input_tuning = InputTuning(network_path, snudda_data=snudda_data)\n",
    "\n",
    "#neurons_path = os.path.join(\"$DATA\", \"neurons\", \"striatum\")\n",
    "neurons_path = os.path.join(\"..\", \"data\")\n",
    "\n",
    "input_tuning.setup_network(neurons_path=neurons_path, \n",
    "                           num_replicas=1,\n",
    "                           neuron_types=\"dspn\",\n",
    "                           reaction_diffusion_file=\"reaction_diffusion.json\",\n",
    "                           # morphology_key=\"m22be6817\",\n",
    "                           network_random_seed=1234)\n",
    "input_tuning = None"
   ]
  },
  {
   "cell_type": "markdown",
   "id": "907b3cdc-008a-470a-9c18-b673947a5ee2",
   "metadata": {},
   "source": [
    "## Generate synaptic input for the neuron population\n",
    "\n",
    "Setup glutamate input, and GABA input. Also generate dopamine input.\n",
    "\n",
    "| time (s) | glutamate (Hz) | GABA (Hz) | DA (Hz) |\n",
    "| --- | --- | --- | --- |\n",
    "| 1 - 3 | 10 | 5 | 0 |\n",
    "| 5 - 7 | 10 | 5 | 5 |\n",
    "| 9 - 11 | 10 | 5 | 10 |"
   ]
  },
  {
   "cell_type": "code",
   "execution_count": 2,
   "id": "ede302ac-ba27-4fee-9a86-db7081d00bc4",
   "metadata": {
    "scrolled": true
   },
   "outputs": [
    {
     "name": "stdout",
     "output_type": "stream",
     "text": [
      "Setting up inputs, assuming input.json exists\n",
      "Reading SNUDDA_DATA=../../../../../BasalGangliaData/data/ from ../networks/dspn_modulation/network-config.json\n",
      "Writing input spikes to ../networks/dspn_modulation/input-spikes.hdf5\n",
      "Reading SNUDDA_DATA=../../../../../BasalGangliaData/data/ from ../networks/dspn_modulation/network-config.json\n",
      "!!! Warning, combining definition of cortical with cortical input for neuron dspn_str_dspn_e_p1863c9a5_m22be6817 0 (meta modified by input_config)\n",
      "!!! Warning, combining definition of cortical with cortical input for neuron dspn_str_dspn_e_p1863c9a5_m37886c78 1 (meta modified by input_config)\n",
      "!!! Warning, combining definition of cortical with cortical input for neuron dspn_str_dspn_e_p1863c9a5_mc710c1a4 2 (meta modified by input_config)\n",
      "!!! Warning, combining definition of cortical with cortical input for neuron dspn_str_dspn_e_p1863c9a5_mf702205f 3 (meta modified by input_config)\n",
      "!!! Warning, combining definition of cortical with cortical input for neuron dspn_str_dspn_e_p510bab86_m22be6817 4 (meta modified by input_config)\n",
      "!!! Warning, combining definition of cortical with cortical input for neuron dspn_str_dspn_e_p510bab86_m37886c78 5 (meta modified by input_config)\n",
      "!!! Warning, combining definition of cortical with cortical input for neuron dspn_str_dspn_e_p510bab86_mbb8e5b24 6 (meta modified by input_config)\n",
      "!!! Warning, combining definition of cortical with cortical input for neuron dspn_str_dspn_e_p510bab86_mc710c1a4 7 (meta modified by input_config)\n",
      "!!! Warning, combining definition of cortical with cortical input for neuron dspn_str_dspn_e_p510bab86_mf702205f 8 (meta modified by input_config)\n",
      "!!! Warning, combining definition of cortical with cortical input for neuron dspn_str_dspn_e_p7517a0e9_m22be6817 9 (meta modified by input_config)\n",
      "!!! Warning, combining definition of cortical with cortical input for neuron dspn_str_dspn_e_p7517a0e9_m37886c78 10 (meta modified by input_config)\n",
      "!!! Warning, combining definition of cortical with cortical input for neuron dspn_str_dspn_e_p7517a0e9_m9fda9b20 11 (meta modified by input_config)\n",
      "!!! Warning, combining definition of cortical with cortical input for neuron dspn_str_dspn_e_p7517a0e9_mbb8e5b24 12 (meta modified by input_config)\n",
      "!!! Warning, combining definition of cortical with cortical input for neuron dspn_str_dspn_e_p7517a0e9_mc710c1a4 13 (meta modified by input_config)\n",
      "!!! Warning, combining definition of cortical with cortical input for neuron dspn_str_dspn_e_p7517a0e9_mf702205f 14 (meta modified by input_config)\n",
      "!!! Warning, combining definition of cortical with cortical input for neuron dspn_str_dspn_e_p7aa400d6_m22be6817 15 (meta modified by input_config)\n",
      "!!! Warning, combining definition of cortical with cortical input for neuron dspn_str_dspn_e_p7aa400d6_m37886c78 16 (meta modified by input_config)\n",
      "!!! Warning, combining definition of cortical with cortical input for neuron dspn_str_dspn_e_p7aa400d6_m9fda9b20 17 (meta modified by input_config)\n",
      "!!! Warning, combining definition of cortical with cortical input for neuron dspn_str_dspn_e_p7aa400d6_mbb8e5b24 18 (meta modified by input_config)\n",
      "!!! Warning, combining definition of cortical with cortical input for neuron dspn_str_dspn_e_p7aa400d6_mc710c1a4 19 (meta modified by input_config)\n",
      "!!! Warning, combining definition of cortical with cortical input for neuron dspn_str_dspn_e_p7aa400d6_mf702205f 20 (meta modified by input_config)\n",
      "!!! Warning, combining definition of cortical with cortical input for neuron dspn_str_dspn_e_p8bf90d1f_m22be6817 21 (meta modified by input_config)\n",
      "!!! Warning, combining definition of cortical with cortical input for neuron dspn_str_dspn_e_p8bf90d1f_m37886c78 22 (meta modified by input_config)\n",
      "!!! Warning, combining definition of cortical with cortical input for neuron dspn_str_dspn_e_p8bf90d1f_m9fda9b20 23 (meta modified by input_config)\n",
      "!!! Warning, combining definition of cortical with cortical input for neuron dspn_str_dspn_e_p8bf90d1f_mbb8e5b24 24 (meta modified by input_config)\n",
      "!!! Warning, combining definition of cortical with cortical input for neuron dspn_str_dspn_e_p8bf90d1f_mc710c1a4 25 (meta modified by input_config)\n",
      "!!! Warning, combining definition of cortical with cortical input for neuron dspn_str_dspn_e_p8bf90d1f_mf702205f 26 (meta modified by input_config)\n",
      "!!! Warning, combining definition of cortical with cortical input for neuron dspn_str_dspn_e_pb0529fb9_m22be6817 27 (meta modified by input_config)\n",
      "!!! Warning, combining definition of cortical with cortical input for neuron dspn_str_dspn_e_pb0529fb9_m37886c78 28 (meta modified by input_config)\n",
      "!!! Warning, combining definition of cortical with cortical input for neuron dspn_str_dspn_e_pb0529fb9_m9fda9b20 29 (meta modified by input_config)\n",
      "!!! Warning, combining definition of cortical with cortical input for neuron dspn_str_dspn_e_pb0529fb9_mbb8e5b24 30 (meta modified by input_config)\n",
      "!!! Warning, combining definition of cortical with cortical input for neuron dspn_str_dspn_e_pb0529fb9_mc710c1a4 31 (meta modified by input_config)\n",
      "!!! Warning, combining definition of cortical with cortical input for neuron dspn_str_dspn_e_pb0529fb9_mf702205f 32 (meta modified by input_config)\n",
      "!!! Warning, combining definition of cortical with cortical input for neuron dspn_str_dspn_e_pc8cbdb24_m22be6817 33 (meta modified by input_config)\n",
      "!!! Warning, combining definition of cortical with cortical input for neuron dspn_str_dspn_e_pc8cbdb24_m37886c78 34 (meta modified by input_config)\n",
      "!!! Warning, combining definition of cortical with cortical input for neuron dspn_str_dspn_e_pc8cbdb24_mbb8e5b24 35 (meta modified by input_config)\n",
      "!!! Warning, combining definition of cortical with cortical input for neuron dspn_str_dspn_e_pc8cbdb24_mc710c1a4 36 (meta modified by input_config)\n",
      "!!! Warning, combining definition of cortical with cortical input for neuron dspn_str_dspn_e_pc8cbdb24_mf702205f 37 (meta modified by input_config)\n",
      "!!! Warning, combining definition of cortical with cortical input for neuron dspn_str_dspn_e_pd01ac450_m22be6817 38 (meta modified by input_config)\n",
      "!!! Warning, combining definition of cortical with cortical input for neuron dspn_str_dspn_e_pd01ac450_m37886c78 39 (meta modified by input_config)\n",
      "!!! Warning, combining definition of cortical with cortical input for neuron dspn_str_dspn_e_pd01ac450_mbb8e5b24 40 (meta modified by input_config)\n",
      "!!! Warning, combining definition of cortical with cortical input for neuron dspn_str_dspn_e_pd01ac450_mc710c1a4 41 (meta modified by input_config)\n",
      "!!! Warning, combining definition of cortical with cortical input for neuron dspn_str_dspn_e_pd01ac450_mf702205f 42 (meta modified by input_config)\n",
      "!!! Warning, combining definition of cortical with cortical input for neuron dspn_str_dspn_e_pe1ec8fbd_m22be6817 43 (meta modified by input_config)\n",
      "!!! Warning, combining definition of cortical with cortical input for neuron dspn_str_dspn_e_pe1ec8fbd_mbb8e5b24 44 (meta modified by input_config)\n",
      "!!! Warning, combining definition of cortical with cortical input for neuron dspn_str_dspn_e_pe6ec2d4b_m22be6817 45 (meta modified by input_config)\n",
      "!!! Warning, combining definition of cortical with cortical input for neuron dspn_str_dspn_e_pe6ec2d4b_m37886c78 46 (meta modified by input_config)\n",
      "!!! Warning, combining definition of cortical with cortical input for neuron dspn_str_dspn_e_pe6ec2d4b_m9fda9b20 47 (meta modified by input_config)\n",
      "!!! Warning, combining definition of cortical with cortical input for neuron dspn_str_dspn_e_pe6ec2d4b_mbb8e5b24 48 (meta modified by input_config)\n",
      "!!! Warning, combining definition of cortical with cortical input for neuron dspn_str_dspn_e_pe6ec2d4b_mc710c1a4 49 (meta modified by input_config)\n",
      "!!! Warning, combining definition of cortical with cortical input for neuron dspn_str_dspn_e_pe6ec2d4b_mf702205f 50 (meta modified by input_config)\n",
      "Writing spikes to ../networks/dspn_modulation/input-spikes.hdf5\n",
      "stop_parallel disabled, to keep pool running.\n",
      "\n",
      "Execution time: 3.9s\n"
     ]
    },
    {
     "data": {
      "text/plain": [
       "<snudda.input.input.SnuddaInput at 0xffff24363220>"
      ]
     },
     "execution_count": 2,
     "metadata": {},
     "output_type": "execute_result"
    }
   ],
   "source": [
    "from snudda import Snudda\n",
    "snd = Snudda(network_path=network_path)\n",
    "snd.setup_input(input_config=\"input.json\")"
   ]
  },
  {
   "cell_type": "markdown",
   "id": "d0ad4a94-2043-4ea2-9a9c-e980870254d5",
   "metadata": {},
   "source": [
    "## Simulate"
   ]
  },
  {
   "cell_type": "code",
   "execution_count": null,
   "id": "df61067c-9fc0-4d7f-99ab-79f1ed31384b",
   "metadata": {},
   "outputs": [],
   "source": [
    "duration = 0.11 # 4.5\n",
    "os.system(f\"mpirun -n 6 snudda simulate {network_path} --time {duration}\")"
   ]
  },
  {
   "cell_type": "markdown",
   "id": "c1d060c0-8250-4dd3-a243-e03a59d2b781",
   "metadata": {},
   "source": [
    "## Plot PKA level"
   ]
  },
  {
   "cell_type": "markdown",
   "id": "9bd68bbe-4152-42c6-94d8-e9efc1cab0a5",
   "metadata": {},
   "source": [
    "## Determine parameters:\n",
    "\n",
    "KIR: ```mod_pka_g_min```, ```mod_pka_g_max```, ```mod_pka_g_half```, ```mod_pka_g_slope```\n",
    "\n",
    "Kaf: ```mod_pka_g_min```, ```mod_pka_g_max```, ```mod_pka_g_half```, ```mod_pka_g_slope```, ```mod_pka_shift_min```, ```mod_pka_shift_max```, ```mod_pka_shift_half```, ```mod_pka_shift_slope```\n"
   ]
  },
  {
   "cell_type": "markdown",
   "id": "f6b32b68-fa7f-43c0-bf33-9c4420995c4e",
   "metadata": {},
   "source": [
    "## Plot the PKA activation curves"
   ]
  },
  {
   "cell_type": "code",
   "execution_count": null,
   "id": "9f0ff623-0d4e-4cd1-95c0-4092b3ba4f7b",
   "metadata": {},
   "outputs": [],
   "source": []
  }
 ],
 "metadata": {
  "kernelspec": {
   "display_name": "Python 3 (ipykernel)",
   "language": "python",
   "name": "python3"
  },
  "language_info": {
   "codemirror_mode": {
    "name": "ipython",
    "version": 3
   },
   "file_extension": ".py",
   "mimetype": "text/x-python",
   "name": "python",
   "nbconvert_exporter": "python",
   "pygments_lexer": "ipython3",
   "version": "3.9.2"
  }
 },
 "nbformat": 4,
 "nbformat_minor": 5
}
