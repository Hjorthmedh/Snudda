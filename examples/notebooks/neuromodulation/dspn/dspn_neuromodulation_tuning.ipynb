{
 "cells": [
  {
   "cell_type": "markdown",
   "id": "d4c170ea-f2de-419b-b3f7-f30b34e1505a",
   "metadata": {},
   "source": [
    "# Tuning of dSPN neuromodulation\n",
    "\n",
    "## Setup network with dSPN population\n",
    "Create a network of disconnected dSPN neurons where each morphology key / parameter key combination is represented."
   ]
  },
  {
   "cell_type": "markdown",
   "id": "907b3cdc-008a-470a-9c18-b673947a5ee2",
   "metadata": {},
   "source": [
    "## Generate synaptic input for the neuron population\n",
    "\n",
    "Setup glutamate input, and GABA input. Also generate dopamine input.\n",
    "\n",
    "| time (s) | glutamate (Hz) | GABA (Hz) | DA (Hz) |\n",
    "| --- | --- | --- | --- |\n",
    "| 1 - 3 | 10 | 5 | 0 |\n",
    "| 4 - 5 | 10 | 5 | 5 |\n"
   ]
  },
  {
   "cell_type": "markdown",
   "id": "c1d060c0-8250-4dd3-a243-e03a59d2b781",
   "metadata": {},
   "source": [
    "## Plot PKA level"
   ]
  },
  {
   "cell_type": "code",
   "execution_count": null,
   "id": "b9097d1c-e51b-4227-bd14-4902e7b9c5de",
   "metadata": {},
   "outputs": [],
   "source": []
  }
 ],
 "metadata": {
  "kernelspec": {
   "display_name": "Python 3 (ipykernel)",
   "language": "python",
   "name": "python3"
  },
  "language_info": {
   "codemirror_mode": {
    "name": "ipython",
    "version": 3
   },
   "file_extension": ".py",
   "mimetype": "text/x-python",
   "name": "python",
   "nbconvert_exporter": "python",
   "pygments_lexer": "ipython3",
   "version": "3.9.2"
  }
 },
 "nbformat": 4,
 "nbformat_minor": 5
}
