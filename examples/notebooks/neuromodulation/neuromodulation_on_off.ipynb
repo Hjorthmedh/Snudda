{
 "cells": [
  {
   "cell_type": "markdown",
   "id": "138f1fa5-37b6-4563-a588-309e5b21b9d5",
   "metadata": {},
   "source": [
    "# Neuromodulation example \n",
    "\n",
    "This neuromodulation creates a small network of neurons. We also use the reaction diffusion model by Anu G Nair 2015.\n",
    "\n",
    "To generate the ```reaction_diffusion.json``` file in ```data/str-dspn-e150602_c1_D1-mWT-0728MSN01-v20211026/``` from the xml file we run ```data/convert_sbml_to_json.sh```\n",
    "\n",
    "Reference for DA modulation cascade:\n",
    "\n",
    "Lindroos R, Dorst MC, Du K, et al. Basal Ganglia Neuromodulation Over Multiple Temporal and Structural Scales-Simulations of Direct Pathway MSNs Investigate the Fast Onset of Dopaminergic Effects and Predict the Role of Kv4.2. Front Neural Circuits. 2018;12:3. Published 2018 Feb 6. doi:10.3389/fncir.2018.00003"
   ]
  },
  {
   "cell_type": "markdown",
   "id": "1746feed-04de-4020-a2cb-f884e8e9698a",
   "metadata": {},
   "source": [
    "## Network setup\n",
    "\n",
    "We have two neurons. The first neuron (Neuron 0) receives external input (cortical from t=0s and DA from t=0.1s). The cortical input will activate the first neuron, and through activation of synapses on the second neuron, we will see the dopamine level increase in the second neuron (Neuron 1).\n",
    "\n",
    "The first neuron also receives direct DA activation from external input (starting at 100ms)."
   ]
  },
  {
   "cell_type": "code",
   "execution_count": 1,
   "id": "5b55f23d-62ac-4433-8639-07870af8c40a",
   "metadata": {},
   "outputs": [
    {
     "name": "stdout",
     "output_type": "stream",
     "text": [
      "Jupyter environment detected. Enabling Open3D WebVisualizer.\n",
      "[Open3D INFO] WebRTC GUI backend enabled.\n",
      "[Open3D INFO] WebRTCWindowSystem: HTTP handshake server disabled.\n",
      "Reading connectivity from data/connectivity_v2.json\n",
      "Adding neurons: dspn from dir data/dspn\n",
      "Writing networks/neuromodulation_ON_OFF/network-config.json\n",
      "Writing networks/neuromodulation_ON_OFF/network-config.json\n",
      "Placing neurons\n",
      "Network path: networks/neuromodulation_ON_OFF\n",
      "Reading SNUDDA_DATA=None from networks/neuromodulation_ON_OFF/network-config.json\n",
      "Reading SNUDDA_DATA=/home/hjorth/HBP/Snudda/snudda/utils/../data from networks/neuromodulation_ON_OFF/network-synapses.hdf5\n",
      "No n_putative_points and putative_density, setting n_putative_points = 63\n",
      "(this must be larger than the number of neurons you want to place)\n",
      "Generating 63 points for networks/neuromodulation_ON_OFF/mesh/Cube-cube-mesh-2.917951293943981e-05.obj\n",
      "Filtering, keeping inside points: 3 / 25\n",
      "neuron_name = 'dspn_0', num = 2, neuron_path = 'data/dspn/str-dspn-e150602_c1_D1-mWT-0728MSN01-v20211026'\n",
      "stop_parallel disabled, to keep pool running.\n",
      "\n",
      "Execution time: 0.0s\n",
      "Touch detection\n",
      "Network path: networks/neuromodulation_ON_OFF\n",
      "Reading SNUDDA_DATA=None from networks/neuromodulation_ON_OFF/network-config.json\n",
      "Reading SNUDDA_DATA=/home/hjorth/HBP/Snudda/snudda/utils/../data from networks/neuromodulation_ON_OFF/network-synapses.hdf5\n",
      "No d_view specified, running distribute neurons in serial\n",
      "Processing hyper voxel : 0/36 (2 neurons)\n",
      "Processing hyper voxel : 1/36 (2 neurons)\n",
      "Processing hyper voxel : 4/36 (2 neurons)\n",
      "Processing hyper voxel : 5/36 (2 neurons)\n",
      "Processing hyper voxel : 12/36 (2 neurons)\n",
      "Processing hyper voxel : 13/36 (2 neurons)\n",
      "Processing hyper voxel : 16/36 (2 neurons)\n",
      "Processing hyper voxel : 17/36 (2 neurons)\n",
      "Processing hyper voxel : 14/36 (1 neurons)\n",
      "Reading SNUDDA_DATA=None from networks/neuromodulation_ON_OFF/network-config.json\n",
      "stop_parallel disabled, to keep pool running.\n",
      "\n",
      "Execution time: 1.0s\n",
      "Prune synapses\n",
      "Network path: networks/neuromodulation_ON_OFF\n",
      "No file networks/neuromodulation_ON_OFF/pruning_merge_info.json\n",
      "Read 41 out of total 41 synapses\n",
      "stop_parallel disabled, to keep pool running.\n",
      "\n",
      "Execution time: 1.0s\n"
     ]
    }
   ],
   "source": [
    "import os\n",
    "from snudda import Snudda\n",
    "\n",
    "neuron_path = os.path.join(\"data\", \"dspn\")\n",
    "network_path = os.path.join(\"networks\", \"neuromodulation_ON_OFF\")\n",
    "connectivity_path = os.path.join(\"data\", \"connectivity_v2.json\")\n",
    "\n",
    "snudda = Snudda(network_path=network_path)\n",
    "si = snudda.init_tiny(neuron_paths=neuron_path, neuron_names=\"dspn\", number_of_neurons=[2], \n",
    "                      connection_config=connectivity_path, random_seed=123)\n",
    "\n",
    "si.network_data[\"regions\"][\"Cube\"][\"neurons\"][\"dspn\"][\"reaction_diffusion\"] = \"data/JSON/reaction_diffusion_D1.json\"\n",
    "\n",
    "si.network_data[\"regions\"][\"Cube\"][\"neurons\"][\"dspn\"][\"modulation\"] = \"test-modulation.json\"\n",
    "si.network_data[\"regions\"][\"Cube\"][\"neurons\"][\"dspn\"][\"modulation_key\"] = \"abc\"\n",
    "\n",
    "si.write_json()\n",
    "\n",
    "snudda.create_network()"
   ]
  },
  {
   "cell_type": "code",
   "execution_count": 2,
   "id": "41e96e4a-0f52-4d77-8a1f-ba8d270b9b78",
   "metadata": {},
   "outputs": [
    {
     "name": "stdout",
     "output_type": "stream",
     "text": [
      "Setting up inputs, assuming input.json exists\n",
      "Reading SNUDDA_DATA=None from networks/neuromodulation_ON_OFF/network-config.json\n",
      "Reading SNUDDA_DATA=/home/hjorth/HBP/Snudda/snudda/utils/../data from networks/neuromodulation_ON_OFF/network-synapses.hdf5\n",
      "Writing input spikes to networks/neuromodulation_ON_OFF/input-spikes.hdf5\n",
      "Reading SNUDDA_DATA=None from networks/neuromodulation_ON_OFF/network-config.json\n",
      "Reading SNUDDA_DATA=/home/hjorth/HBP/Snudda/snudda/utils/../data from networks/neuromodulation_ON_OFF/network-synapses.hdf5\n",
      "!!! Warning, combining definition of cortical_background with cortical_background input for neuron dspn_0 0 (meta modified by input_config)\n",
      "!!! Warning, combining definition of thalamic_background with thalamic_background input for neuron dspn_0 0 (meta modified by input_config)\n",
      "!!! Warning, combining definition of cortical with cortical input for neuron dspn_0 0 (meta modified by input_config)\n",
      "!!! Warning, combining definition of cortical_background with cortical_background input for neuron dspn_0 1 (meta modified by input_config)\n",
      "!!! Warning, combining definition of thalamic_background with thalamic_background input for neuron dspn_0 1 (meta modified by input_config)\n",
      "!!! Warning, combining definition of cortical with cortical input for neuron dspn_0 1 (meta modified by input_config)\n",
      "Writing spikes to networks/neuromodulation_ON_OFF/input-spikes.hdf5\n",
      "stop_parallel disabled, to keep pool running.\n",
      "\n",
      "Execution time: 1.2s\n"
     ]
    },
    {
     "data": {
      "text/plain": [
       "<snudda.input.input.SnuddaInput at 0x7f8cfc0df910>"
      ]
     },
     "execution_count": 2,
     "metadata": {},
     "output_type": "execute_result"
    }
   ],
   "source": [
    "input_config = os.path.join(\"data\", \"input_v4.json\")\n",
    "snudda.setup_input(input_config=input_config)"
   ]
  },
  {
   "cell_type": "code",
   "execution_count": 3,
   "id": "ae7ebf60-1556-4e07-81c6-85156c90bfad",
   "metadata": {},
   "outputs": [],
   "source": [
    "sim_output_neuromodulation_ON = os.path.join(network_path, \"simulation\", \"output_neuromodulation_ON.hdf5\")\n",
    "sim_output_neuromodulation_OFF = os.path.join(network_path, \"simulation\", \"output_neuromodulation_OFF.hdf5\")"
   ]
  },
  {
   "cell_type": "code",
   "execution_count": 4,
   "id": "d019b580-4193-4321-9ee8-9bdd3988209f",
   "metadata": {},
   "outputs": [],
   "source": [
    "# mech_dir = os.path.join(\"..\", \"..\", \"..\", \"..\", \"BasalGangliaData\", \"data\", \"neurons\", \"mechanisms\")\n",
    "mech_dir = \"/home/hjorth/BasalGangliaData/data/neurons/mechanisms\"\n",
    "sample_dt = None # 0.00005\n",
    "\n",
    "# sim = snudda.simulate(time=0, mech_dir=mech_dir, verbose=True, sample_dt=sample_dt, output_file=sim_output_neuromodulation_ON)"
   ]
  },
  {
   "cell_type": "code",
   "execution_count": 5,
   "id": "207658ef-0747-4c87-babb-d3076e3f7a33",
   "metadata": {},
   "outputs": [],
   "source": [
    "# sim_config_on = os.path.join(\"data\", \"da_experiment_on.json\")\n",
    "# sim_config_off = os.path.join(\"data\", \"da_experiment_off.json\")\n",
    "\n",
    "sim_config_on = os.path.join(\"data\", \"da_experiment_on.json\")\n",
    "sim_config_off = os.path.join(\"data\", \"da_experiment_off.json\")\n",
    "\n",
    "\n",
    "sim_time = 1\n",
    "n_workers = 1"
   ]
  },
  {
   "cell_type": "markdown",
   "id": "56760ccb-c832-4852-b696-323198f8d771",
   "metadata": {},
   "source": [
    "## Running simulations\n",
    "\n",
    "To see progress of the two simulations in log files ```networks/neuromodulation_ON_OFF/log/network-simulation-ON.txt``` and ```networks/neuromodulation_ON_OFF/log/network-simulation-OFF.txt```."
   ]
  },
  {
   "cell_type": "code",
   "execution_count": 6,
   "id": "6b6b0fa2-93d2-4d0b-92ef-3c4949ac3355",
   "metadata": {},
   "outputs": [
    {
     "name": "stdout",
     "output_type": "stream",
     "text": [
      "mpirun -n 1 snudda simulate networks/neuromodulation_ON_OFF --time 1 --simulation_config data/da_experiment_on.json --mechdir /home/hjorth/BasalGangliaData/data/neurons/mechanisms\n"
     ]
    }
   ],
   "source": [
    "run_str_on = f\"mpirun -n {n_workers} snudda simulate {network_path} --time {sim_time} --simulation_config {sim_config_on} --mechdir {mech_dir}\"\n",
    "print(run_str_on)"
   ]
  },
  {
   "cell_type": "code",
   "execution_count": null,
   "id": "6bc7d396-09b0-46cc-89da-ff3c356b2b6e",
   "metadata": {},
   "outputs": [],
   "source": [
    "run_str_on = f\"mpirun -n {n_workers} snudda simulate {network_path} --time {sim_time} --simulation_config {sim_config_on} --mechdir {mech_dir}\"\n",
    "print(run_str_on)\n",
    "os.system(run_str_on)"
   ]
  },
  {
   "cell_type": "markdown",
   "id": "0c9d6057-e439-40e1-b7e7-4d55bdec3ce7",
   "metadata": {},
   "source": [
    "### Rerun without neuromodulation"
   ]
  },
  {
   "cell_type": "code",
   "execution_count": null,
   "id": "0f3648c5-2f5f-4b5b-b438-5eb15bffdd61",
   "metadata": {},
   "outputs": [],
   "source": [
    "run_str_off = f\"mpirun -n {n_workers} snudda simulate {network_path} --time {sim_time} --simulation_config {sim_config_off} --mechdir {mech_dir} --disable_rxd_neuromodulation\"\n",
    "print(run_str_off)\n",
    "os.system(run_str_off)"
   ]
  },
  {
   "cell_type": "markdown",
   "id": "bfdb2c9a-4d32-453d-84b8-2c872bfd4050",
   "metadata": {},
   "source": [
    "## Load the data and plot"
   ]
  },
  {
   "cell_type": "code",
   "execution_count": null,
   "id": "d84ee6f3-4193-4509-ad4a-0d93dff5e3d9",
   "metadata": {},
   "outputs": [],
   "source": [
    "from snudda.utils import SnuddaLoadSimulation\n",
    "\n",
    "nd = SnuddaLoadSimulation(sim_output_neuromodulation_ON)\n",
    "time = nd.get_time()\n",
    "data_pka = nd.get_data(\"PKAc\", 1)[0][1]\n",
    "data_da = nd.get_data(\"DA\", 1)[0][1]\n",
    "data_da_external = nd.get_data(\"DA\", 0)[0][0]\n",
    "\n",
    "# This is saved with add_rxd_internal_concentration_recording_all -- check that it worked \n",
    "data_pka_all0 = nd.get_data(\"PKAc\", 0)[0][0]"
   ]
  },
  {
   "cell_type": "code",
   "execution_count": null,
   "id": "bd0f4edf-a622-490b-b39f-18f516975737",
   "metadata": {},
   "outputs": [],
   "source": [
    "data_types = nd.list_data_types(0)\n",
    "all_species_data = nd.get_all_data(neuron_id=0, exclude=[\"spikes\", \"voltage\"])\n",
    "time = nd.get_time()\n",
    "voltage = nd.get_data(\"voltage\", [0, 1])"
   ]
  },
  {
   "cell_type": "code",
   "execution_count": null,
   "id": "a63a7152-730e-4868-a81a-cc87fccaf9f4",
   "metadata": {},
   "outputs": [],
   "source": [
    "import plotly.graph_objects as go\n",
    "import plotly.io as pio\n",
    "pio.renderers.default = \"iframe\"  # Do not save plots in the notebook, they can get BIG\n",
    "\n",
    "fig = go.Figure()\n",
    "for data_type in all_species_data:\n",
    "    fig.add_trace(go.Scatter(x=time, y=all_species_data[data_type][0][0].T[0], name=data_type))\n",
    "\n",
    "fig.update_layout(title=\"With DA modulation\", xaxis_title=\"Time (s)\", yaxis_title=\"Concentration\", width=1000, height=800)\n",
    "fig.show()"
   ]
  },
  {
   "cell_type": "code",
   "execution_count": null,
   "id": "511489ad-b3d6-4301-a8bd-fa870cf456e4",
   "metadata": {},
   "outputs": [],
   "source": [
    "data_types2 = nd.list_data_types(0)\n",
    "all_species_data2 = nd.get_all_data(neuron_id=1, exclude=[\"spikes\", \"voltage\"])\n",
    "time = nd.get_time()\n",
    "voltage = nd.get_data(\"voltage\", [0, 1])"
   ]
  },
  {
   "cell_type": "code",
   "execution_count": null,
   "id": "d231b4e4-4a56-47b5-84f6-e13b6e721125",
   "metadata": {},
   "outputs": [],
   "source": [
    "import plotly.graph_objects as go\n",
    "import plotly.io as pio\n",
    "pio.renderers.default = \"iframe\"  # Do not save plots in the notebook, they can get BIG\n",
    "\n",
    "fig = go.Figure()\n",
    "for data_type in all_species_data2:\n",
    "    fig.add_trace(go.Scatter(x=time, y=all_species_data2[data_type][0][1].T[0], name=data_type))\n",
    "\n",
    "fig.update_layout(title=\"With DA modulation\", xaxis_title=\"Time (s)\", yaxis_title=\"Concentration\", width=1000, height=800)\n",
    "fig.show()"
   ]
  },
  {
   "cell_type": "code",
   "execution_count": null,
   "id": "81722b1c-c30c-445e-a5f5-abaa823f0ce4",
   "metadata": {},
   "outputs": [],
   "source": [
    "nd_off = SnuddaLoadSimulation(sim_output_neuromodulation_OFF)\n",
    "time_off = nd_off.get_time()\n",
    "voltage_off = nd_off.get_data(\"voltage\", [0, 1])"
   ]
  },
  {
   "cell_type": "code",
   "execution_count": null,
   "id": "1e9ce899-6243-448b-a4ac-2ba3e83f522e",
   "metadata": {},
   "outputs": [],
   "source": [
    "fig = go.Figure()\n",
    "\n",
    "sct_on = go.Scatter(x=time, y=voltage[0][0][:,0], name=\"DA (0.3-1.3s)\", opacity=0.5)\n",
    "sct_off = go.Scatter(x=time_off, y=voltage_off[0][0][:,0], name=\"No DA\", opacity=0.5)\n",
    "fig.add_traces([sct_on, sct_off])\n",
    "fig.write_image(\"example-trace.png\", scale=2, height=800, width=1200)\n",
    "fig.show()"
   ]
  },
  {
   "cell_type": "code",
   "execution_count": null,
   "id": "c1c558be-b54e-41e7-a64c-6c98e955ed2a",
   "metadata": {},
   "outputs": [],
   "source": [
    "fig = go.Figure()\n",
    "\n",
    "sct_on = go.Scatter(x=time, y=voltage[0][1][:,0], name=\"DA (0.3-1.3s)\", opacity=0.5)\n",
    "sct_off = go.Scatter(x=time_off, y=voltage_off[0][1][:,0], name=\"No DA\", opacity=0.5)\n",
    "fig.add_traces([sct_on, sct_off])"
   ]
  },
  {
   "cell_type": "markdown",
   "id": "cd855cab-eb67-4c0c-a20c-56f23eb04d9e",
   "metadata": {},
   "source": [
    "## Plotting simulation with DA modulation \n",
    "\n",
    "DA is active from 0.3 to 1.3 seconds"
   ]
  },
  {
   "cell_type": "code",
   "execution_count": null,
   "id": "fc082055-9e38-4ed1-b842-40e166548071",
   "metadata": {},
   "outputs": [],
   "source": [
    "%matplotlib inline\n",
    "\n",
    "from snudda.plotting.plot_traces import PlotTraces\n",
    "pt = PlotTraces(output_file=sim_output_neuromodulation_ON)\n",
    "# Use trace_id to specify which traces\n",
    "ax = pt.plot_traces(offset=0, time_range=None,fig_size=(10,4))"
   ]
  },
  {
   "cell_type": "markdown",
   "id": "d5ab977a-2171-4f7a-8db8-0d4fcaff82a6",
   "metadata": {},
   "source": [
    "## Plot simulation, with neuromodulation disabled"
   ]
  },
  {
   "cell_type": "code",
   "execution_count": null,
   "id": "191cf2cb-a61f-4b9e-89a9-4fe963f0343b",
   "metadata": {},
   "outputs": [],
   "source": [
    "%matplotlib inline\n",
    "\n",
    "from snudda.plotting.plot_traces import PlotTraces\n",
    "pt_off = PlotTraces(output_file=sim_output_neuromodulation_OFF)\n",
    "# Use trace_id to specify which traces\n",
    "ax_off = pt_off.plot_traces(offset=0, time_range=None,fig_size=(10,4))"
   ]
  },
  {
   "cell_type": "code",
   "execution_count": null,
   "id": "398790f7-d211-4fff-9249-77b28e14c859",
   "metadata": {},
   "outputs": [],
   "source": []
  }
 ],
 "metadata": {
  "kernelspec": {
   "display_name": "Python 3 (ipykernel)",
   "language": "python",
   "name": "python3"
  },
  "language_info": {
   "codemirror_mode": {
    "name": "ipython",
    "version": 3
   },
   "file_extension": ".py",
   "mimetype": "text/x-python",
   "name": "python",
   "nbconvert_exporter": "python",
   "pygments_lexer": "ipython3",
   "version": "3.11.2"
  }
 },
 "nbformat": 4,
 "nbformat_minor": 5
}
