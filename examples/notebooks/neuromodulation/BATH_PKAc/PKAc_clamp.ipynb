{
 "cells": [
  {
   "cell_type": "markdown",
   "id": "60a515bc-56be-4113-988c-c2252718d50a",
   "metadata": {},
   "source": [
    "# Test of PKAc impact\n",
    "\n",
    "Here we simulate a dSPN and an iSPN neuron, and see what the effect is on clamping PKAc first to the half activation value 3.6e-6mM (baseline), then to 0 (for ispn), and to 50e-6mM (for dspn)"
   ]
  },
  {
   "cell_type": "code",
   "execution_count": 1,
   "id": "a35dd605-6362-418a-a1e2-51022fe9aba1",
   "metadata": {},
   "outputs": [],
   "source": [
    "%load_ext autoreload\n",
    "%autoreload 2"
   ]
  },
  {
   "cell_type": "code",
   "execution_count": 2,
   "id": "11996533-5883-4d5e-9678-0efcfc87b9a9",
   "metadata": {},
   "outputs": [],
   "source": [
    "import plotly.io as pio \n",
    "pio.templates.default = \"simple_white\""
   ]
  },
  {
   "cell_type": "code",
   "execution_count": 5,
   "id": "6f13dc51-f7ba-455a-b964-f2db8c3ed999",
   "metadata": {},
   "outputs": [],
   "source": [
    "import os\n",
    "from snudda import Snudda\n",
    "\n",
    "neuron_path_dspn = os.path.join(\"..\", \"data\", \"dspn\")\n",
    "neuron_path_ispn = os.path.join(\"..\", \"data\", \"ispn\")\n",
    "\n",
    "network_path = os.path.join(\"..\", \"networks\", \"neuromodulation_PKAc_clamp\")"
   ]
  },
  {
   "cell_type": "code",
   "execution_count": 8,
   "id": "1cc95e91-a128-4e91-84f3-be6b3cfd13ea",
   "metadata": {},
   "outputs": [
    {
     "name": "stdout",
     "output_type": "stream",
     "text": [
      "Adding neurons: dSPN from dir ../data/dspn\n",
      "Adding neurons: iSPN from dir ../data/ispn\n",
      "Writing ../networks/neuromodulation_PKAc_clamp/network-config.json\n",
      "Writing ../networks/neuromodulation_PKAc_clamp/network-config.json\n",
      "Placing neurons\n",
      "Network path: ../networks/neuromodulation_PKAc_clamp\n",
      "Creating missing directory ../networks/neuromodulation_PKAc_clamp/log\n",
      "Created directory ../networks/neuromodulation_PKAc_clamp/log\n",
      "Reading SNUDDA_DATA=None from ../networks/neuromodulation_PKAc_clamp/network-config.json\n",
      "No n_putative_points and putative_density, setting n_putative_points = 63\n",
      "(this must be larger than the number of neurons you want to place)\n",
      "Generating 63 points for ../networks/neuromodulation_PKAc_clamp/mesh/Cube-cube-mesh-2.917951293943981e-05.obj\n",
      "Filtering, keeping inside points: 3 / 25\n",
      "Managed to create 3 putative points within the volume.\n",
      "  WARNING --> is the volume too small? You can create new cube mesh using create_cube_mesh.py\n",
      "\n",
      "Example how to use create_cube_mesh.py:\n",
      "from snudda.place.create_cube_mesh import create_cube_mesh\n",
      "create_cube_mesh(file_name='your_cube_mesh_name.obj', \n",
      "                 centre_point=(0,0,0), side_len=300e-6,\n",
      "                 description='Adjust side_len to get correct neuron density')\n",
      "\n",
      "neuron_name = 'dSPN_0', num = 1, neuron_path = '../data/dspn/str-dspn-e150602_c1_D1-mWT-0728MSN01-v20211026'\n",
      "neuron_name = 'iSPN_0', num = 1, neuron_path = '../data/ispn/str-ispn-e150908_c4_D2-m51-5-DE-v20220622'\n",
      "stop_parallel disabled, to keep pool running.\n",
      "\n",
      "Execution time: 0.0s\n",
      "Touch detection\n",
      "Network path: ../networks/neuromodulation_PKAc_clamp\n",
      "Creating missing directory ../networks/neuromodulation_PKAc_clamp/voxels\n",
      "Created directory ../networks/neuromodulation_PKAc_clamp/voxels\n",
      "Reading SNUDDA_DATA=None from ../networks/neuromodulation_PKAc_clamp/network-config.json\n",
      "No d_view specified, running distribute neurons in serial\n",
      "No connections specified in connectivity_distribution.\n",
      "Reading SNUDDA_DATA=None from ../networks/neuromodulation_PKAc_clamp/network-config.json\n",
      "stop_parallel disabled, to keep pool running.\n",
      "\n",
      "Execution time: 0.3s\n",
      "Prune synapses\n",
      "Network path: ../networks/neuromodulation_PKAc_clamp\n",
      "No file ../networks/neuromodulation_PKAc_clamp/pruning_merge_info.json\n",
      "stop_parallel disabled, to keep pool running.\n",
      "\n",
      "Execution time: 0.3s\n"
     ]
    }
   ],
   "source": [
    "snudda = Snudda(network_path=network_path)\n",
    "si = snudda.init_tiny(neuron_paths=[neuron_path_dspn, neuron_path_ispn], \n",
    "                      neuron_names=[\"dSPN\", \"iSPN\"], number_of_neurons=[1, 1],\n",
    "                      density=80500,\n",
    "                      d_min=15e-6,\n",
    "                      random_seed=123)\n",
    "\n",
    "si.network_data[\"regions\"][\"Cube\"][\"neurons\"][\"dSPN\"][\"reaction_diffusion\"] = \"reaction_diffusion_D1_empty.json\"\n",
    "si.network_data[\"regions\"][\"Cube\"][\"neurons\"][\"dSPN\"][\"modulation\"] = \"modulation_parameters.json\"\n",
    "si.network_data[\"regions\"][\"Cube\"][\"neurons\"][\"dSPN\"][\"modulation_key\"] = \"abc\"\n",
    "\n",
    "si.network_data[\"regions\"][\"Cube\"][\"neurons\"][\"iSPN\"][\"reaction_diffusion\"] = \"reaction_diffusion_D2_empty.json\"\n",
    "si.network_data[\"regions\"][\"Cube\"][\"neurons\"][\"iSPN\"][\"modulation\"] = \"modulation_parameters.json\"\n",
    "si.network_data[\"regions\"][\"Cube\"][\"neurons\"][\"iSPN\"][\"modulation_key\"] = \"abc\"\n",
    "\n",
    "\n",
    "# How the ion channels are modified by DA\n",
    "si.network_data[\"regions\"][\"Cube\"][\"neurons\"][\"dSPN\"][\"modulation\"] = \"test-modulation.json\"\n",
    "# si.network_data[\"regions\"][\"Cube\"][\"neurons\"][\"dspn\"][\"modulation\"] = \"test-modulation-no-effect.json\"\n",
    "# si.network_data[\"regions\"][\"Cube\"][\"neurons\"][\"dspn\"][\"modulation\"] = \"test-modulation-exclude-all.json\"\n",
    "\n",
    "\n",
    "si.network_data[\"regions\"][\"Cube\"][\"neurons\"][\"dSPN\"][\"modulation_key\"] = \"abc\"\n",
    "\n",
    "si.write_json()\n",
    "\n",
    "snudda.create_network()"
   ]
  },
  {
   "cell_type": "code",
   "execution_count": 11,
   "id": "0dceede8-06a9-4b7e-8906-01b47efc8077",
   "metadata": {},
   "outputs": [
    {
     "name": "stdout",
     "output_type": "stream",
     "text": [
      "Placing neurons\n",
      "Network path: ../networks/neuromodulation_PKAc_clamp\n",
      "Reading SNUDDA_DATA=None from ../networks/neuromodulation_PKAc_clamp/network-config.json\n",
      "Reading SNUDDA_DATA=/home/hjorth/HBP/Snudda/snudda/utils/../data from ../networks/neuromodulation_PKAc_clamp/network-synapses.hdf5\n",
      "No n_putative_points and putative_density, setting n_putative_points = 63\n",
      "(this must be larger than the number of neurons you want to place)\n",
      "Generating 63 points for ../networks/neuromodulation_PKAc_clamp/mesh/Cube-cube-mesh-2.917951293943981e-05.obj\n",
      "Filtering, keeping inside points: 3 / 25\n",
      "Managed to create 3 putative points within the volume.\n",
      "  WARNING --> is the volume too small? You can create new cube mesh using create_cube_mesh.py\n",
      "\n",
      "Example how to use create_cube_mesh.py:\n",
      "from snudda.place.create_cube_mesh import create_cube_mesh\n",
      "create_cube_mesh(file_name='your_cube_mesh_name.obj', \n",
      "                 centre_point=(0,0,0), side_len=300e-6,\n",
      "                 description='Adjust side_len to get correct neuron density')\n",
      "\n",
      "neuron_name = 'dSPN_0', num = 1, neuron_path = '../data/dspn/str-dspn-e150602_c1_D1-mWT-0728MSN01-v20211026'\n",
      "neuron_name = 'iSPN_0', num = 1, neuron_path = '../data/ispn/str-ispn-e150908_c4_D2-m51-5-DE-v20220622'\n",
      "stop_parallel disabled, to keep pool running.\n",
      "\n",
      "Execution time: 0.0s\n",
      "Touch detection\n",
      "Network path: ../networks/neuromodulation_PKAc_clamp\n",
      "Reading SNUDDA_DATA=None from ../networks/neuromodulation_PKAc_clamp/network-config.json\n",
      "Reading SNUDDA_DATA=/home/hjorth/HBP/Snudda/snudda/utils/../data from ../networks/neuromodulation_PKAc_clamp/network-synapses.hdf5\n",
      "No d_view specified, running distribute neurons in serial\n",
      "No connections specified in connectivity_distribution.\n",
      "Reading SNUDDA_DATA=None from ../networks/neuromodulation_PKAc_clamp/network-config.json\n",
      "stop_parallel disabled, to keep pool running.\n",
      "\n",
      "Execution time: 0.1s\n",
      "Prune synapses\n",
      "Network path: ../networks/neuromodulation_PKAc_clamp\n",
      "No file ../networks/neuromodulation_PKAc_clamp/pruning_merge_info.json\n",
      "stop_parallel disabled, to keep pool running.\n",
      "\n",
      "Execution time: 0.1s\n"
     ]
    }
   ],
   "source": [
    "snd = Snudda(network_path=network_path, parallel=False)\n",
    "snd.create_network()"
   ]
  },
  {
   "cell_type": "code",
   "execution_count": null,
   "id": "74d590c4-672a-43e7-aae6-e9acf62d6c59",
   "metadata": {},
   "outputs": [],
   "source": []
  }
 ],
 "metadata": {
  "kernelspec": {
   "display_name": "Python 3 (ipykernel)",
   "language": "python",
   "name": "python3"
  },
  "language_info": {
   "codemirror_mode": {
    "name": "ipython",
    "version": 3
   },
   "file_extension": ".py",
   "mimetype": "text/x-python",
   "name": "python",
   "nbconvert_exporter": "python",
   "pygments_lexer": "ipython3",
   "version": "3.11.2"
  }
 },
 "nbformat": 4,
 "nbformat_minor": 5
}
