{
 "cells": [
  {
   "cell_type": "markdown",
   "id": "60a515bc-56be-4113-988c-c2252718d50a",
   "metadata": {},
   "source": [
    "# Test of PKAc impact\n",
    "\n",
    "Here we simulate a dSPN and an iSPN neuron, and see what the effect is on clamping PKAc first to the half activation value 3.6e-6mM (baseline), then to 0 (for ispn), and to 50e-6mM (for dspn)\n",
    "\n",
    "__This version is driven by synaptic input.__"
   ]
  },
  {
   "cell_type": "code",
   "execution_count": 1,
   "id": "a35dd605-6362-418a-a1e2-51022fe9aba1",
   "metadata": {},
   "outputs": [],
   "source": [
    "%load_ext autoreload\n",
    "%autoreload 2"
   ]
  },
  {
   "cell_type": "code",
   "execution_count": 2,
   "id": "11996533-5883-4d5e-9678-0efcfc87b9a9",
   "metadata": {},
   "outputs": [],
   "source": [
    "import plotly.io as pio \n",
    "pio.templates.default = \"simple_white\""
   ]
  },
  {
   "cell_type": "code",
   "execution_count": 3,
   "id": "6f13dc51-f7ba-455a-b964-f2db8c3ed999",
   "metadata": {},
   "outputs": [],
   "source": [
    "import os\n",
    "from snudda import Snudda\n",
    "\n",
    "# neuron_path_dspn = os.path.join(\"..\", \"data\", \"dspn\")\n",
    "# neuron_path_ispn = os.path.join(\"..\", \"data\", \"ispn\")\n",
    "\n",
    "neuron_path_dspn = \"/home/hjorth/HBP/BasalGangliaData/data/neurons/striatum/dspn/str-dspn-e150917_c10_D1-mWT-P270-20-v20220620\"\n",
    "neuron_path_ispn = \"/home/hjorth/HBP/BasalGangliaData/data/neurons/striatum/ispn/str-ispn-e160118_c10_D2-m46-3-DE-v20220622\"\n",
    "\n",
    "snudda_data = \"/home/hjorth/HBP/BasalGangliaData/data\"\n",
    "\n",
    "network_path = os.path.join(\"..\", \"networks\", \"neuromodulation_PKAc_synaptic_input\")\n",
    "\n",
    "sim_time = 2.0\n",
    "sim_config_on = \"da_experiment_synaptic_on_bath_sbml.json\"\n",
    "sim_config_off = \"da_experiment_synaptic_off_bath_sbml.json\"\n",
    "mech_dir = \"/home/hjorth/HBP/BasalGangliaData/data/neurons/mechanisms\"\n",
    "\n",
    "sim_output_neuromodulation_ON = os.path.join(network_path, \"simulation\", \"output_neuromodulation_ON.hdf5\")\n",
    "sim_output_neuromodulation_OFF = os.path.join(network_path, \"simulation\", \"output_neuromodulation_OFF.hdf5\")"
   ]
  },
  {
   "cell_type": "code",
   "execution_count": 4,
   "id": "1cc95e91-a128-4e91-84f3-be6b3cfd13ea",
   "metadata": {},
   "outputs": [
    {
     "name": "stdout",
     "output_type": "stream",
     "text": [
      "Adding neurons: dSPN from dir /home/hjorth/HBP/BasalGangliaData/data/neurons/striatum/dspn/str-dspn-e150917_c10_D1-mWT-P270-20-v20220620\n",
      "Adding neurons: iSPN from dir /home/hjorth/HBP/BasalGangliaData/data/neurons/striatum/ispn/str-ispn-e160118_c10_D2-m46-3-DE-v20220622\n",
      "Writing ../networks/neuromodulation_PKAc_synaptic_input/network-config.json\n",
      "Writing ../networks/neuromodulation_PKAc_synaptic_input/network-config.json\n",
      "Placing neurons\n",
      "Network path: ../networks/neuromodulation_PKAc_synaptic_input\n",
      "Reading SNUDDA_DATA=/home/hjorth/HBP/BasalGangliaData/data from ../networks/neuromodulation_PKAc_synaptic_input/network-config.json\n",
      "No n_putative_points and putative_density, setting n_putative_points = 134\n",
      "(this must be larger than the number of neurons you want to place)\n",
      "Generating 134 points for ../networks/neuromodulation_PKAc_synaptic_input/mesh/Cube-cube-mesh-4.6319589535986436e-05.obj\n",
      "Filtering, keeping inside points: 11 / 58\n",
      "neuron_name = 'dSPN', num = 4, neuron_path = '/home/hjorth/HBP/BasalGangliaData/data/neurons/striatum/dspn/str-dspn-e150917_c10_D1-mWT-P270-20-v20220620'\n",
      "neuron_name = 'iSPN', num = 4, neuron_path = '/home/hjorth/HBP/BasalGangliaData/data/neurons/striatum/ispn/str-ispn-e160118_c10_D2-m46-3-DE-v20220622'\n",
      "stop_parallel disabled, to keep pool running.\n",
      "\n",
      "Execution time: 0.0s\n",
      "Touch detection\n",
      "Network path: ../networks/neuromodulation_PKAc_synaptic_input\n",
      "Reading SNUDDA_DATA=/home/hjorth/HBP/BasalGangliaData/data from ../networks/neuromodulation_PKAc_synaptic_input/network-config.json\n",
      "No d_view specified, running distribute neurons in serial\n",
      "No connections specified in connectivity_distribution.\n",
      "Reading SNUDDA_DATA=/home/hjorth/HBP/BasalGangliaData/data from ../networks/neuromodulation_PKAc_synaptic_input/network-config.json\n",
      "stop_parallel disabled, to keep pool running.\n",
      "\n",
      "Execution time: 0.1s\n",
      "Prune synapses\n",
      "Network path: ../networks/neuromodulation_PKAc_synaptic_input\n",
      "No file ../networks/neuromodulation_PKAc_synaptic_input/pruning_merge_info.json\n",
      "stop_parallel disabled, to keep pool running.\n",
      "\n",
      "Execution time: 0.1s\n"
     ]
    }
   ],
   "source": [
    "snudda = Snudda(network_path=network_path)\n",
    "si = snudda.init_tiny(neuron_paths=[neuron_path_dspn, neuron_path_ispn], \n",
    "                      neuron_names=[\"dSPN\", \"iSPN\"], number_of_neurons=[4, 4],\n",
    "                      snudda_data=snudda_data,\n",
    "                      density=80500,\n",
    "                      d_min=15e-6,\n",
    "                      random_seed=123)\n",
    "\n",
    "si.network_data[\"regions\"][\"Cube\"][\"neurons\"][\"dSPN\"][\"reaction_diffusion\"] = \"reaction_diffusion_D1_empty.json\"\n",
    "si.network_data[\"regions\"][\"Cube\"][\"neurons\"][\"dSPN\"][\"modulation\"] = \"./modulation_parameters.json\"\n",
    "si.network_data[\"regions\"][\"Cube\"][\"neurons\"][\"dSPN\"][\"modulation_key\"] = \"abc\"\n",
    "\n",
    "si.network_data[\"regions\"][\"Cube\"][\"neurons\"][\"iSPN\"][\"reaction_diffusion\"] = \"reaction_diffusion_D2_empty.json\"\n",
    "si.network_data[\"regions\"][\"Cube\"][\"neurons\"][\"iSPN\"][\"modulation\"] = \"./modulation_parameters.json\"\n",
    "si.network_data[\"regions\"][\"Cube\"][\"neurons\"][\"iSPN\"][\"modulation_key\"] = \"abc\"\n",
    "\n",
    "\n",
    "si.network_data[\"regions\"][\"Cube\"][\"neurons\"][\"dSPN\"][\"modulation_key\"] = \"abc\"\n",
    "\n",
    "si.write_json()\n",
    "\n",
    "snudda.create_network()"
   ]
  },
  {
   "cell_type": "code",
   "execution_count": 5,
   "id": "0dceede8-06a9-4b7e-8906-01b47efc8077",
   "metadata": {},
   "outputs": [
    {
     "name": "stdout",
     "output_type": "stream",
     "text": [
      "Placing neurons\n",
      "Network path: ../networks/neuromodulation_PKAc_synaptic_input\n",
      "Reading SNUDDA_DATA=/home/hjorth/HBP/BasalGangliaData/data from ../networks/neuromodulation_PKAc_synaptic_input/network-config.json\n",
      "No n_putative_points and putative_density, setting n_putative_points = 134\n",
      "(this must be larger than the number of neurons you want to place)\n",
      "Generating 134 points for ../networks/neuromodulation_PKAc_synaptic_input/mesh/Cube-cube-mesh-4.6319589535986436e-05.obj\n",
      "Filtering, keeping inside points: 11 / 58\n",
      "neuron_name = 'dSPN', num = 4, neuron_path = '/home/hjorth/HBP/BasalGangliaData/data/neurons/striatum/dspn/str-dspn-e150917_c10_D1-mWT-P270-20-v20220620'\n",
      "neuron_name = 'iSPN', num = 4, neuron_path = '/home/hjorth/HBP/BasalGangliaData/data/neurons/striatum/ispn/str-ispn-e160118_c10_D2-m46-3-DE-v20220622'\n",
      "stop_parallel disabled, to keep pool running.\n",
      "\n",
      "Execution time: 0.0s\n",
      "Touch detection\n",
      "Network path: ../networks/neuromodulation_PKAc_synaptic_input\n",
      "Reading SNUDDA_DATA=/home/hjorth/HBP/BasalGangliaData/data from ../networks/neuromodulation_PKAc_synaptic_input/network-config.json\n",
      "No d_view specified, running distribute neurons in serial\n",
      "No connections specified in connectivity_distribution.\n",
      "Reading SNUDDA_DATA=/home/hjorth/HBP/BasalGangliaData/data from ../networks/neuromodulation_PKAc_synaptic_input/network-config.json\n",
      "stop_parallel disabled, to keep pool running.\n",
      "\n",
      "Execution time: 0.1s\n",
      "Prune synapses\n",
      "Network path: ../networks/neuromodulation_PKAc_synaptic_input\n",
      "No file ../networks/neuromodulation_PKAc_synaptic_input/pruning_merge_info.json\n",
      "stop_parallel disabled, to keep pool running.\n",
      "\n",
      "Execution time: 0.1s\n"
     ]
    }
   ],
   "source": [
    "snd = Snudda(network_path=network_path, parallel=False)\n",
    "snd.create_network()"
   ]
  },
  {
   "cell_type": "code",
   "execution_count": 6,
   "id": "d624e1aa-86b2-41a9-b052-dcd4654e32ee",
   "metadata": {},
   "outputs": [
    {
     "name": "stdout",
     "output_type": "stream",
     "text": [
      "Setting up inputs, assuming input.json exists\n",
      "Reading SNUDDA_DATA=/home/hjorth/HBP/BasalGangliaData/data from ../networks/neuromodulation_PKAc_synaptic_input/network-config.json\n",
      "Writing input spikes to ../networks/neuromodulation_PKAc_synaptic_input/input-spikes.hdf5\n",
      "Reading SNUDDA_DATA=/home/hjorth/HBP/BasalGangliaData/data from ../networks/neuromodulation_PKAc_synaptic_input/network-config.json\n",
      "!!! Warning, combining definition of cortical with cortical input for neuron dSPN (0) (meta modified by input_config)\n",
      "!!! Warning, combining definition of cortical with cortical input for neuron dSPN (1) (meta modified by input_config)\n",
      "!!! Warning, combining definition of cortical with cortical input for neuron dSPN (2) (meta modified by input_config)\n",
      "!!! Warning, combining definition of cortical with cortical input for neuron dSPN (3) (meta modified by input_config)\n",
      "!!! Warning, combining definition of cortical with cortical input for neuron iSPN (4) (meta modified by input_config)\n",
      "!!! Warning, combining definition of cortical with cortical input for neuron iSPN (5) (meta modified by input_config)\n",
      "!!! Warning, combining definition of cortical with cortical input for neuron iSPN (6) (meta modified by input_config)\n",
      "!!! Warning, combining definition of cortical with cortical input for neuron iSPN (7) (meta modified by input_config)\n",
      "Writing spikes to ../networks/neuromodulation_PKAc_synaptic_input/input-spikes.hdf5\n",
      "stop_parallel disabled, to keep pool running.\n",
      "\n",
      "Execution time: 0.4s\n"
     ]
    },
    {
     "data": {
      "text/plain": [
       "<snudda.input.input.SnuddaInput at 0xffff3a576790>"
      ]
     },
     "execution_count": 6,
     "metadata": {},
     "output_type": "execute_result"
    }
   ],
   "source": [
    "snd.setup_input(input_config=\"simple_input.json\")\n"
   ]
  },
  {
   "cell_type": "code",
   "execution_count": 7,
   "id": "74d590c4-672a-43e7-aae6-e9acf62d6c59",
   "metadata": {},
   "outputs": [
    {
     "name": "stdout",
     "output_type": "stream",
     "text": [
      "snudda simulate ../networks/neuromodulation_PKAc_synaptic_input --time 2.0 --simulation_config da_experiment_synaptic_on_bath_sbml.json --mechdir /home/hjorth/HBP/BasalGangliaData/data/neurons/mechanisms --enable_rxd_neuromodulation --verbose\n"
     ]
    }
   ],
   "source": [
    "run_str_on = f\"snudda simulate {network_path} --time {sim_time} --simulation_config {sim_config_on} --mechdir {mech_dir} --enable_rxd_neuromodulation --verbose\"\n",
    "print(run_str_on)"
   ]
  },
  {
   "cell_type": "code",
   "execution_count": 8,
   "id": "1cd7d29c-1439-4039-b3eb-f26928b57a05",
   "metadata": {},
   "outputs": [
    {
     "name": "stdout",
     "output_type": "stream",
     "text": [
      "numprocs=1\n",
      "args.ipython_profile = None\n",
      "args: Namespace(action='simulate', path='../networks/neuromodulation_PKAc_synaptic_input', network_file=None, input_file=None, output_file=None, time=2.0, snudda_data=None, simulation_config='da_experiment_synaptic_on_bath_sbml.json', record_volt=True, randomseed=None, disable_synapses=None, disable_gj=None, mech_dir='/home/hjorth/HBP/BasalGangliaData/data/neurons/mechanisms', profile=False, verbose=True, exportCoreNeuron=False, record_all=None, enable_rxd_neuromodulation=True, disable_rxd_neuromodulation=None, ipython_profile=None)\n",
      "MPI Rank: 0, Size: 1\n",
      "Using input file ../networks/neuromodulation_PKAc_synaptic_input/input-spikes.hdf5\n",
      "NEURON mechanisms already compiled, make sure you have the correct version of NEURON modules.\n",
      "If you delete x86_64, aarch64, arm64 directories (or nrnmech.dll) then you will force a recompilation of the modules.\n",
      "Reading SNUDDA_DATA=/home/hjorth/HBP/BasalGangliaData/data from ../networks/neuromodulation_PKAc_synaptic_input/network-config.json\n",
      "MPI Rank: 0, Size: 1 -- NEURON: This is node 0 out of 1\n",
      "Reading config: da_experiment_synaptic_on_bath_sbml.json\n",
      "Loading simulation_config from da_experiment_synaptic_on_bath_sbml.json\n",
      "Using log file <_io.TextIOWrapper name='../networks/neuromodulation_PKAc_synaptic_input/log/network-simulation-ON.txt' mode='w' encoding='UTF-8'>\n",
      "Network file: ../networks/neuromodulation_PKAc_synaptic_input/network-synapses.hdf5\n",
      "Input file: ../networks/neuromodulation_PKAc_synaptic_input/input-spikes.hdf5\n",
      "Output file: ../networks/neuromodulation_PKAc_synaptic_input/simulation/output_neuromodulation_ON.hdf5\n",
      "Using network_file: ../networks/neuromodulation_PKAc_synaptic_input/network-synapses.hdf5\n",
      "Using input_file: ../networks/neuromodulation_PKAc_synaptic_input/input-spikes.hdf5\n",
      "Using output_file: ../networks/neuromodulation_PKAc_synaptic_input/simulation/output_neuromodulation_ON.hdf5\n",
      "Using logFile: ../networks/neuromodulation_PKAc_synaptic_input/log/network-simulation-ON.txt\n",
      "Worker 0 : Loading network from ../networks/neuromodulation_PKAc_synaptic_input/network-synapses.hdf5\n",
      "Loading config file ../networks/neuromodulation_PKAc_synaptic_input/network-config.json\n",
      "0 : Memory status: 58% free\n",
      "Distributing neurons (#2).\n",
      "Worker 0 has real neurons real_neuron_id[r_idx] = array([0, 1, 2, 3, 4, 5, 6, 7])\n",
      "virtual_neuron_id[v_idx] =array([], dtype=float64)\n",
      "RxD for neuromodulation: ENABLED.\n",
      "RxD extracellular not enabled.\n",
      "Setup neurons\n",
      "Node 0 - cell 0 dSPN\n",
      "Neuron dSPN (0) resting voltage = -87.00000000000001\n",
      "!!! Popping extra segment from neuron -- temp fix!\n",
      "Node 0 - cell 1 dSPN\n",
      "Neuron dSPN (1) resting voltage = -87.00000000000001\n",
      "!!! Popping extra segment from neuron -- temp fix!\n",
      "Node 0 - cell 2 dSPN\n",
      "Neuron dSPN (2) resting voltage = -87.00000000000001\n",
      "!!! Popping extra segment from neuron -- temp fix!\n",
      "Node 0 - cell 3 dSPN\n",
      "Neuron dSPN (3) resting voltage = -87.00000000000001\n",
      "!!! Popping extra segment from neuron -- temp fix!\n",
      "Node 0 - cell 4 iSPN\n",
      "Neuron iSPN (4) resting voltage = -83.0\n",
      "!!! Popping extra segment from neuron -- temp fix!\n",
      "Node 0 - cell 5 iSPN\n",
      "Neuron iSPN (5) resting voltage = -83.0\n",
      "!!! Popping extra segment from neuron -- temp fix!\n",
      "Node 0 - cell 6 iSPN\n",
      "Neuron iSPN (6) resting voltage = -83.0\n",
      "!!! Popping extra segment from neuron -- temp fix!\n",
      "Node 0 - cell 7 iSPN\n",
      "Neuron iSPN (7) resting voltage = -83.0\n",
      "!!! Popping extra segment from neuron -- temp fix!\n",
      "Build node cache dSPN (dSPN[0])\n",
      "Forcing rxd update...\n",
      "Updating node data... (takes ≈ 1 microcentury)\n",
      "RxD update completed.\n",
      "Node cache built.\n",
      "Build node cache dSPN (dSPN[1])\n",
      "Node cache built.\n",
      "Build node cache dSPN (dSPN[2])\n",
      "Node cache built.\n",
      "Build node cache dSPN (dSPN[3])\n",
      "Node cache built.\n",
      "Build node cache iSPN (iSPN[0])\n",
      "Node cache built.\n",
      "Build node cache iSPN (iSPN[1])\n",
      "Node cache built.\n",
      "Build node cache iSPN (iSPN[2])\n",
      "Node cache built.\n",
      "Build node cache iSPN (iSPN[3])\n",
      "Node cache built.\n",
      "0 : Memory status: 58% free\n",
      "Adding gap junctions.\n",
      "connect_network_gap_junctions_local\n",
      "Finding node local gap junctions...\n",
      "Added 0.0 gap junctions to simulation (0 total)\n",
      "Adding synapses.\n",
      "connect_network_synapses\n",
      "Added 0 on worker 0\n",
      "Added 0 synapses to simulation (0 total)\n",
      "0 : Memory status: 58% free\n",
      "Recording all RxD species from neurons: [0, 1, 2, 3, 4, 5, 6, 7]\n",
      "Recording all RxD species from neurons: 0\n",
      "Recording all RxD species from neurons: 1\n",
      "Recording all RxD species from neurons: 2\n",
      "Recording all RxD species from neurons: 3\n",
      "Recording all RxD species from neurons: 4\n",
      "Recording all RxD species from neurons: 5\n",
      "Recording all RxD species from neurons: 6\n",
      "Recording all RxD species from neurons: 7\n",
      "Adding bath application of PKAc to all neurons of type dSPN, e.g neuron_id =array([0, 1, 2, 3]) \n",
      "Bath application t=[    0.  1000.  1000.  1400.  1400. 20000.]ms, conc=[3.6e-06 3.6e-06 3.6e-05 3.6e-05 3.6e-06 3.6e-06] mM\n",
      "Playing concentration vector for PKAc in all compartments.\n",
      "Playing concentration vector for PKAc in all compartments.\n",
      "Playing concentration vector for PKAc in all compartments.\n",
      "Playing concentration vector for PKAc in all compartments.\n",
      "Adding bath application of PKAc to all neurons of type iSPN, e.g neuron_id =array([4, 5, 6, 7]) \n",
      "Bath application t=[    0.  1000.  1000.  1400.  1400. 20000.]ms, conc=[3.6e-06 3.6e-06 1.8e-06 1.8e-06 3.6e-06 3.6e-06] mM\n",
      "Playing concentration vector for PKAc in all compartments.\n",
      "Playing concentration vector for PKAc in all compartments.\n",
      "Playing concentration vector for PKAc in all compartments.\n",
      "Playing concentration vector for PKAc in all compartments.\n",
      "Adding external (cortical, thalamic) input from ../networks/neuromodulation_PKAc_synaptic_input/input-spikes.hdf5\n",
      "0 : Memory status: 58% free\n",
      "0 : Memory status: 58% free\n",
      "Running simulation for 2000.0 ms.\n",
      "Running simulation for 2.0 s\n",
      "Running Neuron simulator 2000 ms, with dt=0.025\n",
      "  1% done. Elapsed: 1.2 s, estimated time left: 119.9 s\n",
      "  2% done. Elapsed: 2.4 s, estimated time left: 116.7 s\n",
      "  3% done. Elapsed: 3.5 s, estimated time left: 114.5 s\n",
      "  4% done. Elapsed: 4.7 s, estimated time left: 112.9 s\n",
      "  5% done. Elapsed: 5.9 s, estimated time left: 113.0 s\n",
      " 10% done. Elapsed: 11.8 s, estimated time left: 106.1 s\n",
      " 20% done. Elapsed: 23.6 s, estimated time left: 94.6 s\n",
      " 30% done. Elapsed: 35.5 s, estimated time left: 82.9 s\n",
      " 40% done. Elapsed: 47.2 s, estimated time left: 70.8 s\n",
      " 50% done. Elapsed: 59.0 s, estimated time left: 59.0 s\n",
      " 60% done. Elapsed: 70.7 s, estimated time left: 47.1 s\n",
      " 70% done. Elapsed: 82.5 s, estimated time left: 35.4 s\n",
      " 80% done. Elapsed: 94.4 s, estimated time left: 23.6 s\n",
      " 90% done. Elapsed: 106.1 s, estimated time left: 11.8 s\n",
      "100% done. Elapsed: 117.8 s, estimated time left: 0.0 s\n",
      "Neuron simulation finished\n",
      "Simulation done.\n",
      "Simulation run time: 118.0 s\n",
      "Simulation done, saving output\n",
      "Writing network output to ../networks/neuromodulation_PKAc_synaptic_input/simulation/output_neuromodulation_ON.hdf5\n",
      "Using sample dt = None (sample step size None)\n",
      "Worker 1/1 writing data to ../networks/neuromodulation_PKAc_synaptic_input/simulation/output_neuromodulation_ON.hdf5\n",
      "Program run time: 122.1s\n"
     ]
    },
    {
     "data": {
      "text/plain": [
       "0"
      ]
     },
     "execution_count": 8,
     "metadata": {},
     "output_type": "execute_result"
    }
   ],
   "source": [
    "os.system(run_str_on)"
   ]
  },
  {
   "cell_type": "code",
   "execution_count": 9,
   "id": "dc73eb84-536b-451a-8bf5-3b30f4335e5f",
   "metadata": {},
   "outputs": [
    {
     "name": "stdout",
     "output_type": "stream",
     "text": [
      "snudda simulate ../networks/neuromodulation_PKAc_synaptic_input --time 2.0 --simulation_config da_experiment_synaptic_off_bath_sbml.json --mechdir /home/hjorth/HBP/BasalGangliaData/data/neurons/mechanisms\n"
     ]
    }
   ],
   "source": [
    "run_str_off = f\"snudda simulate {network_path} --time {sim_time} --simulation_config {sim_config_off} --mechdir {mech_dir}\"\n",
    "print(run_str_off)"
   ]
  },
  {
   "cell_type": "code",
   "execution_count": 10,
   "id": "8f315d57-4863-47c0-955c-0313d194713b",
   "metadata": {},
   "outputs": [
    {
     "name": "stdout",
     "output_type": "stream",
     "text": [
      "numprocs=1\n",
      "args.ipython_profile = None\n",
      "args: Namespace(action='simulate', path='../networks/neuromodulation_PKAc_synaptic_input', network_file=None, input_file=None, output_file=None, time=2.0, snudda_data=None, simulation_config='da_experiment_synaptic_off_bath_sbml.json', record_volt=True, randomseed=None, disable_synapses=None, disable_gj=None, mech_dir='/home/hjorth/HBP/BasalGangliaData/data/neurons/mechanisms', profile=False, verbose=False, exportCoreNeuron=False, record_all=None, enable_rxd_neuromodulation=None, disable_rxd_neuromodulation=None, ipython_profile=None)\n",
      "MPI Rank: 0, Size: 1\n",
      "Using input file ../networks/neuromodulation_PKAc_synaptic_input/input-spikes.hdf5\n",
      "NEURON mechanisms already compiled, make sure you have the correct version of NEURON modules.\n",
      "If you delete x86_64, aarch64, arm64 directories (or nrnmech.dll) then you will force a recompilation of the modules.\n",
      "Reading SNUDDA_DATA=/home/hjorth/HBP/BasalGangliaData/data from ../networks/neuromodulation_PKAc_synaptic_input/network-config.json\n",
      "MPI Rank: 0, Size: 1 -- NEURON: This is node 0 out of 1\n",
      "Reading config: da_experiment_synaptic_off_bath_sbml.json\n",
      "Loading simulation_config from da_experiment_synaptic_off_bath_sbml.json\n",
      "0 : Memory status: 63% free\n",
      "0 : Memory status: 63% free\n",
      "Added 0.0 gap junctions to simulation (0 total)\n",
      "Added 0 synapses to simulation (0 total)\n",
      "0 : Memory status: 63% free\n",
      "0 : Memory status: 63% free\n",
      "0 : Memory status: 63% free\n",
      "Running simulation for 2000.0 ms.\n",
      "Running simulation for 2.0 s\n",
      "Running Neuron simulator 2000 ms, with dt=0.025\n",
      "  1% done. Elapsed: 1.1 s, estimated time left: 104.7 s\n",
      "100% done. Elapsed: 106.8 s, estimated time left: 0.0 s\n",
      "Neuron simulation finished\n",
      "Simulation run time: 106.8 s\n",
      "Simulation done, saving output\n",
      "Writing network output to ../networks/neuromodulation_PKAc_synaptic_input/simulation/output_neuromodulation_OFF.hdf5\n",
      "Using sample dt = None (sample step size None)\n",
      "Worker 1/1 writing data to ../networks/neuromodulation_PKAc_synaptic_input/simulation/output_neuromodulation_OFF.hdf5\n",
      "Program run time: 109.6s\n"
     ]
    },
    {
     "data": {
      "text/plain": [
       "0"
      ]
     },
     "execution_count": 10,
     "metadata": {},
     "output_type": "execute_result"
    }
   ],
   "source": [
    "os.system(run_str_off)"
   ]
  },
  {
   "cell_type": "code",
   "execution_count": 11,
   "id": "74305bfb-722e-4ffb-8412-604597aed225",
   "metadata": {},
   "outputs": [
    {
     "name": "stdout",
     "output_type": "stream",
     "text": [
      "Loading ../networks/neuromodulation_PKAc_synaptic_input/simulation/output_neuromodulation_ON.hdf5\n"
     ]
    }
   ],
   "source": [
    "from snudda.utils import SnuddaLoadSimulation\n",
    "\n",
    "nd = SnuddaLoadSimulation(sim_output_neuromodulation_ON)\n",
    "time = nd.get_time()\n",
    "\n",
    "# Double check that 0 is dSPN and 1 is iSPN\n",
    "data_pka_dspn = nd.get_data(\"PKAc\", 0)[0][0]\n",
    "data_pka_ispn = nd.get_data(\"PKAc\", 1)[0][1]\n",
    "\n",
    "# This is saved with add_rxd_internal_concentration_recording_all -- check that it worked \n",
    "data_pka_all0 = nd.get_data(\"PKAc\", 0)[0][0]"
   ]
  },
  {
   "cell_type": "code",
   "execution_count": null,
   "id": "0ed019e8-4245-40bd-991e-ce6d9781913b",
   "metadata": {},
   "outputs": [],
   "source": []
  },
  {
   "cell_type": "code",
   "execution_count": 12,
   "id": "d93b983a-e4bf-4a07-b904-bd93955e6dd1",
   "metadata": {},
   "outputs": [
    {
     "data": {
      "text/plain": [
       "array([b'dSPN', b'dSPN', b'dSPN', b'dSPN', b'iSPN', b'iSPN', b'iSPN',\n",
       "       b'iSPN'], dtype='|S4')"
      ]
     },
     "execution_count": 12,
     "metadata": {},
     "output_type": "execute_result"
    }
   ],
   "source": [
    "nd.network_simulation_file[\"meta_data\"][\"name\"][()]"
   ]
  },
  {
   "cell_type": "code",
   "execution_count": 13,
   "id": "33ac9248-483f-4e59-935d-47b61bc74ea3",
   "metadata": {},
   "outputs": [
    {
     "data": {
      "text/plain": [
       "['PKAc',\n",
       " 'bk_ms.ik',\n",
       " 'bk_ms.o',\n",
       " 'cal12_ms.ical',\n",
       " 'cal12_ms.modulation_factor',\n",
       " 'cal13_ms.ical',\n",
       " 'cal13_ms.modulation_factor',\n",
       " 'can_ms.ica',\n",
       " 'car_ms.ica',\n",
       " 'car_ms.modulation_factor',\n",
       " 'car_ms.modulation_factor2',\n",
       " 'kaf_ms.ik',\n",
       " 'kaf_ms.modulation_factor_g',\n",
       " 'kaf_ms.modulation_factor_shift',\n",
       " 'kas_ms.ik',\n",
       " 'kdr_ms.ik',\n",
       " 'kir_ms.ik',\n",
       " 'kir_ms.modulation_factor',\n",
       " 'naf_ms.ina',\n",
       " 'naf_ms.modulation_factor',\n",
       " 'sk_ms.ik',\n",
       " 'sk_ms.modulation_factor',\n",
       " 'sk_ms.o',\n",
       " 'spikes',\n",
       " 'voltage']"
      ]
     },
     "execution_count": 13,
     "metadata": {},
     "output_type": "execute_result"
    }
   ],
   "source": [
    "nd.list_data_types(0)"
   ]
  },
  {
   "cell_type": "code",
   "execution_count": 14,
   "id": "2edae81e-01a8-415f-a91d-1dcc678032bb",
   "metadata": {},
   "outputs": [
    {
     "data": {
      "text/plain": [
       "['PKAc',\n",
       " 'bk_ms.ik',\n",
       " 'bk_ms.o',\n",
       " 'cal12_ms.ical',\n",
       " 'cal12_ms.modulation_factor',\n",
       " 'cal13_ms.ical',\n",
       " 'cal13_ms.modulation_factor',\n",
       " 'can_ms.ica',\n",
       " 'car_ms.ica',\n",
       " 'car_ms.modulation_factor',\n",
       " 'car_ms.modulation_factor2',\n",
       " 'kaf_ms.ik',\n",
       " 'kaf_ms.modulation_factor_g',\n",
       " 'kaf_ms.modulation_factor_shift',\n",
       " 'kas_ms.ik',\n",
       " 'kdr_ms.ik',\n",
       " 'kir_ms.ik',\n",
       " 'kir_ms.modulation_factor',\n",
       " 'naf_ms.ina',\n",
       " 'naf_ms.modulation_factor',\n",
       " 'sk_ms.ik',\n",
       " 'sk_ms.modulation_factor',\n",
       " 'sk_ms.o',\n",
       " 'spikes',\n",
       " 'voltage']"
      ]
     },
     "execution_count": 14,
     "metadata": {},
     "output_type": "execute_result"
    }
   ],
   "source": [
    "nd.list_data_types(1)"
   ]
  },
  {
   "cell_type": "code",
   "execution_count": 15,
   "id": "4320aa6f-cd33-434a-813c-1c5826a09c23",
   "metadata": {},
   "outputs": [],
   "source": [
    "data_types = nd.list_data_types(0)\n",
    "all_species_data = nd.get_all_data(neuron_id=0, exclude=[\"spikes\", \"voltage\"])\n",
    "time = nd.get_time()\n",
    "voltage = nd.get_data(\"voltage\", [0])"
   ]
  },
  {
   "cell_type": "code",
   "execution_count": 16,
   "id": "f235d298-3997-42d2-8647-260ecbb6739d",
   "metadata": {},
   "outputs": [
    {
     "data": {
      "text/html": [
       "<iframe\n",
       "    scrolling=\"no\"\n",
       "    width=\"100%\"\n",
       "    height=\"545px\"\n",
       "    src=\"iframe_figures/figure_16.html\"\n",
       "    frameborder=\"0\"\n",
       "    allowfullscreen\n",
       "></iframe>\n"
      ]
     },
     "metadata": {},
     "output_type": "display_data"
    }
   ],
   "source": [
    "import plotly.graph_objects as go\n",
    "import plotly.io as pio\n",
    "pio.renderers.default = \"iframe\"  # Do not save plots in the notebook, they can get BIG\n",
    "\n",
    "fig = go.Figure()\n",
    "for data_type in all_species_data:\n",
    "    idx = time >= 0.0\n",
    "    fig.add_trace(go.Scatter(x=time[idx], y=all_species_data[data_type][0][0].T[0][idx], name=data_type, line={\"width\":4}))\n",
    "\n",
    "\"\"\"\n",
    "fig.update_layout(xaxis_title=\"Time (s)\", yaxis_title=\"Concentration\", width=1000, height=800,\n",
    "                 font={\"size\":18},  # General font size for all elements\n",
    "                 legend={\"font\":{\"size\":16}},  # Specific font size for legend\n",
    "                 xaxis={\"title\":{\"font\":{\"size\":20}}, \"tickfont\":{\"size\":14}},  # X-axis title and tick labels\n",
    "                 yaxis={\"title\":{\"font\":{\"size\":20}}, \"tickfont\":{\"size\":14}})   # Y-axis title and tick labels\n",
    "\"\"\"\n",
    "fig.show()"
   ]
  },
  {
   "cell_type": "code",
   "execution_count": 17,
   "id": "2108e5a9-3b9a-45d2-86f9-c7a5e933349e",
   "metadata": {},
   "outputs": [
    {
     "data": {
      "text/plain": [
       "3.6e-06"
      ]
     },
     "execution_count": 17,
     "metadata": {},
     "output_type": "execute_result"
    }
   ],
   "source": [
    "import numpy as np\n",
    "np.min(all_species_data[\"PKAc\"][0][0])"
   ]
  },
  {
   "cell_type": "code",
   "execution_count": 18,
   "id": "c4b2ff5d-2895-4552-b45d-a593759662f6",
   "metadata": {},
   "outputs": [],
   "source": [
    "data_types2 = nd.list_data_types(1)\n",
    "all_species_data2 = nd.get_all_data(neuron_id=4, exclude=[\"spikes\", \"voltage\"])\n",
    "time2 = nd.get_time()\n",
    "voltage2 = nd.get_data(\"voltage\", [4])"
   ]
  },
  {
   "cell_type": "code",
   "execution_count": 19,
   "id": "8cec9f08-f576-4904-afa8-693b3dbf494a",
   "metadata": {},
   "outputs": [
    {
     "data": {
      "text/html": [
       "<iframe\n",
       "    scrolling=\"no\"\n",
       "    width=\"100%\"\n",
       "    height=\"545px\"\n",
       "    src=\"iframe_figures/figure_19.html\"\n",
       "    frameborder=\"0\"\n",
       "    allowfullscreen\n",
       "></iframe>\n"
      ]
     },
     "metadata": {},
     "output_type": "display_data"
    }
   ],
   "source": [
    "import plotly.graph_objects as go\n",
    "import plotly.io as pio\n",
    "pio.renderers.default = \"iframe\"  # Do not save plots in the notebook, they can get BIG\n",
    "\n",
    "fig = go.Figure()\n",
    "for data_type in all_species_data2:\n",
    "    idx2 = time2 >= 0.0\n",
    "    fig.add_trace(go.Scatter(x=time2[idx2], y=all_species_data2[data_type][0][4].T[0][idx], name=data_type, line={\"width\":4}))\n",
    "\n",
    "\"\"\"\n",
    "fig.update_layout(xaxis_title=\"Time (s)\", yaxis_title=\"Concentration\", width=1000, height=800,\n",
    "                 font={\"size\":18},  # General font size for all elements\n",
    "                 legend={\"font\":{\"size\":16}},  # Specific font size for legend\n",
    "                 xaxis={\"title\":{\"font\":{\"size\":20}}, \"tickfont\":{\"size\":14}},  # X-axis title and tick labels\n",
    "                 yaxis={\"title\":{\"font\":{\"size\":20}}, \"tickfont\":{\"size\":14}})   # Y-axis title and tick labels\n",
    "\"\"\"\n",
    "fig.show()"
   ]
  },
  {
   "cell_type": "code",
   "execution_count": 20,
   "id": "069e1970-cafb-4cac-a099-c9c5a43734a7",
   "metadata": {},
   "outputs": [
    {
     "data": {
      "text/html": [
       "<iframe\n",
       "    scrolling=\"no\"\n",
       "    width=\"100%\"\n",
       "    height=\"545px\"\n",
       "    src=\"iframe_figures/figure_20.html\"\n",
       "    frameborder=\"0\"\n",
       "    allowfullscreen\n",
       "></iframe>\n"
      ]
     },
     "metadata": {},
     "output_type": "display_data"
    }
   ],
   "source": [
    "from snudda.plotting.plotly.trace import PlotTrace\n",
    "\n",
    "pt_on = PlotTrace(snudda_load_simulation=nd)\n",
    "# pt_on.define_colour_by_neuron_id({0: \"blue\", 1: \"red\"})\n",
    "pt_on.define_colour_by_neuron_id({0: \"blue\", 1: \"blue\", 2: \"blue\", 3: \"blue\", \n",
    "                                  4: \"red\", 5: \"red\", 6: \"red\", 7: \"red\"})\n",
    "\n",
    "pt_on.plot_traces()"
   ]
  },
  {
   "cell_type": "code",
   "execution_count": 21,
   "id": "ad7ab4c1-a89f-4814-8176-cc55547e4e75",
   "metadata": {},
   "outputs": [
    {
     "name": "stdout",
     "output_type": "stream",
     "text": [
      "Loading ../networks/neuromodulation_PKAc_synaptic_input/simulation/output_neuromodulation_OFF.hdf5\n"
     ]
    }
   ],
   "source": [
    "from snudda.utils import SnuddaLoadSimulation\n",
    "\n",
    "nd_off = SnuddaLoadSimulation(sim_output_neuromodulation_OFF)\n",
    "time = nd_off.get_time()\n"
   ]
  },
  {
   "cell_type": "code",
   "execution_count": 22,
   "id": "9ad3626d-02b1-4647-bd2f-81c488634e4d",
   "metadata": {},
   "outputs": [
    {
     "data": {
      "text/html": [
       "<iframe\n",
       "    scrolling=\"no\"\n",
       "    width=\"100%\"\n",
       "    height=\"545px\"\n",
       "    src=\"iframe_figures/figure_22.html\"\n",
       "    frameborder=\"0\"\n",
       "    allowfullscreen\n",
       "></iframe>\n"
      ]
     },
     "metadata": {},
     "output_type": "display_data"
    }
   ],
   "source": [
    "# DA Off\n",
    "\n",
    "from snudda.plotting.plotly.trace import PlotTrace\n",
    "\n",
    "pt_off = PlotTrace(snudda_load_simulation=nd_off)\n",
    "# pt_off.define_colour_by_neuron_id({0: \"blue\", 1: \"red\"})\n",
    "pt_off.define_colour_by_neuron_id({0: \"blue\", 1: \"blue\", 2: \"blue\", 3: \"blue\", \n",
    "                                  4: \"red\", 5: \"red\", 6: \"red\", 7: \"red\"})\n",
    "pt_off.plot_traces()"
   ]
  },
  {
   "cell_type": "code",
   "execution_count": null,
   "id": "2b62073c-f2d3-4476-982e-04526cbbb657",
   "metadata": {},
   "outputs": [],
   "source": []
  }
 ],
 "metadata": {
  "kernelspec": {
   "display_name": "Python 3 (ipykernel)",
   "language": "python",
   "name": "python3"
  },
  "language_info": {
   "codemirror_mode": {
    "name": "ipython",
    "version": 3
   },
   "file_extension": ".py",
   "mimetype": "text/x-python",
   "name": "python",
   "nbconvert_exporter": "python",
   "pygments_lexer": "ipython3",
   "version": "3.9.2"
  }
 },
 "nbformat": 4,
 "nbformat_minor": 5
}
