{
 "cells": [
  {
   "cell_type": "markdown",
   "id": "60a515bc-56be-4113-988c-c2252718d50a",
   "metadata": {},
   "source": [
    "# Example for Marianna\n",
    "\n",
    "Here we simulate a dSPN and an iSPN neuron, and see what the effect is on clamping PKAc first to the half activation value 3.6e-6mM (baseline), then to 0 (for ispn), and to 50e-6mM (for dspn)\n"
   ]
  },
  {
   "cell_type": "code",
   "execution_count": null,
   "id": "a35dd605-6362-418a-a1e2-51022fe9aba1",
   "metadata": {},
   "outputs": [],
   "source": [
    "%load_ext autoreload\n",
    "%autoreload 2"
   ]
  },
  {
   "cell_type": "code",
   "execution_count": null,
   "id": "11996533-5883-4d5e-9678-0efcfc87b9a9",
   "metadata": {},
   "outputs": [],
   "source": [
    "import plotly.io as pio \n",
    "pio.templates.default = \"simple_white\""
   ]
  },
  {
   "cell_type": "markdown",
   "id": "92a11e9b-33ad-4451-9682-bbb8f88c41cc",
   "metadata": {},
   "source": [
    "## Create network\n",
    "\n",
    "First we create a small example network with dSPN and iSPN neurons. You can change the number of neurons by editing the ```number_of_neurons``` below. The density is important, as it affects the connectivity, since connectivity depends on distance (we are using touch detection to detect synapses and gap junctions).\n",
    "\n",
    "You need to change the paths that use ```/home/hjorth/HBP``` to point to where you stored the information. ```BasalGangliaData``` can be found here ```https://github.com/hjorthmedh/BasalGangliaData/```"
   ]
  },
  {
   "cell_type": "code",
   "execution_count": null,
   "id": "6f13dc51-f7ba-455a-b964-f2db8c3ed999",
   "metadata": {},
   "outputs": [],
   "source": [
    "import os\n",
    "from snudda import Snudda\n",
    "\n",
    "\n",
    "neuron_path_dspn = \"/home/hjorth/HBP/BasalGangliaData/data/neurons/striatum/dspn/str-dspn-e150917_c10_D1-mWT-P270-20-v20220620\"\n",
    "neuron_path_ispn = \"/home/hjorth/HBP/BasalGangliaData/data/neurons/striatum/ispn/str-ispn-e160118_c10_D2-m46-3-DE-v20220622\"\n",
    "\n",
    "snudda_data = \"/home/hjorth/HBP/BasalGangliaData/data\"\n",
    "\n",
    "network_path = os.path.join(\"..\", \"networks\", \"neuromodulation_PKAc_synaptic_input\")\n",
    "\n",
    "sim_time = 2.0\n",
    "sim_config_on = \"da_experiment_synaptic_on_bath_sbml.json\"\n",
    "sim_config_off = \"da_experiment_synaptic_off_bath_sbml.json\"\n",
    "mech_dir = \"/home/hjorth/HBP/BasalGangliaData/data/neurons/mechanisms\"\n",
    "\n",
    "sim_output_neuromodulation_ON = os.path.join(network_path, \"simulation\", \"output_neuromodulation_ON.hdf5\")\n",
    "sim_output_neuromodulation_OFF = os.path.join(network_path, \"simulation\", \"output_neuromodulation_OFF.hdf5\")"
   ]
  },
  {
   "cell_type": "code",
   "execution_count": null,
   "id": "1cc95e91-a128-4e91-84f3-be6b3cfd13ea",
   "metadata": {},
   "outputs": [],
   "source": [
    "snudda = Snudda(network_path=network_path)\n",
    "si = snudda.init_tiny(neuron_paths=[neuron_path_dspn, neuron_path_ispn], \n",
    "                      neuron_names=[\"dSPN\", \"iSPN\"], number_of_neurons=[10, 10],\n",
    "                      snudda_data=snudda_data,\n",
    "                      density=80500,\n",
    "                      d_min=15e-6,\n",
    "                      random_seed=123)\n",
    "\n",
    "si.network_data[\"regions\"][\"Cube\"][\"neurons\"][\"dSPN\"][\"reaction_diffusion\"] = \"reaction_diffusion_D1_empty.json\"\n",
    "si.network_data[\"regions\"][\"Cube\"][\"neurons\"][\"dSPN\"][\"modulation\"] = \"./modulation_parameters.json\"\n",
    "si.network_data[\"regions\"][\"Cube\"][\"neurons\"][\"dSPN\"][\"modulation_key\"] = \"abc\"\n",
    "\n",
    "si.network_data[\"regions\"][\"Cube\"][\"neurons\"][\"iSPN\"][\"reaction_diffusion\"] = \"reaction_diffusion_D2_empty.json\"\n",
    "si.network_data[\"regions\"][\"Cube\"][\"neurons\"][\"iSPN\"][\"modulation\"] = \"./modulation_parameters.json\"\n",
    "si.network_data[\"regions\"][\"Cube\"][\"neurons\"][\"iSPN\"][\"modulation_key\"] = \"abc\"\n",
    "\n",
    "\n",
    "si.network_data[\"regions\"][\"Cube\"][\"neurons\"][\"dSPN\"][\"modulation_key\"] = \"abc\"\n",
    "\n",
    "si.write_json()\n",
    "\n",
    "snudda.create_network()"
   ]
  },
  {
   "cell_type": "code",
   "execution_count": null,
   "id": "0dceede8-06a9-4b7e-8906-01b47efc8077",
   "metadata": {},
   "outputs": [],
   "source": [
    "snd = Snudda(network_path=network_path, parallel=False)\n",
    "snd.create_network()"
   ]
  },
  {
   "cell_type": "markdown",
   "id": "484502e0-1306-4060-b15d-319124cc1443",
   "metadata": {},
   "source": [
    "## Create synaptic input\n",
    "\n",
    "The file ```marianna_input.json``` defines the input here."
   ]
  },
  {
   "cell_type": "code",
   "execution_count": null,
   "id": "d624e1aa-86b2-41a9-b052-dcd4654e32ee",
   "metadata": {},
   "outputs": [],
   "source": [
    "snd.setup_input(input_config=\"marianna_input.json\")\n"
   ]
  },
  {
   "cell_type": "markdown",
   "id": "97034cf6-2f60-4607-a920-68a4523a4f5e",
   "metadata": {},
   "source": [
    "## Run the simulation\n",
    "\n",
    "The Jupyter notebook can be tricky, sometimes the os.system call does not work (if you run without the ```mpirun``` it will work, but then it is slower). You might have to copy paste the shell command to the terminal manually, just be sure you are in the same folder when you run it."
   ]
  },
  {
   "cell_type": "code",
   "execution_count": null,
   "id": "c740b770-8088-4000-b5bf-dbadf6a0754c",
   "metadata": {},
   "outputs": [],
   "source": [
    "number_of_cores = 8"
   ]
  },
  {
   "cell_type": "code",
   "execution_count": null,
   "id": "74d590c4-672a-43e7-aae6-e9acf62d6c59",
   "metadata": {},
   "outputs": [],
   "source": [
    "run_str_on = f\"mpirun -n {number_of_cores} snudda simulate {network_path} --time {sim_time} --simulation_config {sim_config_on} --mechdir {mech_dir} --enable_rxd_neuromodulation --verbose\"\n",
    "print(run_str_on)"
   ]
  },
  {
   "cell_type": "code",
   "execution_count": null,
   "id": "1cd7d29c-1439-4039-b3eb-f26928b57a05",
   "metadata": {},
   "outputs": [],
   "source": [
    "os.system(run_str_on)"
   ]
  },
  {
   "cell_type": "code",
   "execution_count": null,
   "id": "dc73eb84-536b-451a-8bf5-3b30f4335e5f",
   "metadata": {},
   "outputs": [],
   "source": [
    "run_str_off = f\"mpirun -n {number_of_cores} snudda simulate {network_path} --time {sim_time} --simulation_config {sim_config_off} --mechdir {mech_dir}\"\n",
    "print(run_str_off)"
   ]
  },
  {
   "cell_type": "code",
   "execution_count": null,
   "id": "8f315d57-4863-47c0-955c-0313d194713b",
   "metadata": {},
   "outputs": [],
   "source": [
    "os.system(run_str_off)"
   ]
  },
  {
   "cell_type": "markdown",
   "id": "ac8bfea6-b7f5-46c6-9a8d-df8015fae7ca",
   "metadata": {},
   "source": [
    "## Inspect the simulation\n",
    "\n",
    "This simulation is run with neuromodulation, the first few figures below inspect the state of the neuromodulation."
   ]
  },
  {
   "cell_type": "code",
   "execution_count": null,
   "id": "74305bfb-722e-4ffb-8412-604597aed225",
   "metadata": {},
   "outputs": [],
   "source": [
    "from snudda.utils import SnuddaLoadSimulation\n",
    "\n",
    "nd = SnuddaLoadSimulation(sim_output_neuromodulation_ON)\n",
    "time = nd.get_time()\n",
    "\n",
    "# Double check that 0 is dSPN and 1 is iSPN\n",
    "data_pka_dspn = nd.get_data(\"PKAc\", 0)[0][0]\n",
    "data_pka_ispn = nd.get_data(\"PKAc\", 1)[0][1]\n",
    "\n",
    "# This is saved with add_rxd_internal_concentration_recording_all -- check that it worked \n",
    "data_pka_all0 = nd.get_data(\"PKAc\", 0)[0][0]"
   ]
  },
  {
   "cell_type": "code",
   "execution_count": null,
   "id": "d93b983a-e4bf-4a07-b904-bd93955e6dd1",
   "metadata": {},
   "outputs": [],
   "source": [
    "# This is just so you know what neurons are where\n",
    "nd.network_simulation_file[\"meta_data\"][\"name\"][()]"
   ]
  },
  {
   "cell_type": "markdown",
   "id": "b7e03fc7-b971-4476-94c7-bb25605fa158",
   "metadata": {},
   "source": [
    "### Plot internal state\n",
    "\n",
    "This plot is quite messy, we have used it to debug the state. You can double click on the legends, to see the individual curves. It lets you inspect the level of PKAc (proxy for neuromodulation), the currents (e.g. bk_ms.ik), and the modulation (e.g. cal12_ms.modulation_factor)."
   ]
  },
  {
   "cell_type": "code",
   "execution_count": null,
   "id": "4320aa6f-cd33-434a-813c-1c5826a09c23",
   "metadata": {},
   "outputs": [],
   "source": [
    "neuron_id = 1\n",
    "\n",
    "data_types = nd.list_data_types(0)\n",
    "all_species_data = nd.get_all_data(neuron_id=neuron_id, exclude=[\"spikes\", \"voltage\"])\n",
    "time = nd.get_time()\n",
    "voltage = nd.get_data(\"voltage\", [neuron_id])"
   ]
  },
  {
   "cell_type": "code",
   "execution_count": null,
   "id": "f235d298-3997-42d2-8647-260ecbb6739d",
   "metadata": {},
   "outputs": [],
   "source": [
    "import plotly.graph_objects as go\n",
    "import plotly.io as pio\n",
    "pio.renderers.default = \"iframe\"  # Do not save plots in the notebook, they can get BIG\n",
    "\n",
    "\n",
    "fig = go.Figure()\n",
    "for data_type in all_species_data:\n",
    "    idx = time >= 0.0\n",
    "    fig.add_trace(go.Scatter(x=time[idx], y=all_species_data[data_type][0][neuron_id].T[0][idx], name=data_type, line={\"width\":4}))\n",
    "\n",
    "\"\"\"\n",
    "fig.update_layout(xaxis_title=\"Time (s)\", yaxis_title=\"Concentration\", width=1000, height=800,\n",
    "                 font={\"size\":18},  # General font size for all elements\n",
    "                 legend={\"font\":{\"size\":16}},  # Specific font size for legend\n",
    "                 xaxis={\"title\":{\"font\":{\"size\":20}}, \"tickfont\":{\"size\":14}},  # X-axis title and tick labels\n",
    "                 yaxis={\"title\":{\"font\":{\"size\":20}}, \"tickfont\":{\"size\":14}})   # Y-axis title and tick labels\n",
    "\"\"\"\n",
    "fig.show()"
   ]
  },
  {
   "cell_type": "code",
   "execution_count": null,
   "id": "069e1970-cafb-4cac-a099-c9c5a43734a7",
   "metadata": {},
   "outputs": [],
   "source": [
    "from snudda.plotting.plotly.trace import PlotTrace\n",
    "\n",
    "pt_on = PlotTrace(snudda_load_simulation=nd)\n",
    "# pt_on.define_colour_by_neuron_id({0: \"blue\", 1: \"red\"})\n",
    "pt_on.define_colour_by_neuron_id({0: \"blue\", 1: \"blue\", 2: \"blue\", 3: \"blue\", 4: \"blue\", 5: \"blue\", 6: \"blue\", 7: \"blue\", 8: \"blue\", 9: \"blue\", \n",
    "                                  10: \"red\", 11: \"red\", 12: \"red\", 13: \"red\", 14: \"red\", 15: \"red\", 16: \"red\", 17: \"red\", 18: \"red\", 19: \"red\"})\n",
    "\n",
    "pt_on.plot_traces()"
   ]
  },
  {
   "cell_type": "code",
   "execution_count": null,
   "id": "ad7ab4c1-a89f-4814-8176-cc55547e4e75",
   "metadata": {},
   "outputs": [],
   "source": [
    "from snudda.utils import SnuddaLoadSimulation\n",
    "\n",
    "nd_off = SnuddaLoadSimulation(sim_output_neuromodulation_OFF)\n",
    "time = nd_off.get_time()\n"
   ]
  },
  {
   "cell_type": "code",
   "execution_count": null,
   "id": "9ad3626d-02b1-4647-bd2f-81c488634e4d",
   "metadata": {},
   "outputs": [],
   "source": [
    "# DA Off\n",
    "\n",
    "from snudda.plotting.plotly.trace import PlotTrace\n",
    "\n",
    "pt_off = PlotTrace(snudda_load_simulation=nd_off)\n",
    "pt_off.define_colour_by_neuron_id({0: \"blue\", 1: \"blue\", 2: \"blue\", 3: \"blue\", 4: \"blue\", 5: \"blue\", 6: \"blue\", 7: \"blue\", 8: \"blue\", 9: \"blue\", \n",
    "                                   10: \"red\", 11: \"red\", 12: \"red\", 13: \"red\", 14: \"red\", 15: \"red\", 16: \"red\", 17: \"red\", 18: \"red\", 19: \"red\"})\n",
    "pt_off.plot_traces()"
   ]
  },
  {
   "cell_type": "markdown",
   "id": "9dfe5e58-e450-4a7c-9ddc-10db98c9e131",
   "metadata": {},
   "source": []
  }
 ],
 "metadata": {
  "kernelspec": {
   "display_name": "Python 3 (ipykernel)",
   "language": "python",
   "name": "python3"
  },
  "language_info": {
   "codemirror_mode": {
    "name": "ipython",
    "version": 3
   },
   "file_extension": ".py",
   "mimetype": "text/x-python",
   "name": "python",
   "nbconvert_exporter": "python",
   "pygments_lexer": "ipython3",
   "version": "3.9.2"
  }
 },
 "nbformat": 4,
 "nbformat_minor": 5
}
