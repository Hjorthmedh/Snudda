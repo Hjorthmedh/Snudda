{
 "cells": [
  {
   "cell_type": "markdown",
   "id": "60a515bc-56be-4113-988c-c2252718d50a",
   "metadata": {},
   "source": [
    "# Example for Marianna\n",
    "\n",
    "Here we simulate a dSPN and an iSPN neuron, and see what the effect is on clamping PKAc first to the half activation value 3.6e-6mM (baseline), then to 0 (for ispn), and to 50e-6mM (for dspn)\n"
   ]
  },
  {
   "cell_type": "code",
   "execution_count": 1,
   "id": "a35dd605-6362-418a-a1e2-51022fe9aba1",
   "metadata": {},
   "outputs": [],
   "source": [
    "%load_ext autoreload\n",
    "%autoreload 2"
   ]
  },
  {
   "cell_type": "code",
   "execution_count": 2,
   "id": "11996533-5883-4d5e-9678-0efcfc87b9a9",
   "metadata": {},
   "outputs": [],
   "source": [
    "import plotly.io as pio \n",
    "pio.templates.default = \"simple_white\""
   ]
  },
  {
   "cell_type": "markdown",
   "id": "92a11e9b-33ad-4451-9682-bbb8f88c41cc",
   "metadata": {},
   "source": [
    "## Create network\n",
    "\n",
    "First we create a small example network with dSPN and iSPN neurons. You can change the number of neurons by editing the ```number_of_neurons``` below. The density is important, as it affects the connectivity, since connectivity depends on distance (we are using touch detection to detect synapses and gap junctions).\n",
    "\n",
    "You need to change the paths that use ```/home/hjorth/HBP``` to point to where you stored the information. ```BasalGangliaData``` can be found here ```https://github.com/hjorthmedh/BasalGangliaData/```"
   ]
  },
  {
   "cell_type": "code",
   "execution_count": 3,
   "id": "6f13dc51-f7ba-455a-b964-f2db8c3ed999",
   "metadata": {},
   "outputs": [],
   "source": [
    "import os\n",
    "from snudda import Snudda\n",
    "\n",
    "\n",
    "neuron_path_dspn = \"/home/hjorth/HBP/BasalGangliaData/data/neurons/striatum/dspn/str-dspn-e150917_c10_D1-mWT-P270-20-v20220620\"\n",
    "neuron_path_ispn = \"/home/hjorth/HBP/BasalGangliaData/data/neurons/striatum/ispn/str-ispn-e160118_c10_D2-m46-3-DE-v20220622\"\n",
    "\n",
    "snudda_data = \"/home/hjorth/HBP/BasalGangliaData/data\"\n",
    "\n",
    "network_path = os.path.join(\"..\", \"networks\", \"neuromodulation_PKAc_synaptic_input\")\n",
    "\n",
    "sim_time = 2.0\n",
    "sim_config_on = \"da_experiment_synaptic_on_bath_sbml.json\"\n",
    "sim_config_off = \"da_experiment_synaptic_off_bath_sbml.json\"\n",
    "mech_dir = \"/home/hjorth/HBP/BasalGangliaData/data/neurons/mechanisms\"\n",
    "\n",
    "sim_output_neuromodulation_ON = os.path.join(network_path, \"simulation\", \"output_neuromodulation_ON.hdf5\")\n",
    "sim_output_neuromodulation_OFF = os.path.join(network_path, \"simulation\", \"output_neuromodulation_OFF.hdf5\")"
   ]
  },
  {
   "cell_type": "code",
   "execution_count": 4,
   "id": "1cc95e91-a128-4e91-84f3-be6b3cfd13ea",
   "metadata": {},
   "outputs": [
    {
     "name": "stdout",
     "output_type": "stream",
     "text": [
      "Adding neurons: dSPN from dir /home/hjorth/HBP/BasalGangliaData/data/neurons/striatum/dspn/str-dspn-e150917_c10_D1-mWT-P270-20-v20220620\n",
      "Adding neurons: iSPN from dir /home/hjorth/HBP/BasalGangliaData/data/neurons/striatum/ispn/str-ispn-e160118_c10_D2-m46-3-DE-v20220622\n",
      "Writing ../networks/neuromodulation_PKAc_synaptic_input/network-config.json\n",
      "Writing ../networks/neuromodulation_PKAc_synaptic_input/network-config.json\n",
      "Placing neurons\n",
      "Network path: ../networks/neuromodulation_PKAc_synaptic_input\n",
      "Reading SNUDDA_DATA=/home/hjorth/HBP/BasalGangliaData/data from ../networks/neuromodulation_PKAc_synaptic_input/network-config.json\n",
      "No n_putative_points and putative_density, setting n_putative_points = 241\n",
      "(this must be larger than the number of neurons you want to place)\n",
      "Generating 241 points for ../networks/neuromodulation_PKAc_synaptic_input/mesh/Cube-cube-mesh-6.286535491496335e-05.obj\n",
      "Filtering, keeping inside points: 26 / 103\n",
      "neuron_name = 'dSPN', num = 10, neuron_path = '/home/hjorth/HBP/BasalGangliaData/data/neurons/striatum/dspn/str-dspn-e150917_c10_D1-mWT-P270-20-v20220620'\n",
      "!! Attempting to load /home/hjorth/HBP/BasalGangliaData/data/neurons/striatum/dspn/str-dspn-e150917_c10_D1-mWT-P270-20-v20220620/meta.json\n",
      "Traceback (most recent call last):\n",
      "  File \"/home/hjorth/HBP/Snudda/snudda/neurons/neuron_prototype.py\", line 131, in load_info\n",
      "    self.meta_info = json.load(fm)\n",
      "  File \"/usr/lib/python3.9/json/__init__.py\", line 293, in load\n",
      "    return loads(fp.read(),\n",
      "  File \"/usr/lib/python3.9/json/__init__.py\", line 346, in loads\n",
      "    return _default_decoder.decode(s)\n",
      "  File \"/usr/lib/python3.9/json/decoder.py\", line 337, in decode\n",
      "    obj, end = self.raw_decode(s, idx=_w(s, 0).end())\n",
      "  File \"/usr/lib/python3.9/json/decoder.py\", line 353, in raw_decode\n",
      "    obj, end = self.scan_once(s, idx)\n",
      "json.decoder.JSONDecodeError: Invalid control character at: line 12 column 39 (char 446)\n",
      "\n"
     ]
    },
    {
     "ename": "JSONDecodeError",
     "evalue": "Invalid control character at: line 12 column 39 (char 446)",
     "output_type": "error",
     "traceback": [
      "\u001b[0;31m---------------------------------------------------------------------------\u001b[0m",
      "\u001b[0;31mJSONDecodeError\u001b[0m                           Traceback (most recent call last)",
      "Cell \u001b[0;32mIn[4], line 22\u001b[0m\n\u001b[1;32m     18\u001b[0m si\u001b[38;5;241m.\u001b[39mnetwork_data[\u001b[38;5;124m\"\u001b[39m\u001b[38;5;124mregions\u001b[39m\u001b[38;5;124m\"\u001b[39m][\u001b[38;5;124m\"\u001b[39m\u001b[38;5;124mCube\u001b[39m\u001b[38;5;124m\"\u001b[39m][\u001b[38;5;124m\"\u001b[39m\u001b[38;5;124mneurons\u001b[39m\u001b[38;5;124m\"\u001b[39m][\u001b[38;5;124m\"\u001b[39m\u001b[38;5;124mdSPN\u001b[39m\u001b[38;5;124m\"\u001b[39m][\u001b[38;5;124m\"\u001b[39m\u001b[38;5;124mmodulation_key\u001b[39m\u001b[38;5;124m\"\u001b[39m] \u001b[38;5;241m=\u001b[39m \u001b[38;5;124m\"\u001b[39m\u001b[38;5;124mabc\u001b[39m\u001b[38;5;124m\"\u001b[39m\n\u001b[1;32m     20\u001b[0m si\u001b[38;5;241m.\u001b[39mwrite_json()\n\u001b[0;32m---> 22\u001b[0m \u001b[43msnudda\u001b[49m\u001b[38;5;241;43m.\u001b[39;49m\u001b[43mcreate_network\u001b[49m\u001b[43m(\u001b[49m\u001b[43m)\u001b[49m\n",
      "File \u001b[0;32m~/HBP/Snudda/snudda/core.py:277\u001b[0m, in \u001b[0;36mSnudda.create_network\u001b[0;34m(self, honor_morphology_stay_inside)\u001b[0m\n\u001b[1;32m    274\u001b[0m \u001b[38;5;28;01mdef\u001b[39;00m\u001b[38;5;250m \u001b[39m\u001b[38;5;21mcreate_network\u001b[39m(\u001b[38;5;28mself\u001b[39m, honor_morphology_stay_inside\u001b[38;5;241m=\u001b[39m\u001b[38;5;28;01mTrue\u001b[39;00m):\n\u001b[1;32m    275\u001b[0m \n\u001b[1;32m    276\u001b[0m     \u001b[38;5;66;03m# This is a helper function, to create the full network\u001b[39;00m\n\u001b[0;32m--> 277\u001b[0m     \u001b[38;5;28;43mself\u001b[39;49m\u001b[38;5;241;43m.\u001b[39;49m\u001b[43mplace_neurons\u001b[49m\u001b[43m(\u001b[49m\u001b[43mhonor_morphology_stay_inside\u001b[49m\u001b[38;5;241;43m=\u001b[39;49m\u001b[43mhonor_morphology_stay_inside\u001b[49m\u001b[43m)\u001b[49m\n\u001b[1;32m    278\u001b[0m     \u001b[38;5;28mself\u001b[39m\u001b[38;5;241m.\u001b[39mdetect_synapses()\n\u001b[1;32m    279\u001b[0m     \u001b[38;5;28mself\u001b[39m\u001b[38;5;241m.\u001b[39mprune_synapses()\n",
      "File \u001b[0;32m~/HBP/Snudda/snudda/core.py:344\u001b[0m, in \u001b[0;36mSnudda.place_neurons\u001b[0;34m(self, random_seed, parallel, ipython_profile, ipython_timeout, h5libver, verbose, honor_morphology_stay_inside)\u001b[0m\n\u001b[1;32m    334\u001b[0m \u001b[38;5;28;01mfrom\u001b[39;00m\u001b[38;5;250m \u001b[39m\u001b[38;5;21;01msnudda\u001b[39;00m\u001b[38;5;21;01m.\u001b[39;00m\u001b[38;5;21;01mplace\u001b[39;00m\u001b[38;5;21;01m.\u001b[39;00m\u001b[38;5;21;01mplace\u001b[39;00m\u001b[38;5;250m \u001b[39m\u001b[38;5;28;01mimport\u001b[39;00m SnuddaPlace\n\u001b[1;32m    336\u001b[0m sp \u001b[38;5;241m=\u001b[39m SnuddaPlace(network_path\u001b[38;5;241m=\u001b[39m\u001b[38;5;28mself\u001b[39m\u001b[38;5;241m.\u001b[39mnetwork_path,\n\u001b[1;32m    337\u001b[0m                  log_file\u001b[38;5;241m=\u001b[39m\u001b[38;5;28mself\u001b[39m\u001b[38;5;241m.\u001b[39mlogfile,\n\u001b[1;32m    338\u001b[0m                  verbose\u001b[38;5;241m=\u001b[39mverbose,\n\u001b[0;32m   (...)\u001b[0m\n\u001b[1;32m    341\u001b[0m                  random_seed\u001b[38;5;241m=\u001b[39mrandom_seed,\n\u001b[1;32m    342\u001b[0m                  morphologies_stay_inside\u001b[38;5;241m=\u001b[39mhonor_morphology_stay_inside)\n\u001b[0;32m--> 344\u001b[0m \u001b[43msp\u001b[49m\u001b[38;5;241;43m.\u001b[39;49m\u001b[43mplace\u001b[49m\u001b[43m(\u001b[49m\u001b[43m)\u001b[49m\n\u001b[1;32m    346\u001b[0m \u001b[38;5;28mself\u001b[39m\u001b[38;5;241m.\u001b[39mcleanup_workers()\n\u001b[1;32m    348\u001b[0m \u001b[38;5;28mself\u001b[39m\u001b[38;5;241m.\u001b[39mstop_parallel()\n",
      "File \u001b[0;32m~/HBP/Snudda/snudda/place/place.py:155\u001b[0m, in \u001b[0;36mSnuddaPlace.place\u001b[0;34m(self)\u001b[0m\n\u001b[1;32m    151\u001b[0m \u001b[38;5;28;01mdef\u001b[39;00m\u001b[38;5;250m \u001b[39m\u001b[38;5;21mplace\u001b[39m(\u001b[38;5;28mself\u001b[39m):\n\u001b[1;32m    153\u001b[0m \u001b[38;5;250m    \u001b[39m\u001b[38;5;124;03m\"\"\" Place neurons in 3D space. \"\"\"\u001b[39;00m\n\u001b[0;32m--> 155\u001b[0m     \u001b[38;5;28;43mself\u001b[39;49m\u001b[38;5;241;43m.\u001b[39;49m\u001b[43mparse_config\u001b[49m\u001b[43m(\u001b[49m\u001b[43m)\u001b[49m\n\u001b[1;32m    157\u001b[0m     \u001b[38;5;28;01mif\u001b[39;00m \u001b[38;5;28mself\u001b[39m\u001b[38;5;241m.\u001b[39mmorphologies_stay_inside:\n\u001b[1;32m    158\u001b[0m         \u001b[38;5;28mself\u001b[39m\u001b[38;5;241m.\u001b[39mavoid_edges_parallel()\n",
      "File \u001b[0;32m~/HBP/Snudda/snudda/place/place.py:514\u001b[0m, in \u001b[0;36mSnuddaPlace.parse_config\u001b[0;34m(self, config_file, resort_neurons)\u001b[0m\n\u001b[1;32m    511\u001b[0m         \u001b[38;5;28;01melse\u001b[39;00m:\n\u001b[1;32m    512\u001b[0m             virtual_neuron \u001b[38;5;241m=\u001b[39m \u001b[38;5;28;01mFalse\u001b[39;00m\n\u001b[0;32m--> 514\u001b[0m         \u001b[38;5;28;43mself\u001b[39;49m\u001b[38;5;241;43m.\u001b[39;49m\u001b[43madd_neurons\u001b[49m\u001b[43m(\u001b[49m\u001b[43mname\u001b[49m\u001b[38;5;241;43m=\u001b[39;49m\u001b[43mneuron_name\u001b[49m\u001b[43m,\u001b[49m\n\u001b[1;32m    515\u001b[0m \u001b[43m                         \u001b[49m\u001b[43mswc_path\u001b[49m\u001b[38;5;241;43m=\u001b[39;49m\u001b[43mmorph\u001b[49m\u001b[43m,\u001b[49m\n\u001b[1;32m    516\u001b[0m \u001b[43m                         \u001b[49m\u001b[43mparam_filename\u001b[49m\u001b[38;5;241;43m=\u001b[39;49m\u001b[43mparam\u001b[49m\u001b[43m,\u001b[49m\n\u001b[1;32m    517\u001b[0m \u001b[43m                         \u001b[49m\u001b[43mmech_filename\u001b[49m\u001b[38;5;241;43m=\u001b[39;49m\u001b[43mmech\u001b[49m\u001b[43m,\u001b[49m\n\u001b[1;32m    518\u001b[0m \u001b[43m                         \u001b[49m\u001b[43mmodulation\u001b[49m\u001b[38;5;241;43m=\u001b[39;49m\u001b[43mmodulation\u001b[49m\u001b[43m,\u001b[49m\n\u001b[1;32m    519\u001b[0m \u001b[43m                         \u001b[49m\u001b[43mreaction_diffusion\u001b[49m\u001b[38;5;241;43m=\u001b[39;49m\u001b[43mreaction_diffusion\u001b[49m\u001b[43m,\u001b[49m\n\u001b[1;32m    520\u001b[0m \u001b[43m                         \u001b[49m\u001b[43mnum_neurons\u001b[49m\u001b[38;5;241;43m=\u001b[39;49m\u001b[43mnum\u001b[49m\u001b[43m,\u001b[49m\n\u001b[1;32m    521\u001b[0m \u001b[43m                         \u001b[49m\u001b[43mhoc\u001b[49m\u001b[38;5;241;43m=\u001b[39;49m\u001b[38;5;28;43;01mNone\u001b[39;49;00m\u001b[43m,\u001b[49m\n\u001b[1;32m    522\u001b[0m \u001b[43m                         \u001b[49m\u001b[43mvolume_id\u001b[49m\u001b[38;5;241;43m=\u001b[39;49m\u001b[43mregion_name\u001b[49m\u001b[43m,\u001b[49m\n\u001b[1;32m    523\u001b[0m \u001b[43m                         \u001b[49m\u001b[43mvirtual_neuron\u001b[49m\u001b[38;5;241;43m=\u001b[39;49m\u001b[43mvirtual_neuron\u001b[49m\u001b[43m,\u001b[49m\n\u001b[1;32m    524\u001b[0m \u001b[43m                         \u001b[49m\u001b[43maxon_density\u001b[49m\u001b[38;5;241;43m=\u001b[39;49m\u001b[43maxon_density\u001b[49m\u001b[43m,\u001b[49m\n\u001b[1;32m    525\u001b[0m \u001b[43m                         \u001b[49m\u001b[43mparameter_key\u001b[49m\u001b[38;5;241;43m=\u001b[39;49m\u001b[43mparameter_key\u001b[49m\u001b[43m,\u001b[49m\n\u001b[1;32m    526\u001b[0m \u001b[43m                         \u001b[49m\u001b[43mmorphology_key\u001b[49m\u001b[38;5;241;43m=\u001b[39;49m\u001b[43mmorphology_key\u001b[49m\u001b[43m,\u001b[49m\n\u001b[1;32m    527\u001b[0m \u001b[43m                         \u001b[49m\u001b[43mmodulation_key\u001b[49m\u001b[38;5;241;43m=\u001b[39;49m\u001b[43mmodulation_key\u001b[49m\u001b[43m,\u001b[49m\n\u001b[1;32m    528\u001b[0m \u001b[43m                         \u001b[49m\u001b[43mconfig\u001b[49m\u001b[38;5;241;43m=\u001b[39;49m\u001b[43mconfig\u001b[49m\u001b[43m,\u001b[49m\n\u001b[1;32m    529\u001b[0m \u001b[43m                         \u001b[49m\u001b[43mrng\u001b[49m\u001b[38;5;241;43m=\u001b[39;49m\u001b[43mregion_rnd\u001b[49m\u001b[43m)\u001b[49m\n\u001b[1;32m    531\u001b[0m         number_of_added_neurons \u001b[38;5;241m+\u001b[39m\u001b[38;5;241m=\u001b[39m num\n\u001b[1;32m    533\u001b[0m \u001b[38;5;28;01mif\u001b[39;00m total_num_neurons \u001b[38;5;129;01mis\u001b[39;00m \u001b[38;5;129;01mnot\u001b[39;00m \u001b[38;5;28;01mNone\u001b[39;00m \u001b[38;5;129;01mand\u001b[39;00m number_of_added_neurons \u001b[38;5;241m>\u001b[39m total_num_neurons\u001b[38;5;241m*\u001b[39m\u001b[38;5;241m1.01\u001b[39m:\n",
      "File \u001b[0;32m~/HBP/Snudda/snudda/place/place.py:232\u001b[0m, in \u001b[0;36mSnuddaPlace.add_neurons\u001b[0;34m(self, swc_path, num_neurons, param_filename, mech_filename, modulation, reaction_diffusion, name, hoc, volume_id, virtual_neuron, axon_density, parameter_key, morphology_key, modulation_key, config, rng)\u001b[0m\n\u001b[1;32m    229\u001b[0m \u001b[38;5;28;01mif\u001b[39;00m rng \u001b[38;5;129;01mis\u001b[39;00m \u001b[38;5;28;01mNone\u001b[39;00m:\n\u001b[1;32m    230\u001b[0m     rng \u001b[38;5;241m=\u001b[39m \u001b[38;5;28mself\u001b[39m\u001b[38;5;241m.\u001b[39mrandom_generator\n\u001b[0;32m--> 232\u001b[0m neuron_prototype \u001b[38;5;241m=\u001b[39m \u001b[43mNeuronPrototype\u001b[49m\u001b[43m(\u001b[49m\u001b[43mneuron_name\u001b[49m\u001b[38;5;241;43m=\u001b[39;49m\u001b[43mname\u001b[49m\u001b[43m,\u001b[49m\n\u001b[1;32m    233\u001b[0m \u001b[43m                                   \u001b[49m\u001b[43mneuron_path\u001b[49m\u001b[38;5;241;43m=\u001b[39;49m\u001b[38;5;28;43;01mNone\u001b[39;49;00m\u001b[43m,\u001b[49m\n\u001b[1;32m    234\u001b[0m \u001b[43m                                   \u001b[49m\u001b[43msnudda_data\u001b[49m\u001b[38;5;241;43m=\u001b[39;49m\u001b[38;5;28;43mself\u001b[39;49m\u001b[38;5;241;43m.\u001b[39;49m\u001b[43msnudda_data\u001b[49m\u001b[43m,\u001b[49m\n\u001b[1;32m    235\u001b[0m \u001b[43m                                   \u001b[49m\u001b[43mmorphology_path\u001b[49m\u001b[38;5;241;43m=\u001b[39;49m\u001b[43mswc_path\u001b[49m\u001b[43m,\u001b[49m\n\u001b[1;32m    236\u001b[0m \u001b[43m                                   \u001b[49m\u001b[43mparameter_path\u001b[49m\u001b[38;5;241;43m=\u001b[39;49m\u001b[43mparam_filename\u001b[49m\u001b[43m,\u001b[49m\n\u001b[1;32m    237\u001b[0m \u001b[43m                                   \u001b[49m\u001b[43mmechanism_path\u001b[49m\u001b[38;5;241;43m=\u001b[39;49m\u001b[43mmech_filename\u001b[49m\u001b[43m,\u001b[49m\n\u001b[1;32m    238\u001b[0m \u001b[43m                                   \u001b[49m\u001b[43mmodulation_path\u001b[49m\u001b[38;5;241;43m=\u001b[39;49m\u001b[43mmodulation\u001b[49m\u001b[43m,\u001b[49m\n\u001b[1;32m    239\u001b[0m \u001b[43m                                   \u001b[49m\u001b[43mreaction_diffusion_path\u001b[49m\u001b[38;5;241;43m=\u001b[39;49m\u001b[43mreaction_diffusion\u001b[49m\u001b[43m,\u001b[49m\n\u001b[1;32m    240\u001b[0m \u001b[43m                                   \u001b[49m\u001b[43mload_morphology\u001b[49m\u001b[38;5;241;43m=\u001b[39;49m\u001b[38;5;28;43;01mFalse\u001b[39;49;00m\u001b[43m,\u001b[49m\n\u001b[1;32m    241\u001b[0m \u001b[43m                                   \u001b[49m\u001b[43mvirtual_neuron\u001b[49m\u001b[38;5;241;43m=\u001b[39;49m\u001b[43mvirtual_neuron\u001b[49m\u001b[43m,\u001b[49m\n\u001b[1;32m    242\u001b[0m \u001b[43m                                   \u001b[49m\u001b[43mverbose\u001b[49m\u001b[38;5;241;43m=\u001b[39;49m\u001b[38;5;28;43mself\u001b[39;49m\u001b[38;5;241;43m.\u001b[39;49m\u001b[43mverbose\u001b[49m\u001b[43m)\u001b[49m\n\u001b[1;32m    244\u001b[0m neuron_type \u001b[38;5;241m=\u001b[39m name\u001b[38;5;241m.\u001b[39msplit(\u001b[38;5;124m\"\u001b[39m\u001b[38;5;124m_\u001b[39m\u001b[38;5;124m\"\u001b[39m)[\u001b[38;5;241m0\u001b[39m]\n\u001b[1;32m    245\u001b[0m neuron_positions \u001b[38;5;241m=\u001b[39m \u001b[38;5;28mself\u001b[39m\u001b[38;5;241m.\u001b[39mvolume[volume_id][\u001b[38;5;124m\"\u001b[39m\u001b[38;5;124mmesh\u001b[39m\u001b[38;5;124m\"\u001b[39m]\u001b[38;5;241m.\u001b[39mplace_neurons(num_neurons, neuron_type)\n",
      "File \u001b[0;32m~/HBP/Snudda/snudda/neurons/neuron_prototype.py:111\u001b[0m, in \u001b[0;36mNeuronPrototype.__init__\u001b[0;34m(self, neuron_path, neuron_name, morphology_path, parameter_path, mechanism_path, modulation_path, reaction_diffusion_path, snudda_data, meta_path, virtual_neuron, load_morphology, verbose)\u001b[0m\n\u001b[1;32m    108\u001b[0m \u001b[38;5;28mself\u001b[39m\u001b[38;5;241m.\u001b[39mmorphology_cache \u001b[38;5;241m=\u001b[39m \u001b[38;5;28mdict\u001b[39m()\n\u001b[1;32m    109\u001b[0m \u001b[38;5;28mself\u001b[39m\u001b[38;5;241m.\u001b[39mmorphology_lookup \u001b[38;5;241m=\u001b[39m \u001b[38;5;28mdict\u001b[39m()\n\u001b[0;32m--> 111\u001b[0m \u001b[38;5;28;43mself\u001b[39;49m\u001b[38;5;241;43m.\u001b[39;49m\u001b[43mload_info\u001b[49m\u001b[43m(\u001b[49m\u001b[43m)\u001b[49m\n",
      "File \u001b[0;32m~/HBP/Snudda/snudda/neurons/neuron_prototype.py:136\u001b[0m, in \u001b[0;36mNeuronPrototype.load_info\u001b[0;34m(self)\u001b[0m\n\u001b[1;32m    134\u001b[0m         \u001b[38;5;28;01mimport\u001b[39;00m\u001b[38;5;250m \u001b[39m\u001b[38;5;21;01mtraceback\u001b[39;00m\n\u001b[1;32m    135\u001b[0m         \u001b[38;5;28mprint\u001b[39m(traceback\u001b[38;5;241m.\u001b[39mformat_exc())\n\u001b[0;32m--> 136\u001b[0m         \u001b[38;5;28;01mraise\u001b[39;00m e\n\u001b[1;32m    138\u001b[0m \u001b[38;5;28;01mwith\u001b[39;00m \u001b[38;5;28mopen\u001b[39m(par_path, \u001b[38;5;124m\"\u001b[39m\u001b[38;5;124mr\u001b[39m\u001b[38;5;124m\"\u001b[39m) \u001b[38;5;28;01mas\u001b[39;00m f:\n\u001b[1;32m    139\u001b[0m     \u001b[38;5;28mself\u001b[39m\u001b[38;5;241m.\u001b[39mparameter_info \u001b[38;5;241m=\u001b[39m json\u001b[38;5;241m.\u001b[39mload(f)\n",
      "File \u001b[0;32m~/HBP/Snudda/snudda/neurons/neuron_prototype.py:131\u001b[0m, in \u001b[0;36mNeuronPrototype.load_info\u001b[0;34m(self)\u001b[0m\n\u001b[1;32m    129\u001b[0m \u001b[38;5;28;01mtry\u001b[39;00m:\n\u001b[1;32m    130\u001b[0m     \u001b[38;5;28;01mwith\u001b[39;00m \u001b[38;5;28mopen\u001b[39m(\u001b[38;5;28mself\u001b[39m\u001b[38;5;241m.\u001b[39mmeta_path, \u001b[38;5;124m\"\u001b[39m\u001b[38;5;124mr\u001b[39m\u001b[38;5;124m\"\u001b[39m) \u001b[38;5;28;01mas\u001b[39;00m fm:\n\u001b[0;32m--> 131\u001b[0m         \u001b[38;5;28mself\u001b[39m\u001b[38;5;241m.\u001b[39mmeta_info \u001b[38;5;241m=\u001b[39m \u001b[43mjson\u001b[49m\u001b[38;5;241;43m.\u001b[39;49m\u001b[43mload\u001b[49m\u001b[43m(\u001b[49m\u001b[43mfm\u001b[49m\u001b[43m)\u001b[49m\n\u001b[1;32m    132\u001b[0m \u001b[38;5;28;01mexcept\u001b[39;00m \u001b[38;5;167;01mException\u001b[39;00m \u001b[38;5;28;01mas\u001b[39;00m e:\n\u001b[1;32m    133\u001b[0m     \u001b[38;5;28mprint\u001b[39m(\u001b[38;5;124mf\u001b[39m\u001b[38;5;124m\"\u001b[39m\u001b[38;5;124m!! Attempting to load \u001b[39m\u001b[38;5;132;01m{\u001b[39;00m\u001b[38;5;28mself\u001b[39m\u001b[38;5;241m.\u001b[39mmeta_path\u001b[38;5;132;01m}\u001b[39;00m\u001b[38;5;124m\"\u001b[39m)\n",
      "File \u001b[0;32m/usr/lib/python3.9/json/__init__.py:293\u001b[0m, in \u001b[0;36mload\u001b[0;34m(fp, cls, object_hook, parse_float, parse_int, parse_constant, object_pairs_hook, **kw)\u001b[0m\n\u001b[1;32m    274\u001b[0m \u001b[38;5;28;01mdef\u001b[39;00m\u001b[38;5;250m \u001b[39m\u001b[38;5;21mload\u001b[39m(fp, \u001b[38;5;241m*\u001b[39m, \u001b[38;5;28mcls\u001b[39m\u001b[38;5;241m=\u001b[39m\u001b[38;5;28;01mNone\u001b[39;00m, object_hook\u001b[38;5;241m=\u001b[39m\u001b[38;5;28;01mNone\u001b[39;00m, parse_float\u001b[38;5;241m=\u001b[39m\u001b[38;5;28;01mNone\u001b[39;00m,\n\u001b[1;32m    275\u001b[0m         parse_int\u001b[38;5;241m=\u001b[39m\u001b[38;5;28;01mNone\u001b[39;00m, parse_constant\u001b[38;5;241m=\u001b[39m\u001b[38;5;28;01mNone\u001b[39;00m, object_pairs_hook\u001b[38;5;241m=\u001b[39m\u001b[38;5;28;01mNone\u001b[39;00m, \u001b[38;5;241m*\u001b[39m\u001b[38;5;241m*\u001b[39mkw):\n\u001b[1;32m    276\u001b[0m \u001b[38;5;250m    \u001b[39m\u001b[38;5;124;03m\"\"\"Deserialize ``fp`` (a ``.read()``-supporting file-like object containing\u001b[39;00m\n\u001b[1;32m    277\u001b[0m \u001b[38;5;124;03m    a JSON document) to a Python object.\u001b[39;00m\n\u001b[1;32m    278\u001b[0m \n\u001b[0;32m   (...)\u001b[0m\n\u001b[1;32m    291\u001b[0m \u001b[38;5;124;03m    kwarg; otherwise ``JSONDecoder`` is used.\u001b[39;00m\n\u001b[1;32m    292\u001b[0m \u001b[38;5;124;03m    \"\"\"\u001b[39;00m\n\u001b[0;32m--> 293\u001b[0m     \u001b[38;5;28;01mreturn\u001b[39;00m \u001b[43mloads\u001b[49m\u001b[43m(\u001b[49m\u001b[43mfp\u001b[49m\u001b[38;5;241;43m.\u001b[39;49m\u001b[43mread\u001b[49m\u001b[43m(\u001b[49m\u001b[43m)\u001b[49m\u001b[43m,\u001b[49m\n\u001b[1;32m    294\u001b[0m \u001b[43m        \u001b[49m\u001b[38;5;28;43mcls\u001b[39;49m\u001b[38;5;241;43m=\u001b[39;49m\u001b[38;5;28;43mcls\u001b[39;49m\u001b[43m,\u001b[49m\u001b[43m \u001b[49m\u001b[43mobject_hook\u001b[49m\u001b[38;5;241;43m=\u001b[39;49m\u001b[43mobject_hook\u001b[49m\u001b[43m,\u001b[49m\n\u001b[1;32m    295\u001b[0m \u001b[43m        \u001b[49m\u001b[43mparse_float\u001b[49m\u001b[38;5;241;43m=\u001b[39;49m\u001b[43mparse_float\u001b[49m\u001b[43m,\u001b[49m\u001b[43m \u001b[49m\u001b[43mparse_int\u001b[49m\u001b[38;5;241;43m=\u001b[39;49m\u001b[43mparse_int\u001b[49m\u001b[43m,\u001b[49m\n\u001b[1;32m    296\u001b[0m \u001b[43m        \u001b[49m\u001b[43mparse_constant\u001b[49m\u001b[38;5;241;43m=\u001b[39;49m\u001b[43mparse_constant\u001b[49m\u001b[43m,\u001b[49m\u001b[43m \u001b[49m\u001b[43mobject_pairs_hook\u001b[49m\u001b[38;5;241;43m=\u001b[39;49m\u001b[43mobject_pairs_hook\u001b[49m\u001b[43m,\u001b[49m\u001b[43m \u001b[49m\u001b[38;5;241;43m*\u001b[39;49m\u001b[38;5;241;43m*\u001b[39;49m\u001b[43mkw\u001b[49m\u001b[43m)\u001b[49m\n",
      "File \u001b[0;32m/usr/lib/python3.9/json/__init__.py:346\u001b[0m, in \u001b[0;36mloads\u001b[0;34m(s, cls, object_hook, parse_float, parse_int, parse_constant, object_pairs_hook, **kw)\u001b[0m\n\u001b[1;32m    341\u001b[0m     s \u001b[38;5;241m=\u001b[39m s\u001b[38;5;241m.\u001b[39mdecode(detect_encoding(s), \u001b[38;5;124m'\u001b[39m\u001b[38;5;124msurrogatepass\u001b[39m\u001b[38;5;124m'\u001b[39m)\n\u001b[1;32m    343\u001b[0m \u001b[38;5;28;01mif\u001b[39;00m (\u001b[38;5;28mcls\u001b[39m \u001b[38;5;129;01mis\u001b[39;00m \u001b[38;5;28;01mNone\u001b[39;00m \u001b[38;5;129;01mand\u001b[39;00m object_hook \u001b[38;5;129;01mis\u001b[39;00m \u001b[38;5;28;01mNone\u001b[39;00m \u001b[38;5;129;01mand\u001b[39;00m\n\u001b[1;32m    344\u001b[0m         parse_int \u001b[38;5;129;01mis\u001b[39;00m \u001b[38;5;28;01mNone\u001b[39;00m \u001b[38;5;129;01mand\u001b[39;00m parse_float \u001b[38;5;129;01mis\u001b[39;00m \u001b[38;5;28;01mNone\u001b[39;00m \u001b[38;5;129;01mand\u001b[39;00m\n\u001b[1;32m    345\u001b[0m         parse_constant \u001b[38;5;129;01mis\u001b[39;00m \u001b[38;5;28;01mNone\u001b[39;00m \u001b[38;5;129;01mand\u001b[39;00m object_pairs_hook \u001b[38;5;129;01mis\u001b[39;00m \u001b[38;5;28;01mNone\u001b[39;00m \u001b[38;5;129;01mand\u001b[39;00m \u001b[38;5;129;01mnot\u001b[39;00m kw):\n\u001b[0;32m--> 346\u001b[0m     \u001b[38;5;28;01mreturn\u001b[39;00m \u001b[43m_default_decoder\u001b[49m\u001b[38;5;241;43m.\u001b[39;49m\u001b[43mdecode\u001b[49m\u001b[43m(\u001b[49m\u001b[43ms\u001b[49m\u001b[43m)\u001b[49m\n\u001b[1;32m    347\u001b[0m \u001b[38;5;28;01mif\u001b[39;00m \u001b[38;5;28mcls\u001b[39m \u001b[38;5;129;01mis\u001b[39;00m \u001b[38;5;28;01mNone\u001b[39;00m:\n\u001b[1;32m    348\u001b[0m     \u001b[38;5;28mcls\u001b[39m \u001b[38;5;241m=\u001b[39m JSONDecoder\n",
      "File \u001b[0;32m/usr/lib/python3.9/json/decoder.py:337\u001b[0m, in \u001b[0;36mJSONDecoder.decode\u001b[0;34m(self, s, _w)\u001b[0m\n\u001b[1;32m    332\u001b[0m \u001b[38;5;28;01mdef\u001b[39;00m\u001b[38;5;250m \u001b[39m\u001b[38;5;21mdecode\u001b[39m(\u001b[38;5;28mself\u001b[39m, s, _w\u001b[38;5;241m=\u001b[39mWHITESPACE\u001b[38;5;241m.\u001b[39mmatch):\n\u001b[1;32m    333\u001b[0m \u001b[38;5;250m    \u001b[39m\u001b[38;5;124;03m\"\"\"Return the Python representation of ``s`` (a ``str`` instance\u001b[39;00m\n\u001b[1;32m    334\u001b[0m \u001b[38;5;124;03m    containing a JSON document).\u001b[39;00m\n\u001b[1;32m    335\u001b[0m \n\u001b[1;32m    336\u001b[0m \u001b[38;5;124;03m    \"\"\"\u001b[39;00m\n\u001b[0;32m--> 337\u001b[0m     obj, end \u001b[38;5;241m=\u001b[39m \u001b[38;5;28;43mself\u001b[39;49m\u001b[38;5;241;43m.\u001b[39;49m\u001b[43mraw_decode\u001b[49m\u001b[43m(\u001b[49m\u001b[43ms\u001b[49m\u001b[43m,\u001b[49m\u001b[43m \u001b[49m\u001b[43midx\u001b[49m\u001b[38;5;241;43m=\u001b[39;49m\u001b[43m_w\u001b[49m\u001b[43m(\u001b[49m\u001b[43ms\u001b[49m\u001b[43m,\u001b[49m\u001b[43m \u001b[49m\u001b[38;5;241;43m0\u001b[39;49m\u001b[43m)\u001b[49m\u001b[38;5;241;43m.\u001b[39;49m\u001b[43mend\u001b[49m\u001b[43m(\u001b[49m\u001b[43m)\u001b[49m\u001b[43m)\u001b[49m\n\u001b[1;32m    338\u001b[0m     end \u001b[38;5;241m=\u001b[39m _w(s, end)\u001b[38;5;241m.\u001b[39mend()\n\u001b[1;32m    339\u001b[0m     \u001b[38;5;28;01mif\u001b[39;00m end \u001b[38;5;241m!=\u001b[39m \u001b[38;5;28mlen\u001b[39m(s):\n",
      "File \u001b[0;32m/usr/lib/python3.9/json/decoder.py:353\u001b[0m, in \u001b[0;36mJSONDecoder.raw_decode\u001b[0;34m(self, s, idx)\u001b[0m\n\u001b[1;32m    344\u001b[0m \u001b[38;5;250m\u001b[39m\u001b[38;5;124;03m\"\"\"Decode a JSON document from ``s`` (a ``str`` beginning with\u001b[39;00m\n\u001b[1;32m    345\u001b[0m \u001b[38;5;124;03ma JSON document) and return a 2-tuple of the Python\u001b[39;00m\n\u001b[1;32m    346\u001b[0m \u001b[38;5;124;03mrepresentation and the index in ``s`` where the document ended.\u001b[39;00m\n\u001b[0;32m   (...)\u001b[0m\n\u001b[1;32m    350\u001b[0m \n\u001b[1;32m    351\u001b[0m \u001b[38;5;124;03m\"\"\"\u001b[39;00m\n\u001b[1;32m    352\u001b[0m \u001b[38;5;28;01mtry\u001b[39;00m:\n\u001b[0;32m--> 353\u001b[0m     obj, end \u001b[38;5;241m=\u001b[39m \u001b[38;5;28;43mself\u001b[39;49m\u001b[38;5;241;43m.\u001b[39;49m\u001b[43mscan_once\u001b[49m\u001b[43m(\u001b[49m\u001b[43ms\u001b[49m\u001b[43m,\u001b[49m\u001b[43m \u001b[49m\u001b[43midx\u001b[49m\u001b[43m)\u001b[49m\n\u001b[1;32m    354\u001b[0m \u001b[38;5;28;01mexcept\u001b[39;00m \u001b[38;5;167;01mStopIteration\u001b[39;00m \u001b[38;5;28;01mas\u001b[39;00m err:\n\u001b[1;32m    355\u001b[0m     \u001b[38;5;28;01mraise\u001b[39;00m JSONDecodeError(\u001b[38;5;124m\"\u001b[39m\u001b[38;5;124mExpecting value\u001b[39m\u001b[38;5;124m\"\u001b[39m, s, err\u001b[38;5;241m.\u001b[39mvalue) \u001b[38;5;28;01mfrom\u001b[39;00m\u001b[38;5;250m \u001b[39m\u001b[38;5;28;01mNone\u001b[39;00m\n",
      "\u001b[0;31mJSONDecodeError\u001b[0m: Invalid control character at: line 12 column 39 (char 446)"
     ]
    }
   ],
   "source": [
    "snudda = Snudda(network_path=network_path)\n",
    "si = snudda.init_tiny(neuron_paths=[neuron_path_dspn, neuron_path_ispn], \n",
    "                      neuron_names=[\"dSPN\", \"iSPN\"], number_of_neurons=[10, 10],\n",
    "                      snudda_data=snudda_data,\n",
    "                      density=80500,\n",
    "                      d_min=15e-6,\n",
    "                      random_seed=123)\n",
    "\n",
    "si.network_data[\"regions\"][\"Cube\"][\"neurons\"][\"dSPN\"][\"reaction_diffusion\"] = \"reaction_diffusion_D1_empty.json\"\n",
    "si.network_data[\"regions\"][\"Cube\"][\"neurons\"][\"dSPN\"][\"modulation\"] = \"./modulation_parameters.json\"\n",
    "si.network_data[\"regions\"][\"Cube\"][\"neurons\"][\"dSPN\"][\"modulation_key\"] = \"abc\"\n",
    "\n",
    "si.network_data[\"regions\"][\"Cube\"][\"neurons\"][\"iSPN\"][\"reaction_diffusion\"] = \"reaction_diffusion_D2_empty.json\"\n",
    "si.network_data[\"regions\"][\"Cube\"][\"neurons\"][\"iSPN\"][\"modulation\"] = \"./modulation_parameters.json\"\n",
    "si.network_data[\"regions\"][\"Cube\"][\"neurons\"][\"iSPN\"][\"modulation_key\"] = \"abc\"\n",
    "\n",
    "\n",
    "si.network_data[\"regions\"][\"Cube\"][\"neurons\"][\"dSPN\"][\"modulation_key\"] = \"abc\"\n",
    "\n",
    "si.write_json()\n",
    "\n",
    "snudda.create_network()"
   ]
  },
  {
   "cell_type": "code",
   "execution_count": null,
   "id": "0dceede8-06a9-4b7e-8906-01b47efc8077",
   "metadata": {},
   "outputs": [],
   "source": [
    "snd = Snudda(network_path=network_path, parallel=False)\n",
    "snd.create_network()"
   ]
  },
  {
   "cell_type": "markdown",
   "id": "484502e0-1306-4060-b15d-319124cc1443",
   "metadata": {},
   "source": [
    "## Create synaptic input\n",
    "\n",
    "The file ```marianna_input.json``` defines the input here."
   ]
  },
  {
   "cell_type": "code",
   "execution_count": null,
   "id": "d624e1aa-86b2-41a9-b052-dcd4654e32ee",
   "metadata": {},
   "outputs": [],
   "source": [
    "snd.setup_input(input_config=\"marianna_input.json\")\n"
   ]
  },
  {
   "cell_type": "markdown",
   "id": "97034cf6-2f60-4607-a920-68a4523a4f5e",
   "metadata": {},
   "source": [
    "## Run the simulation\n",
    "\n",
    "The Jupyter notebook can be tricky, sometimes the os.system call does not work (if you run without the ```mpirun``` it will work, but then it is slower). You might have to copy paste the shell command to the terminal manually, just be sure you are in the same folder when you run it."
   ]
  },
  {
   "cell_type": "code",
   "execution_count": null,
   "id": "c740b770-8088-4000-b5bf-dbadf6a0754c",
   "metadata": {},
   "outputs": [],
   "source": [
    "number_of_cores = 8"
   ]
  },
  {
   "cell_type": "code",
   "execution_count": null,
   "id": "74d590c4-672a-43e7-aae6-e9acf62d6c59",
   "metadata": {},
   "outputs": [],
   "source": [
    "run_str_on = f\"mpirun -n {number_of_cores} snudda simulate {network_path} --time {sim_time} --simulation_config {sim_config_on} --mechdir {mech_dir} --enable_rxd_neuromodulation --verbose\"\n",
    "print(run_str_on)"
   ]
  },
  {
   "cell_type": "code",
   "execution_count": null,
   "id": "1cd7d29c-1439-4039-b3eb-f26928b57a05",
   "metadata": {},
   "outputs": [],
   "source": [
    "os.system(run_str_on)"
   ]
  },
  {
   "cell_type": "code",
   "execution_count": null,
   "id": "dc73eb84-536b-451a-8bf5-3b30f4335e5f",
   "metadata": {},
   "outputs": [],
   "source": [
    "run_str_off = f\"mpirun -n {number_of_cores} snudda simulate {network_path} --time {sim_time} --simulation_config {sim_config_off} --mechdir {mech_dir}\"\n",
    "print(run_str_off)"
   ]
  },
  {
   "cell_type": "code",
   "execution_count": null,
   "id": "8f315d57-4863-47c0-955c-0313d194713b",
   "metadata": {},
   "outputs": [],
   "source": [
    "os.system(run_str_off)"
   ]
  },
  {
   "cell_type": "markdown",
   "id": "ac8bfea6-b7f5-46c6-9a8d-df8015fae7ca",
   "metadata": {},
   "source": [
    "## Inspect the simulation\n",
    "\n",
    "This simulation is run with neuromodulation, the first few figures below inspect the state of the neuromodulation."
   ]
  },
  {
   "cell_type": "code",
   "execution_count": null,
   "id": "74305bfb-722e-4ffb-8412-604597aed225",
   "metadata": {},
   "outputs": [],
   "source": [
    "from snudda.utils import SnuddaLoadSimulation\n",
    "\n",
    "nd = SnuddaLoadSimulation(sim_output_neuromodulation_ON)\n",
    "time = nd.get_time()\n",
    "\n",
    "# Double check that 0 is dSPN and 1 is iSPN\n",
    "data_pka_dspn = nd.get_data(\"PKAc\", 0)[0][0]\n",
    "data_pka_ispn = nd.get_data(\"PKAc\", 1)[0][1]\n",
    "\n",
    "# This is saved with add_rxd_internal_concentration_recording_all -- check that it worked \n",
    "data_pka_all0 = nd.get_data(\"PKAc\", 0)[0][0]"
   ]
  },
  {
   "cell_type": "code",
   "execution_count": null,
   "id": "d93b983a-e4bf-4a07-b904-bd93955e6dd1",
   "metadata": {},
   "outputs": [],
   "source": [
    "# This is just so you know what neurons are where\n",
    "nd.network_simulation_file[\"meta_data\"][\"name\"][()]"
   ]
  },
  {
   "cell_type": "markdown",
   "id": "b7e03fc7-b971-4476-94c7-bb25605fa158",
   "metadata": {},
   "source": [
    "### Plot internal state\n",
    "\n",
    "This plot is quite messy, we have used it to debug the state. You can double click on the legends, to see the individual curves. It lets you inspect the level of PKAc (proxy for neuromodulation), the currents (e.g. bk_ms.ik), and the modulation (e.g. cal12_ms.modulation_factor)."
   ]
  },
  {
   "cell_type": "code",
   "execution_count": null,
   "id": "4320aa6f-cd33-434a-813c-1c5826a09c23",
   "metadata": {},
   "outputs": [],
   "source": [
    "neuron_id = 1\n",
    "\n",
    "data_types = nd.list_data_types(0)\n",
    "all_species_data = nd.get_all_data(neuron_id=neuron_id, exclude=[\"spikes\", \"voltage\"])\n",
    "time = nd.get_time()\n",
    "voltage = nd.get_data(\"voltage\", [neuron_id])"
   ]
  },
  {
   "cell_type": "code",
   "execution_count": null,
   "id": "f235d298-3997-42d2-8647-260ecbb6739d",
   "metadata": {},
   "outputs": [],
   "source": [
    "import plotly.graph_objects as go\n",
    "import plotly.io as pio\n",
    "pio.renderers.default = \"iframe\"  # Do not save plots in the notebook, they can get BIG\n",
    "\n",
    "\n",
    "fig = go.Figure()\n",
    "for data_type in all_species_data:\n",
    "    idx = time >= 0.0\n",
    "    fig.add_trace(go.Scatter(x=time[idx], y=all_species_data[data_type][0][neuron_id].T[0][idx], name=data_type, line={\"width\":4}))\n",
    "\n",
    "\"\"\"\n",
    "fig.update_layout(xaxis_title=\"Time (s)\", yaxis_title=\"Concentration\", width=1000, height=800,\n",
    "                 font={\"size\":18},  # General font size for all elements\n",
    "                 legend={\"font\":{\"size\":16}},  # Specific font size for legend\n",
    "                 xaxis={\"title\":{\"font\":{\"size\":20}}, \"tickfont\":{\"size\":14}},  # X-axis title and tick labels\n",
    "                 yaxis={\"title\":{\"font\":{\"size\":20}}, \"tickfont\":{\"size\":14}})   # Y-axis title and tick labels\n",
    "\"\"\"\n",
    "fig.show()"
   ]
  },
  {
   "cell_type": "code",
   "execution_count": null,
   "id": "069e1970-cafb-4cac-a099-c9c5a43734a7",
   "metadata": {},
   "outputs": [],
   "source": [
    "from snudda.plotting.plotly.trace import PlotTrace\n",
    "\n",
    "pt_on = PlotTrace(snudda_load_simulation=nd)\n",
    "# pt_on.define_colour_by_neuron_id({0: \"blue\", 1: \"red\"})\n",
    "pt_on.define_colour_by_neuron_id({0: \"blue\", 1: \"blue\", 2: \"blue\", 3: \"blue\", 4: \"blue\", 5: \"blue\", 6: \"blue\", 7: \"blue\", 8: \"blue\", 9: \"blue\", \n",
    "                                  10: \"red\", 11: \"red\", 12: \"red\", 13: \"red\", 14: \"red\", 15: \"red\", 16: \"red\", 17: \"red\", 18: \"red\", 19: \"red\"})\n",
    "\n",
    "pt_on.plot_traces()"
   ]
  },
  {
   "cell_type": "code",
   "execution_count": null,
   "id": "ad7ab4c1-a89f-4814-8176-cc55547e4e75",
   "metadata": {},
   "outputs": [],
   "source": [
    "from snudda.utils import SnuddaLoadSimulation\n",
    "\n",
    "nd_off = SnuddaLoadSimulation(sim_output_neuromodulation_OFF)\n",
    "time = nd_off.get_time()\n"
   ]
  },
  {
   "cell_type": "code",
   "execution_count": null,
   "id": "9ad3626d-02b1-4647-bd2f-81c488634e4d",
   "metadata": {},
   "outputs": [],
   "source": [
    "# DA Off\n",
    "\n",
    "from snudda.plotting.plotly.trace import PlotTrace\n",
    "\n",
    "pt_off = PlotTrace(snudda_load_simulation=nd_off)\n",
    "pt_off.define_colour_by_neuron_id({0: \"blue\", 1: \"blue\", 2: \"blue\", 3: \"blue\", 4: \"blue\", 5: \"blue\", 6: \"blue\", 7: \"blue\", 8: \"blue\", 9: \"blue\", \n",
    "                                   10: \"red\", 11: \"red\", 12: \"red\", 13: \"red\", 14: \"red\", 15: \"red\", 16: \"red\", 17: \"red\", 18: \"red\", 19: \"red\"})\n",
    "pt_off.plot_traces()"
   ]
  },
  {
   "cell_type": "markdown",
   "id": "9dfe5e58-e450-4a7c-9ddc-10db98c9e131",
   "metadata": {},
   "source": []
  }
 ],
 "metadata": {
  "kernelspec": {
   "display_name": "Python 3 (ipykernel)",
   "language": "python",
   "name": "python3"
  },
  "language_info": {
   "codemirror_mode": {
    "name": "ipython",
    "version": 3
   },
   "file_extension": ".py",
   "mimetype": "text/x-python",
   "name": "python",
   "nbconvert_exporter": "python",
   "pygments_lexer": "ipython3",
   "version": "3.9.2"
  }
 },
 "nbformat": 4,
 "nbformat_minor": 5
}
