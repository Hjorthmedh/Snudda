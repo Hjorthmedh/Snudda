{
 "cells": [
  {
   "cell_type": "markdown",
   "id": "138f1fa5-37b6-4563-a588-309e5b21b9d5",
   "metadata": {},
   "source": [
    "# Neuromodulation example\n",
    "\n",
    "This neuromodulation creates a small network of neurons. We also use the reaction diffusion model by Anu G Nair 2015.\n",
    "\n",
    "To generate the ```reaction_diffusion.json``` file in ```data/str-dspn-e150602_c1_D1-mWT-0728MSN01-v20211026/``` from the xml file we run ```data/convert_sbml_to_json.sh```\n",
    "\n",
    "To get the RxD functionality of the ```DA_syn``` we must specify the \"RxD\" block in the connectivity block of the network configuration. See ```data/connectivity.json```\n",
    "\n",
    "```\n",
    "    \"channel_parameters\":\n",
    "\t\t\"RxD\": {\n",
    "\t\t    \"species_name\": \"DA\",\n",
    "\t\t    \"flux_variable\": \"open\",\n",
    "\t\t    \"region\": \"internal\",\n",
    "            \"weight_scaling\": 1e9,\n",
    "\t\t},\n",
    "\n",
    "     ...\n",
    "     }\n",
    "```"
   ]
  },
  {
   "cell_type": "markdown",
   "id": "1746feed-04de-4020-a2cb-f884e8e9698a",
   "metadata": {},
   "source": [
    "## Network setup\n",
    "\n",
    "We have two neurons. The first neuron (Neuron 0) receives external input (cortical from t=0s and DA from t=0.1s). The cortical input will activate the first neuron, and through activation of synapses on the second neuron, we will see the dopamine level increase in the second neuron (Neuron 1).\n",
    "\n",
    "The first neuron also receives direct DA activation from external input (starting at 100ms)."
   ]
  },
  {
   "cell_type": "code",
   "execution_count": 1,
   "id": "5b55f23d-62ac-4433-8639-07870af8c40a",
   "metadata": {},
   "outputs": [
    {
     "name": "stdout",
     "output_type": "stream",
     "text": [
      "Reading connectivity from data/connectivity.json\n",
      "Adding neurons: dspn from dir data/dspn\n",
      "Writing networks/neuromodulation_example_anu_with_real_dspn/network-config.json\n",
      "Writing networks/neuromodulation_example_anu_with_real_dspn/network-config.json\n",
      "Placing neurons\n",
      "Network path: networks/neuromodulation_example_anu_with_real_dspn\n",
      "Reading SNUDDA_DATA=None from networks/neuromodulation_example_anu_with_real_dspn/network-config.json\n",
      "Reading SNUDDA_DATA=/home/hjorth/HBP/Snudda/snudda/utils/../data from networks/neuromodulation_example_anu_with_real_dspn/network-synapses.hdf5\n",
      "No n_putative_points and putative_density, setting n_putative_points = 63\n",
      "(this must be larger than the number of neurons you want to place)\n",
      "Generating 63 points for networks/neuromodulation_example_anu_with_real_dspn/mesh/Cube-cube-mesh-2.917951293943981e-05.obj\n",
      "Filtering, keeping inside points: 4 / 26\n",
      "neuron_name = 'dspn_0', num = 2, neuron_path = 'data/dspn/str-dspn-e150602_c1_D1-mWT-0728MSN01-v20211026'\n",
      "stop_parallel disabled, to keep pool running.\n",
      "\n",
      "Execution time: 0.0s\n",
      "Touch detection\n",
      "Network path: networks/neuromodulation_example_anu_with_real_dspn\n",
      "Reading SNUDDA_DATA=None from networks/neuromodulation_example_anu_with_real_dspn/network-config.json\n",
      "Reading SNUDDA_DATA=/home/hjorth/HBP/Snudda/snudda/utils/../data from networks/neuromodulation_example_anu_with_real_dspn/network-synapses.hdf5\n",
      "No d_view specified, running distribute neurons in serial\n",
      "Processing hyper voxel : 0/27 (2 neurons)\n",
      "Processing hyper voxel : 1/27 (2 neurons)\n",
      "Processing hyper voxel : 3/27 (2 neurons)\n",
      "Processing hyper voxel : 4/27 (2 neurons)\n",
      "Processing hyper voxel : 9/27 (2 neurons)\n",
      "Processing hyper voxel : 10/27 (2 neurons)\n",
      "Processing hyper voxel : 12/27 (2 neurons)\n",
      "Processing hyper voxel : 13/27 (2 neurons)\n",
      "Reading SNUDDA_DATA=None from networks/neuromodulation_example_anu_with_real_dspn/network-config.json\n",
      "stop_parallel disabled, to keep pool running.\n",
      "\n",
      "Execution time: 0.5s\n",
      "Prune synapses\n",
      "Network path: networks/neuromodulation_example_anu_with_real_dspn\n",
      "No file networks/neuromodulation_example_anu_with_real_dspn/pruning_merge_info.json\n",
      "stop_parallel disabled, to keep pool running.\n",
      "\n",
      "Execution time: 0.5s\n"
     ]
    }
   ],
   "source": [
    "import os\n",
    "from snudda import Snudda\n",
    "\n",
    "neuron_path = os.path.join(\"data\", \"dspn\")\n",
    "network_path = os.path.join(\"networks\", \"neuromodulation_example_anu_with_real_dspn\")\n",
    "connectivity_path = os.path.join(\"data\", \"connectivity.json\")\n",
    "\n",
    "snudda = Snudda(network_path=network_path)\n",
    "si = snudda.init_tiny(neuron_paths=neuron_path, neuron_names=\"dspn\", number_of_neurons=[2], \n",
    "                      connection_config=connectivity_path, random_seed=12345)\n",
    "\n",
    "si.network_data[\"regions\"][\"Cube\"][\"neurons\"][\"dspn\"][\"reaction_diffusion\"] = \"reaction_diffusion.json\"\n",
    "si.network_data[\"regions\"][\"Cube\"][\"neurons\"][\"dspn\"][\"modulation\"] = \"test-modulation.json\"\n",
    "si.network_data[\"regions\"][\"Cube\"][\"neurons\"][\"dspn\"][\"modulation_key\"] = \"abc\"\n",
    "\n",
    "\n",
    "si.write_json()\n",
    "\n",
    "snudda.create_network()"
   ]
  },
  {
   "cell_type": "code",
   "execution_count": 2,
   "id": "41e96e4a-0f52-4d77-8a1f-ba8d270b9b78",
   "metadata": {},
   "outputs": [
    {
     "name": "stdout",
     "output_type": "stream",
     "text": [
      "Setting up inputs, assuming input.json exists\n",
      "Reading SNUDDA_DATA=None from networks/neuromodulation_example_anu_with_real_dspn/network-config.json\n",
      "Reading SNUDDA_DATA=/home/hjorth/HBP/Snudda/snudda/utils/../data from networks/neuromodulation_example_anu_with_real_dspn/network-synapses.hdf5\n",
      "Writing input spikes to networks/neuromodulation_example_anu_with_real_dspn/input-spikes.hdf5\n",
      "Reading SNUDDA_DATA=None from networks/neuromodulation_example_anu_with_real_dspn/network-config.json\n",
      "Reading SNUDDA_DATA=/home/hjorth/HBP/Snudda/snudda/utils/../data from networks/neuromodulation_example_anu_with_real_dspn/network-synapses.hdf5\n",
      "!!! Warning, combining definition of cortical with cortical input for neuron dspn_0 0 (meta modified by input_config)\n",
      "Writing spikes to networks/neuromodulation_example_anu_with_real_dspn/input-spikes.hdf5\n",
      "stop_parallel disabled, to keep pool running.\n",
      "\n",
      "Execution time: 0.6s\n"
     ]
    },
    {
     "data": {
      "text/plain": [
       "<snudda.input.input.SnuddaInput at 0xffff90377b20>"
      ]
     },
     "execution_count": 2,
     "metadata": {},
     "output_type": "execute_result"
    }
   ],
   "source": [
    "input_config = os.path.join(\"data\", \"input_v2.json\")\n",
    "snudda.setup_input(input_config=input_config)"
   ]
  },
  {
   "cell_type": "code",
   "execution_count": 3,
   "id": "d019b580-4193-4321-9ee8-9bdd3988209f",
   "metadata": {},
   "outputs": [
    {
     "name": "stdout",
     "output_type": "stream",
     "text": [
      "Using input file networks/neuromodulation_example_anu_with_real_dspn/input-spikes.hdf5\n",
      "NEURON mechanisms already compiled, make sure you have the correct version of NEURON modules.\n",
      "If you delete x86_64, aarch64, arm64 directories (or nrnmech.dll) then you will force a recompilation of the modules.\n",
      "Reading SNUDDA_DATA=None from networks/neuromodulation_example_anu_with_real_dspn/network-config.json\n",
      "Reading SNUDDA_DATA=/home/hjorth/HBP/Snudda/snudda/utils/../data from networks/neuromodulation_example_anu_with_real_dspn/network-synapses.hdf5\n",
      "Using network_file: networks/neuromodulation_example_anu_with_real_dspn/network-synapses.hdf5\n",
      "Using input_file: networks/neuromodulation_example_anu_with_real_dspn/input-spikes.hdf5\n",
      "Using output_file: networks/neuromodulation_example_anu_with_real_dspn/simulation/output.hdf5\n",
      "Using logFile: networks/neuromodulation_example_anu_with_real_dspn/log/network-simulation-log.txt-0\n",
      "Worker 0 : Loading network from networks/neuromodulation_example_anu_with_real_dspn/network-synapses.hdf5\n",
      "Loading config file networks/neuromodulation_example_anu_with_real_dspn/network-config.json\n",
      "0 : Memory status: 61% free\n",
      "Distributing neurons.\n",
      "Setup neurons\n",
      "Node 0 - cell 0 dspn_0\n"
     ]
    },
    {
     "ename": "AttributeError",
     "evalue": "mod_pka_g_min_kir_ms, the mechanism does not exist at dspn_0[0].axon[0](0.5)",
     "output_type": "error",
     "traceback": [
      "\u001b[0;31m---------------------------------------------------------------------------\u001b[0m",
      "\u001b[0;31mAttributeError\u001b[0m                            Traceback (most recent call last)",
      "Cell \u001b[0;32mIn[3], line 3\u001b[0m\n\u001b[1;32m      1\u001b[0m mech_dir \u001b[38;5;241m=\u001b[39m os\u001b[38;5;241m.\u001b[39mpath\u001b[38;5;241m.\u001b[39mjoin(\u001b[38;5;124m\"\u001b[39m\u001b[38;5;124m..\u001b[39m\u001b[38;5;124m\"\u001b[39m, \u001b[38;5;124m\"\u001b[39m\u001b[38;5;124m..\u001b[39m\u001b[38;5;124m\"\u001b[39m, \u001b[38;5;124m\"\u001b[39m\u001b[38;5;124m..\u001b[39m\u001b[38;5;124m\"\u001b[39m, \u001b[38;5;124m\"\u001b[39m\u001b[38;5;124m..\u001b[39m\u001b[38;5;124m\"\u001b[39m, \u001b[38;5;124m\"\u001b[39m\u001b[38;5;124mBasalGangliaData\u001b[39m\u001b[38;5;124m\"\u001b[39m, \u001b[38;5;124m\"\u001b[39m\u001b[38;5;124mdata\u001b[39m\u001b[38;5;124m\"\u001b[39m, \u001b[38;5;124m\"\u001b[39m\u001b[38;5;124mneurons\u001b[39m\u001b[38;5;124m\"\u001b[39m, \u001b[38;5;124m\"\u001b[39m\u001b[38;5;124mmechanisms\u001b[39m\u001b[38;5;124m\"\u001b[39m)\n\u001b[1;32m      2\u001b[0m sample_dt \u001b[38;5;241m=\u001b[39m \u001b[38;5;28;01mNone\u001b[39;00m \u001b[38;5;66;03m# 0.00005\u001b[39;00m\n\u001b[0;32m----> 3\u001b[0m sim \u001b[38;5;241m=\u001b[39m \u001b[43msnudda\u001b[49m\u001b[38;5;241;43m.\u001b[39;49m\u001b[43msimulate\u001b[49m\u001b[43m(\u001b[49m\u001b[43mtime\u001b[49m\u001b[38;5;241;43m=\u001b[39;49m\u001b[38;5;241;43m0\u001b[39;49m\u001b[43m,\u001b[49m\u001b[43m \u001b[49m\u001b[43mmech_dir\u001b[49m\u001b[38;5;241;43m=\u001b[39;49m\u001b[43mmech_dir\u001b[49m\u001b[43m,\u001b[49m\u001b[43m \u001b[49m\u001b[43mverbose\u001b[49m\u001b[38;5;241;43m=\u001b[39;49m\u001b[38;5;28;43;01mTrue\u001b[39;49;00m\u001b[43m,\u001b[49m\u001b[43m \u001b[49m\u001b[43msample_dt\u001b[49m\u001b[38;5;241;43m=\u001b[39;49m\u001b[43msample_dt\u001b[49m\u001b[43m)\u001b[49m\n",
      "File \u001b[0;32m~/HBP/Snudda/snudda/core.py:815\u001b[0m, in \u001b[0;36mSnudda.simulate\u001b[0;34m(self, network_file, input_file, output_file, snudda_data, time, mech_dir, disable_synapses, disable_gj, record_volt, record_all, sample_dt, simulation_config, export_core_neuron, verbose)\u001b[0m\n\u001b[1;32m    805\u001b[0m \u001b[38;5;66;03m# Simulate is deterministic, no random seed.\u001b[39;00m\n\u001b[1;32m    806\u001b[0m sim \u001b[38;5;241m=\u001b[39m SnuddaSimulate(network_file\u001b[38;5;241m=\u001b[39mnetwork_file,\n\u001b[1;32m    807\u001b[0m                      input_file\u001b[38;5;241m=\u001b[39minput_file,\n\u001b[1;32m    808\u001b[0m                      output_file\u001b[38;5;241m=\u001b[39moutput_file,\n\u001b[0;32m   (...)\u001b[0m\n\u001b[1;32m    813\u001b[0m                      sample_dt\u001b[38;5;241m=\u001b[39msample_dt,\n\u001b[1;32m    814\u001b[0m                      verbose\u001b[38;5;241m=\u001b[39mverbose)\n\u001b[0;32m--> 815\u001b[0m \u001b[43msim\u001b[49m\u001b[38;5;241;43m.\u001b[39;49m\u001b[43msetup\u001b[49m\u001b[43m(\u001b[49m\u001b[43m)\u001b[49m\n\u001b[1;32m    816\u001b[0m sim\u001b[38;5;241m.\u001b[39madd_external_input()\n\u001b[1;32m    818\u001b[0m sim\u001b[38;5;241m.\u001b[39mcheck_memory_status()\n",
      "File \u001b[0;32m~/HBP/Snudda/snudda/simulate/simulate.py:274\u001b[0m, in \u001b[0;36mSnuddaSimulate.setup\u001b[0;34m(self)\u001b[0m\n\u001b[1;32m    271\u001b[0m \u001b[38;5;28mself\u001b[39m\u001b[38;5;241m.\u001b[39mdistribute_neurons()\n\u001b[1;32m    272\u001b[0m \u001b[38;5;28mself\u001b[39m\u001b[38;5;241m.\u001b[39mpc\u001b[38;5;241m.\u001b[39mbarrier()\n\u001b[0;32m--> 274\u001b[0m \u001b[38;5;28;43mself\u001b[39;49m\u001b[38;5;241;43m.\u001b[39;49m\u001b[43msetup_neurons\u001b[49m\u001b[43m(\u001b[49m\u001b[43m)\u001b[49m\n\u001b[1;32m    275\u001b[0m \u001b[38;5;28mself\u001b[39m\u001b[38;5;241m.\u001b[39mcheck_memory_status()\n\u001b[1;32m    276\u001b[0m \u001b[38;5;28mself\u001b[39m\u001b[38;5;241m.\u001b[39mpc\u001b[38;5;241m.\u001b[39mbarrier()\n",
      "File \u001b[0;32m~/HBP/Snudda/snudda/simulate/simulate.py:667\u001b[0m, in \u001b[0;36mSnuddaSimulate.setup_neurons\u001b[0;34m(self)\u001b[0m\n\u001b[1;32m    664\u001b[0m \u001b[38;5;28mself\u001b[39m\u001b[38;5;241m.\u001b[39mwrite_log(\u001b[38;5;124mf\u001b[39m\u001b[38;5;124m\"\u001b[39m\u001b[38;5;124mNode \u001b[39m\u001b[38;5;132;01m{\u001b[39;00m\u001b[38;5;28mint\u001b[39m(\u001b[38;5;28mself\u001b[39m\u001b[38;5;241m.\u001b[39mpc\u001b[38;5;241m.\u001b[39mid())\u001b[38;5;132;01m}\u001b[39;00m\u001b[38;5;124m - cell \u001b[39m\u001b[38;5;132;01m{\u001b[39;00mID\u001b[38;5;132;01m}\u001b[39;00m\u001b[38;5;124m \u001b[39m\u001b[38;5;132;01m{\u001b[39;00mname\u001b[38;5;132;01m}\u001b[39;00m\u001b[38;5;124m\"\u001b[39m)\n\u001b[1;32m    666\u001b[0m \u001b[38;5;66;03m# We need to instantiate the cell\u001b[39;00m\n\u001b[0;32m--> 667\u001b[0m \u001b[38;5;28;43mself\u001b[39;49m\u001b[38;5;241;43m.\u001b[39;49m\u001b[43mneurons\u001b[49m\u001b[43m[\u001b[49m\u001b[43mID\u001b[49m\u001b[43m]\u001b[49m\u001b[38;5;241;43m.\u001b[39;49m\u001b[43minstantiate\u001b[49m\u001b[43m(\u001b[49m\u001b[43msim\u001b[49m\u001b[38;5;241;43m=\u001b[39;49m\u001b[38;5;28;43mself\u001b[39;49m\u001b[38;5;241;43m.\u001b[39;49m\u001b[43msim\u001b[49m\u001b[43m)\u001b[49m\n\u001b[1;32m    668\u001b[0m \u001b[38;5;28mself\u001b[39m\u001b[38;5;241m.\u001b[39mset_resting_voltage(ID)\n\u001b[1;32m    670\u001b[0m \u001b[38;5;66;03m# !!! DIRTY FIX for\u001b[39;00m\n\u001b[1;32m    671\u001b[0m \u001b[38;5;66;03m# https://github.com/BlueBrain/BluePyOpt/blob/master/bluepyopt/ephys/morphologies.py\u001b[39;00m\n\u001b[1;32m    672\u001b[0m \u001b[38;5;66;03m# This is likely the offending line, that pushes a segment to the stack\u001b[39;00m\n\u001b[1;32m    673\u001b[0m \u001b[38;5;66;03m# --> sim.neuron.h.execute('create axon[2]', icell)\u001b[39;00m\n",
      "File \u001b[0;32m~/HBP/Snudda/snudda/neurons/neuron_model_extended.py:445\u001b[0m, in \u001b[0;36mNeuronModel.instantiate\u001b[0;34m(self, sim)\u001b[0m\n\u001b[1;32m    443\u001b[0m     mechanism\u001b[38;5;241m.\u001b[39minstantiate(sim\u001b[38;5;241m=\u001b[39msim, icell\u001b[38;5;241m=\u001b[39m\u001b[38;5;28mself\u001b[39m\u001b[38;5;241m.\u001b[39micell)\n\u001b[1;32m    444\u001b[0m \u001b[38;5;28;01mfor\u001b[39;00m param \u001b[38;5;129;01min\u001b[39;00m \u001b[38;5;28mself\u001b[39m\u001b[38;5;241m.\u001b[39mparams\u001b[38;5;241m.\u001b[39mvalues():\n\u001b[0;32m--> 445\u001b[0m     \u001b[43mparam\u001b[49m\u001b[38;5;241;43m.\u001b[39;49m\u001b[43minstantiate\u001b[49m\u001b[43m(\u001b[49m\u001b[43msim\u001b[49m\u001b[38;5;241;43m=\u001b[39;49m\u001b[43msim\u001b[49m\u001b[43m,\u001b[49m\u001b[43m \u001b[49m\u001b[43micell\u001b[49m\u001b[38;5;241;43m=\u001b[39;49m\u001b[38;5;28;43mself\u001b[39;49m\u001b[38;5;241;43m.\u001b[39;49m\u001b[43micell\u001b[49m\u001b[43m)\u001b[49m\n\u001b[1;32m    447\u001b[0m \u001b[38;5;28;01mif\u001b[39;00m \u001b[38;5;28mself\u001b[39m\u001b[38;5;241m.\u001b[39mmodulation:\n\u001b[1;32m    448\u001b[0m     \u001b[38;5;28mself\u001b[39m\u001b[38;5;241m.\u001b[39mmodulation\u001b[38;5;241m.\u001b[39mload_json()\n",
      "File \u001b[0;32m~/HBP/Snudda/venv/lib/python3.9/site-packages/bluepyopt/ephys/parameters.py:381\u001b[0m, in \u001b[0;36mNrnRangeParameter.instantiate\u001b[0;34m(self, sim, icell, params)\u001b[0m\n\u001b[1;32m    379\u001b[0m     \u001b[38;5;28;01mfor\u001b[39;00m isection \u001b[38;5;129;01min\u001b[39;00m location\u001b[38;5;241m.\u001b[39minstantiate(sim\u001b[38;5;241m=\u001b[39msim, icell\u001b[38;5;241m=\u001b[39micell):\n\u001b[1;32m    380\u001b[0m         \u001b[38;5;28;01mfor\u001b[39;00m seg \u001b[38;5;129;01min\u001b[39;00m isection:\n\u001b[0;32m--> 381\u001b[0m             \u001b[38;5;28;43msetattr\u001b[39;49m\u001b[43m(\u001b[49m\u001b[43mseg\u001b[49m\u001b[43m,\u001b[49m\u001b[43m \u001b[49m\u001b[38;5;124;43m'\u001b[39;49m\u001b[38;5;132;43;01m%s\u001b[39;49;00m\u001b[38;5;124;43m'\u001b[39;49m\u001b[43m \u001b[49m\u001b[38;5;241;43m%\u001b[39;49m\u001b[43m \u001b[49m\u001b[38;5;28;43mself\u001b[39;49m\u001b[38;5;241;43m.\u001b[39;49m\u001b[43mparam_name\u001b[49m\u001b[43m,\u001b[49m\n\u001b[1;32m    382\u001b[0m \u001b[43m                    \u001b[49m\u001b[38;5;28;43mself\u001b[39;49m\u001b[38;5;241;43m.\u001b[39;49m\u001b[43mvalue_scale_func\u001b[49m\u001b[43m(\u001b[49m\u001b[43m_values\u001b[49m\u001b[43m,\u001b[49m\u001b[43m \u001b[49m\u001b[43mseg\u001b[49m\u001b[43m,\u001b[49m\u001b[43m \u001b[49m\u001b[43msim\u001b[49m\u001b[38;5;241;43m=\u001b[39;49m\u001b[43msim\u001b[49m\u001b[43m)\u001b[49m\u001b[43m)\u001b[49m\n\u001b[1;32m    383\u001b[0m logger\u001b[38;5;241m.\u001b[39mdebug(\n\u001b[1;32m    384\u001b[0m     \u001b[38;5;124m'\u001b[39m\u001b[38;5;124mSet \u001b[39m\u001b[38;5;132;01m%s\u001b[39;00m\u001b[38;5;124m in \u001b[39m\u001b[38;5;132;01m%s\u001b[39;00m\u001b[38;5;124m to \u001b[39m\u001b[38;5;132;01m%s\u001b[39;00m\u001b[38;5;124m with scaler \u001b[39m\u001b[38;5;132;01m%s\u001b[39;00m\u001b[38;5;124m'\u001b[39m, \u001b[38;5;28mself\u001b[39m\u001b[38;5;241m.\u001b[39mparam_name,\n\u001b[1;32m    385\u001b[0m     [\u001b[38;5;28mstr\u001b[39m(location)\n\u001b[1;32m    386\u001b[0m      \u001b[38;5;28;01mfor\u001b[39;00m location \u001b[38;5;129;01min\u001b[39;00m \u001b[38;5;28mself\u001b[39m\u001b[38;5;241m.\u001b[39mlocations],\n\u001b[1;32m    387\u001b[0m     \u001b[38;5;28mself\u001b[39m\u001b[38;5;241m.\u001b[39mvalue,\n\u001b[1;32m    388\u001b[0m     \u001b[38;5;28mself\u001b[39m\u001b[38;5;241m.\u001b[39mvalue_scaler)\n",
      "\u001b[0;31mAttributeError\u001b[0m: mod_pka_g_min_kir_ms, the mechanism does not exist at dspn_0[0].axon[0](0.5)"
     ]
    }
   ],
   "source": [
    "mech_dir = os.path.join(\"..\", \"..\", \"..\", \"..\", \"BasalGangliaData\", \"data\", \"neurons\", \"mechanisms\")\n",
    "sample_dt = None # 0.00005\n",
    "sim = snudda.simulate(time=0, mech_dir=mech_dir, verbose=True, sample_dt=sample_dt)"
   ]
  },
  {
   "cell_type": "markdown",
   "id": "8159ba12-a064-4eb9-ab51-72fba54b3a1c",
   "metadata": {},
   "source": [
    "### Add PKA and DA recordings\n",
    "Here we add recordings from a compartment that receives synaptic input from its neighbour. This has been checked by looking at the synapse_connection matrix (snudda_load command)."
   ]
  },
  {
   "cell_type": "code",
   "execution_count": null,
   "id": "88bf71a5-19da-4e2e-8e90-29546a56cea1",
   "metadata": {},
   "outputs": [],
   "source": [
    "sim.add_rxd_concentration_recording(species=\"PKAc\", neuron_id=1,\n",
    "                                    region=\"dend_internal\",\n",
    "                                    sec_type=\"dend\",\n",
    "                                    sec_id=4,\n",
    "                                    sec_x=0.25)"
   ]
  },
  {
   "cell_type": "code",
   "execution_count": null,
   "id": "27ec8a70-1fbc-4093-9d8c-cb73494b626e",
   "metadata": {},
   "outputs": [],
   "source": [
    "sim.add_rxd_concentration_recording(species=\"DA\", neuron_id=1,\n",
    "                                    region=\"dend_internal\",\n",
    "                                    sec_type=\"dend\",\n",
    "                                    sec_id=4,\n",
    "                                    sec_x=0.25)"
   ]
  },
  {
   "cell_type": "markdown",
   "id": "93f8a148-edbf-40e5-ab7f-1dca76bc2d32",
   "metadata": {},
   "source": [
    "### Add additional PKA and DA recorings, for input"
   ]
  },
  {
   "cell_type": "code",
   "execution_count": null,
   "id": "6b9f2c09-d17f-4848-990d-9cc9b7859c39",
   "metadata": {},
   "outputs": [],
   "source": [
    "sim.add_rxd_concentration_recording(species=\"DA\", neuron_id=0,\n",
    "                                    region=\"dend_internal\",\n",
    "                                    sec_type=\"dend\",\n",
    "                                    sec_id=7,\n",
    "                                    sec_x=0.233)"
   ]
  },
  {
   "cell_type": "code",
   "execution_count": null,
   "id": "4d9216d8-8a84-4370-bfc1-88f6cc496a13",
   "metadata": {},
   "outputs": [],
   "source": [
    "# sim.add_rxd_internal_concentration_recording_all(species=\"PKA\", neuron_id=0)"
   ]
  },
  {
   "cell_type": "code",
   "execution_count": null,
   "id": "a9f436d4-4b12-4aca-87bc-1aebb9475456",
   "metadata": {},
   "outputs": [],
   "source": [
    "sim.add_rxd_internal_concentration_recording_all_species(neuron_id=0)"
   ]
  },
  {
   "cell_type": "code",
   "execution_count": null,
   "id": "65a75d7a-fdcb-46b0-8148-d4752a3d0748",
   "metadata": {},
   "outputs": [],
   "source": [
    "# Add density mechanism record\n",
    "sim.add_density_mechanism_recording(neuron_id=0, sec_id=0, sec_x=0.5, density_mechanism_name=\"kir_ms\", variable_name=\"modulation_factor\")"
   ]
  },
  {
   "cell_type": "code",
   "execution_count": null,
   "id": "9f5f9b57-9e65-4a09-87ab-cc6da2ce332e",
   "metadata": {},
   "outputs": [],
   "source": [
    "sim.run(t=200)"
   ]
  },
  {
   "cell_type": "code",
   "execution_count": null,
   "id": "053125fc-9117-459b-a3e8-725ef45db53a",
   "metadata": {},
   "outputs": [],
   "source": [
    "sim.record.write()"
   ]
  },
  {
   "cell_type": "markdown",
   "id": "bfdb2c9a-4d32-453d-84b8-2c872bfd4050",
   "metadata": {},
   "source": [
    "## Load the data and plot"
   ]
  },
  {
   "cell_type": "code",
   "execution_count": null,
   "id": "d84ee6f3-4193-4509-ad4a-0d93dff5e3d9",
   "metadata": {},
   "outputs": [],
   "source": [
    "from snudda.utils import SnuddaLoadSimulation\n",
    "\n",
    "output_file = os.path.join(network_path, \"simulation\", \"output.hdf5\")\n",
    "nd = SnuddaLoadSimulation(output_file)\n",
    "time = nd.get_time()\n",
    "data_pka = nd.get_data(\"PKAc\", 1)[0][1]\n",
    "data_da = nd.get_data(\"DA\", 1)[0][1]\n",
    "data_da_external = nd.get_data(\"DA\", 0)[0][0]\n",
    "\n",
    "# This is saved with add_rxd_internal_concentration_recording_all -- check that it worked \n",
    "data_pka_all0 = nd.get_data(\"PKAc\", 0)[0][0]"
   ]
  },
  {
   "cell_type": "code",
   "execution_count": null,
   "id": "bd0f4edf-a622-490b-b39f-18f516975737",
   "metadata": {},
   "outputs": [],
   "source": [
    "data_types = nd.list_data_types(0)\n",
    "all_species_data = nd.get_all_data(neuron_id=0, exclude=[\"spikes\", \"voltage\"])\n",
    "time = nd.get_time()"
   ]
  },
  {
   "cell_type": "code",
   "execution_count": null,
   "id": "a63a7152-730e-4868-a81a-cc87fccaf9f4",
   "metadata": {},
   "outputs": [],
   "source": [
    "import plotly.graph_objects as go\n",
    "\n",
    "fig = go.Figure()\n",
    "for data_type in all_species_data:\n",
    "    fig.add_trace(go.Scatter(x=time, y=all_species_data[data_type][0][0].T[0], name=data_type))\n",
    "\n",
    "fig.update_layout(xaxis_title=\"Time (s)\", yaxis_title=\"Concentration\", width=1000, height=800)\n",
    "fig.show()"
   ]
  },
  {
   "cell_type": "code",
   "execution_count": null,
   "id": "adb36614-f0e8-44ac-a36d-9119b48d4bee",
   "metadata": {},
   "outputs": [],
   "source": []
  },
  {
   "cell_type": "code",
   "execution_count": null,
   "id": "e6554026-bb50-4209-a1f7-37565af50529",
   "metadata": {},
   "outputs": [],
   "source": [
    "import matplotlib.pyplot as plt\n",
    "\n",
    "plt.figure()\n",
    "for data_type in all_species_data:\n",
    "    plt.plot(time, all_species_data[data_type][0][0].T[0], label=data_type)\n",
    "plt.xlabel(\"Time (s)\")\n",
    "plt.ylabel(\"Concentration\")\n",
    "plt.legend()\n",
    "plt.show()"
   ]
  },
  {
   "cell_type": "code",
   "execution_count": null,
   "id": "3febf45e-b1a0-45ce-b791-266ed03ed741",
   "metadata": {},
   "outputs": [],
   "source": [
    "all_species_data[data_type][0][0].T[0]"
   ]
  },
  {
   "cell_type": "code",
   "execution_count": null,
   "id": "d98d057c-752c-458b-bd52-a726f42dc90a",
   "metadata": {},
   "outputs": [],
   "source": [
    "import matplotlib.pyplot as plt\n",
    "plt.figure()\n",
    "plt.plot(time, data_da, label=\"DA\")\n",
    "plt.xlabel(\"Time (s)\")\n",
    "plt.ylabel(\"Concentration\")\n",
    "plt.legend()\n",
    "plt.show()"
   ]
  },
  {
   "cell_type": "code",
   "execution_count": null,
   "id": "d3bda015-1674-45ae-96f0-69167fd2cc89",
   "metadata": {},
   "outputs": [],
   "source": [
    "import matplotlib.pyplot as plt\n",
    "plt.figure()\n",
    "plt.plot(time, data_pka, label=\"PKAc\")\n",
    "plt.xlabel(\"Time (s)\")\n",
    "plt.ylabel(\"Concentration\")\n",
    "plt.legend()\n",
    "plt.show()"
   ]
  },
  {
   "cell_type": "code",
   "execution_count": null,
   "id": "0e281a93-c7de-45cf-9723-98f3a19bbca0",
   "metadata": {},
   "outputs": [],
   "source": [
    "import matplotlib.pyplot as plt\n",
    "plt.figure()\n",
    "plt.plot(time, data_da_external, label=\"DA from external?\")\n",
    "plt.xlabel(\"Time (s)\")\n",
    "plt.ylabel(\"Concentration\")\n",
    "#plt.legend()\n",
    "plt.title(\"DA from external?\")\n",
    "plt.show()"
   ]
  },
  {
   "cell_type": "code",
   "execution_count": null,
   "id": "20144fff-adf6-4c4b-956d-97deb916d7e6",
   "metadata": {},
   "outputs": [],
   "source": []
  },
  {
   "cell_type": "code",
   "execution_count": null,
   "id": "d31a7d49-55b1-479c-942a-17cbd87fa412",
   "metadata": {},
   "outputs": [],
   "source": [
    "from snudda.plotting import SnuddaPlotSpikeRaster2\n",
    "fig_file_raster = f\"spike-raster.png\"\n",
    "\n",
    "time_range_zoom = (0,0.1)\n",
    "spr = SnuddaPlotSpikeRaster2(network_path=network_path)\n",
    "\n",
    "spr.plot_spike_raster(fig_file=fig_file_raster, time_range=time_range_zoom)"
   ]
  },
  {
   "cell_type": "code",
   "execution_count": null,
   "id": "fc082055-9e38-4ed1-b842-40e166548071",
   "metadata": {},
   "outputs": [],
   "source": [
    "%matplotlib inline\n",
    "\n",
    "sim_file = os.path.join(network_path, \"simulation\", \"output.hdf5\")\n",
    "\n",
    "from snudda.plotting.plot_traces import PlotTraces\n",
    "pt = PlotTraces(output_file=sim_file)\n",
    "# Use trace_id to specify which traces\n",
    "ax = pt.plot_traces(offset=0, time_range=(0,0.5),fig_size=(10,4))"
   ]
  },
  {
   "cell_type": "markdown",
   "id": "e3532a44-6084-4701-a8a3-28df6e106524",
   "metadata": {},
   "source": [
    "## TODO!! Also add ability to have external synapses affect RxD concentrations"
   ]
  },
  {
   "cell_type": "code",
   "execution_count": null,
   "id": "97789ccd-8c45-47e8-aeec-3b752b4c9942",
   "metadata": {},
   "outputs": [],
   "source": [
    "sim.neurons[0].icell.soma[0](0.5).naf_ms.gbar"
   ]
  },
  {
   "cell_type": "code",
   "execution_count": null,
   "id": "7b2a5b48-6450-475e-b842-478e75d2cf32",
   "metadata": {},
   "outputs": [],
   "source": [
    "sim.neurons[0].icell.soma[0](0.5).pas.g"
   ]
  },
  {
   "cell_type": "code",
   "execution_count": null,
   "id": "191cf2cb-a61f-4b9e-89a9-4fe963f0343b",
   "metadata": {},
   "outputs": [],
   "source": []
  }
 ],
 "metadata": {
  "kernelspec": {
   "display_name": "Python 3 (ipykernel)",
   "language": "python",
   "name": "python3"
  },
  "language_info": {
   "codemirror_mode": {
    "name": "ipython",
    "version": 3
   },
   "file_extension": ".py",
   "mimetype": "text/x-python",
   "name": "python",
   "nbconvert_exporter": "python",
   "pygments_lexer": "ipython3",
   "version": "3.9.2"
  }
 },
 "nbformat": 4,
 "nbformat_minor": 5
}
