{
 "cells": [
  {
   "cell_type": "markdown",
   "id": "138f1fa5-37b6-4563-a588-309e5b21b9d5",
   "metadata": {},
   "source": [
    "# Neuromodulation example\n",
    "\n",
    "This neuromodulation creates a small network of neurons. We also use the reaction diffusion model by Anu G Nair 2015.\n",
    "\n",
    "To generate the ```reaction_diffusion.json``` file in ```data/str-dspn-e150602_c1_D1-mWT-0728MSN01-v20211026/``` from the xml file we run ```data/convert_sbml_to_json.sh```\n",
    "\n",
    "To get the RxD functionality of the ```DA_syn``` we must specify the \"RxD\" block in the connectivity block of the network configuration. See ```data/connectivity.json```\n",
    "\n",
    "```\n",
    "    \"channel_parameters\":\n",
    "\t\t\"RxD\": {\n",
    "\t\t    \"species_name\": \"DA\",\n",
    "\t\t    \"flux_variable\": \"open\",\n",
    "\t\t    \"region\": \"internal\",\n",
    "            \"weight_scaling\": 1e9,\n",
    "\t\t},\n",
    "\n",
    "     ...\n",
    "     }\n",
    "```"
   ]
  },
  {
   "cell_type": "markdown",
   "id": "8f73162b-5ed5-40bc-a557-b73994a94bbd",
   "metadata": {},
   "source": [
    "## TODO: Ska vi ha jämn placering av alla DA synapser för att få en jämnare fördelning av DA?\n",
    "\n",
    "## TODO: Hur ska vi göra modulering av dopamine"
   ]
  },
  {
   "cell_type": "markdown",
   "id": "1746feed-04de-4020-a2cb-f884e8e9698a",
   "metadata": {},
   "source": [
    "## Network setup\n",
    "\n",
    "We have two neurons. The first neuron (Neuron 0) receives external input (cortical from t=0s and DA from t=0.1s). The cortical input will activate the first neuron, and through activation of synapses on the second neuron, we will see the dopamine level increase in the second neuron (Neuron 1).\n",
    "\n",
    "The first neuron also receives direct DA activation from external input (starting at 100ms)."
   ]
  },
  {
   "cell_type": "code",
   "execution_count": 1,
   "id": "5b55f23d-62ac-4433-8639-07870af8c40a",
   "metadata": {},
   "outputs": [
    {
     "name": "stdout",
     "output_type": "stream",
     "text": [
      "Jupyter environment detected. Enabling Open3D WebVisualizer.\n",
      "[Open3D INFO] WebRTC GUI backend enabled.\n",
      "[Open3D INFO] WebRTCWindowSystem: HTTP handshake server disabled.\n",
      "Reading connectivity from data/connectivity.json\n",
      "Adding neurons: dspn from dir data/dspn\n",
      "Writing networks/neuromodulation_example_anu_with_real_dspn/network-config.json\n",
      "Writing networks/neuromodulation_example_anu_with_real_dspn/network-config.json\n",
      "Placing neurons\n",
      "Network path: networks/neuromodulation_example_anu_with_real_dspn\n",
      "Reading SNUDDA_DATA=None from networks/neuromodulation_example_anu_with_real_dspn/network-config.json\n",
      "Reading SNUDDA_DATA=/home/hjorth/HBP/Snudda/snudda/utils/../data from networks/neuromodulation_example_anu_with_real_dspn/network-synapses.hdf5\n",
      "No n_putative_points and putative_density, setting n_putative_points = 63\n",
      "(this must be larger than the number of neurons you want to place)\n",
      "Generating 63 points for networks/neuromodulation_example_anu_with_real_dspn/mesh/Cube-cube-mesh-2.917951293943981e-05.obj\n",
      "Filtering, keeping inside points: 4 / 26\n",
      "neuron_name = 'dspn_0', num = 2, neuron_path = 'data/dspn/str-dspn-e150602_c1_D1-mWT-0728MSN01-v20211026'\n",
      "stop_parallel disabled, to keep pool running.\n",
      "\n",
      "Execution time: 0.0s\n",
      "Touch detection\n",
      "Network path: networks/neuromodulation_example_anu_with_real_dspn\n",
      "Reading SNUDDA_DATA=None from networks/neuromodulation_example_anu_with_real_dspn/network-config.json\n",
      "Reading SNUDDA_DATA=/home/hjorth/HBP/Snudda/snudda/utils/../data from networks/neuromodulation_example_anu_with_real_dspn/network-synapses.hdf5\n",
      "No d_view specified, running distribute neurons in serial\n",
      "Processing hyper voxel : 0/27 (2 neurons)\n",
      "Processing hyper voxel : 1/27 (2 neurons)\n",
      "Processing hyper voxel : 3/27 (2 neurons)\n",
      "Processing hyper voxel : 4/27 (2 neurons)\n",
      "Processing hyper voxel : 9/27 (2 neurons)\n",
      "Processing hyper voxel : 10/27 (2 neurons)\n",
      "Processing hyper voxel : 12/27 (2 neurons)\n",
      "Processing hyper voxel : 13/27 (2 neurons)\n",
      "Reading SNUDDA_DATA=None from networks/neuromodulation_example_anu_with_real_dspn/network-config.json\n",
      "stop_parallel disabled, to keep pool running.\n",
      "\n",
      "Execution time: 0.9s\n",
      "Prune synapses\n",
      "Network path: networks/neuromodulation_example_anu_with_real_dspn\n",
      "No file networks/neuromodulation_example_anu_with_real_dspn/pruning_merge_info.json\n",
      "Read 120 out of total 120 synapses\n",
      "stop_parallel disabled, to keep pool running.\n",
      "\n",
      "Execution time: 1.0s\n"
     ]
    }
   ],
   "source": [
    "import os\n",
    "from snudda import Snudda\n",
    "\n",
    "neuron_path = os.path.join(\"data\", \"dspn\")\n",
    "network_path = os.path.join(\"networks\", \"neuromodulation_example_anu_with_real_dspn\")\n",
    "connectivity_path = os.path.join(\"data\", \"connectivity.json\")\n",
    "\n",
    "snudda = Snudda(network_path=network_path)\n",
    "si = snudda.init_tiny(neuron_paths=neuron_path, neuron_names=\"dspn\", number_of_neurons=[2], \n",
    "                      connection_config=connectivity_path, random_seed=12345)\n",
    "\n",
    "# si.network_data[\"regions\"][\"Cube\"][\"neurons\"][\"dspn\"][\"reaction_diffusion\"] = \"reaction_diffusion.json\"\n",
    "si.network_data[\"regions\"][\"Cube\"][\"neurons\"][\"dspn\"][\"reaction_diffusion\"] = \"data/JSON/reaction_diffusion_D1.json\"\n",
    "\n",
    "si.network_data[\"regions\"][\"Cube\"][\"neurons\"][\"dspn\"][\"modulation\"] = \"test-modulation.json\"\n",
    "si.network_data[\"regions\"][\"Cube\"][\"neurons\"][\"dspn\"][\"modulation_key\"] = \"abc\"\n",
    "\n",
    "\n",
    "si.write_json()\n",
    "\n",
    "snudda.create_network()"
   ]
  },
  {
   "cell_type": "code",
   "execution_count": 2,
   "id": "41e96e4a-0f52-4d77-8a1f-ba8d270b9b78",
   "metadata": {},
   "outputs": [
    {
     "name": "stdout",
     "output_type": "stream",
     "text": [
      "Setting up inputs, assuming input.json exists\n",
      "Reading SNUDDA_DATA=None from networks/neuromodulation_example_anu_with_real_dspn/network-config.json\n",
      "Reading SNUDDA_DATA=/home/hjorth/HBP/Snudda/snudda/utils/../data from networks/neuromodulation_example_anu_with_real_dspn/network-synapses.hdf5\n",
      "Missing input config file: data/input_v3.json\n"
     ]
    }
   ],
   "source": [
    "#input_config = os.path.join(\"data\", \"input_v2.json\")\n",
    "input_config = os.path.join(\"data\", \"input_v3.json\")\n",
    "snudda.setup_input(input_config=input_config)"
   ]
  },
  {
   "cell_type": "code",
   "execution_count": null,
   "id": "d019b580-4193-4321-9ee8-9bdd3988209f",
   "metadata": {},
   "outputs": [
    {
     "name": "stdout",
     "output_type": "stream",
     "text": [
      "MPI Rank: 0, Size: 1\n",
      "Using input file None\n",
      "NEURON mechanisms already compiled, make sure you have the correct version of NEURON modules.\n",
      "If you delete x86_64, aarch64, arm64 directories (or nrnmech.dll) then you will force a recompilation of the modules.\n",
      "Reading SNUDDA_DATA=None from networks/neuromodulation_example_anu_with_real_dspn/network-config.json\n",
      "Reading SNUDDA_DATA=/home/hjorth/HBP/Snudda/snudda/utils/../data from networks/neuromodulation_example_anu_with_real_dspn/network-synapses.hdf5\n",
      "Warning: No external synaptic input file given!\n",
      "MPI Rank: 0, Size: 1 -- NEUON: This is node 0 out of 1\n",
      "Using network_file: networks/neuromodulation_example_anu_with_real_dspn/network-synapses.hdf5\n",
      "Using input_file: None\n",
      "Using output_file: networks/neuromodulation_example_anu_with_real_dspn/simulation/output.hdf5\n",
      "Using logFile: networks/neuromodulation_example_anu_with_real_dspn/log/network-simulation-log.txt-0\n",
      "Worker 0 : Loading network from networks/neuromodulation_example_anu_with_real_dspn/network-synapses.hdf5\n",
      "Loading config file networks/neuromodulation_example_anu_with_real_dspn/network-config.json\n",
      "0 : Memory status: 86% free\n",
      "Distributing neurons.\n",
      "Setup neurons\n",
      "numprocs=1\n",
      "Node 0 - cell 0 dspn_0\n"
     ]
    },
    {
     "name": "stderr",
     "output_type": "stream",
     "text": [
      "[terpsichore][[17197,1],0][../../../../../../opal/mca/btl/tcp/btl_tcp.c:559:mca_btl_tcp_recv_blocking] recv(87) failed: Connection reset by peer (104)\n",
      "[terpsichore][[17197,1],0][../../../../../../opal/mca/btl/tcp/btl_tcp.c:559:mca_btl_tcp_recv_blocking] recv(85) failed: Connection reset by peer (104)\n",
      "[terpsichore][[17197,1],0][../../../../../../opal/mca/btl/tcp/btl_tcp.c:559:mca_btl_tcp_recv_blocking] recv(86) failed: Connection reset by peer (104)\n",
      "[terpsichore][[17197,1],0][../../../../../../opal/mca/btl/tcp/btl_tcp.c:559:mca_btl_tcp_recv_blocking] recv(88) failed: Connection reset by peer (104)\n"
     ]
    },
    {
     "name": "stdout",
     "output_type": "stream",
     "text": [
      "Kan vi få en _ref?\n",
      "> \u001b[0;32m/home/hjorth/HBP/Snudda/snudda/neurons/neuron_modulation.py\u001b[0m(64)\u001b[0;36madd_species\u001b[0;34m()\u001b[0m\n",
      "\u001b[0;32m     62 \u001b[0;31m            \u001b[0mself\u001b[0m\u001b[0;34m.\u001b[0m\u001b[0mspecies\u001b[0m\u001b[0;34m[\u001b[0m\u001b[0mspecies_name\u001b[0m\u001b[0;34m]\u001b[0m \u001b[0;34m=\u001b[0m \u001b[0mdict\u001b[0m\u001b[0;34m(\u001b[0m\u001b[0;34m)\u001b[0m\u001b[0;34m\u001b[0m\u001b[0;34m\u001b[0m\u001b[0m\n",
      "\u001b[0m\u001b[0;32m     63 \u001b[0;31m\u001b[0;34m\u001b[0m\u001b[0m\n",
      "\u001b[0m\u001b[0;32m---> 64 \u001b[0;31m        \u001b[0;32mfor\u001b[0m \u001b[0mcomp\u001b[0m \u001b[0;32min\u001b[0m \u001b[0mcompartment\u001b[0m\u001b[0;34m:\u001b[0m\u001b[0;34m\u001b[0m\u001b[0;34m\u001b[0m\u001b[0m\n",
      "\u001b[0m\u001b[0;32m     65 \u001b[0;31m            \u001b[0;32mif\u001b[0m \u001b[0mcomp\u001b[0m \u001b[0;32mnot\u001b[0m \u001b[0;32min\u001b[0m \u001b[0mself\u001b[0m\u001b[0;34m.\u001b[0m\u001b[0mcompartments\u001b[0m\u001b[0;34m:\u001b[0m\u001b[0;34m\u001b[0m\u001b[0;34m\u001b[0m\u001b[0m\n",
      "\u001b[0m\u001b[0;32m     66 \u001b[0;31m                \u001b[0mself\u001b[0m\u001b[0;34m.\u001b[0m\u001b[0mcompartments\u001b[0m\u001b[0;34m[\u001b[0m\u001b[0mcomp\u001b[0m\u001b[0;34m]\u001b[0m \u001b[0;34m=\u001b[0m \u001b[0mself\u001b[0m\u001b[0;34m.\u001b[0m\u001b[0mbuild\u001b[0m\u001b[0;34m[\u001b[0m\u001b[0mcomp\u001b[0m\u001b[0;34m]\u001b[0m\u001b[0;34m(\u001b[0m\u001b[0mself\u001b[0m\u001b[0;34m.\u001b[0m\u001b[0mneuron\u001b[0m\u001b[0;34m)\u001b[0m\u001b[0;34m\u001b[0m\u001b[0;34m\u001b[0m\u001b[0m\n",
      "\u001b[0m\n"
     ]
    },
    {
     "name": "stdin",
     "output_type": "stream",
     "text": [
      "ipdb>  self.node_cache[\"AMP\"]\n"
     ]
    },
    {
     "name": "stdout",
     "output_type": "stream",
     "text": [
      "*** TypeError: 'NoneType' object is not subscriptable\n"
     ]
    },
    {
     "name": "stdin",
     "output_type": "stream",
     "text": [
      "ipdb>  self.build_node_cache()\n"
     ]
    },
    {
     "name": "stdout",
     "output_type": "stream",
     "text": [
      "Build node cache dspn_0 (dspn_0[0])\n",
      "Forcing rxd update...\n"
     ]
    },
    {
     "name": "stderr",
     "output_type": "stream",
     "text": [
      "[terpsichore][[17197,1],0][../../../../../../opal/mca/btl/tcp/btl_tcp.c:559:mca_btl_tcp_recv_blocking] recv(105) failed: Connection reset by peer (104)\n",
      "[terpsichore][[17197,1],0][../../../../../../opal/mca/btl/tcp/btl_tcp.c:559:mca_btl_tcp_recv_blocking] recv(83) failed: Connection reset by peer (104)\n",
      "[terpsichore][[17197,1],0][../../../../../../opal/mca/btl/tcp/btl_tcp.c:559:mca_btl_tcp_recv_blocking] recv(85) failed: Connection reset by peer (104)\n",
      "[terpsichore][[17197,1],0][../../../../../../opal/mca/btl/tcp/btl_tcp.c:559:mca_btl_tcp_recv_blocking] recv(89) failed: Connection reset by peer (104)\n",
      "[terpsichore][[17197,1],0][../../../../../../opal/mca/btl/tcp/btl_tcp.c:559:mca_btl_tcp_recv_blocking] recv(93) failed: Connection reset by peer (104)\n",
      "[terpsichore][[17197,1],0][../../../../../../opal/mca/btl/tcp/btl_tcp.c:559:mca_btl_tcp_recv_blocking] recv(96) failed: Connection reset by peer (104)\n",
      "[terpsichore][[17197,1],0][../../../../../../opal/mca/btl/tcp/btl_tcp.c:559:mca_btl_tcp_recv_blocking] recv(99) failed: Connection reset by peer (104)\n",
      "[terpsichore][[17197,1],0][../../../../../../opal/mca/btl/tcp/btl_tcp.c:559:mca_btl_tcp_recv_blocking] recv(101) failed: Connection reset by peer (104)\n",
      "[terpsichore][[17197,1],0][../../../../../../opal/mca/btl/tcp/btl_tcp.c:559:mca_btl_tcp_recv_blocking] recv(104) failed: Connection reset by peer (104)\n"
     ]
    },
    {
     "name": "stdout",
     "output_type": "stream",
     "text": [
      "Updating node data... (takes ≈ 1 microcentury)\n",
      "RxD update completed.\n",
      "Node cache built.\n"
     ]
    },
    {
     "name": "stdin",
     "output_type": "stream",
     "text": [
      "ipdb>  self.node_cache[\"AMP\"]\n"
     ]
    },
    {
     "name": "stdout",
     "output_type": "stream",
     "text": [
      "{'soma_internal': {dspn_0[0].soma[0]: ([<neuron.rxd.node.Node1D object at 0x7f62104ebb50>], array([0.5]))}}\n"
     ]
    },
    {
     "name": "stdin",
     "output_type": "stream",
     "text": [
      "ipdb>  self.node_cache[\"AMP\"][\"soma_internal\"]\n"
     ]
    },
    {
     "name": "stdout",
     "output_type": "stream",
     "text": [
      "{dspn_0[0].soma[0]: ([<neuron.rxd.node.Node1D object at 0x7f62104ebb50>], array([0.5]))}\n"
     ]
    },
    {
     "name": "stdin",
     "output_type": "stream",
     "text": [
      "ipdb>  type(self.node_cache[\"AMP\"][\"soma_internal\"])\n"
     ]
    },
    {
     "name": "stdout",
     "output_type": "stream",
     "text": [
      "<class 'dict'>\n"
     ]
    },
    {
     "name": "stdin",
     "output_type": "stream",
     "text": [
      "ipdb>  self.node_cache[\"AMP\"][\"soma_internal\"].keys()\n"
     ]
    },
    {
     "name": "stdout",
     "output_type": "stream",
     "text": [
      "dict_keys([dspn_0[0].soma[0]])\n"
     ]
    },
    {
     "name": "stdin",
     "output_type": "stream",
     "text": [
      "ipdb>  self.node_cache[\"AMP\"][\"soma_internal\"].values()\n"
     ]
    },
    {
     "name": "stdout",
     "output_type": "stream",
     "text": [
      "dict_values([([<neuron.rxd.node.Node1D object at 0x7f62104ebb50>], array([0.5]))])\n"
     ]
    },
    {
     "name": "stdin",
     "output_type": "stream",
     "text": [
      "ipdb>  xx = list(self.node_cache[\"AMP\"][\"soma_internal\"].keys())[0]\n",
      "ipdb>  self.node_cache[\"AMP\"][\"soma_internal\"][xx]\n"
     ]
    },
    {
     "name": "stdout",
     "output_type": "stream",
     "text": [
      "([<neuron.rxd.node.Node1D object at 0x7f62104ebb50>], array([0.5]))\n"
     ]
    },
    {
     "name": "stdin",
     "output_type": "stream",
     "text": [
      "ipdb>  self.node_cache[\"AMP\"][\"soma_internal\"][xx][0]\n"
     ]
    },
    {
     "name": "stdout",
     "output_type": "stream",
     "text": [
      "[<neuron.rxd.node.Node1D object at 0x7f62104ebb50>]\n"
     ]
    },
    {
     "name": "stdin",
     "output_type": "stream",
     "text": [
      "ipdb>  self.node_cache[\"AMP\"][\"soma_internal\"][xx][0][0]\n"
     ]
    },
    {
     "name": "stdout",
     "output_type": "stream",
     "text": [
      "<neuron.rxd.node.Node1D object at 0x7f62104ebb50>\n"
     ]
    },
    {
     "name": "stdin",
     "output_type": "stream",
     "text": [
      "ipdb>  vars(self.node_cache[\"AMP\"][\"soma_internal\"][xx][0][0])\n"
     ]
    },
    {
     "name": "stdout",
     "output_type": "stream",
     "text": [
      "{'_sec': <neuron.rxd.section1d.Section1D object at 0x7f62dc28a2d0>, '_location': 0.5, '_index': 5473, '_loc3d': None, '_data_type': 0}\n"
     ]
    },
    {
     "name": "stdin",
     "output_type": "stream",
     "text": [
      "ipdb>  self.node_cache[\"AMP\"][\"soma_internal\"][xx][0][0]._sec\n"
     ]
    },
    {
     "name": "stdout",
     "output_type": "stream",
     "text": [
      "<neuron.rxd.section1d.Section1D object at 0x7f62dc28a2d0>\n"
     ]
    },
    {
     "name": "stdin",
     "output_type": "stream",
     "text": [
      "ipdb>  vars(self.node_cache[\"AMP\"][\"soma_internal\"][xx][0][0]._sec)\n"
     ]
    },
    {
     "name": "stdout",
     "output_type": "stream",
     "text": [
      "{'_species': <weakref at 0x7f6210736160; to 'Parameter' at 0x7f621071dc10>, '_diff': 0, '_secref': SectionList[1298], '_concentration_ptrs': [<pointer to hoc scalar 0>], '_offset': 5473, '_nseg': 1, '_region': Region(..., nrn_region='i', geometry=<neuron.rxd.geometry.RxDGeometry object at 0x7f6270963810>, dx=0.25, name=None), '_rxd_sec_lookup': <neuron.rxd.section1d._SectionLookup object at 0x7f62108c1150>, '_parent': (<weakref at 0x7f6210736160; to 'Parameter' at 0x7f621071dc10>, 0), '_num_roots': 1, '_neighbor_areas': array([132.3241874, 132.3241874])}\n"
     ]
    },
    {
     "name": "stdin",
     "output_type": "stream",
     "text": [
      "ipdb>  self.node_cache[\"AMP\"][\"soma_internal\"][xx][0][0]._sec._concentration_ptrs\n"
     ]
    },
    {
     "name": "stdout",
     "output_type": "stream",
     "text": [
      "[<pointer to hoc scalar 0>]\n"
     ]
    },
    {
     "name": "stdin",
     "output_type": "stream",
     "text": [
      "ipdb>  self.node_cache[\"AMP\"][\"soma_internal\"][xx][0][0]._sec._concentration_ptrs[0]\n"
     ]
    },
    {
     "name": "stdout",
     "output_type": "stream",
     "text": [
      "<pointer to hoc scalar 0>\n"
     ]
    },
    {
     "name": "stdin",
     "output_type": "stream",
     "text": [
      "ipdb>  vars(self.node_cache[\"AMP\"][\"soma_internal\"][xx][0][0]._sec._concentration_ptrs[0])\n"
     ]
    },
    {
     "name": "stdout",
     "output_type": "stream",
     "text": [
      "{'proc': None, 'func': None, 'obfunc': None, 'return': None, 'break': None, 'continue': None, 'stop': None, 'if': None, 'else': None, 'while': None, 'for': None, 'print': None, 'delete': None, 'read': None, 'debug': None, 'double': None, 'depvar': None, 'eqn': None, 'local': None, 'localobj': None, 'strdef': None, 'parallel': None, 'help': None, 'iterator': None, 'iterator_statement': None, 'create': None, 'connect': None, 'setpointer': 'Assign hoc variable address to NMODL POINTER', 'access': None, 'insert': None, 'uninsert': None, 'forall': None, 'ifsec': None, 'forsec': None, 'begintemplate': None, 'endtemplate': None, 'objectvar': None, 'objref': None, 'public': None, 'external': None, 'new': None, 'PI': None, 'E': None, 'GAMMA': None, 'DEG': None, 'PHI': None, 'FARADAY': None, 'R': None, 'Avogadro_constant': None, 'sin': None, 'cos': None, 'atan': None, 'tanh': None, 'log': None, 'log10': None, 'exp': None, 'sqrt': None, 'int': None, 'abs': None, 'erf': None, 'erfc': None, 'atan2': None, 'system': None, 'prmat': None, 'solve': None, 'eqinit': None, 'plt': None, 'axis': None, 'plot': None, 'plotx': None, 'ploty': None, 'regraph': None, 'symbols': None, 'printf': None, 'xred': None, 'sred': None, 'ropen': None, 'wopen': None, 'xopen': None, 'hoc_stdout': None, 'chdir': None, 'fprint': None, 'fscan': None, 'sscanf': None, 'sprint': None, 'graph': None, 'graphmode': None, 'fmenu': None, 'lw': None, 'getstr': None, 'strcmp': None, 'setcolor': None, 'startsw': None, 'stopsw': None, 'object_id': None, 'allobjectvars': None, 'allobjects': None, 'xpanel': None, 'xbutton': None, 'xcheckbox': None, 'xstatebutton': None, 'xlabel': None, 'xmenu': None, 'xvalue': None, 'xpvalue': None, 'xradiobutton': None, 'xfixedvalue': None, 'xvarlabel': None, 'xslider': None, 'boolean_dialog': None, 'continue_dialog': None, 'string_dialog': None, 'doEvents': None, 'doNotify': None, 'nrniv_bind_thread': None, 'ivoc_style': None, 'numarg': None, 'argtype': None, 'hoc_pointer_': None, 'nrn_mallinfo': None, 'execute': None, 'execute1': None, 'load_proc': None, 'load_func': None, 'load_template': None, 'load_file': None, 'unix_mac_pc': None, 'show_winio': None, 'nrn_load_dll': None, 'machine_name': None, 'saveaudit': None, 'retrieveaudit': None, 'coredump_on_error': None, 'checkpoint': None, 'quit': None, 'object_push': None, 'object_pop': None, 'pwman_place': None, 'save_session': None, 'print_session': None, 'show_errmess_always': None, 'execerror': None, 'variable_domain': None, 'name_declared': None, 'use_mcell_ran4': None, 'mcell_ran4': None, 'mcell_ran4_init': None, 'nrn_feenableexcept': None, 'nrnmpi_init': None, 'secname': None, 'units': None, 'neuronhome': None, 'getcwd': None, 'nrnversion': None, 'object_pushed': None, 'hoc_ac_': None, 'float_epsilon': None, 'hoc_cross_x_': None, 'hoc_cross_y_': None, 'default_dll_loaded_': None, 'xopen_broadcast_': None, 'clamp_resist': None, 'celsius': None, 'node_data': None, 'disconnect': None, 'batch_run': None, 'batch_save': None, 'pt3dadd': None, 'n3d': None, 'x3d': None, 'y3d': None, 'z3d': None, 'arc3d': None, 'diam3d': None, 'pt3dclear': None, 'pt3dinsert': None, 'pt3dremove': None, 'pt3dchange': None, 'define_shape': None, 'pt3dconst': None, 'pt3dstyle': None, 'spine3d': None, 'setSpineArea': None, 'getSpineArea': None, 'area': None, 'ri': None, 'distance': None, 'initnrn': None, 'topology': None, 'fadvance': None, 'finitialize': None, 'fstim': None, 'fstimi': None, 'ion_style': None, 'ion_register': None, 'ion_charge': None, 'nernst': None, 'ghk': None, 'section_owner': None, 'make_mechanism': None, 'make_pointprocess': None, 'nrnpython': None, 'nrnunit_use_legacy': None, 'fsyn': None, 'fsyng': None, 'fsyni': None, 'fclamp': None, 'fclampi': None, 'fclampv': None, 'prstim': None, 'fcurrent': None, 'fmatrix': None, 'frecord_init': None, 'issection': None, 'ismembrane': None, 'sectionname': None, 'psection': None, 'pop_section': None, 'push_section': None, 'section_exists': None, 'delete_section': None, 'fit_praxis': None, 'attr_praxis': None, 'pval_praxis': None, 'stop_praxis': None, 'keep_nseg_parm': None, 'nlayer_extracellular': None, 'nrnallsectionmenu': None, 'nrnallpointmenu': None, 'nrnsecmenu': None, 'nrnglobalmechmenu': None, 'nrnmechmenu': None, 'nrnpointmenu': None, 'this_section': None, 'this_node': None, 'parent_section': None, 'parent_node': None, 'parent_connection': None, 'section_orientation': None, 'secondorder': None, 'diam_changed': None, 'nrn_shape_changed_': None, 'nrn_netrec_state_adjust': None, 'nrn_sparse_partrans': None, 'stoprun': None, 't': None, 'dt': None, 'v': None, 'i_membrane_': None, 'nseg': None, 'L': None, 'rallbranch': None, 'Ra': None, 'SectionList': None, 'SectionRef': None, 'morphology': None, 'diam': None, 'capacitance': None, 'cm': None, 'i_cap': None, 'pas': None, 'g_pas': None, 'e_pas': None, 'i_pas': None, 'setdata_pas': None, 'extracellular': None, 'xraxial': None, 'xg': None, 'xc': None, 'e_extracellular': None, 'i_membrane': None, 'vext': None, 'fastpas': None, 'g_fastpas': None, 'e_fastpas': None, 'IClamp': None, 'AlphaSynapse': None, 'ExpSyn': None, 'Exp2Syn': None, 'SEClamp': None, 'VClamp': None, 'OClamp': None, 'APCount': None, 'na_ion': None, 'ena': None, 'nai': None, 'nao': None, 'ina': None, 'dina_dv_': None, 'nai0_na_ion': None, 'nao0_na_ion': None, 'k_ion': None, 'ek': None, 'ki': None, 'ko': None, 'ik': None, 'dik_dv_': None, 'ki0_k_ion': None, 'ko0_k_ion': None, 'hh': None, 'gnabar_hh': None, 'gkbar_hh': None, 'gl_hh': None, 'el_hh': None, 'gna_hh': None, 'gk_hh': None, 'il_hh': None, 'minf_hh': None, 'hinf_hh': None, 'ninf_hh': None, 'mtau_hh': None, 'htau_hh': None, 'ntau_hh': None, 'm_hh': None, 'h_hh': None, 'n_hh': None, 'setdata_hh': None, 'rates_hh': None, 'vtrap_hh': None, 'setdata_feature': None, 'install_vector_fitness': None, 'NetStim': None, 'IntFire1': None, 'IntFire2': None, 'IntFire4': None, 'ib_IntFire4': None, 'eps_IntFire4': None, 'taueps_IntFire4': None, 'PointProcessMark': None, 'PatternStim': None, 'ca_ion': None, 'eca': None, 'cai': None, 'cao': None, 'ica': None, 'dica_dv_': None, 'cai0_ca_ion': None, 'cao0_ca_ion': None, 'bk_ch': None, 'gbar_bk_ch': None, 'g_bk_ch': None, 'ik_bk_ch': None, 'm_bk_ch': None, 'z_bk_ch': None, 'h_bk_ch': None, 'm_vh_bk_ch': None, 'm_k_bk_ch': None, 'mtau_y0_bk_ch': None, 'mtau_vh1_bk_ch': None, 'mtau_k1_bk_ch': None, 'mtau_vh2_bk_ch': None, 'mtau_k2_bk_ch': None, 'z_coef_bk_ch': None, 'ztau_bk_ch': None, 'h_y0_bk_ch': None, 'h_vh_bk_ch': None, 'h_k_bk_ch': None, 'htau_y0_bk_ch': None, 'htau_vh1_bk_ch': None, 'htau_k1_bk_ch': None, 'htau_vh2_bk_ch': None, 'htau_k2_bk_ch': None, 'minf_bk_ch': None, 'mtau_bk_ch': None, 'hinf_bk_ch': None, 'htau_bk_ch': None, 'zinf_bk_ch': None, 'setdata_bk_ch': None, 'rates_bk_ch': None, 'bk_fs': None, 'gbar_bk_fs': None, 'ik_bk_fs': None, 'o_bk_fs': None, 'k1_bk_fs': None, 'k4_bk_fs': None, 'd1_bk_fs': None, 'd4_bk_fs': None, 'q_bk_fs': None, 'setdata_bk_fs': None, 'rate_bk_fs': None, 'bk_ms': None, 'gbar_bk_ms': None, 'ik_bk_ms': None, 'o_bk_ms': None, 'k1_bk_ms': None, 'k4_bk_ms': None, 'd1_bk_ms': None, 'd4_bk_ms': None, 'q_bk_ms': None, 'setdata_bk_ms': None, 'rate_bk_ms': None, 'ca_ch': None, 'test_ca_ch': None, 'ipump_ca_ch': None, 'last_ipump_ca_ch': None, 'ca_ca_ch': None, 'CaBuffer_ca_ch': None, 'Buffer_ca_ch': None, 'pump_ca_ch': None, 'pumpca_ca_ch': None, 'DFree_ca_ch': None, 'k1buf_ca_ch': None, 'k2buf_ca_ch': None, 'k1_ca_ch': None, 'k2_ca_ch': None, 'k3_ca_ch': None, 'k4_ca_ch': None, 'totpump_ca_ch': None, 'totbuf_ca_ch': None, 'Buffer0_ca_ch': None, 'vol_ca_ch': None, 'setdata_ca_ch': None, 'coord_ca_ch': None, 'cadyn_fs': None, 'drive_cadyn_fs': None, 'cainf_cadyn_fs': None, 'taur_cadyn_fs': None, 'pump_cadyn_fs': None, 'depth_cadyn_fs': None, 'kt_cadyn_fs': None, 'kd_cadyn_fs': None, 'setdata_cadyn_fs': None, 'cadyn_ms': None, 'drive_cadyn_ms': None, 'depth_cadyn_ms': None, 'cainf_cadyn_ms': None, 'taur_cadyn_ms': None, 'pump_cadyn_ms': None, 'kt_cadyn_ms': None, 'kd_cadyn_ms': None, 'setdata_cadyn_ms': None, 'cal_ion': None, 'ecal': None, 'cali': None, 'calo': None, 'ical': None, 'dical_dv_': None, 'cali0_cal_ion': None, 'calo0_cal_ion': None, 'PKA_ion': None, 'ePKA': None, 'PKAi': None, 'PKAo': None, 'iPKA': None, 'diPKA_dv_': None, 'PKAi0_PKA_ion': None, 'PKAo0_PKA_ion': None, 'cal12_ms': None, 'pbar_cal12_ms': None, 'mod_pka_g_min_cal12_ms': None, 'mod_pka_g_max_cal12_ms': None, 'mod_pka_g_half_cal12_ms': None, 'mod_pka_g_slope_cal12_ms': None, 'ical_cal12_ms': None, 'modulation_factor_cal12_ms': None, 'm_cal12_ms': None, 'h_cal12_ms': None, 'a_cal12_ms': None, 'q_cal12_ms': None, 'setdata_cal12_ms': None, 'efun_cal12_ms': None, 'ghk_cal12_ms': None, 'modulation_cal12_ms': None, 'rates_cal12_ms': None, 'cal13_ms': None, 'pbar_cal13_ms': None, 'mod_pka_g_min_cal13_ms': None, 'mod_pka_g_max_cal13_ms': None, 'mod_pka_g_half_cal13_ms': None, 'mod_pka_g_slope_cal13_ms': None, 'ical_cal13_ms': None, 'modulation_factor_cal13_ms': None, 'm_cal13_ms': None, 'h_cal13_ms': None, 'q_cal13_ms': None, 'setdata_cal13_ms': None, 'efun_cal13_ms': None, 'ghk_cal13_ms': None, 'modulation_cal13_ms': None, 'rates_cal13_ms': None, 'cal_ch': None, 'gbar_cal_ch': None, 'vhm_cal_ch': None, 'vcm_cal_ch': None, 'Ctm_cal_ch': None, 'atm_cal_ch': None, 'btm_cal_ch': None, 'tm0_cal_ch': None, 'vhtm_cal_ch': None, 'mod_pka_g_min_cal_ch': None, 'mod_pka_g_max_cal_ch': None, 'mod_pka_g_half_cal_ch': None, 'mod_pka_g_slope_cal_ch': None, 'ica_cal_ch': None, 'gcal_cal_ch': None, 'minf_cal_ch': None, 'tau_cal_ch': None, 'modulation_factor_cal_ch': None, 'm_cal_ch': None, 'ki_cal_ch': None, 'tfa_cal_ch': None, 'usetable_cal_ch': None, 'setdata_cal_ch': None, 'KTF_cal_ch': None, 'alp_cal_ch': None, 'bet_cal_ch': None, 'efun_cal_ch': None, 'ghk_cal_ch': None, 'h2_cal_ch': None, 'modulation_cal_ch': None, 'rate_cal_ch': None, 'caldyn_ms': None, 'drive_caldyn_ms': None, 'depth_caldyn_ms': None, 'cainf_caldyn_ms': None, 'taur_caldyn_ms': None, 'pump_caldyn_ms': None, 'kt_caldyn_ms': None, 'kd_caldyn_ms': None, 'setdata_caldyn_ms': None, 'can_fs': None, 'pbar_can_fs': None, 'ica_can_fs': None, 'm_can_fs': None, 'h_can_fs': None, 'a_can_fs': None, 'q_can_fs': None, 'setdata_can_fs': None, 'efun_can_fs': None, 'ghk_can_fs': None, 'rates_can_fs': None, 'can_ms': None, 'pbar_can_ms': None, 'mod_pka_g_min_can_ms': None, 'mod_pka_g_max_can_ms': None, 'mod_pka_g_half_can_ms': None, 'mod_pka_g_slope_can_ms': None, 'ica_can_ms': None, 'modulation_factor_can_ms': None, 'm_can_ms': None, 'h_can_ms': None, 'a_can_ms': None, 'q_can_ms': None, 'setdata_can_ms': None, 'efun_can_ms': None, 'ghk_can_ms': None, 'modulation_can_ms': None, 'rates_can_ms': None, 'cap_ch': None, 'gbar_cap_ch': None, 'monovalConc_cap_ch': None, 'monovalPerm_cap_ch': None, 'mod_pka_g_min_cap_ch': None, 'mod_pka_g_max_cap_ch': None, 'mod_pka_g_half_cap_ch': None, 'mod_pka_g_slope_cap_ch': None, 'ica_cap_ch': None, 'minf_cap_ch': None, 'mtau_cap_ch': None, 'g_cap_ch': None, 'modulation_factor_cap_ch': None, 'm_cap_ch': None, 'setdata_cap_ch': None, 'ghk_cap_ch': None, 'mtau_func_cap_ch': None, 'modulation_cap_ch': None, 'rates_cap_ch': None, 'caq_fs': None, 'pbar_caq_fs': None, 'ica_caq_fs': None, 'm_caq_fs': None, 'q_caq_fs': None, 'setdata_caq_fs': None, 'ghk_caq_fs': None, 'rates_caq_fs': None, 'caq_ms': None, 'pbar_caq_ms': None, 'ica_caq_ms': None, 'm_caq_ms': None, 'q_caq_ms': None, 'setdata_caq_ms': None, 'efun_caq_ms': None, 'ghk_caq_ms': None, 'rates_caq_ms': None, 'car_fs': None, 'pbar_car_fs': None, 'ica_car_fs': None, 'm_car_fs': None, 'h_car_fs': None, 'q_car_fs': None, 'setdata_car_fs': None, 'efun_car_fs': None, 'ghk_car_fs': None, 'rates_car_fs': None, 'car_ms': None, 'pbar_car_ms': None, 'mod_pka_g_min_car_ms': None, 'mod_pka_g_max_car_ms': None, 'mod_pka_g_half_car_ms': None, 'mod_pka_g_slope_car_ms': None, 'ica_car_ms': None, 'modulation_factor_car_ms': None, 'm_car_ms': None, 'h_car_ms': None, 'q_car_ms': None, 'setdata_car_ms': None, 'efun_car_ms': None, 'ghk_car_ms': None, 'modulation_car_ms': None, 'rates_car_ms': None, 'cat32_ms': None, 'pbar_cat32_ms': None, 'ical_cat32_ms': None, 'm_cat32_ms': None, 'h_cat32_ms': None, 'q_cat32_ms': None, 'setdata_cat32_ms': None, 'ghk_cat32_ms': None, 'rates_cat32_ms': None, 'cat33_ms': None, 'pbar_cat33_ms': None, 'ical_cat33_ms': None, 'm_cat33_ms': None, 'h_cat33_ms': None, 'q_cat33_ms': None, 'setdata_cat33_ms': None, 'ghk_cat33_ms': None, 'rates_cat33_ms': None, 'DASyn': None, 'hcn12_ch': None, 'gbar_hcn12_ch': None, 'ehcn_hcn12_ch': None, 'mod_pka_g_min_hcn12_ch': None, 'mod_pka_g_max_hcn12_ch': None, 'mod_pka_g_half_hcn12_ch': None, 'mod_pka_g_slope_hcn12_ch': None, 'g_hcn12_ch': None, 'i_hcn12_ch': None, 'modulation_factor_hcn12_ch': None, 'c_hcn12_ch': None, 'cac_hcn12_ch': None, 'o_hcn12_ch': None, 'cao_hcn12_ch': None, 'a0_hcn12_ch': None, 'b0_hcn12_ch': None, 'ah_hcn12_ch': None, 'bh_hcn12_ch': None, 'ac_hcn12_ch': None, 'bc_hcn12_ch': None, 'aa0_hcn12_ch': None, 'ba0_hcn12_ch': None, 'aah_hcn12_ch': None, 'bah_hcn12_ch': None, 'aac_hcn12_ch': None, 'bac_hcn12_ch': None, 'kon_hcn12_ch': None, 'koff_hcn12_ch': None, 'b_hcn12_ch': None, 'bf_hcn12_ch': None, 'ai_hcn12_ch': None, 'gca_hcn12_ch': None, 'shift_hcn12_ch': None, 'q10v_hcn12_ch': None, 'q10a_hcn12_ch': None, 'setdata_hcn12_ch': None, 'modulation_hcn12_ch': None, 'rates_hcn12_ch': None, 'hd_lts': None, 'ghdbar_hd_lts': None, 'vhalfl_hd_lts': None, 'mod_pka_g_min_hd_lts': None, 'mod_pka_g_max_hd_lts': None, 'mod_pka_g_half_hd_lts': None, 'mod_pka_g_slope_hd_lts': None, 'i_hd_lts': None, 'linf_hd_lts': None, 'taul_hd_lts': None, 'modulation_factor_hd_lts': None, 'l_hd_lts': None, 'ehd_hd_lts': None, 'kl_hd_lts': None, 'vhalft_hd_lts': None, 'a0t_hd_lts': None, 'zetat_hd_lts': None, 'gmt_hd_lts': None, 'q10_hd_lts': None, 'qtl_hd_lts': None, 'setdata_hd_lts': None, 'alpt_hd_lts': None, 'bett_hd_lts': None, 'modulation_hd_lts': None, 'rate_hd_lts': None, 'im_lts': None, 'gkbar_im_lts': None, 'taumax_im_lts': None, 'mod_pka_g_min_im_lts': None, 'mod_pka_g_max_im_lts': None, 'mod_pka_g_half_im_lts': None, 'mod_pka_g_slope_im_lts': None, 'ik_im_lts': None, 'm_inf_im_lts': None, 'tau_m_im_lts': None, 'modulation_factor_im_lts': None, 'm_im_lts': None, 'usetable_im_lts': None, 'setdata_im_lts': None, 'exptable_im_lts': None, 'evaluate_fct_im_lts': None, 'modulation_im_lts': None, 'Im_ms': None, 'gbar_Im_ms': None, 'mod_pka_g_min_Im_ms': None, 'mod_pka_g_max_Im_ms': None, 'mod_pka_g_half_Im_ms': None, 'mod_pka_g_slope_Im_ms': None, 'ik_Im_ms': None, 'gIm_Im_ms': None, 'modulation_factor_Im_ms': None, 'm_Im_ms': None, 'setdata_Im_ms': None, 'modulation_Im_ms': None, 'rates_Im_ms': None, 'it_lts': None, 'gcabar_it_lts': None, 'shift_it_lts': None, 'm_inf_it_lts': None, 'tau_m_it_lts': None, 'h_inf_it_lts': None, 'tau_h_it_lts': None, 'h_it_lts': None, 'q10_it_lts': None, 'setdata_it_lts': None, 'evaluate_fct_it_lts': None, 'kaf_fs': None, 'gbar_kaf_fs': None, 'q_kaf_fs': None, 'mod_pka_g_min_kaf_fs': None, 'mod_pka_g_max_kaf_fs': None, 'mod_pka_g_half_kaf_fs': None, 'mod_pka_g_slope_kaf_fs': None, 'ik_kaf_fs': None, 'gk_kaf_fs': None, 'modulation_factor_kaf_fs': None, 'm_kaf_fs': None, 'h_kaf_fs': None, 'setdata_kaf_fs': None, 'modulation_kaf_fs': None, 'rates_kaf_fs': None, 'kaf_lts': None, 'gbar_kaf_lts': None, 'q_kaf_lts': None, 'mod_pka_g_min_kaf_lts': None, 'mod_pka_g_max_kaf_lts': None, 'mod_pka_g_half_kaf_lts': None, 'mod_pka_g_slope_kaf_lts': None, 'ik_kaf_lts': None, 'gk_kaf_lts': None, 'modulation_factor_kaf_lts': None, 'm_kaf_lts': None, 'h_kaf_lts': None, 'setdata_kaf_lts': None, 'modulation_kaf_lts': None, 'rates_kaf_lts': None, 'kaf_ms': None, 'gbar_kaf_ms': None, 'q_kaf_ms': None, 'mod_pka_g_min_kaf_ms': None, 'mod_pka_g_max_kaf_ms': None, 'mod_pka_g_half_kaf_ms': None, 'mod_pka_g_slope_kaf_ms': None, 'mod_pka_shift_min_kaf_ms': None, 'mod_pka_shift_max_kaf_ms': None, 'mod_pka_shift_half_kaf_ms': None, 'mod_pka_shift_slope_kaf_ms': None, 'ik_kaf_ms': None, 'gk_kaf_ms': None, 'modulation_factor_g_kaf_ms': None, 'modulation_factor_shift_kaf_ms': None, 'modShift_kaf_ms': None, 'm_kaf_ms': None, 'h_kaf_ms': None, 'setdata_kaf_ms': None, 'modulation_kaf_ms': None, 'rates_kaf_ms': None, 'kas_fs': None, 'gbar_kas_fs': None, 'q_kas_fs': None, 'shift_kas_fs': None, 'mod_pka_g_min_kas_fs': None, 'mod_pka_g_max_kas_fs': None, 'mod_pka_g_half_kas_fs': None, 'mod_pka_g_slope_kas_fs': None, 'ik_kas_fs': None, 'gk_kas_fs': None, 'modulation_factor_kas_fs': None, 'm_kas_fs': None, 'h_kas_fs': None, 'a_kas_fs': None, 'setdata_kas_fs': None, 'modulation_kas_fs': None, 'rates_kas_fs': None, 'kas_ms': None, 'gbar_kas_ms': None, 'mod_pka_g_min_kas_ms': None, 'mod_pka_g_max_kas_ms': None, 'mod_pka_g_half_kas_ms': None, 'mod_pka_g_slope_kas_ms': None, 'ik_kas_ms': None, 'gk_kas_ms': None, 'modulation_factor_kas_ms': None, 'm_kas_ms': None, 'h_kas_ms': None, 'a_kas_ms': None, 'q_kas_ms': None, 'setdata_kas_ms': None, 'modulation_kas_ms': None, 'rates_kas_ms': None, 'kcnq_ch': None, 'gbar_kcnq_ch': None, 'g_kcnq_ch': None, 'ik_kcnq_ch': None, 'c_kcnq_ch': None, 'o_kcnq_ch': None, 'a0_kcnq_ch': None, 'b0_kcnq_ch': None, 'ah_kcnq_ch': None, 'bh_kcnq_ch': None, 'ac_kcnq_ch': None, 'bc_kcnq_ch': None, 'q10v_kcnq_ch': None, 'setdata_kcnq_ch': None, 'rates_kcnq_ch': None, 'kdb_lts': None, 'gkdbar_kdb_lts': None, 'sh_kdb_lts': None, 'gkd_kdb_lts': None, 'n_kdb_lts': None, 'vhalfn_kdb_lts': None, 'a0n_kdb_lts': None, 'zetan_kdb_lts': None, 'gmn_kdb_lts': None, 'nmax_kdb_lts': None, 'q10_kdb_lts': None, 'ninf_kdb_lts': None, 'taun_kdb_lts': None, 'setdata_kdb_lts': None, 'alpn_kdb_lts': None, 'betn_kdb_lts': None, 'rates_kdb_lts': None, 'kdrb_lts': None, 'gkdrbar_kdrb_lts': None, 'sh_kdrb_lts': None, 'gkdr_kdrb_lts': None, 'n_kdrb_lts': None, 'vhalfn_kdrb_lts': None, 'a0n_kdrb_lts': None, 'zetan_kdrb_lts': None, 'gmn_kdrb_lts': None, 'nmax_kdrb_lts': None, 'q10_kdrb_lts': None, 'ninf_kdrb_lts': None, 'taun_kdrb_lts': None, 'setdata_kdrb_lts': None, 'alpn_kdrb_lts': None, 'betn_kdrb_lts': None, 'rates_kdrb_lts': None, 'kdr_fs': None, 'gbar_kdr_fs': None, 'q_kdr_fs': None, 'ik_kdr_fs': None, 'gk_kdr_fs': None, 'm_kdr_fs': None, 'setdata_kdr_fs': None, 'rates_kdr_fs': None, 'kdr_lts': None, 'gbar_kdr_lts': None, 'q_kdr_lts': None, 'ik_kdr_lts': None, 'gk_kdr_lts': None, 'm_kdr_lts': None, 'setdata_kdr_lts': None, 'rates_kdr_lts': None, 'kdr_ms': None, 'gbar_kdr_ms': None, 'ik_kdr_ms': None, 'gk_kdr_ms': None, 'm_kdr_ms': None, 'q_kdr_ms': None, 'setdata_kdr_ms': None, 'rates_kdr_ms': None, 'kir23_ch': None, 'gbar_kir23_ch': None, 'mod_pka_g_min_kir23_ch': None, 'mod_pka_g_max_kir23_ch': None, 'mod_pka_g_half_kir23_ch': None, 'mod_pka_g_slope_kir23_ch': None, 'ik_kir23_ch': None, 'gk_kir23_ch': None, 'modulation_factor_kir23_ch': None, 'm_kir23_ch': None, 'q_kir23_ch': None, 'setdata_kir23_ch': None, 'modulation_kir23_ch': None, 'rates_kir23_ch': None, 'kir23_lts': None, 'gbar_kir23_lts': None, 'mod_pka_g_min_kir23_lts': None, 'mod_pka_g_max_kir23_lts': None, 'mod_pka_g_half_kir23_lts': None, 'mod_pka_g_slope_kir23_lts': None, 'ik_kir23_lts': None, 'gk_kir23_lts': None, 'modulation_factor_kir23_lts': None, 'm_kir23_lts': None, 'q_kir23_lts': None, 'setdata_kir23_lts': None, 'modulation_kir23_lts': None, 'rates_kir23_lts': None, 'kir2_ch': None, 'gbar_kir2_ch': None, 'mod_pka_g_min_kir2_ch': None, 'mod_pka_g_max_kir2_ch': None, 'mod_pka_g_half_kir2_ch': None, 'mod_pka_g_slope_kir2_ch': None, 'ninf_kir2_ch': None, 'tn_kir2_ch': None, 'ik_kir2_ch': None, 'g_kir2_ch': None, 'modulation_factor_kir2_ch': None, 'n_kir2_ch': None, 'vh_kir2_ch': None, 'vc_kir2_ch': None, 'C_tn_kir2_ch': None, 'setdata_kir2_ch': None, 'modulation_kir2_ch': None, 'values_kir2_ch': None, 'kir_fs': None, 'gbar_kir_fs': None, 'shift_kir_fs': None, 'mod_pka_g_min_kir_fs': None, 'mod_pka_g_max_kir_fs': None, 'mod_pka_g_half_kir_fs': None, 'mod_pka_g_slope_kir_fs': None, 'ik_kir_fs': None, 'gk_kir_fs': None, 'modulation_factor_kir_fs': None, 'm_kir_fs': None, 'q_kir_fs': None, 'setdata_kir_fs': None, 'modulation_kir_fs': None, 'rates_kir_fs': None, 'kir_ms': None, 'gbar_kir_ms': None, 'shift_kir_ms': None, 'mod_pka_g_min_kir_ms': None, 'mod_pka_g_max_kir_ms': None, 'mod_pka_g_half_kir_ms': None, 'mod_pka_g_slope_kir_ms': None, 'ik_kir_ms': None, 'gk_kir_ms': None, 'modulation_factor_kir_ms': None, 'm_kir_ms': None, 'q_kir_ms': None, 'setdata_kir_ms': None, 'modulation_kir_ms': None, 'rates_kir_ms': None, 'kv2_ch': None, 'gbar_kv2_ch': None, 'g_kv2_ch': None, 'ik_kv2_ch': None, 'an_kv2_ch': None, 'bn_kv2_ch': None, 'c1_kv2_ch': None, 'c2_kv2_ch': None, 'c3_kv2_ch': None, 'c4_kv2_ch': None, 'o_kv2_ch': None, 'setdata_kv2_ch': None, 'ancalc_kv2_ch': None, 'rates_kv2_ch': None, 'kv4_ch': None, 'gbar_kv4_ch': None, 'mod_pka_g_min_kv4_ch': None, 'mod_pka_g_max_kv4_ch': None, 'mod_pka_g_half_kv4_ch': None, 'mod_pka_g_slope_kv4_ch': None, 'g_kv4_ch': None, 'ik_kv4_ch': None, 'modulation_factor_kv4_ch': None, 'c1_kv4_ch': None, 'c2_kv4_ch': None, 'c3_kv4_ch': None, 'c4_kv4_ch': None, 'o_kv4_ch': None, 'i1_kv4_ch': None, 'i2_kv4_ch': None, 'i3_kv4_ch': None, 'i4_kv4_ch': None, 'i5_kv4_ch': None, 'is_kv4_ch': None, 'gamma_kv4_ch': None, 'delta_kv4_ch': None, 'a_kv4_ch': None, 'b_kv4_ch': None, 'ic_kv4_ch': None, 'oi_kv4_ch': None, 'io_kv4_ch': None, 'ci_kv4_ch': None, 'am_kv4_ch': None, 'bm_kv4_ch': None, 'vc_kv4_ch': None, 'vha_kv4_ch': None, 'vhb_kv4_ch': None, 'i5is_kv4_ch': None, 'isi5_kv4_ch': None, 'q10i_kv4_ch': None, 'q10v_kv4_ch': None, 'alpha_kv4_ch': None, 'beta_kv4_ch': None, 'setdata_kv4_ch': None, 'modulation_kv4_ch': None, 'rates_kv4_ch': None, 'na2_ch': None, 'gbar_na2_ch': None, 'mod_pka_g_min_na2_ch': None, 'mod_pka_g_max_na2_ch': None, 'mod_pka_g_half_na2_ch': None, 'mod_pka_g_slope_na2_ch': None, 'g_na2_ch': None, 'ina_na2_ch': None, 'a_na2_ch': None, 'modulation_factor_na2_ch': None, 'c1_na2_ch': None, 'c2_na2_ch': None, 'c3_na2_ch': None, 'c4_na2_ch': None, 'c5_na2_ch': None, 'ct_na2_ch': None, 'o_na2_ch': None, 'i1_na2_ch': None, 'i2_na2_ch': None, 'i3_na2_ch': None, 'i4_na2_ch': None, 'i5_na2_ch': None, 'i6_na2_ch': None, 'ift_na2_ch': None, 'is1_na2_ch': None, 'is2_na2_ch': None, 'ist_na2_ch': None, 'it_na2_ch': None, 'a0_na2_ch': None, 'vha_na2_ch': None, 'vca_na2_ch': None, 'b0_na2_ch': None, 'vhb_na2_ch': None, 'vcb_na2_ch': None, 'g0_na2_ch': None, 'd0_na2_ch': None, 'aS1_na2_ch': None, 'aS2_na2_ch': None, 'bS_na2_ch': None, 'Con_na2_ch': None, 'Coff_na2_ch': None, 'Oon_na2_ch': None, 'Ooff_na2_ch': None, 'setdata_na2_ch': None, 'modulation_na2_ch': None, 'rates_na2_ch': None, 'na3_lts': None, 'sh_na3_lts': None, 'gbar_na3_lts': None, 'thinf_na3_lts': None, 'qinf_na3_lts': None, 'ar_na3_lts': None, 'mod_pka_g_min_na3_lts': None, 'mod_pka_g_max_na3_lts': None, 'mod_pka_g_half_na3_lts': None, 'mod_pka_g_slope_na3_lts': None, 'ina_na3_lts': None, 'minf_na3_lts': None, 'hinf_na3_lts': None, 'mtau_na3_lts': None, 'htau_na3_lts': None, 'sinf_na3_lts': None, 'taus_na3_lts': None, 'modulation_factor_na3_lts': None, 'm_na3_lts': None, 'h_na3_lts': None, 's_na3_lts': None, 'tha_na3_lts': None, 'qa_na3_lts': None, 'Ra_na3_lts': None, 'Rb_na3_lts': None, 'thi1_na3_lts': None, 'thi2_na3_lts': None, 'qd_na3_lts': None, 'qg_na3_lts': None, 'mmin_na3_lts': None, 'hmin_na3_lts': None, 'q10_na3_lts': None, 'Rg_na3_lts': None, 'Rd_na3_lts': None, 'qq_na3_lts': None, 'tq_na3_lts': None, 'vhalfs_na3_lts': None, 'a0s_na3_lts': None, 'zetas_na3_lts': None, 'gms_na3_lts': None, 'smax_na3_lts': None, 'vvh_na3_lts': None, 'vvs_na3_lts': None, 'setdata_na3_lts': None, 'alps_na3_lts': None, 'alpv_na3_lts': None, 'bets_na3_lts': None, 'modulation_na3_lts': None, 'trap0_na3_lts': None, 'trates_na3_lts': None, 'na_ch': None, 'gbar_na_ch': None, 'a0_na_ch': None, 'vha_na_ch': None, 'vca_na_ch': None, 'b0_na_ch': None, 'vhb_na_ch': None, 'vcb_na_ch': None, 'g0_na_ch': None, 'd0_na_ch': None, 'aS1_na_ch': None, 'aS2_na_ch': None, 'bS_na_ch': None, 'Con_na_ch': None, 'Coff_na_ch': None, 'Oon_na_ch': None, 'Ooff_na_ch': None, 'mod_pka_g_min_na_ch': None, 'mod_pka_g_max_na_ch': None, 'mod_pka_g_half_na_ch': None, 'mod_pka_g_slope_na_ch': None, 'g_na_ch': None, 'ina_na_ch': None, 'a_na_ch': None, 'modulation_factor_na_ch': None, 'c1_na_ch': None, 'c2_na_ch': None, 'c3_na_ch': None, 'c4_na_ch': None, 'c5_na_ch': None, 'ct_na_ch': None, 'o_na_ch': None, 'i1_na_ch': None, 'i2_na_ch': None, 'i3_na_ch': None, 'i4_na_ch': None, 'i5_na_ch': None, 'i6_na_ch': None, 'ift_na_ch': None, 'is1_na_ch': None, 'is2_na_ch': None, 'ist_na_ch': None, 'it_na_ch': None, 'setdata_na_ch': None, 'modulation_na_ch': None, 'rates_na_ch': None, 'naf_fs': None, 'gbar_naf_fs': None, 'q_naf_fs': None, 'mod_pka_g_min_naf_fs': None, 'mod_pka_g_max_naf_fs': None, 'mod_pka_g_half_naf_fs': None, 'mod_pka_g_slope_naf_fs': None, 'ina_naf_fs': None, 'gna_naf_fs': None, 'modulation_factor_naf_fs': None, 'm_naf_fs': None, 'h_naf_fs': None, 'setdata_naf_fs': None, 'modulation_naf_fs': None, 'rates_naf_fs': None, 'naf_lts': None, 'gbar_naf_lts': None, 'q_naf_lts': None, 'mod_pka_g_min_naf_lts': None, 'mod_pka_g_max_naf_lts': None, 'mod_pka_g_half_naf_lts': None, 'mod_pka_g_slope_naf_lts': None, 'ina_naf_lts': None, 'gna_naf_lts': None, 'modulation_factor_naf_lts': None, 'm_naf_lts': None, 'h_naf_lts': None, 'setdata_naf_lts': None, 'modulation_naf_lts': None, 'rates_naf_lts': None, 'naf_ms': None, 'gbar_naf_ms': None, 'mod_pka_g_min_naf_ms': None, 'mod_pka_g_max_naf_ms': None, 'mod_pka_g_half_naf_ms': None, 'mod_pka_g_slope_naf_ms': None, 'ina_naf_ms': None, 'gna_naf_ms': None, 'modulation_factor_naf_ms': None, 'm_naf_ms': None, 'h_naf_ms': None, 'q_naf_ms': None, 'setdata_naf_ms': None, 'modulation_naf_ms': None, 'rates_naf_ms': None, 'NO': None, 'tau_NO': None, 'refrac_NO': None, 'gGapPar': None, 'sk_ch': None, 'gbar_sk_ch': None, 'ik_sk_ch': None, 'o_sk_ch': None, 'q_sk_ch': None, 'setdata_sk_ch': None, 'rate_sk_ch': None, 'sk_fs': None, 'gbar_sk_fs': None, 'ik_sk_fs': None, 'o_sk_fs': None, 'q_sk_fs': None, 'setdata_sk_fs': None, 'rate_sk_fs': None, 'sk_ms': None, 'gbar_sk_ms': None, 'ik_sk_ms': None, 'o_sk_ms': None, 'q_sk_ms': None, 'setdata_sk_ms': None, 'rate_sk_ms': None, 'tmGabaA': None, 'failRateModulationScaling_tmGabaA': None, 'tmGlut_double': None, 'tmGlut_M1RH_D1': None, 'tau3_ampa_tmGlut_M1RH_D1': None, 'tau3_nmda_tmGlut_M1RH_D1': None, 'tmGlut': None, 'mod_pka_fail_min_tmGlut': None, 'mod_pka_fail_max_tmGlut': None, 'mod_pka_fail_half_tmGlut': None, 'mod_pka_fail_slope_tmGlut': None, 'failRateScaling_tmGlut': None, 'VecStim': None, 'Graph': None, 'HBox': None, 'VBox': None, 'GUIMath': None, 'PWManager': None, 'Glyph': None, 'ValueFieldEditor': None, 'TextEditor': None, 'Timer': None, 'Deck': None, 'SymChooser': None, 'StringFunctions': None, 'List': None, 'Vector': None, 'PtrVector': None, 'File': None, 'Pointer': None, 'Matrix': None, 'Random': None, 'Shape': None, 'PlotShape': None, 'PPShape': None, 'RangeVarPlot': None, 'SectionBrowser': None, 'MechanismStandard': None, 'MechanismType': None, 'NetCon': None, 'LinearMechanism': None, 'KSChan': None, 'KSGate': None, 'KSState': None, 'KSTrans': None, 'Impedance': None, 'SaveState': None, 'BBSaveState': None, 'FInitializeHandler': None, 'StateTransitionEvent': None, 'PythonObject': None, 'CVode': None, 'TQueue': None, 'SingleChan': None, 'ParallelContext': None, 'GaolfGDP_ion': None, 'eGaolfGDP': None, 'GaolfGDPi': None, 'GaolfGDPo': None, 'iGaolfGDP': None, 'diGaolfGDP_dv_': None, 'GaolfGDPi0_GaolfGDP_ion': None, 'GaolfGDPo0_GaolfGDP_ion': None, 'Gbgolf_ion': None, 'eGbgolf': None, 'Gbgolfi': None, 'Gbgolfo': None, 'iGbgolf': None, 'diGbgolf_dv_': None, 'Gbgolfi0_Gbgolf_ion': None, 'Gbgolfo0_Gbgolf_ion': None, 'GaolfGTP_ion': None, 'eGaolfGTP': None, 'GaolfGTPi': None, 'GaolfGTPo': None, 'iGaolfGTP': None, 'diGaolfGTP_dv_': None, 'GaolfGTPi0_GaolfGTP_ion': None, 'GaolfGTPo0_GaolfGTP_ion': None, 'D1RDAGolf_ion': None, 'eD1RDAGolf': None, 'D1RDAGolfi': None, 'D1RDAGolfo': None, 'iD1RDAGolf': None, 'diD1RDAGolf_dv_': None, 'D1RDAGolfi0_D1RDAGolf_ion': None, 'D1RDAGolfo0_D1RDAGolf_ion': None, 'Golf_ion': None, 'eGolf': None, 'Golfi': None, 'Golfo': None, 'iGolf': None, 'diGolf_dv_': None, 'Golfi0_Golf_ion': None, 'Golfo0_Golf_ion': None, 'D1RGolf_ion': None, 'eD1RGolf': None, 'D1RGolfi': None, 'D1RGolfo': None, 'iD1RGolf': None, 'diD1RGolf_dv_': None, 'D1RGolfi0_D1RGolf_ion': None, 'D1RGolfo0_D1RGolf_ion': None, 'D1RDA_ion': None, 'eD1RDA': None, 'D1RDAi': None, 'D1RDAo': None, 'iD1RDA': None, 'diD1RDA_dv_': None, 'D1RDAi0_D1RDA_ion': None, 'D1RDAo0_D1RDA_ion': None, 'D1R_ion': None, 'eD1R': None, 'D1Ri': None, 'D1Ro': None, 'iD1R': None, 'diD1R_dv_': None, 'D1Ri0_D1R_ion': None, 'D1Ro0_D1R_ion': None, 'cAMP_ion': None, 'ecAMP': None, 'cAMPi': None, 'cAMPo': None, 'icAMP': None, 'dicAMP_dv_': None, 'cAMPi0_cAMP_ion': None, 'cAMPo0_cAMP_ion': None, 'AC5_ion': None, 'eAC5': None, 'AC5i': None, 'AC5o': None, 'iAC5': None, 'diAC5_dv_': None, 'AC5i0_AC5_ion': None, 'AC5o0_AC5_ion': None, 'AC5GaolfGTP_ion': None, 'eAC5GaolfGTP': None, 'AC5GaolfGTPi': None, 'AC5GaolfGTPo': None, 'iAC5GaolfGTP': None, 'diAC5GaolfGTP_dv_': None, 'AC5GaolfGTPi0_AC5GaolfGTP_ion': None, 'AC5GaolfGTPo0_AC5GaolfGTP_ion': None, 'PDE4_ion': None, 'ePDE4': None, 'PDE4i': None, 'PDE4o': None, 'iPDE4': None, 'diPDE4_dv_': None, 'PDE4i0_PDE4_ion': None, 'PDE4o0_PDE4_ion': None, 'PKAcAMP2_ion': None, 'ePKAcAMP2': None, 'PKAcAMP2i': None, 'PKAcAMP2o': None, 'iPKAcAMP2': None, 'diPKAcAMP2_dv_': None, 'PKAcAMP2i0_PKAcAMP2_ion': None, 'PKAcAMP2o0_PKAcAMP2_ion': None, 'PKAcAMP4_ion': None, 'ePKAcAMP4': None, 'PKAcAMP4i': None, 'PKAcAMP4o': None, 'iPKAcAMP4': None, 'diPKAcAMP4_dv_': None, 'PKAcAMP4i0_PKAcAMP4_ion': None, 'PKAcAMP4o0_PKAcAMP4_ion': None, 'PKAreg_ion': None, 'ePKAreg': None, 'PKAregi': None, 'PKArego': None, 'iPKAreg': None, 'diPKAreg_dv_': None, 'PKAregi0_PKAreg_ion': None, 'PKArego0_PKAreg_ion': None, 'PKAc_ion': None, 'ePKAc': None, 'PKAci': None, 'PKAco': None, 'iPKAc': None, 'diPKAc_dv_': None, 'PKAci0_PKAc_ion': None, 'PKAco0_PKAc_ion': None, 'PP1_ion': None, 'ePP1': None, 'PP1i': None, 'PP1o': None, 'iPP1': None, 'diPP1_dv_': None, 'PP1i0_PP1_ion': None, 'PP1o0_PP1_ion': None, 'DA_ion': None, 'eDA': None, 'DAi': None, 'DAo': None, 'iDA': None, 'diDA_dv_': None, 'DAi0_DA_ion': None, 'DAo0_DA_ion': None, 'AMP_ion': None, 'eAMP': None, 'AMPi': None, 'AMPo': None, 'iAMP': None, 'diAMP_dv_': None, 'AMPi0_AMP_ion': None, 'AMPo0_AMP_ion': None, '_pysec': None, 'hoc_obj_': None, 'cvode': None, 'tstr': None, 'lambda_f': None, 'i': None, 'String': None, 'case': None, 'clipboard_set': None, 'clipboard_get': None, 'hoc_sf_': None, 'clipboard_file': None, 'clipboard_save': None, 'clipboard_retrieve': None, 'j': None, 'valid_name_syntax': None, 'ExecCommand': None, 'newcommand': None, 'itmp': None, 'object_index': None, 'classname': None, 'graph_menu_remove_most': None, 'NEURONMainMenu': None, 'using_cvode_': None, 'AtolToolItem': None, 'AtolTool': None, 'NumericalMethodPanel': None, 'movie_frame_dur_': None, 'movie_timer': None, 'movierunbox': None, 'moviestep': None, 'steprun': None, 'realtime': None, 'rtstart': None, 'tstop': None, 'running_': None, 'movierun': None, 'stdinit': None, 'movierunpanel': None, 'movierunsave': None, 'tobj': None, 'tobj1': None, 'nrnmainmenu_': None, 'numericalmethodpanel': None, 'pyobj': None, 'stdrun_quiet': None, 'screen_update_invl': None, 'steps_per_ms': None, 'nstep_steprun': None, 'runStopAt': None, 'runStopIn': None, 'global_ra': None, 'temp_string_': None, 'temp_string2_': None, 'coreneuronrunning_': None, 'prjnrn': None, 'PointBrowser': None, 'tempobj': None, 'tempstr1': None, 'tempstr2': None, 'makePointBrowser': None, 'pointmenu': None, 'WindowGroup': None, 'WindowGroupItem': None, 'WindowGroupManager': None, 'WindowMenu': None, 'mapped_nrnmainmenu_': None, 'nrnmainmenu': None, 'buildmenu': None, 'toolmenu': None, 'graphmenu': None, 'vectormenu': None, 'windowmenu': None, 'helpmenu': None, 'cbimportmenu': None, 'pointprocessesmenu': None, 'distmechmenu': None, 'fittingmenu': None, 'impedancemenu': None, 'distmechviewers': None, 'celsius_panel': None, 'globalra_panel': None, 'miscellaneousmenu': None, 'v_init': None, 'cvode_active': None, 'cvode_local': None, 'nrncontrolmenu': None, 'set_v_init': None, 'cvode_simgraph': None, 'setdt': None, 'init': None, 'initPlot': None, 'n_graph_lists': None, 'graphList': None, 'graphItem': None, 'flush_list': None, 'fast_flush_list': None, 'set_ra': None, 'runbutton': None, 'run': None, 'continuerun': None, 'stoppedrun': None, 'eventslow': None, 'eventcount': None, 'flushPlot': None, 'step': None, 'screen_update': None, 'advance': None, 'Plot': None, 'cnt': None, 'tstop_changed': None, 'fastflushPlot': None, 'newPlotV': None, 'newPlot': None, 'newPlotI': None, 'newPlotS': None, 'addplot': None, 'newshapeplot': None, 'newvectorplot': None, 'newphaseplane': None, 'channel_builder': None, 'dspn_0': None, 'Import3d_Section': None, 'Import3d_SWC_read': None, 'Import3d_Neurolucida_read': None, 'Branch2SomaInfo': None, 'Import3d_LexToken': None, 'Import3d_Spine': None, 'Import3d_Property': None, 'Import3d_Neurolucida3': None, 'Import3d_Eutectic_read': None, 'Import3d_MorphML': None, 'P3D': None, 'LDiamInfo': None, 'CellBuildSection': None, 'CellBuildTopology': None, 'ocbox_': None, 'GeoType': None, 'GeoSpec': None, 'CellGeometry': None, 'inhomofun_template_index_': None, 'InhomoFun': None, 'dummy_inhomo': None, 'InhomoParm': None, 'DomainParmInfo': None, 'SNList': None, 'SDIDispListItem': None, 'SectionSubsets': None, 'FakeMechStan': None, 'MStanWrap': None, 'CellMembrane': None, 'CellManage': None, 'scene_vector_': None, 'save_window_': None, 'CellBuild': None, 'makecellbuilder': None, 'Import3d_GUI': None, 'nil': None, 'makeimport3dtool': None, 'ref': 'Wrap to allow call by reference in a hoc function', 'cas': 'Return the currently accessed section.', 'allsec': 'Return iterator over all sections.', 'Section': 'Return a new Section', 'libpython_path': 'Return full path to file that contains Py_Initialize()'}\n"
     ]
    },
    {
     "name": "stdin",
     "output_type": "stream",
     "text": [
      "ipdb>  self.node_cache[\"AMP\"][\"soma_internal\"][xx][0][0]\n"
     ]
    },
    {
     "name": "stdout",
     "output_type": "stream",
     "text": [
      "<neuron.rxd.node.Node1D object at 0x7f62104ebb50>\n"
     ]
    },
    {
     "name": "stdin",
     "output_type": "stream",
     "text": [
      "ipdb>  self.node_cache[\"AMP\"][\"soma_internal\"][xx][0][0].concentration\n"
     ]
    },
    {
     "name": "stdout",
     "output_type": "stream",
     "text": [
      "0.0\n"
     ]
    },
    {
     "name": "stdin",
     "output_type": "stream",
     "text": [
      "ipdb>  self.node_cache[\"AMP\"][\"soma_internal\"][xx][0][0]._ref_concentration\n"
     ]
    },
    {
     "name": "stdout",
     "output_type": "stream",
     "text": [
      "<pointer to hoc scalar 0>\n"
     ]
    },
    {
     "name": "stdin",
     "output_type": "stream",
     "text": [
      "ipdb>  self.node_cache.keys()\n"
     ]
    },
    {
     "name": "stdout",
     "output_type": "stream",
     "text": [
      "dict_keys(['GaolfGDP', 'Gbgolf', 'GaolfGTP', 'D1RDAGolf', 'Golf', 'D1RGolf', 'D1RDA', 'D1R', 'cAMP', 'AC5', 'AC5GaolfGTP', 'PDE4', 'PKA', 'PKAcAMP2', 'PKAcAMP4', 'PKAreg', 'PKAc', 'PP1', 'DA', 'AMP'])\n"
     ]
    },
    {
     "name": "stdin",
     "output_type": "stream",
     "text": [
      "ipdb>  self.node_cache[\"AMP\"].keys()\n"
     ]
    },
    {
     "name": "stdout",
     "output_type": "stream",
     "text": [
      "dict_keys(['soma_internal'])\n"
     ]
    },
    {
     "name": "stdin",
     "output_type": "stream",
     "text": [
      "ipdb>  self.node_cache[\"AMP\"][\"soma_internal\"]\n"
     ]
    },
    {
     "name": "stdout",
     "output_type": "stream",
     "text": [
      "{dspn_0[0].soma[0]: ([<neuron.rxd.node.Node1D object at 0x7f62104ebb50>], array([0.5]))}\n"
     ]
    },
    {
     "name": "stdin",
     "output_type": "stream",
     "text": [
      "ipdb>  node_dictionary = self.node_cache[\"AMP\"][\"soma_internal\"]\n",
      "ipdb>  node_dictionary.keys()\n"
     ]
    },
    {
     "name": "stdout",
     "output_type": "stream",
     "text": [
      "dict_keys([dspn_0[0].soma[0]])\n"
     ]
    },
    {
     "name": "stdin",
     "output_type": "stream",
     "text": [
      "ipdb>  node_dictionary.values()\n"
     ]
    },
    {
     "name": "stdout",
     "output_type": "stream",
     "text": [
      "dict_values([([<neuron.rxd.node.Node1D object at 0x7f62104ebb50>], array([0.5]))])\n"
     ]
    },
    {
     "name": "stdin",
     "output_type": "stream",
     "text": [
      "ipdb>  node_dictionary.values()[0]\n"
     ]
    },
    {
     "name": "stdout",
     "output_type": "stream",
     "text": [
      "*** TypeError: 'dict_values' object is not subscriptable\n"
     ]
    },
    {
     "name": "stdin",
     "output_type": "stream",
     "text": [
      "ipdb>  list(node_dictionary.values())[0]\n"
     ]
    },
    {
     "name": "stdout",
     "output_type": "stream",
     "text": [
      "*** Error in argument: '(node_dictionary.values())[0]'\n"
     ]
    },
    {
     "name": "stdin",
     "output_type": "stream",
     "text": [
      "ipdb>  list(node_dictionary.values())\n"
     ]
    },
    {
     "name": "stdout",
     "output_type": "stream",
     "text": [
      "*** Error in argument: '(node_dictionary.values())'\n"
     ]
    },
    {
     "name": "stdin",
     "output_type": "stream",
     "text": [
      "ipdb>  str(list(node_dictionary.values())[0])\n"
     ]
    },
    {
     "name": "stdout",
     "output_type": "stream",
     "text": [
      "'([<neuron.rxd.node.Node1D object at 0x7f62104ebb50>], array([0.5]))'\n"
     ]
    },
    {
     "name": "stdin",
     "output_type": "stream",
     "text": [
      "ipdb>  xx = list(node_dictionary.values())[0]\n",
      "ipdb>  xx\n"
     ]
    },
    {
     "name": "stdout",
     "output_type": "stream",
     "text": [
      "([<neuron.rxd.node.Node1D object at 0x7f62104ebb50>], array([0.5]))\n"
     ]
    },
    {
     "name": "stdin",
     "output_type": "stream",
     "text": [
      "ipdb>  node_data = xx\n",
      "ipdb>  node_data[0]\n"
     ]
    },
    {
     "name": "stdout",
     "output_type": "stream",
     "text": [
      "[<neuron.rxd.node.Node1D object at 0x7f62104ebb50>]\n"
     ]
    },
    {
     "name": "stdin",
     "output_type": "stream",
     "text": [
      "ipdb>  yy = node_data[0][0]\n",
      "ipdb>  yy\n"
     ]
    },
    {
     "name": "stdout",
     "output_type": "stream",
     "text": [
      "<neuron.rxd.node.Node1D object at 0x7f62104ebb50>\n"
     ]
    },
    {
     "name": "stdin",
     "output_type": "stream",
     "text": [
      "ipdb>  yy._ref_concentration\n"
     ]
    },
    {
     "name": "stdout",
     "output_type": "stream",
     "text": [
      "<pointer to hoc scalar 0>\n"
     ]
    }
   ],
   "source": [
    "mech_dir = os.path.join(\"..\", \"..\", \"..\", \"..\", \"BasalGangliaData\", \"data\", \"neurons\", \"mechanisms\")\n",
    "sample_dt = None # 0.00005\n",
    "sim = snudda.simulate(time=0, mech_dir=mech_dir, verbose=True, sample_dt=sample_dt)"
   ]
  },
  {
   "cell_type": "markdown",
   "id": "8159ba12-a064-4eb9-ab51-72fba54b3a1c",
   "metadata": {},
   "source": [
    "### Add PKA and DA recordings\n",
    "Here we add recordings from a compartment that receives synaptic input from its neighbour. This has been checked by looking at the synapse_connection matrix (snudda_load command)."
   ]
  },
  {
   "cell_type": "code",
   "execution_count": null,
   "id": "1dc9fba9-131c-4bff-a7dc-3fa3047452f8",
   "metadata": {},
   "outputs": [],
   "source": [
    "sim.add_synapse_variable_recording(source_id=0, dest_id=1, variable=\"modulation_factor_ampa\", synapse_type=\"fake_glutamate\")\n",
    "sim.add_synapse_variable_recording(source_id=0, dest_id=1, variable=\"modulation_factor_nmda\", synapse_type=\"fake_glutamate\")\n",
    "sim.add_synapse_variable_recording(source_id=1, dest_id=0, variable=\"modulation_factor_ampa\", synapse_type=\"fake_glutamate\")\n",
    "sim.add_synapse_variable_recording(source_id=1, dest_id=0, variable=\"modulation_factor_nmda\", synapse_type=\"fake_glutamate\")"
   ]
  },
  {
   "cell_type": "code",
   "execution_count": null,
   "id": "ea777c3d-232f-45d4-a26c-d85d5d4bb3c5",
   "metadata": {},
   "outputs": [],
   "source": [
    "sim.add_synapse_variable_recording(source_id=0, dest_id=1, variable=\"g\", synapse_type=\"fake_glutamate\")\n",
    "sim.add_synapse_variable_recording(source_id=0, dest_id=1, variable=\"g\", synapse_type=\"fake_glutamate\")\n",
    "sim.add_synapse_variable_recording(source_id=1, dest_id=0, variable=\"g\", synapse_type=\"fake_glutamate\")\n",
    "sim.add_synapse_variable_recording(source_id=1, dest_id=0, variable=\"g\", synapse_type=\"fake_glutamate\")"
   ]
  },
  {
   "cell_type": "code",
   "execution_count": null,
   "id": "22a1e1bd-a3f7-4032-b1d5-c7d31a1a82ea",
   "metadata": {},
   "outputs": [],
   "source": [
    "sim.add_external_input_variable_recording(neuron_id=0, input_type=\"cortical\", variable=\"modulation_factor_ampa\")\n",
    "sim.add_external_input_variable_recording(neuron_id=0, input_type=\"cortical\", variable=\"modulation_factor_nmda\")"
   ]
  },
  {
   "cell_type": "code",
   "execution_count": null,
   "id": "88bf71a5-19da-4e2e-8e90-29546a56cea1",
   "metadata": {},
   "outputs": [],
   "source": [
    "sim.add_rxd_concentration_recording(species=\"PKAc\", neuron_id=1,\n",
    "                                    region=\"dend_internal\",\n",
    "                                    sec_id=4,\n",
    "                                    sec_x=0.25)"
   ]
  },
  {
   "cell_type": "code",
   "execution_count": null,
   "id": "27ec8a70-1fbc-4093-9d8c-cb73494b626e",
   "metadata": {},
   "outputs": [],
   "source": [
    "sim.add_rxd_concentration_recording(species=\"DA\", neuron_id=1,\n",
    "                                    region=\"dend_internal\",\n",
    "                                    sec_id=4,\n",
    "                                    sec_x=0.25)"
   ]
  },
  {
   "cell_type": "markdown",
   "id": "93f8a148-edbf-40e5-ab7f-1dca76bc2d32",
   "metadata": {},
   "source": [
    "### Add additional PKA and DA recorings, for input"
   ]
  },
  {
   "cell_type": "code",
   "execution_count": null,
   "id": "6b9f2c09-d17f-4848-990d-9cc9b7859c39",
   "metadata": {},
   "outputs": [],
   "source": [
    "sim.add_rxd_concentration_recording(species=\"DA\", neuron_id=0,\n",
    "                                    region=\"dend_internal\",\n",
    "                                    sec_id=7,\n",
    "                                    sec_x=0.233)"
   ]
  },
  {
   "cell_type": "code",
   "execution_count": null,
   "id": "4d9216d8-8a84-4370-bfc1-88f6cc496a13",
   "metadata": {},
   "outputs": [],
   "source": [
    "# sim.add_rxd_internal_concentration_recording_all(species=\"PKA\", neuron_id=0)"
   ]
  },
  {
   "cell_type": "code",
   "execution_count": null,
   "id": "a9f436d4-4b12-4aca-87bc-1aebb9475456",
   "metadata": {},
   "outputs": [],
   "source": [
    "sim.add_rxd_internal_concentration_recording_all_species(neuron_id=0)"
   ]
  },
  {
   "cell_type": "code",
   "execution_count": null,
   "id": "65a75d7a-fdcb-46b0-8148-d4752a3d0748",
   "metadata": {},
   "outputs": [],
   "source": [
    "# Add density mechanism record\n",
    "sim.add_density_mechanism_recording(neuron_id=0, sec_id=0, sec_x=0.5, density_mechanism=\"kir_ms\", variable=\"modulation_factor\")"
   ]
  },
  {
   "cell_type": "code",
   "execution_count": null,
   "id": "9f5f9b57-9e65-4a09-87ab-cc6da2ce332e",
   "metadata": {},
   "outputs": [],
   "source": [
    "sim.run(t=500)"
   ]
  },
  {
   "cell_type": "code",
   "execution_count": null,
   "id": "053125fc-9117-459b-a3e8-725ef45db53a",
   "metadata": {},
   "outputs": [],
   "source": [
    "sim.record.write()"
   ]
  },
  {
   "cell_type": "markdown",
   "id": "bfdb2c9a-4d32-453d-84b8-2c872bfd4050",
   "metadata": {},
   "source": [
    "## Load the data and plot"
   ]
  },
  {
   "cell_type": "code",
   "execution_count": null,
   "id": "d84ee6f3-4193-4509-ad4a-0d93dff5e3d9",
   "metadata": {},
   "outputs": [],
   "source": [
    "from snudda.utils import SnuddaLoadSimulation\n",
    "\n",
    "output_file = os.path.join(network_path, \"simulation\", \"output.hdf5\")\n",
    "nd = SnuddaLoadSimulation(output_file)\n",
    "time = nd.get_time()\n",
    "data_pka = nd.get_data(\"PKAc\", 1)[0][1]\n",
    "data_da = nd.get_data(\"DA\", 1)[0][1]\n",
    "data_da_external = nd.get_data(\"DA\", 0)[0][0]\n",
    "\n",
    "# This is saved with add_rxd_internal_concentration_recording_all -- check that it worked \n",
    "data_pka_all0 = nd.get_data(\"PKAc\", 0)[0][0]"
   ]
  },
  {
   "cell_type": "code",
   "execution_count": null,
   "id": "bd0f4edf-a622-490b-b39f-18f516975737",
   "metadata": {},
   "outputs": [],
   "source": [
    "data_types = nd.list_data_types(0)\n",
    "all_species_data = nd.get_all_data(neuron_id=0, exclude=[\"spikes\", \"voltage\"])\n",
    "time = nd.get_time()"
   ]
  },
  {
   "cell_type": "code",
   "execution_count": null,
   "id": "a63a7152-730e-4868-a81a-cc87fccaf9f4",
   "metadata": {},
   "outputs": [],
   "source": [
    "import plotly.graph_objects as go\n",
    "import plotly.io as pio\n",
    "pio.renderers.default = \"iframe\"  # Do not save plots in the notebook, they can get BIG\n",
    "\n",
    "fig = go.Figure()\n",
    "for data_type in all_species_data:\n",
    "    fig.add_trace(go.Scatter(x=time, y=all_species_data[data_type][0][0].T[0], name=data_type))\n",
    "\n",
    "fig.update_layout(xaxis_title=\"Time (s)\", yaxis_title=\"Concentration\", width=1000, height=800)\n",
    "fig.show()"
   ]
  },
  {
   "cell_type": "code",
   "execution_count": null,
   "id": "1e49669a-1e97-4e19-8586-4acff6e21d69",
   "metadata": {},
   "outputs": [],
   "source": [
    "import numpy as np\n",
    "import plotly.graph_objects as go\n",
    "\n",
    "fig = go.Figure()\n",
    "for data_type in all_species_data:\n",
    "    yy = all_species_data[data_type][0][0].T[0]\n",
    "    fig.add_trace(go.Scatter(x=time, y=yy/np.max(yy), name=data_type))\n",
    "\n",
    "fig.update_layout(xaxis_title=\"Time (s)\", yaxis_title=\"Concentration\", width=1000, height=800)\n",
    "fig.show()"
   ]
  },
  {
   "cell_type": "code",
   "execution_count": null,
   "id": "0b572560-b42f-4920-bdf3-6718800d01f1",
   "metadata": {},
   "outputs": [],
   "source": [
    "import numpy as np\n",
    "import plotly.graph_objects as go\n",
    "\n",
    "fig = go.Figure()\n",
    "for data_type in all_species_data:\n",
    "    yy = all_species_data[data_type][0][0].T[0]\n",
    "    fig.add_trace(go.Scatter(x=time, y=yy/yy[0], name=data_type))\n",
    "\n",
    "fig.update_layout(xaxis_title=\"Time (s)\", yaxis_title=\"Concentration\", width=1000, height=800)\n",
    "fig.show()"
   ]
  },
  {
   "cell_type": "code",
   "execution_count": null,
   "id": "adb36614-f0e8-44ac-a36d-9119b48d4bee",
   "metadata": {},
   "outputs": [],
   "source": []
  },
  {
   "cell_type": "code",
   "execution_count": null,
   "id": "e6554026-bb50-4209-a1f7-37565af50529",
   "metadata": {},
   "outputs": [],
   "source": [
    "import matplotlib.pyplot as plt\n",
    "\n",
    "plt.figure()\n",
    "for data_type in all_species_data:\n",
    "    plt.plot(time, all_species_data[data_type][0][0].T[0], label=data_type)\n",
    "plt.xlabel(\"Time (s)\")\n",
    "plt.ylabel(\"Concentration\")\n",
    "plt.legend()\n",
    "plt.show()"
   ]
  },
  {
   "cell_type": "code",
   "execution_count": null,
   "id": "3febf45e-b1a0-45ce-b791-266ed03ed741",
   "metadata": {},
   "outputs": [],
   "source": [
    "all_species_data[data_type][0][0].T[0]"
   ]
  },
  {
   "cell_type": "code",
   "execution_count": null,
   "id": "d98d057c-752c-458b-bd52-a726f42dc90a",
   "metadata": {},
   "outputs": [],
   "source": [
    "import matplotlib.pyplot as plt\n",
    "plt.figure()\n",
    "plt.plot(time, data_da, label=\"DA\")\n",
    "plt.xlabel(\"Time (s)\")\n",
    "plt.ylabel(\"Concentration\")\n",
    "plt.legend()\n",
    "plt.show()"
   ]
  },
  {
   "cell_type": "code",
   "execution_count": null,
   "id": "d3bda015-1674-45ae-96f0-69167fd2cc89",
   "metadata": {},
   "outputs": [],
   "source": [
    "import matplotlib.pyplot as plt\n",
    "plt.figure()\n",
    "plt.plot(time, data_pka, label=\"PKAc\")\n",
    "plt.xlabel(\"Time (s)\")\n",
    "plt.ylabel(\"Concentration\")\n",
    "plt.legend()\n",
    "plt.show()"
   ]
  },
  {
   "cell_type": "code",
   "execution_count": null,
   "id": "0e281a93-c7de-45cf-9723-98f3a19bbca0",
   "metadata": {},
   "outputs": [],
   "source": [
    "import matplotlib.pyplot as plt\n",
    "plt.figure()\n",
    "plt.plot(time, data_da_external, label=\"DA from external?\")\n",
    "plt.xlabel(\"Time (s)\")\n",
    "plt.ylabel(\"Concentration\")\n",
    "#plt.legend()\n",
    "plt.title(\"DA from external?\")\n",
    "plt.show()"
   ]
  },
  {
   "cell_type": "code",
   "execution_count": null,
   "id": "20144fff-adf6-4c4b-956d-97deb916d7e6",
   "metadata": {},
   "outputs": [],
   "source": []
  },
  {
   "cell_type": "code",
   "execution_count": null,
   "id": "d31a7d49-55b1-479c-942a-17cbd87fa412",
   "metadata": {},
   "outputs": [],
   "source": [
    "from snudda.plotting import SnuddaPlotSpikeRaster2\n",
    "fig_file_raster = f\"spike-raster.png\"\n",
    "\n",
    "time_range_zoom = (0,0.1)\n",
    "spr = SnuddaPlotSpikeRaster2(network_path=network_path)\n",
    "\n",
    "spr.plot_spike_raster(fig_file=fig_file_raster, time_range=time_range_zoom)"
   ]
  },
  {
   "cell_type": "code",
   "execution_count": null,
   "id": "fc082055-9e38-4ed1-b842-40e166548071",
   "metadata": {},
   "outputs": [],
   "source": [
    "%matplotlib inline\n",
    "\n",
    "sim_file = os.path.join(network_path, \"simulation\", \"output.hdf5\")\n",
    "\n",
    "from snudda.plotting.plot_traces import PlotTraces\n",
    "pt = PlotTraces(output_file=sim_file)\n",
    "# Use trace_id to specify which traces\n",
    "ax = pt.plot_traces(offset=0, time_range=(0,1),fig_size=(10,4))"
   ]
  },
  {
   "cell_type": "code",
   "execution_count": null,
   "id": "0484dc59-0ae4-41fa-bfd5-441f8ddf6290",
   "metadata": {},
   "outputs": [],
   "source": [
    "ax0 = pt.plot_traces(offset=0, time_range=(0,1),fig_size=(10,4), trace_id=0)\n",
    "ax1 = pt.plot_traces(offset=0, time_range=(0,1),fig_size=(10,4), trace_id=1)"
   ]
  },
  {
   "cell_type": "code",
   "execution_count": null,
   "id": "dafbc17d-34f0-413e-b26a-08e51e8fff35",
   "metadata": {},
   "outputs": [],
   "source": [
    "help(pt.plot_traces)"
   ]
  },
  {
   "cell_type": "markdown",
   "id": "e3532a44-6084-4701-a8a3-28df6e106524",
   "metadata": {},
   "source": [
    "## TODO!! Also add ability to have external synapses affect RxD concentrations"
   ]
  },
  {
   "cell_type": "code",
   "execution_count": null,
   "id": "97789ccd-8c45-47e8-aeec-3b752b4c9942",
   "metadata": {},
   "outputs": [],
   "source": [
    "sim.neurons[0].icell.soma[0](0.5).naf_ms.gbar"
   ]
  },
  {
   "cell_type": "code",
   "execution_count": null,
   "id": "7b2a5b48-6450-475e-b842-478e75d2cf32",
   "metadata": {},
   "outputs": [],
   "source": [
    "sim.neurons[0].icell.soma[0](0.5).pas.g"
   ]
  },
  {
   "cell_type": "code",
   "execution_count": null,
   "id": "191cf2cb-a61f-4b9e-89a9-4fe963f0343b",
   "metadata": {},
   "outputs": [],
   "source": []
  }
 ],
 "metadata": {
  "kernelspec": {
   "display_name": "Python 3 (ipykernel)",
   "language": "python",
   "name": "python3"
  },
  "language_info": {
   "codemirror_mode": {
    "name": "ipython",
    "version": 3
   },
   "file_extension": ".py",
   "mimetype": "text/x-python",
   "name": "python",
   "nbconvert_exporter": "python",
   "pygments_lexer": "ipython3",
   "version": "3.11.2"
  }
 },
 "nbformat": 4,
 "nbformat_minor": 5
}
