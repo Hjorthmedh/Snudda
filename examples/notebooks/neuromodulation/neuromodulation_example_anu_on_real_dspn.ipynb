{
 "cells": [
  {
   "cell_type": "markdown",
   "id": "138f1fa5-37b6-4563-a588-309e5b21b9d5",
   "metadata": {},
   "source": [
    "# Neuromodulation example\n",
    "\n",
    "This neuromodulation creates a small network of neurons. We also use the reaction diffusion model by Anu G Nair 2015.\n",
    "\n",
    "To generate the ```reaction_diffusion.json``` file in ```data/str-dspn-e150602_c1_D1-mWT-0728MSN01-v20211026/``` from the xml file we run ```data/convert_sbml_to_json.sh```\n",
    "\n",
    "To get the RxD functionality of the ```DA_syn``` we must specify the \"RxD\" block in the connectivity block of the network configuration. See ```data/connectivity.json```\n",
    "\n",
    "```\n",
    "    \"channel_parameters\":\n",
    "\t\t\"RxD\": {\n",
    "\t\t    \"species_name\": \"DA\",\n",
    "\t\t    \"flux_variable\": \"open\",\n",
    "\t\t    \"region\": \"internal\",\n",
    "            \"weight_scaling\": 1e9,\n",
    "\t\t},\n",
    "\n",
    "     ...\n",
    "     }\n",
    "```"
   ]
  },
  {
   "cell_type": "markdown",
   "id": "1746feed-04de-4020-a2cb-f884e8e9698a",
   "metadata": {},
   "source": [
    "## Network setup\n",
    "\n",
    "We have two neurons. The first neuron (Neuron 0) receives external input (cortical from t=0s and DA from t=0.1s). The cortical input will activate the first neuron, and through activation of synapses on the second neuron, we will see the dopamine level increase in the second neuron (Neuron 1).\n",
    "\n",
    "The first neuron also receives direct DA activation from external input (starting at 100ms)."
   ]
  },
  {
   "cell_type": "code",
   "execution_count": null,
   "id": "5b55f23d-62ac-4433-8639-07870af8c40a",
   "metadata": {},
   "outputs": [],
   "source": [
    "import os\n",
    "from snudda import Snudda\n",
    "\n",
    "neuron_path = os.path.join(\"data\", \"dspn\")\n",
    "network_path = os.path.join(\"networks\", \"neuromodulation_example_anu_with_real_dspn\")\n",
    "connectivity_path = os.path.join(\"data\", \"connectivity.json\")\n",
    "\n",
    "snudda = Snudda(network_path=network_path)\n",
    "snudda.init_tiny(neuron_paths=neuron_path, neuron_names=\"neuron\", number_of_neurons=[2], \n",
    "                 connection_config=connectivity_path, random_seed=12345)\n",
    "snudda.create_network()"
   ]
  },
  {
   "cell_type": "code",
   "execution_count": null,
   "id": "41e96e4a-0f52-4d77-8a1f-ba8d270b9b78",
   "metadata": {},
   "outputs": [],
   "source": [
    "input_config = os.path.join(\"data\", \"input_v2.json\")\n",
    "snudda.setup_input(input_config=input_config)"
   ]
  },
  {
   "cell_type": "code",
   "execution_count": null,
   "id": "d019b580-4193-4321-9ee8-9bdd3988209f",
   "metadata": {},
   "outputs": [],
   "source": [
    "mech_dir = os.path.join(\"..\", \"..\", \"..\", \"..\", \"BasalGangliaData\", \"data\", \"neurons\", \"mechanisms\")\n",
    "sim = snudda.simulate(time=0, mech_dir=mech_dir, verbose=True, sample_dt=0.00005)"
   ]
  },
  {
   "cell_type": "markdown",
   "id": "8159ba12-a064-4eb9-ab51-72fba54b3a1c",
   "metadata": {},
   "source": [
    "### Add PKA and DA recordings\n",
    "Here we add recordings from a compartment that receives synaptic input from its neighbour. This has been checked by looking at the synapse_connection matrix (snudda_load command)."
   ]
  },
  {
   "cell_type": "code",
   "execution_count": null,
   "id": "88bf71a5-19da-4e2e-8e90-29546a56cea1",
   "metadata": {},
   "outputs": [],
   "source": [
    "sim.add_rxd_concentration_recording(species=\"PKA\", neuron_id=1,\n",
    "                                    region=\"dend_internal\",\n",
    "                                    sec_type=\"dend\",\n",
    "                                    sec_id=4,\n",
    "                                    sec_x=0.25)"
   ]
  },
  {
   "cell_type": "code",
   "execution_count": null,
   "id": "27ec8a70-1fbc-4093-9d8c-cb73494b626e",
   "metadata": {},
   "outputs": [],
   "source": [
    "sim.add_rxd_concentration_recording(species=\"DA\", neuron_id=1,\n",
    "                                    region=\"dend_internal\",\n",
    "                                    sec_type=\"dend\",\n",
    "                                    sec_id=4,\n",
    "                                    sec_x=0.25)"
   ]
  },
  {
   "cell_type": "markdown",
   "id": "93f8a148-edbf-40e5-ab7f-1dca76bc2d32",
   "metadata": {},
   "source": [
    "### Add additional PKA and DA recorings, for input"
   ]
  },
  {
   "cell_type": "code",
   "execution_count": null,
   "id": "6b9f2c09-d17f-4848-990d-9cc9b7859c39",
   "metadata": {},
   "outputs": [],
   "source": [
    "sim.add_rxd_concentration_recording(species=\"DA\", neuron_id=0,\n",
    "                                    region=\"dend_internal\",\n",
    "                                    sec_type=\"dend\",\n",
    "                                    sec_id=7,\n",
    "                                    sec_x=0.233)"
   ]
  },
  {
   "cell_type": "code",
   "execution_count": null,
   "id": "4d9216d8-8a84-4370-bfc1-88f6cc496a13",
   "metadata": {},
   "outputs": [],
   "source": [
    "sim.add_rxd_internal_concentration_recording_all(species=\"PKA\", neuron_id=0)"
   ]
  },
  {
   "cell_type": "code",
   "execution_count": null,
   "id": "9f5f9b57-9e65-4a09-87ab-cc6da2ce332e",
   "metadata": {},
   "outputs": [],
   "source": [
    "sim.run(t=200)"
   ]
  },
  {
   "cell_type": "code",
   "execution_count": null,
   "id": "053125fc-9117-459b-a3e8-725ef45db53a",
   "metadata": {},
   "outputs": [],
   "source": [
    "sim.record.write()"
   ]
  },
  {
   "cell_type": "markdown",
   "id": "bfdb2c9a-4d32-453d-84b8-2c872bfd4050",
   "metadata": {},
   "source": [
    "## Load the data and plot"
   ]
  },
  {
   "cell_type": "code",
   "execution_count": null,
   "id": "d84ee6f3-4193-4509-ad4a-0d93dff5e3d9",
   "metadata": {},
   "outputs": [],
   "source": [
    "from snudda.utils import SnuddaLoadNetworkSimulation\n",
    "\n",
    "output_file = os.path.join(network_path, \"simulation\", \"output.hdf5\")\n",
    "nd = SnuddaLoadNetworkSimulation(output_file)\n",
    "time = nd.get_time()\n",
    "data_pka = nd.get_data(\"PKA\", 1)[0][1]\n",
    "data_da = nd.get_data(\"DA\", 1)[0][1]\n",
    "data_da_external = nd.get_data(\"DA\", 0)[0][0]\n",
    "\n",
    "# This is saved with add_rxd_internal_concentration_recording_all -- check that it worked \n",
    "data_pka_all0 = nd.get_data(\"PKA\", 0)[0][0]"
   ]
  },
  {
   "cell_type": "code",
   "execution_count": null,
   "id": "d98d057c-752c-458b-bd52-a726f42dc90a",
   "metadata": {},
   "outputs": [],
   "source": [
    "import matplotlib.pyplot as plt\n",
    "plt.figure()\n",
    "plt.plot(time, data_da, label=\"DA\")\n",
    "plt.xlabel(\"Time (s)\")\n",
    "plt.ylabel(\"Concentration\")\n",
    "plt.legend()\n",
    "plt.show()"
   ]
  },
  {
   "cell_type": "code",
   "execution_count": null,
   "id": "d3bda015-1674-45ae-96f0-69167fd2cc89",
   "metadata": {},
   "outputs": [],
   "source": [
    "import matplotlib.pyplot as plt\n",
    "plt.figure()\n",
    "plt.plot(time, data_pka, label=\"PKA\")\n",
    "plt.xlabel(\"Time (s)\")\n",
    "plt.ylabel(\"Concentration\")\n",
    "plt.legend()\n",
    "plt.show()"
   ]
  },
  {
   "cell_type": "code",
   "execution_count": null,
   "id": "0e281a93-c7de-45cf-9723-98f3a19bbca0",
   "metadata": {},
   "outputs": [],
   "source": [
    "import matplotlib.pyplot as plt\n",
    "plt.figure()\n",
    "plt.plot(time, data_da_external, label=\"DA from external?\")\n",
    "plt.xlabel(\"Time (s)\")\n",
    "plt.ylabel(\"Concentration\")\n",
    "plt.legend()\n",
    "plt.show()"
   ]
  },
  {
   "cell_type": "code",
   "execution_count": null,
   "id": "20144fff-adf6-4c4b-956d-97deb916d7e6",
   "metadata": {},
   "outputs": [],
   "source": []
  },
  {
   "cell_type": "code",
   "execution_count": null,
   "id": "d31a7d49-55b1-479c-942a-17cbd87fa412",
   "metadata": {},
   "outputs": [],
   "source": [
    "from snudda.plotting import SnuddaPlotSpikeRaster2\n",
    "fig_file_raster = f\"spike-raster.png\"\n",
    "\n",
    "time_range_zoom = (0,0.1)\n",
    "spr = SnuddaPlotSpikeRaster2(network_path=network_path)\n",
    "\n",
    "spr.plot_spike_raster(fig_file=fig_file_raster, time_range=time_range_zoom)"
   ]
  },
  {
   "cell_type": "code",
   "execution_count": null,
   "id": "fc082055-9e38-4ed1-b842-40e166548071",
   "metadata": {},
   "outputs": [],
   "source": [
    "%matplotlib inline\n",
    "\n",
    "sim_file = os.path.join(network_path, \"simulation\", \"output.hdf5\")\n",
    "\n",
    "from snudda.plotting.plot_traces import PlotTraces\n",
    "pt = PlotTraces(output_file=sim_file)\n",
    "# Use trace_id to specify which traces\n",
    "ax = pt.plot_traces(offset=0, time_range=(0,0.5),fig_size=(10,4))"
   ]
  },
  {
   "cell_type": "markdown",
   "id": "e3532a44-6084-4701-a8a3-28df6e106524",
   "metadata": {},
   "source": [
    "## TODO!! Also add ability to have external synapses affect RxD concentrations"
   ]
  },
  {
   "cell_type": "code",
   "execution_count": null,
   "id": "97789ccd-8c45-47e8-aeec-3b752b4c9942",
   "metadata": {},
   "outputs": [],
   "source": [
    "sim.neurons[0].icell.soma[0](0.5).naf_ms.gbar"
   ]
  },
  {
   "cell_type": "code",
   "execution_count": null,
   "id": "7b2a5b48-6450-475e-b842-478e75d2cf32",
   "metadata": {},
   "outputs": [],
   "source": [
    "sim.neurons[0].icell.soma[0](0.5).pas.g"
   ]
  },
  {
   "cell_type": "code",
   "execution_count": null,
   "id": "191cf2cb-a61f-4b9e-89a9-4fe963f0343b",
   "metadata": {},
   "outputs": [],
   "source": []
  }
 ],
 "metadata": {
  "kernelspec": {
   "display_name": "Python 3 (ipykernel)",
   "language": "python",
   "name": "python3"
  },
  "language_info": {
   "codemirror_mode": {
    "name": "ipython",
    "version": 3
   },
   "file_extension": ".py",
   "mimetype": "text/x-python",
   "name": "python",
   "nbconvert_exporter": "python",
   "pygments_lexer": "ipython3",
   "version": "3.9.2"
  }
 },
 "nbformat": 4,
 "nbformat_minor": 5
}
