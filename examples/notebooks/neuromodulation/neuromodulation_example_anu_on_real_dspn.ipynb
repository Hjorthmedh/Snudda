{
 "cells": [
  {
   "cell_type": "markdown",
   "id": "138f1fa5-37b6-4563-a588-309e5b21b9d5",
   "metadata": {},
   "source": [
    "# Neuromodulation example\n",
    "\n",
    "This neuromodulation creates a small network of neurons. We also use the reaction diffusion model by Anu G Nair 2015.\n",
    "\n",
    "To generate the ```reaction_diffusion.json``` file in ```data/str-dspn-e150602_c1_D1-mWT-0728MSN01-v20211026/``` from the xml file we run ```data/convert_sbml_to_json.sh```\n",
    "\n",
    "To get the RxD functionality of the ```DA_syn``` we must specify the \"RxD\" block in the connectivity block of the network configuration. See ```data/connectivity.json```\n",
    "\n",
    "```\n",
    "    \"channel_parameters\":\n",
    "\t\t\"RxD\": {\n",
    "\t\t    \"species_name\": \"DA\",\n",
    "\t\t    \"flux_variable\": \"open\",\n",
    "\t\t    \"region\": \"internal\",\n",
    "            \"weight_scaling\": 1e9,\n",
    "\t\t},\n",
    "\n",
    "     ...\n",
    "     }\n",
    "```"
   ]
  },
  {
   "cell_type": "markdown",
   "id": "8f73162b-5ed5-40bc-a557-b73994a94bbd",
   "metadata": {},
   "source": [
    "## TODO: Ska vi ha jämn placering av alla DA synapser för att få en jämnare fördelning av DA?\n",
    "\n",
    "## TODO: Hur ska vi göra modulering av dopamine"
   ]
  },
  {
   "cell_type": "markdown",
   "id": "1746feed-04de-4020-a2cb-f884e8e9698a",
   "metadata": {},
   "source": [
    "## Network setup\n",
    "\n",
    "We have two neurons. The first neuron (Neuron 0) receives external input (cortical from t=0s and DA from t=0.1s). The cortical input will activate the first neuron, and through activation of synapses on the second neuron, we will see the dopamine level increase in the second neuron (Neuron 1).\n",
    "\n",
    "The first neuron also receives direct DA activation from external input (starting at 100ms)."
   ]
  },
  {
   "cell_type": "code",
   "execution_count": 1,
   "id": "5b55f23d-62ac-4433-8639-07870af8c40a",
   "metadata": {},
   "outputs": [
    {
     "name": "stdout",
     "output_type": "stream",
     "text": [
      "Reading connectivity from data/connectivity.json\n",
      "Adding neurons: dspn from dir data/dspn\n",
      "Writing networks/neuromodulation_example_anu_with_real_dspn/network-config.json\n",
      "Writing networks/neuromodulation_example_anu_with_real_dspn/network-config.json\n",
      "Placing neurons\n",
      "Network path: networks/neuromodulation_example_anu_with_real_dspn\n",
      "Reading SNUDDA_DATA=None from networks/neuromodulation_example_anu_with_real_dspn/network-config.json\n",
      "Reading SNUDDA_DATA=/home/hjorth/HBP/Snudda/snudda/utils/../data from networks/neuromodulation_example_anu_with_real_dspn/network-synapses.hdf5\n",
      "No n_putative_points and putative_density, setting n_putative_points = 63\n",
      "(this must be larger than the number of neurons you want to place)\n",
      "Generating 63 points for networks/neuromodulation_example_anu_with_real_dspn/mesh/Cube-cube-mesh-2.917951293943981e-05.obj\n",
      "Filtering, keeping inside points: 4 / 26\n",
      "neuron_name = 'dspn_0', num = 2, neuron_path = 'data/dspn/str-dspn-e150602_c1_D1-mWT-0728MSN01-v20211026'\n",
      "stop_parallel disabled, to keep pool running.\n",
      "\n",
      "Execution time: 0.0s\n",
      "Touch detection\n",
      "Network path: networks/neuromodulation_example_anu_with_real_dspn\n",
      "Reading SNUDDA_DATA=None from networks/neuromodulation_example_anu_with_real_dspn/network-config.json\n",
      "Reading SNUDDA_DATA=/home/hjorth/HBP/Snudda/snudda/utils/../data from networks/neuromodulation_example_anu_with_real_dspn/network-synapses.hdf5\n",
      "No d_view specified, running distribute neurons in serial\n",
      "Processing hyper voxel : 0/27 (2 neurons)\n",
      "Processing hyper voxel : 1/27 (2 neurons)\n",
      "Processing hyper voxel : 3/27 (2 neurons)\n",
      "Processing hyper voxel : 4/27 (2 neurons)\n",
      "Processing hyper voxel : 9/27 (2 neurons)\n",
      "Processing hyper voxel : 10/27 (2 neurons)\n",
      "Processing hyper voxel : 12/27 (2 neurons)\n",
      "Processing hyper voxel : 13/27 (2 neurons)\n",
      "Reading SNUDDA_DATA=None from networks/neuromodulation_example_anu_with_real_dspn/network-config.json\n",
      "stop_parallel disabled, to keep pool running.\n",
      "\n",
      "Execution time: 0.4s\n",
      "Prune synapses\n",
      "Network path: networks/neuromodulation_example_anu_with_real_dspn\n",
      "No file networks/neuromodulation_example_anu_with_real_dspn/pruning_merge_info.json\n",
      "stop_parallel disabled, to keep pool running.\n",
      "\n",
      "Execution time: 0.4s\n"
     ]
    }
   ],
   "source": [
    "import os\n",
    "from snudda import Snudda\n",
    "\n",
    "neuron_path = os.path.join(\"data\", \"dspn\")\n",
    "network_path = os.path.join(\"networks\", \"neuromodulation_example_anu_with_real_dspn\")\n",
    "connectivity_path = os.path.join(\"data\", \"connectivity.json\")\n",
    "\n",
    "snudda = Snudda(network_path=network_path)\n",
    "si = snudda.init_tiny(neuron_paths=neuron_path, neuron_names=\"dspn\", number_of_neurons=[2], \n",
    "                      connection_config=connectivity_path, random_seed=12345)\n",
    "\n",
    "# si.network_data[\"regions\"][\"Cube\"][\"neurons\"][\"dspn\"][\"reaction_diffusion\"] = \"reaction_diffusion.json\"\n",
    "si.network_data[\"regions\"][\"Cube\"][\"neurons\"][\"dspn\"][\"reaction_diffusion\"] = \"data/JSON/reaction_diffusion_D1.json\"\n",
    "\n",
    "si.network_data[\"regions\"][\"Cube\"][\"neurons\"][\"dspn\"][\"modulation\"] = \"test-modulation.json\"\n",
    "si.network_data[\"regions\"][\"Cube\"][\"neurons\"][\"dspn\"][\"modulation_key\"] = \"abc\"\n",
    "\n",
    "\n",
    "si.write_json()\n",
    "\n",
    "snudda.create_network()"
   ]
  },
  {
   "cell_type": "code",
   "execution_count": 2,
   "id": "41e96e4a-0f52-4d77-8a1f-ba8d270b9b78",
   "metadata": {},
   "outputs": [
    {
     "name": "stdout",
     "output_type": "stream",
     "text": [
      "Setting up inputs, assuming input.json exists\n",
      "Reading SNUDDA_DATA=None from networks/neuromodulation_example_anu_with_real_dspn/network-config.json\n",
      "Reading SNUDDA_DATA=/home/hjorth/HBP/Snudda/snudda/utils/../data from networks/neuromodulation_example_anu_with_real_dspn/network-synapses.hdf5\n",
      "Writing input spikes to networks/neuromodulation_example_anu_with_real_dspn/input-spikes.hdf5\n",
      "Reading SNUDDA_DATA=None from networks/neuromodulation_example_anu_with_real_dspn/network-config.json\n",
      "Reading SNUDDA_DATA=/home/hjorth/HBP/Snudda/snudda/utils/../data from networks/neuromodulation_example_anu_with_real_dspn/network-synapses.hdf5\n",
      "!!! Warning, combining definition of cortical with cortical input for neuron dspn_0 0 (meta modified by input_config)\n",
      "Writing spikes to networks/neuromodulation_example_anu_with_real_dspn/input-spikes.hdf5\n",
      "stop_parallel disabled, to keep pool running.\n",
      "\n",
      "Execution time: 0.5s\n"
     ]
    },
    {
     "data": {
      "text/plain": [
       "<snudda.input.input.SnuddaInput at 0xffff7e159cd0>"
      ]
     },
     "execution_count": 2,
     "metadata": {},
     "output_type": "execute_result"
    }
   ],
   "source": [
    "#input_config = os.path.join(\"data\", \"input_v2.json\")\n",
    "input_config = os.path.join(\"data\", \"input_v3.json\")\n",
    "snudda.setup_input(input_config=input_config)"
   ]
  },
  {
   "cell_type": "code",
   "execution_count": null,
   "id": "d019b580-4193-4321-9ee8-9bdd3988209f",
   "metadata": {},
   "outputs": [
    {
     "name": "stdout",
     "output_type": "stream",
     "text": [
      "Using input file networks/neuromodulation_example_anu_with_real_dspn/input-spikes.hdf5\n",
      "NEURON mechanisms already compiled, make sure you have the correct version of NEURON modules.\n",
      "If you delete x86_64, aarch64, arm64 directories (or nrnmech.dll) then you will force a recompilation of the modules.\n",
      "Reading SNUDDA_DATA=None from networks/neuromodulation_example_anu_with_real_dspn/network-config.json\n",
      "Reading SNUDDA_DATA=/home/hjorth/HBP/Snudda/snudda/utils/../data from networks/neuromodulation_example_anu_with_real_dspn/network-synapses.hdf5\n",
      "Using network_file: networks/neuromodulation_example_anu_with_real_dspn/network-synapses.hdf5\n",
      "Using input_file: networks/neuromodulation_example_anu_with_real_dspn/input-spikes.hdf5\n",
      "Using output_file: networks/neuromodulation_example_anu_with_real_dspn/simulation/output.hdf5\n",
      "Using logFile: networks/neuromodulation_example_anu_with_real_dspn/log/network-simulation-log.txt-0\n",
      "Worker 0 : Loading network from networks/neuromodulation_example_anu_with_real_dspn/network-synapses.hdf5\n",
      "Loading config file networks/neuromodulation_example_anu_with_real_dspn/network-config.json\n",
      "0 : Memory status: 82% free\n",
      "Distributing neurons.\n",
      "Setup neurons\n",
      "Node 0 - cell 0 dspn_0\n",
      "Fixing AMP concentration to constant 0.0\n",
      "Fixing AMP concentration to constant 0.0\n",
      "Fixing ATP concentration to constant 5000000.0\n",
      "Fixing ATP concentration to constant 5000000.0\n",
      "Fixing Ca concentration to constant 60.0\n",
      "Fixing Ca concentration to constant 60.0\n",
      "Fixing pSubstrate_out concentration to constant 0.0\n",
      "Fixing pSubstrate_out concentration to constant 0.0\n",
      "Fixing PP1_out concentration to constant 0.0\n",
      "Fixing PP1_out concentration to constant 0.0\n",
      "Fixing CaM_out concentration to constant 0.0\n",
      "Fixing CaM_out concentration to constant 0.0\n",
      "Fixing D32_out concentration to constant 0.0\n",
      "Fixing D32_out concentration to constant 0.0\n",
      "Neuron dspn_0 (0) resting voltage = -86.0\n",
      "!!! Popping extra segment from neuron -- temp fix!\n",
      "Node 0 - cell 1 dspn_0\n"
     ]
    },
    {
     "name": "stderr",
     "output_type": "stream",
     "text": [
      "NEURON: k < sizeof(long) * 8\n",
      " near line 0\n",
      "Assertion failed: file /root/nrn/src/nrnoc/eion.cpp, line 437\n",
      " {create axon[2]}\n",
      "                 "
     ]
    }
   ],
   "source": [
    "mech_dir = os.path.join(\"..\", \"..\", \"..\", \"..\", \"BasalGangliaData\", \"data\", \"neurons\", \"mechanisms\")\n",
    "sample_dt = None # 0.00005\n",
    "sim = snudda.simulate(time=0, mech_dir=mech_dir, verbose=True, sample_dt=sample_dt)"
   ]
  },
  {
   "cell_type": "markdown",
   "id": "8159ba12-a064-4eb9-ab51-72fba54b3a1c",
   "metadata": {},
   "source": [
    "### Add PKA and DA recordings\n",
    "Here we add recordings from a compartment that receives synaptic input from its neighbour. This has been checked by looking at the synapse_connection matrix (snudda_load command)."
   ]
  },
  {
   "cell_type": "code",
   "execution_count": null,
   "id": "88bf71a5-19da-4e2e-8e90-29546a56cea1",
   "metadata": {},
   "outputs": [],
   "source": [
    "sim.add_rxd_concentration_recording(species=\"PKAc\", neuron_id=1,\n",
    "                                    region=\"dend_internal\",\n",
    "                                    sec_id=4,\n",
    "                                    sec_x=0.25)"
   ]
  },
  {
   "cell_type": "code",
   "execution_count": null,
   "id": "27ec8a70-1fbc-4093-9d8c-cb73494b626e",
   "metadata": {},
   "outputs": [],
   "source": [
    "sim.add_rxd_concentration_recording(species=\"DA\", neuron_id=1,\n",
    "                                    region=\"dend_internal\",\n",
    "                                    sec_id=4,\n",
    "                                    sec_x=0.25)"
   ]
  },
  {
   "cell_type": "markdown",
   "id": "93f8a148-edbf-40e5-ab7f-1dca76bc2d32",
   "metadata": {},
   "source": [
    "### Add additional PKA and DA recorings, for input"
   ]
  },
  {
   "cell_type": "code",
   "execution_count": null,
   "id": "6b9f2c09-d17f-4848-990d-9cc9b7859c39",
   "metadata": {},
   "outputs": [],
   "source": [
    "sim.add_rxd_concentration_recording(species=\"DA\", neuron_id=0,\n",
    "                                    region=\"dend_internal\",\n",
    "                                    sec_id=7,\n",
    "                                    sec_x=0.233)"
   ]
  },
  {
   "cell_type": "code",
   "execution_count": null,
   "id": "4d9216d8-8a84-4370-bfc1-88f6cc496a13",
   "metadata": {},
   "outputs": [],
   "source": [
    "# sim.add_rxd_internal_concentration_recording_all(species=\"PKA\", neuron_id=0)"
   ]
  },
  {
   "cell_type": "code",
   "execution_count": null,
   "id": "a9f436d4-4b12-4aca-87bc-1aebb9475456",
   "metadata": {},
   "outputs": [],
   "source": [
    "sim.add_rxd_internal_concentration_recording_all_species(neuron_id=0)"
   ]
  },
  {
   "cell_type": "code",
   "execution_count": null,
   "id": "65a75d7a-fdcb-46b0-8148-d4752a3d0748",
   "metadata": {},
   "outputs": [],
   "source": [
    "# Add density mechanism record\n",
    "sim.add_density_mechanism_recording(neuron_id=0, sec_id=0, sec_x=0.5, density_mechanism=\"kir_ms\", variable=\"modulation_factor\")"
   ]
  },
  {
   "cell_type": "code",
   "execution_count": null,
   "id": "9f5f9b57-9e65-4a09-87ab-cc6da2ce332e",
   "metadata": {},
   "outputs": [],
   "source": [
    "sim.run(t=500)"
   ]
  },
  {
   "cell_type": "code",
   "execution_count": null,
   "id": "053125fc-9117-459b-a3e8-725ef45db53a",
   "metadata": {},
   "outputs": [],
   "source": [
    "sim.record.write()"
   ]
  },
  {
   "cell_type": "markdown",
   "id": "bfdb2c9a-4d32-453d-84b8-2c872bfd4050",
   "metadata": {},
   "source": [
    "## Load the data and plot"
   ]
  },
  {
   "cell_type": "code",
   "execution_count": null,
   "id": "d84ee6f3-4193-4509-ad4a-0d93dff5e3d9",
   "metadata": {},
   "outputs": [],
   "source": [
    "from snudda.utils import SnuddaLoadSimulation\n",
    "\n",
    "output_file = os.path.join(network_path, \"simulation\", \"output.hdf5\")\n",
    "nd = SnuddaLoadSimulation(output_file)\n",
    "time = nd.get_time()\n",
    "data_pka = nd.get_data(\"PKAc\", 1)[0][1]\n",
    "data_da = nd.get_data(\"DA\", 1)[0][1]\n",
    "data_da_external = nd.get_data(\"DA\", 0)[0][0]\n",
    "\n",
    "# This is saved with add_rxd_internal_concentration_recording_all -- check that it worked \n",
    "data_pka_all0 = nd.get_data(\"PKAc\", 0)[0][0]"
   ]
  },
  {
   "cell_type": "code",
   "execution_count": null,
   "id": "bd0f4edf-a622-490b-b39f-18f516975737",
   "metadata": {},
   "outputs": [],
   "source": [
    "data_types = nd.list_data_types(0)\n",
    "all_species_data = nd.get_all_data(neuron_id=0, exclude=[\"spikes\", \"voltage\"])\n",
    "time = nd.get_time()"
   ]
  },
  {
   "cell_type": "code",
   "execution_count": null,
   "id": "a63a7152-730e-4868-a81a-cc87fccaf9f4",
   "metadata": {},
   "outputs": [],
   "source": [
    "import plotly.graph_objects as go\n",
    "import plotly.io as pio\n",
    "pio.renderers.default = \"iframe\"  # Do not save plots in the notebook, they can get BIG\n",
    "\n",
    "fig = go.Figure()\n",
    "for data_type in all_species_data:\n",
    "    fig.add_trace(go.Scatter(x=time, y=all_species_data[data_type][0][0].T[0], name=data_type))\n",
    "\n",
    "fig.update_layout(xaxis_title=\"Time (s)\", yaxis_title=\"Concentration\", width=1000, height=800)\n",
    "fig.show()"
   ]
  },
  {
   "cell_type": "code",
   "execution_count": null,
   "id": "1e49669a-1e97-4e19-8586-4acff6e21d69",
   "metadata": {},
   "outputs": [],
   "source": [
    "import numpy as np\n",
    "import plotly.graph_objects as go\n",
    "\n",
    "fig = go.Figure()\n",
    "for data_type in all_species_data:\n",
    "    yy = all_species_data[data_type][0][0].T[0]\n",
    "    fig.add_trace(go.Scatter(x=time, y=yy/np.max(yy), name=data_type))\n",
    "\n",
    "fig.update_layout(xaxis_title=\"Time (s)\", yaxis_title=\"Concentration\", width=1000, height=800)\n",
    "fig.show()"
   ]
  },
  {
   "cell_type": "code",
   "execution_count": null,
   "id": "0b572560-b42f-4920-bdf3-6718800d01f1",
   "metadata": {},
   "outputs": [],
   "source": [
    "import numpy as np\n",
    "import plotly.graph_objects as go\n",
    "\n",
    "fig = go.Figure()\n",
    "for data_type in all_species_data:\n",
    "    yy = all_species_data[data_type][0][0].T[0]\n",
    "    fig.add_trace(go.Scatter(x=time, y=yy/yy[0], name=data_type))\n",
    "\n",
    "fig.update_layout(xaxis_title=\"Time (s)\", yaxis_title=\"Concentration\", width=1000, height=800)\n",
    "fig.show()"
   ]
  },
  {
   "cell_type": "code",
   "execution_count": null,
   "id": "adb36614-f0e8-44ac-a36d-9119b48d4bee",
   "metadata": {},
   "outputs": [],
   "source": []
  },
  {
   "cell_type": "code",
   "execution_count": null,
   "id": "e6554026-bb50-4209-a1f7-37565af50529",
   "metadata": {},
   "outputs": [],
   "source": [
    "import matplotlib.pyplot as plt\n",
    "\n",
    "plt.figure()\n",
    "for data_type in all_species_data:\n",
    "    plt.plot(time, all_species_data[data_type][0][0].T[0], label=data_type)\n",
    "plt.xlabel(\"Time (s)\")\n",
    "plt.ylabel(\"Concentration\")\n",
    "plt.legend()\n",
    "plt.show()"
   ]
  },
  {
   "cell_type": "code",
   "execution_count": null,
   "id": "3febf45e-b1a0-45ce-b791-266ed03ed741",
   "metadata": {},
   "outputs": [],
   "source": [
    "all_species_data[data_type][0][0].T[0]"
   ]
  },
  {
   "cell_type": "code",
   "execution_count": null,
   "id": "d98d057c-752c-458b-bd52-a726f42dc90a",
   "metadata": {},
   "outputs": [],
   "source": [
    "import matplotlib.pyplot as plt\n",
    "plt.figure()\n",
    "plt.plot(time, data_da, label=\"DA\")\n",
    "plt.xlabel(\"Time (s)\")\n",
    "plt.ylabel(\"Concentration\")\n",
    "plt.legend()\n",
    "plt.show()"
   ]
  },
  {
   "cell_type": "code",
   "execution_count": null,
   "id": "d3bda015-1674-45ae-96f0-69167fd2cc89",
   "metadata": {},
   "outputs": [],
   "source": [
    "import matplotlib.pyplot as plt\n",
    "plt.figure()\n",
    "plt.plot(time, data_pka, label=\"PKAc\")\n",
    "plt.xlabel(\"Time (s)\")\n",
    "plt.ylabel(\"Concentration\")\n",
    "plt.legend()\n",
    "plt.show()"
   ]
  },
  {
   "cell_type": "code",
   "execution_count": null,
   "id": "0e281a93-c7de-45cf-9723-98f3a19bbca0",
   "metadata": {},
   "outputs": [],
   "source": [
    "import matplotlib.pyplot as plt\n",
    "plt.figure()\n",
    "plt.plot(time, data_da_external, label=\"DA from external?\")\n",
    "plt.xlabel(\"Time (s)\")\n",
    "plt.ylabel(\"Concentration\")\n",
    "#plt.legend()\n",
    "plt.title(\"DA from external?\")\n",
    "plt.show()"
   ]
  },
  {
   "cell_type": "code",
   "execution_count": null,
   "id": "20144fff-adf6-4c4b-956d-97deb916d7e6",
   "metadata": {},
   "outputs": [],
   "source": []
  },
  {
   "cell_type": "code",
   "execution_count": null,
   "id": "d31a7d49-55b1-479c-942a-17cbd87fa412",
   "metadata": {},
   "outputs": [],
   "source": [
    "from snudda.plotting import SnuddaPlotSpikeRaster2\n",
    "fig_file_raster = f\"spike-raster.png\"\n",
    "\n",
    "time_range_zoom = (0,0.1)\n",
    "spr = SnuddaPlotSpikeRaster2(network_path=network_path)\n",
    "\n",
    "spr.plot_spike_raster(fig_file=fig_file_raster, time_range=time_range_zoom)"
   ]
  },
  {
   "cell_type": "code",
   "execution_count": null,
   "id": "fc082055-9e38-4ed1-b842-40e166548071",
   "metadata": {},
   "outputs": [],
   "source": [
    "%matplotlib inline\n",
    "\n",
    "sim_file = os.path.join(network_path, \"simulation\", \"output.hdf5\")\n",
    "\n",
    "from snudda.plotting.plot_traces import PlotTraces\n",
    "pt = PlotTraces(output_file=sim_file)\n",
    "# Use trace_id to specify which traces\n",
    "ax = pt.plot_traces(offset=0, time_range=(0,1),fig_size=(10,4))"
   ]
  },
  {
   "cell_type": "code",
   "execution_count": null,
   "id": "0484dc59-0ae4-41fa-bfd5-441f8ddf6290",
   "metadata": {},
   "outputs": [],
   "source": [
    "ax0 = pt.plot_traces(offset=0, time_range=(0,1),fig_size=(10,4), trace_id=0)\n",
    "ax1 = pt.plot_traces(offset=0, time_range=(0,1),fig_size=(10,4), trace_id=1)"
   ]
  },
  {
   "cell_type": "code",
   "execution_count": null,
   "id": "dafbc17d-34f0-413e-b26a-08e51e8fff35",
   "metadata": {},
   "outputs": [],
   "source": [
    "help(pt.plot_traces)"
   ]
  },
  {
   "cell_type": "markdown",
   "id": "e3532a44-6084-4701-a8a3-28df6e106524",
   "metadata": {},
   "source": [
    "## TODO!! Also add ability to have external synapses affect RxD concentrations"
   ]
  },
  {
   "cell_type": "code",
   "execution_count": null,
   "id": "97789ccd-8c45-47e8-aeec-3b752b4c9942",
   "metadata": {},
   "outputs": [],
   "source": [
    "sim.neurons[0].icell.soma[0](0.5).naf_ms.gbar"
   ]
  },
  {
   "cell_type": "code",
   "execution_count": null,
   "id": "7b2a5b48-6450-475e-b842-478e75d2cf32",
   "metadata": {},
   "outputs": [],
   "source": [
    "sim.neurons[0].icell.soma[0](0.5).pas.g"
   ]
  },
  {
   "cell_type": "code",
   "execution_count": null,
   "id": "191cf2cb-a61f-4b9e-89a9-4fe963f0343b",
   "metadata": {},
   "outputs": [],
   "source": []
  }
 ],
 "metadata": {
  "kernelspec": {
   "display_name": "Python 3 (ipykernel)",
   "language": "python",
   "name": "python3"
  },
  "language_info": {
   "codemirror_mode": {
    "name": "ipython",
    "version": 3
   },
   "file_extension": ".py",
   "mimetype": "text/x-python",
   "name": "python",
   "nbconvert_exporter": "python",
   "pygments_lexer": "ipython3",
   "version": "3.9.2"
  }
 },
 "nbformat": 4,
 "nbformat_minor": 5
}
