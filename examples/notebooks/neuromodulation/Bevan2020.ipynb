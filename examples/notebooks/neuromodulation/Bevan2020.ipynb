{
 "cells": [
  {
   "cell_type": "markdown",
   "id": "b0b37371-3021-4a72-a880-c58a7e8d4160",
   "metadata": {},
   "source": [
    "# Virtual experiments, replicating Lahiri and Bevan 2020\n",
    "\n",
    "In this notebook, we try and replicate a few of the dopamine experiments in Lahiri and Bevan 2020.\n",
    "\n",
    "4Hz optogenetical stimulation (5 pulses) yielded approximately 0.3 uM DA concentration, while 20Hz stimulation yielded (5 pulses) on average 0.5 uM DA concentration. Here we model the optogenetic activation by setting the DA concentration to these values. In both cases the duration of the resulting DA pulse was set to 5 seconds. \n"
   ]
  },
  {
   "cell_type": "markdown",
   "id": "00ab7d4b-5872-4226-ba34-0d3248f394a5",
   "metadata": {},
   "source": [
    "## Experiment 1\n",
    "\n",
    "Current injection driving the dSPN to approximately 10Hz, after 5 seconds 0.3 uM DA is added, then current injection is active for another 5 seconds.\n",
    "\n",
    "Repeat experiment, but this time current injection drives dSPN to approximately 15Hz, and then after 5 seconds 0.5 uM DA is added.\n",
    "\n",
    "Compare to Figure 1E, 1G, 1H"
   ]
  },
  {
   "cell_type": "code",
   "execution_count": 1,
   "id": "5f0add18-69c0-44fc-9473-4325545e2dd2",
   "metadata": {},
   "outputs": [],
   "source": [
    "import os\n",
    "from snudda import Snudda\n",
    "\n",
    "neuron = \"dspn\"\n",
    "# neuron = \"ispn\"\n",
    "\n",
    "neuron_path = os.path.join(\"data\", neuron)\n",
    "network_path = os.path.join(\"networks\", \"bevan_fig1_bath_current_SBML\")"
   ]
  },
  {
   "cell_type": "code",
   "execution_count": 2,
   "id": "9b576389-21a5-4ce0-9f0d-9b183763e0f6",
   "metadata": {},
   "outputs": [
    {
     "name": "stdout",
     "output_type": "stream",
     "text": [
      "Warning, no snudda_data set!\n",
      "Adding neurons: dspn from dir data/dspn\n",
      "Writing networks/bevan_fig1_bath_current_SBML/network-config.json\n",
      "Writing networks/bevan_fig1_bath_current_SBML/network-config.json\n",
      "Placing neurons\n",
      "Network path: networks/bevan_fig1_bath_current_SBML\n",
      "Reading SNUDDA_DATA=None from networks/bevan_fig1_bath_current_SBML/network-config.json\n",
      "Reading SNUDDA_DATA=/home/hjorth/HBP/Snudda/snudda/data from networks/bevan_fig1_bath_current_SBML/network-synapses.hdf5\n",
      "No n_putative_points and putative_density, setting n_putative_points = 102\n",
      "(this must be larger than the number of neurons you want to place)\n",
      "Generating 102 points for networks/bevan_fig1_bath_current_SBML/mesh/Cube-cube-mesh-3.9602691983237216e-05.obj\n",
      "Filtering, keeping inside points: 8 / 44\n",
      "neuron_name = 'dspn_0', num = 5, neuron_path = 'data/dspn/str-dspn-e150602_c1_D1-mWT-0728MSN01-v20211026'\n",
      "stop_parallel disabled, to keep pool running.\n",
      "\n",
      "Execution time: 0.1s\n",
      "Touch detection\n",
      "Network path: networks/bevan_fig1_bath_current_SBML\n",
      "Reading SNUDDA_DATA=None from networks/bevan_fig1_bath_current_SBML/network-config.json\n",
      "Reading SNUDDA_DATA=/home/hjorth/HBP/Snudda/snudda/data from networks/bevan_fig1_bath_current_SBML/network-synapses.hdf5\n",
      "No d_view specified, running distribute neurons in serial\n",
      "No connections specified in connectivity_distribution.\n",
      "Reading SNUDDA_DATA=None from networks/bevan_fig1_bath_current_SBML/network-config.json\n",
      "stop_parallel disabled, to keep pool running.\n",
      "\n",
      "Execution time: 0.2s\n",
      "Prune synapses\n",
      "Network path: networks/bevan_fig1_bath_current_SBML\n",
      "No file networks/bevan_fig1_bath_current_SBML/pruning_merge_info.json\n",
      "stop_parallel disabled, to keep pool running.\n",
      "\n",
      "Execution time: 0.2s\n"
     ]
    }
   ],
   "source": [
    "snudda = Snudda(network_path=network_path)\n",
    "si = snudda.init_tiny(neuron_paths=neuron_path, neuron_names=neuron, number_of_neurons=[5], \n",
    "                      random_seed=1234)\n",
    "\n",
    "si.network_data[\"regions\"][\"Cube\"][\"neurons\"][\"dspn\"][\"reaction_diffusion\"] = \"data/JSON/reaction_diffusion_D1.json\"\n",
    "# si.network_data[\"regions\"][\"Cube\"][\"neurons\"][\"ispn\"][\"reaction_diffusion\"] = \"data/JSON/reaction_diffusion_D2.json-updated\"\n",
    "\n",
    "\n",
    "# How the ion channels are modified by DA\n",
    "# OBS, we include SK direkt modulation, in relality it should be modulated by DA acting on Ca \n",
    "# si.network_data[\"regions\"][\"Cube\"][\"neurons\"][neuron][\"modulation\"] = \"modulation_parameters.json\"\n",
    "si.network_data[\"regions\"][\"Cube\"][\"neurons\"][neuron][\"modulation\"] = \"data/modulation-bevan2020.json\"\n",
    "\n",
    "si.network_data[\"regions\"][\"Cube\"][\"neurons\"][neuron][\"modulation_key\"] = \"abc\"\n",
    "\n",
    "si.write_json()\n",
    "\n",
    "snudda.create_network()"
   ]
  },
  {
   "cell_type": "code",
   "execution_count": 2,
   "id": "7fe92bb9-3661-4e08-b0dc-229b935a3277",
   "metadata": {},
   "outputs": [],
   "source": [
    "# Free memory\n",
    "snudda = None\n",
    "\n",
    "mech_dir = \"/home/hjorth/HBP/BasalGangliaData/data/neurons/mechanisms\"\n",
    "sample_dt = None # 0.00005\n",
    "\n",
    "sim_config_on = os.path.join(\"data\", \"bevan_fig1_with_DA_sbml.json\")\n",
    "sim_config_off = os.path.join(\"data\", \"bevan_fig1_no_DA_sbml.json\")\n",
    "\n",
    "sim_output_neuromodulation_ON = os.path.join(network_path, \"simulation\", \"output_neuromodulation_ON.hdf5\")\n",
    "sim_output_neuromodulation_OFF = os.path.join(network_path, \"simulation\", \"output_neuromodulation_OFF.hdf5\")\n",
    "\n",
    "sim_time = 8  # 12\n",
    "n_workers = 5"
   ]
  },
  {
   "cell_type": "code",
   "execution_count": 4,
   "id": "bc0d07f8-aab9-4e84-a9b8-0a6fce1b0c56",
   "metadata": {},
   "outputs": [
    {
     "name": "stdout",
     "output_type": "stream",
     "text": [
      "mpirun -n 5 snudda simulate networks/bevan_fig1_bath_current_SBML --time 8 --simulation_config data/bevan_fig1_with_DA_sbml.json --mechdir /home/hjorth/HBP/BasalGangliaData/data/neurons/mechanisms --enable_rxd_neuromodulation\n"
     ]
    }
   ],
   "source": [
    "run_str_on = f\"mpirun -n {n_workers} snudda simulate {network_path} --time {sim_time} --simulation_config {sim_config_on} --mechdir {mech_dir} --enable_rxd_neuromodulation\"\n",
    "print(run_str_on)"
   ]
  },
  {
   "cell_type": "code",
   "execution_count": null,
   "id": "0f99fd10-818a-4678-95ee-e22361029b89",
   "metadata": {},
   "outputs": [],
   "source": [
    "os.system(run_str_on)"
   ]
  },
  {
   "cell_type": "code",
   "execution_count": 5,
   "id": "efebf00c-b6c1-48f3-86c0-8035cfb7f41a",
   "metadata": {},
   "outputs": [
    {
     "name": "stdout",
     "output_type": "stream",
     "text": [
      "mpirun -n 5 snudda simulate networks/bevan_fig1_bath_current_SBML --time 8 --simulation_config data/bevan_fig1_no_DA_sbml.json --mechdir /home/hjorth/HBP/BasalGangliaData/data/neurons/mechanisms \n"
     ]
    }
   ],
   "source": [
    "run_str_off = f\"mpirun -n {n_workers} snudda simulate {network_path} --time {sim_time} --simulation_config {sim_config_off} --mechdir {mech_dir} \"\n",
    "print(run_str_off)"
   ]
  },
  {
   "cell_type": "code",
   "execution_count": null,
   "id": "a7016cf4-f45a-40fd-b065-83bcea58a0ba",
   "metadata": {},
   "outputs": [],
   "source": [
    "os.system(run_str_off)"
   ]
  },
  {
   "cell_type": "code",
   "execution_count": 3,
   "id": "f0881e2b-f88c-4c9b-a55f-dcf740b597c1",
   "metadata": {},
   "outputs": [
    {
     "name": "stdout",
     "output_type": "stream",
     "text": [
      "Loading networks/bevan_fig1_bath_current_SBML/simulation/output_neuromodulation_ON.hdf5\n"
     ]
    }
   ],
   "source": [
    "from snudda.utils import SnuddaLoadSimulation\n",
    "\n",
    "nd = SnuddaLoadSimulation(sim_output_neuromodulation_ON)\n",
    "time = nd.get_time()\n",
    "data_pka = nd.get_data(\"PKAc\", 0)[0][0]\n",
    "data_da = nd.get_data(\"DA\", 0)[0][0]\n",
    "data_da_external = nd.get_data(\"DA\", 0)[0][0]\n",
    "\n",
    "# This is saved with add_rxd_internal_concentration_recording_all -- check that it worked \n",
    "data_pka_all0 = nd.get_data(\"PKAc\", 0)[0][0]"
   ]
  },
  {
   "cell_type": "code",
   "execution_count": 4,
   "id": "1d2f8568-239d-4d6d-98f0-60d421d24f0b",
   "metadata": {},
   "outputs": [
    {
     "data": {
      "text/plain": [
       "['AC5',\n",
       " 'AC5GaolfGTP',\n",
       " 'AC5GaolfGTP_ATP',\n",
       " 'AC5_ATP',\n",
       " 'AMP',\n",
       " 'ATP',\n",
       " 'D1R',\n",
       " 'D1RDA',\n",
       " 'D1RDAGolf',\n",
       " 'D1RGolf',\n",
       " 'DA',\n",
       " 'GaolfGDP',\n",
       " 'GaolfGTP',\n",
       " 'Gbgolf',\n",
       " 'Golf',\n",
       " 'PDE10',\n",
       " 'PDE10_cAMP',\n",
       " 'PDE10c',\n",
       " 'PDE10c_cAMP',\n",
       " 'PDE4',\n",
       " 'PDE4_cAMP',\n",
       " 'PKA',\n",
       " 'PKAc',\n",
       " 'PKAcAMP2',\n",
       " 'PKAcAMP4',\n",
       " 'PKAreg',\n",
       " 'cAMP',\n",
       " 'cal12_ms.modulation_factor',\n",
       " 'cal13_ms.modulation_factor',\n",
       " 'kaf_ms.modulation_factor_g',\n",
       " 'kaf_ms.modulation_factor_shift',\n",
       " 'kas_ms.modulation_factor',\n",
       " 'kir_ms.modulation_factor',\n",
       " 'naf_ms.modulation_factor',\n",
       " 'spikes',\n",
       " 'voltage']"
      ]
     },
     "execution_count": 4,
     "metadata": {},
     "output_type": "execute_result"
    }
   ],
   "source": [
    "nd.list_data_types(0)"
   ]
  },
  {
   "cell_type": "code",
   "execution_count": 5,
   "id": "fef42874-a1c0-4dc4-ab9c-77793be2c0c2",
   "metadata": {},
   "outputs": [],
   "source": [
    "data_types = nd.list_data_types(0)\n",
    "all_species_data = nd.get_all_data(neuron_id=0, exclude=[\"spikes\", \"voltage\"])\n",
    "time = nd.get_time()\n",
    "voltage = nd.get_data(\"voltage\", [0])"
   ]
  },
  {
   "cell_type": "code",
   "execution_count": 6,
   "id": "1fae24a1-fac5-453d-9e94-83cd50166e07",
   "metadata": {},
   "outputs": [
    {
     "data": {
      "text/html": [
       "<iframe\n",
       "    scrolling=\"no\"\n",
       "    width=\"100%\"\n",
       "    height=\"545px\"\n",
       "    src=\"iframe_figures/figure_6.html\"\n",
       "    frameborder=\"0\"\n",
       "    allowfullscreen\n",
       "></iframe>\n"
      ]
     },
     "metadata": {},
     "output_type": "display_data"
    }
   ],
   "source": [
    "import plotly.graph_objects as go\n",
    "import plotly.io as pio\n",
    "pio.renderers.default = \"iframe\"  # Do not save plots in the notebook, they can get BIG\n",
    "\n",
    "fig = go.Figure()\n",
    "for data_type in all_species_data:\n",
    "    idx = time >= 0.0\n",
    "    fig.add_trace(go.Scatter(x=time[idx], y=all_species_data[data_type][0][0].T[0][idx], name=data_type, line={\"width\":4}))\n",
    "\n",
    "\"\"\"\n",
    "fig.update_layout(xaxis_title=\"Time (s)\", yaxis_title=\"Concentration\", width=1000, height=800,\n",
    "                 font={\"size\":18},  # General font size for all elements\n",
    "                 legend={\"font\":{\"size\":16}},  # Specific font size for legend\n",
    "                 xaxis={\"title\":{\"font\":{\"size\":20}}, \"tickfont\":{\"size\":14}},  # X-axis title and tick labels\n",
    "                 yaxis={\"title\":{\"font\":{\"size\":20}}, \"tickfont\":{\"size\":14}})   # Y-axis title and tick labels\n",
    "\"\"\"\n",
    "fig.show()"
   ]
  },
  {
   "cell_type": "code",
   "execution_count": 7,
   "id": "8a709771-fd02-4712-9b4e-d57e49a737fc",
   "metadata": {},
   "outputs": [
    {
     "data": {
      "text/html": [
       "<iframe\n",
       "    scrolling=\"no\"\n",
       "    width=\"1020px\"\n",
       "    height=\"820\"\n",
       "    src=\"iframe_figures/figure_7.html\"\n",
       "    frameborder=\"0\"\n",
       "    allowfullscreen\n",
       "></iframe>\n"
      ]
     },
     "metadata": {},
     "output_type": "display_data"
    },
    {
     "data": {
      "text/html": [
       "<iframe\n",
       "    scrolling=\"no\"\n",
       "    width=\"1020px\"\n",
       "    height=\"820\"\n",
       "    src=\"iframe_figures/figure_7.html\"\n",
       "    frameborder=\"0\"\n",
       "    allowfullscreen\n",
       "></iframe>\n"
      ]
     },
     "metadata": {},
     "output_type": "display_data"
    }
   ],
   "source": [
    "# Reporting plot\n",
    "\n",
    "import plotly.graph_objects as go\n",
    "import plotly.io as pio\n",
    "pio.renderers.default = \"iframe\"  # Do not save plots in the notebook, they can get BIG\n",
    "\n",
    "fig = go.Figure()\n",
    "for data_type in [\"D1RDA\", \"PKAc\", \"cAMP\"]: #all_species_data:\n",
    "    idx = time >= 0.0\n",
    "    fig.add_trace(go.Scatter(x=time[idx], y=all_species_data[data_type][0][0].T[0][idx], name=data_type, line={\"width\":4}))\n",
    "\n",
    "fig.update_layout(xaxis_title=\"Time (s)\", yaxis_title=\"Concentration\", width=1000, height=800,\n",
    "                  font={\"size\":18},  # General font size for all elements\n",
    "                  legend={\"font\":{\"size\":50}},  # Specific font size for legend\n",
    "                  xaxis={\"title\":{\"font\":{\"size\":40}}, \"tickfont\":{\"size\":30}},  # X-axis title and tick labels\n",
    "                  yaxis={\"title\":{\"font\":{\"size\":40}}, \"tickfont\":{\"size\":30}})   # Y-axis title and tick labels\n",
    "\n",
    "\n",
    "fig.show()\n",
    "\n",
    "fig.write_image(\"bevan_1-example-da-cascade-1.png\", width=1200, height=800)\n",
    "\n",
    "\n",
    "fig2 = go.Figure()\n",
    "for data_type in [\"cal12_ms.modulation_factor\", \"cal13_ms.modulation_factor\", \n",
    "                  \"kas_ms.modulation_factor\", \"kir_ms.modulation_factor\", \"naf_ms.modulation_factor\", ]: #all_species_data:\n",
    "    idx = time >= 0.0\n",
    "    data_type_str = data_type.replace(\"modulation_factor\", \"modulation\")\n",
    "    fig2.add_trace(go.Scatter(x=time[idx], y=all_species_data[data_type][0][0].T[0][idx], name=data_type_str, line={\"width\":4}))\n",
    "\n",
    "fig2.update_layout(xaxis_title=\"Time (s)\", yaxis_title=\"Modulation factor\", width=1000, height=800,\n",
    "                  font={\"size\":18},  # General font size for all elements\n",
    "                  legend={\"font\":{\"size\":50}},  # Specific font size for legend\n",
    "                  xaxis={\"title\":{\"font\":{\"size\":40}}, \"tickfont\":{\"size\":30}},  # X-axis title and tick labels\n",
    "                  yaxis={\"title\":{\"font\":{\"size\":40}}, \"tickfont\":{\"size\":30}})   # Y-axis title and tick labels\n",
    "\n",
    "fig2.show()\n",
    "fig2.write_image(\"bevan_fig1_biochem.png\", width=1200, height=800)\n",
    "\n",
    "nd = None"
   ]
  },
  {
   "cell_type": "code",
   "execution_count": 8,
   "id": "e09b1fcd-375f-428d-8832-5dc9167b4dfa",
   "metadata": {},
   "outputs": [
    {
     "name": "stdout",
     "output_type": "stream",
     "text": [
      "Loading networks/bevan_fig1_bath_current_SBML/simulation/output_neuromodulation_ON.hdf5\n"
     ]
    }
   ],
   "source": [
    "from snudda.utils import SnuddaLoadSimulation\n",
    "\n",
    "nd_on = SnuddaLoadSimulation(sim_output_neuromodulation_ON)\n",
    "data_types = nd_on.list_data_types(0)\n",
    "all_species_data = nd_on.get_all_data(neuron_id=0, exclude=[\"spikes\", \"voltage\"])\n",
    "time_on = nd_on.get_time()\n",
    "voltage_on = nd_on.get_data(\"voltage\")"
   ]
  },
  {
   "cell_type": "code",
   "execution_count": 9,
   "id": "ae39b75f-6fae-4f48-84ec-6dc23aea3d82",
   "metadata": {},
   "outputs": [
    {
     "name": "stdout",
     "output_type": "stream",
     "text": [
      "Loading networks/bevan_fig1_bath_current_SBML/simulation/output_neuromodulation_OFF.hdf5\n"
     ]
    }
   ],
   "source": [
    "nd_off = SnuddaLoadSimulation(sim_output_neuromodulation_OFF)\n",
    "time_off = nd_off.get_time()\n",
    "voltage_off = nd_off.get_data(\"voltage\")"
   ]
  },
  {
   "cell_type": "code",
   "execution_count": 10,
   "id": "73046f3f-8c22-4c7a-8228-b2f7e479e1c6",
   "metadata": {},
   "outputs": [
    {
     "data": {
      "text/plain": [
       "{0: array([[-0.086     , -0.086     ],\n",
       "        [-0.08614763, -0.08614763],\n",
       "        [-0.08624246, -0.08624246],\n",
       "        ...,\n",
       "        [-0.05623192, -0.05623192],\n",
       "        [-0.05622798, -0.05622798],\n",
       "        [-0.05622404, -0.05622404]]),\n",
       " 1: array([[-0.086     , -0.086     ],\n",
       "        [-0.08615903, -0.08615903],\n",
       "        [-0.08626254, -0.08626254],\n",
       "        ...,\n",
       "        [-0.06665854, -0.06665854],\n",
       "        [-0.06676704, -0.06676704],\n",
       "        [-0.06687107, -0.06687107]]),\n",
       " 2: array([[-0.086     , -0.086     ],\n",
       "        [-0.08615812, -0.08615812],\n",
       "        [-0.08626215, -0.08626215],\n",
       "        ...,\n",
       "        [-0.0619864 , -0.0619864 ],\n",
       "        [-0.06198573, -0.06198573],\n",
       "        [-0.06198506, -0.06198506]]),\n",
       " 3: array([[-0.086     , -0.086     ],\n",
       "        [-0.0861413 , -0.0861413 ],\n",
       "        [-0.08623328, -0.08623328],\n",
       "        ...,\n",
       "        [-0.05072201, -0.05072201],\n",
       "        [-0.05071086, -0.05071086],\n",
       "        [-0.05069967, -0.05069967]]),\n",
       " 4: array([[-0.086     , -0.086     ],\n",
       "        [-0.08616114, -0.08616114],\n",
       "        [-0.08626498, -0.08626498],\n",
       "        ...,\n",
       "        [-0.0574852 , -0.0574852 ],\n",
       "        [-0.05748332, -0.05748332],\n",
       "        [-0.05748143, -0.05748143]])}"
      ]
     },
     "execution_count": 10,
     "metadata": {},
     "output_type": "execute_result"
    }
   ],
   "source": [
    "voltage_off[0]"
   ]
  },
  {
   "cell_type": "code",
   "execution_count": 36,
   "id": "6b91148a-79d1-4923-8a86-f5423c2182ea",
   "metadata": {},
   "outputs": [],
   "source": [
    "import numpy as np\n",
    "import json\n",
    "with open(\"data/bevan_fig1_with_DA_sbml.json\", \"r\") as f:\n",
    "    config = json.load(f)\n",
    "\n",
    "da_time = np.array(config[\"bath_application\"][\"DA\"][\"time\"])\n",
    "da_conc = np.array(config[\"bath_application\"][\"DA\"][\"concentration\"]) * 1e6\n"
   ]
  },
  {
   "cell_type": "code",
   "execution_count": 37,
   "id": "b307088e-4172-4383-80df-76060e463e67",
   "metadata": {},
   "outputs": [
    {
     "data": {
      "text/html": [
       "<iframe\n",
       "    scrolling=\"no\"\n",
       "    width=\"1020px\"\n",
       "    height=\"820\"\n",
       "    src=\"iframe_figures/figure_37.html\"\n",
       "    frameborder=\"0\"\n",
       "    allowfullscreen\n",
       "></iframe>\n"
      ]
     },
     "metadata": {},
     "output_type": "display_data"
    },
    {
     "data": {
      "text/html": [
       "<iframe\n",
       "    scrolling=\"no\"\n",
       "    width=\"1020px\"\n",
       "    height=\"820\"\n",
       "    src=\"iframe_figures/figure_37.html\"\n",
       "    frameborder=\"0\"\n",
       "    allowfullscreen\n",
       "></iframe>\n"
      ]
     },
     "metadata": {},
     "output_type": "display_data"
    },
    {
     "data": {
      "text/html": [
       "<iframe\n",
       "    scrolling=\"no\"\n",
       "    width=\"1020px\"\n",
       "    height=\"820\"\n",
       "    src=\"iframe_figures/figure_37.html\"\n",
       "    frameborder=\"0\"\n",
       "    allowfullscreen\n",
       "></iframe>\n"
      ]
     },
     "metadata": {},
     "output_type": "display_data"
    },
    {
     "data": {
      "text/html": [
       "<iframe\n",
       "    scrolling=\"no\"\n",
       "    width=\"1020px\"\n",
       "    height=\"820\"\n",
       "    src=\"iframe_figures/figure_37.html\"\n",
       "    frameborder=\"0\"\n",
       "    allowfullscreen\n",
       "></iframe>\n"
      ]
     },
     "metadata": {},
     "output_type": "display_data"
    },
    {
     "data": {
      "text/html": [
       "<iframe\n",
       "    scrolling=\"no\"\n",
       "    width=\"1020px\"\n",
       "    height=\"820\"\n",
       "    src=\"iframe_figures/figure_37.html\"\n",
       "    frameborder=\"0\"\n",
       "    allowfullscreen\n",
       "></iframe>\n"
      ]
     },
     "metadata": {},
     "output_type": "display_data"
    }
   ],
   "source": [
    "# import plotly.graph_objects as go\n",
    "import plotly.io as pio\n",
    "pio.renderers.default = \"iframe\"  # Do not save plots in the notebook, they can get BIG\n",
    "\n",
    "\n",
    "for neuron_id in voltage_on[0].keys():\n",
    "    \n",
    "    fig = go.Figure()\n",
    "    \n",
    "    sct_on = go.Scatter(x=time_on, y=voltage_on[0][neuron_id][:,0], name=\"DA\", opacity=0.5,  line={\"width\":4, \"color\":\"red\"}, yaxis=\"y1\")\n",
    "    sct_off = go.Scatter(x=time_off, y=voltage_off[0][neuron_id][:,0], name=\"No DA\", opacity=0.5,  line={\"width\":4, \"color\":\"black\"}, yaxis=\"y1\")\n",
    "\n",
    "    da_curve = go.Scatter(x=da_time, y=da_conc, opacity=0.2, name=\"DA conc\", line={\"width\":0, \"color\": \"rgba(255, 0, 0, 0.2)\"},mode=\"lines\",  \n",
    "                          yaxis=\"y2\",fill=\"tozeroy\", fillcolor=\"rgba(255, 0, 0, 0.2)\")\n",
    "    \n",
    "    fig.add_traces([sct_on, sct_off, da_curve])\n",
    "\n",
    "    fig.update_layout(\n",
    "        xaxis_title=\"Time (s)\", \n",
    "        yaxis_title=\"Voltage (V)\",\n",
    "        width=1000, height=800,\n",
    "        font={\"size\":18},\n",
    "        legend={\"font\":{\"size\":30}},  # Increased size slightly for readability\n",
    "        xaxis={\"title\":{\"font\":{\"size\":40}}, \"tickfont\":{\"size\":30}, \"range\":[0,8]},\n",
    "        yaxis=dict(  # Primary y-axis (Voltage)\n",
    "            title=\"Voltage (V)\",\n",
    "            titlefont={\"size\":40},\n",
    "            tickfont={\"size\":30},\n",
    "            side=\"left\"\n",
    "        ),\n",
    "        yaxis2=dict(  # Secondary y-axis (DA)\n",
    "            title=\"DA Conc (nM)\",\n",
    "            titlefont={\"size\":30},\n",
    "            tickfont={\"size\":20},\n",
    "            overlaying=\"y\",\n",
    "            side=\"right\",\n",
    "            range=[0, max(da_conc)*10],\n",
    "            tickvals=[0, max(da_conc)],\n",
    "            ticktext=[\"0\", f\"{max(da_conc)}\"],\n",
    "            showgrid=False\n",
    "        )\n",
    "    )\n",
    "\n",
    "    fig.show()\n",
    "    fig.write_image(f\"bevan-figure-{neuron_id}-volt-trace.png\", scale=2, height=800, width=1200)"
   ]
  },
  {
   "cell_type": "code",
   "execution_count": 16,
   "id": "2446d96a-30f5-4d22-8f74-c58cc3e75c78",
   "metadata": {},
   "outputs": [
    {
     "name": "stdout",
     "output_type": "stream",
     "text": [
      "Loading networks/bevan_fig1_bath_current_SBML/simulation/output_neuromodulation_ON.hdf5\n",
      "Loading networks/bevan_fig1_bath_current_SBML/simulation/output_neuromodulation_OFF.hdf5\n"
     ]
    }
   ],
   "source": [
    "from snudda.plotting import SnuddaPlotSpikeRaster2\n",
    "\n",
    "network_file = os.path.join(network_path, \"network-synapses.hdf5\")\n",
    "spr_on = SnuddaPlotSpikeRaster2(network_path=network_path, network_file=network_file, simulation_file=sim_output_neuromodulation_ON)\n",
    "\n",
    "network_file = os.path.join(network_path, \"network-synapses.hdf5\")\n",
    "spr_off = SnuddaPlotSpikeRaster2(network_path=network_path, network_file=network_file, simulation_file=sim_output_neuromodulation_OFF)\n",
    "\n",
    "time_ranges = [(2,3), (6,7)]\n",
    "freq_on = spr_on.snudda_simulation_load.get_frequency(neuron_id=[0, 1, 2, 3], time_ranges=time_ranges)\n",
    "freq_off = spr_off.snudda_simulation_load.get_frequency(neuron_id=[0, 1, 2, 3], time_ranges=time_ranges)\n",
    "\n"
   ]
  },
  {
   "cell_type": "code",
   "execution_count": 18,
   "id": "0909f4f7-417d-428d-a336-b0275f18b0c2",
   "metadata": {},
   "outputs": [
    {
     "data": {
      "text/plain": [
       "(array([[ 8., 28.],\n",
       "        [11., 32.],\n",
       "        [ 6., 25.],\n",
       "        [ 7., 38.]]),\n",
       " array([[ 8.,  9.],\n",
       "        [11., 11.],\n",
       "        [ 6.,  7.],\n",
       "        [ 7.,  6.]]))"
      ]
     },
     "execution_count": 18,
     "metadata": {},
     "output_type": "execute_result"
    }
   ],
   "source": [
    "freq_on, freq_off"
   ]
  },
  {
   "cell_type": "code",
   "execution_count": 49,
   "id": "3429c418-0b8d-4600-b123-7adbdffe8efc",
   "metadata": {},
   "outputs": [],
   "source": [
    "def make_freq_plot(data, title):\n",
    "\n",
    "    fig = go.Figure()\n",
    "\n",
    "    # Add one line per row\n",
    "    for row in data:\n",
    "        fig.add_trace(go.Scatter(\n",
    "            x=[0, 1],\n",
    "            y=row,\n",
    "            mode='lines+markers',\n",
    "            line=dict(color='gray', width=2),\n",
    "            marker=dict(size=10, color='black'),\n",
    "            showlegend=False\n",
    "        ))\n",
    "\n",
    "    # Mean line\n",
    "    mean_vals = np.mean(data, axis=0)\n",
    "    fig.add_trace(go.Scatter(\n",
    "        x=[0, 1],\n",
    "        y=mean_vals,\n",
    "        mode='lines+markers',\n",
    "        line=dict(color='black', width=6),\n",
    "        marker=dict(size=12, color='black'),\n",
    "        name='Mean'\n",
    "    ))\n",
    "\n",
    "    # Layout\n",
    "    fig.update_layout(\n",
    "        title=title,\n",
    "        xaxis=dict(\n",
    "            tickmode='array',\n",
    "            tickvals=[0, 1],\n",
    "            ticktext=[\"t=(2,3)\", \"t=(6,7)\"],\n",
    "            title='',\n",
    "            tickfont=dict(size=18),\n",
    "            titlefont=dict(size=20)\n",
    "        ),\n",
    "        yaxis=dict(\n",
    "            title='Frequency (Hz)',\n",
    "            titlefont=dict(size=20),\n",
    "            tickfont=dict(size=18)\n",
    "        ),\n",
    "        width=300,\n",
    "        height=500,\n",
    "        font=dict(size=16)\n",
    "    )\n",
    "    return fig\n",
    "\n"
   ]
  },
  {
   "cell_type": "code",
   "execution_count": 50,
   "id": "1b639440-c8e3-4918-8c20-c6192e672bf2",
   "metadata": {},
   "outputs": [
    {
     "data": {
      "text/html": [
       "<iframe\n",
       "    scrolling=\"no\"\n",
       "    width=\"320px\"\n",
       "    height=\"520\"\n",
       "    src=\"iframe_figures/figure_50.html\"\n",
       "    frameborder=\"0\"\n",
       "    allowfullscreen\n",
       "></iframe>\n"
      ]
     },
     "metadata": {},
     "output_type": "display_data"
    }
   ],
   "source": [
    "# Create and show plots\n",
    "fig_on = make_freq_plot(freq_on, \"With Dopamine\")\n",
    "fig_on.show()\n",
    "fig_on.write_image(\"fig1_frequency_change_with_da.png\", scale=2)"
   ]
  },
  {
   "cell_type": "code",
   "execution_count": 52,
   "id": "b5763b11-9b50-4ef6-8555-301d7bf5ccb7",
   "metadata": {},
   "outputs": [
    {
     "data": {
      "text/html": [
       "<iframe\n",
       "    scrolling=\"no\"\n",
       "    width=\"320px\"\n",
       "    height=\"520\"\n",
       "    src=\"iframe_figures/figure_52.html\"\n",
       "    frameborder=\"0\"\n",
       "    allowfullscreen\n",
       "></iframe>\n"
      ]
     },
     "metadata": {},
     "output_type": "display_data"
    }
   ],
   "source": [
    "fig_off = make_freq_plot(freq_off, \"Without Dopamine\")\n",
    "fig_off.show()\n",
    "fig_off.write_image(\"fig1_frequency_change_no_da.png\", scale=2)"
   ]
  },
  {
   "cell_type": "code",
   "execution_count": null,
   "id": "855a6b96-a56e-4830-87e5-6bd5486554d1",
   "metadata": {},
   "outputs": [],
   "source": []
  },
  {
   "cell_type": "markdown",
   "id": "a02d3ecb-cd6d-470d-bf4a-d598bb9e9d5c",
   "metadata": {},
   "source": [
    "## Experiment 2\n",
    "\n",
    "Can we show persistence for 15 minutes? (Compare Figure 2)"
   ]
  },
  {
   "cell_type": "code",
   "execution_count": null,
   "id": "77c9fb7e-178a-4238-86f4-71ef3d9b3c4b",
   "metadata": {},
   "outputs": [],
   "source": []
  },
  {
   "cell_type": "markdown",
   "id": "6c3813bd-b192-42f9-9f80-dd2cadce385d",
   "metadata": {},
   "source": [
    "## Experiment 3\n",
    "\n",
    "Current injection for 3 seconds, trigger 2 (4) spikes in dSPN. After DA application (1 second, 0.5u M) spikes come earlier and at a higher frequency.\n",
    "\n",
    "Compare Figure 4 B, C, D"
   ]
  },
  {
   "cell_type": "code",
   "execution_count": null,
   "id": "4d9a8043-ea3a-4b3b-9aa0-ba1314660f99",
   "metadata": {},
   "outputs": [],
   "source": []
  },
  {
   "cell_type": "markdown",
   "id": "161b3754-821f-4311-adbc-2ae15d42c926",
   "metadata": {},
   "source": [
    "## Experiment 4\n",
    "\n",
    "Subthreshold current injection (<10 mV depolarisation). Size of depolarisation not affected by DA.\n",
    "\n",
    "Suprathreshold current injection, with DA lower threshold, and faster spiking.\n",
    "\n",
    "Compare Figure 5"
   ]
  },
  {
   "cell_type": "code",
   "execution_count": null,
   "id": "e5f7d5a2-329f-4704-aa88-917dbfc86408",
   "metadata": {},
   "outputs": [],
   "source": [
    "\n"
   ]
  },
  {
   "cell_type": "code",
   "execution_count": null,
   "id": "413a1e94-c144-4fd7-bdc7-f2ef4b3cf54a",
   "metadata": {},
   "outputs": [],
   "source": [
    "Experiment 5\n",
    "\n",
    "Compare Figure 6"
   ]
  }
 ],
 "metadata": {
  "kernelspec": {
   "display_name": "Python 3 (ipykernel)",
   "language": "python",
   "name": "python3"
  },
  "language_info": {
   "codemirror_mode": {
    "name": "ipython",
    "version": 3
   },
   "file_extension": ".py",
   "mimetype": "text/x-python",
   "name": "python",
   "nbconvert_exporter": "python",
   "pygments_lexer": "ipython3",
   "version": "3.9.2"
  }
 },
 "nbformat": 4,
 "nbformat_minor": 5
}
