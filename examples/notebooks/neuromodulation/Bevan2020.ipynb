{
 "cells": [
  {
   "cell_type": "markdown",
   "id": "b0b37371-3021-4a72-a880-c58a7e8d4160",
   "metadata": {},
   "source": [
    "# Virtual experiments, replicating Bevan et al, 2020\n",
    "\n",
    "In this notebook, we try and replicate a few of the dopamine experiments in Bevan et al 2020.\n",
    "\n",
    "4Hz optogenetical stimulation (5 pulses) yielded approximately 0.3 uM DA concentration, while 20Hz stimulation yielded (5 pulses) on average 0.5 uM DA concentration. Here we model the optogenetic activation by setting the DA concentration to these values. In both cases the duration of the resulting DA pulse was set to 0.5 seconds. IS THIS REASONABLE, FOUND NO DATA IN ARTICLE...\n"
   ]
  },
  {
   "cell_type": "markdown",
   "id": "00ab7d4b-5872-4226-ba34-0d3248f394a5",
   "metadata": {},
   "source": [
    "## Experiment 1\n",
    "\n",
    "Current injection driving the dSPN to approximately 10Hz, after 5 seconds 0.3 uM DA is added, then current injection is active for another 5 seconds.\n",
    "\n",
    "Repeat experiment, but this time current injection drives dSPN to approximately 15Hz, and then after 5 seconds 0.5 uM DA is added.\n",
    "\n",
    "Compare to Figure 1E, 1G, 1H"
   ]
  },
  {
   "cell_type": "code",
   "execution_count": null,
   "id": "5f0add18-69c0-44fc-9473-4325545e2dd2",
   "metadata": {},
   "outputs": [],
   "source": []
  },
  {
   "cell_type": "markdown",
   "id": "a02d3ecb-cd6d-470d-bf4a-d598bb9e9d5c",
   "metadata": {},
   "source": [
    "## Experiment 2\n",
    "\n",
    "Can we show persistence for 15 minutes? (Compare Figure 2)"
   ]
  },
  {
   "cell_type": "code",
   "execution_count": null,
   "id": "77c9fb7e-178a-4238-86f4-71ef3d9b3c4b",
   "metadata": {},
   "outputs": [],
   "source": []
  },
  {
   "cell_type": "markdown",
   "id": "6c3813bd-b192-42f9-9f80-dd2cadce385d",
   "metadata": {},
   "source": [
    "## Experiment 3\n",
    "\n",
    "Current injection for 3 seconds, trigger 2 (4) spikes in dSPN. After DA application (1 second, 0.5u M) spikes come earlier and at a higher frequency.\n",
    "\n",
    "Compare Figure 4 B, C, D"
   ]
  },
  {
   "cell_type": "code",
   "execution_count": null,
   "id": "4d9a8043-ea3a-4b3b-9aa0-ba1314660f99",
   "metadata": {},
   "outputs": [],
   "source": []
  },
  {
   "cell_type": "markdown",
   "id": "161b3754-821f-4311-adbc-2ae15d42c926",
   "metadata": {},
   "source": [
    "## Experiment 4\n",
    "\n",
    "Subthreshold current injection (<10 mV depolarisation). Size of depolarisation not affected by DA.\n",
    "\n",
    "Suprathreshold current injection, with DA lower threshold, and faster spiking.\n",
    "\n",
    "Compare Figure 5"
   ]
  },
  {
   "cell_type": "code",
   "execution_count": null,
   "id": "e5f7d5a2-329f-4704-aa88-917dbfc86408",
   "metadata": {},
   "outputs": [],
   "source": [
    "\n"
   ]
  },
  {
   "cell_type": "code",
   "execution_count": null,
   "id": "413a1e94-c144-4fd7-bdc7-f2ef4b3cf54a",
   "metadata": {},
   "outputs": [],
   "source": [
    "Experiment 5\n",
    "\n",
    "Compare Figure 6"
   ]
  }
 ],
 "metadata": {
  "kernelspec": {
   "display_name": "Python 3 (ipykernel)",
   "language": "python",
   "name": "python3"
  },
  "language_info": {
   "codemirror_mode": {
    "name": "ipython",
    "version": 3
   },
   "file_extension": ".py",
   "mimetype": "text/x-python",
   "name": "python",
   "nbconvert_exporter": "python",
   "pygments_lexer": "ipython3",
   "version": "3.11.2"
  }
 },
 "nbformat": 4,
 "nbformat_minor": 5
}
