{
 "cells": [
  {
   "cell_type": "markdown",
   "id": "b0b37371-3021-4a72-a880-c58a7e8d4160",
   "metadata": {},
   "source": [
    "# Virtual experiments, replicating Lahiri and Bevan 2020\n",
    "\n",
    "In this notebook, we try and replicate a few of the dopamine experiments in Lahiri and Bevan 2020.\n",
    "\n",
    "4Hz optogenetical stimulation (5 pulses) yielded approximately 0.3 uM DA concentration, while 20Hz stimulation yielded (5 pulses) on average 0.5 uM DA concentration. Here we model the optogenetic activation by setting the DA concentration to these values. In both cases the duration of the resulting DA pulse was set to 5 seconds. \n"
   ]
  },
  {
   "cell_type": "markdown",
   "id": "00ab7d4b-5872-4226-ba34-0d3248f394a5",
   "metadata": {},
   "source": [
    "## Experiment 1\n",
    "\n",
    "Current injection driving the dSPN to approximately 10Hz, after 5 seconds 0.3 uM DA is added, then current injection is active for another 5 seconds.\n",
    "\n",
    "Repeat experiment, but this time current injection drives dSPN to approximately 15Hz, and then after 5 seconds 0.5 uM DA is added.\n",
    "\n",
    "Compare to Figure 1E, 1G, 1H"
   ]
  },
  {
   "cell_type": "code",
   "execution_count": 1,
   "id": "5f0add18-69c0-44fc-9473-4325545e2dd2",
   "metadata": {},
   "outputs": [],
   "source": [
    "import os\n",
    "from snudda import Snudda\n",
    "\n",
    "neuron = \"dspn\"\n",
    "# neuron = \"ispn\"\n",
    "\n",
    "neuron_path = os.path.join(\"data\", neuron)\n",
    "network_path = os.path.join(\"networks\", \"bevan_fig1_bath_current_SBML\")"
   ]
  },
  {
   "cell_type": "code",
   "execution_count": 2,
   "id": "9b576389-21a5-4ce0-9f0d-9b183763e0f6",
   "metadata": {},
   "outputs": [
    {
     "name": "stdout",
     "output_type": "stream",
     "text": [
      "Warning, no snudda_data set!\n",
      "Adding neurons: dspn from dir data/dspn\n",
      "Writing networks/bevan_fig1_bath_current_SBML/network-config.json\n",
      "Writing networks/bevan_fig1_bath_current_SBML/network-config.json\n",
      "Placing neurons\n",
      "Network path: networks/bevan_fig1_bath_current_SBML\n",
      "Reading SNUDDA_DATA=None from networks/bevan_fig1_bath_current_SBML/network-config.json\n",
      "Reading SNUDDA_DATA=/home/hjorth/HBP/Snudda/snudda/data from networks/bevan_fig1_bath_current_SBML/network-synapses.hdf5\n",
      "No n_putative_points and putative_density, setting n_putative_points = 46\n",
      "(this must be larger than the number of neurons you want to place)\n",
      "Generating 46 points for networks/bevan_fig1_bath_current_SBML/mesh/Cube-cube-mesh-2.3159794767993218e-05.obj\n",
      "Filtering, keeping inside points: 1 / 20\n",
      "Managed to create 1 putative points within the volume.\n",
      "  WARNING --> is the volume too small? You can create new cube mesh using create_cube_mesh.py\n",
      "\n",
      "Example how to use create_cube_mesh.py:\n",
      "from snudda.place.create_cube_mesh import create_cube_mesh\n",
      "create_cube_mesh(file_name='your_cube_mesh_name.obj', \n",
      "                 centre_point=(0,0,0), side_len=300e-6,\n",
      "                 description='Adjust side_len to get correct neuron density')\n",
      "\n",
      "neuron_name = 'dspn_0', num = 1, neuron_path = 'data/dspn/str-dspn-e150602_c1_D1-mWT-0728MSN01-v20211026'\n",
      "stop_parallel disabled, to keep pool running.\n",
      "\n",
      "Execution time: 0.1s\n",
      "Touch detection\n",
      "Network path: networks/bevan_fig1_bath_current_SBML\n",
      "Reading SNUDDA_DATA=None from networks/bevan_fig1_bath_current_SBML/network-config.json\n",
      "Reading SNUDDA_DATA=/home/hjorth/HBP/Snudda/snudda/data from networks/bevan_fig1_bath_current_SBML/network-synapses.hdf5\n",
      "No d_view specified, running distribute neurons in serial\n",
      "No connections specified in connectivity_distribution.\n",
      "Reading SNUDDA_DATA=None from networks/bevan_fig1_bath_current_SBML/network-config.json\n",
      "stop_parallel disabled, to keep pool running.\n",
      "\n",
      "Execution time: 0.1s\n",
      "Prune synapses\n",
      "Network path: networks/bevan_fig1_bath_current_SBML\n",
      "No file networks/bevan_fig1_bath_current_SBML/pruning_merge_info.json\n",
      "stop_parallel disabled, to keep pool running.\n",
      "\n",
      "Execution time: 0.1s\n"
     ]
    }
   ],
   "source": [
    "snudda = Snudda(network_path=network_path)\n",
    "si = snudda.init_tiny(neuron_paths=neuron_path, neuron_names=neuron, number_of_neurons=[1], \n",
    "                      random_seed=123)\n",
    "\n",
    "si.network_data[\"regions\"][\"Cube\"][\"neurons\"][\"dspn\"][\"reaction_diffusion\"] = \"data/JSON/reaction_diffusion_D1.json\"\n",
    "# si.network_data[\"regions\"][\"Cube\"][\"neurons\"][\"ispn\"][\"reaction_diffusion\"] = \"data/JSON/reaction_diffusion_D2.json-updated\"\n",
    "\n",
    "\n",
    "# How the ion channels are modified by DA\n",
    "si.network_data[\"regions\"][\"Cube\"][\"neurons\"][neuron][\"modulation\"] = \"test-modulation.json\"\n",
    "\n",
    "si.network_data[\"regions\"][\"Cube\"][\"neurons\"][neuron][\"modulation_key\"] = \"abc\"\n",
    "\n",
    "si.write_json()\n",
    "\n",
    "snudda.create_network()"
   ]
  },
  {
   "cell_type": "code",
   "execution_count": 3,
   "id": "7fe92bb9-3661-4e08-b0dc-229b935a3277",
   "metadata": {},
   "outputs": [],
   "source": [
    "# Free memory\n",
    "snudda = None\n",
    "\n",
    "mech_dir = \"/home/hjorth/HBP/BasalGangliaData/data/neurons/mechanisms\"\n",
    "sample_dt = None # 0.00005\n",
    "\n",
    "sim_config_on = os.path.join(\"data\", \"bevan_fig1_with_DA_sbml.json\")\n",
    "sim_config_off = os.path.join(\"data\", \"bevan_fig1_no_DA_sbml.json\")\n",
    "\n",
    "sim_output_neuromodulation_ON = os.path.join(network_path, \"simulation\", \"output_neuromodulation_ON.hdf5\")\n",
    "sim_output_neuromodulation_OFF = os.path.join(network_path, \"simulation\", \"output_neuromodulation_OFF.hdf5\")\n",
    "\n",
    "sim_time = 12\n",
    "n_workers = 1"
   ]
  },
  {
   "cell_type": "code",
   "execution_count": 4,
   "id": "bc0d07f8-aab9-4e84-a9b8-0a6fce1b0c56",
   "metadata": {},
   "outputs": [
    {
     "name": "stdout",
     "output_type": "stream",
     "text": [
      "snudda simulate networks/bevan_fig1_bath_current_SBML --time 12 --simulation_config data/bevan_fig1_with_DA_sbml.json --mechdir /home/hjorth/HBP/BasalGangliaData/data/neurons/mechanisms --enable_rxd_neuromodulation\n"
     ]
    }
   ],
   "source": [
    "run_str_on = f\"snudda simulate {network_path} --time {sim_time} --simulation_config {sim_config_on} --mechdir {mech_dir} --enable_rxd_neuromodulation\"\n",
    "print(run_str_on)"
   ]
  },
  {
   "cell_type": "code",
   "execution_count": 5,
   "id": "0f99fd10-818a-4678-95ee-e22361029b89",
   "metadata": {},
   "outputs": [
    {
     "name": "stdout",
     "output_type": "stream",
     "text": [
      "numprocs=1\n",
      "args.ipython_profile = None\n",
      "args: Namespace(action='simulate', path='networks/bevan_fig1_bath_current_SBML', network_file=None, input_file=None, output_file=None, time=12.0, snudda_data=None, simulation_config='data/bevan_fig1_with_DA_sbml.json', record_volt=True, randomseed=None, disable_synapses=None, disable_gj=None, mech_dir='/home/hjorth/HBP/BasalGangliaData/data/neurons/mechanisms', profile=False, verbose=False, exportCoreNeuron=False, record_all=None, enable_rxd_neuromodulation=True, disable_rxd_neuromodulation=None, ipython_profile=None)\n",
      "MPI Rank: 0, Size: 1\n",
      "Using input file None\n",
      "NEURON mechanisms already compiled, make sure you have the correct version of NEURON modules.\n",
      "If you delete x86_64, aarch64, arm64 directories (or nrnmech.dll) then you will force a recompilation of the modules.\n",
      "Reading SNUDDA_DATA=None from networks/bevan_fig1_bath_current_SBML/network-config.json\n",
      "Reading SNUDDA_DATA=/home/hjorth/HBP/Snudda/snudda/data from networks/bevan_fig1_bath_current_SBML/network-synapses.hdf5\n",
      "MPI Rank: 0, Size: 1 -- NEURON: This is node 0 out of 1\n",
      "Reading config: data/bevan_fig1_with_DA_sbml.json\n",
      "Loading simulation_config from data/bevan_fig1_with_DA_sbml.json\n",
      "0 : Memory status: 68% free\n",
      "0 : Memory status: 68% free\n",
      "Added 0.0 gap junctions to simulation (0 total)\n",
      "Added 0 synapses to simulation (0 total)\n",
      "0 : Memory status: 68% free\n",
      "0 : Memory status: 68% free\n",
      "0 : Memory status: 68% free\n",
      "Running simulation for 12000.0 ms.\n",
      "Running simulation for 12.0 s\n",
      "Running Neuron simulator 12000 ms, with dt=5.0\n",
      "  1% done. Elapsed: 0.1 s, estimated time left: 5.5 s\n",
      "100% done. Elapsed: 5.2 s, estimated time left: 0.0 s\n",
      "Neuron simulation finished\n",
      "Simulation run time: 6.8 s\n",
      "Simulation done, saving output\n",
      "Writing network output to networks/bevan_fig1_bath_current_SBML/simulation/output_neuromodulation_ON.hdf5\n",
      "Using sample dt = None (sample step size None)\n",
      "Worker 1/1 writing data to networks/bevan_fig1_bath_current_SBML/simulation/output_neuromodulation_ON.hdf5\n",
      "Program run time: 9.6s\n"
     ]
    },
    {
     "data": {
      "text/plain": [
       "0"
      ]
     },
     "execution_count": 5,
     "metadata": {},
     "output_type": "execute_result"
    }
   ],
   "source": [
    "os.system(run_str_on)"
   ]
  },
  {
   "cell_type": "code",
   "execution_count": 6,
   "id": "efebf00c-b6c1-48f3-86c0-8035cfb7f41a",
   "metadata": {},
   "outputs": [
    {
     "name": "stdout",
     "output_type": "stream",
     "text": [
      "snudda simulate networks/bevan_fig1_bath_current_SBML --time 12 --simulation_config data/bevan_fig1_no_DA_sbml.json --mechdir /home/hjorth/HBP/BasalGangliaData/data/neurons/mechanisms \n"
     ]
    }
   ],
   "source": [
    "run_str_off = f\"snudda simulate {network_path} --time {sim_time} --simulation_config {sim_config_off} --mechdir {mech_dir} \"\n",
    "print(run_str_off)"
   ]
  },
  {
   "cell_type": "code",
   "execution_count": 7,
   "id": "a7016cf4-f45a-40fd-b065-83bcea58a0ba",
   "metadata": {},
   "outputs": [
    {
     "name": "stdout",
     "output_type": "stream",
     "text": [
      "numprocs=1\n",
      "args.ipython_profile = None\n",
      "args: Namespace(action='simulate', path='networks/bevan_fig1_bath_current_SBML', network_file=None, input_file=None, output_file=None, time=12.0, snudda_data=None, simulation_config='data/bevan_fig1_no_DA_sbml.json', record_volt=True, randomseed=None, disable_synapses=None, disable_gj=None, mech_dir='/home/hjorth/HBP/BasalGangliaData/data/neurons/mechanisms', profile=False, verbose=False, exportCoreNeuron=False, record_all=None, enable_rxd_neuromodulation=None, disable_rxd_neuromodulation=None, ipython_profile=None)\n",
      "MPI Rank: 0, Size: 1\n",
      "Using input file None\n",
      "NEURON mechanisms already compiled, make sure you have the correct version of NEURON modules.\n",
      "If you delete x86_64, aarch64, arm64 directories (or nrnmech.dll) then you will force a recompilation of the modules.\n",
      "Reading SNUDDA_DATA=None from networks/bevan_fig1_bath_current_SBML/network-config.json\n",
      "Reading SNUDDA_DATA=/home/hjorth/HBP/Snudda/snudda/data from networks/bevan_fig1_bath_current_SBML/network-synapses.hdf5\n",
      "MPI Rank: 0, Size: 1 -- NEURON: This is node 0 out of 1\n",
      "Reading config: data/bevan_fig1_no_DA_sbml.json\n",
      "Loading simulation_config from data/bevan_fig1_no_DA_sbml.json\n",
      "0 : Memory status: 68% free\n",
      "0 : Memory status: 68% free\n",
      "Added 0.0 gap junctions to simulation (0 total)\n",
      "Added 0 synapses to simulation (0 total)\n",
      "0 : Memory status: 68% free\n",
      "0 : Memory status: 68% free\n",
      "0 : Memory status: 68% free\n",
      "Running simulation for 12000.0 ms.\n",
      "Running simulation for 12.0 s\n",
      "Running Neuron simulator 12000 ms, with dt=5.0\n",
      "  1% done. Elapsed: 0.1 s, estimated time left: 5.1 s\n",
      "100% done. Elapsed: 5.1 s, estimated time left: 0.0 s\n",
      "Neuron simulation finished\n",
      "Simulation run time: 6.6 s\n",
      "Simulation done, saving output\n",
      "Writing network output to networks/bevan_fig1_bath_current_SBML/simulation/output_neuromodulation_OFF.hdf5\n",
      "Using sample dt = None (sample step size None)\n",
      "Worker 1/1 writing data to networks/bevan_fig1_bath_current_SBML/simulation/output_neuromodulation_OFF.hdf5\n",
      "Program run time: 9.5s\n"
     ]
    },
    {
     "data": {
      "text/plain": [
       "0"
      ]
     },
     "execution_count": 7,
     "metadata": {},
     "output_type": "execute_result"
    }
   ],
   "source": [
    "os.system(run_str_off)"
   ]
  },
  {
   "cell_type": "code",
   "execution_count": 12,
   "id": "1fae24a1-fac5-453d-9e94-83cd50166e07",
   "metadata": {},
   "outputs": [
    {
     "data": {
      "text/html": [
       "<iframe\n",
       "    scrolling=\"no\"\n",
       "    width=\"100%\"\n",
       "    height=\"545px\"\n",
       "    src=\"iframe_figures/figure_12.html\"\n",
       "    frameborder=\"0\"\n",
       "    allowfullscreen\n",
       "></iframe>\n"
      ]
     },
     "metadata": {},
     "output_type": "display_data"
    }
   ],
   "source": [
    "import plotly.graph_objects as go\n",
    "import plotly.io as pio\n",
    "pio.renderers.default = \"iframe\"  # Do not save plots in the notebook, they can get BIG\n",
    "\n",
    "fig = go.Figure()\n",
    "for data_type in all_species_data:\n",
    "    idx = time >= 0.0\n",
    "    fig.add_trace(go.Scatter(x=time[idx], y=all_species_data[data_type][0][0].T[0][idx], name=data_type, line={\"width\":4}))\n",
    "\n",
    "\"\"\"\n",
    "fig.update_layout(xaxis_title=\"Time (s)\", yaxis_title=\"Concentration\", width=1000, height=800,\n",
    "                 font={\"size\":18},  # General font size for all elements\n",
    "                 legend={\"font\":{\"size\":16}},  # Specific font size for legend\n",
    "                 xaxis={\"title\":{\"font\":{\"size\":20}}, \"tickfont\":{\"size\":14}},  # X-axis title and tick labels\n",
    "                 yaxis={\"title\":{\"font\":{\"size\":20}}, \"tickfont\":{\"size\":14}})   # Y-axis title and tick labels\n",
    "\"\"\"\n",
    "fig.show()"
   ]
  },
  {
   "cell_type": "code",
   "execution_count": 13,
   "id": "8a709771-fd02-4712-9b4e-d57e49a737fc",
   "metadata": {},
   "outputs": [
    {
     "data": {
      "text/html": [
       "<iframe\n",
       "    scrolling=\"no\"\n",
       "    width=\"1020px\"\n",
       "    height=\"820\"\n",
       "    src=\"iframe_figures/figure_13.html\"\n",
       "    frameborder=\"0\"\n",
       "    allowfullscreen\n",
       "></iframe>\n"
      ]
     },
     "metadata": {},
     "output_type": "display_data"
    },
    {
     "data": {
      "text/html": [
       "<iframe\n",
       "    scrolling=\"no\"\n",
       "    width=\"1020px\"\n",
       "    height=\"820\"\n",
       "    src=\"iframe_figures/figure_13.html\"\n",
       "    frameborder=\"0\"\n",
       "    allowfullscreen\n",
       "></iframe>\n"
      ]
     },
     "metadata": {},
     "output_type": "display_data"
    }
   ],
   "source": [
    "# Reporting plot\n",
    "\n",
    "import plotly.graph_objects as go\n",
    "import plotly.io as pio\n",
    "pio.renderers.default = \"iframe\"  # Do not save plots in the notebook, they can get BIG\n",
    "\n",
    "fig = go.Figure()\n",
    "for data_type in [\"D1RDA\", \"PKAc\", \"cAMP\"]: #all_species_data:\n",
    "    idx = time >= 0.0\n",
    "    fig.add_trace(go.Scatter(x=time[idx], y=all_species_data[data_type][0][0].T[0][idx], name=data_type, line={\"width\":4}))\n",
    "\n",
    "fig.update_layout(xaxis_title=\"Time (s)\", yaxis_title=\"Concentration\", width=1000, height=800,\n",
    "                  font={\"size\":18},  # General font size for all elements\n",
    "                  legend={\"font\":{\"size\":50}},  # Specific font size for legend\n",
    "                  xaxis={\"title\":{\"font\":{\"size\":40}}, \"tickfont\":{\"size\":30}},  # X-axis title and tick labels\n",
    "                  yaxis={\"title\":{\"font\":{\"size\":40}}, \"tickfont\":{\"size\":30}})   # Y-axis title and tick labels\n",
    "\n",
    "\n",
    "fig.show()\n",
    "\n",
    "fig.write_image(\"bevan_1-example-da-cascade-1.png\", width=1200, height=800)\n",
    "\n",
    "\n",
    "fig2 = go.Figure()\n",
    "for data_type in [\"cal12_ms.modulation_factor\", \"cal13_ms.modulation_factor\", \n",
    "                  \"kas_ms.modulation_factor\", \"kir_ms.modulation_factor\", \"naf_ms.modulation_factor\", ]: #all_species_data:\n",
    "    idx = time >= 0.0\n",
    "    data_type_str = data_type.replace(\"modulation_factor\", \"modulation\")\n",
    "    fig2.add_trace(go.Scatter(x=time[idx], y=all_species_data[data_type][0][0].T[0][idx], name=data_type_str, line={\"width\":4}))\n",
    "\n",
    "fig2.update_layout(xaxis_title=\"Time (s)\", yaxis_title=\"Modulation factor\", width=1000, height=800,\n",
    "                  font={\"size\":18},  # General font size for all elements\n",
    "                  legend={\"font\":{\"size\":50}},  # Specific font size for legend\n",
    "                  xaxis={\"title\":{\"font\":{\"size\":40}}, \"tickfont\":{\"size\":30}},  # X-axis title and tick labels\n",
    "                  yaxis={\"title\":{\"font\":{\"size\":40}}, \"tickfont\":{\"size\":30}})   # Y-axis title and tick labels\n",
    "\n",
    "fig2.show()\n",
    "fig2.write_image(\"bevan_fig1_biochem.png\", width=1200, height=800)\n"
   ]
  },
  {
   "cell_type": "code",
   "execution_count": 11,
   "id": "e09b1fcd-375f-428d-8832-5dc9167b4dfa",
   "metadata": {},
   "outputs": [
    {
     "name": "stdout",
     "output_type": "stream",
     "text": [
      "Loading networks/bevan_fig1_bath_current_SBML/simulation/output_neuromodulation_ON.hdf5\n",
      "WARNING. Depolarisation block in neuron - neuron_id: (name, parameter_key, morphology_key):\n",
      "0: (dspn_0, pe6ec2d4b, mf702205f)\n"
     ]
    }
   ],
   "source": [
    "from snudda.utils import SnuddaLoadSimulation\n",
    "\n",
    "nd = SnuddaLoadSimulation(sim_output_neuromodulation_ON)\n",
    "data_types = nd.list_data_types(0)\n",
    "all_species_data = nd.get_all_data(neuron_id=0, exclude=[\"spikes\", \"voltage\"])\n",
    "time = nd.get_time()\n",
    "voltage = nd.get_data(\"voltage\", [0])"
   ]
  },
  {
   "cell_type": "code",
   "execution_count": 10,
   "id": "6e9b2df2-5d3f-4bc8-8de0-34a6da38e2ee",
   "metadata": {},
   "outputs": [
    {
     "ename": "KeyError",
     "evalue": "'D2RDA'",
     "output_type": "error",
     "traceback": [
      "\u001b[0;31m---------------------------------------------------------------------------\u001b[0m",
      "\u001b[0;31mKeyError\u001b[0m                                  Traceback (most recent call last)",
      "Cell \u001b[0;32mIn[10], line 10\u001b[0m\n\u001b[1;32m      8\u001b[0m \u001b[38;5;28;01mfor\u001b[39;00m data_type \u001b[38;5;129;01min\u001b[39;00m [\u001b[38;5;124m\"\u001b[39m\u001b[38;5;124mD2RDA\u001b[39m\u001b[38;5;124m\"\u001b[39m, \u001b[38;5;124m\"\u001b[39m\u001b[38;5;124mPKAc\u001b[39m\u001b[38;5;124m\"\u001b[39m, \u001b[38;5;124m\"\u001b[39m\u001b[38;5;124mcAMP\u001b[39m\u001b[38;5;124m\"\u001b[39m]: \u001b[38;5;66;03m#all_species_data:\u001b[39;00m\n\u001b[1;32m      9\u001b[0m     idx \u001b[38;5;241m=\u001b[39m time \u001b[38;5;241m>\u001b[39m\u001b[38;5;241m=\u001b[39m \u001b[38;5;241m0.0\u001b[39m\n\u001b[0;32m---> 10\u001b[0m     fig\u001b[38;5;241m.\u001b[39madd_trace(go\u001b[38;5;241m.\u001b[39mScatter(x\u001b[38;5;241m=\u001b[39mtime[idx], y\u001b[38;5;241m=\u001b[39m\u001b[43mall_species_data\u001b[49m\u001b[43m[\u001b[49m\u001b[43mdata_type\u001b[49m\u001b[43m]\u001b[49m[\u001b[38;5;241m0\u001b[39m][\u001b[38;5;241m0\u001b[39m]\u001b[38;5;241m.\u001b[39mT[\u001b[38;5;241m0\u001b[39m][idx], name\u001b[38;5;241m=\u001b[39mdata_type, line\u001b[38;5;241m=\u001b[39m{\u001b[38;5;124m\"\u001b[39m\u001b[38;5;124mwidth\u001b[39m\u001b[38;5;124m\"\u001b[39m:\u001b[38;5;241m4\u001b[39m}))\n\u001b[1;32m     12\u001b[0m fig\u001b[38;5;241m.\u001b[39mupdate_layout(xaxis_title\u001b[38;5;241m=\u001b[39m\u001b[38;5;124m\"\u001b[39m\u001b[38;5;124mTime (s)\u001b[39m\u001b[38;5;124m\"\u001b[39m, yaxis_title\u001b[38;5;241m=\u001b[39m\u001b[38;5;124m\"\u001b[39m\u001b[38;5;124mConcentration\u001b[39m\u001b[38;5;124m\"\u001b[39m, width\u001b[38;5;241m=\u001b[39m\u001b[38;5;241m1000\u001b[39m, height\u001b[38;5;241m=\u001b[39m\u001b[38;5;241m800\u001b[39m,\n\u001b[1;32m     13\u001b[0m                   font\u001b[38;5;241m=\u001b[39m{\u001b[38;5;124m\"\u001b[39m\u001b[38;5;124msize\u001b[39m\u001b[38;5;124m\"\u001b[39m:\u001b[38;5;241m18\u001b[39m},  \u001b[38;5;66;03m# General font size for all elements\u001b[39;00m\n\u001b[1;32m     14\u001b[0m                   legend\u001b[38;5;241m=\u001b[39m{\u001b[38;5;124m\"\u001b[39m\u001b[38;5;124mfont\u001b[39m\u001b[38;5;124m\"\u001b[39m:{\u001b[38;5;124m\"\u001b[39m\u001b[38;5;124msize\u001b[39m\u001b[38;5;124m\"\u001b[39m:\u001b[38;5;241m50\u001b[39m}},  \u001b[38;5;66;03m# Specific font size for legend\u001b[39;00m\n\u001b[1;32m     15\u001b[0m                   xaxis\u001b[38;5;241m=\u001b[39m{\u001b[38;5;124m\"\u001b[39m\u001b[38;5;124mtitle\u001b[39m\u001b[38;5;124m\"\u001b[39m:{\u001b[38;5;124m\"\u001b[39m\u001b[38;5;124mfont\u001b[39m\u001b[38;5;124m\"\u001b[39m:{\u001b[38;5;124m\"\u001b[39m\u001b[38;5;124msize\u001b[39m\u001b[38;5;124m\"\u001b[39m:\u001b[38;5;241m40\u001b[39m}}, \u001b[38;5;124m\"\u001b[39m\u001b[38;5;124mtickfont\u001b[39m\u001b[38;5;124m\"\u001b[39m:{\u001b[38;5;124m\"\u001b[39m\u001b[38;5;124msize\u001b[39m\u001b[38;5;124m\"\u001b[39m:\u001b[38;5;241m30\u001b[39m}},  \u001b[38;5;66;03m# X-axis title and tick labels\u001b[39;00m\n\u001b[1;32m     16\u001b[0m                   yaxis\u001b[38;5;241m=\u001b[39m{\u001b[38;5;124m\"\u001b[39m\u001b[38;5;124mtitle\u001b[39m\u001b[38;5;124m\"\u001b[39m:{\u001b[38;5;124m\"\u001b[39m\u001b[38;5;124mfont\u001b[39m\u001b[38;5;124m\"\u001b[39m:{\u001b[38;5;124m\"\u001b[39m\u001b[38;5;124msize\u001b[39m\u001b[38;5;124m\"\u001b[39m:\u001b[38;5;241m40\u001b[39m}}, \u001b[38;5;124m\"\u001b[39m\u001b[38;5;124mtickfont\u001b[39m\u001b[38;5;124m\"\u001b[39m:{\u001b[38;5;124m\"\u001b[39m\u001b[38;5;124msize\u001b[39m\u001b[38;5;124m\"\u001b[39m:\u001b[38;5;241m30\u001b[39m}})   \u001b[38;5;66;03m# Y-axis title and tick labels\u001b[39;00m\n\u001b[1;32m     19\u001b[0m fig\u001b[38;5;241m.\u001b[39mshow()\n",
      "\u001b[0;31mKeyError\u001b[0m: 'D2RDA'"
     ]
    }
   ],
   "source": [
    "# Reporting plot\n",
    "\n",
    "import plotly.graph_objects as go\n",
    "import plotly.io as pio\n",
    "pio.renderers.default = \"iframe\"  # Do not save plots in the notebook, they can get BIG\n",
    "\n",
    "fig = go.Figure()\n",
    "for data_type in [\"D2RDA\", \"PKAc\", \"cAMP\"]: #all_species_data:\n",
    "    idx = time >= 0.0\n",
    "    fig.add_trace(go.Scatter(x=time[idx], y=all_species_data[data_type][0][0].T[0][idx], name=data_type, line={\"width\":4}))\n",
    "\n",
    "fig.update_layout(xaxis_title=\"Time (s)\", yaxis_title=\"Concentration\", width=1000, height=800,\n",
    "                  font={\"size\":18},  # General font size for all elements\n",
    "                  legend={\"font\":{\"size\":50}},  # Specific font size for legend\n",
    "                  xaxis={\"title\":{\"font\":{\"size\":40}}, \"tickfont\":{\"size\":30}},  # X-axis title and tick labels\n",
    "                  yaxis={\"title\":{\"font\":{\"size\":40}}, \"tickfont\":{\"size\":30}})   # Y-axis title and tick labels\n",
    "\n",
    "\n",
    "fig.show()\n",
    "\n",
    "fig.write_image(\"example-da-cascade-1.png\", width=1200, height=800)\n",
    "\n",
    "\n",
    "fig2 = go.Figure()\n",
    "for data_type in [\"cal12_ms.modulation_factor\", \"cal13_ms.modulation_factor\", \n",
    "                  \"kas_ms.modulation_factor\", \"kir_ms.modulation_factor\", \"naf_ms.modulation_factor\", ]: #all_species_data:\n",
    "    idx = time >= 0.0\n",
    "    data_type_str = data_type.replace(\"modulation_factor\", \"modulation\")\n",
    "    fig2.add_trace(go.Scatter(x=time[idx], y=all_species_data[data_type][0][0].T[0][idx], name=data_type_str, line={\"width\":4}))\n",
    "\n",
    "fig2.update_layout(xaxis_title=\"Time (s)\", yaxis_title=\"Modulation factor\", width=1000, height=800,\n",
    "                  font={\"size\":18},  # General font size for all elements\n",
    "                  legend={\"font\":{\"size\":50}},  # Specific font size for legend\n",
    "                  xaxis={\"title\":{\"font\":{\"size\":40}}, \"tickfont\":{\"size\":30}},  # X-axis title and tick labels\n",
    "                  yaxis={\"title\":{\"font\":{\"size\":40}}, \"tickfont\":{\"size\":30}})   # Y-axis title and tick labels\n",
    "\n",
    "fig2.show()\n",
    "fig2.write_image(\"example-da-cascade-2-effect.png\", width=1200, height=800)\n"
   ]
  },
  {
   "cell_type": "code",
   "execution_count": null,
   "id": "ae39b75f-6fae-4f48-84ec-6dc23aea3d82",
   "metadata": {},
   "outputs": [],
   "source": []
  },
  {
   "cell_type": "code",
   "execution_count": null,
   "id": "b4f59bee-20cd-4713-8590-66aefb218f75",
   "metadata": {},
   "outputs": [],
   "source": []
  },
  {
   "cell_type": "code",
   "execution_count": null,
   "id": "2446d96a-30f5-4d22-8f74-c58cc3e75c78",
   "metadata": {},
   "outputs": [],
   "source": []
  },
  {
   "cell_type": "code",
   "execution_count": null,
   "id": "0909f4f7-417d-428d-a336-b0275f18b0c2",
   "metadata": {},
   "outputs": [],
   "source": []
  },
  {
   "cell_type": "markdown",
   "id": "a02d3ecb-cd6d-470d-bf4a-d598bb9e9d5c",
   "metadata": {},
   "source": [
    "## Experiment 2\n",
    "\n",
    "Can we show persistence for 15 minutes? (Compare Figure 2)"
   ]
  },
  {
   "cell_type": "code",
   "execution_count": null,
   "id": "77c9fb7e-178a-4238-86f4-71ef3d9b3c4b",
   "metadata": {},
   "outputs": [],
   "source": []
  },
  {
   "cell_type": "markdown",
   "id": "6c3813bd-b192-42f9-9f80-dd2cadce385d",
   "metadata": {},
   "source": [
    "## Experiment 3\n",
    "\n",
    "Current injection for 3 seconds, trigger 2 (4) spikes in dSPN. After DA application (1 second, 0.5u M) spikes come earlier and at a higher frequency.\n",
    "\n",
    "Compare Figure 4 B, C, D"
   ]
  },
  {
   "cell_type": "code",
   "execution_count": null,
   "id": "4d9a8043-ea3a-4b3b-9aa0-ba1314660f99",
   "metadata": {},
   "outputs": [],
   "source": []
  },
  {
   "cell_type": "markdown",
   "id": "161b3754-821f-4311-adbc-2ae15d42c926",
   "metadata": {},
   "source": [
    "## Experiment 4\n",
    "\n",
    "Subthreshold current injection (<10 mV depolarisation). Size of depolarisation not affected by DA.\n",
    "\n",
    "Suprathreshold current injection, with DA lower threshold, and faster spiking.\n",
    "\n",
    "Compare Figure 5"
   ]
  },
  {
   "cell_type": "code",
   "execution_count": null,
   "id": "e5f7d5a2-329f-4704-aa88-917dbfc86408",
   "metadata": {},
   "outputs": [],
   "source": [
    "\n"
   ]
  },
  {
   "cell_type": "code",
   "execution_count": null,
   "id": "413a1e94-c144-4fd7-bdc7-f2ef4b3cf54a",
   "metadata": {},
   "outputs": [],
   "source": [
    "Experiment 5\n",
    "\n",
    "Compare Figure 6"
   ]
  }
 ],
 "metadata": {
  "kernelspec": {
   "display_name": "Python 3 (ipykernel)",
   "language": "python",
   "name": "python3"
  },
  "language_info": {
   "codemirror_mode": {
    "name": "ipython",
    "version": 3
   },
   "file_extension": ".py",
   "mimetype": "text/x-python",
   "name": "python",
   "nbconvert_exporter": "python",
   "pygments_lexer": "ipython3",
   "version": "3.9.2"
  }
 },
 "nbformat": 4,
 "nbformat_minor": 5
}
