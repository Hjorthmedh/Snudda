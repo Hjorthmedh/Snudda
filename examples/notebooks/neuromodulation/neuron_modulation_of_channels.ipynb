{
 "cells": [
  {
   "cell_type": "markdown",
   "id": "85a1b59a-8154-428c-80b8-372822469a39",
   "metadata": {},
   "source": [
    "# Neuronmodulation of Channels\n",
    "\n",
    "This example shows how to model neuromodulation, with release from synapses, and effects on ion channels.\n",
    "\n",
    "First version has dSPN, iSPN"
   ]
  },
  {
   "cell_type": "code",
   "execution_count": 1,
   "id": "a7561a68-c3e9-4768-a865-90717ab4dbd4",
   "metadata": {},
   "outputs": [],
   "source": [
    "import os\n",
    "\n",
    "network_path = os.path.join(\"networks\", \"striatum10\")\n",
    "config_file = os.path.join(\"config\", \"network.json\")"
   ]
  },
  {
   "cell_type": "code",
   "execution_count": 2,
   "id": "5e6871b5-1064-4d14-b33a-ea784cb0c959",
   "metadata": {},
   "outputs": [
    {
     "name": "stdout",
     "output_type": "stream",
     "text": [
      "Loading config/network.json\n",
      "Loading config/striatum.json\n",
      "Loading config/neurons/dspn.json\n",
      "Loading /home/hjorth/HBP/BasalGangliaData/data/connectivity/striatum/striatum-connectivity.json\n",
      "Setting network_path = '/home/hjorth/HBP/Snudda/examples/notebooks/neuromodulation/networks/striatum10'\n",
      "Writing to file networks/striatum10/network-config.json\n"
     ]
    }
   ],
   "source": [
    "from snudda import Snudda\n",
    "\n",
    "snd = Snudda(network_path)\n",
    "snd.import_config(network_config_file=config_file, overwrite=True)"
   ]
  },
  {
   "cell_type": "code",
   "execution_count": 3,
   "id": "3a98f99d-44f3-419e-a4b1-7ef5d1144fd5",
   "metadata": {},
   "outputs": [
    {
     "name": "stdout",
     "output_type": "stream",
     "text": [
      "Placing neurons\n",
      "Network path: networks/striatum10\n",
      "Reading SNUDDA_DATA=/home/hjorth/HBP/BasalGangliaData/data from networks/striatum10/network-config.json\n",
      "Generating 4097 points for config/mesh/cube-mesh-5e-05.obj\n",
      "Filtering, keeping inside points: 27 / 121\n",
      "Managed to create 27 putative points within the volume.\n",
      "  WARNING --> is the volume too small? You can create new cube mesh using create_cube_mesh.py\n",
      "\n",
      "Example how to use create_cube_mesh.py:\n",
      "from snudda.place.create_cube_mesh import create_cube_mesh\n",
      "create_cube_mesh(file_name='your_cube_mesh_name.obj', \n",
      "                 centre_point=(0,0,0), side_len=300e-6,\n",
      "                 description='Adjust side_len to get correct neuron density')\n",
      "\n",
      "neuron_name = 'dSPN_0', num = 1, neuron_path = '$SNUDDA_DATA/neurons/striatum/dspn/str-dspn-e150602_c1_D1-mWT-0728MSN01-v20220620'\n",
      "neuron_name = 'dSPN_1', num = 1, neuron_path = '$SNUDDA_DATA/neurons/striatum/dspn/str-dspn-e150917_c10_D1-mWT-P270-20-v20220620'\n",
      "neuron_name = 'dSPN_2', num = 1, neuron_path = '$SNUDDA_DATA/neurons/striatum/dspn/str-dspn-e150917_c6_D1-m21-6-DE-v20220623'\n",
      "neuron_name = 'dSPN_3', num = 1, neuron_path = '$SNUDDA_DATA/neurons/striatum/dspn/str-dspn-e150917_c9_d1-mWT-1215MSN03-v20220620'\n",
      "stop_parallel disabled, to keep pool running.\n",
      "\n",
      "Execution time: 1.2s\n",
      "Touch detection\n",
      "Network path: networks/striatum10\n",
      "Reading SNUDDA_DATA=/home/hjorth/HBP/BasalGangliaData/data from networks/striatum10/network-config.json\n",
      "No d_view specified, running distribute neurons in serial\n",
      "Processing hyper voxel : 0/27 (4 neurons)\n",
      "Processing hyper voxel : 1/27 (4 neurons)\n",
      "Processing hyper voxel : 9/27 (4 neurons)\n",
      "Processing hyper voxel : 3/27 (3 neurons)\n",
      "Processing hyper voxel : 4/27 (3 neurons)\n",
      "Processing hyper voxel : 10/27 (3 neurons)\n",
      "Processing hyper voxel : 12/27 (2 neurons)\n",
      "Processing hyper voxel : 13/27 (2 neurons)\n",
      "Reading SNUDDA_DATA=/home/hjorth/HBP/BasalGangliaData/data from networks/striatum10/network-config.json\n",
      "stop_parallel disabled, to keep pool running.\n",
      "\n",
      "Execution time: 2.1s\n",
      "Prune synapses\n",
      "Network path: networks/striatum10\n",
      "No file networks/striatum10/pruning_merge_info.json\n",
      "Read 264 out of total 264 synapses\n",
      "stop_parallel disabled, to keep pool running.\n",
      "\n",
      "Execution time: 2.1s\n"
     ]
    }
   ],
   "source": [
    "snd.create_network()"
   ]
  },
  {
   "cell_type": "markdown",
   "id": "70edfeff-fa48-44c2-88b1-a9528f0fb9fb",
   "metadata": {},
   "source": [
    "## To run simulation:\n",
    "\n",
    "```snudda simulate networks/striatum10 --simulation_config data/extracellular_test.json```"
   ]
  },
  {
   "cell_type": "code",
   "execution_count": null,
   "id": "ede82b06-f7c1-447c-9d5e-e6f6dcc97bac",
   "metadata": {},
   "outputs": [],
   "source": []
  },
  {
   "cell_type": "code",
   "execution_count": null,
   "id": "7c5616a1-0627-4b3e-a777-0167104e6a47",
   "metadata": {},
   "outputs": [],
   "source": []
  }
 ],
 "metadata": {
  "kernelspec": {
   "display_name": "Python 3 (ipykernel)",
   "language": "python",
   "name": "python3"
  },
  "language_info": {
   "codemirror_mode": {
    "name": "ipython",
    "version": 3
   },
   "file_extension": ".py",
   "mimetype": "text/x-python",
   "name": "python",
   "nbconvert_exporter": "python",
   "pygments_lexer": "ipython3",
   "version": "3.9.2"
  }
 },
 "nbformat": 4,
 "nbformat_minor": 5
}
