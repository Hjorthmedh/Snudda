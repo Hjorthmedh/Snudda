{
 "cells": [
  {
   "cell_type": "markdown",
   "id": "85a1b59a-8154-428c-80b8-372822469a39",
   "metadata": {},
   "source": [
    "# Neuronmodulation of Channels\n",
    "\n",
    "This example shows how to model neuromodulation, with release from synapses, and effects on ion channels.\n",
    "\n",
    "First version has dSPN, iSPN"
   ]
  },
  {
   "cell_type": "code",
   "execution_count": 1,
   "id": "a7561a68-c3e9-4768-a865-90717ab4dbd4",
   "metadata": {},
   "outputs": [],
   "source": [
    "import os\n",
    "\n",
    "network_path = os.path.join(\"networks\", \"striatum10\")\n",
    "config_file = os.path.join(\"config\", \"network.json\")"
   ]
  },
  {
   "cell_type": "code",
   "execution_count": 2,
   "id": "5e6871b5-1064-4d14-b33a-ea784cb0c959",
   "metadata": {},
   "outputs": [
    {
     "name": "stdout",
     "output_type": "stream",
     "text": [
      "Loading config/network.json\n",
      "Loading config/striatum.json\n",
      "Loading config/neurons/dspn.json\n",
      "Loading config/neurons/ispn.json\n",
      "Loading /home/hjorth/HBP/BasalGangliaData/data/connectivity/striatum/striatum-connectivity.json\n",
      "Setting network_path = '/home/hjorth/HBP/Snudda/examples/notebooks/neuromodulation/networks/striatum10'\n",
      "Writing to file networks/striatum10/network-config.json\n"
     ]
    }
   ],
   "source": [
    "from snudda import Snudda\n",
    "\n",
    "snd = Snudda(network_path)\n",
    "snd.import_config(network_config_file=config_file, overwrite=True)"
   ]
  },
  {
   "cell_type": "code",
   "execution_count": 3,
   "id": "3a98f99d-44f3-419e-a4b1-7ef5d1144fd5",
   "metadata": {},
   "outputs": [
    {
     "name": "stdout",
     "output_type": "stream",
     "text": [
      "Placing neurons\n",
      "Network path: networks/striatum10\n",
      "Reading SNUDDA_DATA=/home/hjorth/HBP/BasalGangliaData/data from networks/striatum10/network-config.json\n",
      "Generating 4097 points for config/mesh/cube-mesh-5e-05.obj\n",
      "n_points = 3892, previous close_pairs = 184169\n",
      "n_points = 3697, previous close_pairs = 161727\n",
      "n_points = 3512, previous close_pairs = 141453\n",
      "n_points = 3336, previous close_pairs = 123994\n",
      "n_points = 3169, previous close_pairs = 109010\n",
      "n_points = 3010, previous close_pairs = 96085\n",
      "n_points = 2859, previous close_pairs = 84760\n",
      "n_points = 2716, previous close_pairs = 74773\n",
      "n_points = 2580, previous close_pairs = 66058\n",
      "n_points = 2451, previous close_pairs = 58336\n",
      "n_points = 2328, previous close_pairs = 51560\n",
      "n_points = 2211, previous close_pairs = 45604\n",
      "n_points = 2100, previous close_pairs = 40392\n",
      "n_points = 1995, previous close_pairs = 35745\n",
      "n_points = 1895, previous close_pairs = 31636\n",
      "n_points = 1800, previous close_pairs = 28002\n",
      "n_points = 1710, previous close_pairs = 24811\n",
      "n_points = 1624, previous close_pairs = 21985\n",
      "n_points = 1542, previous close_pairs = 19417\n",
      "n_points = 1464, previous close_pairs = 17152\n",
      "n_points = 1390, previous close_pairs = 15145\n",
      "n_points = 1320, previous close_pairs = 13364\n",
      "n_points = 1254, previous close_pairs = 11808\n",
      "n_points = 1191, previous close_pairs = 10429\n",
      "n_points = 1131, previous close_pairs = 9221\n",
      "n_points = 1074, previous close_pairs = 8115\n",
      "n_points = 1020, previous close_pairs = 7154\n",
      "n_points = 969, previous close_pairs = 6300\n",
      "n_points = 920, previous close_pairs = 5562\n",
      "n_points = 874, previous close_pairs = 4894\n",
      "n_points = 830, previous close_pairs = 4304\n",
      "n_points = 788, previous close_pairs = 3788\n",
      "n_points = 748, previous close_pairs = 3313\n",
      "n_points = 710, previous close_pairs = 2900\n",
      "n_points = 674, previous close_pairs = 2533\n",
      "n_points = 640, previous close_pairs = 2211\n",
      "n_points = 608, previous close_pairs = 1924\n",
      "n_points = 577, previous close_pairs = 1683\n",
      "n_points = 548, previous close_pairs = 1465\n",
      "n_points = 520, previous close_pairs = 1272\n",
      "n_points = 494, previous close_pairs = 1113\n",
      "n_points = 469, previous close_pairs = 973\n",
      "n_points = 445, previous close_pairs = 845\n",
      "n_points = 422, previous close_pairs = 735\n",
      "n_points = 401, previous close_pairs = 644\n",
      "n_points = 381, previous close_pairs = 565\n",
      "n_points = 362, previous close_pairs = 491\n",
      "n_points = 344, previous close_pairs = 425\n",
      "n_points = 327, previous close_pairs = 377\n",
      "n_points = 311, previous close_pairs = 328\n",
      "n_points = 295, previous close_pairs = 290\n",
      "n_points = 280, previous close_pairs = 248\n",
      "n_points = 266, previous close_pairs = 219\n",
      "n_points = 253, previous close_pairs = 193\n",
      "n_points = 241, previous close_pairs = 170\n",
      "n_points = 230, previous close_pairs = 148\n",
      "n_points = 219, previous close_pairs = 127\n",
      "n_points = 209, previous close_pairs = 108\n",
      "n_points = 200, previous close_pairs = 92\n",
      "n_points = 121, previous close_pairs = 79\n",
      "Filtering 121 points..\n",
      "Filtering, keeping inside points: 27 / 121\n",
      "neuron_name = 'dSPN_0', num = 1, neuron_path = '$SNUDDA_DATA/neurons/striatum/dspn/str-dspn-e150602_c1_D1-mWT-0728MSN01-v20211026'\n",
      "neuron_name = 'dSPN_1', num = 1, neuron_path = '$SNUDDA_DATA/neurons/striatum/dspn/str-dspn-e150917_c10_D1-mWT-P270-20-v20211026'\n",
      "neuron_name = 'dSPN_2', num = 1, neuron_path = '$SNUDDA_DATA/neurons/striatum/dspn/str-dspn-e150917_c6_D1-m21-6-DE-v20211028'\n",
      "neuron_name = 'dSPN_3', num = 1, neuron_path = '$SNUDDA_DATA/neurons/striatum/dspn/str-dspn-e150917_c9_D1-mWT-1215MSN03-v20211026'\n",
      "neuron_name = 'iSPN_0', num = 1, neuron_path = '$SNUDDA_DATA/neurons/striatum/ispn/str-ispn-e150908_c4_D2-m51-5-DE-v20211026'\n",
      "neuron_name = 'iSPN_1', num = 1, neuron_path = '$SNUDDA_DATA/neurons/striatum/ispn/str-ispn-e150917_c11_D2-mWT-MSN1-v20211026'\n",
      "neuron_name = 'iSPN_2', num = 1, neuron_path = '$SNUDDA_DATA/neurons/striatum/ispn/str-ispn-e151123_c1_D2-mWT-P270-09-v20211026'\n",
      "neuron_name = 'iSPN_3', num = 1, neuron_path = '$SNUDDA_DATA/neurons/striatum/ispn/str-ispn-e160118_c10_D2-m46-3-DE-v20211026'\n",
      "stop_parallel disabled, to keep pool running.\n",
      "\n",
      "Execution time: 1.4s\n",
      "Touch detection\n",
      "Network path: networks/striatum10\n",
      "Creating missing directory networks/striatum10/voxels\n",
      "Created directory networks/striatum10/voxels\n",
      "Reading SNUDDA_DATA=/home/hjorth/HBP/BasalGangliaData/data from networks/striatum10/network-config.json\n",
      "No d_view specified, running distribute neurons in serial\n",
      "Processing hyper voxel : 20/64 (8 neurons)\n",
      "Processing hyper voxel : 5/64 (8 neurons)\n",
      "Processing hyper voxel : 25/64 (8 neurons)\n",
      "Processing hyper voxel : 21/64 (8 neurons)\n",
      "Processing hyper voxel : 4/64 (6 neurons)\n",
      "Processing hyper voxel : 9/64 (6 neurons)\n",
      "Processing hyper voxel : 37/64 (4 neurons)\n",
      "Processing hyper voxel : 24/64 (4 neurons)\n",
      "Processing hyper voxel : 8/64 (3 neurons)\n",
      "Processing hyper voxel : 17/64 (3 neurons)\n",
      "Processing hyper voxel : 36/64 (2 neurons)\n",
      "Processing hyper voxel : 26/64 (2 neurons)\n",
      "Processing hyper voxel : 41/64 (2 neurons)\n",
      "Processing hyper voxel : 22/64 (2 neurons)\n",
      "Processing hyper voxel : 40/64 (1 neurons)\n",
      "Processing hyper voxel : 16/64 (1 neurons)\n",
      "Processing hyper voxel : 10/64 (1 neurons)\n",
      "Processing hyper voxel : 33/64 (1 neurons)\n",
      "Processing hyper voxel : 6/64 (1 neurons)\n",
      "Processing hyper voxel : 1/64 (1 neurons)\n",
      "Processing hyper voxel : 0/64 (1 neurons)\n",
      "Reading SNUDDA_DATA=/home/hjorth/HBP/BasalGangliaData/data from networks/striatum10/network-config.json\n",
      "stop_parallel disabled, to keep pool running.\n",
      "\n",
      "Execution time: 3.0s\n",
      "Prune synapses\n",
      "Network path: networks/striatum10\n",
      "No file networks/striatum10/pruning_merge_info.json\n",
      "Read 1071 out of total 1071 synapses\n",
      "stop_parallel disabled, to keep pool running.\n",
      "\n",
      "Execution time: 3.1s\n"
     ]
    }
   ],
   "source": [
    "snd.create_network()"
   ]
  },
  {
   "cell_type": "code",
   "execution_count": null,
   "id": "ee5af2af-3d62-412f-9c06-2b1b3b1fb3e0",
   "metadata": {},
   "outputs": [],
   "source": []
  }
 ],
 "metadata": {
  "kernelspec": {
   "display_name": "Python 3 (ipykernel)",
   "language": "python",
   "name": "python3"
  },
  "language_info": {
   "codemirror_mode": {
    "name": "ipython",
    "version": 3
   },
   "file_extension": ".py",
   "mimetype": "text/x-python",
   "name": "python",
   "nbconvert_exporter": "python",
   "pygments_lexer": "ipython3",
   "version": "3.9.2"
  }
 },
 "nbformat": 4,
 "nbformat_minor": 5
}
