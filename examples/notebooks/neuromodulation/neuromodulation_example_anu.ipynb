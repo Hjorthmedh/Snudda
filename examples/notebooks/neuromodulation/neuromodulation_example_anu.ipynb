{
 "cells": [
  {
   "cell_type": "markdown",
   "id": "138f1fa5-37b6-4563-a588-309e5b21b9d5",
   "metadata": {},
   "source": [
    "# Neuromodulation example\n",
    "\n",
    "This neuromodulation creates a small network of dSPN and iSPN. We also use the reaction diffusion model by Anu G Nair 2015.\n",
    "\n",
    "To generate the ```reaction_diffusion.json``` file in ```data/dspn_rxd``` from the xml file we run ```data/convert_sbml_to_json.sh```"
   ]
  },
  {
   "cell_type": "code",
   "execution_count": 1,
   "id": "5b55f23d-62ac-4433-8639-07870af8c40a",
   "metadata": {},
   "outputs": [
    {
     "name": "stdout",
     "output_type": "stream",
     "text": [
      "Adding neurons: neuron_1 from dir data/dspn_rxd\n",
      "Writing networks/neuromodulation_example_anu/network-config.json\n",
      "Placing neurons\n",
      "Network path: networks/neuromodulation_example_anu\n",
      "Creating missing directory networks/neuromodulation_example_anu/log\n",
      "Created directory networks/neuromodulation_example_anu/log\n",
      "Reading SNUDDA_DATA=None from networks/neuromodulation_example_anu/network-config.json\n",
      "No n_putative_points and putative_density, setting n_putative_points = 63\n",
      "(this must be larger than the number of neurons you want to place)\n",
      "Generating 63 points for networks/neuromodulation_example_anu/mesh/Cube-cube-mesh-2.917951293943981e-05.obj\n",
      "Filtering, keeping inside points: 4 / 29\n",
      "neuron_name = 'neuron_1', num = 2, neuron_path = 'data/dspn_rxd'\n",
      "stop_parallel disabled, to keep pool running.\n",
      "\n",
      "Execution time: 0.0s\n",
      "Touch detection\n",
      "Network path: networks/neuromodulation_example_anu\n",
      "Creating missing directory networks/neuromodulation_example_anu/voxels\n",
      "Created directory networks/neuromodulation_example_anu/voxels\n",
      "Reading SNUDDA_DATA=None from networks/neuromodulation_example_anu/network-config.json\n",
      "No d_view specified, running distribute neurons in serial\n",
      "No connections specified in connectivity_distribution.\n",
      "Reading SNUDDA_DATA=None from networks/neuromodulation_example_anu/network-config.json\n",
      "stop_parallel disabled, to keep pool running.\n",
      "\n",
      "Execution time: 0.1s\n",
      "Prune synapses\n",
      "Network path: networks/neuromodulation_example_anu\n",
      "No file networks/neuromodulation_example_anu/pruning_merge_info.json\n",
      "stop_parallel disabled, to keep pool running.\n",
      "\n",
      "Execution time: 0.1s\n"
     ]
    }
   ],
   "source": [
    "import os\n",
    "from snudda import Snudda\n",
    "\n",
    "neuron_path = os.path.join(\"data\", \"dspn_rxd\")\n",
    "network_path = os.path.join(\"networks\", \"neuromodulation_example_anu\")\n",
    "\n",
    "snudda = Snudda(network_path=network_path)\n",
    "snudda.init_tiny(neuron_paths=neuron_path, neuron_names=\"neuron_1\", number_of_neurons=[2], random_seed=123456)\n",
    "snudda.create_network()"
   ]
  },
  {
   "cell_type": "code",
   "execution_count": 2,
   "id": "d019b580-4193-4321-9ee8-9bdd3988209f",
   "metadata": {},
   "outputs": [
    {
     "name": "stdout",
     "output_type": "stream",
     "text": [
      "Creating missing directory networks/neuromodulation_example_anu/simulation\n",
      "Created directory networks/neuromodulation_example_anu/simulation\n",
      "Using input file None\n",
      "NEURON mechanisms already compiled, make sure you have the correct version of NEURON modules.\n",
      "If you delete x86_64, aarch64, arm64 directories (or nrnmech.dll) then you will force a recompilation of the modules.\n",
      "Reading SNUDDA_DATA=None from networks/neuromodulation_example_anu/network-config.json\n",
      "Reading SNUDDA_DATA=/home/hjorth/HBP/Snudda/snudda/utils/../data from networks/neuromodulation_example_anu/network-synapses.hdf5\n",
      "Warning: No external synaptic input file given!\n",
      "0 : Memory status: 70% free\n",
      "0 : Memory status: 70% free\n",
      "Added 0.0 gap junctions to simulation (0 total)\n",
      "Added 0 synapses to simulation (0 total)\n",
      "0 : Memory status: 70% free\n",
      "No input file given, not adding external input!\n",
      "0 : Memory status: 70% free\n",
      "0 : Memory status: 70% free\n",
      "Time set to 0 ms. No simulation run.\n",
      "Program run time: 0.5s\n"
     ]
    }
   ],
   "source": [
    "mech_dir = os.path.join(\"data\", \"mechanisms\")\n",
    "sim = snudda.simulate(time=0, mech_dir=mech_dir)"
   ]
  },
  {
   "cell_type": "code",
   "execution_count": 3,
   "id": "88bf71a5-19da-4e2e-8e90-29546a56cea1",
   "metadata": {},
   "outputs": [],
   "source": [
    "sim.add_rxd_concentration_recording(species=\"PKA\", neuron_id=0,\n",
    "                                    region=\"soma_internal\",\n",
    "                                    sec_type=\"soma\",\n",
    "                                    sec_id=0,\n",
    "                                    sec_x=0.5)"
   ]
  },
  {
   "cell_type": "code",
   "execution_count": null,
   "id": "9f5f9b57-9e65-4a09-87ab-cc6da2ce332e",
   "metadata": {},
   "outputs": [
    {
     "name": "stdout",
     "output_type": "stream",
     "text": [
      "Running simulation for 0.5 s\n",
      "Running Neuron simulator 500 ms, with dt=0.025\n",
      "1% done. Elapsed: 1.9 s, estimated time left: 192.7 s\n"
     ]
    }
   ],
   "source": [
    "sim.run(t=500)"
   ]
  },
  {
   "cell_type": "code",
   "execution_count": null,
   "id": "053125fc-9117-459b-a3e8-725ef45db53a",
   "metadata": {},
   "outputs": [],
   "source": [
    "sim.record.write()"
   ]
  },
  {
   "cell_type": "markdown",
   "id": "bfdb2c9a-4d32-453d-84b8-2c872bfd4050",
   "metadata": {},
   "source": [
    "## Load the data and plot"
   ]
  },
  {
   "cell_type": "code",
   "execution_count": null,
   "id": "d84ee6f3-4193-4509-ad4a-0d93dff5e3d9",
   "metadata": {},
   "outputs": [],
   "source": [
    "from snudda.utils import SnuddaLoadNetworkSimulation\n",
    "\n",
    "output_file = os.path.join(network_path, \"simulation\", \"output.hdf5\")\n",
    "nd = SnuddaLoadNetworkSimulation(output_file)\n",
    "time = nd.get_time()\n",
    "data_pka = nd.get_data(\"PKA\", 0)[0][0]"
   ]
  },
  {
   "cell_type": "code",
   "execution_count": null,
   "id": "d3bda015-1674-45ae-96f0-69167fd2cc89",
   "metadata": {},
   "outputs": [],
   "source": [
    "import matplotlib.pyplot as plt\n",
    "plt.figure()\n",
    "plt.plot(time, data_pka, label=\"PKA\")\n",
    "plt.xlabel(\"Time (s)\")\n",
    "plt.ylabel(\"Concentration\")\n",
    "plt.legend()\n",
    "plt.show()"
   ]
  },
  {
   "cell_type": "code",
   "execution_count": null,
   "id": "20144fff-adf6-4c4b-956d-97deb916d7e6",
   "metadata": {},
   "outputs": [],
   "source": []
  },
  {
   "cell_type": "code",
   "execution_count": null,
   "id": "d31a7d49-55b1-479c-942a-17cbd87fa412",
   "metadata": {},
   "outputs": [],
   "source": []
  },
  {
   "cell_type": "code",
   "execution_count": null,
   "id": "fc082055-9e38-4ed1-b842-40e166548071",
   "metadata": {},
   "outputs": [],
   "source": []
  },
  {
   "cell_type": "code",
   "execution_count": null,
   "id": "771e9726-be1d-43c3-ac9c-f6c8a25b4cb3",
   "metadata": {},
   "outputs": [],
   "source": []
  }
 ],
 "metadata": {
  "kernelspec": {
   "display_name": "Python 3 (ipykernel)",
   "language": "python",
   "name": "python3"
  },
  "language_info": {
   "codemirror_mode": {
    "name": "ipython",
    "version": 3
   },
   "file_extension": ".py",
   "mimetype": "text/x-python",
   "name": "python",
   "nbconvert_exporter": "python",
   "pygments_lexer": "ipython3",
   "version": "3.9.2"
  }
 },
 "nbformat": 4,
 "nbformat_minor": 5
}
