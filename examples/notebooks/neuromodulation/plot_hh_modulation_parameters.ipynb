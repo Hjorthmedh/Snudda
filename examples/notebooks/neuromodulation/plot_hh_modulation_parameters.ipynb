{
 "cells": [
  {
   "cell_type": "code",
   "execution_count": 1,
   "id": "6416efc6-6a3c-4763-9c5d-4ba602910efd",
   "metadata": {},
   "outputs": [],
   "source": [
    "%load_ext autoreload\n",
    "%autoreload 2"
   ]
  },
  {
   "cell_type": "code",
   "execution_count": 2,
   "id": "44b6c7e1-fc41-4335-9292-da06344bc7a2",
   "metadata": {},
   "outputs": [],
   "source": [
    "import plotly.graph_objects as go\n",
    "import plotly.io as pio\n",
    "pio.templates.default = 'plotly_dark'\n",
    "pio.renderers.default = 'iframe'\n",
    "\n",
    "import json\n",
    "import numpy as np"
   ]
  },
  {
   "cell_type": "markdown",
   "id": "92995be4-07d6-4e99-a808-10608d36927b",
   "metadata": {},
   "source": [
    "def make_sigmoid(val, half, slope, maximum, minimum):\n",
    "    sigmoid = (maximum-minimum)*1/(1 + np.exp(-(val - half) / slope)) + minimum\n",
    "    return sigmoid"
   ]
  },
  {
   "cell_type": "code",
   "execution_count": 3,
   "id": "0cdbe78f-d589-4834-bd54-710bdb96fe39",
   "metadata": {},
   "outputs": [],
   "source": [
    "def make_hill(conc, half, hill, maximum, minimum):\n",
    "    return minimum + (maximum - minimum) * (conc ** hill) / ((conc ** hill) + (half ** hill))\n"
   ]
  },
  {
   "cell_type": "markdown",
   "id": "71d461b7-707b-4d62-a830-37a0896e4f56",
   "metadata": {},
   "source": [
    "## KIR channel\n",
    "We want to have EC90 at 1.25\n",
    "\n",
    "We assume PKA (although it probably should be PKC) activation is halved at D2 activation, we then want approx 10% reduction\n",
    "\n",
    "Baseline is 3.6e-6 mM PKAc\n",
    "D1 activation --> 36e-6 mM PKAc\n",
    "D2 activation --> 1.8e-6 mM PKAc"
   ]
  },
  {
   "cell_type": "code",
   "execution_count": 25,
   "id": "13880088-3b08-414d-842a-a26c3631e684",
   "metadata": {},
   "outputs": [
    {
     "name": "stdout",
     "output_type": "stream",
     "text": [
      "D2 activation -- Conc: 1.8e-06mM, modulation: 0.8999999999999999\n",
      "base -- Conc: 3.6e-06mM, modulation: 1.0\n",
      "D1 activation -- Conc: 3.6e-05mM, modulation: 1.2454545454545456\n"
     ]
    },
    {
     "data": {
      "text/html": [
       "<iframe\n",
       "    scrolling=\"no\"\n",
       "    width=\"100%\"\n",
       "    height=\"545px\"\n",
       "    src=\"iframe_figures/figure_25.html\"\n",
       "    frameborder=\"0\"\n",
       "    allowfullscreen\n",
       "></iframe>\n"
      ]
     },
     "metadata": {},
     "output_type": "display_data"
    }
   ],
   "source": [
    "\n",
    "values = np.arange(0, 150e-6, 0.1e-6)\n",
    "half = 3.6e-6\n",
    "hill = 1\n",
    "maximum = 1.3\n",
    "minimum = 0.7\n",
    "\n",
    "ss = make_hill(values, half=half, hill=hill, maximum=maximum, minimum=minimum)\n",
    "\n",
    "conc = np.array([1.8e-6, 3.6e-6, 36e-6])\n",
    "for t, c, h in zip([\"D2 activation\", \"base\", \"D1 activation\"], \n",
    "                   conc, \n",
    "                   make_hill(conc, half=half, hill=hill, maximum=maximum, minimum=minimum)):\n",
    "    print(f\"{t} -- Conc: {c}mM, modulation: {h}\")\n",
    "\n",
    "fig=go.Figure(go.Scatter(x=values, y=ss))\n",
    "#fig.update_layout(xaxis_range=[0, 20e-6])\n",
    "fig.show()"
   ]
  },
  {
   "cell_type": "code",
   "execution_count": 23,
   "id": "6cf2da98-8946-4f1e-b1b0-d9f9dce59b5a",
   "metadata": {},
   "outputs": [
    {
     "data": {
      "text/html": [
       "<iframe\n",
       "    scrolling=\"no\"\n",
       "    width=\"100%\"\n",
       "    height=\"545px\"\n",
       "    src=\"iframe_figures/figure_23.html\"\n",
       "    frameborder=\"0\"\n",
       "    allowfullscreen\n",
       "></iframe>\n"
      ]
     },
     "metadata": {},
     "output_type": "display_data"
    }
   ],
   "source": [
    "# CAL12\n",
    "values = np.arange(0, 150e-6, 0.1e-6)\n",
    "ss = make_hill(values, half=3.6e-6, hill=1, maximum=1.2, minimum=0.8)\n",
    "\n",
    "\n",
    "fig=go.Figure(go.Scatter(x=values, y=ss))\n",
    "#fig.update_layout(xaxis_range=[0, 20e-6])\n",
    "fig.show()"
   ]
  },
  {
   "cell_type": "code",
   "execution_count": null,
   "id": "66d6666b-281e-4624-8ad2-711009e9eede",
   "metadata": {},
   "outputs": [],
   "source": []
  }
 ],
 "metadata": {
  "kernelspec": {
   "display_name": "Python 3 (ipykernel)",
   "language": "python",
   "name": "python3"
  },
  "language_info": {
   "codemirror_mode": {
    "name": "ipython",
    "version": 3
   },
   "file_extension": ".py",
   "mimetype": "text/x-python",
   "name": "python",
   "nbconvert_exporter": "python",
   "pygments_lexer": "ipython3",
   "version": "3.9.2"
  }
 },
 "nbformat": 4,
 "nbformat_minor": 5
}
