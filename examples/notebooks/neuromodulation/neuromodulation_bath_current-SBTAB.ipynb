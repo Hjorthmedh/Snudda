{
 "cells": [
  {
   "cell_type": "markdown",
   "id": "138f1fa5-37b6-4563-a588-309e5b21b9d5",
   "metadata": {},
   "source": [
    "# Neuromodulation example  (bath)\n",
    "\n",
    "This neuromodulation creates a small network of neurons. We also use the reaction diffusion model by Anu G Nair 2015.\n",
    "\n",
    "To generate the ```reaction_diffusion_D1_from_SBTab.json``` file in ```data/str-dspn-e150602_c1_D1-mWT-0728MSN01-v20211026/``` from the xml file we run ```data/convert_sbtab_to_json.sh```\n",
    "\n",
    "Reference for DA modulation cascade:\n",
    "\n",
    "Lindroos R, Dorst MC, Du K, et al. Basal Ganglia Neuromodulation Over Multiple Temporal and Structural Scales-Simulations of Direct Pathway MSNs Investigate the Fast Onset of Dopaminergic Effects and Predict the Role of Kv4.2. Front Neural Circuits. 2018;12:3. Published 2018 Feb 6. doi:10.3389/fncir.2018.00003\n",
    "\n",
    "Here we use the data from Planert:\n",
    "Planert H, Berger TK, Silberberg G. Membrane properties of striatal direct and indirect pathway neurons in mouse and rat slices and their modulation by dopamine. PLoS One. 2013;8(3):e57054. doi:10.1371/journal.pone.0057054\n",
    "\n",
    "The neurons are held at -60mV, or -80mV, then a current injection is applied for 500ms to trigger spiking.\n",
    "\n",
    "Figure 4:\n",
    "\n"
   ]
  },
  {
   "cell_type": "markdown",
   "id": "1746feed-04de-4020-a2cb-f884e8e9698a",
   "metadata": {},
   "source": [
    "## Network setup\n",
    "\n",
    "We have two neurons. The first neuron (Neuron 0) receives external input (cortical from t=0s and DA from t=0.1s). The cortical input will activate the first neuron, and through activation of synapses on the second neuron, we will see the dopamine level increase in the second neuron (Neuron 1).\n",
    "\n",
    "The first neuron also receives direct DA activation from external input (starting at 100ms)."
   ]
  },
  {
   "cell_type": "code",
   "execution_count": null,
   "id": "1fe99a8b-bfd5-4759-8445-0ad12c9e2818",
   "metadata": {},
   "outputs": [],
   "source": [
    "%load_ext autoreload\n",
    "%autoreload 2"
   ]
  },
  {
   "cell_type": "code",
   "execution_count": 1,
   "id": "034b649c-439d-43d6-809e-e0f705bcc12f",
   "metadata": {},
   "outputs": [],
   "source": [
    "import plotly.io as pio \n",
    "pio.templates.default = \"simple_white\""
   ]
  },
  {
   "cell_type": "code",
   "execution_count": 2,
   "id": "5b55f23d-62ac-4433-8639-07870af8c40a",
   "metadata": {},
   "outputs": [],
   "source": [
    "import os\n",
    "from snudda import Snudda\n",
    "\n",
    "neuron_path = os.path.join(\"data\", \"dspn\")\n",
    "network_path = os.path.join(\"networks\", \"neuromodulation_bath_current_SBTab\")"
   ]
  },
  {
   "cell_type": "code",
   "execution_count": 3,
   "id": "ad92699c-455c-4fcd-b742-4391c78a0fd5",
   "metadata": {},
   "outputs": [
    {
     "name": "stdout",
     "output_type": "stream",
     "text": [
      "Warning, no snudda_data set!\n",
      "Adding neurons: dspn from dir data/dspn\n",
      "Writing networks/neuromodulation_bath_current_SBTab/network-config.json\n",
      "Writing networks/neuromodulation_bath_current_SBTab/network-config.json\n",
      "Placing neurons\n",
      "Network path: networks/neuromodulation_bath_current_SBTab\n",
      "Reading SNUDDA_DATA=None from networks/neuromodulation_bath_current_SBTab/network-config.json\n",
      "Reading SNUDDA_DATA=/home/hjorth/HBP/Snudda/snudda/data from networks/neuromodulation_bath_current_SBTab/network-synapses.hdf5\n",
      "No n_putative_points and putative_density, setting n_putative_points = 63\n",
      "(this must be larger than the number of neurons you want to place)\n",
      "Generating 63 points for networks/neuromodulation_bath_current_SBTab/mesh/Cube-cube-mesh-2.917951293943981e-05.obj\n",
      "Filtering, keeping inside points: 2 / 26\n",
      "Managed to create 2 putative points within the volume.\n",
      "  WARNING --> is the volume too small? You can create new cube mesh using create_cube_mesh.py\n",
      "\n",
      "Example how to use create_cube_mesh.py:\n",
      "from snudda.place.create_cube_mesh import create_cube_mesh\n",
      "create_cube_mesh(file_name='your_cube_mesh_name.obj', \n",
      "                 centre_point=(0,0,0), side_len=300e-6,\n",
      "                 description='Adjust side_len to get correct neuron density')\n",
      "\n",
      "neuron_name = 'dspn_0', num = np.int64(2), neuron_path = 'data/dspn/str-dspn-e150602_c1_D1-mWT-0728MSN01-v20211026'\n",
      "stop_parallel disabled, to keep pool running.\n",
      "\n",
      "Execution time: 0.0s\n",
      "Touch detection\n",
      "Network path: networks/neuromodulation_bath_current_SBTab\n",
      "Reading SNUDDA_DATA=None from networks/neuromodulation_bath_current_SBTab/network-config.json\n",
      "Reading SNUDDA_DATA=/home/hjorth/HBP/Snudda/snudda/data from networks/neuromodulation_bath_current_SBTab/network-synapses.hdf5\n",
      "No d_view specified, running distribute neurons in serial\n",
      "No connections specified in connectivity_distribution.\n",
      "Reading SNUDDA_DATA=None from networks/neuromodulation_bath_current_SBTab/network-config.json\n",
      "stop_parallel disabled, to keep pool running.\n",
      "\n",
      "Execution time: 0.1s\n",
      "Prune synapses\n",
      "Network path: networks/neuromodulation_bath_current_SBTab\n",
      "No file networks/neuromodulation_bath_current_SBTab/pruning_merge_info.json\n",
      "stop_parallel disabled, to keep pool running.\n",
      "\n",
      "Execution time: 0.1s\n"
     ]
    }
   ],
   "source": [
    "snudda = Snudda(network_path=network_path)\n",
    "si = snudda.init_tiny(neuron_paths=neuron_path, neuron_names=\"dspn\", number_of_neurons=[2], \n",
    "                      random_seed=123)\n",
    "\n",
    "si.network_data[\"regions\"][\"Cube\"][\"neurons\"][\"dspn\"][\"reaction_diffusion\"] = \"data/JSON/reaction_diffusion_D1_from_SBTab.json\"\n",
    "\n",
    "# How the ion channels are modified by DA\n",
    "si.network_data[\"regions\"][\"Cube\"][\"neurons\"][\"dspn\"][\"modulation\"] = \"modulation_parameters-v2.json\"\n",
    "# si.network_data[\"regions\"][\"Cube\"][\"neurons\"][\"dspn\"][\"modulation\"] = \"test-modulation-no-effect.json\"\n",
    "# si.network_data[\"regions\"][\"Cube\"][\"neurons\"][\"dspn\"][\"modulation\"] = \"test-modulation-exclude-all.json\"\n",
    "\n",
    "\n",
    "si.network_data[\"regions\"][\"Cube\"][\"neurons\"][\"dspn\"][\"modulation_key\"] = \"abc\"\n",
    "\n",
    "si.write_json()\n",
    "\n",
    "snudda.create_network()"
   ]
  },
  {
   "cell_type": "code",
   "execution_count": 4,
   "id": "97d5d05b-f51a-41cd-9641-63a6a835b309",
   "metadata": {},
   "outputs": [],
   "source": [
    "# Free memory\n",
    "snudda = None"
   ]
  },
  {
   "cell_type": "markdown",
   "id": "38468f7e-6ef2-464c-bfe9-1cb7cc9ea46b",
   "metadata": {},
   "source": [
    "### No synaptic input, only current injections!"
   ]
  },
  {
   "cell_type": "code",
   "execution_count": 5,
   "id": "ae7ebf60-1556-4e07-81c6-85156c90bfad",
   "metadata": {},
   "outputs": [],
   "source": [
    "sim_output_neuromodulation_ON = os.path.join(network_path, \"simulation\", \"output_neuromodulation_ON.hdf5\")\n",
    "sim_output_neuromodulation_OFF = os.path.join(network_path, \"simulation\", \"output_neuromodulation_OFF.hdf5\")"
   ]
  },
  {
   "cell_type": "code",
   "execution_count": 6,
   "id": "d019b580-4193-4321-9ee8-9bdd3988209f",
   "metadata": {},
   "outputs": [],
   "source": [
    "# mech_dir = os.path.join(\"..\", \"..\", \"..\", \"..\", \"BasalGangliaData\", \"data\", \"neurons\", \"mechanisms\")\n",
    "mech_dir = \"/home/hjorth/BasalGangliaData/data/neurons/mechanisms\"\n",
    "sample_dt = None # 0.00005\n",
    "\n",
    "# sim = snudda.simulate(time=0, mech_dir=mech_dir, verbose=True, sample_dt=sample_dt, output_file=sim_output_neuromodulation_ON)"
   ]
  },
  {
   "cell_type": "code",
   "execution_count": 7,
   "id": "207658ef-0747-4c87-babb-d3076e3f7a33",
   "metadata": {},
   "outputs": [],
   "source": [
    "# sim_config_on = os.path.join(\"data\", \"da_experiment_on.json\")\n",
    "# sim_config_off = os.path.join(\"data\", \"da_experiment_off.json\")\n",
    "\n",
    "snudda = None\n",
    "\n",
    "sim_config_on = os.path.join(\"data\", \"da_experiment_cur_inj_on_bath_sbtab.json\")\n",
    "sim_config_off = os.path.join(\"data\", \"da_experiment_cur_inj_off_bath_sbtab.json\")\n",
    "\n",
    "\n",
    "sim_time = 3\n",
    "n_workers = 2"
   ]
  },
  {
   "cell_type": "markdown",
   "id": "56760ccb-c832-4852-b696-323198f8d771",
   "metadata": {},
   "source": [
    "## Running simulations\n",
    "\n",
    "To see progress of the two simulations in log files ```networks/neuromodulation_ON_OFF/log/network-simulation-ON.txt``` and ```networks/neuromodulation_ON_OFF/log/network-simulation-OFF.txt```."
   ]
  },
  {
   "cell_type": "code",
   "execution_count": 10,
   "id": "6b6b0fa2-93d2-4d0b-92ef-3c4949ac3355",
   "metadata": {},
   "outputs": [
    {
     "name": "stdout",
     "output_type": "stream",
     "text": [
      "mpirun -n 2 snudda simulate networks/neuromodulation_bath_current_SBTab --time 3 --simulation_config data/da_experiment_cur_inj_on_bath_sbtab.json --mechdir /home/hjorth/BasalGangliaData/data/neurons/mechanisms --enable_rxd_neuromodulation\n"
     ]
    }
   ],
   "source": [
    "if n_workers > 1:\n",
    "    run_str_on = f\"mpirun -n {n_workers} snudda simulate {network_path} --time {sim_time} --simulation_config {sim_config_on} --mechdir {mech_dir} --enable_rxd_neuromodulation\"\n",
    "else:\n",
    "    run_str_on = f\"snudda simulate {network_path} --time {sim_time} --simulation_config {sim_config_on} --mechdir {mech_dir} --enable_rxd_neuromodulation\"\n",
    "\n",
    "print(run_str_on)"
   ]
  },
  {
   "cell_type": "code",
   "execution_count": 11,
   "id": "6bc7d396-09b0-46cc-89da-ff3c356b2b6e",
   "metadata": {},
   "outputs": [
    {
     "name": "stderr",
     "output_type": "stream",
     "text": [
      "[debian-gnu-linux-11][[5433,1],0][../../../../../../opal/mca/btl/tcp/btl_tcp_proc.c:266:mca_btl_tcp_proc_create_interface_graph] Unable to find reachable pairing between local and remote interfaces\n",
      "[debian-gnu-linux-11][[5433,1],1][../../../../../../opal/mca/btl/tcp/btl_tcp_proc.c:266:mca_btl_tcp_proc_create_interface_graph] Unable to find reachable pairing between local and remote interfaces\n"
     ]
    },
    {
     "name": "stdout",
     "output_type": "stream",
     "text": [
      "numprocs=2\n",
      "args.ipython_profile = None\n",
      "args.ipython_profile = None\n",
      "args: Namespace(action='simulate', path='networks/neuromodulation_bath_current_SBTab', network_file=None, input_file=None, output_file=None, time=3.0, snudda_data=None, simulation_config='data/da_experiment_cur_inj_on_bath_sbtab.json', record_volt=True, randomseed=None, disable_synapses=None, disable_gj=None, mech_dir='/home/hjorth/BasalGangliaData/data/neurons/mechanisms', profile=False, verbose=False, exportCoreNeuron=False, record_all=None, enable_rxd_neuromodulation=True, disable_rxd_neuromodulation=None, ipython_profile=None)\n",
      "MPI Rank: 1, Size: 2\n",
      "Using input file None\n",
      "NEURON mechanisms already compiled, make sure you have the correct version of NEURON modules.\n",
      "If you delete x86_64, aarch64, arm64 directories (or nrnmech.dll) then you will force a recompilation of the modules.\n",
      "args: Namespace(action='simulate', path='networks/neuromodulation_bath_current_SBTab', network_file=None, input_file=None, output_file=None, time=3.0, snudda_data=None, simulation_config='data/da_experiment_cur_inj_on_bath_sbtab.json', record_volt=True, randomseed=None, disable_synapses=None, disable_gj=None, mech_dir='/home/hjorth/BasalGangliaData/data/neurons/mechanisms', profile=False, verbose=False, exportCoreNeuron=False, record_all=None, enable_rxd_neuromodulation=True, disable_rxd_neuromodulation=None, ipython_profile=None)\n",
      "MPI Rank: 0, Size: 2\n",
      "Using input file None\n",
      "NEURON mechanisms already compiled, make sure you have the correct version of NEURON modules.\n",
      "If you delete x86_64, aarch64, arm64 directories (or nrnmech.dll) then you will force a recompilation of the modules.\n",
      "Reading SNUDDA_DATA=None from networks/neuromodulation_bath_current_SBTab/network-config.json\n",
      "Reading SNUDDA_DATA=None from networks/neuromodulation_bath_current_SBTab/network-config.json\n",
      "Reading SNUDDA_DATA=/home/hjorth/HBP/Snudda/snudda/data from networks/neuromodulation_bath_current_SBTab/network-synapses.hdf5\n",
      "MPI Rank: 1, Size: 2 -- NEURON: This is node 1 out of 2\n",
      "Reading config: data/da_experiment_cur_inj_on_bath_sbtab.json\n",
      "Loading simulation_config from data/da_experiment_cur_inj_on_bath_sbtab.json\n",
      "Reading SNUDDA_DATA=/home/hjorth/HBP/Snudda/snudda/data from networks/neuromodulation_bath_current_SBTab/network-synapses.hdf5\n",
      "MPI Rank: 0, Size: 2 -- NEURON: This is node 0 out of 2\n",
      "Reading config: data/da_experiment_cur_inj_on_bath_sbtab.json\n",
      "Loading simulation_config from data/da_experiment_cur_inj_on_bath_sbtab.json\n",
      "1 : Memory status: 85% free\n",
      "0 : Memory status: 85% free\n",
      "0 : Memory status: 83% free\n",
      "1 : Memory status: 83% free\n",
      "Added 0.0 gap junctions to simulation (0 total)\n",
      "Added 0 synapses to simulation (0 total)\n",
      "0 : Memory status: 83% free\n",
      "1 : Memory status: 83% free\n",
      "0 : Memory status: 84% free\n",
      "0 : Memory status: 84% free\n",
      "Running simulation for 3000.0 ms.\n",
      "1 : Memory status: 83% free\n",
      "1 : Memory status: 83% free\n",
      "Running simulation for 3000.0 ms.\n",
      "Running simulation for 3.0 s\n",
      "Running Neuron simulator 3000 ms, with dt=0.025\n",
      "Running simulation for 3.0 s\n",
      "Running Neuron simulator 3000 ms, with dt=0.025\n",
      "  1% done. Elapsed: 85.3 s, estimated time left: 8442.2 s\n",
      "  3% done. Elapsed: 271.9 s, estimated time left: 8790.7 s\n",
      "  5% done. Elapsed: 452.7 s, estimated time left: 8601.1 s\n",
      " 10% done. Elapsed: 897.0 s, estimated time left: 8072.7 s\n",
      " 20% done. Elapsed: 1805.9 s, estimated time left: 7223.6 s\n",
      " 30% done. Elapsed: 2728.1 s, estimated time left: 6365.6 s\n",
      " 40% done. Elapsed: 3626.1 s, estimated time left: 5439.1 s\n",
      " 50% done. Elapsed: 4519.2 s, estimated time left: 4519.2 s\n",
      " 60% done. Elapsed: 5432.1 s, estimated time left: 3621.4 s\n",
      " 70% done. Elapsed: 6350.6 s, estimated time left: 2721.7 s\n",
      " 80% done. Elapsed: 7248.8 s, estimated time left: 1812.2 s\n",
      " 90% done. Elapsed: 8138.3 s, estimated time left: 904.3 s\n",
      "100% done. Elapsed: 9039.4 s, estimated time left: 0.0 s\n",
      "Neuron simulation finished\n",
      "Neuron simulation finished\n",
      "Simulation run time: 9053.5 s\n",
      "Simulation done, saving output\n",
      "Simulation run time: 9052.9 s\n",
      "Simulation done, saving output\n",
      "Writing network output to networks/neuromodulation_bath_current_SBTab/simulation/output_neuromodulation_ON.hdf5\n",
      "Using sample dt = None (sample step size None)\n",
      "Worker 1/2 writing data to networks/neuromodulation_bath_current_SBTab/simulation/output_neuromodulation_ON.hdf5\n",
      "Worker 2/2 writing data to networks/neuromodulation_bath_current_SBTab/simulation/output_neuromodulation_ON.hdf5\n",
      "Program run time: 9200.8s\n"
     ]
    },
    {
     "data": {
      "text/plain": [
       "0"
      ]
     },
     "execution_count": 11,
     "metadata": {},
     "output_type": "execute_result"
    }
   ],
   "source": [
    "# %%timeit\n",
    "os.system(run_str_on)"
   ]
  },
  {
   "cell_type": "raw",
   "id": "a7ed805a-aebb-438c-bc28-cd85c83ef06d",
   "metadata": {},
   "source": [
    "import subprocess\n",
    "result = subprocess.run(run_str_on.split(\" \"), capture_output=True, text=True)\n",
    "print(f\"wtf {result}\")\n",
    "# print(f\" return code: {result.return}\\nstdout: {result.stdout}\\nstderr: {result.stderr}\")"
   ]
  },
  {
   "cell_type": "markdown",
   "id": "0c9d6057-e439-40e1-b7e7-4d55bdec3ce7",
   "metadata": {},
   "source": [
    "### Rerun without neuromodulation"
   ]
  },
  {
   "cell_type": "code",
   "execution_count": 8,
   "id": "0f3648c5-2f5f-4b5b-b438-5eb15bffdd61",
   "metadata": {},
   "outputs": [
    {
     "name": "stdout",
     "output_type": "stream",
     "text": [
      "mpirun -n 2 snudda simulate networks/neuromodulation_bath_current_SBTab --time 3 --simulation_config data/da_experiment_cur_inj_off_bath_sbtab.json --mechdir /home/hjorth/BasalGangliaData/data/neurons/mechanisms \n"
     ]
    }
   ],
   "source": [
    "if n_workers > 1:\n",
    "    run_str_off = f\"mpirun -n {n_workers} snudda simulate {network_path} --time {sim_time} --simulation_config {sim_config_off} --mechdir {mech_dir} \"\n",
    "else:\n",
    "    run_str_off = f\"snudda simulate {network_path} --time {sim_time} --simulation_config {sim_config_off} --mechdir {mech_dir} \"\n",
    "    \n",
    "print(run_str_off)"
   ]
  },
  {
   "cell_type": "code",
   "execution_count": 9,
   "id": "e3cdbcb1-7520-4a7c-93d8-61071697b8ca",
   "metadata": {},
   "outputs": [
    {
     "name": "stderr",
     "output_type": "stream",
     "text": [
      "[debian-gnu-linux-11][[39420,1],1][../../../../../../opal/mca/btl/tcp/btl_tcp_proc.c:266:mca_btl_tcp_proc_create_interface_graph] Unable to find reachable pairing between local and remote interfaces\n",
      "[debian-gnu-linux-11][[39420,1],0][../../../../../../opal/mca/btl/tcp/btl_tcp_proc.c:266:mca_btl_tcp_proc_create_interface_graph] Unable to find reachable pairing between local and remote interfaces\n"
     ]
    },
    {
     "name": "stdout",
     "output_type": "stream",
     "text": [
      "numprocs=2\n",
      "args.ipython_profile = None\n",
      "args: Namespace(action='simulate', path='networks/neuromodulation_bath_current_SBTab', network_file=None, input_file=None, output_file=None, time=3.0, snudda_data=None, simulation_config='data/da_experiment_cur_inj_off_bath_sbtab.json', record_volt=True, randomseed=None, disable_synapses=None, disable_gj=None, mech_dir='/home/hjorth/BasalGangliaData/data/neurons/mechanisms', profile=False, verbose=False, exportCoreNeuron=False, record_all=None, enable_rxd_neuromodulation=None, disable_rxd_neuromodulation=None, ipython_profile=None)\n",
      "MPI Rank: 0, Size: 2\n",
      "Using input file None\n",
      "NEURON mechanisms already compiled, make sure you have the correct version of NEURON modules.\n",
      "If you delete x86_64, aarch64, arm64 directories (or nrnmech.dll) then you will force a recompilation of the modules.\n",
      "args.ipython_profile = None\n",
      "args: Namespace(action='simulate', path='networks/neuromodulation_bath_current_SBTab', network_file=None, input_file=None, output_file=None, time=3.0, snudda_data=None, simulation_config='data/da_experiment_cur_inj_off_bath_sbtab.json', record_volt=True, randomseed=None, disable_synapses=None, disable_gj=None, mech_dir='/home/hjorth/BasalGangliaData/data/neurons/mechanisms', profile=False, verbose=False, exportCoreNeuron=False, record_all=None, enable_rxd_neuromodulation=None, disable_rxd_neuromodulation=None, ipython_profile=None)\n",
      "MPI Rank: 1, Size: 2\n",
      "Using input file None\n",
      "NEURON mechanisms already compiled, make sure you have the correct version of NEURON modules.\n",
      "If you delete x86_64, aarch64, arm64 directories (or nrnmech.dll) then you will force a recompilation of the modules.\n",
      "Reading SNUDDA_DATA=None from networks/neuromodulation_bath_current_SBTab/network-config.json\n",
      "Reading SNUDDA_DATA=None from networks/neuromodulation_bath_current_SBTab/network-config.json\n",
      "Reading SNUDDA_DATA=/home/hjorth/HBP/Snudda/snudda/data from networks/neuromodulation_bath_current_SBTab/network-synapses.hdf5\n",
      "Reading SNUDDA_DATA=/home/hjorth/HBP/Snudda/snudda/data from networks/neuromodulation_bath_current_SBTab/network-synapses.hdf5\n",
      "MPI Rank: 0, Size: 2 -- NEURON: This is node 0 out of 2\n",
      "Reading config: data/da_experiment_cur_inj_off_bath_sbtab.json\n",
      "Loading simulation_config from data/da_experiment_cur_inj_off_bath_sbtab.json\n",
      "MPI Rank: 1, Size: 2 -- NEURON: This is node 1 out of 2\n",
      "Reading config: data/da_experiment_cur_inj_off_bath_sbtab.json\n",
      "Loading simulation_config from data/da_experiment_cur_inj_off_bath_sbtab.json\n",
      "1 : Memory status: 85% free\n",
      "0 : Memory status: 85% free\n",
      "0 : Memory status: 84% free\n",
      "1 : Memory status: 84% free\n",
      "Added 0.0 gap junctions to simulation (0 total)\n",
      "Added 0 synapses to simulation (0 total)\n",
      "1 : Memory status: 84% free\n",
      "0 : Memory status: 84% free\n",
      "1 : Memory status: 84% free\n",
      "1 : Memory status: 84% free\n",
      "Running simulation for 3000.0 ms.\n",
      "0 : Memory status: 84% free\n",
      "0 : Memory status: 84% free\n",
      "Running simulation for 3000.0 ms.\n",
      "Running simulation for 3.0 s\n",
      "Running Neuron simulator 3000 ms, with dt=0.025\n",
      "Running simulation for 3.0 s\n",
      "Running Neuron simulator 3000 ms, with dt=0.025\n",
      "  1% done. Elapsed: 0.3 s, estimated time left: 26.5 s\n",
      "100% done. Elapsed: 28.5 s, estimated time left: 0.0 s\n",
      "Neuron simulation finished\n",
      "Simulation run time: 28.5 s\n",
      "Simulation done, saving output\n",
      "Neuron simulation finished\n",
      "Simulation run time: 28.5 s\n",
      "Simulation done, saving output\n",
      "Writing network output to networks/neuromodulation_bath_current_SBTab/simulation/output_neuromodulation_OFF.hdf5\n",
      "Using sample dt = None (sample step size None)\n",
      "Worker 1/2 writing data to networks/neuromodulation_bath_current_SBTab/simulation/output_neuromodulation_OFF.hdf5\n",
      "Worker 2/2 writing data to networks/neuromodulation_bath_current_SBTab/simulation/output_neuromodulation_OFF.hdf5\n",
      "Program run time: 28.8s\n"
     ]
    },
    {
     "data": {
      "text/plain": [
       "0"
      ]
     },
     "execution_count": 9,
     "metadata": {},
     "output_type": "execute_result"
    }
   ],
   "source": [
    "os.system(run_str_off)"
   ]
  },
  {
   "cell_type": "markdown",
   "id": "bfdb2c9a-4d32-453d-84b8-2c872bfd4050",
   "metadata": {},
   "source": [
    "## Load the data and plot"
   ]
  },
  {
   "cell_type": "code",
   "execution_count": 12,
   "id": "d84ee6f3-4193-4509-ad4a-0d93dff5e3d9",
   "metadata": {},
   "outputs": [
    {
     "name": "stdout",
     "output_type": "stream",
     "text": [
      "Loading networks/neuromodulation_bath_current_SBTab/simulation/output_neuromodulation_ON.hdf5\n"
     ]
    }
   ],
   "source": [
    "from snudda.utils import SnuddaLoadSimulation\n",
    "\n",
    "nd = SnuddaLoadSimulation(sim_output_neuromodulation_ON)\n",
    "time = nd.get_time()\n",
    "data_pka = nd.get_data(\"PKAc\", 1)[0][1]\n",
    "data_da = nd.get_data(\"DA\", 1)[0][1]\n",
    "data_da_external = nd.get_data(\"DA\", 0)[0][0]\n",
    "\n",
    "# This is saved with add_rxd_internal_concentration_recording_all -- check that it worked \n",
    "data_pka_all0 = nd.get_data(\"PKAc\", 0)[0][0]"
   ]
  },
  {
   "cell_type": "code",
   "execution_count": 24,
   "id": "b72e5c19-3c2b-4c35-8488-e59b5a9d6db7",
   "metadata": {},
   "outputs": [
    {
     "data": {
      "text/plain": [
       "['AC5',\n",
       " 'AC5_ATP',\n",
       " 'AC5_Ca',\n",
       " 'AC5_Ca_ATP',\n",
       " 'AC5_Ca_GaolfGTP',\n",
       " 'AC5_Ca_GaolfGTP_ATP',\n",
       " 'AC5_GaolfGTP',\n",
       " 'AC5_GaolfGTP_ATP',\n",
       " 'AMP',\n",
       " 'ARPP21',\n",
       " 'ATP',\n",
       " 'B56PP2A',\n",
       " 'B56PP2A_D32p75',\n",
       " 'B56PP2A_pARPP21',\n",
       " 'B56PP2Ap',\n",
       " 'B56PP2Ap_D32p75',\n",
       " 'B56PP2Ap_pARPP21',\n",
       " 'B72PP2A',\n",
       " 'B72PP2A_Ca',\n",
       " 'B72PP2A_Ca_D32p34',\n",
       " 'B72PP2A_Ca_D32p75',\n",
       " 'B72PP2A_Ca_pARPP21',\n",
       " 'B72PP2A_D32p34',\n",
       " 'B72PP2A_D32p75',\n",
       " 'B72PP2A_pARPP21',\n",
       " 'CDK5',\n",
       " 'CDK5_D32',\n",
       " 'Ca',\n",
       " 'CaM',\n",
       " 'CaMKII',\n",
       " 'CaMKII_CaM',\n",
       " 'CaMKII_CaM_Ca2',\n",
       " 'CaMKII_CaM_Ca2_psd',\n",
       " 'CaMKII_CaM_Ca2_psd_Substrate',\n",
       " 'CaMKII_CaM_Ca4',\n",
       " 'CaMKII_CaM_Ca4_CaMKII_CaM_Ca4',\n",
       " 'CaMKII_CaM_Ca4_psd',\n",
       " 'CaMKII_CaM_Ca4_psd_CaMKII_CaM_Ca4_psd',\n",
       " 'CaMKII_CaM_Ca4_psd_Substrate',\n",
       " 'CaMKII_CaM_psd',\n",
       " 'CaMKII_CaM_psd_Substrate',\n",
       " 'CaMKII_psd',\n",
       " 'CaM_Ca2',\n",
       " 'CaM_Ca4',\n",
       " 'CaM_Ca4_pARPP21',\n",
       " 'D1R',\n",
       " 'D1R_DA',\n",
       " 'D1R_Golf',\n",
       " 'D1R_Golf_DA',\n",
       " 'D32',\n",
       " 'D32p34',\n",
       " 'D32p75',\n",
       " 'DA',\n",
       " 'GaolfGDP',\n",
       " 'GaolfGTP',\n",
       " 'Gbgolf',\n",
       " 'Golf',\n",
       " 'PDE10c',\n",
       " 'PDE10c_cAMP',\n",
       " 'PDE10r',\n",
       " 'PDE10r_cAMP',\n",
       " 'PDE4',\n",
       " 'PDE4_cAMP',\n",
       " 'PKA',\n",
       " 'PKA_Ca2MP',\n",
       " 'PKA_Ca4MP',\n",
       " 'PKAc',\n",
       " 'PKAc_ARPP21',\n",
       " 'PKAc_B56PP2A',\n",
       " 'PKAc_D32',\n",
       " 'PKAc_D32p75',\n",
       " 'PKAreg',\n",
       " 'PP1',\n",
       " 'PP1_D32p34',\n",
       " 'PP1_pCaMKII_psd',\n",
       " 'PP1_pSubstrate',\n",
       " 'PP2B',\n",
       " 'PP2B_CaM',\n",
       " 'PP2B_CaM_Ca2',\n",
       " 'PP2Bc',\n",
       " 'PP2Bc_D32p34',\n",
       " 'Substrate',\n",
       " 'cAMP',\n",
       " 'cal12_ms.modulation_factor',\n",
       " 'cal13_ms.modulation_factor',\n",
       " 'kaf_ms.modulation_factor_g',\n",
       " 'kaf_ms.modulation_factor_shift',\n",
       " 'kas_ms.modulation_factor',\n",
       " 'kir_ms.modulation_factor',\n",
       " 'naf_ms.modulation_factor',\n",
       " 'pARPP21',\n",
       " 'pCaMKII',\n",
       " 'pCaMKII_CaM',\n",
       " 'pCaMKII_CaM_Ca2',\n",
       " 'pCaMKII_CaM_Ca2_psd',\n",
       " 'pCaMKII_CaM_Ca2_psd_Substrate',\n",
       " 'pCaMKII_CaM_Ca4',\n",
       " 'pCaMKII_CaM_Ca4_CaMKII_CaM_Ca4',\n",
       " 'pCaMKII_CaM_Ca4_psd',\n",
       " 'pCaMKII_CaM_Ca4_psd_CaMKII_CaM_Ca4_psd',\n",
       " 'pCaMKII_CaM_Ca4_psd_Substrate',\n",
       " 'pCaMKII_CaM_psd',\n",
       " 'pCaMKII_CaM_psd_Substrate',\n",
       " 'pCaMKII_psd',\n",
       " 'pCaMKII_psd_Substrate',\n",
       " 'pSubstrate',\n",
       " 'spikes',\n",
       " 'voltage']"
      ]
     },
     "execution_count": 24,
     "metadata": {},
     "output_type": "execute_result"
    }
   ],
   "source": [
    "nd.list_data_types(1)"
   ]
  },
  {
   "cell_type": "code",
   "execution_count": 13,
   "id": "bd0f4edf-a622-490b-b39f-18f516975737",
   "metadata": {},
   "outputs": [],
   "source": [
    "data_types = nd.list_data_types(0)\n",
    "all_species_data = nd.get_all_data(neuron_id=0, exclude=[\"spikes\", \"voltage\"])\n",
    "time = nd.get_time()\n",
    "voltage = nd.get_data(\"voltage\", [0, 1])"
   ]
  },
  {
   "cell_type": "code",
   "execution_count": 25,
   "id": "a63a7152-730e-4868-a81a-cc87fccaf9f4",
   "metadata": {},
   "outputs": [
    {
     "data": {
      "text/html": [
       "<iframe\n",
       "    scrolling=\"no\"\n",
       "    width=\"1020px\"\n",
       "    height=\"820\"\n",
       "    src=\"iframe_figures/figure_25.html\"\n",
       "    frameborder=\"0\"\n",
       "    allowfullscreen\n",
       "></iframe>\n"
      ]
     },
     "metadata": {},
     "output_type": "display_data"
    }
   ],
   "source": [
    "import plotly.graph_objects as go\n",
    "import plotly.io as pio\n",
    "pio.renderers.default = \"iframe\"  # Do not save plots in the notebook, they can get BIG\n",
    "\n",
    "fig = go.Figure()\n",
    "for data_type in all_species_data:\n",
    "    idx = time >= 0.0\n",
    "    fig.add_trace(go.Scatter(x=time[idx], y=all_species_data[data_type][0][0].T[0][idx], name=data_type, line={\"width\":4}))\n",
    "\n",
    "fig.update_layout(xaxis_title=\"Time (s)\", yaxis_title=\"Concentration (mM)\", width=1000, height=800,\n",
    "                 font={\"size\":18},  # General font size for all elements\n",
    "                 legend={\"font\":{\"size\":16}},  # Specific font size for legend\n",
    "                 xaxis={\"title\":{\"font\":{\"size\":20}}, \"tickfont\":{\"size\":14}},  # X-axis title and tick labels\n",
    "                 yaxis={\"title\":{\"font\":{\"size\":20}}, \"tickfont\":{\"size\":14}})   # Y-axis title and tick labels\n",
    "\n",
    "fig.show()"
   ]
  },
  {
   "cell_type": "code",
   "execution_count": 26,
   "id": "72f59eb9-6af0-44da-9282-1eeb1b1c2100",
   "metadata": {},
   "outputs": [
    {
     "data": {
      "text/html": [
       "<iframe\n",
       "    scrolling=\"no\"\n",
       "    width=\"1020px\"\n",
       "    height=\"820\"\n",
       "    src=\"iframe_figures/figure_26.html\"\n",
       "    frameborder=\"0\"\n",
       "    allowfullscreen\n",
       "></iframe>\n"
      ]
     },
     "metadata": {},
     "output_type": "display_data"
    },
    {
     "data": {
      "text/html": [
       "<iframe\n",
       "    scrolling=\"no\"\n",
       "    width=\"1020px\"\n",
       "    height=\"820\"\n",
       "    src=\"iframe_figures/figure_26.html\"\n",
       "    frameborder=\"0\"\n",
       "    allowfullscreen\n",
       "></iframe>\n"
      ]
     },
     "metadata": {},
     "output_type": "display_data"
    }
   ],
   "source": [
    "# Reporting plot\n",
    "\n",
    "import plotly.graph_objects as go\n",
    "import plotly.io as pio\n",
    "pio.renderers.default = \"iframe\"  # Do not save plots in the notebook, they can get BIG\n",
    "\n",
    "fig = go.Figure()\n",
    "for data_type in [\"D1R_DA\", \"PKAc\", \"cAMP\"]: #all_species_data:\n",
    "    idx = time >= 0.0\n",
    "    # Convert concentration to uM\n",
    "    fig.add_trace(go.Scatter(x=time[idx], y=all_species_data[data_type][0][0].T[0][idx]*1e3, name=data_type, line={\"width\":7}))\n",
    "\n",
    "fig.update_layout(xaxis_title=\"Time (s)\", yaxis_title=\"Concentration (μM)\", width=1000, height=800,\n",
    "                  font={\"size\":40},  # General font size for all elements\n",
    "                  legend={\"font\":{\"size\":40}},  # Specific font size for legend\n",
    "                  xaxis={\"title\":{\"font\":{\"size\":50}}, \"tickfont\":{\"size\":40}},  # X-axis title and tick labels\n",
    "                  yaxis={\"title\":{\"font\":{\"size\":50}}, \"tickfont\":{\"size\":40}, \"dtick\": 0.5})   # Y-axis title and tick labels\n",
    "\n",
    "\n",
    "fig.show()\n",
    "\n",
    "fig.write_image(\"example-da-cascade-1-sbtab.png\", width=1200, height=800)\n",
    "\n",
    "\n",
    "fig2 = go.Figure()\n",
    "for data_type in [\"cal12_ms.modulation_factor\", \"cal13_ms.modulation_factor\", \n",
    "                  \"kas_ms.modulation_factor\", \"kir_ms.modulation_factor\", \"naf_ms.modulation_factor\", ]: #all_species_data:\n",
    "    idx = time >= 0.0\n",
    "    # data_type_str = data_type.replace(\"modulation_factor\", \"modulation\")\n",
    "    data_type_str = data_type.replace(\"_ms.modulation_factor\", \"\")\n",
    "    fig2.add_trace(go.Scatter(x=time[idx], y=all_species_data[data_type][0][0].T[0][idx], name=data_type_str, line={\"width\":7}))\n",
    "\n",
    "fig2.update_layout(xaxis_title=\"Time (s)\", yaxis_title=\"Modulation factor\", width=1000, height=800,\n",
    "                  font={\"size\":40},  # General font size for all elements\n",
    "                  legend={\"font\":{\"size\":40}},  # Specific font size for legend\n",
    "                  xaxis={\"title\":{\"font\":{\"size\":50}}, \"tickfont\":{\"size\":40}},  # X-axis title and tick labels\n",
    "                  yaxis={\"title\":{\"font\":{\"size\":50}}, \"tickfont\":{\"size\":40}, \"dtick\": 0.25})   # Y-axis title and tick labels\n",
    "\n",
    "fig2.show()\n",
    "fig2.write_image(\"example-da-cascade-2-effect-sbtab.png\", width=1200, height=800)\n"
   ]
  },
  {
   "cell_type": "code",
   "execution_count": null,
   "id": "ad49456c-9e8c-4f16-b0de-524c84d33d35",
   "metadata": {},
   "outputs": [],
   "source": [
    "# fig.write_html(\"ask-jeanette2.html\")"
   ]
  },
  {
   "cell_type": "code",
   "execution_count": 14,
   "id": "511489ad-b3d6-4301-a8bd-fa870cf456e4",
   "metadata": {},
   "outputs": [],
   "source": [
    "data_types2 = nd.list_data_types(0)\n",
    "all_species_data2 = nd.get_all_data(neuron_id=1, exclude=[\"spikes\", \"voltage\"])\n",
    "time = nd.get_time()\n",
    "voltage = nd.get_data(\"voltage\", [0, 1])"
   ]
  },
  {
   "cell_type": "code",
   "execution_count": null,
   "id": "d231b4e4-4a56-47b5-84f6-e13b6e721125",
   "metadata": {},
   "outputs": [],
   "source": [
    "import plotly.graph_objects as go\n",
    "import plotly.io as pio\n",
    "pio.renderers.default = \"iframe\"  # Do not save plots in the notebook, they can get BIG\n",
    "\n",
    "fig = go.Figure()\n",
    "for data_type in all_species_data2:\n",
    "    fig.add_trace(go.Scatter(x=time, y=all_species_data2[data_type][0][1].T[0], name=data_type))\n",
    "\n",
    "fig.update_layout(title=\"With DA modulation\", xaxis_title=\"Time (s)\", yaxis_title=\"Concentration (mM)\", width=1000, height=800)\n",
    "fig.show()\n",
    "fig.write_image(\"DA_modulation_reactions-sbtab.png\", width=1200, height=800)\n"
   ]
  },
  {
   "cell_type": "code",
   "execution_count": 15,
   "id": "81722b1c-c30c-445e-a5f5-abaa823f0ce4",
   "metadata": {},
   "outputs": [
    {
     "name": "stdout",
     "output_type": "stream",
     "text": [
      "Loading networks/neuromodulation_bath_current_SBTab/simulation/output_neuromodulation_OFF.hdf5\n"
     ]
    }
   ],
   "source": [
    "from snudda.utils import SnuddaLoadSimulation\n",
    "\n",
    "nd_off = SnuddaLoadSimulation(sim_output_neuromodulation_OFF)\n",
    "time_off = nd_off.get_time()\n",
    "voltage_off = nd_off.get_data(\"voltage\", [0, 1])"
   ]
  },
  {
   "cell_type": "code",
   "execution_count": 22,
   "id": "1e9ce899-6243-448b-a4ac-2ba3e83f522e",
   "metadata": {},
   "outputs": [
    {
     "data": {
      "text/html": [
       "<iframe\n",
       "    scrolling=\"no\"\n",
       "    width=\"1020px\"\n",
       "    height=\"820\"\n",
       "    src=\"iframe_figures/figure_22.html\"\n",
       "    frameborder=\"0\"\n",
       "    allowfullscreen\n",
       "></iframe>\n"
      ]
     },
     "metadata": {},
     "output_type": "display_data"
    }
   ],
   "source": [
    "import plotly.graph_objects as go\n",
    "import plotly.io as pio\n",
    "pio.renderers.default = \"iframe\"  # Do not save plots in the notebook, they can get BIG\n",
    "\n",
    "fig = go.Figure()\n",
    "\n",
    "sct_on = go.Scatter(x=time, y=voltage[0][0][:,0]*1e3, name=\"DA\", opacity=0.5,  line={\"width\":5, \"color\":\"red\"})\n",
    "sct_off = go.Scatter(x=time_off, y=voltage_off[0][0][:,0]*1e3, name=\"No DA\", opacity=0.5,  line={\"width\":5, \"color\":\"black\"})\n",
    "fig.add_traces([sct_on, sct_off])\n",
    "\n",
    "fig.update_layout(xaxis_title=\"Time (s)\", yaxis_title=\"Voltage (mV)\", width=1000, height=800,\n",
    "                  font={\"size\":40},  # General font size for all elements\n",
    "                  legend={\"font\":{\"size\":50}},  # Specific font size for legend\n",
    "                  xaxis={\"title\":{\"font\":{\"size\":50}}, \"tickfont\":{\"size\":40}, \"range\":[1,2.5], \"dtick\": 0.5},  # X-axis title and tick labels\n",
    "                  yaxis={\"title\":{\"font\":{\"size\":50}}, \"tickfont\":{\"size\":40},})   # Y-axis title and tick labels\n",
    "fig.show()\n",
    "fig.write_image(\"example-trace-sbtab.png\", scale=2, height=800, width=1200)"
   ]
  },
  {
   "cell_type": "code",
   "execution_count": 23,
   "id": "c1c558be-b54e-41e7-a64c-6c98e955ed2a",
   "metadata": {},
   "outputs": [
    {
     "data": {
      "text/html": [
       "<iframe\n",
       "    scrolling=\"no\"\n",
       "    width=\"1020px\"\n",
       "    height=\"820\"\n",
       "    src=\"iframe_figures/figure_23.html\"\n",
       "    frameborder=\"0\"\n",
       "    allowfullscreen\n",
       "></iframe>\n"
      ]
     },
     "metadata": {},
     "output_type": "display_data"
    }
   ],
   "source": [
    "fig = go.Figure()\n",
    "\n",
    "sct_on = go.Scatter(x=time, y=voltage[0][1][:,0]*1e3, name=\"DA\", opacity=0.5,  line={\"width\":5, \"color\":\"red\"})\n",
    "sct_off = go.Scatter(x=time_off, y=voltage_off[0][1][:,0]*1e3, name=\"No DA\", opacity=0.5,  line={\"width\":5, \"color\":\"black\"})\n",
    "fig.add_traces([sct_on, sct_off])\n",
    "\n",
    "fig.update_layout(xaxis_title=\"Time (s)\", yaxis_title=\"Voltage (mV)\", width=1000, height=800,\n",
    "                  font={\"size\":40},  # General font size for all elements\n",
    "                  legend={\"font\":{\"size\":50}},  # Specific font size for legend\n",
    "                  xaxis={\"title\":{\"font\":{\"size\":40}}, \"tickfont\":{\"size\":40}, \"range\":[1,2.5], \"dtick\": 0.5},  # X-axis title and tick labels\n",
    "                  yaxis={\"title\":{\"font\":{\"size\":40}}, \"tickfont\":{\"size\":40}})   # Y-axis title and tick labels\n",
    "\n",
    "fig.show()\n",
    "fig.write_image(\"example-trace2-sbtab.png\", scale=2, height=800, width=1200)"
   ]
  },
  {
   "cell_type": "markdown",
   "id": "cd855cab-eb67-4c0c-a20c-56f23eb04d9e",
   "metadata": {},
   "source": [
    "## Plotting simulation with DA modulation \n",
    "\n",
    "DA is active from 0.3 to 1.3 seconds"
   ]
  },
  {
   "cell_type": "code",
   "execution_count": 27,
   "id": "fc082055-9e38-4ed1-b842-40e166548071",
   "metadata": {},
   "outputs": [
    {
     "name": "stdout",
     "output_type": "stream",
     "text": [
      "Loading network info from networks/neuromodulation_bath_current_SBTab/network-synapses.hdf5\n",
      "Loading networks/neuromodulation_bath_current_SBTab/simulation/output_neuromodulation_ON.hdf5\n",
      "Plotting traces: [np.int64(0), np.int64(1)]\n",
      "Plotted 2 traces (total 2)\n",
      "Saving to figure /home/hjorth/HBP/Snudda/examples/notebooks/neuromodulation/networks/neuromodulation_bath_current_SBTab/figures/Network-voltage-trace--dspn-0-1.pdf\n"
     ]
    },
    {
     "data": {
      "image/png": "[encoded data removed]",
      "text/plain": [
       "<Figure size 1000x400 with 1 Axes>"
      ]
     },
     "metadata": {},
     "output_type": "display_data"
    }
   ],
   "source": [
    "%matplotlib inline\n",
    "\n",
    "from snudda.plotting.plot_traces import PlotTraces\n",
    "pt = PlotTraces(output_file=sim_output_neuromodulation_ON)\n",
    "# Use trace_id to specify which traces\n",
    "ax = pt.plot_traces(offset=0, time_range=None,fig_size=(10,4))"
   ]
  },
  {
   "cell_type": "markdown",
   "id": "d5ab977a-2171-4f7a-8db8-0d4fcaff82a6",
   "metadata": {},
   "source": [
    "## Plot simulation, with neuromodulation disabled"
   ]
  },
  {
   "cell_type": "code",
   "execution_count": 28,
   "id": "191cf2cb-a61f-4b9e-89a9-4fe963f0343b",
   "metadata": {},
   "outputs": [
    {
     "name": "stdout",
     "output_type": "stream",
     "text": [
      "Loading network info from networks/neuromodulation_bath_current_SBTab/network-synapses.hdf5\n",
      "Loading networks/neuromodulation_bath_current_SBTab/simulation/output_neuromodulation_OFF.hdf5\n",
      "Plotting traces: [np.int64(0), np.int64(1)]\n",
      "Plotted 2 traces (total 2)\n",
      "Saving to figure /home/hjorth/HBP/Snudda/examples/notebooks/neuromodulation/networks/neuromodulation_bath_current_SBTab/figures/Network-voltage-trace--dspn-0-1.pdf\n"
     ]
    },
    {
     "data": {
      "image/png": "[encoded data removed]",
      "text/plain": [
       "<Figure size 1000x400 with 1 Axes>"
      ]
     },
     "metadata": {},
     "output_type": "display_data"
    }
   ],
   "source": [
    "%matplotlib inline\n",
    "\n",
    "from snudda.plotting.plot_traces import PlotTraces\n",
    "pt_off = PlotTraces(output_file=sim_output_neuromodulation_OFF)\n",
    "# Use trace_id to specify which traces\n",
    "ax_off = pt_off.plot_traces(offset=0, time_range=None,fig_size=(10,4))"
   ]
  },
  {
   "cell_type": "markdown",
   "id": "9d953675-29a0-4930-a82b-f56f36e10079",
   "metadata": {},
   "source": [
    "# Extracting steady state values\n",
    "\n",
    "Extract steady state values: \n",
    "```../../../../../snudda/utils/extract_steady_state_values.py data/JSON/reaction_diffusion_D1.json networks/neuromodulation_bath_current/simulation/output_neuromodulation_ON.hdf5```\n",
    "\n",
    "Verify that the rates are correct, the rename the JSON file ```reaction_diffusion_D1.json-updated``` to ```reaction_diffusion_D1.json```"
   ]
  },
  {
   "cell_type": "code",
   "execution_count": null,
   "id": "3380b41c-d95e-4f8c-95bc-614fa76d2733",
   "metadata": {},
   "outputs": [],
   "source": []
  },
  {
   "cell_type": "code",
   "execution_count": null,
   "id": "763cfbbf-c470-4138-843f-f0260bf2f0d5",
   "metadata": {},
   "outputs": [],
   "source": [
    "time_off = nd_off.get_time()\n",
    "data_types_off = nd_off.list_data_types(0)\n",
    "all_species_data_off = nd_off.get_all_data(neuron_id=0, exclude=[\"spikes\", \"voltage\"])\n"
   ]
  },
  {
   "cell_type": "code",
   "execution_count": null,
   "id": "d87c64bc-d4c0-40fc-8e2a-62664780064b",
   "metadata": {},
   "outputs": [],
   "source": [
    "import plotly.graph_objects as go\n",
    "import plotly.io as pio\n",
    "pio.renderers.default = \"iframe\"  # Do not save plots in the notebook, they can get BIG\n",
    "\n",
    "fig = go.Figure()\n",
    "for data_type in all_species_data_off:\n",
    "    idx = time >= 0.0\n",
    "    fig.add_trace(go.Scatter(x=time_off[idx], y=all_species_data_off[data_type][0][0].T[0][idx], name=data_type))\n",
    "\n",
    "fig.update_layout(title=\"No DA modulation\", xaxis_title=\"Time (s)\", yaxis_title=\"Concentration\", width=1000, height=800)\n",
    "fig.show()"
   ]
  },
  {
   "cell_type": "code",
   "execution_count": null,
   "id": "03b07fc6-b610-48ea-93ad-3e405a7f4a97",
   "metadata": {},
   "outputs": [],
   "source": [
    "from snudda.plotting.plotly.trace import PlotTrace\n",
    "\n",
    "pt_on = PlotTrace(snudda_load_simulation=nd)\n",
    "pt_on.define_colour_by_neuron_id({0: \"blue\", 1: \"red\"})\n",
    "\n",
    "pt_on.plot_traces()"
   ]
  },
  {
   "cell_type": "code",
   "execution_count": null,
   "id": "a8bd9d16-f96e-43c2-8c46-5dacb33e2d78",
   "metadata": {},
   "outputs": [],
   "source": [
    "from snudda.plotting.plotly.trace import PlotTrace\n",
    "\n",
    "pt_off = PlotTrace(snudda_load_simulation=nd_off)\n",
    "pt_off.define_colour_by_neuron_id({0: \"blue\", 1: \"red\"})\n",
    "\n",
    "pt_off.plot_traces()"
   ]
  },
  {
   "cell_type": "code",
   "execution_count": null,
   "id": "974a6eb4-311a-4b6c-a83f-7338acc81621",
   "metadata": {},
   "outputs": [],
   "source": []
  },
  {
   "cell_type": "code",
   "execution_count": null,
   "id": "b30e4cd5-a39e-45de-90e5-88a954daf923",
   "metadata": {},
   "outputs": [],
   "source": []
  }
 ],
 "metadata": {
  "kernelspec": {
   "display_name": "Python 3 (ipykernel)",
   "language": "python",
   "name": "python3"
  },
  "language_info": {
   "codemirror_mode": {
    "name": "ipython",
    "version": 3
   },
   "file_extension": ".py",
   "mimetype": "text/x-python",
   "name": "python",
   "nbconvert_exporter": "python",
   "pygments_lexer": "ipython3",
   "version": "3.13.5"
  }
 },
 "nbformat": 4,
 "nbformat_minor": 5
}
