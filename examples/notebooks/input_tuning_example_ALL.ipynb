{
 "cells": [
  {
   "cell_type": "markdown",
   "id": "heated-thousand",
   "metadata": {},
   "source": [
    "Different morphologies of the same neuron type might require different activation to reach comparable firing frequency. InputScaling simulates a network of a neuron type with different number of inputs, and different frequency to infer what level of input is needed.\n",
    "\n",
    "Here we look at the input to ```neuron_types=\"fs\"```.\n",
    "\n",
    "During a simulation we can vary the input frequency, but not the number of inputs coupled to a neuron, so we use a set of ```num_replicas``` copies of each morphology, each receiving a different number of inputs from ```num_input_min``` to ```num_input_max``` of a given ```input_type``` (e.g. for striatum \"cortical\" or \"thalamic\"). Note that if 100 inputs are requested, then on average 100 inputs will be placed, but the number can vary as the placement is random.\n",
    "\n",
    "A set of input frequencies are tested, specified by ```input_frequency_range```, and each of these frequencies is run for ```input_duration``` seconds. In this example we create a small example, but we recommend that use use a longer input duration (e.g. 10 seconds, or possibly more).\n",
    "\n",
    "The user can specify ```parameter_id```, ```morphology_id``` and (neuron) ```modulation_id``` to be used for the neuron model. Each parameter_id can have multiple morphologies associated with it. This means that  ```parameter_id=0, morphology_id=0``` might refer to a different morphology than ```parameter_id=1, morphology_id=0```. Since ```morphology_id=0``` simply means the first morphology in the list of available morphologies for a given ```parameter_id```."
   ]
  },
  {
   "cell_type": "code",
   "execution_count": 1,
   "id": "silent-heading",
   "metadata": {},
   "outputs": [
    {
     "name": "stdout",
     "output_type": "stream",
     "text": [
      "Using SNUDDA_DATA=../../../BasalGangliaData/data\n"
     ]
    }
   ],
   "source": [
    "import os\n",
    "BGD_path = os.path.join(\"..\",\"..\",\"..\",\"BasalGangliaData\", \"data\")\n",
    "if os.path.isdir(BGD_path):\n",
    "    print(f\"Using SNUDDA_DATA={BGD_path}\")\n",
    "    os.environ[\"SNUDDA_DATA\"] = BGD_path\n",
    "\n",
    "from snudda.input.input_tuning import InputTuning\n",
    "network_path = os.path.join(\"networks\", \"input_tuning_FS_ALL\")\n",
    "input_tuning = InputTuning(network_path)"
   ]
  },
  {
   "cell_type": "markdown",
   "id": "beginning-preliminary",
   "metadata": {},
   "source": [
    "We create a network without any synapses and connect different number of external inputs to the neurons. Each neuron then receives a range of input frequencies. Here ```neurons_path``` points to the folder that contains all the different neuron types. Note that we use ```$DATA``` to refer to the ```snudda/data``` folder, but you can use an absolute path instead if you have your own neurons folder. If you use your own neurons you probably want to compile the neuron mechanisms from another folder when calling ```nrnivmodl``` below.\n",
    "\n",
    "Also note that the folder names for the different neurons must be lowercase."
   ]
  },
  {
   "cell_type": "code",
   "execution_count": 2,
   "id": "alert-response",
   "metadata": {},
   "outputs": [
    {
     "name": "stdout",
     "output_type": "stream",
     "text": [
      "Skipping neuron type chin\n",
      "Skipping neuron type ispn\n",
      "Skipping neuron type dspn\n",
      "Found 225 neuron models in /home/hjorth/HBP/BasalGangliaData/data/neurons/striatum/fs\n",
      "Skipping neuron type lts\n",
      "Writing network config file to networks/input_tuning_FS_ALL/network-config.json\n",
      "No d_view specified, running distribute neurons in serial\n",
      "No connections specified in connectivity_distribution.\n",
      "Using cortical synapse density for input.\n",
      "Loading 1125 neurons with 0 synapses and 0 gap junctions\n",
      "Writing spikes to networks/input_tuning_FS_ALL/input.hdf5\n"
     ]
    }
   ],
   "source": [
    "neurons_path = os.path.join(\"$DATA\", \"neurons\", \"striatum\")\n",
    "input_tuning.setup_network(neurons_path=neurons_path, \n",
    "                           num_replicas=5,\n",
    "                           neuron_types=\"fs\")\n",
    "input_tuning.setup_input(input_type=\"cortical\",  # eg. \"cortical\" or \"thalamic\"\n",
    "                         num_input_min=10,\n",
    "                         num_input_max=500,\n",
    "                         input_duration=2.0,\n",
    "                         input_frequency_range=[1.0, 2.0, 3.0, 5.0, 10.0])"
   ]
  },
  {
   "cell_type": "code",
   "execution_count": 3,
   "id": "defensive-equipment",
   "metadata": {},
   "outputs": [
    {
     "name": "stdout",
     "output_type": "stream",
     "text": [
      "/home/hjorth/HBP/Snudda/examples/notebooks\n",
      "Mod files: \"../../snudda/data/neurons/mechanisms/bk_ch.mod\" \"../../snudda/data/neurons/mechanisms/bk_fs.mod\" \"../../snudda/data/neurons/mechanisms/bk_ms.mod\" \"../../snudda/data/neurons/mechanisms/ca_ch.mod\" \"../../snudda/data/neurons/mechanisms/cadyn_fs.mod\" \"../../snudda/data/neurons/mechanisms/cadyn_ms.mod\" \"../../snudda/data/neurons/mechanisms/cal12_ms.mod\" \"../../snudda/data/neurons/mechanisms/cal13_ms.mod\" \"../../snudda/data/neurons/mechanisms/cal_ch.mod\" \"../../snudda/data/neurons/mechanisms/caldyn_ms.mod\" \"../../snudda/data/neurons/mechanisms/can_fs.mod\" \"../../snudda/data/neurons/mechanisms/can_ms.mod\" \"../../snudda/data/neurons/mechanisms/cap_ch.mod\" \"../../snudda/data/neurons/mechanisms/caq_fs.mod\" \"../../snudda/data/neurons/mechanisms/caq_ms.mod\" \"../../snudda/data/neurons/mechanisms/car_fs.mod\" \"../../snudda/data/neurons/mechanisms/car_ms.mod\" \"../../snudda/data/neurons/mechanisms/cat32_ms.mod\" \"../../snudda/data/neurons/mechanisms/cat33_ms.mod\" \"../../snudda/data/neurons/mechanisms/concACh.mod\" \"../../snudda/data/neurons/mechanisms/concDAfile.mod\" \"../../snudda/data/neurons/mechanisms/concDA.mod\" \"../../snudda/data/neurons/mechanisms/hcn12_ch.mod\" \"../../snudda/data/neurons/mechanisms/hd_lts.mod\" \"../../snudda/data/neurons/mechanisms/im_lts.mod\" \"../../snudda/data/neurons/mechanisms/it_lts.mod\" \"../../snudda/data/neurons/mechanisms/kaf_fs.mod\" \"../../snudda/data/neurons/mechanisms/kaf_ms.mod\" \"../../snudda/data/neurons/mechanisms/kas_fs.mod\" \"../../snudda/data/neurons/mechanisms/kas_ms.mod\" \"../../snudda/data/neurons/mechanisms/kcnq_ch.mod\" \"../../snudda/data/neurons/mechanisms/kdrbca1_lts.mod\" \"../../snudda/data/neurons/mechanisms/kdr_fs.mod\" \"../../snudda/data/neurons/mechanisms/kdr_lts.mod\" \"../../snudda/data/neurons/mechanisms/kdr_ms.mod\" \"../../snudda/data/neurons/mechanisms/kir23_lts.mod\" \"../../snudda/data/neurons/mechanisms/kir2_ch.mod\" \"../../snudda/data/neurons/mechanisms/kir_fs.mod\" \"../../snudda/data/neurons/mechanisms/kir_ms.mod\" \"../../snudda/data/neurons/mechanisms/kv2_ch.mod\" \"../../snudda/data/neurons/mechanisms/Kv3_ch.mod\" \"../../snudda/data/neurons/mechanisms/kv4_ch.mod\" \"../../snudda/data/neurons/mechanisms/na2_ch.mod\" \"../../snudda/data/neurons/mechanisms/na3n_lts.mod\" \"../../snudda/data/neurons/mechanisms/na_ch.mod\" \"../../snudda/data/neurons/mechanisms/naf_fs.mod\" \"../../snudda/data/neurons/mechanisms/naf_lts.mod\" \"../../snudda/data/neurons/mechanisms/naf_ms.mod\" \"../../snudda/data/neurons/mechanisms/NO.mod\" \"../../snudda/data/neurons/mechanisms/par_ggap.mod\" \"../../snudda/data/neurons/mechanisms/sk_ch.mod\" \"../../snudda/data/neurons/mechanisms/sk_fs.mod\" \"../../snudda/data/neurons/mechanisms/sk_ms.mod\" \"../../snudda/data/neurons/mechanisms/tmampa.mod\" \"../../snudda/data/neurons/mechanisms/tmgabaa.mod\" \"../../snudda/data/neurons/mechanisms/tmglut_double.mod\" \"../../snudda/data/neurons/mechanisms/tmglut_M1RH_D1.mod\" \"../../snudda/data/neurons/mechanisms/tmglut.mod\" \"../../snudda/data/neurons/mechanisms/tmnmda.mod\" \"../../snudda/data/neurons/mechanisms/vecevent.mod\"\n",
      "\n",
      "COBJS=''\n",
      " -> \u001b[32mCompiling\u001b[0m mod_func.c\n",
      "x86_64-linux-gnu-gcc -O2   -I.   -I/home/hjorth/.local/lib/python3.7/site-packages/neuron/.data/include  -I/nrnwheel/openmpi/include -fPIC -c mod_func.c -o mod_func.o\n",
      " => \u001b[32mLINKING\u001b[0m shared library ./libnrnmech.so\n",
      "x86_64-linux-gnu-g++ -O2 -DVERSION_INFO='7.8.2' -std=c++11 -shared -fPIC  -I /home/hjorth/.local/lib/python3.7/site-packages/neuron/.data/include -o ./libnrnmech.so -Wl,-soname,libnrnmech.so \\\n",
      "  ./mod_func.o ./bk_ch.o ./bk_fs.o ./bk_ms.o ./ca_ch.o ./cadyn_fs.o ./cadyn_ms.o ./cal12_ms.o ./cal13_ms.o ./cal_ch.o ./caldyn_ms.o ./can_fs.o ./can_ms.o ./cap_ch.o ./caq_fs.o ./caq_ms.o ./car_fs.o ./car_ms.o ./cat32_ms.o ./cat33_ms.o ./concACh.o ./concDAfile.o ./concDA.o ./hcn12_ch.o ./hd_lts.o ./im_lts.o ./it_lts.o ./kaf_fs.o ./kaf_ms.o ./kas_fs.o ./kas_ms.o ./kcnq_ch.o ./kdrbca1_lts.o ./kdr_fs.o ./kdr_lts.o ./kdr_ms.o ./kir23_lts.o ./kir2_ch.o ./kir_fs.o ./kir_ms.o ./kv2_ch.o ./Kv3_ch.o ./kv4_ch.o ./na2_ch.o ./na3n_lts.o ./na_ch.o ./naf_fs.o ./naf_lts.o ./naf_ms.o ./NO.o ./par_ggap.o ./sk_ch.o ./sk_fs.o ./sk_ms.o ./tmampa.o ./tmgabaa.o ./tmglut_double.o ./tmglut_M1RH_D1.o ./tmglut.o ./tmnmda.o ./vecevent.o  -L/home/hjorth/.local/lib/python3.7/site-packages/neuron/.data/lib -lnrniv -Wl,-rpath,/home/hjorth/.local/lib/python3.7/site-packages/neuron/.data/lib   \n",
      "rm -f ./.libs/libnrnmech.so ; mkdir -p ./.libs ; cp ./libnrnmech.so ./.libs/libnrnmech.so\n",
      "Successfully created x86_64/special\n"
     ]
    }
   ],
   "source": [
    "!nrnivmodl ../../snudda/data/neurons/mechanisms"
   ]
  },
  {
   "cell_type": "markdown",
   "id": "dynamic-catalog",
   "metadata": {},
   "source": [
    "## For large runs, to simulate in parallel use:\n",
    "\n",
    "```mpiexec -n 4 python3 ../../snudda/input/input_tuning.py simulate networks/input_tuning/```\n",
    "\n",
    "If you have more than four cores available on your machine, increase the number of workers accordingly.\n",
    "\n",
    "## Below we just run it in serial in the notebook:"
   ]
  },
  {
   "cell_type": "code",
   "execution_count": null,
   "id": "sufficient-progressive",
   "metadata": {
    "scrolled": true
   },
   "outputs": [
    {
     "name": "stdout",
     "output_type": "stream",
     "text": [
      "NEURON mechanisms already compiled, make sure you have the correct version of NEURON modules.\n",
      "If you delete x86_64 directory (or nrnmech.dll) then you will force a recompilation of the modules.\n",
      "Loading 1125 neurons with 0 synapses and 0 gap junctions\n"
     ]
    }
   ],
   "source": [
    "input_tuning.simulate()"
   ]
  },
  {
   "cell_type": "markdown",
   "id": "b3a14429",
   "metadata": {},
   "source": [
    "## Analyse results"
   ]
  },
  {
   "cell_type": "code",
   "execution_count": null,
   "id": "alternate-worry",
   "metadata": {
    "scrolled": false
   },
   "outputs": [],
   "source": [
    "%matplotlib notebook\n",
    "\n",
    "input_tuning.analyse_results(show_plots=True)"
   ]
  },
  {
   "cell_type": "code",
   "execution_count": null,
   "id": "close-operation",
   "metadata": {},
   "outputs": [],
   "source": []
  },
  {
   "cell_type": "code",
   "execution_count": null,
   "id": "9ba3a938",
   "metadata": {},
   "outputs": [],
   "source": []
  }
 ],
 "metadata": {
  "kernelspec": {
   "display_name": "Python 3",
   "language": "python",
   "name": "python3"
  },
  "language_info": {
   "codemirror_mode": {
    "name": "ipython",
    "version": 3
   },
   "file_extension": ".py",
   "mimetype": "text/x-python",
   "name": "python",
   "nbconvert_exporter": "python",
   "pygments_lexer": "ipython3",
   "version": "3.7.3"
  }
 },
 "nbformat": 4,
 "nbformat_minor": 5
}
