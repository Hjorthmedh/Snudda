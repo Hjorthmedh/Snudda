{
 "cells": [
  {
   "cell_type": "markdown",
   "id": "human-stadium",
   "metadata": {},
   "source": [
    "# Visualisation using Blender\n",
    "\n",
    "This notebook uses Blender and blender_notebook ([install instructions here](https://github.com/cheng-chi/blender_notebook)). Once you have it setup you should be able to see ```blender``` as a possible kernel.\n",
    "\n",
    "You also need to have installed the swc extension for Blender:\n",
    "https://github.com/MartinPyka/SWC2Blender\n",
    "\n",
    "Installation instructions from that page:\n",
    "_Simple copy the io_mesh_swc folder into your addon folder and activate the addon within Blender. Then you can import swc-files via File - Import - SWC Import_\n",
    "\n",
    "Please note that the current version (checked 2021-03-15) has a bug displaying incorrect radius. Snudda has a local copy of the code here where the bug is fixed that you can copy to your Blender addon folder:\n",
    "```Snudda/snudda/plotting/Blender/io_mesh_swc```\n"
   ]
  },
  {
   "cell_type": "markdown",
   "id": "northern-lithuania",
   "metadata": {},
   "source": [
    "This example assumes that you have run ```simple_network_creation.ipynb``` to generate a network.\n",
    "\n",
    "If ```neuron_id``` is not specified, the entire network will be generated."
   ]
  },
  {
   "cell_type": "code",
   "execution_count": null,
   "id": "secret-watershed",
   "metadata": {},
   "outputs": [],
   "source": [
    "import os\n",
    "from snudda.plotting.Blender.visualisation.visualise_network import VisualiseNetwork\n",
    "\n",
    "network_path = os.path.join(\"networks\",\"simple_example\")\n",
    "blender_output_image = os.path.join(network_path, \"neuron-rendering.png\")\n",
    "\n",
    "vn = VisualiseNetwork(network_path=network_path, blender_output_image=blender_output_image)\n",
    "vn.visualise(neuron_id=[0,7])"
   ]
  },
  {
   "cell_type": "markdown",
   "id": "minus-power",
   "metadata": {},
   "source": [
    "### If Blender crashed due to library version mismatch error\n",
    "\n",
    "If your Blender crashed with the error below in the log files:\n",
    "\n",
    "```\n",
    "Warning! ***HDF5 library version mismatched error***\n",
    "The HDF5 header files used to compile this application do not match\n",
    "the version used by the HDF5 library to which this application is linked.\n",
    "Data corruption or segmentation faults may occur if the application continues.\n",
    "This can happen when an application was compiled by one version of HDF5 but\n",
    "linked with a different version of static or shared HDF5 library.\n",
    "You should recompile the application or check your shared library related\n",
    "settings such as 'LD_LIBRARY_PATH'.\n",
    "You can, at your own risk, disable this warning by setting the environment\n",
    "variable 'HDF5_DISABLE_VERSION_CHECK' to a value of '1'.\n",
    "Setting it to 2 or higher will suppress the warning messages totally.\n",
    "Headers are 1.12.0, library is 1.10.4\n",
    "```\n",
    "\n",
    "### Workaround\n",
    "\n",
    "You can verify that it was the cause by trying to ```import h5py```. If so you can use ```fake_load.py``` to work around it.\n",
    "\n",
    "In a python console started in ```Snudda/examples/notebooks``` folder please run:\n",
    "```\n",
    "from snudda.utils.fake_load import FakeLoad\n",
    "fl = FakeLoad(\"networks/simple_example/network-synapses.hdf5\")\n",
    "fl.export_json(\"networks/simple_example/network-synapses.json\")\n",
    "```\n",
    "This will create the file ```networks/simple_example/network-synapses.json```.\n",
    "After that you can run the below code cell."
   ]
  },
  {
   "cell_type": "code",
   "execution_count": null,
   "id": "underlying-decrease",
   "metadata": {},
   "outputs": [],
   "source": [
    "import os\n",
    "from snudda.plotting.Blender.visualisation.visualise_network import VisualiseNetwork\n",
    "\n",
    "network_path = os.path.join(\"networks\",\"simple_example\")\n",
    "blender_output_image = os.path.join(network_path, \"neuron-rendering.png\")\n",
    "\n",
    "vn = VisualiseNetwork(network_path=network_path, \n",
    "                      network_json=os.path.join(network_path, \"network-synapses.json\"),\n",
    "                      blender_output_image=blender_output_image)\n",
    "vn.visualise(neuron_id=[0,7])"
   ]
  },
  {
   "cell_type": "code",
   "execution_count": null,
   "id": "neural-valve",
   "metadata": {},
   "outputs": [],
   "source": [
    "from IPython.display import Image\n",
    "Image(blender_output_image)"
   ]
  },
  {
   "cell_type": "markdown",
   "id": "satisfied-bulgaria",
   "metadata": {},
   "source": [
    "## Rendering the entire network\n",
    "\n",
    "This is a bit slow..."
   ]
  },
  {
   "cell_type": "code",
   "execution_count": 1,
   "id": "designing-somewhere",
   "metadata": {},
   "outputs": [
    {
     "name": "stdout",
     "output_type": "stream",
     "text": [
      "/home/hjorth/HBP/Snudda/snudda/data/neurons/striatum/ispn/str-ispn-e151123_c1_D2-mWT-P270-09-v20190527/WT-P270-09-15ak-cor.swc\n",
      "Adding soma [1.0, 0.0, 0.0, 0.0, 7.47495, -1]\n",
      "Setting position: [3.52206295 4.6513269  5.12129214]\n",
      "Setting position: [3.52305878 4.70688051 5.01238791]\n",
      "Rendering image.\n"
     ]
    }
   ],
   "source": [
    "import os\n",
    "from snudda.plotting.Blender.visualisation.visualise_network import VisualiseNetwork\n",
    "\n",
    "network_path = os.path.join(\"networks\",\"simple_example\")\n",
    "\n",
    "vn = VisualiseNetwork(network_path=network_path, \n",
    "                      network_json=os.path.join(network_path, \"network-synapses.json\"))\n",
    "\n",
    "network_image = os.path.join(network_path, \"network-rendering-no-synapses.png\")\n",
    "vn.visualise(blender_output_image=network_image, show_synapses=False)"
   ]
  },
  {
   "cell_type": "code",
   "execution_count": null,
   "id": "aboriginal-mining",
   "metadata": {},
   "outputs": [],
   "source": [
    "Image(network_image)"
   ]
  },
  {
   "cell_type": "code",
   "execution_count": null,
   "id": "configured-remainder",
   "metadata": {},
   "outputs": [],
   "source": [
    "network_image = os.path.join(network_path, \"network-rendering.png\")\n",
    "vn.visualise(blender_output_image=network_image)"
   ]
  },
  {
   "cell_type": "code",
   "execution_count": null,
   "id": "strange-transition",
   "metadata": {},
   "outputs": [],
   "source": [
    "Image(network_image)"
   ]
  },
  {
   "cell_type": "code",
   "execution_count": null,
   "id": "baking-arcade",
   "metadata": {},
   "outputs": [],
   "source": []
  }
 ],
 "metadata": {
  "kernelspec": {
   "display_name": "blender",
   "language": "python",
   "name": "blender"
  },
  "language_info": {
   "codemirror_mode": {
    "name": "ipython",
    "version": 3
   },
   "file_extension": ".py",
   "mimetype": "text/x-python",
   "name": "python",
   "nbconvert_exporter": "python",
   "pygments_lexer": "ipython3",
   "version": "3.7.3"
  }
 },
 "nbformat": 4,
 "nbformat_minor": 5
}
