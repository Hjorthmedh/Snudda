{
 "cells": [
  {
   "cell_type": "markdown",
   "id": "human-stadium",
   "metadata": {},
   "source": [
    "# Visualisation using Blender\n",
    "\n",
    "This notebook uses Blender and blender_notebook ([install instructions here](https://github.com/cheng-chi/blender_notebook)). Once you have it setup you should be able to see ```blender``` as a possible kernel.\n",
    "\n",
    "You also need to have installed the swc extension for Blender:\n",
    "https://github.com/MartinPyka/SWC2Blender\n",
    "\n",
    "Installation instructions from that page:\n",
    "_Simple copy the io_mesh_swc folder into your addon folder and activate the addon within Blender. Then you can import swc-files via File - Import - SWC Import_\n",
    "\n",
    "Please note that the current version (checked 2021-03-15) has a bug displaying incorrect radius. Snudda has a local copy of the code here where the bug is fixed that you can copy to your Blender addon folder:\n",
    "```Snudda/snudda/plotting/Blender/io_mesh_swc```\n"
   ]
  },
  {
   "cell_type": "markdown",
   "id": "northern-lithuania",
   "metadata": {},
   "source": [
    "This example assumes that you have run ```simple_network_creation.ipynb``` to generate a network."
   ]
  },
  {
   "cell_type": "code",
   "execution_count": null,
   "id": "secret-watershed",
   "metadata": {},
   "outputs": [],
   "source": [
    "from snudda.plotting.Blender.visualisation.visualise_network import VisualiseNetwork\n",
    "\n",
    "network_path = os.path.join(\"networks\",\"simple_example\")\n",
    "\n",
    "vn = VisualiseNetwork(network_path=network_path)\n",
    "vn.visualise(neuron_id=[0,1])\n",
    "\n"
   ]
  },
  {
   "cell_type": "markdown",
   "id": "minus-power",
   "metadata": {},
   "source": [
    "__Note this notebook is under development__\n",
    "\n",
    "```\n",
    "Warning! ***HDF5 library version mismatched error***\n",
    "The HDF5 header files used to compile this application do not match\n",
    "the version used by the HDF5 library to which this application is linked.\n",
    "Data corruption or segmentation faults may occur if the application continues.\n",
    "This can happen when an application was compiled by one version of HDF5 but\n",
    "linked with a different version of static or shared HDF5 library.\n",
    "You should recompile the application or check your shared library related\n",
    "settings such as 'LD_LIBRARY_PATH'.\n",
    "You can, at your own risk, disable this warning by setting the environment\n",
    "variable 'HDF5_DISABLE_VERSION_CHECK' to a value of '1'.\n",
    "Setting it to 2 or higher will suppress the warning messages totally.\n",
    "Headers are 1.12.0, library is 1.10.4\n",
    "```"
   ]
  },
  {
   "cell_type": "code",
   "execution_count": null,
   "id": "underlying-decrease",
   "metadata": {},
   "outputs": [],
   "source": [
    "import h5py  # This crashes blender, version mismatch"
   ]
  },
  {
   "cell_type": "code",
   "execution_count": 2,
   "id": "neural-valve",
   "metadata": {},
   "outputs": [
    {
     "name": "stdout",
     "output_type": "stream",
     "text": [
      "\u001b[33mSkipping h5py as it is not installed.\u001b[0m\n",
      "Collecting h5py\n",
      "  Using cached https://files.pythonhosted.org/packages/b3/c5/94e2444eb691f658fb8e3cf6cde3ae29540cf6d9ce76f0561afcdbb89136/h5py-3.2.1-cp37-cp37m-manylinux1_x86_64.whl\n",
      "Requirement already satisfied: numpy>=1.14.5; python_version == \"3.7\" in /home/hjorth/.local/lib/python3.7/site-packages (from h5py) (1.20.1)\n",
      "Requirement already satisfied: cached-property; python_version < \"3.8\" in /home/hjorth/.local/lib/python3.7/site-packages (from h5py) (1.5.2)\n",
      "Installing collected packages: h5py\n",
      "Successfully installed h5py-3.2.1\n"
     ]
    }
   ],
   "source": [
    "#  Detta hjälpte inte.\n",
    "#  !pip3 uninstall -y h5py\n",
    "#  !pip3 install h5py"
   ]
  },
  {
   "cell_type": "code",
   "execution_count": null,
   "id": "configured-remainder",
   "metadata": {},
   "outputs": [],
   "source": []
  }
 ],
 "metadata": {
  "kernelspec": {
   "display_name": "blender",
   "language": "python",
   "name": "blender"
  },
  "language_info": {
   "codemirror_mode": {
    "name": "ipython",
    "version": 3
   },
   "file_extension": ".py",
   "mimetype": "text/x-python",
   "name": "python",
   "nbconvert_exporter": "python",
   "pygments_lexer": "ipython3",
   "version": "3.7.3"
  }
 },
 "nbformat": 4,
 "nbformat_minor": 5
}
