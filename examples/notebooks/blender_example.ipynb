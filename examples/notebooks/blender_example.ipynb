{
 "cells": [
  {
   "cell_type": "markdown",
   "id": "human-stadium",
   "metadata": {},
   "source": [
    "# Visualisation using Blender\n",
    "\n",
    "This notebook uses Blender and blender_notebook ([install instructions here](https://github.com/cheng-chi/blender_notebook)). Once you have it setup you should be able to see ```blender``` as a possible kernel.\n",
    "\n",
    "You also need to have installed the swc extension for Blender:\n",
    "https://github.com/MartinPyka/SWC2Blender\n",
    "\n",
    "Installation instructions from that page:\n",
    "_Simple copy the io_mesh_swc folder into your addon folder and activate the addon within Blender. Then you can import swc-files via File - Import - SWC Import_\n",
    "\n",
    "Please note that the current version (checked 2021-03-15) has a bug displaying incorrect radius. Snudda has a local copy of the code here where the bug is fixed that you can copy to your Blender addon folder:\n",
    "```Snudda/snudda/plotting/Blender/io_mesh_swc```\n"
   ]
  },
  {
   "cell_type": "markdown",
   "id": "northern-lithuania",
   "metadata": {},
   "source": [
    "This example assumes that you have run ```simple_network_creation.ipynb``` to generate a network."
   ]
  },
  {
   "cell_type": "code",
   "execution_count": null,
   "id": "secret-watershed",
   "metadata": {},
   "outputs": [],
   "source": [
    "from snudda.plotting.Blender.visualisation.visualise_network import VisualiseNetwork\n",
    "\n",
    "network_path = os.path.join(\"networks\",\"simple_example\")\n",
    "\n",
    "vn = VisualiseNetwork(network_path=network_path)\n",
    "vn.visualise(neuron_id=[0,1])\n",
    "\n"
   ]
  },
  {
   "cell_type": "markdown",
   "id": "roman-wilson",
   "metadata": {},
   "source": [
    "__Note this notebook is under development__"
   ]
  },
  {
   "cell_type": "code",
   "execution_count": null,
   "id": "rough-series",
   "metadata": {},
   "outputs": [],
   "source": []
  }
 ],
 "metadata": {
  "kernelspec": {
   "display_name": "blender",
   "language": "python",
   "name": "blender"
  },
  "language_info": {
   "codemirror_mode": {
    "name": "ipython",
    "version": 3
   },
   "file_extension": ".py",
   "mimetype": "text/x-python",
   "name": "python",
   "nbconvert_exporter": "python",
   "pygments_lexer": "ipython3",
   "version": "3.7.3"
  }
 },
 "nbformat": 4,
 "nbformat_minor": 5
}
