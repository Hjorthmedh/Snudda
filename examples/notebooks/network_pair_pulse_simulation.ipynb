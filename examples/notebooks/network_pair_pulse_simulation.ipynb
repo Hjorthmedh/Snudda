{
 "cells": [
  {
   "cell_type": "code",
   "execution_count": 1,
   "id": "micro-value",
   "metadata": {},
   "outputs": [],
   "source": [
    "import os\n",
    "from snudda.simulate.network_pair_pulse_simulation import SnuddaNetworkPairPulseSimulation\n",
    "n_dSPN = 5\n",
    "n_iSPN = 5\n",
    "n_FS = 2\n",
    "n_LTS = 2\n",
    "n_ChIN = 2\n",
    "\n",
    "hold_v = -80e-3    # Holding voltage\n",
    "max_dist = 100e-6  # Only look at pairs closer than this distance\n",
    "GABA_rev = -60e-3  # GABA reversal potential\n",
    "\n",
    "cur_inj = 10e-9\n",
    "\n",
    "network_path = os.path.join(\"networks\",\"pair_pulse_simulation\")\n",
    "volume_type=\"cube\"\n",
    "side_len = 200e-6"
   ]
  },
  {
   "cell_type": "code",
   "execution_count": 2,
   "id": "stable-being",
   "metadata": {},
   "outputs": [
    {
     "name": "stdout",
     "output_type": "stream",
     "text": [
      "Using log file networks/pair_pulse_simulation/log/pair-pulse.log\n",
      "Checking depolarisation/hyperpolarisation of FS to ALL synapses\n"
     ]
    }
   ],
   "source": [
    "pps = SnuddaNetworkPairPulseSimulation(network_path=network_path,\n",
    "                                       exp_type=\"Planert2010\",\n",
    "                                       pre_type=\"FS\",\n",
    "                                       post_type=\"ALL\",\n",
    "                                       max_dist=max_dist,\n",
    "                                       hold_voltage=hold_v,\n",
    "                                       current_injection = cur_inj)"
   ]
  },
  {
   "cell_type": "code",
   "execution_count": 3,
   "id": "imposed-friendship",
   "metadata": {},
   "outputs": [
    {
     "name": "stdout",
     "output_type": "stream",
     "text": [
      "Using cube for striatum\n",
      "Neurons for striatum read from /home/hjorth/HBP/Snudda/snudda/data/neurons/striatum\n",
      "Adding neurons: FS from dir /home/hjorth/HBP/Snudda/snudda/data/neurons/striatum/fs\n",
      "Adding neurons: dSPN from dir /home/hjorth/HBP/Snudda/snudda/data/neurons/striatum/dspn\n",
      "Adding neurons: iSPN from dir /home/hjorth/HBP/Snudda/snudda/data/neurons/striatum/ispn\n",
      "Adding neurons: ChIN from dir /home/hjorth/HBP/Snudda/snudda/data/neurons/striatum/chin\n",
      "Checking boundaries, to make sure P is not too high\n",
      "LTS axon density P([-0.0002], [-0.0001], [-3.e-05]) = [1.84256218e-10]\n",
      "LTS axon density P([-0.0002], [-0.0001], [3.e-05]) = [1.84256218e-10]\n",
      "LTS axon density P([-0.0002], [0.0001], [-3.e-05]) = [1.84256218e-10]\n",
      "LTS axon density P([-0.0002], [0.0001], [3.e-05]) = [1.84256218e-10]\n",
      "LTS axon density P([0.0009], [-0.0001], [-3.e-05]) = [1.72360142e-23]\n",
      "LTS axon density P([0.0009], [-0.0001], [3.e-05]) = [1.72360142e-23]\n",
      "LTS axon density P([0.0009], [0.0001], [-3.e-05]) = [1.72360142e-23]\n",
      "LTS axon density P([0.0009], [0.0001], [3.e-05]) = [1.72360142e-23]\n",
      "Adding neurons: LTS from dir /home/hjorth/HBP/Snudda/snudda/data/neurons/striatum/lts\n",
      "Writing networks/pair_pulse_simulation/network-config.json\n",
      "\n",
      "\n",
      "snudda place networks/pair_pulse_simulation\n",
      "snudda detect networks/pair_pulse_simulation\n",
      "snudda prune networks/pair_pulse_simulation\n",
      "python3 snudda/utils/cut.py networks/pair_pulse_simulation/network-synapses.hdf5 abs(z)<100e-6\n",
      "\n",
      "The last command will pop up a figure and enter debug mode, press ctrl+D in the terminal window after inspecting the plot to continue\n",
      "\n",
      "!!! Remember to compile the mod files: nrnivmodl data/neurons/mechanisms\n",
      "\n",
      "To run for example dSPN -> iSPN (and dSPN->dSPN) calibration:\n",
      "mpiexec -n 12 -map-by socket:OVERSUBSCRIBE python3 snudda_network_pair_pulse_simulation.py run Planert2010 networks/pair_pulse_simulation/network-cut-slice.hdf5 dSPN iSPN\n",
      "\n",
      "python3 snudda/simulate/network_pair_pulse_simulation.py analyse Planert2010 networks/pair_pulse_simulation/network-cut-slice.hdf5 --pre dSPN --post iSPN\n",
      "python3 snudda_network_pair_pulse_simulation.py analyse networks/pair_pulse_simulation/network-cut-slice.hdf5 --pre iSPN --post dSPN\n"
     ]
    }
   ],
   "source": [
    "pps.setup(n_dSPN=n_dSPN, n_iSPN=n_iSPN,\n",
    "          n_FS=n_FS, n_LTS=n_LTS, n_ChIN=n_ChIN,\n",
    "          volume_type=volume_type,\n",
    "          side_len=side_len)"
   ]
  },
  {
   "cell_type": "code",
   "execution_count": 4,
   "id": "blind-williams",
   "metadata": {},
   "outputs": [],
   "source": [
    "from snudda.place import SnuddaPlace\n",
    "sp = SnuddaPlace(network_path=network_path)\n",
    "sp.place()"
   ]
  },
  {
   "cell_type": "code",
   "execution_count": 5,
   "id": "surprising-architecture",
   "metadata": {},
   "outputs": [
    {
     "name": "stdout",
     "output_type": "stream",
     "text": [
      "No d_view specified, running distribute neurons in serial\n",
      "Processing hyper voxel : 1/64 (16 neurons)\n",
      "Processing hyper voxel : 21/64 (16 neurons)\n",
      "Processing hyper voxel : 5/64 (16 neurons)\n",
      "Processing hyper voxel : 4/64 (15 neurons)\n",
      "Processing hyper voxel : 0/64 (14 neurons)\n",
      "Processing hyper voxel : 17/64 (14 neurons)\n",
      "Processing hyper voxel : 20/64 (14 neurons)\n",
      "Processing hyper voxel : 16/64 (13 neurons)\n",
      "Processing hyper voxel : 36/64 (3 neurons)\n",
      "Processing hyper voxel : 37/64 (2 neurons)\n",
      "Processing hyper voxel : 9/64 (1 neurons)\n",
      "Processing hyper voxel : 18/64 (1 neurons)\n",
      "Processing hyper voxel : 53/64 (1 neurons)\n",
      "Processing hyper voxel : 2/64 (1 neurons)\n",
      "Processing hyper voxel : 33/64 (1 neurons)\n",
      "Processing hyper voxel : 34/64 (1 neurons)\n",
      "Processing hyper voxel : 49/64 (1 neurons)\n",
      "Processing hyper voxel : 52/64 (1 neurons)\n",
      "Processing hyper voxel : 57/64 (1 neurons)\n"
     ]
    }
   ],
   "source": [
    "from snudda.detect import SnuddaDetect\n",
    "sd = SnuddaDetect(network_path=network_path)\n",
    "sd.detect()"
   ]
  },
  {
   "cell_type": "code",
   "execution_count": 6,
   "id": "unavailable-christmas",
   "metadata": {},
   "outputs": [
    {
     "name": "stdout",
     "output_type": "stream",
     "text": [
      "Read 4259 out of total 4259 synapses\n",
      "Read 8 out of total 8 gapJunctions\n"
     ]
    }
   ],
   "source": [
    "from snudda.detect import SnuddaPrune\n",
    "spr = SnuddaPrune(network_path=network_path)\n",
    "spr.prune()\n",
    "spr = None"
   ]
  },
  {
   "cell_type": "markdown",
   "id": "moral-elephant",
   "metadata": {},
   "source": [
    "Compile neuron modules"
   ]
  },
  {
   "cell_type": "code",
   "execution_count": 7,
   "id": "sustained-monaco",
   "metadata": {},
   "outputs": [
    {
     "name": "stdout",
     "output_type": "stream",
     "text": [
      "/home/hjorth/HBP/Snudda/examples/notebooks\n",
      "Mod files: \"../../snudda/data/neurons/mechanisms/bk_ch.mod\" \"../../snudda/data/neurons/mechanisms/bk_fs.mod\" \"../../snudda/data/neurons/mechanisms/bk_ms.mod\" \"../../snudda/data/neurons/mechanisms/ca_ch.mod\" \"../../snudda/data/neurons/mechanisms/cadyn_fs.mod\" \"../../snudda/data/neurons/mechanisms/cadyn_ms.mod\" \"../../snudda/data/neurons/mechanisms/cal12_ms.mod\" \"../../snudda/data/neurons/mechanisms/cal13_ms.mod\" \"../../snudda/data/neurons/mechanisms/cal_ch.mod\" \"../../snudda/data/neurons/mechanisms/caldyn_ms.mod\" \"../../snudda/data/neurons/mechanisms/can_fs.mod\" \"../../snudda/data/neurons/mechanisms/can_ms.mod\" \"../../snudda/data/neurons/mechanisms/cap_ch.mod\" \"../../snudda/data/neurons/mechanisms/caq_fs.mod\" \"../../snudda/data/neurons/mechanisms/caq_ms.mod\" \"../../snudda/data/neurons/mechanisms/car_fs.mod\" \"../../snudda/data/neurons/mechanisms/car_ms.mod\" \"../../snudda/data/neurons/mechanisms/cat32_ms.mod\" \"../../snudda/data/neurons/mechanisms/cat33_ms.mod\" \"../../snudda/data/neurons/mechanisms/concACh.mod\" \"../../snudda/data/neurons/mechanisms/concDAfile.mod\" \"../../snudda/data/neurons/mechanisms/concDA.mod\" \"../../snudda/data/neurons/mechanisms/hcn12_ch.mod\" \"../../snudda/data/neurons/mechanisms/hd_lts.mod\" \"../../snudda/data/neurons/mechanisms/im_lts.mod\" \"../../snudda/data/neurons/mechanisms/it_lts.mod\" \"../../snudda/data/neurons/mechanisms/kaf_fs.mod\" \"../../snudda/data/neurons/mechanisms/kaf_ms.mod\" \"../../snudda/data/neurons/mechanisms/kas_fs.mod\" \"../../snudda/data/neurons/mechanisms/kas_ms.mod\" \"../../snudda/data/neurons/mechanisms/kcnq_ch.mod\" \"../../snudda/data/neurons/mechanisms/kdrbca1_lts.mod\" \"../../snudda/data/neurons/mechanisms/kdr_fs.mod\" \"../../snudda/data/neurons/mechanisms/kdr_lts.mod\" \"../../snudda/data/neurons/mechanisms/kdr_ms.mod\" \"../../snudda/data/neurons/mechanisms/kir23_lts.mod\" \"../../snudda/data/neurons/mechanisms/kir2_ch.mod\" \"../../snudda/data/neurons/mechanisms/kir_fs.mod\" \"../../snudda/data/neurons/mechanisms/kir_ms.mod\" \"../../snudda/data/neurons/mechanisms/kv2_ch.mod\" \"../../snudda/data/neurons/mechanisms/Kv3_ch.mod\" \"../../snudda/data/neurons/mechanisms/kv4_ch.mod\" \"../../snudda/data/neurons/mechanisms/na2_ch.mod\" \"../../snudda/data/neurons/mechanisms/na3n_lts.mod\" \"../../snudda/data/neurons/mechanisms/na_ch.mod\" \"../../snudda/data/neurons/mechanisms/naf_fs.mod\" \"../../snudda/data/neurons/mechanisms/naf_lts.mod\" \"../../snudda/data/neurons/mechanisms/naf_ms.mod\" \"../../snudda/data/neurons/mechanisms/NO.mod\" \"../../snudda/data/neurons/mechanisms/par_ggap.mod\" \"../../snudda/data/neurons/mechanisms/sk_ch.mod\" \"../../snudda/data/neurons/mechanisms/sk_fs.mod\" \"../../snudda/data/neurons/mechanisms/sk_ms.mod\" \"../../snudda/data/neurons/mechanisms/tmampa.mod\" \"../../snudda/data/neurons/mechanisms/tmgabaa.mod\" \"../../snudda/data/neurons/mechanisms/tmglut_double.mod\" \"../../snudda/data/neurons/mechanisms/tmglut_M1RH_D1.mod\" \"../../snudda/data/neurons/mechanisms/tmglut.mod\" \"../../snudda/data/neurons/mechanisms/tmnmda.mod\" \"../../snudda/data/neurons/mechanisms/vecevent.mod\"\n",
      "\n",
      "Creating x86_64 directory for .o files.\n",
      "\n",
      "COBJS=''\n",
      " -> \u001b[32mCompiling\u001b[0m mod_func.cpp\n",
      " -> \u001b[32mNMODL\u001b[0m ../../../snudda/data/neurons/mechanisms/bk_ch.mod\n",
      " -> \u001b[32mNMODL\u001b[0m ../../../snudda/data/neurons/mechanisms/bk_fs.mod\n",
      " -> \u001b[32mNMODL\u001b[0m ../../../snudda/data/neurons/mechanisms/bk_ms.mod\n",
      "Translating bk_fs.mod into /home/hjorth/HBP/Snudda/examples/notebooks/x86_64/bk_fs.c\n",
      "Translating bk_ch.mod into /home/hjorth/HBP/Snudda/examples/notebooks/x86_64/bk_ch.c\n",
      "Translating bk_ms.mod into /home/hjorth/HBP/Snudda/examples/notebooks/x86_64/bk_ms.c\n",
      "Thread Safe\n",
      "Notice: Assignment to the GLOBAL variable, \"htau\", is not thread safe\n",
      "Notice: Assignment to the GLOBAL variable, \"hinf\", is not thread safe\n",
      "Notice: Assignment to the GLOBAL variable, \"mtau\", is not thread safe\n",
      "Notice: Assignment to the GLOBAL variable, \"minf\", is not thread safe\n",
      "Notice: Assignment to the GLOBAL variable, \"zinf\", is not thread safe\n",
      "Thread Safe\n",
      " -> \u001b[32mNMODL\u001b[0m ../../../snudda/data/neurons/mechanisms/ca_ch.mod\n",
      " -> \u001b[32mNMODL\u001b[0m ../../../snudda/data/neurons/mechanisms/cadyn_fs.mod\n",
      " -> \u001b[32mNMODL\u001b[0m ../../../snudda/data/neurons/mechanisms/cadyn_ms.mod\n",
      "Translating ca_ch.mod into /home/hjorth/HBP/Snudda/examples/notebooks/x86_64/ca_ch.c\n",
      "Translating cadyn_fs.mod into /home/hjorth/HBP/Snudda/examples/notebooks/x86_64/cadyn_fs.c\n",
      "Translating cadyn_ms.mod into /home/hjorth/HBP/Snudda/examples/notebooks/x86_64/cadyn_ms.c\n",
      "Thread Safe\n",
      "Thread Safe\n",
      "Notice: Assignment to the GLOBAL variable, \"vol\", is not thread safe\n",
      " -> \u001b[32mNMODL\u001b[0m ../../../snudda/data/neurons/mechanisms/cal12_ms.mod\n",
      "Warning: Default 1 of PARAMETER diam will be ignored and set by NEURON.\n",
      " -> \u001b[32mNMODL\u001b[0m ../../../snudda/data/neurons/mechanisms/cal13_ms.mod\n",
      " -> \u001b[32mNMODL\u001b[0m ../../../snudda/data/neurons/mechanisms/cal_ch.mod\n",
      "Translating cal12_ms.mod into /home/hjorth/HBP/Snudda/examples/notebooks/x86_64/cal12_ms.c\n",
      "Thread Safe\n",
      "Translating cal13_ms.mod into /home/hjorth/HBP/Snudda/examples/notebooks/x86_64/cal13_ms.c\n",
      "Translating cal_ch.mod into /home/hjorth/HBP/Snudda/examples/notebooks/x86_64/cal_ch.c\n",
      " -> \u001b[32mNMODL\u001b[0m ../../../snudda/data/neurons/mechanisms/caldyn_ms.mod\n",
      "Thread Safe\n",
      "Notice: Assignment to the GLOBAL variable, \"minf\", is not thread safe\n",
      "Notice: Assignment to the GLOBAL variable, \"tau\", is not thread safe\n",
      "Warning: Default 6.3 of PARAMETER celsius will be ignored and set by NEURON.\n",
      "Translating caldyn_ms.mod into /home/hjorth/HBP/Snudda/examples/notebooks/x86_64/caldyn_ms.c\n",
      " -> \u001b[32mNMODL\u001b[0m ../../../snudda/data/neurons/mechanisms/can_fs.mod\n",
      "Thread Safe\n",
      " -> \u001b[32mNMODL\u001b[0m ../../../snudda/data/neurons/mechanisms/can_ms.mod\n",
      " -> \u001b[32mNMODL\u001b[0m ../../../snudda/data/neurons/mechanisms/cap_ch.mod\n",
      "Translating can_fs.mod into /home/hjorth/HBP/Snudda/examples/notebooks/x86_64/can_fs.c\n",
      "Translating can_ms.mod into /home/hjorth/HBP/Snudda/examples/notebooks/x86_64/can_ms.c\n",
      "Translating cap_ch.mod into /home/hjorth/HBP/Snudda/examples/notebooks/x86_64/cap_ch.c\n",
      "Thread Safe\n",
      "Notice: Assignment to the GLOBAL variable, \"mtau\", is not thread safe\n",
      "Notice: Assignment to the GLOBAL variable, \"minf\", is not thread safe\n",
      "Thread Safe\n",
      "Warning: Default 35 of PARAMETER celsius will be ignored and set by NEURON.\n",
      " -> \u001b[32mNMODL\u001b[0m ../../../snudda/data/neurons/mechanisms/caq_fs.mod\n",
      " -> \u001b[32mNMODL\u001b[0m ../../../snudda/data/neurons/mechanisms/caq_ms.mod\n",
      " -> \u001b[32mNMODL\u001b[0m ../../../snudda/data/neurons/mechanisms/car_fs.mod\n",
      "Translating caq_fs.mod into /home/hjorth/HBP/Snudda/examples/notebooks/x86_64/caq_fs.c\n",
      "Translating caq_ms.mod into /home/hjorth/HBP/Snudda/examples/notebooks/x86_64/caq_ms.c\n",
      "Translating car_fs.mod into /home/hjorth/HBP/Snudda/examples/notebooks/x86_64/car_fs.c\n",
      "Thread Safe\n",
      " -> \u001b[32mNMODL\u001b[0m ../../../snudda/data/neurons/mechanisms/car_ms.mod\n",
      "Thread Safe\n",
      "Thread Safe\n",
      "Translating car_ms.mod into /home/hjorth/HBP/Snudda/examples/notebooks/x86_64/car_ms.c\n",
      " -> \u001b[32mNMODL\u001b[0m ../../../snudda/data/neurons/mechanisms/cat32_ms.mod\n",
      " -> \u001b[32mNMODL\u001b[0m ../../../snudda/data/neurons/mechanisms/cat33_ms.mod\n",
      "Thread Safe\n",
      "Translating cat32_ms.mod into /home/hjorth/HBP/Snudda/examples/notebooks/x86_64/cat32_ms.c\n",
      " -> \u001b[32mNMODL\u001b[0m ../../../snudda/data/neurons/mechanisms/concACh.mod\n",
      "Translating cat33_ms.mod into /home/hjorth/HBP/Snudda/examples/notebooks/x86_64/cat33_ms.c\n",
      "Thread Safe\n",
      " -> \u001b[32mNMODL\u001b[0m ../../../snudda/data/neurons/mechanisms/concDAfile.mod\n",
      "Translating concACh.mod into /home/hjorth/HBP/Snudda/examples/notebooks/x86_64/concACh.c\n",
      "Thread Safe\n",
      " -> \u001b[32mNMODL\u001b[0m ../../../snudda/data/neurons/mechanisms/concDA.mod\n",
      "Thread Safe\n",
      "Translating concDAfile.mod into /home/hjorth/HBP/Snudda/examples/notebooks/x86_64/concDAfile.c\n",
      " -> \u001b[32mNMODL\u001b[0m ../../../snudda/data/neurons/mechanisms/hcn12_ch.mod\n",
      "Thread Safe\n",
      "Translating concDA.mod into /home/hjorth/HBP/Snudda/examples/notebooks/x86_64/concDA.c\n",
      "Thread Safe\n",
      " -> \u001b[32mNMODL\u001b[0m ../../../snudda/data/neurons/mechanisms/hd_lts.mod\n",
      " -> \u001b[32mNMODL\u001b[0m ../../../snudda/data/neurons/mechanisms/im_lts.mod\n",
      "Translating hcn12_ch.mod into /home/hjorth/HBP/Snudda/examples/notebooks/x86_64/hcn12_ch.c\n",
      "Translating im_lts.mod into /home/hjorth/HBP/Snudda/examples/notebooks/x86_64/im_lts.c\n",
      "Translating hd_lts.mod into /home/hjorth/HBP/Snudda/examples/notebooks/x86_64/hd_lts.c\n",
      "Warning: Default 36 of PARAMETER celsius will be ignored and set by NEURON.\n",
      "Thread Safe\n",
      "NEURON's CVode method ignores conservation\n",
      "Thread Safe\n",
      " -> \u001b[32mNMODL\u001b[0m ../../../snudda/data/neurons/mechanisms/it_lts.mod\n",
      "Notice: Assignment to the GLOBAL variable, \"linf\", is not thread safe\n",
      "Notice: Assignment to the GLOBAL variable, \"taul\", is not thread safe\n",
      " -> \u001b[32mNMODL\u001b[0m ../../../snudda/data/neurons/mechanisms/kaf_fs.mod\n",
      " -> \u001b[32mNMODL\u001b[0m ../../../snudda/data/neurons/mechanisms/kaf_ms.mod\n",
      "Translating it_lts.mod into /home/hjorth/HBP/Snudda/examples/notebooks/x86_64/it_lts.c\n",
      "Translating kaf_fs.mod into /home/hjorth/HBP/Snudda/examples/notebooks/x86_64/kaf_fs.c\n",
      "Thread Safe\n",
      " -> \u001b[32mNMODL\u001b[0m ../../../snudda/data/neurons/mechanisms/kas_fs.mod\n",
      "Translating kaf_ms.mod into /home/hjorth/HBP/Snudda/examples/notebooks/x86_64/kaf_ms.c\n",
      "Warning: Default 36 of PARAMETER celsius will be ignored and set by NEURON.\n",
      "Warning: Default 2 of PARAMETER cao will be ignored and set by NEURON.\n",
      "Warning: Default 0.00024 of PARAMETER cai will be ignored and set by NEURON.\n",
      "Thread Safe\n",
      " -> \u001b[32mNMODL\u001b[0m ../../../snudda/data/neurons/mechanisms/kas_ms.mod\n",
      " -> \u001b[32mNMODL\u001b[0m ../../../snudda/data/neurons/mechanisms/kcnq_ch.mod\n",
      "Translating kas_fs.mod into /home/hjorth/HBP/Snudda/examples/notebooks/x86_64/kas_fs.c\n",
      "Thread Safe\n",
      "Translating kas_ms.mod into /home/hjorth/HBP/Snudda/examples/notebooks/x86_64/kas_ms.c\n",
      "Translating kcnq_ch.mod into /home/hjorth/HBP/Snudda/examples/notebooks/x86_64/kcnq_ch.c\n",
      " -> \u001b[32mNMODL\u001b[0m ../../../snudda/data/neurons/mechanisms/kdrbca1_lts.mod\n",
      "Thread Safe\n",
      "NEURON's CVode method ignores conservation\n",
      "Thread Safe\n",
      "Thread Safe\n",
      " -> \u001b[32mNMODL\u001b[0m ../../../snudda/data/neurons/mechanisms/kdr_fs.mod\n",
      " -> \u001b[32mNMODL\u001b[0m ../../../snudda/data/neurons/mechanisms/kdr_lts.mod\n",
      " -> \u001b[32mNMODL\u001b[0m ../../../snudda/data/neurons/mechanisms/kdr_ms.mod\n",
      "Translating kdrbca1_lts.mod into /home/hjorth/HBP/Snudda/examples/notebooks/x86_64/kdrbca1_lts.c\n",
      "Translating kdr_fs.mod into /home/hjorth/HBP/Snudda/examples/notebooks/x86_64/kdr_fs.c\n",
      "Thread Safe\n",
      "Translating kdr_lts.mod into /home/hjorth/HBP/Snudda/examples/notebooks/x86_64/kdr_lts.c\n",
      "Translating kdr_ms.mod into /home/hjorth/HBP/Snudda/examples/notebooks/x86_64/kdr_ms.c\n",
      " -> \u001b[32mNMODL\u001b[0m ../../../snudda/data/neurons/mechanisms/kir23_lts.mod\n",
      "Notice: Assignment to the GLOBAL variable, \"ninf\", is not thread safe\n",
      "Notice: Assignment to the GLOBAL variable, \"taun\", is not thread safe\n",
      "Notice: Assignment to the GLOBAL variable, \"ninf\", is not thread safe\n",
      "Notice: Assignment to the GLOBAL variable, \"taun\", is not thread safe\n",
      "Translating kir23_lts.mod into /home/hjorth/HBP/Snudda/examples/notebooks/x86_64/kir23_lts.c\n",
      "Thread Safe\n",
      " -> \u001b[32mNMODL\u001b[0m ../../../snudda/data/neurons/mechanisms/kir2_ch.mod\n",
      " -> \u001b[32mNMODL\u001b[0m ../../../snudda/data/neurons/mechanisms/kir_fs.mod\n",
      "Thread Safe\n",
      " -> \u001b[32mNMODL\u001b[0m ../../../snudda/data/neurons/mechanisms/kir_ms.mod\n",
      " -> \u001b[32mNMODL\u001b[0m ../../../snudda/data/neurons/mechanisms/kv2_ch.mod\n"
     ]
    },
    {
     "name": "stdout",
     "output_type": "stream",
     "text": [
      "Translating kir2_ch.mod into /home/hjorth/HBP/Snudda/examples/notebooks/x86_64/kir2_ch.c\n",
      "Translating kir_fs.mod into /home/hjorth/HBP/Snudda/examples/notebooks/x86_64/kir_fs.c\n",
      "Translating kir_ms.mod into /home/hjorth/HBP/Snudda/examples/notebooks/x86_64/kir_ms.c\n",
      "Thread Safe\n",
      "Translating kv2_ch.mod into /home/hjorth/HBP/Snudda/examples/notebooks/x86_64/kv2_ch.c\n",
      "Thread Safe\n",
      "Thread Safe\n",
      " -> \u001b[32mNMODL\u001b[0m ../../../snudda/data/neurons/mechanisms/Kv3_ch.mod\n",
      " -> \u001b[32mNMODL\u001b[0m ../../../snudda/data/neurons/mechanisms/kv4_ch.mod\n",
      "NEURON's CVode method ignores conservation\n",
      " -> \u001b[32mNMODL\u001b[0m ../../../snudda/data/neurons/mechanisms/na2_ch.mod\n",
      "Thread Safe\n",
      "Translating Kv3_ch.mod into /home/hjorth/HBP/Snudda/examples/notebooks/x86_64/Kv3_ch.c\n",
      " -> \u001b[32mNMODL\u001b[0m ../../../snudda/data/neurons/mechanisms/na3n_lts.mod\n",
      "Translating kv4_ch.mod into /home/hjorth/HBP/Snudda/examples/notebooks/x86_64/kv4_ch.c\n",
      "Translating na2_ch.mod into /home/hjorth/HBP/Snudda/examples/notebooks/x86_64/na2_ch.c\n",
      "Thread Safe\n",
      "NEURON's CVode method ignores conservation\n",
      " -> \u001b[32mNMODL\u001b[0m ../../../snudda/data/neurons/mechanisms/na_ch.mod\n",
      "Translating na3n_lts.mod into /home/hjorth/HBP/Snudda/examples/notebooks/x86_64/na3n_lts.c\n",
      "Notice: Assignment to the GLOBAL variable, \"alpha\", is not thread safe\n",
      "Notice: Assignment to the GLOBAL variable, \"beta\", is not thread safe\n",
      "NEURON's CVode method ignores conservation\n",
      "Notice: Assignment to the GLOBAL variable, \"htau\", is not thread safe\n",
      "Notice: Assignment to the GLOBAL variable, \"hinf\", is not thread safe\n",
      "Notice: Assignment to the GLOBAL variable, \"mtau\", is not thread safe\n",
      "Notice: Assignment to the GLOBAL variable, \"minf\", is not thread safe\n",
      "Notice: Assignment to the GLOBAL variable, \"sinf\", is not thread safe\n",
      "Notice: Assignment to the GLOBAL variable, \"taus\", is not thread safe\n",
      " -> \u001b[32mNMODL\u001b[0m ../../../snudda/data/neurons/mechanisms/naf_fs.mod\n",
      "Translating na_ch.mod into /home/hjorth/HBP/Snudda/examples/notebooks/x86_64/na_ch.c\n",
      "Thread Safe\n",
      " -> \u001b[32mNMODL\u001b[0m ../../../snudda/data/neurons/mechanisms/naf_lts.mod\n",
      " -> \u001b[32mNMODL\u001b[0m ../../../snudda/data/neurons/mechanisms/naf_ms.mod\n",
      "NEURON's CVode method ignores conservation\n",
      "Translating naf_fs.mod into /home/hjorth/HBP/Snudda/examples/notebooks/x86_64/naf_fs.c\n",
      "Thread Safe\n",
      "Translating naf_lts.mod into /home/hjorth/HBP/Snudda/examples/notebooks/x86_64/naf_lts.c\n",
      "Thread Safe\n",
      "Translating naf_ms.mod into /home/hjorth/HBP/Snudda/examples/notebooks/x86_64/naf_ms.c\n",
      " -> \u001b[32mNMODL\u001b[0m ../../../snudda/data/neurons/mechanisms/NO.mod\n",
      " -> \u001b[32mNMODL\u001b[0m ../../../snudda/data/neurons/mechanisms/par_ggap.mod\n",
      "Thread Safe\n",
      "Thread Safe\n",
      "Translating NO.mod into /home/hjorth/HBP/Snudda/examples/notebooks/x86_64/NO.c\n",
      " -> \u001b[32mNMODL\u001b[0m ../../../snudda/data/neurons/mechanisms/sk_ch.mod\n",
      " -> \u001b[32mNMODL\u001b[0m ../../../snudda/data/neurons/mechanisms/sk_fs.mod\n",
      "Translating par_ggap.mod into /home/hjorth/HBP/Snudda/examples/notebooks/x86_64/par_ggap.c\n",
      "Thread Safe\n",
      "Thread Safe\n",
      "Translating sk_ch.mod into /home/hjorth/HBP/Snudda/examples/notebooks/x86_64/sk_ch.c\n",
      " -> \u001b[32mNMODL\u001b[0m ../../../snudda/data/neurons/mechanisms/sk_ms.mod\n",
      " -> \u001b[32mNMODL\u001b[0m ../../../snudda/data/neurons/mechanisms/tmampa.mod\n",
      "Thread Safe\n",
      "Translating sk_fs.mod into /home/hjorth/HBP/Snudda/examples/notebooks/x86_64/sk_fs.c\n",
      " -> \u001b[32mNMODL\u001b[0m ../../../snudda/data/neurons/mechanisms/tmgabaa.mod\n",
      "Translating sk_ms.mod into /home/hjorth/HBP/Snudda/examples/notebooks/x86_64/sk_ms.c\n",
      "Thread Safe\n",
      "Translating tmampa.mod into /home/hjorth/HBP/Snudda/examples/notebooks/x86_64/tmampa.c\n",
      "Translating tmgabaa.mod into /home/hjorth/HBP/Snudda/examples/notebooks/x86_64/tmgabaa.c\n",
      " -> \u001b[32mNMODL\u001b[0m ../../../snudda/data/neurons/mechanisms/tmglut_double.mod\n",
      "Thread Safe\n",
      "Thread Safe\n",
      "Notice: VERBATIM blocks are not thread safe\n",
      "Notice: scop_random is not thread safe\n",
      " -> \u001b[32mNMODL\u001b[0m ../../../snudda/data/neurons/mechanisms/tmglut_M1RH_D1.mod\n",
      " -> \u001b[32mNMODL\u001b[0m ../../../snudda/data/neurons/mechanisms/tmglut.mod\n",
      "Translating tmglut_double.mod into /home/hjorth/HBP/Snudda/examples/notebooks/x86_64/tmglut_double.c\n",
      " -> \u001b[32mNMODL\u001b[0m ../../../snudda/data/neurons/mechanisms/tmnmda.mod\n",
      "Translating tmglut.mod into /home/hjorth/HBP/Snudda/examples/notebooks/x86_64/tmglut.c\n",
      "Thread Safe\n",
      "Translating tmglut_M1RH_D1.mod into /home/hjorth/HBP/Snudda/examples/notebooks/x86_64/tmglut_M1RH_D1.c\n",
      " -> \u001b[32mNMODL\u001b[0m ../../../snudda/data/neurons/mechanisms/vecevent.mod\n",
      "Translating tmnmda.mod into /home/hjorth/HBP/Snudda/examples/notebooks/x86_64/tmnmda.c\n",
      "Thread Safe\n",
      "Translating vecevent.mod into /home/hjorth/HBP/Snudda/examples/notebooks/x86_64/vecevent.c\n",
      "Notice: ARTIFICIAL_CELL is a synonym for POINT_PROCESS which hints that it\n",
      " -> \u001b[32mCompiling\u001b[0m bk_ch.c\n",
      "only affects and is affected by discrete events. As such it is not\n",
      "located in a section and is not associated with an integrator\n",
      "Thread Safe\n",
      " -> \u001b[32mCompiling\u001b[0m bk_fs.c\n",
      "Thread Safe\n",
      "Thread Safe\n",
      " -> \u001b[32mCompiling\u001b[0m bk_ms.c\n",
      " -> \u001b[32mCompiling\u001b[0m ca_ch.c\n",
      " -> \u001b[32mCompiling\u001b[0m cadyn_fs.c\n",
      " -> \u001b[32mCompiling\u001b[0m cadyn_ms.c\n",
      " -> \u001b[32mCompiling\u001b[0m cal12_ms.c\n",
      " -> \u001b[32mCompiling\u001b[0m cal13_ms.c\n",
      " -> \u001b[32mCompiling\u001b[0m cal_ch.c\n",
      " -> \u001b[32mCompiling\u001b[0m caldyn_ms.c\n",
      " -> \u001b[32mCompiling\u001b[0m can_fs.c\n",
      " -> \u001b[32mCompiling\u001b[0m can_ms.c\n",
      " -> \u001b[32mCompiling\u001b[0m cap_ch.c\n",
      " -> \u001b[32mCompiling\u001b[0m caq_fs.c\n",
      " -> \u001b[32mCompiling\u001b[0m caq_ms.c\n",
      " -> \u001b[32mCompiling\u001b[0m car_fs.c\n",
      " -> \u001b[32mCompiling\u001b[0m car_ms.c\n",
      " -> \u001b[32mCompiling\u001b[0m cat32_ms.c\n",
      " -> \u001b[32mCompiling\u001b[0m cat33_ms.c\n",
      " -> \u001b[32mCompiling\u001b[0m concACh.c\n",
      " -> \u001b[32mCompiling\u001b[0m concDAfile.c\n",
      " -> \u001b[32mCompiling\u001b[0m concDA.c\n",
      " -> \u001b[32mCompiling\u001b[0m hcn12_ch.c\n",
      " -> \u001b[32mCompiling\u001b[0m hd_lts.c\n",
      " -> \u001b[32mCompiling\u001b[0m im_lts.c\n",
      " -> \u001b[32mCompiling\u001b[0m it_lts.c\n",
      " -> \u001b[32mCompiling\u001b[0m kaf_fs.c\n",
      " -> \u001b[32mCompiling\u001b[0m kaf_ms.c\n",
      " -> \u001b[32mCompiling\u001b[0m kas_fs.c\n",
      " -> \u001b[32mCompiling\u001b[0m kas_ms.c\n",
      " -> \u001b[32mCompiling\u001b[0m kcnq_ch.c\n",
      " -> \u001b[32mCompiling\u001b[0m kdrbca1_lts.c\n",
      " -> \u001b[32mCompiling\u001b[0m kdr_fs.c\n",
      " -> \u001b[32mCompiling\u001b[0m kdr_lts.c\n",
      " -> \u001b[32mCompiling\u001b[0m kdr_ms.c\n",
      " -> \u001b[32mCompiling\u001b[0m kir2_ch.c\n",
      " -> \u001b[32mCompiling\u001b[0m kir23_lts.c\n",
      " -> \u001b[32mCompiling\u001b[0m kir_fs.c\n",
      " -> \u001b[32mCompiling\u001b[0m kir_ms.c\n",
      " -> \u001b[32mCompiling\u001b[0m kv2_ch.c\n",
      " -> \u001b[32mCompiling\u001b[0m Kv3_ch.c\n",
      " -> \u001b[32mCompiling\u001b[0m kv4_ch.c\n",
      " -> \u001b[32mCompiling\u001b[0m na2_ch.c\n",
      " -> \u001b[32mCompiling\u001b[0m na3n_lts.c\n",
      " -> \u001b[32mCompiling\u001b[0m na_ch.c\n",
      " -> \u001b[32mCompiling\u001b[0m naf_fs.c\n",
      " -> \u001b[32mCompiling\u001b[0m naf_lts.c\n",
      " -> \u001b[32mCompiling\u001b[0m naf_ms.c\n",
      " -> \u001b[32mCompiling\u001b[0m NO.c\n",
      " -> \u001b[32mCompiling\u001b[0m par_ggap.c\n",
      " -> \u001b[32mCompiling\u001b[0m sk_ch.c\n",
      " -> \u001b[32mCompiling\u001b[0m sk_fs.c\n",
      " -> \u001b[32mCompiling\u001b[0m sk_ms.c\n",
      " -> \u001b[32mCompiling\u001b[0m tmampa.c\n",
      " -> \u001b[32mCompiling\u001b[0m tmgabaa.c\n",
      " -> \u001b[32mCompiling\u001b[0m tmglut_double.c\n",
      " -> \u001b[32mCompiling\u001b[0m tmglut_M1RH_D1.c\n",
      " -> \u001b[32mCompiling\u001b[0m tmglut.c\n",
      " -> \u001b[32mCompiling\u001b[0m tmnmda.c\n",
      " -> \u001b[32mCompiling\u001b[0m vecevent.c\n",
      " => \u001b[32mLINKING\u001b[0m shared library ./libnrnmech.so\n",
      " => \u001b[32mLINKING\u001b[0m executable ./special LDFLAGS are:   -pthread /usr/lib/x86_64-linux-gnu/libreadline.so -Wl,-rpath,/usr/lib/x86_64-linux-gnu /usr/lib/x86_64-linux-gnu/libcurses.so -Wl,-rpath,/usr/lib/x86_64-linux-gnu /usr/lib/x86_64-linux-gnu/libform.so -Wl,-rpath,/usr/lib/x86_64-linux-gnu /usr/lib/x86_64-linux-gnu/libpython3.9.so -Wl,-rpath,/usr/lib/x86_64-linux-gnu /usr/lib/x86_64-linux-gnu/openmpi/lib/libmpi.so -Wl,-rpath,/usr/lib/x86_64-linux-gnu/openmpi/lib /usr/lib/x86_64-linux-gnu/libSM.so -Wl,-rpath,/usr/lib/x86_64-linux-gnu /usr/lib/x86_64-linux-gnu/libICE.so -Wl,-rpath,/usr/lib/x86_64-linux-gnu /usr/lib/x86_64-linux-gnu/libX11.so -Wl,-rpath,/usr/lib/x86_64-linux-gnu /usr/lib/x86_64-linux-gnu/libXext.so -Wl,-rpath,/usr/lib/x86_64-linux-gnu\n",
      "Successfully created x86_64/special\n"
     ]
    }
   ],
   "source": [
    "!nrnivmodl ../../snudda/data/neurons/mechanisms"
   ]
  },
  {
   "cell_type": "markdown",
   "id": "cardiac-transformation",
   "metadata": {},
   "source": [
    "To run in parallel instead of the cell below, run this in the ```examples/notebooks``` folder:\n",
    "```\n",
    "mpiexec python3 ../../snudda/simulate/network_pair_pulse_simulation.py run Planert2010 networks/pair_pulse_simulation --pre FS\n",
    "```"
   ]
  },
  {
   "cell_type": "code",
   "execution_count": null,
   "id": "announced-programming",
   "metadata": {},
   "outputs": [],
   "source": [
    "pps.run_sim(gaba_rev=GABA_rev)"
   ]
  },
  {
   "cell_type": "markdown",
   "id": "center-struggle",
   "metadata": {},
   "source": [
    "Plot results"
   ]
  },
  {
   "cell_type": "code",
   "execution_count": 8,
   "id": "cooked-brazilian",
   "metadata": {},
   "outputs": [
    {
     "name": "stdout",
     "output_type": "stream",
     "text": [
      "Loading 16 neurons with 225 synapses and 6 gap junctions\n",
      "Loading networks/pair_pulse_simulation/simulation/network-output.hdf5\n",
      "Number of pairs excluded, distance > 100.0 mum : 0\n",
      "Min amp: 0.002896295212815675\n",
      "Max amp: 0.012297284097845113\n",
      "Mean amp: 0.006233732342007419 +/- 0.0029709480957453276\n",
      "Amps: [0.0061166  0.00311585 0.00436839 0.00678399 0.00654182 0.01066698\n",
      " 0.01229728 0.0028963  0.00358364 0.00596648]\n"
     ]
    },
    {
     "data": {
      "image/png": "[encoded data removed]",
      "text/plain": [
       "<Figure size 432x288 with 1 Axes>"
      ]
     },
     "metadata": {
      "needs_background": "light"
     },
     "output_type": "display_data"
    },
    {
     "data": {
      "text/plain": [
       "<Figure size 432x288 with 0 Axes>"
      ]
     },
     "metadata": {},
     "output_type": "display_data"
    },
    {
     "data": {
      "image/png": "[encoded data removed]",
      "text/plain": [
       "<Figure size 432x288 with 1 Axes>"
      ]
     },
     "metadata": {
      "needs_background": "light"
     },
     "output_type": "display_data"
    },
    {
     "data": {
      "text/plain": [
       "<Figure size 432x288 with 0 Axes>"
      ]
     },
     "metadata": {},
     "output_type": "display_data"
    }
   ],
   "source": [
    "pps.analyse(post_type=\"dSPN\")"
   ]
  },
  {
   "cell_type": "code",
   "execution_count": 9,
   "id": "finished-determination",
   "metadata": {},
   "outputs": [
    {
     "name": "stdout",
     "output_type": "stream",
     "text": [
      "Loading 16 neurons with 225 synapses and 6 gap junctions\n",
      "Loading networks/pair_pulse_simulation/simulation/network-output.hdf5\n",
      "Number of pairs excluded, distance > 100.0 mum : 0\n",
      "Min amp: 0.003708836952567643\n",
      "Max amp: 0.005850512046500472\n",
      "Mean amp: 0.004467423342394656 +/- 0.0008197682712046663\n",
      "Amps: [0.00410674 0.0042036  0.00585051 0.00370884]\n"
     ]
    },
    {
     "data": {
      "image/png": "[encoded data removed]",
      "text/plain": [
       "<Figure size 432x288 with 1 Axes>"
      ]
     },
     "metadata": {
      "needs_background": "light"
     },
     "output_type": "display_data"
    },
    {
     "data": {
      "text/plain": [
       "<Figure size 432x288 with 0 Axes>"
      ]
     },
     "metadata": {},
     "output_type": "display_data"
    },
    {
     "data": {
      "image/png": "[encoded data removed]",
      "text/plain": [
       "<Figure size 432x288 with 1 Axes>"
      ]
     },
     "metadata": {
      "needs_background": "light"
     },
     "output_type": "display_data"
    },
    {
     "data": {
      "text/plain": [
       "<Figure size 432x288 with 0 Axes>"
      ]
     },
     "metadata": {},
     "output_type": "display_data"
    }
   ],
   "source": [
    "pps.analyse(post_type=\"iSPN\")"
   ]
  },
  {
   "cell_type": "code",
   "execution_count": null,
   "id": "burning-evanescence",
   "metadata": {},
   "outputs": [],
   "source": []
  }
 ],
 "metadata": {
  "kernelspec": {
   "display_name": "Python 3 (ipykernel)",
   "language": "python",
   "name": "python3"
  },
  "language_info": {
   "codemirror_mode": {
    "name": "ipython",
    "version": 3
   },
   "file_extension": ".py",
   "mimetype": "text/x-python",
   "name": "python",
   "nbconvert_exporter": "python",
   "pygments_lexer": "ipython3",
   "version": "3.9.2"
  }
 },
 "nbformat": 4,
 "nbformat_minor": 5
}
