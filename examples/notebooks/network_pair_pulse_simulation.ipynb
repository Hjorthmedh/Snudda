{
 "cells": [
  {
   "cell_type": "code",
   "execution_count": 1,
   "id": "micro-value",
   "metadata": {},
   "outputs": [],
   "source": [
    "import os\n",
    "from snudda.simulate.network_pair_pulse_simulation import SnuddaNetworkPairPulseSimulation\n",
    "n_dSPN = 5\n",
    "n_iSPN = 5\n",
    "n_FS = 2\n",
    "n_LTS = 2\n",
    "n_ChIN = 2\n",
    "\n",
    "hold_v = -80e-3    # Holding voltage\n",
    "max_dist = 100e-6  # Only look at pairs closer than this distance\n",
    "GABA_rev = -60e-3  # GABA reversal potential\n",
    "\n",
    "cur_inj = 10e-9\n",
    "\n",
    "network_path = os.path.join(\"networks\",\"pair_pulse_simulation\")\n",
    "volume_type=\"cube\"\n",
    "side_len = 200e-6"
   ]
  },
  {
   "cell_type": "code",
   "execution_count": 2,
   "id": "stable-being",
   "metadata": {},
   "outputs": [
    {
     "name": "stdout",
     "output_type": "stream",
     "text": [
      "Checking depolarisation/hyperpolarisation of FS to ALL synapses\n"
     ]
    }
   ],
   "source": [
    "pps = SnuddaNetworkPairPulseSimulation(network_path=network_path,\n",
    "                                       exp_type=\"Planert2010\",\n",
    "                                       pre_type=\"FS\",\n",
    "                                       post_type=\"ALL\",\n",
    "                                       max_dist=max_dist,\n",
    "                                       hold_voltage=hold_v,\n",
    "                                       current_injection = cur_inj)"
   ]
  },
  {
   "cell_type": "code",
   "execution_count": 3,
   "id": "imposed-friendship",
   "metadata": {},
   "outputs": [
    {
     "name": "stdout",
     "output_type": "stream",
     "text": [
      "Using cube for striatum\n",
      "Adding neurons: FS from dir $SNUDDA_DATA/neurons/striatum/fs\n",
      "Adding neurons: dSPN from dir $SNUDDA_DATA/neurons/striatum/dspn\n",
      "Adding neurons: iSPN from dir $SNUDDA_DATA/neurons/striatum/ispn\n",
      "Adding neurons: ChIN from dir $SNUDDA_DATA/neurons/striatum/chin\n",
      "Checking boundaries, to make sure P is not too high\n",
      "LTS axon density P([-0.0002],[-0.0001],[-3.e-05]) = [1.84256218e-10]\n",
      "LTS axon density P([-0.0002],[-0.0001],[3.e-05]) = [1.84256218e-10]\n",
      "LTS axon density P([-0.0002],[0.0001],[-3.e-05]) = [1.84256218e-10]\n",
      "LTS axon density P([-0.0002],[0.0001],[3.e-05]) = [1.84256218e-10]\n",
      "LTS axon density P([0.0009],[-0.0001],[-3.e-05]) = [1.72360142e-23]\n",
      "LTS axon density P([0.0009],[-0.0001],[3.e-05]) = [1.72360142e-23]\n",
      "LTS axon density P([0.0009],[0.0001],[-3.e-05]) = [1.72360142e-23]\n",
      "LTS axon density P([0.0009],[0.0001],[3.e-05]) = [1.72360142e-23]\n",
      "Adding neurons: LTS from dir $SNUDDA_DATA/neurons/striatum/lts\n",
      "Writing networks/pair_pulse_simulation/network-config.json\n",
      "\n",
      "\n",
      "snudda place networks/pair_pulse_simulation\n",
      "snudda detect networks/pair_pulse_simulation\n",
      "snudda prune networks/pair_pulse_simulation\n",
      "python3 snudda/utils/cut.py networks/pair_pulse_simulation/network-synapses.hdf5 abs(z)<100e-6\n",
      "\n",
      "The last command will pop up a figure and enter debug mode, press ctrl+D in the terminal window after inspecting the plot to continue\n",
      "\n",
      "!!! Remember to compile the mod files: nrnivmodl data/neurons/mechanisms\n",
      "\n",
      "To run for example dSPN -> iSPN (and dSPN->dSPN) calibration:\n",
      "mpiexec -n 12 -map-by socket:OVERSUBSCRIBE python3 snudda_network_pair_pulse_simulation.py run Planert2010 networks/pair_pulse_simulation/network-cut-slice.hdf5 dSPN iSPN\n",
      "\n",
      "python3 snudda/simulate/network_pair_pulse_simulation.py analyse Planert2010 networks/pair_pulse_simulation/network-cut-slice.hdf5 --pre dSPN --post iSPN\n",
      "python3 snudda_network_pair_pulse_simulation.py analyse networks/pair_pulse_simulation/network-cut-slice.hdf5 --pre iSPN --post dSPN\n"
     ]
    }
   ],
   "source": [
    "pps.setup(n_dSPN=n_dSPN, n_iSPN=n_iSPN,\n",
    "          n_FS=n_FS, n_LTS=n_LTS, n_ChIN=n_ChIN,\n",
    "          volume_type=volume_type,\n",
    "          side_len=side_len)"
   ]
  },
  {
   "cell_type": "code",
   "execution_count": 4,
   "id": "blind-williams",
   "metadata": {},
   "outputs": [],
   "source": [
    "from snudda.place import SnuddaPlace\n",
    "sp = SnuddaPlace(network_path=network_path)\n",
    "sp.place()"
   ]
  },
  {
   "cell_type": "code",
   "execution_count": 5,
   "id": "surprising-architecture",
   "metadata": {},
   "outputs": [
    {
     "name": "stdout",
     "output_type": "stream",
     "text": [
      "Instantiates par_id = 0\n",
      "morph_tag = optim_chin_morph_renamed2019-11-08.swc\n",
      "Instantiates par_id = 0\n",
      "morph_tag = lts_morp_2019-11-07_centered_no_axon.swc\n",
      "No d_view specified, running distribute neurons in serial\n",
      "Processing hyper voxel : 21/64 (16 neurons)\n",
      "Processing hyper voxel : 5/64 (16 neurons)\n",
      "Processing hyper voxel : 4/64 (15 neurons)\n",
      "Processing hyper voxel : 17/64 (15 neurons)\n",
      "Processing hyper voxel : 1/64 (13 neurons)\n",
      "Processing hyper voxel : 20/64 (13 neurons)\n",
      "Processing hyper voxel : 16/64 (11 neurons)\n",
      "Processing hyper voxel : 0/64 (7 neurons)\n",
      "Processing hyper voxel : 24/64 (5 neurons)\n",
      "Processing hyper voxel : 25/64 (4 neurons)\n",
      "Processing hyper voxel : 8/64 (3 neurons)\n",
      "Processing hyper voxel : 6/64 (3 neurons)\n",
      "Processing hyper voxel : 9/64 (3 neurons)\n",
      "Processing hyper voxel : 2/64 (2 neurons)\n",
      "Processing hyper voxel : 33/64 (2 neurons)\n",
      "Processing hyper voxel : 37/64 (2 neurons)\n",
      "Processing hyper voxel : 36/64 (1 neurons)\n",
      "Processing hyper voxel : 34/64 (1 neurons)\n"
     ]
    }
   ],
   "source": [
    "from snudda.detect import SnuddaDetect\n",
    "sd = SnuddaDetect(network_path=network_path)\n",
    "sd.detect()"
   ]
  },
  {
   "cell_type": "code",
   "execution_count": 6,
   "id": "unavailable-christmas",
   "metadata": {},
   "outputs": [
    {
     "name": "stdout",
     "output_type": "stream",
     "text": [
      "Read 2738 out of total 2738 synapses\n",
      "Read 2 out of total 2 synapses\n"
     ]
    }
   ],
   "source": [
    "from snudda.detect import SnuddaPrune\n",
    "spr = SnuddaPrune(network_path=network_path)\n",
    "spr.prune()\n",
    "spr = None"
   ]
  },
  {
   "cell_type": "markdown",
   "id": "moral-elephant",
   "metadata": {},
   "source": [
    "Compile neuron modules"
   ]
  },
  {
   "cell_type": "code",
   "execution_count": null,
   "id": "sustained-monaco",
   "metadata": {},
   "outputs": [],
   "source": [
    "!nrnivmodl ../../snudda/data/neurons/mechanisms"
   ]
  },
  {
   "cell_type": "markdown",
   "id": "cardiac-transformation",
   "metadata": {},
   "source": [
    "To run in parallel instead of the cell below, run this in the ```examples/notebooks``` folder:\n",
    "```\n",
    "mpiexec python3 ../../snudda/simulate/network_pair_pulse_simulation.py run Planert2010 networks/pair_pulse_simulation --pre FS\n",
    "```"
   ]
  },
  {
   "cell_type": "code",
   "execution_count": 7,
   "id": "aware-destruction",
   "metadata": {},
   "outputs": [],
   "source": [
    "!mpiexec python3 ../../snudda/simulate/network_pair_pulse_simulation.py run Planert2010 networks/pair_pulse_simulation --pre FS"
   ]
  },
  {
   "cell_type": "markdown",
   "id": "numeric-lingerie",
   "metadata": {},
   "source": [
    "This runs the simulation in serial, so slower:"
   ]
  },
  {
   "cell_type": "code",
   "execution_count": null,
   "id": "announced-programming",
   "metadata": {},
   "outputs": [],
   "source": [
    "pps.run_sim(gaba_rev=GABA_rev)"
   ]
  },
  {
   "cell_type": "code",
   "execution_count": null,
   "id": "cooked-brazilian",
   "metadata": {},
   "outputs": [],
   "source": [
    "pps.analyse()\n"
   ]
  }
 ],
 "metadata": {
  "kernelspec": {
   "display_name": "Python 3",
   "language": "python",
   "name": "python3"
  },
  "language_info": {
   "codemirror_mode": {
    "name": "ipython",
    "version": 3
   },
   "file_extension": ".py",
   "mimetype": "text/x-python",
   "name": "python",
   "nbconvert_exporter": "python",
   "pygments_lexer": "ipython3",
   "version": "3.7.3"
  }
 },
 "nbformat": 4,
 "nbformat_minor": 5
}
