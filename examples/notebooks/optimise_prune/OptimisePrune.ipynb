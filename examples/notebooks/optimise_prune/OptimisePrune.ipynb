{
 "cells": [
  {
   "cell_type": "markdown",
   "id": "df4b2bd1-8690-4fc1-91e6-ae9fbd69925b",
   "metadata": {},
   "source": [
    "This Notebook shows how to optimise the pruning parameters of your network based on pairwise connectivity data.\n",
    "\n",
    "First we need to create a small network that we can use for the optimisation of the pruning parameters.\n",
    "\n",
    "In this example we do not need to have realistic neuron densities, so we will place the neurons in a cube of diameter 100 micrometers."
   ]
  },
  {
   "cell_type": "code",
   "execution_count": null,
   "id": "2eaf4585-4517-4f28-bd0e-82063619d95b",
   "metadata": {},
   "outputs": [],
   "source": [
    "import os\n",
    "network_path = os.path.join(\"networks\",\"dspn_to_dspn\")\n",
    "n_neurons = 100\n",
    "pop_size = 10\n",
    "epochs = 10\n",
    "\n",
    "pre_type = \"dSPN\"\n",
    "post_type = \"dSPN\"\n",
    "con_type = \"GABA\"\n",
    "\n",
    "SPN2SPNdistDepPruning = \"1-exp(-(0.4*d/60e-6)**2)\"\n",
    "extra_pruning_parameters = { 'distPruning': SPN2SPNdistDepPruning }\n",
    "\n",
    "experimental_data = [(0, 50e-6, 3/47.0), (0, 100e-6, 3/66.0)]\n",
    "avg_num_synapses_per_pair = [3, 0.05]  # Expected mean, error weight"
   ]
  },
  {
   "cell_type": "code",
   "execution_count": null,
   "id": "b9f27530-a938-4799-b50b-75e94375f323",
   "metadata": {},
   "outputs": [],
   "source": [
    "from snudda.place.create_cube_mesh import create_cube_mesh\n",
    "\n",
    "mesh_file = os.path.join(network_path, \"cube-mesh.obj\")\n",
    "create_cube_mesh(mesh_file, [0,0,0], 100e-6)\n",
    "\n",
    "from snudda.init import SnuddaInit\n",
    "si = SnuddaInit(network_path=network_path, random_seed=123, snudda_data=\"../../../../BasalGangliaData/data/\")\n",
    "\n",
    "si.define_structure(struct_name=\"Cube\", struct_mesh=mesh_file, d_min=12e-6, mesh_bin_width=25e-6)\n",
    "\n",
    "if pre_type == post_type:\n",
    "    si.add_neurons(name=pre_type, num_neurons=n_neurons, volume_id=\"Cube\",\n",
    "                    neuron_dir=os.path.join(\"$DATA\",\"neurons\",\"striatum\",\"dspn\"))\n",
    "else:\n",
    "    si.add_neurons(name=pre_type, num_neurons=int(n_neurons/2), volume_id=\"Cube\",\n",
    "                    neuron_dir=os.path.join(\"$DATA\",\"neurons\",\"striatum\",\"dspn\"))\n",
    "    si.add_neurons(name=post_type, num_neurons=int(n_neurons/2), volume_id=\"Cube\",\n",
    "                    neuron_dir=os.path.join(\"$DATA\",\"neurons\",\"striatum\",\"dspn\"))\n",
    "    \n",
    "\n",
    "# The parameters here does not matter, they will be set during optimisation\n",
    "si.add_neuron_target(neuron_name=pre_type,\n",
    "                     target_name=post_type,\n",
    "                     connection_type=con_type,\n",
    "                     dist_pruning=SPN2SPNdistDepPruning,\n",
    "                     f1=None, soft_max=None, mu2=None,\n",
    "                     a3=None,\n",
    "                     conductance=[0.24e-9, 0.1e-9],\n",
    "                     mod_file=\"tmGabaA\")\n",
    "\n",
    "si.write_json()"
   ]
  },
  {
   "cell_type": "code",
   "execution_count": null,
   "id": "e4a95e3a-9b43-4023-a338-84e2abc0d95d",
   "metadata": {},
   "outputs": [],
   "source": [
    "from snudda import SnuddaPlace\n",
    "sp = SnuddaPlace(network_path=network_path, verbose=False)\n",
    "sp.place()"
   ]
  },
  {
   "cell_type": "code",
   "execution_count": null,
   "id": "bb715388-152b-4f8e-862a-5b38df1e631e",
   "metadata": {},
   "outputs": [],
   "source": [
    "from snudda.plotting import PlotNetwork\n",
    "network_file = os.path.join(network_path, \"network-neuron-positions.hdf5\")\n",
    "pn = PlotNetwork(network_file)\n",
    "pn.plot(plot_axon=False, plot_dendrite=False, plot_synapses=False)\n",
    "pn.close() "
   ]
  },
  {
   "cell_type": "code",
   "execution_count": null,
   "id": "87956186-ebc7-4d42-967e-28e4737e0a71",
   "metadata": {},
   "outputs": [],
   "source": [
    "from snudda import SnuddaDetect\n",
    "\n",
    "sd = SnuddaDetect(network_path=network_path, hyper_voxel_size=100)\n",
    "sd.detect()"
   ]
  },
  {
   "cell_type": "code",
   "execution_count": null,
   "id": "e413fb86-c3ff-431d-b502-670445309063",
   "metadata": {},
   "outputs": [],
   "source": [
    "from snudda.optimise.optimise_pruning import OptimisePruning\n",
    "op = OptimisePruning(network_path=network_path, pop_size=pop_size, epochs=epochs)"
   ]
  },
  {
   "cell_type": "code",
   "execution_count": null,
   "id": "37667d52-30e2-427f-9f40-2edf25b0b504",
   "metadata": {},
   "outputs": [],
   "source": [
    "op.merge_putative_synapses()"
   ]
  },
  {
   "cell_type": "code",
   "execution_count": null,
   "id": "268e3825-1642-404d-81ab-156866aa0bfa",
   "metadata": {},
   "outputs": [],
   "source": [
    "op.prune.connectivity_distributions"
   ]
  },
  {
   "cell_type": "code",
   "execution_count": null,
   "id": "54d6f86e-4be8-40ae-95b2-eb1f82936071",
   "metadata": {},
   "outputs": [],
   "source": [
    "op.prune.type_id_lookup"
   ]
  },
  {
   "cell_type": "code",
   "execution_count": null,
   "id": "fc43c7ba-a750-41b9-8ef8-87f5333a91f0",
   "metadata": {},
   "outputs": [],
   "source": [
    "op.prune.hist_file[\"meta/connectivityDistributions\"][()]"
   ]
  },
  {
   "cell_type": "code",
   "execution_count": null,
   "id": "521b4339-15e7-4d28-8c08-10c9b345d52c",
   "metadata": {},
   "outputs": [],
   "source": [
    "res = op.optimize(pre_type=pre_type, post_type=post_type, con_type=con_type, experimental_data=experimental_data, extra_pruning_parameters=extra_pruning_parameters)"
   ]
  },
  {
   "cell_type": "code",
   "execution_count": null,
   "id": "9669aa41-9e2b-4b20-bdf6-8c9fe77136ea",
   "metadata": {},
   "outputs": [],
   "source": [
    "res"
   ]
  },
  {
   "cell_type": "code",
   "execution_count": null,
   "id": "19853b8d-0c78-4c9e-835d-73fc7c673ddf",
   "metadata": {},
   "outputs": [],
   "source": [
    "import os\n",
    "from snudda.analyse.analyse import SnuddaAnalyse\n",
    "\n",
    "network_file = os.path.join(network_path, \"network-synapses-e1758f28-37e3-4405-b3af-b3fd1f0a8c19.hdf5\")\n",
    "dist3D = False\n",
    "y_max_H = None\n",
    "\n",
    "sa = SnuddaAnalyse(network_file)"
   ]
  },
  {
   "cell_type": "code",
   "execution_count": null,
   "id": "b31c8259-ac6a-45a6-9088-1a49b1985b1a",
   "metadata": {},
   "outputs": [],
   "source": [
    "sa.plot_connection_probability(\"dSPN\", \"dSPN\", dist_3d=True, exp_max_dist=[50e-6, 100e-6], exp_data=[5 / 19.0, 3 / 43.0],\n",
    "                               exp_data_detailed=[(5, 19), (3, 43)])"
   ]
  },
  {
   "cell_type": "code",
   "execution_count": null,
   "id": "c697fc6f-f88c-4e4a-962c-5cc6afa650fc",
   "metadata": {},
   "outputs": [],
   "source": []
  }
 ],
 "metadata": {
  "kernelspec": {
   "display_name": "Python 3 (ipykernel)",
   "language": "python",
   "name": "python3"
  },
  "language_info": {
   "codemirror_mode": {
    "name": "ipython",
    "version": 3
   },
   "file_extension": ".py",
   "mimetype": "text/x-python",
   "name": "python",
   "nbconvert_exporter": "python",
   "pygments_lexer": "ipython3",
   "version": "3.9.2"
  }
 },
 "nbformat": 4,
 "nbformat_minor": 5
}
