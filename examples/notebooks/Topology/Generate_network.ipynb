{
 "cells": [
  {
   "cell_type": "markdown",
   "id": "3d9bad90",
   "metadata": {},
   "source": [
    "This notebook generates the ```topology100``` network that is used in this example folder."
   ]
  },
  {
   "cell_type": "code",
   "execution_count": 1,
   "id": "ca13842d",
   "metadata": {},
   "outputs": [],
   "source": [
    "import os\n",
    "\n",
    "os.environ[\"SNUDDA_DATA\"] = \"../../../../BasalGangliaData/data/\"\n",
    "assert os.path.isdir(os.getenv(\"SNUDDA_DATA\")), f\"You need to have BasalGangliaData installed for this example.\"\n",
    "\n",
    "# Running in serial\n",
    "rc = None"
   ]
  },
  {
   "cell_type": "code",
   "execution_count": 2,
   "id": "cdc97813",
   "metadata": {},
   "outputs": [
    {
     "name": "stdout",
     "output_type": "stream",
     "text": [
      "Adding Striatum with 100 neurons\n",
      "Using cube for striatum\n",
      "Neurons for striatum read from /home/hjorth/HBP/BasalGangliaData/data/neurons/striatum\n",
      "Adding neurons: FS from dir /home/hjorth/HBP/BasalGangliaData/data/neurons/striatum/fs\n",
      "Adding neurons: dSPN from dir /home/hjorth/HBP/BasalGangliaData/data/neurons/striatum/dspn\n",
      "Adding neurons: iSPN from dir /home/hjorth/HBP/BasalGangliaData/data/neurons/striatum/ispn\n",
      "Adding neurons: ChIN from dir /home/hjorth/HBP/BasalGangliaData/data/neurons/striatum/chin\n",
      "Checking boundaries, to make sure P is not too high\n",
      "LTS axon density P([-0.0002], [-0.0001], [-3.e-05]) = [1.84256218e-10]\n",
      "LTS axon density P([-0.0002], [-0.0001], [3.e-05]) = [1.84256218e-10]\n",
      "LTS axon density P([-0.0002], [0.0001], [-3.e-05]) = [1.84256218e-10]\n",
      "LTS axon density P([-0.0002], [0.0001], [3.e-05]) = [1.84256218e-10]\n",
      "LTS axon density P([0.0009], [-0.0001], [-3.e-05]) = [1.72360142e-23]\n",
      "LTS axon density P([0.0009], [-0.0001], [3.e-05]) = [1.72360142e-23]\n",
      "LTS axon density P([0.0009], [0.0001], [-3.e-05]) = [1.72360142e-23]\n",
      "LTS axon density P([0.0009], [0.0001], [3.e-05]) = [1.72360142e-23]\n",
      "Adding neurons: LTS from dir /home/hjorth/HBP/BasalGangliaData/data/neurons/striatum/lts\n",
      "Writing topology100/network-config.json\n"
     ]
    }
   ],
   "source": [
    "network_path = \"topology100\"\n",
    "\n",
    "from snudda import SnuddaInit\n",
    "\n",
    "struct_def = {\"Striatum\": 100 }\n",
    "si = SnuddaInit(network_path=network_path, struct_def=struct_def, random_seed=1234)"
   ]
  },
  {
   "cell_type": "code",
   "execution_count": 3,
   "id": "2bb64fc5",
   "metadata": {},
   "outputs": [],
   "source": [
    "from snudda import SnuddaPlace\n",
    "sp = SnuddaPlace(network_path=network_path, rc=rc)\n",
    "sp.place()"
   ]
  },
  {
   "cell_type": "code",
   "execution_count": 4,
   "id": "2f85bbf5",
   "metadata": {},
   "outputs": [
    {
     "name": "stdout",
     "output_type": "stream",
     "text": [
      "No d_view specified, running distribute neurons in serial\n",
      "Processing hyper voxel : 99/252 (99 neurons)\n",
      "Processing hyper voxel : 98/252 (99 neurons)\n",
      "Processing hyper voxel : 57/252 (94 neurons)\n",
      "Processing hyper voxel : 93/252 (92 neurons)\n",
      "Processing hyper voxel : 92/252 (90 neurons)\n",
      "Processing hyper voxel : 56/252 (89 neurons)\n",
      "Processing hyper voxel : 51/252 (62 neurons)\n",
      "Processing hyper voxel : 50/252 (59 neurons)\n",
      "Processing hyper voxel : 141/252 (44 neurons)\n",
      "Processing hyper voxel : 104/252 (38 neurons)\n",
      "Processing hyper voxel : 140/252 (37 neurons)\n",
      "Processing hyper voxel : 105/252 (36 neurons)\n",
      "Processing hyper voxel : 63/252 (25 neurons)\n",
      "Processing hyper voxel : 62/252 (23 neurons)\n",
      "Processing hyper voxel : 134/252 (22 neurons)\n",
      "Processing hyper voxel : 135/252 (22 neurons)\n",
      "Processing hyper voxel : 100/252 (17 neurons)\n",
      "Processing hyper voxel : 97/252 (14 neurons)\n",
      "Processing hyper voxel : 94/252 (11 neurons)\n",
      "Processing hyper voxel : 58/252 (10 neurons)\n",
      "Processing hyper voxel : 147/252 (10 neurons)\n",
      "Processing hyper voxel : 146/252 (6 neurons)\n",
      "Processing hyper voxel : 86/252 (6 neurons)\n",
      "Processing hyper voxel : 87/252 (6 neurons)\n",
      "Processing hyper voxel : 55/252 (5 neurons)\n",
      "Processing hyper voxel : 44/252 (4 neurons)\n",
      "Processing hyper voxel : 139/252 (4 neurons)\n",
      "Processing hyper voxel : 91/252 (3 neurons)\n",
      "Processing hyper voxel : 45/252 (3 neurons)\n",
      "Processing hyper voxel : 49/252 (2 neurons)\n",
      "Processing hyper voxel : 133/252 (2 neurons)\n",
      "Processing hyper voxel : 103/252 (2 neurons)\n",
      "Processing hyper voxel : 138/252 (1 neurons)\n",
      "Processing hyper voxel : 136/252 (1 neurons)\n",
      "Processing hyper voxel : 8/252 (1 neurons)\n",
      "Processing hyper voxel : 148/252 (1 neurons)\n",
      "Processing hyper voxel : 151/252 (1 neurons)\n",
      "Processing hyper voxel : 152/252 (1 neurons)\n",
      "Processing hyper voxel : 153/252 (1 neurons)\n",
      "Processing hyper voxel : 158/252 (1 neurons)\n",
      "Processing hyper voxel : 145/252 (1 neurons)\n",
      "Processing hyper voxel : 142/252 (1 neurons)\n",
      "Processing hyper voxel : 96/252 (1 neurons)\n",
      "Processing hyper voxel : 110/252 (1 neurons)\n",
      "Processing hyper voxel : 106/252 (1 neurons)\n",
      "Processing hyper voxel : 159/252 (1 neurons)\n",
      "Processing hyper voxel : 88/252 (1 neurons)\n",
      "Processing hyper voxel : 85/252 (1 neurons)\n",
      "Processing hyper voxel : 61/252 (1 neurons)\n",
      "Processing hyper voxel : 52/252 (1 neurons)\n",
      "Processing hyper voxel : 48/252 (1 neurons)\n",
      "Processing hyper voxel : 43/252 (1 neurons)\n",
      "Processing hyper voxel : 42/252 (1 neurons)\n",
      "Processing hyper voxel : 15/252 (1 neurons)\n",
      "Processing hyper voxel : 14/252 (1 neurons)\n",
      "Processing hyper voxel : 13/252 (1 neurons)\n",
      "Processing hyper voxel : 111/252 (1 neurons)\n",
      "Processing hyper voxel : 189/252 (1 neurons)\n"
     ]
    }
   ],
   "source": [
    "from snudda import SnuddaDetect\n",
    "\n",
    "sd = SnuddaDetect(network_path=network_path, rc=rc)\n",
    "sd.detect()"
   ]
  },
  {
   "cell_type": "code",
   "execution_count": 5,
   "id": "31973d67",
   "metadata": {},
   "outputs": [
    {
     "name": "stdout",
     "output_type": "stream",
     "text": [
      "Read 135345 out of total 135345 synapses\n"
     ]
    }
   ],
   "source": [
    "from snudda import SnuddaPrune\n",
    "\n",
    "sp = SnuddaPrune(network_path=network_path, rc=rc)\n",
    "sp.prune()"
   ]
  },
  {
   "cell_type": "code",
   "execution_count": null,
   "id": "f2f32bda",
   "metadata": {},
   "outputs": [],
   "source": []
  }
 ],
 "metadata": {
  "kernelspec": {
   "display_name": "Python 3 (ipykernel)",
   "language": "python",
   "name": "python3"
  },
  "language_info": {
   "codemirror_mode": {
    "name": "ipython",
    "version": 3
   },
   "file_extension": ".py",
   "mimetype": "text/x-python",
   "name": "python",
   "nbconvert_exporter": "python",
   "pygments_lexer": "ipython3",
   "version": "3.7.3"
  }
 },
 "nbformat": 4,
 "nbformat_minor": 5
}
