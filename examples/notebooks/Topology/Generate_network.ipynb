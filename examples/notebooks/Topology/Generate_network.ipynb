{
 "cells": [
  {
   "cell_type": "markdown",
   "id": "83bdb84a",
   "metadata": {},
   "source": [
    "This notebook generates the ```topology100``` network that is used in this example folder."
   ]
  },
  {
   "cell_type": "code",
   "execution_count": 1,
   "id": "edf0c931",
   "metadata": {},
   "outputs": [],
   "source": [
    "import os\n",
    "\n",
    "os.environ[\"SNUDDA_DATA\"] = \"../../../../BasalGangliaData/data/\"\n",
    "assert os.path.isdir(os.getenv(\"SNUDDA_DATA\")), f\"You need to have BasalGangliaData installed for this example.\"\n",
    "\n",
    "# Running in serial\n",
    "rc = None"
   ]
  },
  {
   "cell_type": "code",
   "execution_count": 2,
   "id": "5886fd2e",
   "metadata": {},
   "outputs": [
    {
     "name": "stdout",
     "output_type": "stream",
     "text": [
      "Adding Striatum with 100 neurons\n",
      "Using cube for striatum\n",
      "Neurons for striatum read from /home/hjorth/HBP/BasalGangliaData/data/neurons/striatum\n",
      "Adding neurons: FS from dir /home/hjorth/HBP/BasalGangliaData/data/neurons/striatum/fs\n",
      "Adding neurons: dSPN from dir /home/hjorth/HBP/BasalGangliaData/data/neurons/striatum/dspn\n",
      "Adding neurons: iSPN from dir /home/hjorth/HBP/BasalGangliaData/data/neurons/striatum/ispn\n",
      "Adding neurons: ChIN from dir /home/hjorth/HBP/BasalGangliaData/data/neurons/striatum/chin\n",
      "Checking boundaries, to make sure P is not too high\n",
      "LTS axon density P([-0.0002], [-0.0001], [-3.e-05]) = [1.84256218e-10]\n",
      "LTS axon density P([-0.0002], [-0.0001], [3.e-05]) = [1.84256218e-10]\n",
      "LTS axon density P([-0.0002], [0.0001], [-3.e-05]) = [1.84256218e-10]\n",
      "LTS axon density P([-0.0002], [0.0001], [3.e-05]) = [1.84256218e-10]\n",
      "LTS axon density P([0.0009], [-0.0001], [-3.e-05]) = [1.72360142e-23]\n",
      "LTS axon density P([0.0009], [-0.0001], [3.e-05]) = [1.72360142e-23]\n",
      "LTS axon density P([0.0009], [0.0001], [-3.e-05]) = [1.72360142e-23]\n",
      "LTS axon density P([0.0009], [0.0001], [3.e-05]) = [1.72360142e-23]\n",
      "Adding neurons: LTS from dir /home/hjorth/HBP/BasalGangliaData/data/neurons/striatum/lts\n",
      "Writing topology100/network-config.json\n"
     ]
    }
   ],
   "source": [
    "network_path = \"topology100\"\n",
    "\n",
    "from snudda import SnuddaInit\n",
    "\n",
    "struct_def = {\"Striatum\": 100 }\n",
    "si = SnuddaInit(network_path=network_path, struct_def=struct_def, random_seed=1234)"
   ]
  },
  {
   "cell_type": "code",
   "execution_count": null,
   "id": "8a311608",
   "metadata": {},
   "outputs": [],
   "source": [
    "from snudda import SnuddaPlace\n",
    "sp = SnuddaPlace(network_path=network_path, rc=rc)\n",
    "sp.place()"
   ]
  },
  {
   "cell_type": "code",
   "execution_count": null,
   "id": "67a94ca7",
   "metadata": {},
   "outputs": [],
   "source": [
    "from snudda import SnuddaDetect\n",
    "\n",
    "sd = SnuddaDetect(network_path=network_path, rc=rc)\n",
    "sd.detect()"
   ]
  },
  {
   "cell_type": "code",
   "execution_count": null,
   "id": "c4a571cc",
   "metadata": {},
   "outputs": [],
   "source": [
    "from snudda import SnuddaPrune\n",
    "\n",
    "sp = SnuddaPrune(network_path=network_path, rc=rc)\n",
    "sp.prune()"
   ]
  },
  {
   "cell_type": "code",
   "execution_count": null,
   "id": "17cec01c",
   "metadata": {},
   "outputs": [],
   "source": []
  }
 ],
 "metadata": {
  "kernelspec": {
   "display_name": "Python 3 (ipykernel)",
   "language": "python",
   "name": "python3"
  },
  "language_info": {
   "codemirror_mode": {
    "name": "ipython",
    "version": 3
   },
   "file_extension": ".py",
   "mimetype": "text/x-python",
   "name": "python",
   "nbconvert_exporter": "python",
   "pygments_lexer": "ipython3",
   "version": "3.7.3"
  }
 },
 "nbformat": 4,
 "nbformat_minor": 5
}
