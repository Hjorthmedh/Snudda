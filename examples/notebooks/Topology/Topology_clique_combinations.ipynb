{
 "cells": [
  {
   "cell_type": "markdown",
   "id": "edc39af6",
   "metadata": {},
   "source": [
    "# Useful feature to be properly included in Snudda "
   ]
  },
  {
   "cell_type": "code",
   "execution_count": 1,
   "id": "03c114c6",
   "metadata": {},
   "outputs": [],
   "source": [
    "import os\n",
    "os.environ[\"SNUDDA_DATA\"] = \"../../../../BasalGangliaData/data/\"\n",
    "assert os.path.isdir(os.getenv(\"SNUDDA_DATA\")), f\"You need to have BasalGangliaData installed for this example.\"\n",
    "\n",
    "network_file = os.path.join(\"topology100/network-synapses.hdf5\")\n",
    "simplex_file_name = os.path.join(\"topology100/topology100_D6_simplices0.simplices\")\n"
   ]
  },
  {
   "cell_type": "code",
   "execution_count": 2,
   "id": "9f00d6f5",
   "metadata": {},
   "outputs": [
    {
     "name": "stdout",
     "output_type": "stream",
     "text": [
      "Loading 99 neurons with 6999 synapses and 0 gap junctions\n",
      "Loading 99 neurons with 6999 synapses and 0 gap junctions\n",
      "Loaded simplex data of dimension 6 from topology100/topology100_D6_simplices0.simplices\n"
     ]
    }
   ],
   "source": [
    "from snudda.analyse.analyse_topology import SnuddaAnalyseTopology\n",
    "sat = SnuddaAnalyseTopology(network_file=network_file)\n",
    "sat.load_simplex_file(simplex_file_name=simplex_file_name)"
   ]
  },
  {
   "cell_type": "code",
   "execution_count": 3,
   "id": "73eadc4d",
   "metadata": {},
   "outputs": [
    {
     "name": "stdout",
     "output_type": "stream",
     "text": [
      "-- Analysing dimension 6\n",
      "Multiplicity 1 for 596 simplices\n",
      "Multiplicity 2 for 430 simplices\n",
      "Multiplicity 3 for 223 simplices\n",
      "Multiplicity 4 for 118 simplices\n",
      "Multiplicity 5 for 53 simplices\n",
      "Multiplicity 6 for 56 simplices\n",
      "Multiplicity 7 for 34 simplices\n",
      "Multiplicity 8 for 21 simplices\n",
      "Multiplicity 9 for 8 simplices\n",
      "Multiplicity 10 for 21 simplices\n",
      "Multiplicity 11 for 13 simplices\n",
      "Multiplicity 12 for 5 simplices\n",
      "Multiplicity 14 for 4 simplices\n",
      "Multiplicity 15 for 2 simplices\n",
      "Multiplicity 18 for 2 simplices\n",
      "\n"
     ]
    }
   ],
   "source": [
    "mult = sat.get_fixed_multiplicity()\n",
    "sat.print_multiplicity(fixed=True)"
   ]
  },
  {
   "cell_type": "code",
   "execution_count": 4,
   "id": "0b50de43",
   "metadata": {},
   "outputs": [
    {
     "name": "stdout",
     "output_type": "stream",
     "text": [
      "-- Analysing dimension 6\n",
      "Multiplicity 1 for 204 simplices\n",
      "Multiplicity 2 for 235 simplices\n",
      "Multiplicity 3 for 121 simplices\n",
      "Multiplicity 4 for 83 simplices\n",
      "Multiplicity 5 for 26 simplices\n",
      "Multiplicity 6 for 73 simplices\n",
      "Multiplicity 7 for 18 simplices\n",
      "Multiplicity 8 for 19 simplices\n",
      "Multiplicity 9 for 23 simplices\n",
      "Multiplicity 10 for 13 simplices\n",
      "Multiplicity 11 for 6 simplices\n",
      "Multiplicity 12 for 23 simplices\n",
      "Multiplicity 13 for 4 simplices\n",
      "Multiplicity 14 for 9 simplices\n",
      "Multiplicity 15 for 3 simplices\n",
      "Multiplicity 16 for 2 simplices\n",
      "Multiplicity 17 for 2 simplices\n",
      "Multiplicity 18 for 5 simplices\n",
      "Multiplicity 20 for 4 simplices\n",
      "Multiplicity 21 for 3 simplices\n",
      "Multiplicity 22 for 4 simplices\n",
      "Multiplicity 26 for 2 simplices\n",
      "Multiplicity 27 for 1 simplices\n",
      "Multiplicity 28 for 4 simplices\n",
      "Multiplicity 30 for 1 simplices\n",
      "Multiplicity 33 for 2 simplices\n",
      "Multiplicity 34 for 1 simplices\n",
      "Multiplicity 36 for 1 simplices\n",
      "Multiplicity 39 for 1 simplices\n",
      "Multiplicity 40 for 1 simplices\n",
      "Multiplicity 42 for 2 simplices\n",
      "Multiplicity 43 for 1 simplices\n",
      "Multiplicity 44 for 2 simplices\n",
      "Multiplicity 56 for 1 simplices\n",
      "\n"
     ]
    }
   ],
   "source": [
    "sat.print_multiplicity(fixed=False)"
   ]
  },
  {
   "cell_type": "code",
   "execution_count": 5,
   "id": "15e5d298",
   "metadata": {},
   "outputs": [],
   "source": [
    "dimension=6"
   ]
  },
  {
   "cell_type": "code",
   "execution_count": 6,
   "id": "79601a05",
   "metadata": {},
   "outputs": [
    {
     "data": {
      "text/plain": [
       "1586"
      ]
     },
     "execution_count": 6,
     "metadata": {},
     "output_type": "execute_result"
    }
   ],
   "source": [
    "filt_mult = sat.filter_multiplicity(mult, dimension=dimension, neuron_type_list=[],\n",
    "                       multiplicity_requirement=None)\n",
    "len(filt_mult)"
   ]
  },
  {
   "cell_type": "code",
   "execution_count": 7,
   "id": "7bcf7b2e",
   "metadata": {},
   "outputs": [],
   "source": [
    "file_name=os.path.split(os.path.split(network_file)[0])[1]+'_dim'+str(dimension)"
   ]
  },
  {
   "cell_type": "code",
   "execution_count": 8,
   "id": "7f2c1461",
   "metadata": {},
   "outputs": [
    {
     "data": {
      "text/plain": [
       "'topology100_dim6'"
      ]
     },
     "execution_count": 8,
     "metadata": {},
     "output_type": "execute_result"
    }
   ],
   "source": [
    "file_name"
   ]
  },
  {
   "cell_type": "markdown",
   "id": "60c2e78b",
   "metadata": {
    "scrolled": true
   },
   "source": [
    "import math\n",
    "\n",
    "def CombinationRepetitionUtil(chosen, arr, index,\n",
    "                              r, start, end):\n",
    "    # Current combination is ready,\n",
    "    # print it\n",
    "    if index == r:\n",
    "        temp=[]\n",
    "        \n",
    "        for j in range(r):\n",
    "            print(chosen[j], end = \" \")\n",
    "            temp.append(chosen[j])\n",
    "        Updating_list(temp,list_neuron_list)    \n",
    "   \n",
    "        #printing empty line   \n",
    "        print()\n",
    "        #import pdb\n",
    "        #pdb.set_trace()\n",
    "        \n",
    "        return\n",
    "         \n",
    "    # When no more elements are\n",
    "    # there to put in chosen[]\n",
    "    if start > n:\n",
    "        return\n",
    "         \n",
    "    # Current is included, put\n",
    "    # next at next location\n",
    "    chosen[index] = arr[start]\n",
    "     \n",
    "    # Current is excluded, replace it\n",
    "    # with next (Note that i+1 is passed,\n",
    "    # but index is not changed)\n",
    "    CombinationRepetitionUtil(chosen, arr, index + 1,\n",
    "                              r, start, end)\n",
    "    CombinationRepetitionUtil(chosen, arr, index,\n",
    "                              r, start + 1, end,)\n",
    "    \n",
    "def CombinationRepetition(arr, n, r):\n",
    "     \n",
    "    # A temporary array to store\n",
    "    # all combination one by one\n",
    "    chosen = [0] * r\n",
    " \n",
    "    # Print all combination using\n",
    "    # temporary array 'chosen[]'\n",
    "    CombinationRepetitionUtil(chosen, arr, 0, r, 0, n)\n",
    "    \n",
    "def Updating_list(temp,list_neuron_list):\n",
    "    #print('updating list_neuron_list')\n",
    "    count = Updating_list.counter\n",
    "    list_neuron_list[count]=[['dSPN', 0], ['iSPN', 0],['FS',0],['LTS',0],['ChIN',0]]\n",
    "    n_dSPN = temp.count('dSPN')\n",
    "    n_iSPN = temp.count('iSPN')\n",
    "    n_FS = temp.count('FS')\n",
    "    n_LTS = temp.count('LTS')\n",
    "    n_ChIN = temp.count('ChIN')\n",
    "    list_neuron_list[count][0][1]=n_dSPN\n",
    "    list_neuron_list[count][1][1]=n_iSPN\n",
    "    list_neuron_list[count][2][1]=n_FS\n",
    "    list_neuron_list[count][3][1]=n_LTS\n",
    "    list_neuron_list[count][4][1]=n_ChIN\n",
    "    Updating_list.counter += 1 \n",
    "    \n",
    "arr = [ 'dSPN', 'iSPN', 'FS', 'LTS', 'ChIN' ]\n",
    "r = dimension + 1\n",
    "n = len(arr) - 1\n",
    "\n",
    "len_list = int(math.factorial(5+r-1)/(math.factorial(r)*math.factorial(4)))\n",
    "\n",
    "list_neuron_list=[]\n",
    "for i in range(len_list):\n",
    "    list_neuron_list.append([])\n",
    "    \n",
    "Updating_list.counter = 0   \n",
    "\n",
    "CombinationRepetition(arr, n, r)\n",
    "\n",
    "#print(list_neuron_list)"
   ]
  },
  {
   "cell_type": "code",
   "execution_count": 9,
   "id": "3e6df5d7",
   "metadata": {},
   "outputs": [],
   "source": [
    "count = sat.get_clique_neuron_type_composition_statistics(mult,dimension)"
   ]
  },
  {
   "cell_type": "markdown",
   "id": "6b2bd396",
   "metadata": {},
   "source": [
    "with open(str(file_name)+'.txt', 'w') as f:\n",
    "    \n",
    "    for i in range(len_list):\n",
    "        neuron_type_list=list_neuron_list[i]\n",
    "        filt_mult = sat.filter_multiplicity(mult, dimension=dimension, neuron_type_list=neuron_type_list,\n",
    "                       multiplicity_requirement=None)\n",
    "        f.write(str(neuron_type_list) + '\\n')\n",
    "        f.write(str(len(filt_mult)) + '\\n')\n",
    "        print(neuron_type_list)\n",
    "        print('{} out of {}, done. {} cliques found'.format(i+1, len_list,len(filt_mult)))  \n",
    "    f.close()\n",
    "    "
   ]
  },
  {
   "cell_type": "code",
   "execution_count": 10,
   "id": "3b06bcfd",
   "metadata": {},
   "outputs": [
    {
     "data": {
      "text/plain": [
       "OrderedDict([(('dSPN', 'iSPN', 'iSPN', 'iSPN', 'iSPN', 'iSPN', 'iSPN'), 281),\n",
       "             (('dSPN', 'dSPN', 'iSPN', 'iSPN', 'iSPN', 'iSPN', 'iSPN'), 104),\n",
       "             (('iSPN', 'iSPN', 'iSPN', 'iSPN', 'iSPN', 'iSPN', 'iSPN'), 1083),\n",
       "             (('dSPN', 'dSPN', 'dSPN', 'dSPN', 'dSPN', 'iSPN', 'iSPN'), 24),\n",
       "             (('dSPN', 'dSPN', 'dSPN', 'dSPN', 'iSPN', 'iSPN', 'iSPN'), 30),\n",
       "             (('dSPN', 'dSPN', 'dSPN', 'dSPN', 'dSPN', 'dSPN', 'iSPN'), 9),\n",
       "             (('dSPN', 'dSPN', 'dSPN', 'iSPN', 'iSPN', 'iSPN', 'iSPN'), 39),\n",
       "             (('dSPN', 'dSPN', 'dSPN', 'dSPN', 'dSPN', 'dSPN', 'dSPN'), 1),\n",
       "             (('FS', 'dSPN', 'iSPN', 'iSPN', 'iSPN', 'iSPN', 'iSPN'), 2),\n",
       "             (('FS', 'dSPN', 'dSPN', 'iSPN', 'iSPN', 'iSPN', 'iSPN'), 4),\n",
       "             (('FS', 'dSPN', 'dSPN', 'dSPN', 'dSPN', 'iSPN', 'iSPN'), 6),\n",
       "             (('FS', 'dSPN', 'dSPN', 'dSPN', 'iSPN', 'iSPN', 'iSPN'), 3)])"
      ]
     },
     "execution_count": 10,
     "metadata": {},
     "output_type": "execute_result"
    }
   ],
   "source": [
    "count"
   ]
  },
  {
   "cell_type": "code",
   "execution_count": 11,
   "id": "bec2f2a7-0aa1-407e-a78f-4518ad637b67",
   "metadata": {},
   "outputs": [
    {
     "data": {
      "text/plain": [
       "1586"
      ]
     },
     "execution_count": 11,
     "metadata": {},
     "output_type": "execute_result"
    }
   ],
   "source": [
    "sum(count.values())"
   ]
  },
  {
   "cell_type": "code",
   "execution_count": null,
   "id": "3c7a91e9-0118-46e1-a0aa-c83c5c631278",
   "metadata": {},
   "outputs": [],
   "source": []
  }
 ],
 "metadata": {
  "kernelspec": {
   "display_name": "Python 3 (ipykernel)",
   "language": "python",
   "name": "python3"
  },
  "language_info": {
   "codemirror_mode": {
    "name": "ipython",
    "version": 3
   },
   "file_extension": ".py",
   "mimetype": "text/x-python",
   "name": "python",
   "nbconvert_exporter": "python",
   "pygments_lexer": "ipython3",
   "version": "3.8.10"
  }
 },
 "nbformat": 4,
 "nbformat_minor": 5
}
