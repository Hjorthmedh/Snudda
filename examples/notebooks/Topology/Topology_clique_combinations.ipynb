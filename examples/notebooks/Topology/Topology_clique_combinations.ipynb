{
 "cells": [
  {
   "cell_type": "markdown",
   "id": "edc39af6",
   "metadata": {},
   "source": [
    "# Useful feature to be properly included in Snudda "
   ]
  },
  {
   "cell_type": "markdown",
   "id": "cdc98f7e",
   "metadata": {},
   "source": [
    "!!! TO DO. Show this file to Johannes and include this funtionality."
   ]
  },
  {
   "cell_type": "code",
   "execution_count": 1,
   "id": "03c114c6",
   "metadata": {},
   "outputs": [],
   "source": [
    "import os\n",
    "os.environ[\"SNUDDA_DATA\"] = \"../../../../BasalGangliaData/data/\"\n",
    "assert os.path.isdir(os.getenv(\"SNUDDA_DATA\")), f\"You need to have BasalGangliaData installed for this example.\"\n",
    "\n",
    "network_file = os.path.join(\"../../networks/pd3_1k_June_22/network-synapses.hdf5\")\n",
    "simplex_file_name = os.path.join(\"/mnt/DiscoRigido/Ilaria_KTH/DigitalFutures/1k_June_22/pd3_1k_simplices_dim_1.simplices\")\n"
   ]
  },
  {
   "cell_type": "code",
   "execution_count": 2,
   "id": "9f00d6f5",
   "metadata": {},
   "outputs": [
    {
     "name": "stdout",
     "output_type": "stream",
     "text": [
      "Loading 999 neurons with 28128 synapses and 62 gap junctions\n",
      "Loading 999 neurons with 28128 synapses and 62 gap junctions\n",
      "Loaded simplex data of dimension 1 from /mnt/DiscoRigido/Ilaria_KTH/DigitalFutures/1k_June_22/pd3_1k_simplices_dim_1.simplices\n"
     ]
    }
   ],
   "source": [
    "from snudda.analyse.analyse_topology import SnuddaAnalyseTopology\n",
    "sat = SnuddaAnalyseTopology(network_file=network_file)\n",
    "sat.load_simplex_file(simplex_file_name=simplex_file_name)"
   ]
  },
  {
   "cell_type": "code",
   "execution_count": 3,
   "id": "73eadc4d",
   "metadata": {},
   "outputs": [
    {
     "name": "stdout",
     "output_type": "stream",
     "text": [
      "-- Analysing dimension 1\n",
      "Multiplicity 1 for 7404 simplices\n",
      "\n"
     ]
    }
   ],
   "source": [
    "mult = sat.get_fixed_multiplicity()\n",
    "sat.print_multiplicity(fixed=True)"
   ]
  },
  {
   "cell_type": "code",
   "execution_count": 4,
   "id": "0b50de43",
   "metadata": {},
   "outputs": [
    {
     "name": "stdout",
     "output_type": "stream",
     "text": [
      "-- Analysing dimension 1\n",
      "Multiplicity 1 for 7350 simplices\n",
      "Multiplicity 2 for 27 simplices\n",
      "\n"
     ]
    }
   ],
   "source": [
    "sat.print_multiplicity(fixed=False)"
   ]
  },
  {
   "cell_type": "code",
   "execution_count": 5,
   "id": "15e5d298",
   "metadata": {},
   "outputs": [],
   "source": [
    "dimension=1"
   ]
  },
  {
   "cell_type": "code",
   "execution_count": 6,
   "id": "79601a05",
   "metadata": {},
   "outputs": [
    {
     "data": {
      "text/plain": [
       "7404"
      ]
     },
     "execution_count": 6,
     "metadata": {},
     "output_type": "execute_result"
    }
   ],
   "source": [
    "filt_mult = sat.filter_multiplicity(mult, dimension=dimension, neuron_type_list=[],\n",
    "                       multiplicity_requirement=None)\n",
    "len(filt_mult)"
   ]
  },
  {
   "cell_type": "code",
   "execution_count": 7,
   "id": "7bcf7b2e",
   "metadata": {},
   "outputs": [],
   "source": [
    "file_name=os.path.split(os.path.split(network_file)[0])[1]+'_dim'+str(dimension)"
   ]
  },
  {
   "cell_type": "code",
   "execution_count": 8,
   "id": "7f2c1461",
   "metadata": {},
   "outputs": [
    {
     "data": {
      "text/plain": [
       "'pd3_1k_June_22_dim1'"
      ]
     },
     "execution_count": 8,
     "metadata": {},
     "output_type": "execute_result"
    }
   ],
   "source": [
    "file_name"
   ]
  },
  {
   "cell_type": "code",
   "execution_count": 9,
   "id": "346579ed",
   "metadata": {
    "scrolled": true
   },
   "outputs": [
    {
     "name": "stdout",
     "output_type": "stream",
     "text": [
      "dSPN dSPN \n",
      "dSPN iSPN \n",
      "dSPN FS \n",
      "dSPN LTS \n",
      "dSPN ChIN \n",
      "iSPN iSPN \n",
      "iSPN FS \n",
      "iSPN LTS \n",
      "iSPN ChIN \n",
      "FS FS \n",
      "FS LTS \n",
      "FS ChIN \n",
      "LTS LTS \n",
      "LTS ChIN \n",
      "ChIN ChIN \n"
     ]
    }
   ],
   "source": [
    "import math\n",
    "\n",
    "def CombinationRepetitionUtil(chosen, arr, index,\n",
    "                              r, start, end):\n",
    "    # Current combination is ready,\n",
    "    # print it\n",
    "    if index == r:\n",
    "        temp=[]\n",
    "        \n",
    "        for j in range(r):\n",
    "            print(chosen[j], end = \" \")\n",
    "            temp.append(chosen[j])\n",
    "        Updating_list(temp,list_neuron_list)    \n",
    "   \n",
    "        #printing empty line   \n",
    "        print()\n",
    "        #import pdb\n",
    "        #pdb.set_trace()\n",
    "        \n",
    "        return\n",
    "         \n",
    "    # When no more elements are\n",
    "    # there to put in chosen[]\n",
    "    if start > n:\n",
    "        return\n",
    "         \n",
    "    # Current is included, put\n",
    "    # next at next location\n",
    "    chosen[index] = arr[start]\n",
    "     \n",
    "    # Current is excluded, replace it\n",
    "    # with next (Note that i+1 is passed,\n",
    "    # but index is not changed)\n",
    "    CombinationRepetitionUtil(chosen, arr, index + 1,\n",
    "                              r, start, end)\n",
    "    CombinationRepetitionUtil(chosen, arr, index,\n",
    "                              r, start + 1, end,)\n",
    "    \n",
    "def CombinationRepetition(arr, n, r):\n",
    "     \n",
    "    # A temporary array to store\n",
    "    # all combination one by one\n",
    "    chosen = [0] * r\n",
    " \n",
    "    # Print all combination using\n",
    "    # temporary array 'chosen[]'\n",
    "    CombinationRepetitionUtil(chosen, arr, 0, r, 0, n)\n",
    "    \n",
    "def Updating_list(temp,list_neuron_list):\n",
    "    #print('updating list_neuron_list')\n",
    "    count = Updating_list.counter\n",
    "    list_neuron_list[count]=[['dSPN', 0], ['iSPN', 0],['FS',0],['LTS',0],['ChIN',0]]\n",
    "    n_dSPN = temp.count('dSPN')\n",
    "    n_iSPN = temp.count('iSPN')\n",
    "    n_FS = temp.count('FS')\n",
    "    n_LTS = temp.count('LTS')\n",
    "    n_ChIN = temp.count('ChIN')\n",
    "    list_neuron_list[count][0][1]=n_dSPN\n",
    "    list_neuron_list[count][1][1]=n_iSPN\n",
    "    list_neuron_list[count][2][1]=n_FS\n",
    "    list_neuron_list[count][3][1]=n_LTS\n",
    "    list_neuron_list[count][4][1]=n_ChIN\n",
    "    Updating_list.counter += 1 \n",
    "    \n",
    "arr = [ 'dSPN', 'iSPN', 'FS', 'LTS', 'ChIN' ]\n",
    "r = dimension + 1\n",
    "n = len(arr) - 1\n",
    "\n",
    "len_list = int(math.factorial(5+r-1)/(math.factorial(r)*math.factorial(4)))\n",
    "\n",
    "list_neuron_list=[]\n",
    "for i in range(len_list):\n",
    "    list_neuron_list.append([])\n",
    "    \n",
    "Updating_list.counter = 0   \n",
    "\n",
    "CombinationRepetition(arr, n, r)\n",
    "\n",
    "#print(list_neuron_list)"
   ]
  },
  {
   "cell_type": "code",
   "execution_count": 10,
   "id": "ae004826",
   "metadata": {},
   "outputs": [
    {
     "name": "stdout",
     "output_type": "stream",
     "text": [
      "[['dSPN', 2], ['iSPN', 0], ['FS', 0], ['LTS', 0], ['ChIN', 0]]\n",
      "1 out of 15, done. 428 cliques found\n",
      "[['dSPN', 1], ['iSPN', 1], ['FS', 0], ['LTS', 0], ['ChIN', 0]]\n",
      "2 out of 15, done. 695 cliques found\n",
      "[['dSPN', 1], ['iSPN', 0], ['FS', 1], ['LTS', 0], ['ChIN', 0]]\n",
      "3 out of 15, done. 1689 cliques found\n",
      "[['dSPN', 1], ['iSPN', 0], ['FS', 0], ['LTS', 1], ['ChIN', 0]]\n",
      "4 out of 15, done. 11 cliques found\n",
      "[['dSPN', 1], ['iSPN', 0], ['FS', 0], ['LTS', 0], ['ChIN', 1]]\n",
      "5 out of 15, done. 4 cliques found\n",
      "[['dSPN', 0], ['iSPN', 2], ['FS', 0], ['LTS', 0], ['ChIN', 0]]\n",
      "6 out of 15, done. 2011 cliques found\n",
      "[['dSPN', 0], ['iSPN', 1], ['FS', 1], ['LTS', 0], ['ChIN', 0]]\n",
      "7 out of 15, done. 2476 cliques found\n",
      "[['dSPN', 0], ['iSPN', 1], ['FS', 0], ['LTS', 1], ['ChIN', 0]]\n",
      "8 out of 15, done. 11 cliques found\n",
      "[['dSPN', 0], ['iSPN', 1], ['FS', 0], ['LTS', 0], ['ChIN', 1]]\n",
      "9 out of 15, done. 6 cliques found\n",
      "[['dSPN', 0], ['iSPN', 0], ['FS', 2], ['LTS', 0], ['ChIN', 0]]\n",
      "10 out of 15, done. 44 cliques found\n",
      "[['dSPN', 0], ['iSPN', 0], ['FS', 1], ['LTS', 1], ['ChIN', 0]]\n",
      "11 out of 15, done. 10 cliques found\n",
      "[['dSPN', 0], ['iSPN', 0], ['FS', 1], ['LTS', 0], ['ChIN', 1]]\n",
      "12 out of 15, done. 0 cliques found\n",
      "[['dSPN', 0], ['iSPN', 0], ['FS', 0], ['LTS', 2], ['ChIN', 0]]\n",
      "13 out of 15, done. 0 cliques found\n",
      "[['dSPN', 0], ['iSPN', 0], ['FS', 0], ['LTS', 1], ['ChIN', 1]]\n",
      "14 out of 15, done. 19 cliques found\n",
      "[['dSPN', 0], ['iSPN', 0], ['FS', 0], ['LTS', 0], ['ChIN', 2]]\n",
      "15 out of 15, done. 0 cliques found\n"
     ]
    }
   ],
   "source": [
    "with open(str(file_name)+'.txt', 'w') as f:\n",
    "    \n",
    "    for i in range(len_list):\n",
    "        neuron_type_list=list_neuron_list[i]\n",
    "        filt_mult = sat.filter_multiplicity(mult, dimension=dimension, neuron_type_list=neuron_type_list,\n",
    "                       multiplicity_requirement=None)\n",
    "        f.write(str(neuron_type_list) + '\\n')\n",
    "        f.write(str(len(filt_mult)) + '\\n')\n",
    "        print(neuron_type_list)\n",
    "        print('{} out of {}, done. {} cliques found'.format(i+1, len_list,len(filt_mult)))  \n",
    "    f.close()\n",
    "    "
   ]
  },
  {
   "cell_type": "code",
   "execution_count": null,
   "id": "3b06bcfd",
   "metadata": {},
   "outputs": [],
   "source": []
  }
 ],
 "metadata": {
  "kernelspec": {
   "display_name": "Python 3",
   "language": "python",
   "name": "python3"
  },
  "language_info": {
   "codemirror_mode": {
    "name": "ipython",
    "version": 3
   },
   "file_extension": ".py",
   "mimetype": "text/x-python",
   "name": "python",
   "nbconvert_exporter": "python",
   "pygments_lexer": "ipython3",
   "version": "3.8.10"
  }
 },
 "nbformat": 4,
 "nbformat_minor": 5
}
