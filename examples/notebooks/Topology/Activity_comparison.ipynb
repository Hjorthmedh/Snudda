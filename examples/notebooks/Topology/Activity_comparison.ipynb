{
 "cells": [
  {
   "cell_type": "markdown",
   "id": "01687822",
   "metadata": {},
   "source": [
    "This notebook reads in the simulations from the two Topology_clique notebooks, and compare the spike times."
   ]
  },
  {
   "cell_type": "code",
   "execution_count": 1,
   "id": "5d13f999",
   "metadata": {},
   "outputs": [],
   "source": [
    "import os\n",
    "os.environ[\"SNUDDA_DATA\"] = \"../../../../BasalGangliaData/data/\"\n",
    "assert os.path.isdir(os.getenv(\"SNUDDA_DATA\")), f\"You need to have BasalGangliaData installed for this example.\"\n",
    "\n",
    "network_path = \"topology100\"\n",
    "network_file = os.path.join(network_path, \"network-synapses.hdf5\")\n",
    "simplex_file_name = os.path.join(network_path, \"topology100_D6_simplices0.simplices\")\n",
    "\n",
    "ablated_network_file = os.path.join(network_path, \"network-ablated.hdf5\")\n",
    "fully_ablated_network_file = os.path.join(network_path, \"network-fully-ablated.hdf5\")\n",
    "\n",
    "ablated_simulation_file = os.path.join(network_path, \"simulation\", \"TCS-output-6.hdf5\")\n",
    "fully_ablated_simulation_file = os.path.join(network_path, \"simulation\", \"TCS-output-6a.hdf5\")"
   ]
  },
  {
   "cell_type": "code",
   "execution_count": 2,
   "id": "10e10465",
   "metadata": {},
   "outputs": [],
   "source": [
    "from snudda.analyse.analyse_topology_activity import SnuddaAnalyseTopologyActivity\n",
    "sat = SnuddaAnalyseTopologyActivity()"
   ]
  },
  {
   "cell_type": "code",
   "execution_count": null,
   "id": "b90c42a7",
   "metadata": {},
   "outputs": [
    {
     "name": "stdout",
     "output_type": "stream",
     "text": [
      "Loading topology100/simulation/TCS-output-6.hdf5\n",
      "Loading topology100/simulation/TCS-output-6a.hdf5\n",
      "Traceback (most recent call last):\n",
      "  File \"/home/hjorth/HBP/Snudda/snudda/analyse/analyse_topology_activity.py\", line 28, in load_mapping_file\n",
      "    network_file = SnuddaLoad.to_str(self.simulation_data[data_key].network_simulation_file[\"metaData\"][\"networkFile\"][()])\n",
      "  File \"h5py/_objects.pyx\", line 54, in h5py._objects.with_phil.wrapper\n",
      "  File \"h5py/_objects.pyx\", line 55, in h5py._objects.with_phil.wrapper\n",
      "  File \"/home/hjorth/.local/lib/python3.7/site-packages/h5py/_hl/group.py\", line 305, in __getitem__\n",
      "    oid = h5o.open(self.id, self._e(name), lapl=self._lapl)\n",
      "  File \"h5py/_objects.pyx\", line 54, in h5py._objects.with_phil.wrapper\n",
      "  File \"h5py/_objects.pyx\", line 55, in h5py._objects.with_phil.wrapper\n",
      "  File \"h5py/h5o.pyx\", line 190, in h5py.h5o.open\n",
      "KeyError: \"Unable to open object (object 'networkFile' doesn't exist)\"\n",
      "\n",
      "> \u001b[0;32m/home/hjorth/HBP/Snudda/snudda/analyse/analyse_topology_activity.py\u001b[0m(37)\u001b[0;36mload_mapping_file\u001b[0;34m()\u001b[0m\n",
      "\u001b[0;32m     35 \u001b[0;31m            \u001b[0mpdb\u001b[0m\u001b[0;34m.\u001b[0m\u001b[0mset_trace\u001b[0m\u001b[0;34m(\u001b[0m\u001b[0;34m)\u001b[0m\u001b[0;34m\u001b[0m\u001b[0;34m\u001b[0m\u001b[0m\n",
      "\u001b[0m\u001b[0;32m     36 \u001b[0;31m\u001b[0;34m\u001b[0m\u001b[0m\n",
      "\u001b[0m\u001b[0;32m---> 37 \u001b[0;31m        \u001b[0mself\u001b[0m\u001b[0;34m.\u001b[0m\u001b[0mmapping_list\u001b[0m\u001b[0;34m[\u001b[0m\u001b[0mdata_key\u001b[0m\u001b[0;34m]\u001b[0m \u001b[0;34m=\u001b[0m \u001b[0mnp\u001b[0m\u001b[0;34m.\u001b[0m\u001b[0mgenfromtxt\u001b[0m\u001b[0;34m(\u001b[0m\u001b[0mmapping_file\u001b[0m\u001b[0;34m,\u001b[0m \u001b[0mdelimiter\u001b[0m\u001b[0;34m=\u001b[0m\u001b[0;34m','\u001b[0m\u001b[0;34m,\u001b[0m \u001b[0mdtype\u001b[0m\u001b[0;34m=\u001b[0m\u001b[0mint\u001b[0m\u001b[0;34m)\u001b[0m\u001b[0;34m\u001b[0m\u001b[0;34m\u001b[0m\u001b[0m\n",
      "\u001b[0m\u001b[0;32m     38 \u001b[0;31m        \u001b[0mself\u001b[0m\u001b[0;34m.\u001b[0m\u001b[0mmapping_dictionary\u001b[0m\u001b[0;34m[\u001b[0m\u001b[0mdata_key\u001b[0m\u001b[0;34m]\u001b[0m \u001b[0;34m=\u001b[0m \u001b[0mOrderedDict\u001b[0m\u001b[0;34m(\u001b[0m\u001b[0;34m)\u001b[0m\u001b[0;34m\u001b[0m\u001b[0;34m\u001b[0m\u001b[0m\n",
      "\u001b[0m\u001b[0;32m     39 \u001b[0;31m\u001b[0;34m\u001b[0m\u001b[0m\n",
      "\u001b[0m\n",
      "ipdb> self.simulation_data[data_key].network_simulation_file\n",
      "<HDF5 file \"TCS-output-6a.hdf5\" (mode r)>\n",
      "ipdb> [x for x in self.simulation_data[data_key].network_simulation_file]\n",
      "['metaData', 'neurons', 'time']\n",
      "ipdb> self.simulation_data[data_key].network_simulation_file[\"metaData\"]\n",
      "<HDF5 group \"/metaData\" (9 members)>\n",
      "ipdb> [x for x in self.simulation_data[data_key].network_simulation_file[\"metaData\"]\n",
      "*** SyntaxError: unexpected EOF while parsing\n",
      "ipdb> [x for x in self.simulation_data[data_key].network_simulation_file[\"metaData\"]]\n",
      "['ID', 'modulationKey', 'morphology', 'morphologyKey', 'name', 'parameterKey', 'populationUnit', 'position', 'type']\n"
     ]
    }
   ],
   "source": [
    "sat.load_simulation_data(\"ablated\", ablated_simulation_file)\n",
    "sat.load_simulation_data(\"fullyablated\", fully_ablated_simulation_file)"
   ]
  },
  {
   "cell_type": "code",
   "execution_count": null,
   "id": "ea3cbe9b",
   "metadata": {},
   "outputs": [],
   "source": [
    "spike_time_diff = sat.get_spike_deltas(\"ablated\", \"fullyablated\")"
   ]
  },
  {
   "cell_type": "code",
   "execution_count": null,
   "id": "884ced39",
   "metadata": {},
   "outputs": [],
   "source": [
    "spike_time_diff"
   ]
  },
  {
   "cell_type": "code",
   "execution_count": null,
   "id": "e00156db",
   "metadata": {},
   "outputs": [],
   "source": [
    "%matplotlib notebook\n",
    "sat.plot_spike_delta_histogram(\"ablated\", \"fullyablated\")"
   ]
  },
  {
   "cell_type": "code",
   "execution_count": null,
   "id": "71b20370",
   "metadata": {},
   "outputs": [],
   "source": []
  }
 ],
 "metadata": {
  "kernelspec": {
   "display_name": "Python 3 (ipykernel)",
   "language": "python",
   "name": "python3"
  },
  "language_info": {
   "codemirror_mode": {
    "name": "ipython",
    "version": 3
   },
   "file_extension": ".py",
   "mimetype": "text/x-python",
   "name": "python",
   "nbconvert_exporter": "python",
   "pygments_lexer": "ipython3",
   "version": "3.7.3"
  }
 },
 "nbformat": 4,
 "nbformat_minor": 5
}
