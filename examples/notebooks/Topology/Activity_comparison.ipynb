{
 "cells": [
  {
   "cell_type": "markdown",
   "id": "01687822",
   "metadata": {},
   "source": [
    "This notebook reads in the simulations from the two Topology_clique notebooks, and compare the spike times."
   ]
  },
  {
   "cell_type": "code",
   "execution_count": null,
   "id": "5d13f999",
   "metadata": {},
   "outputs": [],
   "source": [
    "import os\n",
    "os.environ[\"SNUDDA_DATA\"] = \"../../../../BasalGangliaData/data/\"\n",
    "assert os.path.isdir(os.getenv(\"SNUDDA_DATA\")), f\"You need to have BasalGangliaData installed for this example.\"\n",
    "\n",
    "network_path = \"topology100\"\n",
    "network_file = os.path.join(network_path, \"network-synapses.hdf5\")\n",
    "simplex_file_name = os.path.join(network_path, \"topology100_D6_simplices0.simplices\")\n",
    "\n",
    "ablated_network_file = os.path.join(network_path, \"network-ablated.hdf5\")\n",
    "fully_ablated_network_file = os.path.join(network_path, \"network-fully-ablated.hdf5\")\n",
    "\n",
    "ablated_simulation_file = os.path.join(network_path, \"simulation\", \"TCS-output-6.hdf5\")\n",
    "fully_ablated_simulation_file = os.path.join(network_path, \"simulation\", \"TCS-output-6a.hdf5\")"
   ]
  },
  {
   "cell_type": "code",
   "execution_count": null,
   "id": "10e10465",
   "metadata": {},
   "outputs": [],
   "source": [
    "from snudda.analyse.analyse_topology_activity import SnuddaAnalyseTopologyActivity\n",
    "sat = SnuddaAnalyseTopologyActivity()"
   ]
  },
  {
   "cell_type": "code",
   "execution_count": null,
   "id": "b90c42a7",
   "metadata": {},
   "outputs": [],
   "source": [
    "sat.load_simulation_data(\"ablated\", ablated_simulation_file)\n",
    "sat.load_simulation_data(\"fullyablated\", fully_ablated_simulation_file)"
   ]
  },
  {
   "cell_type": "code",
   "execution_count": null,
   "id": "edca5d69",
   "metadata": {},
   "outputs": [],
   "source": [
    "matching_method='order'\n",
    "spike_time_diff_order = sat.get_spike_deltas(\"ablated\", \"fullyablated\", matching_method=matching_method)\n",
    "%matplotlib notebook\n",
    "sat.plot_spike_delta_histogram(\"ablated\", \"fullyablated\", matching_method=matching_method,range_min=-5e-3, range_max=1e-3)"
   ]
  },
  {
   "cell_type": "code",
   "execution_count": null,
   "id": "71b20370",
   "metadata": {},
   "outputs": [],
   "source": [
    "matching_method='closest'\n",
    "spike_time_diff_closest = sat.get_spike_deltas(\"ablated\", \"fullyablated\", matching_method=matching_method)\n",
    "sat.plot_spike_delta_histogram(\"ablated\", \"fullyablated\", matching_method=matching_method,range_min=-5e-3, range_max=1e-3)"
   ]
  },
  {
   "cell_type": "code",
   "execution_count": null,
   "id": "26a5804d",
   "metadata": {},
   "outputs": [],
   "source": [
    "matching_method='closestunique'\n",
    "spike_time_diff_closestunique = sat.get_spike_deltas(\"ablated\", \"fullyablated\", matching_method=matching_method)\n",
    "sat.plot_spike_delta_histogram(\"ablated\", \"fullyablated\", matching_method=matching_method,range_min=-5e-3, range_max=1e-3)"
   ]
  },
  {
   "cell_type": "code",
   "execution_count": null,
   "id": "b726d7bf",
   "metadata": {},
   "outputs": [],
   "source": []
  }
 ],
 "metadata": {
  "kernelspec": {
   "display_name": "Python 3 (ipykernel)",
   "language": "python",
   "name": "python3"
  },
  "language_info": {
   "codemirror_mode": {
    "name": "ipython",
    "version": 3
   },
   "file_extension": ".py",
   "mimetype": "text/x-python",
   "name": "python",
   "nbconvert_exporter": "python",
   "pygments_lexer": "ipython3",
   "version": "3.8.10"
  }
 },
 "nbformat": 4,
 "nbformat_minor": 5
}
