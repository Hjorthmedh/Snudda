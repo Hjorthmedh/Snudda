{
 "cells": [
  {
   "cell_type": "markdown",
   "id": "929f08d8",
   "metadata": {},
   "source": [
    "This notebook uses the network created by ```Topology_clique_activity_experiment.ipynb```, and ablates all connections to run a reference unconnected run."
   ]
  },
  {
   "cell_type": "code",
   "execution_count": 1,
   "id": "03c114c6",
   "metadata": {},
   "outputs": [],
   "source": [
    "import os\n",
    "os.environ[\"SNUDDA_DATA\"] = \"../../../../BasalGangliaData/data/\"\n",
    "assert os.path.isdir(os.getenv(\"SNUDDA_DATA\")), f\"You need to have BasalGangliaData installed for this example.\"\n",
    "\n",
    "network_path = \"topology100\"\n",
    "network_file = os.path.join(network_path, \"network-synapses.hdf5\")\n",
    "simplex_file_name = os.path.join(network_path, \"topology100_D6_simplices0.simplices\")\n",
    "ablated_network_file = os.path.join(network_path, \"network-fully-ablated.hdf5\")\n",
    "\n",
    "remove_sink_to_source_connections = True"
   ]
  },
  {
   "cell_type": "code",
   "execution_count": 2,
   "id": "9f00d6f5",
   "metadata": {},
   "outputs": [
    {
     "name": "stdout",
     "output_type": "stream",
     "text": [
      "Loading 99 neurons with 6999 synapses and 0 gap junctions\n",
      "Loading 99 neurons with 6999 synapses and 0 gap junctions\n",
      "Loaded simplex data of dimension 6 from topology100/topology100_D6_simplices0.simplices\n"
     ]
    }
   ],
   "source": [
    "from snudda.analyse.analyse_topology import SnuddaAnalyseTopology\n",
    "sat = SnuddaAnalyseTopology(network_file=network_file)\n",
    "sat.load_simplex_file(simplex_file_name=simplex_file_name)\n",
    "mult = sat.get_fixed_multiplicity()"
   ]
  },
  {
   "cell_type": "markdown",
   "id": "006607fb",
   "metadata": {},
   "source": [
    "Next in this example we list the cliques with multiplicity 3. To see all of them simply inspect mult[6]. Here the 6 refers to the clique dimension we loaded. You could also load multiple clique dimension files at the same time and compare them."
   ]
  },
  {
   "cell_type": "code",
   "execution_count": null,
   "id": "db07d29a",
   "metadata": {},
   "outputs": [],
   "source": [
    "[(x[0], x[1]) for x in mult[6].items() if x[1] == 3]"
   ]
  },
  {
   "cell_type": "code",
   "execution_count": null,
   "id": "b8b68594",
   "metadata": {},
   "outputs": [],
   "source": [
    "selected_clique_neurons = list(mult[6])[0]"
   ]
  },
  {
   "cell_type": "code",
   "execution_count": null,
   "id": "83923aab",
   "metadata": {},
   "outputs": [],
   "source": [
    "selected_clique_neurons"
   ]
  },
  {
   "cell_type": "markdown",
   "id": "62166b43",
   "metadata": {},
   "source": [
    "### Ablating network"
   ]
  },
  {
   "cell_type": "code",
   "execution_count": null,
   "id": "890b6fe3",
   "metadata": {},
   "outputs": [],
   "source": [
    "from snudda.utils.ablate_network import SnuddaAblateNetwork\n",
    "san = SnuddaAblateNetwork(network_file=network_file)\n",
    "san.only_keep_neuron_id(selected_clique_neurons)"
   ]
  },
  {
   "cell_type": "markdown",
   "id": "ce9db6fc",
   "metadata": {},
   "source": [
    "The cell below removes sink to source connections if the ```remove_sink_to_source``` flag is set."
   ]
  },
  {
   "cell_type": "code",
   "execution_count": null,
   "id": "5a001885",
   "metadata": {},
   "outputs": [],
   "source": [
    "san.ablate_all_synapses()"
   ]
  },
  {
   "cell_type": "markdown",
   "id": "0d164150",
   "metadata": {},
   "source": [
    "Note that the neurons get remapped, when we ablate the network and remove a subset of the neurons."
   ]
  },
  {
   "cell_type": "code",
   "execution_count": null,
   "id": "c1db373d",
   "metadata": {},
   "outputs": [],
   "source": [
    "san.write_network(out_file_name=ablated_network_file, print_remapping=True)"
   ]
  },
  {
   "cell_type": "markdown",
   "id": "76529c3a",
   "metadata": {},
   "source": [
    "### Simulating network\n",
    "\n",
    "Next step is running the network with current injections (we should also run it with synaptic input).\n",
    "\n",
    "#### NEED TO CHANGE TO BasalGangliaData"
   ]
  },
  {
   "cell_type": "code",
   "execution_count": null,
   "id": "b46240f8",
   "metadata": {},
   "outputs": [],
   "source": [
    "experiment_config_file = \"topology_clique_simulation_experiment-6a.json\"\n",
    "from snudda.simulate.pair_recording import PairRecording \n",
    "pr = PairRecording(network_path=network_path, network_file=ablated_network_file,\n",
    "                   experiment_config_file=experiment_config_file)"
   ]
  },
  {
   "cell_type": "code",
   "execution_count": null,
   "id": "0c383a13",
   "metadata": {},
   "outputs": [],
   "source": [
    "pr.run()"
   ]
  },
  {
   "cell_type": "code",
   "execution_count": null,
   "id": "75bcea64",
   "metadata": {},
   "outputs": [],
   "source": [
    "%matplotlib notebook\n",
    "pr.plot_trace_overview()"
   ]
  },
  {
   "cell_type": "code",
   "execution_count": null,
   "id": "88ec5ee9",
   "metadata": {},
   "outputs": [],
   "source": [
    "pr.plot_traces()"
   ]
  },
  {
   "cell_type": "code",
   "execution_count": null,
   "id": "e3bac5bf",
   "metadata": {},
   "outputs": [],
   "source": []
  }
 ],
 "metadata": {
  "kernelspec": {
   "display_name": "Python 3 (ipykernel)",
   "language": "python",
   "name": "python3"
  },
  "language_info": {
   "codemirror_mode": {
    "name": "ipython",
    "version": 3
   },
   "file_extension": ".py",
   "mimetype": "text/x-python",
   "name": "python",
   "nbconvert_exporter": "python",
   "pygments_lexer": "ipython3",
   "version": "3.7.3"
  }
 },
 "nbformat": 4,
 "nbformat_minor": 5
}
