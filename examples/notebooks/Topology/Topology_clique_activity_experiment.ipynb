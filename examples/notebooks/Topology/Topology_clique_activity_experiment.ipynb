{
 "cells": [
  {
   "cell_type": "markdown",
   "id": "929f08d8",
   "metadata": {},
   "source": [
    "Here we identify a clique to simulate. Then we ablate the network, removing all other neurons outside the clique (with the option to also remove direct connections from sink to source). Then we simulate the network, by inject a current into the source, and see the response in the sink. This activity is then modulated by also injecting currents into various middle neurons.\n",
    "\n",
    "The network has been created previously. The network synapses are exported using \n",
    "```Snudda/snudda/utils/export_connection_matrix.py topology100/network_synapses.hdf5 topology100 test100.csv```\n",
    "\n",
    "The ```csv``` is then converted to flagser using ```fromcsv2flagser.py```, then ```./flagsercount.py test100.flagser```"
   ]
  },
  {
   "cell_type": "code",
   "execution_count": 1,
   "id": "03c114c6",
   "metadata": {},
   "outputs": [],
   "source": [
    "import os\n",
    "os.environ[\"SNUDDA_DATA\"] = \"../../../../BasalGangliaData/data/\"\n",
    "assert os.path.isdir(os.getenv(\"SNUDDA_DATA\")), f\"You need to have BasalGangliaData installed for this example.\"\n",
    "\n",
    "network_path = \"topology100\"\n",
    "network_file = os.path.join(network_path, \"network-synapses.hdf5\")\n",
    "simplex_file_name = os.path.join(network_path, \"topology100_D6_simplices0.simplices\")\n",
    "ablated_network_file = os.path.join(network_path, \"network-ablated.hdf5\")\n",
    "\n",
    "remove_sink_to_source_connections = True"
   ]
  },
  {
   "cell_type": "code",
   "execution_count": 2,
   "id": "9f00d6f5",
   "metadata": {},
   "outputs": [
    {
     "name": "stdout",
     "output_type": "stream",
     "text": [
      "Loading 99 neurons with 6999 synapses and 0 gap junctions\n",
      "Loading 99 neurons with 6999 synapses and 0 gap junctions\n",
      "Loaded simplex data of dimension 6 from topology100/topology100_D6_simplices0.simplices\n"
     ]
    }
   ],
   "source": [
    "from snudda.analyse.analyse_topology import SnuddaAnalyseTopology\n",
    "sat = SnuddaAnalyseTopology(network_file=network_file)\n",
    "sat.load_simplex_file(simplex_file_name=simplex_file_name)\n",
    "mult = sat.get_fixed_multiplicity()"
   ]
  },
  {
   "cell_type": "markdown",
   "id": "006607fb",
   "metadata": {},
   "source": [
    "Next in this example we list the cliques with multiplicity 3. To see all of them simply inspect mult[6]. Here the 6 refers to the clique dimension we loaded. You could also load multiple clique dimension files at the same time and compare them."
   ]
  },
  {
   "cell_type": "code",
   "execution_count": 3,
   "id": "0a16df48",
   "metadata": {},
   "outputs": [],
   "source": [
    "filt_mult = sat.filter_multiplicity(mult, dimension=6, neuron_type_list=[[\"FS\", 1], [\"iSPN\", 4]],\n",
    "                       multiplicity_requirement=None)"
   ]
  },
  {
   "cell_type": "code",
   "execution_count": 4,
   "id": "694181a6",
   "metadata": {},
   "outputs": [
    {
     "data": {
      "text/plain": [
       "OrderedDict([((92, 34, 43, 82, 93, 95, 71), 3),\n",
       "             ((92, 26, 43, 65, 95, 96, 93), 1),\n",
       "             ((92, 26, 65, 93, 95, 96, 43), 1),\n",
       "             ((92, 26, 43, 82, 95, 96, 33), 2)])"
      ]
     },
     "execution_count": 4,
     "metadata": {},
     "output_type": "execute_result"
    }
   ],
   "source": [
    "filt_mult"
   ]
  },
  {
   "cell_type": "code",
   "execution_count": 5,
   "id": "b8b68594",
   "metadata": {},
   "outputs": [],
   "source": [
    "selected_clique_neurons = list(filt_mult)[0]"
   ]
  },
  {
   "cell_type": "code",
   "execution_count": 6,
   "id": "83923aab",
   "metadata": {},
   "outputs": [
    {
     "data": {
      "text/plain": [
       "(92, 34, 43, 82, 93, 95, 71)"
      ]
     },
     "execution_count": 6,
     "metadata": {},
     "output_type": "execute_result"
    }
   ],
   "source": [
    "selected_clique_neurons"
   ]
  },
  {
   "cell_type": "markdown",
   "id": "62166b43",
   "metadata": {},
   "source": [
    "### Ablating network"
   ]
  },
  {
   "cell_type": "code",
   "execution_count": 7,
   "id": "890b6fe3",
   "metadata": {},
   "outputs": [
    {
     "name": "stdout",
     "output_type": "stream",
     "text": [
      "Loading 99 neurons with 6999 synapses and 0 gap junctions\n"
     ]
    }
   ],
   "source": [
    "from snudda.utils.ablate_network import SnuddaAblateNetwork\n",
    "san = SnuddaAblateNetwork(network_file=network_file)\n",
    "san.only_keep_neuron_id(selected_clique_neurons)"
   ]
  },
  {
   "cell_type": "markdown",
   "id": "ce9db6fc",
   "metadata": {},
   "source": [
    "The cell below removes sink to source connections if the ```remove_sink_to_source``` flag is set."
   ]
  },
  {
   "cell_type": "code",
   "execution_count": 8,
   "id": "5a001885",
   "metadata": {},
   "outputs": [],
   "source": [
    "if remove_sink_to_source_connections:\n",
    "    san.remove_pair_connection(pre_id=selected_clique_neurons[-1], post_id=selected_clique_neurons[0])"
   ]
  },
  {
   "cell_type": "markdown",
   "id": "0d164150",
   "metadata": {},
   "source": [
    "Note that the neurons get remapped, when we ablate the network and remove a subset of the neurons."
   ]
  },
  {
   "cell_type": "code",
   "execution_count": 9,
   "id": "c1db373d",
   "metadata": {},
   "outputs": [
    {
     "name": "stdout",
     "output_type": "stream",
     "text": [
      "Writing to topology100/network-ablated.hdf5\n",
      "Copying morphologies\n",
      "Keeping 7 neurons.\n",
      "\n",
      "Remapping neurons:\n",
      "92 -> 0\n",
      "34 -> 1\n",
      "43 -> 2\n",
      "82 -> 3\n",
      "93 -> 4\n",
      "95 -> 5\n",
      "71 -> 6\n",
      "\n",
      "0/6999 synapses processed\n",
      "6999/6999 synapses processed\n",
      "Warning, removing individual synapses (1) can be slow, use this with caution.\n",
      "Filtering done.\n",
      "0/0 synapses processed\n",
      "Warning, removing individual synapses (1) can be slow, use this with caution.\n",
      "Filtering done.\n",
      "Copying synapses and gap junctions\n",
      "0 / 97 synapse rows parsed\n",
      "6999 / 97 synapse rows parsed\n",
      "Synapse matrix written.\n",
      "Keeping 97 synapses (out of 6999)\n",
      "0 / 0 gap junction rows parsed\n",
      "Gap junction matrix written.\n",
      "Keeping 0  gap junctions (out of 0)\n"
     ]
    }
   ],
   "source": [
    "san.write_network(out_file_name=ablated_network_file, print_remapping=True)"
   ]
  },
  {
   "cell_type": "markdown",
   "id": "76529c3a",
   "metadata": {},
   "source": [
    "### Simulating network\n",
    "\n",
    "Next step is running the network with current injections (we should also run it with synaptic input).\n",
    "\n",
    "#### NEED TO CHANGE TO BasalGangliaData"
   ]
  },
  {
   "cell_type": "code",
   "execution_count": 10,
   "id": "ffc1e968",
   "metadata": {},
   "outputs": [
    {
     "name": "stdout",
     "output_type": "stream",
     "text": [
      "/home/hjorth/HBP/Snudda/examples/notebooks/Topology\n",
      "Mod files: \"../../../../BasalGangliaData/data//neurons/mechanisms/bk_ch.mod\" \"../../../../BasalGangliaData/data//neurons/mechanisms/bk_fs.mod\" \"../../../../BasalGangliaData/data//neurons/mechanisms/bk_ms.mod\" \"../../../../BasalGangliaData/data//neurons/mechanisms/ca_ch.mod\" \"../../../../BasalGangliaData/data//neurons/mechanisms/cadyn_fs.mod\" \"../../../../BasalGangliaData/data//neurons/mechanisms/cadyn_ms.mod\" \"../../../../BasalGangliaData/data//neurons/mechanisms/cal12_ms.mod\" \"../../../../BasalGangliaData/data//neurons/mechanisms/cal13_ms.mod\" \"../../../../BasalGangliaData/data//neurons/mechanisms/cal_ch.mod\" \"../../../../BasalGangliaData/data//neurons/mechanisms/caldyn_ms.mod\" \"../../../../BasalGangliaData/data//neurons/mechanisms/can_fs.mod\" \"../../../../BasalGangliaData/data//neurons/mechanisms/can_ms.mod\" \"../../../../BasalGangliaData/data//neurons/mechanisms/cap_ch.mod\" \"../../../../BasalGangliaData/data//neurons/mechanisms/caq_fs.mod\" \"../../../../BasalGangliaData/data//neurons/mechanisms/caq_ms.mod\" \"../../../../BasalGangliaData/data//neurons/mechanisms/car_fs.mod\" \"../../../../BasalGangliaData/data//neurons/mechanisms/car_ms.mod\" \"../../../../BasalGangliaData/data//neurons/mechanisms/cat32_ms.mod\" \"../../../../BasalGangliaData/data//neurons/mechanisms/cat33_ms.mod\" \"../../../../BasalGangliaData/data//neurons/mechanisms/concACh.mod\" \"../../../../BasalGangliaData/data//neurons/mechanisms/concDA.mod\" \"../../../../BasalGangliaData/data//neurons/mechanisms/hcn12_ch.mod\" \"../../../../BasalGangliaData/data//neurons/mechanisms/hd_lts.mod\" \"../../../../BasalGangliaData/data//neurons/mechanisms/im_lts.mod\" \"../../../../BasalGangliaData/data//neurons/mechanisms/Im_ms.mod\" \"../../../../BasalGangliaData/data//neurons/mechanisms/it_lts.mod\" \"../../../../BasalGangliaData/data//neurons/mechanisms/kaf_fs.mod\" \"../../../../BasalGangliaData/data//neurons/mechanisms/kaf_lts.mod\" \"../../../../BasalGangliaData/data//neurons/mechanisms/kaf_ms.mod\" \"../../../../BasalGangliaData/data//neurons/mechanisms/kas_fs.mod\" \"../../../../BasalGangliaData/data//neurons/mechanisms/kas_ms.mod\" \"../../../../BasalGangliaData/data//neurons/mechanisms/kcnq_ch.mod\" \"../../../../BasalGangliaData/data//neurons/mechanisms/kdb_lts.mod\" \"../../../../BasalGangliaData/data//neurons/mechanisms/kdrb_lts.mod\" \"../../../../BasalGangliaData/data//neurons/mechanisms/kdr_fs.mod\" \"../../../../BasalGangliaData/data//neurons/mechanisms/kdr_lts.mod\" \"../../../../BasalGangliaData/data//neurons/mechanisms/kdr_ms.mod\" \"../../../../BasalGangliaData/data//neurons/mechanisms/kir23_ch.mod\" \"../../../../BasalGangliaData/data//neurons/mechanisms/kir23_lts.mod\" \"../../../../BasalGangliaData/data//neurons/mechanisms/kir2_ch.mod\" \"../../../../BasalGangliaData/data//neurons/mechanisms/kir_fs.mod\" \"../../../../BasalGangliaData/data//neurons/mechanisms/kir_ms.mod\" \"../../../../BasalGangliaData/data//neurons/mechanisms/kv2_ch.mod\" \"../../../../BasalGangliaData/data//neurons/mechanisms/kv4_ch.mod\" \"../../../../BasalGangliaData/data//neurons/mechanisms/na2_ch.mod\" \"../../../../BasalGangliaData/data//neurons/mechanisms/na3_lts.mod\" \"../../../../BasalGangliaData/data//neurons/mechanisms/na_ch.mod\" \"../../../../BasalGangliaData/data//neurons/mechanisms/naf_fs.mod\" \"../../../../BasalGangliaData/data//neurons/mechanisms/naf_lts.mod\" \"../../../../BasalGangliaData/data//neurons/mechanisms/naf_ms.mod\" \"../../../../BasalGangliaData/data//neurons/mechanisms/NO.mod\" \"../../../../BasalGangliaData/data//neurons/mechanisms/par_ggap.mod\" \"../../../../BasalGangliaData/data//neurons/mechanisms/sk_ch.mod\" \"../../../../BasalGangliaData/data//neurons/mechanisms/sk_fs.mod\" \"../../../../BasalGangliaData/data//neurons/mechanisms/sk_ms.mod\" \"../../../../BasalGangliaData/data//neurons/mechanisms/tmgabaa.mod\" \"../../../../BasalGangliaData/data//neurons/mechanisms/tmglut.mod\" \"../../../../BasalGangliaData/data//neurons/mechanisms/vecevent.mod\"\n",
      "\n",
      "COBJS=''\n",
      " -> \u001b[32mCompiling\u001b[0m mod_func.c\n",
      "x86_64-linux-gnu-gcc -O2   -I.   -I/home/hjorth/.local/lib/python3.7/site-packages/neuron/.data/include  -I/nrnwheel/openmpi/include -fPIC -c mod_func.c -o mod_func.o\n",
      " => \u001b[32mLINKING\u001b[0m shared library ./libnrnmech.so\n",
      "x86_64-linux-gnu-g++ -O2 -DVERSION_INFO='8.0.2' -std=c++11 -shared -fPIC  -I /home/hjorth/.local/lib/python3.7/site-packages/neuron/.data/include -o ./libnrnmech.so -Wl,-soname,libnrnmech.so \\\n",
      "  ./mod_func.o ./bk_ch.o ./bk_fs.o ./bk_ms.o ./ca_ch.o ./cadyn_fs.o ./cadyn_ms.o ./cal12_ms.o ./cal13_ms.o ./cal_ch.o ./caldyn_ms.o ./can_fs.o ./can_ms.o ./cap_ch.o ./caq_fs.o ./caq_ms.o ./car_fs.o ./car_ms.o ./cat32_ms.o ./cat33_ms.o ./concACh.o ./concDA.o ./hcn12_ch.o ./hd_lts.o ./im_lts.o ./Im_ms.o ./it_lts.o ./kaf_fs.o ./kaf_lts.o ./kaf_ms.o ./kas_fs.o ./kas_ms.o ./kcnq_ch.o ./kdb_lts.o ./kdrb_lts.o ./kdr_fs.o ./kdr_lts.o ./kdr_ms.o ./kir23_ch.o ./kir23_lts.o ./kir2_ch.o ./kir_fs.o ./kir_ms.o ./kv2_ch.o ./kv4_ch.o ./na2_ch.o ./na3_lts.o ./na_ch.o ./naf_fs.o ./naf_lts.o ./naf_ms.o ./NO.o ./par_ggap.o ./sk_ch.o ./sk_fs.o ./sk_ms.o ./tmgabaa.o ./tmglut.o ./vecevent.o  -L/home/hjorth/.local/lib/python3.7/site-packages/neuron/.data/lib -lnrniv -Wl,-rpath,/home/hjorth/.local/lib/python3.7/site-packages/neuron/.data/lib   \n",
      "rm -f ./.libs/libnrnmech.so ; mkdir -p ./.libs ; cp ./libnrnmech.so ./.libs/libnrnmech.so\n",
      "Successfully created x86_64/special\n"
     ]
    }
   ],
   "source": [
    "!nrnivmodl $SNUDDA_DATA/neurons/mechanisms"
   ]
  },
  {
   "cell_type": "code",
   "execution_count": null,
   "id": "b46240f8",
   "metadata": {},
   "outputs": [],
   "source": [
    "experiment_config_file = \"topology_clique_simulation_experiment-6.json\"\n",
    "from snudda.simulate.pair_recording import PairRecording \n",
    "pr = PairRecording(network_path=network_path, network_file=ablated_network_file,\n",
    "                   experiment_config_file=experiment_config_file)"
   ]
  },
  {
   "cell_type": "code",
   "execution_count": null,
   "id": "0c383a13",
   "metadata": {},
   "outputs": [],
   "source": [
    "pr.run()"
   ]
  },
  {
   "cell_type": "code",
   "execution_count": null,
   "id": "75bcea64",
   "metadata": {},
   "outputs": [],
   "source": [
    "%matplotlib notebook\n",
    "pr.plot_trace_overview()"
   ]
  },
  {
   "cell_type": "code",
   "execution_count": null,
   "id": "acb5343f",
   "metadata": {},
   "outputs": [],
   "source": []
  }
 ],
 "metadata": {
  "kernelspec": {
   "display_name": "Python 3 (ipykernel)",
   "language": "python",
   "name": "python3"
  },
  "language_info": {
   "codemirror_mode": {
    "name": "ipython",
    "version": 3
   },
   "file_extension": ".py",
   "mimetype": "text/x-python",
   "name": "python",
   "nbconvert_exporter": "python",
   "pygments_lexer": "ipython3",
   "version": "3.7.3"
  }
 },
 "nbformat": 4,
 "nbformat_minor": 5
}
