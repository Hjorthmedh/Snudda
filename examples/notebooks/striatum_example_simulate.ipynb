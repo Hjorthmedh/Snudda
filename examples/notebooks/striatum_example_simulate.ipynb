{
 "cells": [
  {
   "cell_type": "markdown",
   "id": "dependent-accommodation",
   "metadata": {},
   "source": [
    "# Simulate the striatum example network\n",
    "\n",
    "This example continues ```striatum_example.ipynb``` and shows how to setup input and run the simulation."
   ]
  },
  {
   "cell_type": "markdown",
   "id": "continuous-velvet",
   "metadata": {},
   "source": [
    "## Setup the input\n",
    "\n",
    "Here we use the file ```input_config/striatum-test-input.json```.\n",
    "\n",
    "The input can be generated in serial or in parallel. To generate it in parallel, pass ```rc``` parameter as in the previous examples."
   ]
  },
  {
   "cell_type": "code",
   "execution_count": 1,
   "id": "federal-kidney",
   "metadata": {},
   "outputs": [
    {
     "name": "stdout",
     "output_type": "stream",
     "text": [
      "Writing spikes to networks/striatum_example/input-spikes.hdf5\n"
     ]
    }
   ],
   "source": [
    "import os\n",
    "from snudda.input import SnuddaInput\n",
    "\n",
    "network_path = os.path.join(\"networks\", \"striatum_example\")\n",
    "\n",
    "si = SnuddaInput(network_path=network_path, \n",
    "                 input_config_file=os.path.join(\"input_config\",\"striatum-test-input.json\"),\n",
    "                 verbose=False)\n",
    "si.generate()"
   ]
  },
  {
   "cell_type": "markdown",
   "id": "noted-sacrifice",
   "metadata": {},
   "source": [
    "## Compile the  NEURON mod files\n",
    "If you run this on Windows you need to exchange / for \\ in the path below."
   ]
  },
  {
   "cell_type": "code",
   "execution_count": 2,
   "id": "durable-document",
   "metadata": {},
   "outputs": [
    {
     "name": "stdout",
     "output_type": "stream",
     "text": [
      "/home/hjorth/HBP/Snudda/examples/notebooks\n",
      "ls: cannot access '../../snudda/data/neurons/mechanisms/*.inc': No such file or directory\n",
      "COBJS=''\n",
      "\"/usr/local/nrn/share/nrn/libtool\" --tag=CC --mode=compile mpicc -DHAVE_CONFIG_H  -I. -I.. -I\"/usr/local/nrn/include/nrn\" -I\"/usr/local/nrn/x86_64/lib\"      -g -O2 -c -o mod_func.lo mod_func.c\n",
      "libtool: compile:  mpicc -DHAVE_CONFIG_H -I. -I.. -I/usr/local/nrn/include/nrn -I/usr/local/nrn/x86_64/lib -g -O2 -c mod_func.c  -fPIC -DPIC -o .libs/mod_func.o\n",
      "\"/usr/local/nrn/share/nrn/libtool\" --tag=CC --mode=link mpicc -module  -g -O2    -o libnrnmech.la -rpath \"/usr/local/nrn/x86_64/lib\"  bk_ch.lo bk_fs.lo bk_ms.lo ca_ch.lo cadyn_fs.lo cadyn_ms.lo cal12_ms.lo cal13_ms.lo cal_ch.lo caldyn_ms.lo can_fs.lo can_ms.lo cap_ch.lo caq_fs.lo caq_ms.lo car_fs.lo car_ms.lo cat32_ms.lo cat33_ms.lo concACh.lo concDAfile.lo concDA.lo hcn12_ch.lo hd_lts.lo im_lts.lo it_lts.lo kaf_fs.lo kaf_ms.lo kas_fs.lo kas_ms.lo kcnq_ch.lo kdrbca1_lts.lo kdr_fs.lo kdr_lts.lo kdr_ms.lo kir23_lts.lo kir2_ch.lo kir_fs.lo kir_ms.lo kv2_ch.lo Kv3_ch.lo kv4_ch.lo na2_ch.lo na3n_lts.lo na_ch.lo naf_fs.lo naf_lts.lo naf_ms.lo NO.lo par_ggap.lo sk_ch.lo sk_fs.lo sk_ms.lo tmampa.lo tmgabaa.lo tmglut_M1RH_D1.lo tmglut.lo tmnmda.lo vecevent.lo mod_func.lo  -L\"/usr/local/nrn/x86_64/lib\" -lnrnoc -loc -lmemacs -lnrnmpi -lscopmath -lsparse13 -lreadline -lncurses -ltinfo -L\"/usr/local/nrn/x86_64/lib\" -lnrniv -livoc -lneuron_gnu -lmeschach -lsundials       -lm -ldl\n",
      "libtool: link: rm -fr  .libs/libnrnmech.la .libs/libnrnmech.lai .libs/libnrnmech.so .libs/libnrnmech.so.0 .libs/libnrnmech.so.0.0.0\n",
      "libtool: link: mpicc -shared  -fPIC -DPIC  .libs/bk_ch.o .libs/bk_fs.o .libs/bk_ms.o .libs/ca_ch.o .libs/cadyn_fs.o .libs/cadyn_ms.o .libs/cal12_ms.o .libs/cal13_ms.o .libs/cal_ch.o .libs/caldyn_ms.o .libs/can_fs.o .libs/can_ms.o .libs/cap_ch.o .libs/caq_fs.o .libs/caq_ms.o .libs/car_fs.o .libs/car_ms.o .libs/cat32_ms.o .libs/cat33_ms.o .libs/concACh.o .libs/concDAfile.o .libs/concDA.o .libs/hcn12_ch.o .libs/hd_lts.o .libs/im_lts.o .libs/it_lts.o .libs/kaf_fs.o .libs/kaf_ms.o .libs/kas_fs.o .libs/kas_ms.o .libs/kcnq_ch.o .libs/kdrbca1_lts.o .libs/kdr_fs.o .libs/kdr_lts.o .libs/kdr_ms.o .libs/kir23_lts.o .libs/kir2_ch.o .libs/kir_fs.o .libs/kir_ms.o .libs/kv2_ch.o .libs/Kv3_ch.o .libs/kv4_ch.o .libs/na2_ch.o .libs/na3n_lts.o .libs/na_ch.o .libs/naf_fs.o .libs/naf_lts.o .libs/naf_ms.o .libs/NO.o .libs/par_ggap.o .libs/sk_ch.o .libs/sk_fs.o .libs/sk_ms.o .libs/tmampa.o .libs/tmgabaa.o .libs/tmglut_M1RH_D1.o .libs/tmglut.o .libs/tmnmda.o .libs/vecevent.o .libs/mod_func.o   -Wl,-rpath -Wl,/usr/local/nrn/x86_64/lib -Wl,-rpath -Wl,/usr/local/nrn/x86_64/lib -L/usr/local/nrn/x86_64/lib /usr/local/nrn/x86_64/lib/libnrnoc.so /usr/local/nrn/x86_64/lib/liboc.so /usr/local/nrn/x86_64/lib/libmemacs.so /usr/local/nrn/x86_64/lib/libnrnmpi.so /usr/local/nrn/x86_64/lib/libscopmath.so /usr/local/nrn/x86_64/lib/libsparse13.so -lreadline -lncurses -ltinfo /usr/local/nrn/x86_64/lib/libnrniv.so /usr/local/nrn/x86_64/lib/libivoc.so /usr/local/nrn/x86_64/lib/libneuron_gnu.so /usr/local/nrn/x86_64/lib/libmeschach.so /usr/local/nrn/x86_64/lib/libsundials.so -lm -ldl  -g -O2   -Wl,-soname -Wl,libnrnmech.so.0 -o .libs/libnrnmech.so.0.0.0\n",
      "libtool: link: (cd \".libs\" && rm -f \"libnrnmech.so.0\" && ln -s \"libnrnmech.so.0.0.0\" \"libnrnmech.so.0\")\n",
      "libtool: link: (cd \".libs\" && rm -f \"libnrnmech.so\" && ln -s \"libnrnmech.so.0.0.0\" \"libnrnmech.so\")\n",
      "libtool: link: ( cd \".libs\" && rm -f \"libnrnmech.la\" && ln -s \"../libnrnmech.la\" \"libnrnmech.la\" )\n",
      "Successfully created x86_64/special\n"
     ]
    }
   ],
   "source": [
    "!nrnivmodl ../../snudda/data/neurons/mechanisms"
   ]
  },
  {
   "cell_type": "markdown",
   "id": "polished-europe",
   "metadata": {},
   "source": [
    "## Run the neuron simulation\n",
    "\n",
    "Here we run the network for 3.5 seconds."
   ]
  },
  {
   "cell_type": "code",
   "execution_count": 3,
   "id": "iraqi-lincoln",
   "metadata": {},
   "outputs": [
    {
     "name": "stdout",
     "output_type": "stream",
     "text": [
      "numprocs=6\n",
      "Using input file networks/striatum_example/input-spikes.hdf5\n",
      "args: Namespace(action='simulate', disable_gj=False, input_file=None, mech_dir=None, network_file=None, path='networks/striatum_example', profile=False, randomseed=None, spikes_out=None, time=3.5, verbose=False, volt_out=None)\n",
      "Using input file networks/striatum_example/input-spikes.hdf5\n",
      "args: Namespace(action='simulate', disable_gj=False, input_file=None, mech_dir=None, network_file=None, path='networks/striatum_example', profile=False, randomseed=None, spikes_out=None, time=3.5, verbose=False, volt_out=None)\n",
      "Using input file networks/striatum_example/input-spikes.hdf5\n",
      "args: Namespace(action='simulate', disable_gj=False, input_file=None, mech_dir=None, network_file=None, path='networks/striatum_example', profile=False, randomseed=None, spikes_out=None, time=3.5, verbose=False, volt_out=None)\n",
      "Using input file networks/striatum_example/input-spikes.hdf5\n",
      "args: Namespace(action='simulate', disable_gj=False, input_file=None, mech_dir=None, network_file=None, path='networks/striatum_example', profile=False, randomseed=None, spikes_out=None, time=3.5, verbose=False, volt_out=None)\n",
      "Using input file networks/striatum_example/input-spikes.hdf5\n",
      "args: Namespace(action='simulate', disable_gj=False, input_file=None, mech_dir=None, network_file=None, path='networks/striatum_example', profile=False, randomseed=None, spikes_out=None, time=3.5, verbose=False, volt_out=None)\n",
      "Using input file networks/striatum_example/input-spikes.hdf5\n",
      "args: Namespace(action='simulate', disable_gj=False, input_file=None, mech_dir=None, network_file=None, path='networks/striatum_example', profile=False, randomseed=None, spikes_out=None, time=3.5, verbose=False, volt_out=None)\n",
      "Loading 501 neurons with 109542 synapses and 27 gap junctions\n",
      "Loading 501 neurons with 109542 synapses and 27 gap junctions\n",
      "Loading 501 neurons with 109542 synapses and 27 gap junctions\n",
      "Loading 501 neurons with 109542 synapses and 27 gap junctions\n",
      "Loading 501 neurons with 109542 synapses and 27 gap junctions\n",
      "Loading 501 neurons with 109542 synapses and 27 gap junctions\n",
      "Running simulation for 3500.0 ms.\n",
      "Running simulation for 3500.0 ms.\n",
      "Running simulation for 3500.0 ms.\n",
      "Running simulation for 3500.0 ms.\n",
      "Running simulation for 3500.0 ms.\n",
      "Running simulation for 3500.0 ms.\n",
      "Running simulation for 3.5 s\n",
      "Running simulation for 3.5 s\n",
      "Running simulation for 3.5 s\n",
      "Running simulation for 3.5 s\n",
      "Running simulation for 3.5 s\n",
      "Running simulation for 3.5 s\n",
      "1% done. Elapsed: 139.3 s, estimated time left: 13791.9 s\n",
      "2% done. Elapsed: 278.6 s, estimated time left: 13653.3 s\n",
      "3% done. Elapsed: 417.8 s, estimated time left: 13508.6 s\n",
      "4% done. Elapsed: 556.9 s, estimated time left: 13365.3 s\n",
      "5% done. Elapsed: 697.4 s, estimated time left: 13249.7 s\n",
      "6% done. Elapsed: 837.2 s, estimated time left: 13115.4 s\n",
      "7% done. Elapsed: 975.4 s, estimated time left: 12958.9 s\n",
      "8% done. Elapsed: 1112.3 s, estimated time left: 12791.3 s\n",
      "9% done. Elapsed: 1248.0 s, estimated time left: 12618.4 s\n",
      "10% done. Elapsed: 1383.3 s, estimated time left: 12449.5 s\n",
      "11% done. Elapsed: 1518.6 s, estimated time left: 12286.6 s\n",
      "12% done. Elapsed: 1653.6 s, estimated time left: 12126.2 s\n",
      "13% done. Elapsed: 1789.5 s, estimated time left: 11975.6 s\n",
      "14% done. Elapsed: 1922.8 s, estimated time left: 11811.7 s\n",
      "15% done. Elapsed: 2055.1 s, estimated time left: 11645.5 s\n",
      "16% done. Elapsed: 2185.1 s, estimated time left: 11471.8 s\n",
      "17% done. Elapsed: 2313.1 s, estimated time left: 11293.1 s\n",
      "18% done. Elapsed: 2441.0 s, estimated time left: 11120.0 s\n",
      "19% done. Elapsed: 2565.2 s, estimated time left: 10936.1 s\n",
      "20% done. Elapsed: 2682.2 s, estimated time left: 10728.9 s\n",
      "21% done. Elapsed: 2799.1 s, estimated time left: 10530.1 s\n",
      "22% done. Elapsed: 2916.1 s, estimated time left: 10338.8 s\n",
      "23% done. Elapsed: 3032.8 s, estimated time left: 10153.5 s\n",
      "24% done. Elapsed: 3149.8 s, estimated time left: 9974.5 s\n",
      "25% done. Elapsed: 3266.7 s, estimated time left: 9800.2 s\n",
      "26% done. Elapsed: 3383.7 s, estimated time left: 9630.5 s\n",
      "27% done. Elapsed: 3500.6 s, estimated time left: 9464.7 s\n",
      "28% done. Elapsed: 3617.6 s, estimated time left: 9302.4 s\n",
      "29% done. Elapsed: 3734.5 s, estimated time left: 9143.1 s\n",
      "30% done. Elapsed: 3851.5 s, estimated time left: 8986.8 s\n",
      "31% done. Elapsed: 3968.7 s, estimated time left: 8833.5 s\n",
      "32% done. Elapsed: 4085.7 s, estimated time left: 8682.1 s\n",
      "33% done. Elapsed: 4202.8 s, estimated time left: 8532.9 s\n",
      "34% done. Elapsed: 4319.8 s, estimated time left: 8385.5 s\n",
      "35% done. Elapsed: 4436.8 s, estimated time left: 8239.8 s\n",
      "36% done. Elapsed: 4553.8 s, estimated time left: 8095.6 s\n",
      "37% done. Elapsed: 4670.8 s, estimated time left: 7953.0 s\n",
      "38% done. Elapsed: 4787.9 s, estimated time left: 7811.8 s\n",
      "39% done. Elapsed: 4904.9 s, estimated time left: 7671.7 s\n",
      "40% done. Elapsed: 5022.0 s, estimated time left: 7533.0 s\n",
      "41% done. Elapsed: 5139.3 s, estimated time left: 7395.5 s\n",
      "42% done. Elapsed: 5257.9 s, estimated time left: 7260.9 s\n",
      "43% done. Elapsed: 5375.3 s, estimated time left: 7125.4 s\n",
      "44% done. Elapsed: 5493.2 s, estimated time left: 6991.3 s\n",
      "45% done. Elapsed: 5610.2 s, estimated time left: 6857.0 s\n",
      "46% done. Elapsed: 5727.6 s, estimated time left: 6723.7 s\n",
      "47% done. Elapsed: 5844.7 s, estimated time left: 6590.9 s\n",
      "48% done. Elapsed: 5961.9 s, estimated time left: 6458.7 s\n",
      "49% done. Elapsed: 6079.0 s, estimated time left: 6327.1 s\n",
      "50% done. Elapsed: 6196.0 s, estimated time left: 6196.0 s\n",
      "51% done. Elapsed: 6313.0 s, estimated time left: 6065.5 s\n",
      "52% done. Elapsed: 6430.1 s, estimated time left: 5935.5 s\n",
      "53% done. Elapsed: 6547.4 s, estimated time left: 5806.2 s\n",
      "54% done. Elapsed: 6664.5 s, estimated time left: 5677.2 s\n",
      "55% done. Elapsed: 6781.6 s, estimated time left: 5548.6 s\n",
      "56% done. Elapsed: 6898.7 s, estimated time left: 5420.4 s\n",
      "57% done. Elapsed: 7015.9 s, estimated time left: 5292.7 s\n",
      "58% done. Elapsed: 7133.3 s, estimated time left: 5165.5 s\n",
      "59% done. Elapsed: 7250.4 s, estimated time left: 5038.4 s\n",
      "60% done. Elapsed: 7367.6 s, estimated time left: 4911.7 s\n",
      "61% done. Elapsed: 7485.1 s, estimated time left: 4785.5 s\n",
      "62% done. Elapsed: 7602.3 s, estimated time left: 4659.4 s\n",
      "63% done. Elapsed: 7719.4 s, estimated time left: 4533.6 s\n",
      "64% done. Elapsed: 7836.5 s, estimated time left: 4408.0 s\n",
      "65% done. Elapsed: 7953.7 s, estimated time left: 4282.7 s\n",
      "66% done. Elapsed: 8070.9 s, estimated time left: 4157.7 s\n",
      "67% done. Elapsed: 8188.2 s, estimated time left: 4033.0 s\n",
      "68% done. Elapsed: 8305.5 s, estimated time left: 3908.5 s\n",
      "69% done. Elapsed: 8422.8 s, estimated time left: 3784.2 s\n",
      "70% done. Elapsed: 8540.0 s, estimated time left: 3660.0 s\n",
      "71% done. Elapsed: 8657.2 s, estimated time left: 3536.0 s\n",
      "72% done. Elapsed: 8774.5 s, estimated time left: 3412.3 s\n",
      "73% done. Elapsed: 8891.8 s, estimated time left: 3288.7 s\n",
      "74% done. Elapsed: 9009.0 s, estimated time left: 3165.3 s\n",
      "75% done. Elapsed: 9126.3 s, estimated time left: 3042.1 s\n",
      "76% done. Elapsed: 9243.8 s, estimated time left: 2919.1 s\n",
      "77% done. Elapsed: 9361.1 s, estimated time left: 2796.2 s\n",
      "78% done. Elapsed: 9478.4 s, estimated time left: 2673.4 s\n",
      "79% done. Elapsed: 9595.9 s, estimated time left: 2550.8 s\n",
      "80% done. Elapsed: 9713.3 s, estimated time left: 2428.3 s\n",
      "81% done. Elapsed: 9830.5 s, estimated time left: 2305.9 s\n",
      "82% done. Elapsed: 9947.8 s, estimated time left: 2183.7 s\n",
      "83% done. Elapsed: 10065.1 s, estimated time left: 2061.5 s\n",
      "84% done. Elapsed: 10182.4 s, estimated time left: 1939.5 s\n",
      "85% done. Elapsed: 10299.8 s, estimated time left: 1817.6 s\n",
      "86% done. Elapsed: 10417.1 s, estimated time left: 1695.8 s\n",
      "87% done. Elapsed: 10534.5 s, estimated time left: 1574.1 s\n",
      "88% done. Elapsed: 10652.0 s, estimated time left: 1452.5 s\n",
      "89% done. Elapsed: 10769.4 s, estimated time left: 1331.1 s\n",
      "90% done. Elapsed: 10886.8 s, estimated time left: 1209.6 s\n",
      "91% done. Elapsed: 11004.2 s, estimated time left: 1088.3 s\n",
      "92% done. Elapsed: 11121.8 s, estimated time left: 967.1 s\n",
      "93% done. Elapsed: 11239.2 s, estimated time left: 846.0 s\n",
      "94% done. Elapsed: 11356.6 s, estimated time left: 724.9 s\n",
      "95% done. Elapsed: 11474.2 s, estimated time left: 603.9 s\n",
      "96% done. Elapsed: 11591.7 s, estimated time left: 483.0 s\n",
      "97% done. Elapsed: 11709.2 s, estimated time left: 362.1 s\n"
     ]
    },
    {
     "name": "stdout",
     "output_type": "stream",
     "text": [
      "98% done. Elapsed: 11826.6 s, estimated time left: 241.4 s\n",
      "99% done. Elapsed: 11944.0 s, estimated time left: 120.6 s\n",
      "Simulation run time: 12061.870103162946 s\n",
      "Simulation done, saving output\n",
      "Writing spike times to networks/striatum_example/simulation/network-output-spikes-666.txt\n",
      "Simulation run time: 12061.412619794952 s\n",
      "Simulation done, saving output\n",
      "Writing spike times to networks/striatum_example/simulation/network-output-spikes-666.txt\n",
      "Simulation run time: 12062.337379752076 s\n",
      "Simulation done, saving output\n",
      "Writing spike times to networks/striatum_example/simulation/network-output-spikes-666.txt\n",
      "Simulation run time: 12062.86533245095 s\n",
      "Simulation done, saving output\n",
      "Writing spike times to networks/striatum_example/simulation/network-output-spikes-666.txt\n",
      "Simulation run time: 12062.12513662607 s\n",
      "Simulation done, saving output\n",
      "Writing spike times to networks/striatum_example/simulation/network-output-spikes-666.txt\n",
      "Simulation run time: 12061.433557727141 s\n",
      "Simulation done, saving output\n",
      "Writing spike times to networks/striatum_example/simulation/network-output-spikes-666.txt\n",
      "Program run time: 12106.676913269912\n"
     ]
    }
   ],
   "source": [
    "!mpiexec -n 6 snudda simulate networks/striatum_example --time 3.5"
   ]
  },
  {
   "cell_type": "markdown",
   "id": "outstanding-specific",
   "metadata": {},
   "source": [
    "See ```striatum_example_plot.ipynb``` for information on plotting a spike raster."
   ]
  }
 ],
 "metadata": {
  "kernelspec": {
   "display_name": "Python 3",
   "language": "python",
   "name": "python3"
  },
  "language_info": {
   "codemirror_mode": {
    "name": "ipython",
    "version": 3
   },
   "file_extension": ".py",
   "mimetype": "text/x-python",
   "name": "python",
   "nbconvert_exporter": "python",
   "pygments_lexer": "ipython3",
   "version": "3.7.3"
  }
 },
 "nbformat": 4,
 "nbformat_minor": 5
}
