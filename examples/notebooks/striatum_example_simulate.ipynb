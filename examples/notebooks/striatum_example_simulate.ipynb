{
 "cells": [
  {
   "cell_type": "markdown",
   "id": "dependent-accommodation",
   "metadata": {},
   "source": [
    "# Simulate the striatum example network\n",
    "\n",
    "This example continues ```striatum_example.ipynb``` and shows how to setup input and run the simulation."
   ]
  },
  {
   "cell_type": "markdown",
   "id": "continuous-velvet",
   "metadata": {},
   "source": [
    "## Setup the input\n",
    "\n",
    "Here we use the file ```input_config/striatum-test-input.json```.\n",
    "\n",
    "The input can be generated in serial or in parallel. To generate it in parallel, pass ```rc``` parameter as in the previous examples."
   ]
  },
  {
   "cell_type": "code",
   "execution_count": 1,
   "id": "federal-kidney",
   "metadata": {},
   "outputs": [
    {
     "name": "stdout",
     "output_type": "stream",
     "text": [
      "Writing spikes to networks/striatum_example/input-spikes.hdf5\n"
     ]
    }
   ],
   "source": [
    "import os\n",
    "from snudda.input import SnuddaInput\n",
    "\n",
    "network_path = os.path.join(\"networks\", \"striatum_example\")\n",
    "\n",
    "si = SnuddaInput(network_path=network_path, \n",
    "                 input_config_file=os.path.join(\"input_config\",\"striatum-test-input.json\"),\n",
    "                 verbose=False)\n",
    "si.generate()"
   ]
  },
  {
   "cell_type": "markdown",
   "id": "noted-sacrifice",
   "metadata": {},
   "source": [
    "## Compile the  NEURON mod files"
   ]
  },
  {
   "cell_type": "code",
   "execution_count": 2,
   "id": "durable-document",
   "metadata": {},
   "outputs": [
    {
     "name": "stdout",
     "output_type": "stream",
     "text": [
      "/home/hjorth/HBP/Snudda/examples/notebooks\n",
      "ls: cannot access '../../snudda/data/neurons/mechanisms/*.inc': No such file or directory\n",
      "COBJS=''\n",
      "\"/usr/local/nrn/share/nrn/libtool\" --tag=CC --mode=compile mpicc -DHAVE_CONFIG_H  -I. -I.. -I\"/usr/local/nrn/include/nrn\" -I\"/usr/local/nrn/x86_64/lib\"      -g -O2 -c -o mod_func.lo mod_func.c\n",
      "libtool: compile:  mpicc -DHAVE_CONFIG_H -I. -I.. -I/usr/local/nrn/include/nrn -I/usr/local/nrn/x86_64/lib -g -O2 -c mod_func.c  -fPIC -DPIC -o .libs/mod_func.o\n",
      "\"/usr/local/nrn/share/nrn/libtool\" --tag=CC --mode=link mpicc -module  -g -O2    -o libnrnmech.la -rpath \"/usr/local/nrn/x86_64/lib\"  bk_ch.lo bk_fs.lo bk_ms.lo ca_ch.lo cadyn_fs.lo cadyn_ms.lo cal12_ms.lo cal13_ms.lo cal_ch.lo caldyn_ms.lo can_fs.lo can_ms.lo cap_ch.lo caq_fs.lo caq_ms.lo car_fs.lo car_ms.lo cat32_ms.lo cat33_ms.lo concACh.lo concDAfile.lo concDA.lo hcn12_ch.lo hd_lts.lo im_lts.lo it_lts.lo kaf_fs.lo kaf_ms.lo kas_fs.lo kas_ms.lo kcnq_ch.lo kdrbca1_lts.lo kdr_fs.lo kdr_lts.lo kdr_ms.lo kir23_lts.lo kir2_ch.lo kir_fs.lo kir_ms.lo kv2_ch.lo Kv3_ch.lo kv4_ch.lo na2_ch.lo na3n_lts.lo na_ch.lo naf_fs.lo naf_lts.lo naf_ms.lo NO.lo par_ggap.lo sk_ch.lo sk_fs.lo sk_ms.lo tmampa.lo tmgabaa.lo tmglut_M1RH_D1.lo tmglut.lo tmnmda.lo vecevent.lo mod_func.lo  -L\"/usr/local/nrn/x86_64/lib\" -lnrnoc -loc -lmemacs -lnrnmpi -lscopmath -lsparse13 -lreadline -lncurses -ltinfo -L\"/usr/local/nrn/x86_64/lib\" -lnrniv -livoc -lneuron_gnu -lmeschach -lsundials       -lm -ldl\n",
      "libtool: link: rm -fr  .libs/libnrnmech.la .libs/libnrnmech.lai .libs/libnrnmech.so .libs/libnrnmech.so.0 .libs/libnrnmech.so.0.0.0\n",
      "libtool: link: mpicc -shared  -fPIC -DPIC  .libs/bk_ch.o .libs/bk_fs.o .libs/bk_ms.o .libs/ca_ch.o .libs/cadyn_fs.o .libs/cadyn_ms.o .libs/cal12_ms.o .libs/cal13_ms.o .libs/cal_ch.o .libs/caldyn_ms.o .libs/can_fs.o .libs/can_ms.o .libs/cap_ch.o .libs/caq_fs.o .libs/caq_ms.o .libs/car_fs.o .libs/car_ms.o .libs/cat32_ms.o .libs/cat33_ms.o .libs/concACh.o .libs/concDAfile.o .libs/concDA.o .libs/hcn12_ch.o .libs/hd_lts.o .libs/im_lts.o .libs/it_lts.o .libs/kaf_fs.o .libs/kaf_ms.o .libs/kas_fs.o .libs/kas_ms.o .libs/kcnq_ch.o .libs/kdrbca1_lts.o .libs/kdr_fs.o .libs/kdr_lts.o .libs/kdr_ms.o .libs/kir23_lts.o .libs/kir2_ch.o .libs/kir_fs.o .libs/kir_ms.o .libs/kv2_ch.o .libs/Kv3_ch.o .libs/kv4_ch.o .libs/na2_ch.o .libs/na3n_lts.o .libs/na_ch.o .libs/naf_fs.o .libs/naf_lts.o .libs/naf_ms.o .libs/NO.o .libs/par_ggap.o .libs/sk_ch.o .libs/sk_fs.o .libs/sk_ms.o .libs/tmampa.o .libs/tmgabaa.o .libs/tmglut_M1RH_D1.o .libs/tmglut.o .libs/tmnmda.o .libs/vecevent.o .libs/mod_func.o   -Wl,-rpath -Wl,/usr/local/nrn/x86_64/lib -Wl,-rpath -Wl,/usr/local/nrn/x86_64/lib -L/usr/local/nrn/x86_64/lib /usr/local/nrn/x86_64/lib/libnrnoc.so /usr/local/nrn/x86_64/lib/liboc.so /usr/local/nrn/x86_64/lib/libmemacs.so /usr/local/nrn/x86_64/lib/libnrnmpi.so /usr/local/nrn/x86_64/lib/libscopmath.so /usr/local/nrn/x86_64/lib/libsparse13.so -lreadline -lncurses -ltinfo /usr/local/nrn/x86_64/lib/libnrniv.so /usr/local/nrn/x86_64/lib/libivoc.so /usr/local/nrn/x86_64/lib/libneuron_gnu.so /usr/local/nrn/x86_64/lib/libmeschach.so /usr/local/nrn/x86_64/lib/libsundials.so -lm -ldl  -g -O2   -Wl,-soname -Wl,libnrnmech.so.0 -o .libs/libnrnmech.so.0.0.0\n",
      "libtool: link: (cd \".libs\" && rm -f \"libnrnmech.so.0\" && ln -s \"libnrnmech.so.0.0.0\" \"libnrnmech.so.0\")\n",
      "libtool: link: (cd \".libs\" && rm -f \"libnrnmech.so\" && ln -s \"libnrnmech.so.0.0.0\" \"libnrnmech.so\")\n",
      "libtool: link: ( cd \".libs\" && rm -f \"libnrnmech.la\" && ln -s \"../libnrnmech.la\" \"libnrnmech.la\" )\n",
      "Successfully created x86_64/special\n"
     ]
    }
   ],
   "source": [
    "!nrnivmodl ../../snudda/data/neurons/mechanisms"
   ]
  },
  {
   "cell_type": "markdown",
   "id": "polished-europe",
   "metadata": {},
   "source": [
    "## Run the neuron simulation\n",
    "\n",
    "The below code runs the simulation in serial, which is quite slow. To instead run it in parallel for 2s of simulation you can type:\n",
    "```mpiexec -n 6 snudda simulate networks/striatum_example --time 2```"
   ]
  },
  {
   "cell_type": "code",
   "execution_count": 3,
   "id": "iraqi-lincoln",
   "metadata": {},
   "outputs": [
    {
     "name": "stdout",
     "output_type": "stream",
     "text": [
      "numprocs=6\n",
      "Using input file networks/striatum_example/input-spikes.hdf5\n",
      "args: Namespace(action='simulate', disable_gj=False, input_file=None, mech_dir=None, network_file=None, path='networks/striatum_example', profile=False, randomseed=None, spikes_out=None, time=0.5, verbose=False, volt_out=None)\n",
      "Using input file networks/striatum_example/input-spikes.hdf5\n",
      "args: Namespace(action='simulate', disable_gj=False, input_file=None, mech_dir=None, network_file=None, path='networks/striatum_example', profile=False, randomseed=None, spikes_out=None, time=0.5, verbose=False, volt_out=None)\n",
      "Using input file networks/striatum_example/input-spikes.hdf5\n",
      "args: Namespace(action='simulate', disable_gj=False, input_file=None, mech_dir=None, network_file=None, path='networks/striatum_example', profile=False, randomseed=None, spikes_out=None, time=0.5, verbose=False, volt_out=None)\n",
      "Using input file networks/striatum_example/input-spikes.hdf5\n",
      "args: Namespace(action='simulate', disable_gj=False, input_file=None, mech_dir=None, network_file=None, path='networks/striatum_example', profile=False, randomseed=None, spikes_out=None, time=0.5, verbose=False, volt_out=None)\n",
      "Using input file networks/striatum_example/input-spikes.hdf5\n",
      "args: Namespace(action='simulate', disable_gj=False, input_file=None, mech_dir=None, network_file=None, path='networks/striatum_example', profile=False, randomseed=None, spikes_out=None, time=0.5, verbose=False, volt_out=None)\n",
      "Using input file networks/striatum_example/input-spikes.hdf5\n",
      "args: Namespace(action='simulate', disable_gj=False, input_file=None, mech_dir=None, network_file=None, path='networks/striatum_example', profile=False, randomseed=None, spikes_out=None, time=0.5, verbose=False, volt_out=None)\n",
      "Loading 501 neurons with 109542 synapses and 27 gap junctions\n",
      "Loading 501 neurons with 109542 synapses and 27 gap junctions\n",
      "Loading 501 neurons with 109542 synapses and 27 gap junctions\n",
      "Loading 501 neurons with 109542 synapses and 27 gap junctions\n",
      "Loading 501 neurons with 109542 synapses and 27 gap junctions\n",
      "Loading 501 neurons with 109542 synapses and 27 gap junctions\n",
      "Running simulation for 500.0 ms.\n",
      "Running simulation for 500.0 ms.\n",
      "Running simulation for 500.0 ms.\n",
      "Running simulation for 500.0 ms.\n",
      "Running simulation for 500.0 ms.\n",
      "Running simulation for 500.0 ms.\n",
      "Running simulation for 0.5 s\n",
      "Running simulation for 0.5 s\n",
      "Running simulation for 0.5 s\n",
      "Running simulation for 0.5 s\n",
      "Running simulation for 0.5 s\n",
      "Running simulation for 0.5 s\n",
      "1% done. Elapsed: 20.4 s, estimated time left: 2023.6 s\n",
      "6% done. Elapsed: 120.6 s, estimated time left: 1888.7 s\n",
      "11% done. Elapsed: 220.9 s, estimated time left: 1787.4 s\n",
      "16% done. Elapsed: 321.7 s, estimated time left: 1688.7 s\n",
      "21% done. Elapsed: 422.1 s, estimated time left: 1587.9 s\n",
      "26% done. Elapsed: 522.5 s, estimated time left: 1487.2 s\n",
      "31% done. Elapsed: 622.9 s, estimated time left: 1386.5 s\n",
      "36% done. Elapsed: 723.5 s, estimated time left: 1286.1 s\n",
      "41% done. Elapsed: 823.9 s, estimated time left: 1185.6 s\n",
      "46% done. Elapsed: 924.6 s, estimated time left: 1085.4 s\n",
      "51% done. Elapsed: 1025.0 s, estimated time left: 984.8 s\n",
      "57% done. Elapsed: 1144.7 s, estimated time left: 863.6 s\n",
      "63% done. Elapsed: 1264.4 s, estimated time left: 742.6 s\n",
      "69% done. Elapsed: 1384.0 s, estimated time left: 621.8 s\n",
      "75% done. Elapsed: 1500.3 s, estimated time left: 500.1 s\n",
      "81% done. Elapsed: 1615.9 s, estimated time left: 379.0 s\n",
      "87% done. Elapsed: 1731.7 s, estimated time left: 258.8 s\n",
      "93% done. Elapsed: 1847.3 s, estimated time left: 139.0 s\n",
      "99% done. Elapsed: 1962.5 s, estimated time left: 19.8 s\n",
      "Simulation run time: 1983.6011129319668 s\n",
      "Simulation done, saving output\n",
      "Writing spike times to networks/striatum_example/simulation/network-output-spikes-666.txt\n",
      "Simulation run time: 1983.0535651679384 s\n",
      "Simulation done, saving output\n",
      "Writing spike times to networks/striatum_example/simulation/network-output-spikes-666.txt\n",
      "Simulation run time: 1981.7020000990015 s\n",
      "Simulation done, saving output\n",
      "Writing spike times to networks/striatum_example/simulation/network-output-spikes-666.txt\n",
      "Simulation run time: 1982.873185750097 s\n",
      "Simulation done, saving output\n",
      "Writing spike times to networks/striatum_example/simulation/network-output-spikes-666.txt\n",
      "Simulation run time: 1983.2048558500828 s\n",
      "Simulation done, saving output\n",
      "Writing spike times to networks/striatum_example/simulation/network-output-spikes-666.txt\n",
      "Simulation run time: 1982.9399391690968 s\n",
      "Simulation done, saving output\n",
      "Writing spike times to networks/striatum_example/simulation/network-output-spikes-666.txt\n",
      "Program run time: 2027.504946156987\n"
     ]
    }
   ],
   "source": [
    "!mpiexec -n 6 snudda simulate networks/striatum_example --time 0.5"
   ]
  },
  {
   "cell_type": "markdown",
   "id": "outstanding-specific",
   "metadata": {},
   "source": [
    "See ```striatum_example_plot.ipynb``` for information on plotting a spike raster."
   ]
  }
 ],
 "metadata": {
  "kernelspec": {
   "display_name": "Python 3",
   "language": "python",
   "name": "python3"
  },
  "language_info": {
   "codemirror_mode": {
    "name": "ipython",
    "version": 3
   },
   "file_extension": ".py",
   "mimetype": "text/x-python",
   "name": "python",
   "nbconvert_exporter": "python",
   "pygments_lexer": "ipython3",
   "version": "3.7.3"
  }
 },
 "nbformat": 4,
 "nbformat_minor": 5
}
