{
 "cells": [
  {
   "cell_type": "markdown",
   "id": "dependent-accommodation",
   "metadata": {},
   "source": [
    "# Simulate the striatum example network\n",
    "\n",
    "This example continues ```striatum_example.ipynb``` and shows how to setup input and run the simulation."
   ]
  },
  {
   "cell_type": "markdown",
   "id": "continuous-velvet",
   "metadata": {},
   "source": [
    "## Setup the input\n",
    "\n",
    "Here we use the file ```input_config/striatum-test-input.json```.\n",
    "\n",
    "The input can be generated in serial or in parallel. To generate it in parallel, pass ```rc``` parameter as in the previous examples."
   ]
  },
  {
   "cell_type": "code",
   "execution_count": 2,
   "id": "federal-kidney",
   "metadata": {},
   "outputs": [
    {
     "name": "stdout",
     "output_type": "stream",
     "text": [
      "Writing spikes to networks/striatum_example/input-spikes.hdf5\n"
     ]
    }
   ],
   "source": [
    "import os\n",
    "from snudda.input import SnuddaInput\n",
    "\n",
    "network_path = os.path.join(\"networks\", \"striatum_example\")\n",
    "\n",
    "si = SnuddaInput(network_path=network_path, \n",
    "                 input_config_file=os.path.join(\"input_config\",\"striatum-test-input.json\"),\n",
    "                 verbose=False)\n",
    "si.generate()"
   ]
  },
  {
   "cell_type": "markdown",
   "id": "noted-sacrifice",
   "metadata": {},
   "source": [
    "## Compile the  NEURON mod files\n",
    "If you run this on Windows you need to exchange / for \\ in the path below."
   ]
  },
  {
   "cell_type": "code",
   "execution_count": null,
   "id": "durable-document",
   "metadata": {},
   "outputs": [],
   "source": [
    "!nrnivmodl ../../snudda/data/neurons/mechanisms"
   ]
  },
  {
   "cell_type": "markdown",
   "id": "polished-europe",
   "metadata": {},
   "source": [
    "## Run the neuron simulation\n",
    "\n",
    "Here we run the network for 3.5 seconds."
   ]
  },
  {
   "cell_type": "code",
   "execution_count": 3,
   "id": "iraqi-lincoln",
   "metadata": {},
   "outputs": [],
   "source": [
    "!mpiexec -n 6 snudda simulate networks/striatum_example --time 3.5"
   ]
  },
  {
   "cell_type": "markdown",
   "id": "outstanding-specific",
   "metadata": {},
   "source": [
    "See ```striatum_example_plot.ipynb``` for information on plotting a spike raster."
   ]
  }
 ],
 "metadata": {
  "kernelspec": {
   "display_name": "Python 3 (ipykernel)",
   "language": "python",
   "name": "python3"
  },
  "language_info": {
   "codemirror_mode": {
    "name": "ipython",
    "version": 3
   },
   "file_extension": ".py",
   "mimetype": "text/x-python",
   "name": "python",
   "nbconvert_exporter": "python",
   "pygments_lexer": "ipython3",
   "version": "3.9.2"
  }
 },
 "nbformat": 4,
 "nbformat_minor": 5
}
