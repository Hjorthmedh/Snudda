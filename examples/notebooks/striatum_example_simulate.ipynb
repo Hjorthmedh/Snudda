{
 "cells": [
  {
   "cell_type": "markdown",
   "id": "individual-dance",
   "metadata": {},
   "source": [
    "# Simulate the striatum example network\n",
    "\n",
    "This example continues ```striatum_example.ipynb``` and shows how to setup input and run the simulation."
   ]
  },
  {
   "cell_type": "markdown",
   "id": "outstanding-memorial",
   "metadata": {},
   "source": [
    "## Setup the input\n",
    "\n",
    "Here we use the file ```input_config/striatum-test-input.json```.\n",
    "\n",
    "The input can be generated in serial or in parallel. To generate it in parallel, pass ```rc``` parameter as in the previous examples."
   ]
  },
  {
   "cell_type": "code",
   "execution_count": 1,
   "id": "married-channels",
   "metadata": {},
   "outputs": [],
   "source": [
    "import os\n",
    "from snudda.input import SnuddaInput\n",
    "\n",
    "network_path = os.path.join(\"networks\", \"striatum_example\")\n",
    "\n",
    "si = SnuddaInput(network_path=network_path, \n",
    "                 input_config_file=os.path.join(\"input_config\",\"striatum-test-input.json\"),\n",
    "                 verbose=False)\n",
    "si.generate()"
   ]
  },
  {
   "cell_type": "markdown",
   "id": "hearing-sheep",
   "metadata": {},
   "source": [
    "## Compile the  NEURON mod files"
   ]
  },
  {
   "cell_type": "code",
   "execution_count": null,
   "id": "recent-transition",
   "metadata": {},
   "outputs": [],
   "source": [
    "!nrnivmodl ../../snudda/data/neurons/mechanisms"
   ]
  },
  {
   "cell_type": "markdown",
   "id": "sweet-robinson",
   "metadata": {},
   "source": [
    "## Run the neuron simulation\n",
    "\n",
    "To run in parallel for 2s of simulation you can type:\n",
    "```snudda simulate networks/striatum_example -t 2```"
   ]
  },
  {
   "cell_type": "code",
   "execution_count": null,
   "id": "complimentary-sucking",
   "metadata": {},
   "outputs": [
    {
     "name": "stdout",
     "output_type": "stream",
     "text": [
      "Loading 5000 neurons with 2765692 synapses and 847 gap junctions\n"
     ]
    }
   ],
   "source": [
    "from mpi4py import MPI\n",
    "from neuron import h\n",
    "pc = h.ParallelContext()\n",
    "\n",
    "from snudda.simulate import SnuddaSimulate\n",
    "\n",
    "sim = SnuddaSimulate(network_path=network_path)\n",
    "\n",
    "sim.add_external_input()\n",
    "sim.check_memory_status()\n",
    "\n",
    "sim.add_recording(side_len=None)  # Side len let you record from a subset\n",
    "\n",
    "sim_time = 0.5 \n",
    "\n",
    "t_sim = sim_time * 1000  # Convert from s to ms for Neuron simulator\n",
    "sim.run(t_sim)  # In milliseconds\n",
    "\n",
    "volt_file = os.path.join(network_path, \"network_output_volt.txt\")\n",
    "spike_file = os.path.join(network_path, \"network_output_spikes.txt\")\n",
    "\n",
    "if spike_file is not None:\n",
    "    sim.write_spikes(spike_file)\n",
    "\n",
    "if volt_file is not None:\n",
    "    sim.write_voltage(volt_file)\n"
   ]
  },
  {
   "cell_type": "code",
   "execution_count": null,
   "id": "thermal-mixture",
   "metadata": {},
   "outputs": [],
   "source": []
  },
  {
   "cell_type": "code",
   "execution_count": null,
   "id": "instant-tackle",
   "metadata": {},
   "outputs": [],
   "source": []
  }
 ],
 "metadata": {
  "kernelspec": {
   "display_name": "Python 3",
   "language": "python",
   "name": "python3"
  },
  "language_info": {
   "codemirror_mode": {
    "name": "ipython",
    "version": 3
   },
   "file_extension": ".py",
   "mimetype": "text/x-python",
   "name": "python",
   "nbconvert_exporter": "python",
   "pygments_lexer": "ipython3",
   "version": "3.7.3"
  }
 },
 "nbformat": 4,
 "nbformat_minor": 5
}
