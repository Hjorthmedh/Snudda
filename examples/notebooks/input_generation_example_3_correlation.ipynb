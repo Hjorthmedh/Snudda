{
 "cells": [
  {
   "cell_type": "markdown",
   "id": "digital-location",
   "metadata": {},
   "source": [
    "We need to generate a network with populations. Please run the population unit example notebook first."
   ]
  },
  {
   "cell_type": "code",
   "execution_count": null,
   "id": "tough-league",
   "metadata": {},
   "outputs": [],
   "source": [
    "import os\n",
    "from snudda.input import SnuddaInput\n",
    "network_path = os.path.join(\"networks\",\"simple_example\")\n",
    "si = SnuddaInput(network_path=network_path, \n",
    "                 input_config_file=os.path.join(\"input_config\",\"simple-input-3.json\"),\n",
    "                 verbose=True)\n",
    "si.generate()"
   ]
  },
  {
   "cell_type": "code",
   "execution_count": null,
   "id": "increasing-commonwealth",
   "metadata": {},
   "outputs": [],
   "source": [
    "from snudda.plotting.plot_input import PlotInput\n",
    "input_file = os.path.join(network_path, \"input-spikes.hdf5\")\n",
    "spi = PlotInput(input_file)"
   ]
  },
  {
   "cell_type": "code",
   "execution_count": null,
   "id": "seven-lounge",
   "metadata": {},
   "outputs": [],
   "source": [
    "spi.plot_input(\"dSPN\", 20, fig_size=(15,19))"
   ]
  }
 ],
 "metadata": {
  "kernelspec": {
   "display_name": "Python 3",
   "language": "python",
   "name": "python3"
  },
  "language_info": {
   "codemirror_mode": {
    "name": "ipython",
    "version": 3
   },
   "file_extension": ".py",
   "mimetype": "text/x-python",
   "name": "python",
   "nbconvert_exporter": "python",
   "pygments_lexer": "ipython3",
   "version": "3.7.3"
  }
 },
 "nbformat": 4,
 "nbformat_minor": 5
}
