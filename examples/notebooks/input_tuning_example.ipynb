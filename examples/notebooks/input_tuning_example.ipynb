{
 "cells": [
  {
   "cell_type": "markdown",
   "id": "heated-thousand",
   "metadata": {},
   "source": [
    "Different morphologies of the same neuron type might require different activation to reach comparable firing frequency. InputScaling simulates a network of a neuron type with different number of inputs, and different frequency to infer what level of input is needed.\n",
    "\n",
    "Here we look at the input to ```neuron_types=\"fs\"```.\n",
    "\n",
    "During a simulation we can vary the input frequency, but not the number of inputs coupled to a neuron, so we use a set of ```num_replicas``` copies of each morphology, each receiving a different number of inputs from ```num_input_min``` to ```num_input_max``` of a given ```input_type``` (e.g. for striatum \"cortical\" or \"thalamic\"). \n",
    "\n",
    "A set of input frequencies are tested, specified by ```input_frequency_range```, and each of these frequencies is run for ```input_duration``` seconds. In this example we create a small example, but we recommend that use use a longer input duration (e.g. 10 seconds, or possibly more)."
   ]
  },
  {
   "cell_type": "code",
   "execution_count": 1,
   "id": "silent-heading",
   "metadata": {},
   "outputs": [],
   "source": [
    "import os\n",
    "\n",
    "bg_data_path = os.path.join(\"..\",\"..\",\"..\", \"BasalGangliaData\", \"data\")\n",
    "if os.path.isdir(bg_data_path):\n",
    "    os.environ[\"SNUDDA_DATA\"] = bg_data_path\n",
    "\n",
    "from snudda.input.input_tuning import InputTuning\n",
    "network_path = os.path.join(\"networks\", \"input_tuning\")\n",
    "input_tuning = InputTuning(network_path)"
   ]
  },
  {
   "cell_type": "markdown",
   "id": "beginning-preliminary",
   "metadata": {},
   "source": [
    "We create a network without any synapses and connect different number of external inputs to the neurons. Each neuron then receives a range of input frequencies. Here ```neurons_path``` points to the folder that contains all the different neuron types. Note that we use ```$DATA``` to refer to the ```snudda/data``` folder, but you can use an absolute path instead if you have your own neurons folder. If you use your own neurons you probably want to compile the neuron mechanisms from another folder when calling ```nrnivmodl``` below.\n",
    "\n",
    "Also note that the folder names for the different neurons must be lowercase."
   ]
  },
  {
   "cell_type": "code",
   "execution_count": 2,
   "id": "alert-response",
   "metadata": {
    "scrolled": true
   },
   "outputs": [
    {
     "name": "stdout",
     "output_type": "stream",
     "text": [
      "Skipping neuron type lts\n",
      "Skipping neuron type dspn\n",
      "Skipping neuron type ispn\n",
      "Skipping neuron type chin\n",
      "Found 5 neurons in /home/hjorth/HBP/BasalGangliaData/data/neurons/striatum/fs\n",
      "Instantiates par_id = 0\n",
      "morph_tag = DR-rat-Mar-13-08-1-536-R-cor-rep-res3-var0.swc\n",
      "morph_tag = DR-rat-Mar-13-08-1-536-R-cor-rep-res3-var1.swc\n",
      "morph_tag = DR-rat-Mar-13-08-1-536-R-cor-rep-res3-var2.swc\n",
      "morph_tag = DR-rat-Mar-13-08-1-536-R-cor-rep-res3-var3.swc\n",
      "morph_tag = DR-rat-Mar-13-08-1-536-R-cor-rep-res3-var4.swc\n",
      "morph_tag = DR-rat-Mar-13-08-1-536-R-cor-rep-res3-var5.swc\n",
      "morph_tag = DR-rat-Mar-13-08-1-536-R-cor-rep-res3-var6.swc\n",
      "morph_tag = DR-rat-Mar-13-08-1-536-R-cor-rep-res3-var7.swc\n",
      "morph_tag = DR-rat-Mar-13-08-1-536-R-cor-rep-res3-var8.swc\n",
      "Instantiates par_id = 1\n",
      "Instantiates par_id = 2\n",
      "Instantiates par_id = 3\n",
      "Instantiates par_id = 0\n",
      "morph_tag = MTC251001A-IDB-cor-rep-res3-var0.swc\n",
      "morph_tag = MTC251001A-IDB-cor-rep-res3-var1.swc\n",
      "morph_tag = MTC251001A-IDB-cor-rep-res3-var2.swc\n",
      "morph_tag = MTC251001A-IDB-cor-rep-res3-var3.swc\n",
      "morph_tag = MTC251001A-IDB-cor-rep-res3-var4.swc\n",
      "morph_tag = MTC251001A-IDB-cor-rep-res3-var5.swc\n",
      "morph_tag = MTC251001A-IDB-cor-rep-res3-var6.swc\n",
      "morph_tag = MTC251001A-IDB-cor-rep-res3-var7.swc\n",
      "morph_tag = MTC251001A-IDB-cor-rep-res3-var8.swc\n",
      "Instantiates par_id = 1\n",
      "Instantiates par_id = 2\n",
      "Instantiates par_id = 3\n",
      "Instantiates par_id = 4\n",
      "Instantiates par_id = 5\n",
      "Instantiates par_id = 6\n",
      "Instantiates par_id = 0\n",
      "morph_tag = MTC180800A-IDB-cor-rep-res3-var0.swc\n",
      "morph_tag = MTC180800A-IDB-cor-rep-res3-var1.swc\n",
      "morph_tag = MTC180800A-IDB-cor-rep-res3-var2.swc\n",
      "morph_tag = MTC180800A-IDB-cor-rep-res3-var4.swc\n",
      "morph_tag = MTC180800A-IDB-cor-rep-res3-var6.swc\n",
      "morph_tag = MTC180800A-IDB-cor-rep-res3-var8.swc\n",
      "Instantiates par_id = 1\n",
      "Instantiates par_id = 2\n",
      "morph_tag = MTC180800A-IDB-cor-rep-res3-var3.swc\n",
      "Instantiates par_id = 3\n",
      "morph_tag = MTC180800A-IDB-cor-rep-res3-var5.swc\n",
      "morph_tag = MTC180800A-IDB-cor-rep-res3-var7.swc\n",
      "Instantiates par_id = 0\n",
      "morph_tag = BE104E-cor-rep-res3-var0.swc\n",
      "morph_tag = BE104E-cor-rep-res3-var1.swc\n",
      "morph_tag = BE104E-cor-rep-res3-var2.swc\n",
      "morph_tag = BE104E-cor-rep-res3-var3.swc\n",
      "morph_tag = BE104E-cor-rep-res3-var4.swc\n",
      "morph_tag = BE104E-cor-rep-res3-var5.swc\n",
      "morph_tag = BE104E-cor-rep-res3-var6.swc\n",
      "morph_tag = BE104E-cor-rep-res3-var7.swc\n",
      "morph_tag = BE104E-cor-rep-res3-var8.swc\n",
      "Instantiates par_id = 1\n",
      "Instantiates par_id = 2\n",
      "Instantiates par_id = 3\n",
      "Instantiates par_id = 4\n",
      "Instantiates par_id = 0\n",
      "morph_tag = MTC180800A-IDB-cor-rep-res3-var0.swc\n",
      "morph_tag = MTC180800A-IDB-cor-rep-res3-var1.swc\n",
      "morph_tag = MTC180800A-IDB-cor-rep-res3-var2.swc\n",
      "morph_tag = MTC180800A-IDB-cor-rep-res3-var3.swc\n",
      "morph_tag = MTC180800A-IDB-cor-rep-res3-var4.swc\n",
      "morph_tag = MTC180800A-IDB-cor-rep-res3-var5.swc\n",
      "morph_tag = MTC180800A-IDB-cor-rep-res3-var6.swc\n",
      "morph_tag = MTC180800A-IDB-cor-rep-res3-var7.swc\n",
      "morph_tag = MTC180800A-IDB-cor-rep-res3-var8.swc\n",
      "Instantiates par_id = 1\n",
      "Instantiates par_id = 2\n",
      "Instantiates par_id = 3\n",
      "Instantiates par_id = 4\n",
      "Writing network config file to networks/input_tuning/network-config.json\n",
      "No d_view specified, running distribute neurons in serial\n",
      "No connections specified in connectivity_distribution.\n",
      "Using cortical synapse density for input.\n",
      "Loading 25 neurons with 0 synapses and 0 gap junctions\n",
      "Writing spikes to networks/input_tuning/input.hdf5\n"
     ]
    }
   ],
   "source": [
    "neurons_path = os.path.join(\"$DATA\", \"neurons\", \"striatum\")\n",
    "input_tuning.setup_network(neurons_path=neurons_path, \n",
    "                           num_replicas=5,\n",
    "                           neuron_types=\"fs\")\n",
    "input_tuning.setup_input(input_type=\"cortical\",  # eg. \"cortical\" or \"thalamic\"\n",
    "                         num_input_min=100,\n",
    "                         num_input_max=1000,\n",
    "                         input_duration=2.0,\n",
    "                         input_frequency_range=[1.0, 2.0, 3.0])"
   ]
  },
  {
   "cell_type": "code",
   "execution_count": 3,
   "id": "spread-diamond",
   "metadata": {},
   "outputs": [
    {
     "name": "stdout",
     "output_type": "stream",
     "text": [
      "Writing spikes to networks/input_tuning/input.hdf5\n"
     ]
    }
   ],
   "source": [
    "from snudda.input import SnuddaInput\n",
    "\n",
    "si = SnuddaInput(input_config_file=input_tuning.input_config_file,\n",
    "                 hdf5_network_file=input_tuning.network_file,\n",
    "                 spike_data_filename=input_tuning.input_spikes_file,\n",
    "                 time=input_tuning.max_time)\n",
    "si.generate()"
   ]
  },
  {
   "cell_type": "markdown",
   "id": "dynamic-catalog",
   "metadata": {},
   "source": [
    "## For large runs, to simulate in parallel use:\n",
    "\n",
    "```mpiexec -n 4 python3 ../../snudda/input/input_tuning.py simulate networks/input_tuning/```\n",
    "\n",
    "If you have more than four cores available on your machine, increase the number of workers accordingly.\n",
    "\n",
    "## Below we just run it in serial in the notebook:\n",
    "\n",
    "```mech_dir=None``` uses default mechanism directory in ```$SNUDDA_DATA/neurons/mechanisms```"
   ]
  },
  {
   "cell_type": "code",
   "execution_count": 4,
   "id": "sufficient-progressive",
   "metadata": {
    "scrolled": true
   },
   "outputs": [
    {
     "name": "stdout",
     "output_type": "stream",
     "text": [
      "Running on master node:  nrnivmodl /home/hjorth/HBP/BasalGangliaData/data/neurons/mechanisms\n",
      "Could not find compiled mechanisms. Compile using 'nrnivmodl /home/hjorth/HBP/BasalGangliaData/data/neurons/mechanisms' and retry simulation.\n"
     ]
    },
    {
     "ename": "SystemExit",
     "evalue": "-1",
     "output_type": "error",
     "traceback": [
      "An exception has occurred, use %tb to see the full traceback.\n",
      "\u001b[0;31mSystemExit\u001b[0m\u001b[0;31m:\u001b[0m -1\n"
     ]
    },
    {
     "name": "stderr",
     "output_type": "stream",
     "text": [
      "/home/hjorth/.local/lib/python3.7/site-packages/IPython/core/interactiveshell.py:3445: UserWarning: To exit: use 'exit', 'quit', or Ctrl-D.\n",
      "  warn(\"To exit: use 'exit', 'quit', or Ctrl-D.\", stacklevel=1)\n"
     ]
    }
   ],
   "source": [
    "input_tuning.simulate(mech_dir=None)"
   ]
  },
  {
   "cell_type": "code",
   "execution_count": null,
   "id": "alternate-worry",
   "metadata": {},
   "outputs": [],
   "source": [
    "input_tuning.analyse_results(show_plots=True)"
   ]
  },
  {
   "cell_type": "code",
   "execution_count": null,
   "id": "close-operation",
   "metadata": {},
   "outputs": [],
   "source": []
  }
 ],
 "metadata": {
  "kernelspec": {
   "display_name": "Python 3",
   "language": "python",
   "name": "python3"
  },
  "language_info": {
   "codemirror_mode": {
    "name": "ipython",
    "version": 3
   },
   "file_extension": ".py",
   "mimetype": "text/x-python",
   "name": "python",
   "nbconvert_exporter": "python",
   "pygments_lexer": "ipython3",
   "version": "3.7.3"
  }
 },
 "nbformat": 4,
 "nbformat_minor": 5
}
