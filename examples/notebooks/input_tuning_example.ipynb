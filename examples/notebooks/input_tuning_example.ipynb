{
 "cells": [
  {
   "cell_type": "markdown",
   "id": "heated-thousand",
   "metadata": {},
   "source": [
    "Different morphologies of the same neuron type might require different activation to reach comparable firing frequency. InputScaling simulates a network of a neuron type with different number of inputs, and different frequency to infer what level of input is needed.\n",
    "\n",
    "Here we look at the input to ```neuron_types=\"fs\"```.\n",
    "\n",
    "During a simulation we can vary the input frequency, but not the number of inputs coupled to a neuron, so we use a set of ```num_replicas``` copies of each morphology, each receiving a different number of inputs from ```num_input_min``` to ```num_input_max``` of a given ```input_type``` (e.g. for striatum \"cortical\" or \"thalamic\"). \n",
    "\n",
    "A set of input frequencies are tested, specified by ```input_frequency_range```, and each of these frequencies is run for ```input_duration``` seconds. In this example we create a small example, but we recommend that use use a longer input duration (e.g. 10 seconds, or possibly more)."
   ]
  },
  {
   "cell_type": "code",
   "execution_count": null,
   "id": "silent-heading",
   "metadata": {},
   "outputs": [],
   "source": [
    "import os\n",
    "from snudda.input.input_tuning import InputTuning\n",
    "network_path = os.path.join(\"networks\", \"input_tuning\")\n",
    "input_tuning = InputTuning(network_path)"
   ]
  },
  {
   "cell_type": "markdown",
   "id": "beginning-preliminary",
   "metadata": {},
   "source": [
    "We create a network without any synapses and connect different number of external inputs to the neurons. Each neuron then receives a range of input frequencies. Here ```neurons_path``` points to the folder that contains all the different neuron types. Note that we use ```$DATA``` to refer to the ```snudda/data``` folder, but you can use an absolute path instead if you have your own neurons folder. If you use your own neurons you probably want to compile the neuron mechanisms from another folder when calling ```nrnivmodl``` below.\n",
    "\n",
    "Also note that the folder names for the different neurons must be lowercase."
   ]
  },
  {
   "cell_type": "code",
   "execution_count": null,
   "id": "alert-response",
   "metadata": {},
   "outputs": [],
   "source": [
    "neurons_path = os.path.join(\"$DATA\", \"neurons\", \"striatum\")\n",
    "input_tuning.setup_network(neurons_path=neurons_path, \n",
    "                           num_replicas=20,\n",
    "                           neuron_types=\"fs\",\n",
    "                           parameter_id=0,\n",
    "                           morphology_id=0,\n",
    "                           modulation_id=0)\n",
    "input_tuning.setup_input(input_type=\"cortical\",  # eg. \"cortical\" or \"thalamic\"\n",
    "                         num_input_min=10,\n",
    "                         num_input_max=500,\n",
    "                         input_duration=2.0,\n",
    "                         input_frequency_range=[1.0, 2.0, 3.0, 5.0, 10.0])"
   ]
  },
  {
   "cell_type": "code",
   "execution_count": null,
   "id": "spread-diamond",
   "metadata": {},
   "outputs": [],
   "source": [
    "from snudda.input import SnuddaInput\n",
    "\n",
    "si = SnuddaInput(input_config_file=input_tuning.input_config_file,\n",
    "                 hdf5_network_file=input_tuning.network_file,\n",
    "                 spike_data_filename=input_tuning.input_spikes_file,\n",
    "                 time=input_tuning.max_time)\n",
    "si.generate()"
   ]
  },
  {
   "cell_type": "code",
   "execution_count": null,
   "id": "defensive-equipment",
   "metadata": {},
   "outputs": [],
   "source": [
    "!nrnivmodl ../../snudda/data/neurons/mechanisms"
   ]
  },
  {
   "cell_type": "markdown",
   "id": "dynamic-catalog",
   "metadata": {},
   "source": [
    "## For large runs, to simulate in parallel use:\n",
    "\n",
    "```mpiexec -n 4 python3 ../../snudda/input/input_tuning.py simulate networks/input_tuning/```\n",
    "\n",
    "If you have more than four cores available on your machine, increase the number of workers accordingly.\n",
    "\n",
    "## Below we just run it in serial in the notebook:"
   ]
  },
  {
   "cell_type": "code",
   "execution_count": null,
   "id": "sufficient-progressive",
   "metadata": {
    "scrolled": true
   },
   "outputs": [],
   "source": [
    "input_tuning.simulate()"
   ]
  },
  {
   "cell_type": "markdown",
   "id": "b3a14429",
   "metadata": {},
   "source": [
    "## Analyse results"
   ]
  },
  {
   "cell_type": "code",
   "execution_count": null,
   "id": "alternate-worry",
   "metadata": {
    "scrolled": false
   },
   "outputs": [],
   "source": [
    "%matplotlib notebook\n",
    "\n",
    "input_tuning.analyse_results(show_plots=True)"
   ]
  },
  {
   "cell_type": "code",
   "execution_count": null,
   "id": "close-operation",
   "metadata": {},
   "outputs": [],
   "source": []
  },
  {
   "cell_type": "code",
   "execution_count": null,
   "id": "9ba3a938",
   "metadata": {},
   "outputs": [],
   "source": []
  }
 ],
 "metadata": {
  "kernelspec": {
   "display_name": "Python 3",
   "language": "python",
   "name": "python3"
  },
  "language_info": {
   "codemirror_mode": {
    "name": "ipython",
    "version": 3
   },
   "file_extension": ".py",
   "mimetype": "text/x-python",
   "name": "python",
   "nbconvert_exporter": "python",
   "pygments_lexer": "ipython3",
   "version": "3.7.3"
  }
 },
 "nbformat": 4,
 "nbformat_minor": 5
}
