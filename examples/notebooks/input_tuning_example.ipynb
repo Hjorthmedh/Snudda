{
 "cells": [
  {
   "cell_type": "markdown",
   "id": "heated-thousand",
   "metadata": {},
   "source": [
    "Different morphologies of the same neuron type might require different activation to reach comparable firing frequency. InputScaling simulates a network of a neuron type with different number of inputs, and different frequency to infer what level of input is needed.\n",
    "\n",
    "Here we look at the input to ```neuron_types=\"fs\"```.\n",
    "\n",
    "During a simulation we can vary the input frequency, but not the number of inputs coupled to a neuron, so we use a set of ```num_replicas``` copies of each morphology, each receiving a different number of inputs from ```num_input_min``` to ```num_input_max``` of a given ```input_type``` (e.g. for striatum \"cortical\" or \"thalamic\"). Note that if 100 inputs are requested, then on average 100 inputs will be placed, but the number can vary as the placement is random.\n",
    "\n",
    "A set of input frequencies are tested, specified by ```input_frequency_range```, and each of these frequencies is run for ```input_duration``` seconds. In this example we create a small example, but we recommend that use use a longer input duration (e.g. 10 seconds, or possibly more).\n",
    "\n",
    "The user can specify ```parameter_id```, ```morphology_id``` and (neuron) ```modulation_id``` to be used for the neuron model. Each parameter_id can have multiple morphologies associated with it. This means that  ```parameter_id=0, morphology_id=0``` might refer to a different morphology than ```parameter_id=1, morphology_id=0```. Since ```morphology_id=0``` simply means the first morphology in the list of available morphologies for a given ```parameter_id```."
   ]
  },
  {
   "cell_type": "code",
   "execution_count": 1,
   "id": "silent-heading",
   "metadata": {},
   "outputs": [],
   "source": [
    "import os\n",
    "from snudda.input.input_tuning import InputTuning\n",
    "network_path = os.path.join(\"networks\", \"input_tuning\")\n",
    "input_tuning = InputTuning(network_path)"
   ]
  },
  {
   "cell_type": "markdown",
   "id": "beginning-preliminary",
   "metadata": {},
   "source": [
    "We create a network without any synapses and connect different number of external inputs to the neurons. Each neuron then receives a range of input frequencies. Here ```neurons_path``` points to the folder that contains all the different neuron types. Note that we use ```$DATA``` to refer to the ```snudda/data``` folder, but you can use an absolute path instead if you have your own neurons folder. If you use your own neurons you probably want to compile the neuron mechanisms from another folder when calling ```nrnivmodl``` below.\n",
    "\n",
    "Also note that the folder names for the different neurons must be lowercase."
   ]
  },
  {
   "cell_type": "code",
   "execution_count": 2,
   "id": "alert-response",
   "metadata": {},
   "outputs": [
    {
     "name": "stdout",
     "output_type": "stream",
     "text": [
      "Skipping neuron type chin\n",
      "Skipping neuron type ispn\n",
      "Skipping neuron type dspn\n"
     ]
    },
    {
     "ename": "FileNotFoundError",
     "evalue": "[Errno 2] No such file or directory: '/home/hjorth/HBP/Snudda/snudda/data/neurons/striatum/fs/str-fs-e180418_FS5-mMTC251001A-IDB-v20190301/meta.json'",
     "output_type": "error",
     "traceback": [
      "\u001b[0;31m---------------------------------------------------------------------------\u001b[0m",
      "\u001b[0;31mFileNotFoundError\u001b[0m                         Traceback (most recent call last)",
      "\u001b[0;32m<ipython-input-2-ad63fea30bf8>\u001b[0m in \u001b[0;36m<module>\u001b[0;34m\u001b[0m\n\u001b[1;32m      2\u001b[0m input_tuning.setup_network(neurons_path=neurons_path, \n\u001b[1;32m      3\u001b[0m                            \u001b[0mnum_replicas\u001b[0m\u001b[0;34m=\u001b[0m\u001b[0;36m20\u001b[0m\u001b[0;34m,\u001b[0m\u001b[0;34m\u001b[0m\u001b[0;34m\u001b[0m\u001b[0m\n\u001b[0;32m----> 4\u001b[0;31m                            neuron_types=\"fs\")\n\u001b[0m\u001b[1;32m      5\u001b[0m input_tuning.setup_input(input_type=\"cortical\",  # eg. \"cortical\" or \"thalamic\"\n\u001b[1;32m      6\u001b[0m                          \u001b[0mnum_input_min\u001b[0m\u001b[0;34m=\u001b[0m\u001b[0;36m10\u001b[0m\u001b[0;34m,\u001b[0m\u001b[0;34m\u001b[0m\u001b[0;34m\u001b[0m\u001b[0m\n",
      "\u001b[0;32m~/HBP/Snudda/snudda/input/input_tuning.py\u001b[0m in \u001b[0;36msetup_network\u001b[0;34m(self, neurons_path, num_replicas, neuron_types, parameter_key, morphology_key, modulation_key, single_neuron_path)\u001b[0m\n\u001b[1;32m     86\u001b[0m                                                 \u001b[0mmorphology_key\u001b[0m\u001b[0;34m=\u001b[0m\u001b[0mmorphology_key\u001b[0m\u001b[0;34m,\u001b[0m\u001b[0;34m\u001b[0m\u001b[0;34m\u001b[0m\u001b[0m\n\u001b[1;32m     87\u001b[0m                                                 \u001b[0mmodulation_key\u001b[0m\u001b[0;34m=\u001b[0m\u001b[0mmodulation_key\u001b[0m\u001b[0;34m,\u001b[0m\u001b[0;34m\u001b[0m\u001b[0;34m\u001b[0m\u001b[0m\n\u001b[0;32m---> 88\u001b[0;31m                                                 all_combinations=all_combinations)\n\u001b[0m\u001b[1;32m     89\u001b[0m \u001b[0;34m\u001b[0m\u001b[0m\n\u001b[1;32m     90\u001b[0m         \u001b[0mprint\u001b[0m\u001b[0;34m(\u001b[0m\u001b[0;34mf\"Writing network config file to {self.network_config_file_name}\"\u001b[0m\u001b[0;34m)\u001b[0m\u001b[0;34m\u001b[0m\u001b[0;34m\u001b[0m\u001b[0m\n",
      "\u001b[0;32m~/HBP/Snudda/snudda/input/input_tuning.py\u001b[0m in \u001b[0;36mcreate_network_config\u001b[0;34m(self, neurons_path, num_replicas, random_seed, neuron_types, single_neuron_path, parameter_key, morphology_key, modulation_key, all_combinations)\u001b[0m\n\u001b[1;32m    684\u001b[0m \u001b[0;34m\u001b[0m\u001b[0m\n\u001b[1;32m    685\u001b[0m         \u001b[0;32melse\u001b[0m\u001b[0;34m:\u001b[0m\u001b[0;34m\u001b[0m\u001b[0;34m\u001b[0m\u001b[0m\n\u001b[0;32m--> 686\u001b[0;31m             \u001b[0mneuron_def\u001b[0m \u001b[0;34m=\u001b[0m \u001b[0mself\u001b[0m\u001b[0;34m.\u001b[0m\u001b[0mgather_all_neurons\u001b[0m\u001b[0;34m(\u001b[0m\u001b[0mneuron_types\u001b[0m\u001b[0;34m=\u001b[0m\u001b[0mneuron_types\u001b[0m\u001b[0;34m,\u001b[0m \u001b[0mall_combinations\u001b[0m\u001b[0;34m=\u001b[0m\u001b[0mall_combinations\u001b[0m\u001b[0;34m)\u001b[0m\u001b[0;34m\u001b[0m\u001b[0;34m\u001b[0m\u001b[0m\n\u001b[0m\u001b[1;32m    687\u001b[0m \u001b[0;34m\u001b[0m\u001b[0m\n\u001b[1;32m    688\u001b[0m         \u001b[0mfake_axon_density\u001b[0m \u001b[0;34m=\u001b[0m \u001b[0;34m[\u001b[0m\u001b[0;34m\"r\"\u001b[0m\u001b[0;34m,\u001b[0m \u001b[0;34m\"1\"\u001b[0m\u001b[0;34m,\u001b[0m \u001b[0;36m10e-6\u001b[0m\u001b[0;34m]\u001b[0m\u001b[0;34m\u001b[0m\u001b[0;34m\u001b[0m\u001b[0m\n",
      "\u001b[0;32m~/HBP/Snudda/snudda/input/input_tuning.py\u001b[0m in \u001b[0;36mgather_all_neurons\u001b[0;34m(self, neuron_types, all_combinations)\u001b[0m\n\u001b[1;32m    571\u001b[0m                         \u001b[0;34mf\"meta.json required for all_combinations=True. {os.path.dirname(neuron_info['parameters'])}\"\u001b[0m\u001b[0;34m\u001b[0m\u001b[0;34m\u001b[0m\u001b[0m\n\u001b[1;32m    572\u001b[0m \u001b[0;34m\u001b[0m\u001b[0m\n\u001b[0;32m--> 573\u001b[0;31m                     \u001b[0mneuron_info_combination_list\u001b[0m \u001b[0;34m=\u001b[0m \u001b[0mself\u001b[0m\u001b[0;34m.\u001b[0m\u001b[0mget_all_combinations\u001b[0m\u001b[0;34m(\u001b[0m\u001b[0mneuron_info\u001b[0m\u001b[0;34m)\u001b[0m\u001b[0;34m\u001b[0m\u001b[0;34m\u001b[0m\u001b[0m\n\u001b[0m\u001b[1;32m    574\u001b[0m                     \u001b[0;32mfor\u001b[0m \u001b[0mni\u001b[0m \u001b[0;32min\u001b[0m \u001b[0mneuron_info_combination_list\u001b[0m\u001b[0;34m:\u001b[0m\u001b[0;34m\u001b[0m\u001b[0;34m\u001b[0m\u001b[0m\n\u001b[1;32m    575\u001b[0m                         \u001b[0mn_name\u001b[0m \u001b[0;34m=\u001b[0m \u001b[0mos\u001b[0m\u001b[0;34m.\u001b[0m\u001b[0mpath\u001b[0m\u001b[0;34m.\u001b[0m\u001b[0mbasename\u001b[0m\u001b[0;34m(\u001b[0m\u001b[0mos\u001b[0m\u001b[0;34m.\u001b[0m\u001b[0mpath\u001b[0m\u001b[0;34m.\u001b[0m\u001b[0mdirname\u001b[0m\u001b[0;34m(\u001b[0m\u001b[0mni\u001b[0m\u001b[0;34m[\u001b[0m\u001b[0;34m\"parameters\"\u001b[0m\u001b[0;34m]\u001b[0m\u001b[0;34m)\u001b[0m\u001b[0;34m)\u001b[0m\u001b[0;34m\u001b[0m\u001b[0;34m\u001b[0m\u001b[0m\n",
      "\u001b[0;32m~/HBP/Snudda/snudda/input/input_tuning.py\u001b[0m in \u001b[0;36mget_all_combinations\u001b[0;34m(neuron_info)\u001b[0m\n\u001b[1;32m    604\u001b[0m             \u001b[0mparam_data\u001b[0m \u001b[0;34m=\u001b[0m \u001b[0mjson\u001b[0m\u001b[0;34m.\u001b[0m\u001b[0mload\u001b[0m\u001b[0;34m(\u001b[0m\u001b[0mpf\u001b[0m\u001b[0;34m)\u001b[0m\u001b[0;34m\u001b[0m\u001b[0;34m\u001b[0m\u001b[0m\n\u001b[1;32m    605\u001b[0m \u001b[0;34m\u001b[0m\u001b[0m\n\u001b[0;32m--> 606\u001b[0;31m         \u001b[0;32mwith\u001b[0m \u001b[0mopen\u001b[0m\u001b[0;34m(\u001b[0m\u001b[0msnudda_parse_path\u001b[0m\u001b[0;34m(\u001b[0m\u001b[0mneuron_info\u001b[0m\u001b[0;34m[\u001b[0m\u001b[0;34m\"meta\"\u001b[0m\u001b[0;34m]\u001b[0m\u001b[0;34m)\u001b[0m\u001b[0;34m,\u001b[0m \u001b[0;34m\"r\"\u001b[0m\u001b[0;34m)\u001b[0m \u001b[0;32mas\u001b[0m \u001b[0mmf\u001b[0m\u001b[0;34m:\u001b[0m\u001b[0;34m\u001b[0m\u001b[0;34m\u001b[0m\u001b[0m\n\u001b[0m\u001b[1;32m    607\u001b[0m             \u001b[0mmeta_data\u001b[0m \u001b[0;34m=\u001b[0m \u001b[0mjson\u001b[0m\u001b[0;34m.\u001b[0m\u001b[0mload\u001b[0m\u001b[0;34m(\u001b[0m\u001b[0mmf\u001b[0m\u001b[0;34m)\u001b[0m\u001b[0;34m\u001b[0m\u001b[0;34m\u001b[0m\u001b[0m\n\u001b[1;32m    608\u001b[0m \u001b[0;34m\u001b[0m\u001b[0m\n",
      "\u001b[0;31mFileNotFoundError\u001b[0m: [Errno 2] No such file or directory: '/home/hjorth/HBP/Snudda/snudda/data/neurons/striatum/fs/str-fs-e180418_FS5-mMTC251001A-IDB-v20190301/meta.json'"
     ]
    }
   ],
   "source": [
    "neurons_path = os.path.join(\"$DATA\", \"neurons\", \"striatum\")\n",
    "input_tuning.setup_network(neurons_path=neurons_path, \n",
    "                           num_replicas=20,\n",
    "                           neuron_types=\"fs\")\n",
    "input_tuning.setup_input(input_type=\"cortical\",  # eg. \"cortical\" or \"thalamic\"\n",
    "                         num_input_min=10,\n",
    "                         num_input_max=500,\n",
    "                         input_duration=2.0,\n",
    "                         input_frequency_range=[1.0, 2.0, 3.0, 5.0, 10.0])"
   ]
  },
  {
   "cell_type": "code",
   "execution_count": null,
   "id": "spread-diamond",
   "metadata": {},
   "outputs": [],
   "source": [
    "from snudda.input import SnuddaInput\n",
    "\n",
    "si = SnuddaInput(input_config_file=input_tuning.input_config_file,\n",
    "                 hdf5_network_file=input_tuning.network_file,\n",
    "                 spike_data_filename=input_tuning.input_spikes_file,\n",
    "                 time=input_tuning.max_time)\n",
    "si.generate()"
   ]
  },
  {
   "cell_type": "code",
   "execution_count": null,
   "id": "defensive-equipment",
   "metadata": {},
   "outputs": [],
   "source": [
    "!nrnivmodl ../../snudda/data/neurons/mechanisms"
   ]
  },
  {
   "cell_type": "markdown",
   "id": "dynamic-catalog",
   "metadata": {},
   "source": [
    "## For large runs, to simulate in parallel use:\n",
    "\n",
    "```mpiexec -n 4 python3 ../../snudda/input/input_tuning.py simulate networks/input_tuning/```\n",
    "\n",
    "If you have more than four cores available on your machine, increase the number of workers accordingly.\n",
    "\n",
    "## Below we just run it in serial in the notebook:"
   ]
  },
  {
   "cell_type": "code",
   "execution_count": null,
   "id": "sufficient-progressive",
   "metadata": {
    "scrolled": true
   },
   "outputs": [],
   "source": [
    "input_tuning.simulate()"
   ]
  },
  {
   "cell_type": "markdown",
   "id": "b3a14429",
   "metadata": {},
   "source": [
    "## Analyse results"
   ]
  },
  {
   "cell_type": "code",
   "execution_count": null,
   "id": "alternate-worry",
   "metadata": {
    "scrolled": false
   },
   "outputs": [],
   "source": [
    "%matplotlib notebook\n",
    "\n",
    "input_tuning.analyse_results(show_plots=True)"
   ]
  },
  {
   "cell_type": "code",
   "execution_count": null,
   "id": "close-operation",
   "metadata": {},
   "outputs": [],
   "source": []
  },
  {
   "cell_type": "code",
   "execution_count": null,
   "id": "9ba3a938",
   "metadata": {},
   "outputs": [],
   "source": []
  }
 ],
 "metadata": {
  "kernelspec": {
   "display_name": "Python 3",
   "language": "python",
   "name": "python3"
  },
  "language_info": {
   "codemirror_mode": {
    "name": "ipython",
    "version": 3
   },
   "file_extension": ".py",
   "mimetype": "text/x-python",
   "name": "python",
   "nbconvert_exporter": "python",
   "pygments_lexer": "ipython3",
   "version": "3.7.3"
  }
 },
 "nbformat": 4,
 "nbformat_minor": 5
}
