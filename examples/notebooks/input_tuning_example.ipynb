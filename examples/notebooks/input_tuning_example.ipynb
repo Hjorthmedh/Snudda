{
 "cells": [
  {
   "cell_type": "markdown",
   "id": "heated-thousand",
   "metadata": {},
   "source": [
    "Different morphologies of the same neuron type might require different activation to reach comparable firing frequency. InputScaling simulates a network of a neuron type with different number of inputs, and different frequency to infer what level of input is needed.\n",
    "\n",
    "Here we look at the input to ```neuron_types=\"fs\"```.\n",
    "\n",
    "During a simulation we can vary the input frequency, but not the number of inputs coupled to a neuron, so we use a set of ```num_replicas``` copies of each morphology, each receiving a different number of inputs from ```num_input_min``` to ```num_input_max``` of a given ```input_type``` (e.g. for striatum \"cortical\" or \"thalamic\"). Note that if 100 inputs are requested, then on average 100 inputs will be placed, but the number can vary as the placement is random.\n",
    "\n",
    "A set of input frequencies are tested, specified by ```input_frequency_range```, and each of these frequencies is run for ```input_duration``` seconds. In this example we create a small example, but we recommend that use use a longer input duration (e.g. 10 seconds, or possibly more).\n",
    "\n",
    "The user can specify ```parameter_key```, ```morphology_key``` and (neuron) ```modulation_key``` to be used for the neuron model.\n",
    "\n",
    "The code below assumes you have ```BasalGangliaData``` repository installed."
   ]
  },
  {
   "cell_type": "code",
   "execution_count": 1,
   "id": "silent-heading",
   "metadata": {},
   "outputs": [
    {
     "name": "stdout",
     "output_type": "stream",
     "text": [
      "Reading SNUDDA_DATA=../../../BasalGangliaData/data/ from environment variable $SNUDDA_DATA\n"
     ]
    }
   ],
   "source": [
    "import os\n",
    "from snudda.input.input_tuning import InputTuning\n",
    "\n",
    "os.environ[\"SNUDDA_DATA\"] = \"../../../BasalGangliaData/data/\"\n",
    "assert os.path.isdir(os.getenv(\"SNUDDA_DATA\")), f\"You need to have BasalGangliaData installed for this example.\"\n",
    "\n",
    "network_path = os.path.join(\"networks\", \"input_tuning\")\n",
    "input_tuning = InputTuning(network_path)"
   ]
  },
  {
   "cell_type": "markdown",
   "id": "beginning-preliminary",
   "metadata": {},
   "source": [
    "We create a network without any synapses and connect different number of external inputs to the neurons. Each neuron then receives a range of input frequencies. Here ```neurons_path``` points to the folder that contains all the different neuron types. Note that we use ```$DATA``` to refer to the ```snudda/data``` folder, but you can use an absolute path instead if you have your own neurons folder. If you use your own neurons you probably want to compile the neuron mechanisms from another folder when calling ```nrnivmodl``` below.\n",
    "\n",
    "Also note that the folder names for the different neurons must be lowercase."
   ]
  },
  {
   "cell_type": "code",
   "execution_count": 3,
   "id": "alert-response",
   "metadata": {},
   "outputs": [
    {
     "name": "stdout",
     "output_type": "stream",
     "text": [
      "Skipping neuron type dspn\n",
      "Found 149 neuron models in /home/hjorth/HBP/BasalGangliaData/data/neurons/striatum/fs\n",
      "Skipping neuron type chin\n",
      "Skipping neuron type ispn\n",
      "Skipping neuron type lts\n",
      "Writing network config file to networks/input_tuning/network-config.json\n",
      "Reading SNUDDA_DATA=None from networks/input_tuning/network-config.json\n",
      "Reading SNUDDA_DATA=../../../BasalGangliaData/data/ from environment variable $SNUDDA_DATA\n",
      "Reading SNUDDA_DATA=None from networks/input_tuning/network-config.json\n",
      "Reading SNUDDA_DATA=../../../BasalGangliaData/data/ from environment variable $SNUDDA_DATA\n",
      "No d_view specified, running distribute neurons in serial\n",
      "No connections specified in connectivity_distribution.\n",
      "Using cortical synapse density for input.\n",
      "Reading SNUDDA_DATA=None from networks/input_tuning/network-config.json\n",
      "Reading SNUDDA_DATA=../../../BasalGangliaData/data/ from environment variable $SNUDDA_DATA\n",
      "Loading 596 neurons with 0 synapses and 0 gap junctions\n",
      "Writing spikes to networks/input_tuning/input.hdf5\n"
     ]
    }
   ],
   "source": [
    "neurons_path = os.path.join(\"$DATA\", \"neurons\", \"striatum\")\n",
    "input_tuning.setup_network(neurons_path=neurons_path, \n",
    "                           num_replicas=4,\n",
    "                           neuron_types=\"fs\")\n",
    "input_tuning.setup_input(input_type=\"cortical\",  # eg. \"cortical\" or \"thalamic\"\n",
    "                         num_input_min=50,\n",
    "                         num_input_max=200,\n",
    "                         input_duration=3.0,\n",
    "                         input_frequency_range=[1.0, 2.0])"
   ]
  },
  {
   "cell_type": "code",
   "execution_count": 4,
   "id": "defensive-equipment",
   "metadata": {},
   "outputs": [
    {
     "name": "stdout",
     "output_type": "stream",
     "text": [
      "/home/hjorth/HBP/Snudda/examples/notebooks\n",
      "Mod files: \"../../../BasalGangliaData/data/neurons/mechanisms/../../../BasalGangliaData/data/neurons/mechanisms/bk_ch.mod\" \"../../../BasalGangliaData/data/neurons/mechanisms/../../../BasalGangliaData/data/neurons/mechanisms/bk_fs.mod\" \"../../../BasalGangliaData/data/neurons/mechanisms/../../../BasalGangliaData/data/neurons/mechanisms/bk_ms.mod\" \"../../../BasalGangliaData/data/neurons/mechanisms/../../../BasalGangliaData/data/neurons/mechanisms/ca_ch.mod\" \"../../../BasalGangliaData/data/neurons/mechanisms/../../../BasalGangliaData/data/neurons/mechanisms/cadyn_fs.mod\" \"../../../BasalGangliaData/data/neurons/mechanisms/../../../BasalGangliaData/data/neurons/mechanisms/cadyn_ms.mod\" \"../../../BasalGangliaData/data/neurons/mechanisms/../../../BasalGangliaData/data/neurons/mechanisms/cal12_ms.mod\" \"../../../BasalGangliaData/data/neurons/mechanisms/../../../BasalGangliaData/data/neurons/mechanisms/cal13_ms.mod\" \"../../../BasalGangliaData/data/neurons/mechanisms/../../../BasalGangliaData/data/neurons/mechanisms/cal_ch.mod\" \"../../../BasalGangliaData/data/neurons/mechanisms/../../../BasalGangliaData/data/neurons/mechanisms/caldyn_ms.mod\" \"../../../BasalGangliaData/data/neurons/mechanisms/../../../BasalGangliaData/data/neurons/mechanisms/can_fs.mod\" \"../../../BasalGangliaData/data/neurons/mechanisms/../../../BasalGangliaData/data/neurons/mechanisms/can_ms.mod\" \"../../../BasalGangliaData/data/neurons/mechanisms/../../../BasalGangliaData/data/neurons/mechanisms/cap_ch.mod\" \"../../../BasalGangliaData/data/neurons/mechanisms/../../../BasalGangliaData/data/neurons/mechanisms/caq_fs.mod\" \"../../../BasalGangliaData/data/neurons/mechanisms/../../../BasalGangliaData/data/neurons/mechanisms/caq_ms.mod\" \"../../../BasalGangliaData/data/neurons/mechanisms/../../../BasalGangliaData/data/neurons/mechanisms/car_fs.mod\" \"../../../BasalGangliaData/data/neurons/mechanisms/../../../BasalGangliaData/data/neurons/mechanisms/car_ms.mod\" \"../../../BasalGangliaData/data/neurons/mechanisms/../../../BasalGangliaData/data/neurons/mechanisms/cat32_ms.mod\" \"../../../BasalGangliaData/data/neurons/mechanisms/../../../BasalGangliaData/data/neurons/mechanisms/cat33_ms.mod\" \"../../../BasalGangliaData/data/neurons/mechanisms/../../../BasalGangliaData/data/neurons/mechanisms/hcn12_ch.mod\" \"../../../BasalGangliaData/data/neurons/mechanisms/../../../BasalGangliaData/data/neurons/mechanisms/hd_lts.mod\" \"../../../BasalGangliaData/data/neurons/mechanisms/../../../BasalGangliaData/data/neurons/mechanisms/im_lts.mod\" \"../../../BasalGangliaData/data/neurons/mechanisms/../../../BasalGangliaData/data/neurons/mechanisms/Im_ms.mod\" \"../../../BasalGangliaData/data/neurons/mechanisms/../../../BasalGangliaData/data/neurons/mechanisms/it_lts.mod\" \"../../../BasalGangliaData/data/neurons/mechanisms/../../../BasalGangliaData/data/neurons/mechanisms/kaf_fs.mod\" \"../../../BasalGangliaData/data/neurons/mechanisms/../../../BasalGangliaData/data/neurons/mechanisms/kaf_lts.mod\" \"../../../BasalGangliaData/data/neurons/mechanisms/../../../BasalGangliaData/data/neurons/mechanisms/kaf_ms.mod\" \"../../../BasalGangliaData/data/neurons/mechanisms/../../../BasalGangliaData/data/neurons/mechanisms/kas_fs.mod\" \"../../../BasalGangliaData/data/neurons/mechanisms/../../../BasalGangliaData/data/neurons/mechanisms/kas_ms.mod\" \"../../../BasalGangliaData/data/neurons/mechanisms/../../../BasalGangliaData/data/neurons/mechanisms/kcnq_ch.mod\" \"../../../BasalGangliaData/data/neurons/mechanisms/../../../BasalGangliaData/data/neurons/mechanisms/kdb_lts.mod\" \"../../../BasalGangliaData/data/neurons/mechanisms/../../../BasalGangliaData/data/neurons/mechanisms/kdrb_lts.mod\" \"../../../BasalGangliaData/data/neurons/mechanisms/../../../BasalGangliaData/data/neurons/mechanisms/kdr_fs.mod\" \"../../../BasalGangliaData/data/neurons/mechanisms/../../../BasalGangliaData/data/neurons/mechanisms/kdr_lts.mod\" \"../../../BasalGangliaData/data/neurons/mechanisms/../../../BasalGangliaData/data/neurons/mechanisms/kdr_ms.mod\" \"../../../BasalGangliaData/data/neurons/mechanisms/../../../BasalGangliaData/data/neurons/mechanisms/kir23_ch.mod\" \"../../../BasalGangliaData/data/neurons/mechanisms/../../../BasalGangliaData/data/neurons/mechanisms/kir23_lts.mod\" \"../../../BasalGangliaData/data/neurons/mechanisms/../../../BasalGangliaData/data/neurons/mechanisms/kir2_ch.mod\" \"../../../BasalGangliaData/data/neurons/mechanisms/../../../BasalGangliaData/data/neurons/mechanisms/kir_fs.mod\" \"../../../BasalGangliaData/data/neurons/mechanisms/../../../BasalGangliaData/data/neurons/mechanisms/kir_ms.mod\" \"../../../BasalGangliaData/data/neurons/mechanisms/../../../BasalGangliaData/data/neurons/mechanisms/kv2_ch.mod\" \"../../../BasalGangliaData/data/neurons/mechanisms/../../../BasalGangliaData/data/neurons/mechanisms/kv4_ch.mod\" \"../../../BasalGangliaData/data/neurons/mechanisms/../../../BasalGangliaData/data/neurons/mechanisms/na2_ch.mod\" \"../../../BasalGangliaData/data/neurons/mechanisms/../../../BasalGangliaData/data/neurons/mechanisms/na3_lts.mod\" \"../../../BasalGangliaData/data/neurons/mechanisms/../../../BasalGangliaData/data/neurons/mechanisms/na_ch.mod\" \"../../../BasalGangliaData/data/neurons/mechanisms/../../../BasalGangliaData/data/neurons/mechanisms/naf_fs.mod\" \"../../../BasalGangliaData/data/neurons/mechanisms/../../../BasalGangliaData/data/neurons/mechanisms/naf_lts.mod\" \"../../../BasalGangliaData/data/neurons/mechanisms/../../../BasalGangliaData/data/neurons/mechanisms/naf_ms.mod\" \"../../../BasalGangliaData/data/neurons/mechanisms/../../../BasalGangliaData/data/neurons/mechanisms/NO.mod\" \"../../../BasalGangliaData/data/neurons/mechanisms/../../../BasalGangliaData/data/neurons/mechanisms/par_ggap.mod\" \"../../../BasalGangliaData/data/neurons/mechanisms/../../../BasalGangliaData/data/neurons/mechanisms/sk_ch.mod\" \"../../../BasalGangliaData/data/neurons/mechanisms/../../../BasalGangliaData/data/neurons/mechanisms/sk_fs.mod\" \"../../../BasalGangliaData/data/neurons/mechanisms/../../../BasalGangliaData/data/neurons/mechanisms/sk_ms.mod\" \"../../../BasalGangliaData/data/neurons/mechanisms/../../../BasalGangliaData/data/neurons/mechanisms/tmgabaa.mod\" \"../../../BasalGangliaData/data/neurons/mechanisms/../../../BasalGangliaData/data/neurons/mechanisms/tmglut_double.mod\" \"../../../BasalGangliaData/data/neurons/mechanisms/../../../BasalGangliaData/data/neurons/mechanisms/tmglut_M1RH_D1.mod\" \"../../../BasalGangliaData/data/neurons/mechanisms/../../../BasalGangliaData/data/neurons/mechanisms/tmglut.mod\" \"../../../BasalGangliaData/data/neurons/mechanisms/../../../BasalGangliaData/data/neurons/mechanisms/vecevent.mod\"\n",
      "\n",
      " -> \u001b[32mCompiling\u001b[0m mod_func.cpp\n",
      " => \u001b[32mLINKING\u001b[0m shared library ./libnrnmech.so\n",
      "Successfully created aarch64/special\n"
     ]
    }
   ],
   "source": [
    "!nrnivmodl ../../../BasalGangliaData/data/neurons/mechanisms"
   ]
  },
  {
   "cell_type": "markdown",
   "id": "dynamic-catalog",
   "metadata": {},
   "source": [
    "## For large runs, to simulate in parallel use:\n",
    "\n",
    "```mpiexec -n 4 python3 ../../snudda/input/input_tuning.py simulate networks/input_tuning/```\n",
    "\n",
    "If you have more than four cores available on your machine, increase the number of workers accordingly.\n",
    "\n",
    "## Below we just run it in serial in the notebook:"
   ]
  },
  {
   "cell_type": "code",
   "execution_count": null,
   "id": "sufficient-progressive",
   "metadata": {
    "scrolled": true
   },
   "outputs": [],
   "source": [
    "input_tuning.simulate()"
   ]
  },
  {
   "cell_type": "markdown",
   "id": "b3a14429",
   "metadata": {},
   "source": [
    "## Analyse results"
   ]
  },
  {
   "cell_type": "code",
   "execution_count": null,
   "id": "alternate-worry",
   "metadata": {},
   "outputs": [],
   "source": [
    "%matplotlib notebook\n",
    "\n",
    "input_tuning.analyse_results(show_plots=True)"
   ]
  },
  {
   "cell_type": "code",
   "execution_count": null,
   "id": "close-operation",
   "metadata": {},
   "outputs": [],
   "source": []
  },
  {
   "cell_type": "code",
   "execution_count": null,
   "id": "9ba3a938",
   "metadata": {},
   "outputs": [],
   "source": []
  }
 ],
 "metadata": {
  "kernelspec": {
   "display_name": "Python 3 (ipykernel)",
   "language": "python",
   "name": "python3"
  },
  "language_info": {
   "codemirror_mode": {
    "name": "ipython",
    "version": 3
   },
   "file_extension": ".py",
   "mimetype": "text/x-python",
   "name": "python",
   "nbconvert_exporter": "python",
   "pygments_lexer": "ipython3",
   "version": "3.9.2"
  }
 },
 "nbformat": 4,
 "nbformat_minor": 5
}
