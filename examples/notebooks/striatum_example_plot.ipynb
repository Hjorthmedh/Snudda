{
 "cells": [
  {
   "cell_type": "code",
   "execution_count": 3,
   "id": "loose-renewal",
   "metadata": {},
   "outputs": [
    {
     "name": "stdout",
     "output_type": "stream",
     "text": [
      "Loading 501 neurons with 109542 synapses and 27 gap junctions\n",
      "Sort the traces\n",
      "Sort the traces\n"
     ]
    },
    {
     "data": {
      "image/png": "[encoded data removed]",
      "text/plain": [
       "<Figure size 432x288 with 2 Axes>"
      ]
     },
     "metadata": {
      "needs_background": "light"
     },
     "output_type": "display_data"
    },
    {
     "data": {
      "text/plain": [
       "<Figure size 432x288 with 0 Axes>"
      ]
     },
     "metadata": {},
     "output_type": "display_data"
    },
    {
     "name": "stdout",
     "output_type": "stream",
     "text": [
      "Saving networks/striatum_example/figures/network-output-spikes-666-colour.pdf\n"
     ]
    },
    {
     "data": {
      "text/plain": [
       "<Figure size 432x288 with 0 Axes>"
      ]
     },
     "metadata": {},
     "output_type": "display_data"
    }
   ],
   "source": [
    "import os\n",
    "\n",
    "network_path = os.path.join(\"networks\", \"striatum_example\")\n",
    "network_file = os.path.join(network_path, \"network-pruned-synapses.hdf5\")\n",
    "spike_file_name = os.path.join(network_path, \"simulation\", \"network-output-spikes-666.txt\")\n",
    "\n",
    "from snudda.plotting.plot_spike_raster import SnuddaPlotSpikeRaster\n",
    "end_time = 0.5\n",
    "type_order = [\"chin\", \"dspn\", \"lts\", \"ispn\", \"fs\", \"fsn\"]\n",
    "\n",
    "spsr = SnuddaPlotSpikeRaster(spike_file_name, network_file, skip_time=0.0,\n",
    "                                     end_time=end_time,\n",
    "                                     type_order=type_order)\n"
   ]
  },
  {
   "cell_type": "code",
   "execution_count": null,
   "id": "aging-family",
   "metadata": {},
   "outputs": [],
   "source": []
  }
 ],
 "metadata": {
  "kernelspec": {
   "display_name": "Python 3",
   "language": "python",
   "name": "python3"
  },
  "language_info": {
   "codemirror_mode": {
    "name": "ipython",
    "version": 3
   },
   "file_extension": ".py",
   "mimetype": "text/x-python",
   "name": "python",
   "nbconvert_exporter": "python",
   "pygments_lexer": "ipython3",
   "version": "3.7.3"
  }
 },
 "nbformat": 4,
 "nbformat_minor": 5
}
