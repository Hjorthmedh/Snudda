{
 "cells": [
  {
   "cell_type": "code",
   "execution_count": null,
   "id": "normal-hudson",
   "metadata": {},
   "outputs": [],
   "source": [
    "import os\n",
    "\n",
    "network_path = os.path.join(\"networks\", \"striatum_example\")\n",
    "network_file = os.path.join(network_path, \"network-pruned-synapses.hdf5\")\n",
    "spike_file_name = os.path.join(network_path, \"network_output_spikes.txt\")\n",
    "\n",
    "from snudda.plotting.plot_spike_raster import SnuddaPlotSpikeRaster\n",
    "end_time = 0.5\n",
    "type_order = [\"dspn\", \"ispn\", \"fs\", \"lts\", \"chin\"]\n",
    "\n",
    "spsr = SnuddaPlotSpikeRaster(spike_file_name, network_file, skip_time=0.0,\n",
    "                                     end_time=end_time,\n",
    "                                     type_order=type_order)\n"
   ]
  }
 ],
 "metadata": {
  "kernelspec": {
   "display_name": "Python 3",
   "language": "python",
   "name": "python3"
  },
  "language_info": {
   "codemirror_mode": {
    "name": "ipython",
    "version": 3
   },
   "file_extension": ".py",
   "mimetype": "text/x-python",
   "name": "python",
   "nbconvert_exporter": "python",
   "pygments_lexer": "ipython3",
   "version": "3.7.3"
  }
 },
 "nbformat": 4,
 "nbformat_minor": 5
}
