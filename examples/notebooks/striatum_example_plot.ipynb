{
 "cells": [
  {
   "cell_type": "code",
   "execution_count": 1,
   "id": "loose-renewal",
   "metadata": {},
   "outputs": [
    {
     "name": "stdout",
     "output_type": "stream",
     "text": [
      "Loading 20 neurons with 427 synapses and 0 gap junctions\n",
      "Loading networks/striatum_example/simulation/network-output.hdf5\n"
     ]
    },
    {
     "data": {
      "image/png": "[encoded data removed]",
      "text/plain": [
       "<Figure size 360x720 with 1 Axes>"
      ]
     },
     "metadata": {
      "needs_background": "light"
     },
     "output_type": "display_data"
    }
   ],
   "source": [
    "import os\n",
    "from snudda.plotting import SnuddaPlotSpikeRaster2\n",
    "\n",
    "network_path = os.path.join(\"networks\", \"striatum_example\")\n",
    "type_order = [\"chin\", \"dspn\", \"lts\", \"ispn\", \"fs\", \"fsn\"]\n",
    "\n",
    "sp = SnuddaPlotSpikeRaster2(network_path=network_path)\n",
    "\n",
    "sp.plot_spike_raster(type_order=type_order, fig_size=(5,10))\n"
   ]
  },
  {
   "cell_type": "code",
   "execution_count": null,
   "id": "aging-family",
   "metadata": {},
   "outputs": [],
   "source": []
  }
 ],
 "metadata": {
  "kernelspec": {
   "display_name": "Python 3",
   "language": "python",
   "name": "python3"
  },
  "language_info": {
   "codemirror_mode": {
    "name": "ipython",
    "version": 3
   },
   "file_extension": ".py",
   "mimetype": "text/x-python",
   "name": "python",
   "nbconvert_exporter": "python",
   "pygments_lexer": "ipython3",
   "version": "3.7.3"
  }
 },
 "nbformat": 4,
 "nbformat_minor": 5
}
