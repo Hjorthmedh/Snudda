{
 "cells": [
  {
   "cell_type": "code",
   "execution_count": 1,
   "id": "loose-renewal",
   "metadata": {},
   "outputs": [
    {
     "name": "stdout",
     "output_type": "stream",
     "text": [
      "Loading 20 neurons with 313 synapses and 0 gap junctions\n",
      "Sort the traces\n",
      "Sort the traces\n",
      "chin (0): nan Hz, total spikes 0\n",
      "dspn (10): 5.480242284395731 Hz, total spikes 133\n",
      "lts (0): nan Hz, total spikes 0\n",
      "ispn (10): 8.076146524372655 Hz, total spikes 196\n",
      "fsn (0): nan Hz, total spikes 0\n",
      "Saving networks/striatum_example/figures/network-output-spikes-666-colour3.png\n"
     ]
    },
    {
     "name": "stderr",
     "output_type": "stream",
     "text": [
      "/home/hjorth/HBP/Snudda/snudda/plotting/plot_spike_raster.py:199: RuntimeWarning: invalid value encountered in double_scalars\n",
      "  print(f\"{st} ({n}): {sc/(n*end_time)} Hz, total spikes {sc}\")\n"
     ]
    },
    {
     "data": {
      "image/png": "[encoded data removed]",
      "text/plain": [
       "<Figure size 432x288 with 3 Axes>"
      ]
     },
     "metadata": {
      "needs_background": "light"
     },
     "output_type": "display_data"
    },
    {
     "data": {
      "text/plain": [
       "<Figure size 432x288 with 0 Axes>"
      ]
     },
     "metadata": {},
     "output_type": "display_data"
    }
   ],
   "source": [
    "import os\n",
    "\n",
    "network_path = os.path.join(\"networks\", \"striatum_example\")\n",
    "network_file = os.path.join(network_path, \"network-synapses.hdf5\")\n",
    "spike_file_name = os.path.join(network_path, \"simulation\", \"network-output-spikes-666.txt\")\n",
    "\n",
    "from snudda.plotting import PlotSpikeRaster\n",
    "end_time = 0.5\n",
    "type_order = [\"chin\", \"dspn\", \"lts\", \"ispn\", \"fs\", \"fsn\"]\n",
    "\n",
    "spsr = PlotSpikeRaster(spike_file_name, network_file, skip_time=1.0,\n",
    "                                     end_time=end_time,\n",
    "                                     type_order=type_order, figsize=(5,10))\n"
   ]
  },
  {
   "cell_type": "code",
   "execution_count": null,
   "id": "aging-family",
   "metadata": {},
   "outputs": [],
   "source": []
  }
 ],
 "metadata": {
  "kernelspec": {
   "display_name": "Python 3",
   "language": "python",
   "name": "python3"
  },
  "language_info": {
   "codemirror_mode": {
    "name": "ipython",
    "version": 3
   },
   "file_extension": ".py",
   "mimetype": "text/x-python",
   "name": "python",
   "nbconvert_exporter": "python",
   "pygments_lexer": "ipython3",
   "version": "3.7.3"
  }
 },
 "nbformat": 4,
 "nbformat_minor": 5
}
