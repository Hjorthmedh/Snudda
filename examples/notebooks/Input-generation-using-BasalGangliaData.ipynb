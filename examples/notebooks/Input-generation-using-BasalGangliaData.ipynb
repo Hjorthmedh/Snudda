{
 "cells": [
  {
   "cell_type": "markdown",
   "id": "76cc22c4",
   "metadata": {},
   "source": [
    "# Input Generation using Basal Ganglia Data\n",
    "\n",
    "If you have done (input tuning)[../parallel/KTH_PDC/input_tuning] and saved the input settings to the neuron's meta.json files in BasalGangliaData then you can use that to set the appropriate level of your inputs.\n",
    "\n",
    "If you need to tune the cortical and thalamic input for your own neurons, then see [this folder](../parallel/KTH_PDC/input_tuning/) which has examples and more information in the [README.md](../parallel/KTH_PDC/input_tuning/README.md) file."
   ]
  },
  {
   "cell_type": "code",
   "execution_count": null,
   "id": "7c685e9a",
   "metadata": {},
   "outputs": [],
   "source": [
    "import os\n",
    "import numpy as np\n",
    "\n",
    "network_path = os.path.join(\"networks\",\"simple_example\")\n",
    "snudda_data = os.path.join(\"..\", \"..\", \"..\", \"BasalGangliaData\", \"data\") "
   ]
  },
  {
   "cell_type": "markdown",
   "id": "72a96e1a",
   "metadata": {},
   "source": [
    "## Generate the network\n",
    "\n",
    "Here we create a network with 100 dSPN and 100 iSPN neurons. We also define two population units with 20 neurons each, by defining two spherical regions with radius 200 micrometers, and picking 20 neurons within those spheres).\n",
    "\n",
    "The population units will be named 1 and 2."
   ]
  },
  {
   "cell_type": "code",
   "execution_count": null,
   "id": "31072fc5",
   "metadata": {
    "scrolled": true
   },
   "outputs": [],
   "source": [
    "from snudda import SnuddaInit\n",
    "\n",
    "si = SnuddaInit(network_path=network_path, random_seed=12345, snudda_data=snudda_data)\n",
    "si.define_striatum(num_dSPN=100, num_iSPN=100, num_FS=0, num_LTS=0, num_ChIN=0, neuron_density=80500,\n",
    "                    volume_type=\"cube\")\n",
    "\n",
    "# Here we add two population units\n",
    "# The centre of the cube is [0.00475, 0.004, 0.00775]. num_neurons is optional\n",
    "si.add_population_unit_density(structure_name=\"Striatum\", neuron_types=[\"dSPN\", \"iSPN\"], \n",
    "                               unit_centre=np.array([0.00475, 0.004, 0.00775]) -np.array([0,50e-6,150e-6]),\n",
    "                               probability_function=\"(d < 200e-6)*1\", num_neurons=20)\n",
    "si.add_population_unit_density(structure_name=\"Striatum\", neuron_types=[\"dSPN\", \"iSPN\"], \n",
    "                               unit_centre=np.array([0.00475, 0.004, 0.00775]) -np.array([150e-6,0,0]),\n",
    "                               probability_function=\"(d < 200e-6) * 1\", num_neurons=20)\n",
    "si.write_json()"
   ]
  },
  {
   "cell_type": "code",
   "execution_count": null,
   "id": "343dbdcd",
   "metadata": {},
   "outputs": [],
   "source": [
    "from snudda import Snudda\n",
    "snd = Snudda(network_path=network_path)\n",
    "snd.create_network()"
   ]
  },
  {
   "cell_type": "markdown",
   "id": "b0dc650b",
   "metadata": {},
   "source": [
    "## Define input\n",
    "\n",
    "The input tuning has set up four inputs for each neuron ```cortical_background```, ```thalamic_background```, ```cortical``` and ```thalamic```. The first two are background input at a low frequency (2Hz) which should bring the neurons to just below firing threshold. The last two inputs are by default set to 0Hz input frequency, but they are tuned so that when the input frequency is 10Hz the neurons should spike approximately at 40Hz. There are some variation depending on spike patterns and synapse location.\n",
    "\n",
    "So what we want to do is modify the input frequency of the ```cortical``` input so that we get the spiking we want."
   ]
  },
  {
   "cell_type": "code",
   "execution_count": null,
   "id": "2fdcc622-681b-488e-a428-acb8e18601e2",
   "metadata": {
    "tags": []
   },
   "outputs": [],
   "source": [
    "# Code to dispaly example JSON file\n",
    "import json\n",
    "with open(\"input_config/basal-ganglia-data-input.json\", \"r\") as f:\n",
    "    params = json.load(f)\n",
    "    print(json.dumps(params, indent=4))\n"
   ]
  },
  {
   "cell_type": "markdown",
   "id": "44ee4658",
   "metadata": {},
   "source": [
    "Here we can see that for the ```dSPN``` neurons we define two inputs: ```cortical:1``` and ```cortical:2``` that will be based on the ```cortical``` input. Everything after the ```:``` is ignored when finding a ```meta.json``` input to match with. The reason we don't simply call them both ```cortical``` is that each name has to be unique.\n",
    "\n",
    "If we look in one of the ```meta.json``` files we can see (exerpt from the file), which will act as a template for our ```cortical:1``` input to the neurons:\n",
    "\n",
    "```                \"cortical\": {\n",
    "                    \"generator\": \"poisson\",\n",
    "                    \"type\": \"AMPA_NMDA\",\n",
    "                    \"synapse_density\": \"1.15*0.05/(1+exp(-(d-30e-6)/5e-6))\",\n",
    "                    \"num_inputs\": 100,\n",
    "                    \"frequency\": 0.0,\n",
    "                    \"population_unit_correlation\": 0.0,\n",
    "                    \"jitter\": 0.0,\n",
    "                    \"conductance\": 5e-10,\n",
    "                    \"mod_file\": \"tmGlut\",\n",
    "                    \"parameter_file\": \"$DATA/synapses/striatum/M1RH_Analysis_190925.h5-parameters-MS.json\"\n",
    "                },\n",
    "```\n",
    "\n",
    "For a ```dSPN``` belonging to population unit 1 we will change the frequency to 5Hz. We will also add ```start``` and ```end``` times to the input."
   ]
  },
  {
   "cell_type": "code",
   "execution_count": null,
   "id": "14e637f7",
   "metadata": {},
   "outputs": [],
   "source": [
    "import os\n",
    "from snudda.input import SnuddaInput\n",
    "si = SnuddaInput(network_path=network_path, \n",
    "                 input_config_file=os.path.join(\"input_config\",\"basal-ganglia-data-input.json\"),\n",
    "                 verbose=False)\n",
    "si.generate()"
   ]
  },
  {
   "cell_type": "markdown",
   "id": "9ef3c4fb",
   "metadata": {},
   "source": [
    "## Plotting the input\n",
    "\n",
    "Let's look at the input for population unit 0 (ie. neurons not allocated to any population unit), and the two populations 1 and 2. Here we plot two neurons from each group."
   ]
  },
  {
   "cell_type": "code",
   "execution_count": null,
   "id": "e031591a",
   "metadata": {},
   "outputs": [],
   "source": [
    "from snudda.plotting import PlotInput\n",
    "input_file = os.path.join(network_path, \"input-spikes.hdf5\")\n",
    "spi = PlotInput(input_file)"
   ]
  },
  {
   "cell_type": "markdown",
   "id": "938cd537",
   "metadata": {},
   "source": [
    "### No population unit (id 0)\n",
    "\n",
    "Here you can see that the two neurons (44) and (168) have both ```cortical_background``` and ```thalamic_background``` input, and that neuron 44 has many more synapses than neuron 168."
   ]
  },
  {
   "cell_type": "code",
   "execution_count": null,
   "id": "3cb17c0d",
   "metadata": {},
   "outputs": [],
   "source": [
    "spi.plot_input_population_unit(population_unit_id=0, num_neurons=2, neuron_type=\"dSPN\", fig_size=(15,5))"
   ]
  },
  {
   "cell_type": "markdown",
   "id": "1b72f76e",
   "metadata": {},
   "source": [
    "### Population unit 1\n",
    "\n",
    "Here we see that the ```cortical``` inputs are active between 1 and 3, and 4 and 6 seconds. While the ```cortical_background``` and ```thalamic background``` are active throught the simulation."
   ]
  },
  {
   "cell_type": "code",
   "execution_count": null,
   "id": "c5aca6a6",
   "metadata": {},
   "outputs": [],
   "source": [
    "spi.plot_input_population_unit(population_unit_id=1, num_neurons=2, neuron_type=\"dSPN\", fig_size=(15,5))"
   ]
  },
  {
   "cell_type": "markdown",
   "id": "5d95cd58",
   "metadata": {},
   "source": [
    "### Population unit 2\n",
    "\n",
    "Here we see that the ```cortical``` inputs are active between 4 and 6 seconds. Again the ```cortical_background``` and ```thalamic background``` are active throught the simulation."
   ]
  },
  {
   "cell_type": "code",
   "execution_count": null,
   "id": "e34e56cf",
   "metadata": {},
   "outputs": [],
   "source": [
    "spi.plot_input_population_unit(population_unit_id=2, num_neurons=2, neuron_type=\"dSPN\", fig_size=(15,5))"
   ]
  },
  {
   "cell_type": "markdown",
   "id": "536a707a",
   "metadata": {},
   "source": [
    "## Run the simulation:"
   ]
  },
  {
   "cell_type": "code",
   "execution_count": null,
   "id": "b18ba0e5",
   "metadata": {
    "tags": []
   },
   "outputs": [],
   "source": [
    "n_cores = 8\n",
    "duration = 10\n",
    "os.system(f\"mpiexec -n {n_cores} snudda simulate {network_path} --time {duration}\")"
   ]
  }
 ],
 "metadata": {
  "kernelspec": {
   "display_name": "Python 3 (ipykernel)",
   "language": "python",
   "name": "python3"
  },
  "language_info": {
   "codemirror_mode": {
    "name": "ipython",
    "version": 3
   },
   "file_extension": ".py",
   "mimetype": "text/x-python",
   "name": "python",
   "nbconvert_exporter": "python",
   "pygments_lexer": "ipython3",
   "version": "3.9.2"
  }
 },
 "nbformat": 4,
 "nbformat_minor": 5
}
