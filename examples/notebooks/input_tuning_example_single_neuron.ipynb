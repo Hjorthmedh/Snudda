{
 "cells": [
  {
   "cell_type": "markdown",
   "id": "heated-thousand",
   "metadata": {},
   "source": [
    "Different morphologies of the same neuron type might require different activation to reach comparable firing frequency. InputScaling simulates a network of a neuron type with different number of inputs, and different frequency to infer what level of input is needed.\n",
    "\n",
    "Here we look at the input to ```neuron_types=\"fs\"```.\n",
    "\n",
    "During a simulation we can vary the input frequency, but not the number of inputs coupled to a neuron, so we use a set of ```num_replicas``` copies of each morphology, each receiving a different number of inputs from ```num_input_min``` to ```num_input_max``` of a given ```input_type``` (e.g. for striatum \"cortical\" or \"thalamic\"). Note that if 100 inputs are requested, then on average 100 inputs will be placed, but the number can vary as the placement is random.\n",
    "\n",
    "A set of input frequencies are tested, specified by ```input_frequency_range```, and each of these frequencies is run for ```input_duration``` seconds. In this example we create a small example, but we recommend that use use a longer input duration (e.g. 10 seconds, or possibly more).\n",
    "\n",
    "The user can specify ```parameter_id```, ```morphology_id``` and (neuron) ```modulation_id``` to be used for the neuron model. Each parameter_id can have multiple morphologies associated with it. This means that  ```parameter_id=0, morphology_id=0``` might refer to a different morphology than ```parameter_id=1, morphology_id=0```. Since ```morphology_id=0``` simply means the first morphology in the list of available morphologies for a given ```parameter_id```."
   ]
  },
  {
   "cell_type": "code",
   "execution_count": 1,
   "id": "silent-heading",
   "metadata": {},
   "outputs": [],
   "source": [
    "import os\n",
    "from snudda.input.input_tuning import InputTuning\n",
    "network_path = os.path.join(\"networks\", \"input_tuning\")\n",
    "input_tuning = InputTuning(network_path)"
   ]
  },
  {
   "cell_type": "markdown",
   "id": "beginning-preliminary",
   "metadata": {},
   "source": [
    "We create a network without any synapses and connect different number of external inputs to the neurons. Each neuron then receives a range of input frequencies. Here ```neurons_path``` points to the folder that contains all the different neuron types. Note that we use ```$DATA``` to refer to the ```snudda/data``` folder, but you can use an absolute path instead if you have your own neurons folder. If you want to specify a single specific neuron model, then use ```single_neuron_path``` instead, and set ```neurons_path = None```\n",
    "\n",
    "If you use your own neurons you probably want to compile the neuron mechanisms from another folder when calling ```nrnivmodl``` below.\n",
    "\n",
    "Also note that the folder names for the different neurons must be lowercase."
   ]
  },
  {
   "cell_type": "code",
   "execution_count": 4,
   "id": "alert-response",
   "metadata": {},
   "outputs": [
    {
     "name": "stdout",
     "output_type": "stream",
     "text": [
      "No parameter.json file.\n"
     ]
    },
    {
     "ename": "AssertionError",
     "evalue": "If no morphology is given in parameter.json then /home/hjorth/HBP/Snudda/snudda/data/neurons/striatum/fs/str-fs-e161024_FS16-mDR-rat-Mar-13-08-1-536-R-v20210210 should contain exactly one swc file",
     "output_type": "error",
     "traceback": [
      "\u001b[0;31m---------------------------------------------------------------------------\u001b[0m",
      "\u001b[0;31mAssertionError\u001b[0m                            Traceback (most recent call last)",
      "Input \u001b[0;32mIn [4]\u001b[0m, in \u001b[0;36m<cell line: 5>\u001b[0;34m()\u001b[0m\n\u001b[1;32m      2\u001b[0m single_neuron_path \u001b[38;5;241m=\u001b[39m os\u001b[38;5;241m.\u001b[39mpath\u001b[38;5;241m.\u001b[39mjoin(\u001b[38;5;124m\"\u001b[39m\u001b[38;5;124m$DATA\u001b[39m\u001b[38;5;124m\"\u001b[39m, \u001b[38;5;124m\"\u001b[39m\u001b[38;5;124mneurons\u001b[39m\u001b[38;5;124m\"\u001b[39m, \u001b[38;5;124m\"\u001b[39m\u001b[38;5;124mstriatum\u001b[39m\u001b[38;5;124m\"\u001b[39m, \u001b[38;5;124m\"\u001b[39m\u001b[38;5;124mfs\u001b[39m\u001b[38;5;124m\"\u001b[39m, \u001b[38;5;124m\"\u001b[39m\u001b[38;5;124mstr-fs-e161024_FS16-mDR-rat-Mar-13-08-1-536-R-v20210210\u001b[39m\u001b[38;5;124m\"\u001b[39m)\n\u001b[1;32m      4\u001b[0m \u001b[38;5;66;03m# You can use parameter_key and morphology_key (better than using parameter_id and morphology_id)\u001b[39;00m\n\u001b[0;32m----> 5\u001b[0m \u001b[43minput_tuning\u001b[49m\u001b[38;5;241;43m.\u001b[39;49m\u001b[43msetup_network\u001b[49m\u001b[43m(\u001b[49m\u001b[43mneurons_path\u001b[49m\u001b[38;5;241;43m=\u001b[39;49m\u001b[43mneurons_path\u001b[49m\u001b[43m,\u001b[49m\u001b[43m \u001b[49m\n\u001b[1;32m      6\u001b[0m \u001b[43m                           \u001b[49m\u001b[43mnum_replicas\u001b[49m\u001b[38;5;241;43m=\u001b[39;49m\u001b[38;5;241;43m20\u001b[39;49m\u001b[43m,\u001b[49m\n\u001b[1;32m      7\u001b[0m \u001b[43m                           \u001b[49m\u001b[43mneuron_types\u001b[49m\u001b[38;5;241;43m=\u001b[39;49m\u001b[38;5;124;43m\"\u001b[39;49m\u001b[38;5;124;43mfs\u001b[39;49m\u001b[38;5;124;43m\"\u001b[39;49m\u001b[43m,\u001b[49m\n\u001b[1;32m      8\u001b[0m \u001b[43m                           \u001b[49m\u001b[43mparameter_key\u001b[49m\u001b[38;5;241;43m=\u001b[39;49m\u001b[38;5;124;43m\"\u001b[39;49m\u001b[38;5;124;43mp31916918\u001b[39;49m\u001b[38;5;124;43m\"\u001b[39;49m\u001b[43m,\u001b[49m\n\u001b[1;32m      9\u001b[0m \u001b[43m                           \u001b[49m\u001b[43mmorphology_key\u001b[49m\u001b[38;5;241;43m=\u001b[39;49m\u001b[38;5;124;43m\"\u001b[39;49m\u001b[38;5;124;43mm27aed108\u001b[39;49m\u001b[38;5;124;43m\"\u001b[39;49m\u001b[43m,\u001b[49m\n\u001b[1;32m     10\u001b[0m \u001b[43m                           \u001b[49m\u001b[43mmodulation_key\u001b[49m\u001b[38;5;241;43m=\u001b[39;49m\u001b[38;5;28;43;01mNone\u001b[39;49;00m\u001b[43m,\u001b[49m\n\u001b[1;32m     11\u001b[0m \u001b[43m                           \u001b[49m\u001b[43msingle_neuron_path\u001b[49m\u001b[38;5;241;43m=\u001b[39;49m\u001b[43msingle_neuron_path\u001b[49m\u001b[43m)\u001b[49m\n\u001b[1;32m     12\u001b[0m input_tuning\u001b[38;5;241m.\u001b[39msetup_input(input_type\u001b[38;5;241m=\u001b[39m\u001b[38;5;124m\"\u001b[39m\u001b[38;5;124mcortical\u001b[39m\u001b[38;5;124m\"\u001b[39m,  \u001b[38;5;66;03m# eg. \"cortical\" or \"thalamic\"\u001b[39;00m\n\u001b[1;32m     13\u001b[0m                          num_input_min\u001b[38;5;241m=\u001b[39m\u001b[38;5;241m10\u001b[39m,\n\u001b[1;32m     14\u001b[0m                          num_input_max\u001b[38;5;241m=\u001b[39m\u001b[38;5;241m200\u001b[39m,\n\u001b[1;32m     15\u001b[0m                          input_duration\u001b[38;5;241m=\u001b[39m\u001b[38;5;241m2.0\u001b[39m,\n\u001b[1;32m     16\u001b[0m                          input_frequency_range\u001b[38;5;241m=\u001b[39m[\u001b[38;5;241m1.0\u001b[39m, \u001b[38;5;241m2.0\u001b[39m])\n",
      "File \u001b[0;32m~/HBP/Snudda/snudda/input/input_tuning.py:78\u001b[0m, in \u001b[0;36mInputTuning.setup_network\u001b[0;34m(self, neurons_path, num_replicas, neuron_types, parameter_key, morphology_key, modulation_key, single_neuron_path)\u001b[0m\n\u001b[1;32m     74\u001b[0m     all_combinations \u001b[38;5;241m=\u001b[39m \u001b[38;5;28;01mFalse\u001b[39;00m\n\u001b[1;32m     76\u001b[0m \u001b[38;5;66;03m# TODO: num_replicas should be set by a parameter, it affects how many duplicates of each neuron\u001b[39;00m\n\u001b[1;32m     77\u001b[0m \u001b[38;5;66;03m# and thus how many steps we have between n_min and n_max number of inputs specified.\u001b[39;00m\n\u001b[0;32m---> 78\u001b[0m config_def \u001b[38;5;241m=\u001b[39m \u001b[38;5;28;43mself\u001b[39;49m\u001b[38;5;241;43m.\u001b[39;49m\u001b[43mcreate_network_config\u001b[49m\u001b[43m(\u001b[49m\u001b[43mneurons_path\u001b[49m\u001b[38;5;241;43m=\u001b[39;49m\u001b[43mneurons_path\u001b[49m\u001b[43m,\u001b[49m\n\u001b[1;32m     79\u001b[0m \u001b[43m                                        \u001b[49m\u001b[43mnum_replicas\u001b[49m\u001b[38;5;241;43m=\u001b[39;49m\u001b[43mnum_replicas\u001b[49m\u001b[43m,\u001b[49m\n\u001b[1;32m     80\u001b[0m \u001b[43m                                        \u001b[49m\u001b[43mneuron_types\u001b[49m\u001b[38;5;241;43m=\u001b[39;49m\u001b[43mneuron_types\u001b[49m\u001b[43m,\u001b[49m\n\u001b[1;32m     81\u001b[0m \u001b[43m                                        \u001b[49m\u001b[43msingle_neuron_path\u001b[49m\u001b[38;5;241;43m=\u001b[39;49m\u001b[43msingle_neuron_path\u001b[49m\u001b[43m,\u001b[49m\n\u001b[1;32m     82\u001b[0m \u001b[43m                                        \u001b[49m\u001b[43mparameter_key\u001b[49m\u001b[38;5;241;43m=\u001b[39;49m\u001b[43mparameter_key\u001b[49m\u001b[43m,\u001b[49m\n\u001b[1;32m     83\u001b[0m \u001b[43m                                        \u001b[49m\u001b[43mmorphology_key\u001b[49m\u001b[38;5;241;43m=\u001b[39;49m\u001b[43mmorphology_key\u001b[49m\u001b[43m,\u001b[49m\n\u001b[1;32m     84\u001b[0m \u001b[43m                                        \u001b[49m\u001b[43mmodulation_key\u001b[49m\u001b[38;5;241;43m=\u001b[39;49m\u001b[43mmodulation_key\u001b[49m\u001b[43m,\u001b[49m\n\u001b[1;32m     85\u001b[0m \u001b[43m                                        \u001b[49m\u001b[43mall_combinations\u001b[49m\u001b[38;5;241;43m=\u001b[39;49m\u001b[43mall_combinations\u001b[49m\u001b[43m)\u001b[49m\n\u001b[1;32m     87\u001b[0m \u001b[38;5;28mprint\u001b[39m(\u001b[38;5;124mf\u001b[39m\u001b[38;5;124m\"\u001b[39m\u001b[38;5;124mWriting network config file to \u001b[39m\u001b[38;5;132;01m{\u001b[39;00m\u001b[38;5;28mself\u001b[39m\u001b[38;5;241m.\u001b[39mnetwork_config_file_name\u001b[38;5;132;01m}\u001b[39;00m\u001b[38;5;124m\"\u001b[39m)\n\u001b[1;32m     88\u001b[0m \u001b[38;5;28;01mwith\u001b[39;00m \u001b[38;5;28mopen\u001b[39m(\u001b[38;5;28mself\u001b[39m\u001b[38;5;241m.\u001b[39mnetwork_config_file_name, \u001b[38;5;124m\"\u001b[39m\u001b[38;5;124mw\u001b[39m\u001b[38;5;124m\"\u001b[39m) \u001b[38;5;28;01mas\u001b[39;00m f:\n",
      "File \u001b[0;32m~/HBP/Snudda/snudda/input/input_tuning.py:729\u001b[0m, in \u001b[0;36mInputTuning.create_network_config\u001b[0;34m(self, neurons_path, num_replicas, random_seed, neuron_types, single_neuron_path, parameter_key, morphology_key, modulation_key, all_combinations)\u001b[0m\n\u001b[1;32m    727\u001b[0m \u001b[38;5;28;01massert\u001b[39;00m \u001b[38;5;28mtype\u001b[39m(neuron_types) \u001b[38;5;241m==\u001b[39m \u001b[38;5;28mstr\u001b[39m, \u001b[38;5;124m\"\u001b[39m\u001b[38;5;124mneuron_types must be string if single_neuron_path set\u001b[39m\u001b[38;5;124m\"\u001b[39m\n\u001b[1;32m    728\u001b[0m neuron_def \u001b[38;5;241m=\u001b[39m collections\u001b[38;5;241m.\u001b[39mOrderedDict()\n\u001b[0;32m--> 729\u001b[0m neuron_def[neuron_types] \u001b[38;5;241m=\u001b[39m \u001b[38;5;28;43mself\u001b[39;49m\u001b[38;5;241;43m.\u001b[39;49m\u001b[43mget_neuron_info\u001b[49m\u001b[43m(\u001b[49m\u001b[43msingle_neuron_path\u001b[49m\u001b[43m)\u001b[49m\n\u001b[1;32m    731\u001b[0m \u001b[38;5;28;01mif\u001b[39;00m parameter_key:\n\u001b[1;32m    732\u001b[0m     neuron_def[neuron_types][\u001b[38;5;124m\"\u001b[39m\u001b[38;5;124mparameterKey\u001b[39m\u001b[38;5;124m\"\u001b[39m] \u001b[38;5;241m=\u001b[39m parameter_key\n",
      "File \u001b[0;32m~/HBP/Snudda/snudda/input/input_tuning.py:566\u001b[0m, in \u001b[0;36mInputTuning.get_neuron_info\u001b[0;34m(self, neuron_path)\u001b[0m\n\u001b[1;32m    563\u001b[0m neuron_info \u001b[38;5;241m=\u001b[39m collections\u001b[38;5;241m.\u001b[39mOrderedDict()\n\u001b[1;32m    565\u001b[0m \u001b[38;5;66;03m# Find neuron morphology swc file, obs currently assume lowercase(!)\u001b[39;00m\n\u001b[0;32m--> 566\u001b[0m neuron_morph \u001b[38;5;241m=\u001b[39m \u001b[38;5;28;43mself\u001b[39;49m\u001b[38;5;241;43m.\u001b[39;49m\u001b[43minit_helper\u001b[49m\u001b[38;5;241;43m.\u001b[39;49m\u001b[43mget_morphologies\u001b[49m\u001b[43m(\u001b[49m\u001b[43mneuron_path\u001b[49m\u001b[43m)\u001b[49m\n\u001b[1;32m    568\u001b[0m parameter_file \u001b[38;5;241m=\u001b[39m os\u001b[38;5;241m.\u001b[39mpath\u001b[38;5;241m.\u001b[39mjoin(neuron_path, \u001b[38;5;124m\"\u001b[39m\u001b[38;5;124mparameters.json\u001b[39m\u001b[38;5;124m\"\u001b[39m)\n\u001b[1;32m    569\u001b[0m mechanism_file \u001b[38;5;241m=\u001b[39m os\u001b[38;5;241m.\u001b[39mpath\u001b[38;5;241m.\u001b[39mjoin(neuron_path, \u001b[38;5;124m\"\u001b[39m\u001b[38;5;124mmechanisms.json\u001b[39m\u001b[38;5;124m\"\u001b[39m)\n",
      "File \u001b[0;32m~/HBP/Snudda/snudda/init/init.py:620\u001b[0m, in \u001b[0;36mSnuddaInit.get_morphologies\u001b[0;34m(self, neuron_dir)\u001b[0m\n\u001b[1;32m    618\u001b[0m \u001b[38;5;28;01melse\u001b[39;00m:\n\u001b[1;32m    619\u001b[0m     swc_file \u001b[38;5;241m=\u001b[39m glob\u001b[38;5;241m.\u001b[39mglob(os\u001b[38;5;241m.\u001b[39mpath\u001b[38;5;241m.\u001b[39mjoin(snudda_parse_path(neuron_dir, \u001b[38;5;28mself\u001b[39m\u001b[38;5;241m.\u001b[39msnudda_data), \u001b[38;5;124m\"\u001b[39m\u001b[38;5;124m*swc\u001b[39m\u001b[38;5;124m\"\u001b[39m))\n\u001b[0;32m--> 620\u001b[0m     \u001b[38;5;28;01massert\u001b[39;00m \u001b[38;5;28mlen\u001b[39m(swc_file) \u001b[38;5;241m==\u001b[39m \u001b[38;5;241m1\u001b[39m, \\\n\u001b[1;32m    621\u001b[0m         (\u001b[38;5;124mf\u001b[39m\u001b[38;5;124m\"\u001b[39m\u001b[38;5;124mIf no morphology is given in parameter.json then \u001b[39m\u001b[38;5;124m\"\u001b[39m\n\u001b[1;32m    622\u001b[0m          \u001b[38;5;124mf\u001b[39m\u001b[38;5;124m\"\u001b[39m\u001b[38;5;132;01m{\u001b[39;00msnudda_parse_path(neuron_dir, \u001b[38;5;28mself\u001b[39m\u001b[38;5;241m.\u001b[39msnudda_data)\u001b[38;5;132;01m}\u001b[39;00m\u001b[38;5;124m should contain exactly one swc file\u001b[39m\u001b[38;5;124m\"\u001b[39m)\n\u001b[1;32m    624\u001b[0m     swc_file \u001b[38;5;241m=\u001b[39m snudda_simplify_path(swc_file[\u001b[38;5;241m0\u001b[39m], \u001b[38;5;28mself\u001b[39m\u001b[38;5;241m.\u001b[39msnudda_data)\n\u001b[1;32m    625\u001b[0m     \u001b[38;5;28;01mreturn\u001b[39;00m swc_file\n",
      "\u001b[0;31mAssertionError\u001b[0m: If no morphology is given in parameter.json then /home/hjorth/HBP/Snudda/snudda/data/neurons/striatum/fs/str-fs-e161024_FS16-mDR-rat-Mar-13-08-1-536-R-v20210210 should contain exactly one swc file"
     ]
    }
   ],
   "source": [
    "neurons_path = None # os.path.join(\"$DATA\", \"neurons\", \"striatum\")\n",
    "single_neuron_path = os.path.join(\"$DATA\", \"neurons\", \"striatum\", \"fs\", \"str-fs-e161024_FS16-mDR-rat-Mar-13-08-1-536-R-v20210210\")\n",
    "\n",
    "# You can use parameter_key and morphology_key (better than using parameter_id and morphology_id)\n",
    "input_tuning.setup_network(neurons_path=neurons_path, \n",
    "                           num_replicas=20,\n",
    "                           neuron_types=\"fs\",\n",
    "                           parameter_key=\"p31916918\",\n",
    "                           morphology_key=\"m27aed108\",\n",
    "                           modulation_key=None,\n",
    "                           single_neuron_path=single_neuron_path)\n",
    "input_tuning.setup_input(input_type=\"cortical\",  # eg. \"cortical\" or \"thalamic\"\n",
    "                         num_input_min=10,\n",
    "                         num_input_max=200,\n",
    "                         input_duration=2.0,\n",
    "                         input_frequency_range=[1.0, 2.0])"
   ]
  },
  {
   "cell_type": "code",
   "execution_count": null,
   "id": "spread-diamond",
   "metadata": {},
   "outputs": [],
   "source": [
    "from snudda.input import SnuddaInput\n",
    "\n",
    "si = SnuddaInput(input_config_file=input_tuning.input_config_file,\n",
    "                 hdf5_network_file=input_tuning.network_file,\n",
    "                 spike_data_filename=input_tuning.input_spikes_file,\n",
    "                 time=input_tuning.max_time)\n",
    "si.generate()"
   ]
  },
  {
   "cell_type": "code",
   "execution_count": null,
   "id": "defensive-equipment",
   "metadata": {},
   "outputs": [],
   "source": [
    "!nrnivmodl ../../snudda/data/neurons/mechanisms"
   ]
  },
  {
   "cell_type": "markdown",
   "id": "dynamic-catalog",
   "metadata": {},
   "source": [
    "## For large runs, to simulate in parallel use:\n",
    "\n",
    "```mpiexec -n 4 python3 ../../snudda/input/input_tuning.py simulate networks/input_tuning/```\n",
    "\n",
    "If you have more than four cores available on your machine, increase the number of workers accordingly.\n",
    "\n",
    "## Below we just run it in serial in the notebook:"
   ]
  },
  {
   "cell_type": "code",
   "execution_count": null,
   "id": "sufficient-progressive",
   "metadata": {
    "scrolled": true
   },
   "outputs": [],
   "source": [
    "input_tuning.simulate()"
   ]
  },
  {
   "cell_type": "markdown",
   "id": "b3a14429",
   "metadata": {},
   "source": [
    "## Analyse results"
   ]
  },
  {
   "cell_type": "code",
   "execution_count": null,
   "id": "alternate-worry",
   "metadata": {
    "scrolled": false
   },
   "outputs": [],
   "source": [
    "%matplotlib notebook\n",
    "\n",
    "input_tuning.analyse_results(show_plots=True)"
   ]
  },
  {
   "cell_type": "code",
   "execution_count": null,
   "id": "close-operation",
   "metadata": {},
   "outputs": [],
   "source": []
  },
  {
   "cell_type": "code",
   "execution_count": null,
   "id": "9ba3a938",
   "metadata": {},
   "outputs": [],
   "source": []
  }
 ],
 "metadata": {
  "kernelspec": {
   "display_name": "Python 3 (ipykernel)",
   "language": "python",
   "name": "python3"
  },
  "language_info": {
   "codemirror_mode": {
    "name": "ipython",
    "version": 3
   },
   "file_extension": ".py",
   "mimetype": "text/x-python",
   "name": "python",
   "nbconvert_exporter": "python",
   "pygments_lexer": "ipython3",
   "version": "3.9.2"
  }
 },
 "nbformat": 4,
 "nbformat_minor": 5
}
