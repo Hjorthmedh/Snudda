{
 "cells": [
  {
   "cell_type": "markdown",
   "id": "a5f2d0f5-0d09-4842-bf45-34da06c63ae4",
   "metadata": {},
   "source": [
    "# Generating input with varying frequency\n",
    "\n",
    "Create a small striatal network, with population units, and then simulate the neurons while they receive time varying input."
   ]
  },
  {
   "cell_type": "code",
   "execution_count": 1,
   "id": "af694f65-b074-4ca4-81db-9cd6bd48da9e",
   "metadata": {},
   "outputs": [],
   "source": [
    "import os\n",
    "network_path = os.path.join(\"networks\",\"frequency_test\")\n",
    "rc = None"
   ]
  },
  {
   "cell_type": "code",
   "execution_count": 2,
   "id": "7d6a73bf-7575-43ee-b350-083028f55252",
   "metadata": {},
   "outputs": [
    {
     "name": "stdout",
     "output_type": "stream",
     "text": [
      "export SNUDDA_DATA=../../../../BasalGangliaData/data\n"
     ]
    }
   ],
   "source": [
    "bg_data_path = os.path.join(\"..\", \"..\", \"..\", \"..\", \"BasalGangliaData\", \"data\")\n",
    "if os.path.isdir(bg_data_path):\n",
    "    os.environ[\"SNUDDA_DATA\"] = bg_data_path\n",
    "    print(f\"export SNUDDA_DATA={bg_data_path}\")"
   ]
  },
  {
   "cell_type": "markdown",
   "id": "9e307617-1a00-45a7-b6c7-79f347ae1446",
   "metadata": {},
   "source": [
    "## Define the network\n",
    "\n",
    "Here we define a small network with dSPN, iSPN and FS neurons. We also define two population units (with dSPN and iSPN) within the network (1 and 2), the remaining neurons do not have a population unit (i.e. set to zero). See the ```n_neurons```, ```n_pop_unit_1``` and ```n_pop_unit_2``` variables below."
   ]
  },
  {
   "cell_type": "code",
   "execution_count": null,
   "id": "1a380634-4971-49cc-899b-b8ab8e93e111",
   "metadata": {},
   "outputs": [],
   "source": [
    "import numpy as np\n",
    "from snudda import SnuddaInit\n",
    "\n",
    "config_file = os.path.join(network_path, \"network-config.json\")\n",
    "si = SnuddaInit(config_file=config_file, random_seed=12345)\n",
    "\n",
    "# Number of neurons in simulation, and size of population unit 1 and 2\n",
    "n_neurons = 40\n",
    "n_pop_unit_1 = 15\n",
    "n_pop_unit_2 = 15\n",
    "\n",
    "f_dSPN = 0.475\n",
    "f_iSPN = 0.475\n",
    "f_FS = 0.013\n",
    "f_TOT = f_dSPN + f_iSPN + f_FS\n",
    "n_dSPN = n_neurons * f_dSPN / f_TOT\n",
    "n_iSPN = n_neurons * f_iSPN / f_TOT\n",
    "n_FS = n_neurons * f_FS / f_TOT\n",
    "\n",
    "si.define_striatum(num_dSPN=n_dSPN, num_iSPN=n_iSPN, num_FS=n_FS, num_LTS=0, num_ChIN=0,\n",
    "                   volume_type=\"cube\", neurons_dir=\"$DATA/neurons\")\n",
    "\n",
    "# The centre of the cube is [0.00475, 0.004, 0.00775]. num_neurons is optional\n",
    "si.add_population_unit_density(structure_name=\"Striatum\", neuron_types=[\"dSPN\", \"iSPN\"], \n",
    "                               unit_centre=np.array([0.00475, 0.004, 0.00775]) -np.array([0,50e-6,150e-6]),\n",
    "                               probability_function=\"(d < 200e-6)*1\", num_neurons=n_pop_unit_1)\n",
    "si.add_population_unit_density(structure_name=\"Striatum\", neuron_types=[\"dSPN\", \"iSPN\"], \n",
    "                               unit_centre=np.array([0.00475, 0.004, 0.00775]) -np.array([150e-6,0,0]),\n",
    "                               probability_function=\"(d < 200e-6) * 1\", num_neurons=n_pop_unit_2)\n",
    " \n",
    "si.write_json(config_file)"
   ]
  },
  {
   "cell_type": "markdown",
   "id": "5ba85814-89e4-47d6-8336-0e794023702e",
   "metadata": {},
   "source": [
    "## Place the neurons, and plot the network"
   ]
  },
  {
   "cell_type": "code",
   "execution_count": null,
   "id": "3cb849dc-498c-49e1-98b9-d223fb19b2d9",
   "metadata": {},
   "outputs": [],
   "source": [
    "from snudda import SnuddaPlace\n",
    "sp = SnuddaPlace(network_path=network_path)\n",
    "sp.place()"
   ]
  },
  {
   "cell_type": "code",
   "execution_count": null,
   "id": "e6758677-2b98-4cfa-b59e-443ceba8e3f9",
   "metadata": {},
   "outputs": [],
   "source": [
    "from snudda.plotting import PlotNetwork\n",
    "pos_file = os.path.join(network_path, \"network-neuron-positions.hdf5\")\n",
    "\n",
    "pn = PlotNetwork(pos_file)\n",
    "pn.plot_populations()\n",
    "\n",
    "# The commented code below also plots the network, but with the option to plot more detail of the neurons:\n",
    "# pn = PlotNetwork(network_path)\n",
    "# pn.plot(plot_axon=False, plot_dendrite=False, plot_synapses=False, colour_population_unit=True)\n",
    "\n",
    "pn.close()  # Close the hdf5 file so others can use it (or better shut down kernel after)"
   ]
  },
  {
   "cell_type": "markdown",
   "id": "20cf2e89-87ca-4b3e-ac10-3cf04507a56d",
   "metadata": {},
   "source": [
    "# Starting an ```ipcluster``` for parallel execution\n",
    "\n",
    "In the same folder as the notebook is located run the commands below to start the ipcluster. Make sure to wait a little between when you start the ipcluster and when you then continue running the cells below, so that the cluster have time to startup and the workers are registered and receiving work.\n",
    "\n",
    "```\n",
    "export IPYTHONDIR=\"`pwd`/.ipython\"\n",
    "export IPYTHON_PROFILE=default\n",
    "export SNUDDA_DATA=../../../../BasalGangliaData/data\n",
    "ipcluster start\n",
    "```\n",
    "\n",
    "If you did not have the ```BasalGangliaData``` installed, then do not do the last export with ```SNUDDA_DATA```.\n",
    "\n",
    "To later stop the cluster, press ```Ctrl + C``` or run:\n",
    "\n",
    "```\n",
    "ipcluter stop\n",
    "```"
   ]
  },
  {
   "cell_type": "markdown",
   "id": "8cbd6008-ad05-469a-b94a-93311adf03df",
   "metadata": {},
   "source": [
    "## Define ```rc``` to make Snudda aware of the ipyparallel remote client"
   ]
  },
  {
   "cell_type": "code",
   "execution_count": null,
   "id": "b561e7cf-5d8e-4fe6-ac4f-73d9e8d0d70e",
   "metadata": {},
   "outputs": [],
   "source": [
    "import os\n",
    "from ipyparallel import Client\n",
    "\n",
    "os.environ[\"IPYTHONDIR\"] = \".ipython\"\n",
    "os.environ[\"IPYTHON_PROFILE\"] = \"default\"\n",
    "\n",
    "u_file = os.path.join(\".ipython\", \"profile_default\", \"security\", \"ipcontroller-client.json\")\n",
    "if os.path.exists(u_file):\n",
    "    rc = Client(url_file=u_file, timeout=120, debug=False)\n",
    "else:\n",
    "    print(\"Warning, running in serial.\")\n",
    "    rc = None"
   ]
  },
  {
   "cell_type": "markdown",
   "id": "97520d66-56c6-4bff-9217-51a4e87943cb",
   "metadata": {},
   "source": [
    "## Touch detection and pruning of the network synapses\n",
    "\n",
    "If Snudda complains about mismatching keys, then make sure that your parallel engines also have the ```SNUDDA_DATA``` set correctly."
   ]
  },
  {
   "cell_type": "code",
   "execution_count": null,
   "id": "82e924c5-9274-495d-a65f-1266241adf16",
   "metadata": {},
   "outputs": [],
   "source": [
    "from snudda import SnuddaDetect\n",
    "\n",
    "sd = SnuddaDetect(network_path=network_path, rc=rc)\n",
    "sd.detect()"
   ]
  },
  {
   "cell_type": "code",
   "execution_count": null,
   "id": "cee8dd49-238c-48a9-b689-3b04b1fe86f3",
   "metadata": {},
   "outputs": [],
   "source": [
    "from snudda import SnuddaPrune\n",
    "\n",
    "sp = SnuddaPrune(network_path=network_path, rc=rc)\n",
    "sp.prune()"
   ]
  },
  {
   "cell_type": "markdown",
   "id": "4af673fb-a5df-46ff-8680-6c1f38c2f648",
   "metadata": {},
   "source": [
    "## Defining the input to the neuron population\n",
    "\n",
    "Here we want to define a time varying input for the neurons. Population unit 1 receies 10Hz and population unit 2 receives 60Hz. First population unit 1 is activated, then population unit 2, then both population units simulatenous.\n",
    "\n",
    "For the ```frequency_function``` input we set the ```populationUnitCorrelation``` to 0, since they will be correlated by virtue of the frequency oscillation."
   ]
  },
  {
   "cell_type": "code",
   "execution_count": null,
   "id": "0579f2a4-e9b1-4ce8-b325-a687390ae97b",
   "metadata": {},
   "outputs": [],
   "source": [
    "from snudda.input import SnuddaInput\n",
    "si = SnuddaInput(network_path=network_path, \n",
    "                 input_config_file=\"input-config.json\",\n",
    "                 time=3.0, rc=rc,\n",
    "                 verbose=False)\n",
    "si.generate()"
   ]
  },
  {
   "cell_type": "markdown",
   "id": "d4786891-3931-42e0-9331-e018b531a000",
   "metadata": {},
   "source": [
    "## Plot the input spikes\n",
    "\n",
    "The inputs are defined in ```input-config.json```. Below is shown a portion of the file, and the different fields are explained.\n",
    "\n",
    "```\n",
    "{\n",
    "    \"dSPN\": {\n",
    "        \"Ctx_1\" : {\n",
    "\t    \"populationUnitID\" : 1,\t    \n",
    "            \"generator\" : \"frequency_function\",\n",
    "            \"start\" : [0.5, 2.5],\n",
    "            \"end\" : [1, 3],\n",
    "            \"frequency\" : \"70*(1+sin(2*3.14159*10*t))\",\n",
    "            \"conductance\" : 0.5e-9,\n",
    "            \"nInputs\" : 20,\n",
    "            \"populationUnitCorrelation\" : 0,\n",
    "            \"jitter\" : 0,        \n",
    "            \"modFile\": \"tmGlut\"\n",
    "        },\n",
    "\n",
    "...continued.\n",
    "```\n",
    "\n",
    "First ```dSPN``` specifies which neurons should receive this input, it can be either a neuron type, neuron sub-type like ```dSPN_1``` or a ```neuron_id``` like ```'13'``` (JSON wants strings for keys). \n",
    "\n",
    "The input is named, here we choose ```Ctx_1```. The ```generator``` ```frequency_function``` means that we specify the frequency as a function of t (as a string). We specify ```start``` and ```end``` here the input is on 0.5 -- 1 second, and 2.5 -- 3 seconds. \n",
    "\n",
    "The ```frequency``` is ```\"70*(1+sin(2*3.14159*10*t))\"``` which means it will oscillate at 10 Hz, with an amplitude of 70. We also specify the ```conductance```, number of inputs ```nInputs```. Because the input is already correlated due to variation in firing frequency we set ```populationUnitCorrelation``` to 0 and ```jitter``` to 0. The ```modFile``` is ```tmGlut``` since we have glutamatergic synapses.\n"
   ]
  },
  {
   "cell_type": "code",
   "execution_count": null,
   "id": "45053be9-ac5e-4017-9e5b-248d770b6789",
   "metadata": {},
   "outputs": [],
   "source": [
    "from snudda.plotting import PlotInput\n",
    "input_file = os.path.join(network_path, \"input-spikes.hdf5\")\n",
    "spi = PlotInput(input_file)"
   ]
  },
  {
   "cell_type": "code",
   "execution_count": null,
   "id": "d2664abf-f690-4d6e-9cc7-a5540f3743de",
   "metadata": {},
   "outputs": [],
   "source": [
    "spi.plot_input_population_unit(population_unit_id=1, num_neurons=5, fig_size=(15,5))"
   ]
  },
  {
   "cell_type": "code",
   "execution_count": null,
   "id": "c36a8b0b-ab6a-4bea-b6db-e08236eb6e0e",
   "metadata": {},
   "outputs": [],
   "source": [
    "spi.plot_input_population_unit(population_unit_id=2, num_neurons=5, fig_size=(15,5))"
   ]
  },
  {
   "cell_type": "markdown",
   "id": "f9e3b285-bcd4-409d-9ca1-15c3aec230b4",
   "metadata": {},
   "source": [
    "## Compile the NEURON mechanisms"
   ]
  },
  {
   "cell_type": "code",
   "execution_count": null,
   "id": "2eab473a-0700-4d2e-ae97-df0fd579426b",
   "metadata": {},
   "outputs": [],
   "source": [
    "!nrnivmodl $SNUDDA_DATA/neurons/mechanisms"
   ]
  },
  {
   "cell_type": "code",
   "execution_count": null,
   "id": "1a25b687-7295-4383-8e51-0e05e8c99d4d",
   "metadata": {},
   "outputs": [],
   "source": [
    "!mpiexec -n 3 snudda simulate networks/frequency_test --time 3"
   ]
  },
  {
   "cell_type": "code",
   "execution_count": 3,
   "id": "4e44311a-6aff-412a-99d9-ee0cf2c4cf0d",
   "metadata": {},
   "outputs": [
    {
     "name": "stdout",
     "output_type": "stream",
     "text": [
      "Loading 38 neurons with 1100 synapses and 0 gap junctions\n",
      "Loading networks/frequency_test/simulation/output.hdf5\n",
      "Saving figure to networks/frequency_test/figures/spike_raster.pdf\n"
     ]
    },
    {
     "data": {
      "image/png": "[encoded data removed]",
      "text/plain": [
       "<Figure size 500x1000 with 1 Axes>"
      ]
     },
     "metadata": {},
     "output_type": "display_data"
    }
   ],
   "source": [
    "from snudda.plotting import SnuddaPlotSpikeRaster2\n",
    "\n",
    "type_order = [\"chin\", \"dspn\", \"lts\", \"ispn\", \"fs\", \"fsn\"]\n",
    "\n",
    "sp = SnuddaPlotSpikeRaster2(network_path=network_path)\n",
    "\n",
    "sp.plot_spike_raster(type_order=type_order, fig_size=(5,10))"
   ]
  },
  {
   "cell_type": "code",
   "execution_count": null,
   "id": "58719e12-438e-4566-994d-118702e19aba",
   "metadata": {},
   "outputs": [],
   "source": []
  }
 ],
 "metadata": {
  "kernelspec": {
   "display_name": "Python 3 (ipykernel)",
   "language": "python",
   "name": "python3"
  },
  "language_info": {
   "codemirror_mode": {
    "name": "ipython",
    "version": 3
   },
   "file_extension": ".py",
   "mimetype": "text/x-python",
   "name": "python",
   "nbconvert_exporter": "python",
   "pygments_lexer": "ipython3",
   "version": "3.9.2"
  }
 },
 "nbformat": 4,
 "nbformat_minor": 5
}
