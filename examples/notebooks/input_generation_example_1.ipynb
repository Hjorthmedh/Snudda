{
 "cells": [
  {
   "cell_type": "markdown",
   "id": "congressional-failing",
   "metadata": {},
   "source": [
    "# Creating input for your network\n",
    "\n",
    "This example illustrates how to create your first input to a population of neurons.\n",
    "\n",
    "First run the ```simple_network_creation.ipynb``` so that you have a ```networks/simple_example``` folder in the ```example/notebooks``` folder with the small network."
   ]
  },
  {
   "cell_type": "code",
   "execution_count": 1,
   "id": "elegant-lexington",
   "metadata": {},
   "outputs": [
    {
     "ename": "KeyError",
     "evalue": "0.0",
     "output_type": "error",
     "traceback": [
      "\u001b[0;31m---------------------------------------------------------------------------\u001b[0m",
      "\u001b[0;31mKeyError\u001b[0m                                  Traceback (most recent call last)",
      "\u001b[0;32m<ipython-input-1-c0b5d601cd6c>\u001b[0m in \u001b[0;36m<module>\u001b[0;34m\u001b[0m\n\u001b[1;32m      5\u001b[0m                  \u001b[0minput_config_file\u001b[0m\u001b[0;34m=\u001b[0m\u001b[0mos\u001b[0m\u001b[0;34m.\u001b[0m\u001b[0mpath\u001b[0m\u001b[0;34m.\u001b[0m\u001b[0mjoin\u001b[0m\u001b[0;34m(\u001b[0m\u001b[0;34m\"input_config\"\u001b[0m\u001b[0;34m,\u001b[0m\u001b[0;34m\"simple-input-1.json\"\u001b[0m\u001b[0;34m)\u001b[0m\u001b[0;34m,\u001b[0m\u001b[0;34m\u001b[0m\u001b[0;34m\u001b[0m\u001b[0m\n\u001b[1;32m      6\u001b[0m                  verbose=False)\n\u001b[0;32m----> 7\u001b[0;31m \u001b[0msi\u001b[0m\u001b[0;34m.\u001b[0m\u001b[0mgenerate\u001b[0m\u001b[0;34m(\u001b[0m\u001b[0;34m)\u001b[0m\u001b[0;34m\u001b[0m\u001b[0;34m\u001b[0m\u001b[0m\n\u001b[0m",
      "\u001b[0;32m~/HBP/Snudda/snudda/input.py\u001b[0m in \u001b[0;36mgenerate\u001b[0;34m(self)\u001b[0m\n\u001b[1;32m    143\u001b[0m             \u001b[0;31m# stored in self.neuronInput dictionary\u001b[0m\u001b[0;34m\u001b[0m\u001b[0;34m\u001b[0m\u001b[0;34m\u001b[0m\u001b[0m\n\u001b[1;32m    144\u001b[0m \u001b[0;34m\u001b[0m\u001b[0m\n\u001b[0;32m--> 145\u001b[0;31m             \u001b[0mself\u001b[0m\u001b[0;34m.\u001b[0m\u001b[0mmake_neuron_input_parallel\u001b[0m\u001b[0;34m(\u001b[0m\u001b[0;34m)\u001b[0m\u001b[0;34m\u001b[0m\u001b[0;34m\u001b[0m\u001b[0m\n\u001b[0m\u001b[1;32m    146\u001b[0m \u001b[0;34m\u001b[0m\u001b[0m\n\u001b[1;32m    147\u001b[0m             \u001b[0;31m# Write spikes to disk, HDF5 format\u001b[0m\u001b[0;34m\u001b[0m\u001b[0;34m\u001b[0m\u001b[0;34m\u001b[0m\u001b[0m\n",
      "\u001b[0;32m~/HBP/Snudda/snudda/input.py\u001b[0m in \u001b[0;36mmake_neuron_input_parallel\u001b[0;34m(self)\u001b[0m\n\u001b[1;32m    513\u001b[0m                     \u001b[0;32mif\u001b[0m \u001b[0mneuron_type\u001b[0m \u001b[0;32min\u001b[0m \u001b[0mself\u001b[0m\u001b[0;34m.\u001b[0m\u001b[0mpopulation_unit_spikes\u001b[0m\u001b[0;34m:\u001b[0m\u001b[0;34m\u001b[0m\u001b[0;34m\u001b[0m\u001b[0m\n\u001b[1;32m    514\u001b[0m                         \u001b[0;31m# TODO: These are cleared at the end anyway, so not currently used. Remove altogether?\u001b[0m\u001b[0;34m\u001b[0m\u001b[0;34m\u001b[0m\u001b[0;34m\u001b[0m\u001b[0m\n\u001b[0;32m--> 515\u001b[0;31m                         \u001b[0mc_spikes\u001b[0m \u001b[0;34m=\u001b[0m \u001b[0mself\u001b[0m\u001b[0;34m.\u001b[0m\u001b[0mpopulation_unit_spikes\u001b[0m\u001b[0;34m[\u001b[0m\u001b[0mneuron_type\u001b[0m\u001b[0;34m]\u001b[0m\u001b[0;34m[\u001b[0m\u001b[0minput_type\u001b[0m\u001b[0;34m]\u001b[0m\u001b[0;34m[\u001b[0m\u001b[0mpopulationUnitID\u001b[0m\u001b[0;34m]\u001b[0m\u001b[0;34m\u001b[0m\u001b[0;34m\u001b[0m\u001b[0m\n\u001b[0m\u001b[1;32m    516\u001b[0m                         \u001b[0mpopulation_unit_spikes_list\u001b[0m\u001b[0;34m.\u001b[0m\u001b[0mappend\u001b[0m\u001b[0;34m(\u001b[0m\u001b[0mc_spikes\u001b[0m\u001b[0;34m)\u001b[0m\u001b[0;34m\u001b[0m\u001b[0;34m\u001b[0m\u001b[0m\n\u001b[1;32m    517\u001b[0m                     \u001b[0;32melse\u001b[0m\u001b[0;34m:\u001b[0m\u001b[0;34m\u001b[0m\u001b[0;34m\u001b[0m\u001b[0m\n",
      "\u001b[0;31mKeyError\u001b[0m: 0.0"
     ]
    }
   ],
   "source": [
    "import os\n",
    "from snudda.input import SnuddaInput\n",
    "network_path = os.path.join(\"networks\",\"simple_example\")\n",
    "si = SnuddaInput(network_path=network_path, \n",
    "                 input_config_file=os.path.join(\"input_config\",\"simple-input-1.json\"),\n",
    "                 verbose=False)\n",
    "si.generate()"
   ]
  },
  {
   "cell_type": "markdown",
   "id": "aggressive-success",
   "metadata": {},
   "source": [
    "Here the example config ```simple-input-1.json``` that generates 20 Poisson inputs to the dSPN neurons with 1Hz frequency and conductance 0.5nS. The inputs use the ``tmGlut`` model in the ```data/neurons/mechanism``` folder.\n",
    "\n",
    "```\n",
    "{\n",
    "    \"dSPN\": {\n",
    "        \"Ctx\" : {\n",
    "            \"generator\" : \"poisson\",\n",
    "            \"frequency\" : 1,\n",
    "            \"conductance\" : 0.5e-9,\n",
    "            \"nInputs\" : 20,\n",
    "            \"modFile\": \"tmGlut\"\n",
    "        }\n",
    "    }\n",
    "}\n",
    "\n",
    "```\n",
    "\n",
    "Below we are using ```plot_input``` in ```PlotInput``` to inspect the generated spike train. Here we are plotting 10 randomly chosen \"dSPN\" neurons from the network."
   ]
  },
  {
   "cell_type": "code",
   "execution_count": null,
   "id": "contained-length",
   "metadata": {},
   "outputs": [],
   "source": [
    "from snudda.plotting.plot_input import PlotInput\n",
    "input_file = os.path.join(network_path, \"input-spikes.hdf5\")\n",
    "spi = PlotInput(input_file)"
   ]
  },
  {
   "cell_type": "code",
   "execution_count": null,
   "id": "empty-carry",
   "metadata": {},
   "outputs": [],
   "source": [
    "spi.plot_input(\"dSPN\", 10, fig_size=(15,5))"
   ]
  },
  {
   "cell_type": "markdown",
   "id": "considered-stephen",
   "metadata": {},
   "source": [
    "If you want to plot specific neurons then use ```plot_input_to_target```."
   ]
  },
  {
   "cell_type": "code",
   "execution_count": null,
   "id": "steady-groove",
   "metadata": {
    "scrolled": true
   },
   "outputs": [],
   "source": [
    "spi.plot_input_to_target([2,4,5,6,7,8])"
   ]
  },
  {
   "cell_type": "markdown",
   "id": "bottom-drilling",
   "metadata": {},
   "source": [
    "Continue with ```input_generation_example_2_frequency_vectors.ipynb``` for how to specify time varying inputs, and differentiating inputs to different neuron morphologies or neuron ids."
   ]
  }
 ],
 "metadata": {
  "kernelspec": {
   "display_name": "Python 3",
   "language": "python",
   "name": "python3"
  },
  "language_info": {
   "codemirror_mode": {
    "name": "ipython",
    "version": 3
   },
   "file_extension": ".py",
   "mimetype": "text/x-python",
   "name": "python",
   "nbconvert_exporter": "python",
   "pygments_lexer": "ipython3",
   "version": "3.7.3"
  }
 },
 "nbformat": 4,
 "nbformat_minor": 5
}
