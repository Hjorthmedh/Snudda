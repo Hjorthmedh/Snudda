{
 "cells": [
  {
   "cell_type": "markdown",
   "id": "d75f0e83-fc1b-41ea-91f5-9e1ec1a056ad",
   "metadata": {},
   "source": [
    "# Setup and simulate Schizophrenia network"
   ]
  },
  {
   "cell_type": "code",
   "execution_count": null,
   "id": "8432056a-edb2-4d63-92fd-1aa7345f3579",
   "metadata": {},
   "outputs": [],
   "source": [
    "from snudda import Snudda\n",
    "\n",
    "network_path = \"network/d2oe-0\"\n",
    "\n",
    "snd_wt = Snudda(network_path=network_path)\n",
    "snd_wt.init_config(network_size=100, \n",
    "                   snudda_data=\"../../../../bgmod/models/optim/schizophrenic/BGDATA/WT\",\n",
    "                   honor_stay_inside=False,\n",
    "                   overwrite=True, random_seed=1234)"
   ]
  },
  {
   "cell_type": "code",
   "execution_count": null,
   "id": "9344757d-210c-41ed-abf4-80d99705b604",
   "metadata": {},
   "outputs": [],
   "source": [
    "snd_wt.create_network()"
   ]
  },
  {
   "cell_type": "code",
   "execution_count": null,
   "id": "bb0f9b11-114d-49be-9642-de15b78e46d7",
   "metadata": {},
   "outputs": [],
   "source": [
    "from snudda.analyse import SnuddaAnalyseStriatum   \n",
    "nas = SnuddaAnalyseStriatum(network_path, volume_type=\"cube\")\n"
   ]
  },
  {
   "cell_type": "code",
   "execution_count": null,
   "id": "74a2d8e4-a904-453a-910d-317557197323",
   "metadata": {},
   "outputs": [],
   "source": [
    "dist3D = True\n",
    "\n",
    "nas.plot_connection_probability(\"dSPN\", \"iSPN\",\n",
    "                                dist_3d=dist3D,\n",
    "                                exp_max_dist=[50e-6, 100e-6],\n",
    "                                exp_data=[3 / 47.0, 3 / 66.0],\n",
    "                                exp_data_detailed=[(3, 47), (3, 66)])\n",
    "nas.plot_connection_probability(\"dSPN\", \"dSPN\",\n",
    "                                dist_3d=dist3D,\n",
    "                                exp_max_dist=[50e-6, 100e-6],\n",
    "                                exp_data=[5 / 19.0, 3 / 43.0],\n",
    "                                exp_data_detailed=[(5, 19), (3, 43)])\n",
    "nas.plot_connection_probability(\"iSPN\", \"dSPN\",\n",
    "                                dist_3d=dist3D,\n",
    "                                exp_max_dist=[50e-6, 100e-6],\n",
    "                                exp_data=[13 / 47.0, 10 / 80.0],\n",
    "                                exp_data_detailed=[(13, 47), (10, 80)])\n",
    "nas.plot_connection_probability(\"iSPN\", \"iSPN\",\n",
    "                                dist_3d=dist3D,\n",
    "                                exp_max_dist=[50e-6, 100e-6],\n",
    "                                exp_data=[14 / 39.0, 7 / 31.0],\n",
    "                                exp_data_detailed=[(14, 39), (7, 31)])"
   ]
  },
  {
   "cell_type": "code",
   "execution_count": null,
   "id": "da809425-6011-4c7b-8faa-1aa6714c9bca",
   "metadata": {},
   "outputs": [],
   "source": [
    "snd_wt.setup_input(input_config=\"input.json\")"
   ]
  },
  {
   "cell_type": "code",
   "execution_count": null,
   "id": "866b469c-2706-4c69-8c6d-c3ae8b961918",
   "metadata": {},
   "outputs": [],
   "source": [
    "snd_wt.simulate(time=1.0)"
   ]
  },
  {
   "cell_type": "code",
   "execution_count": null,
   "id": "7b57be40-17bc-463f-bcbc-b5799b13ef86",
   "metadata": {},
   "outputs": [],
   "source": [
    "import os\n",
    "from snudda.utils import SnuddaLoad\n",
    "from snudda.utils import SnuddaLoadSimulation\n",
    "\n",
    "sl = SnuddaLoad(network_path)\n",
    "\n",
    "sim_file = os.path.join(network_path, \"simulation\", \"output.hdf5\")\n",
    "network_file = os.path.join(network_path, \"network-synapses.hdf5\")\n",
    "\n",
    "sls = SnuddaLoadSimulation(network_simulation_output_file=sim_file)"
   ]
  },
  {
   "cell_type": "code",
   "execution_count": null,
   "id": "11488b57-05ed-4b23-809e-983bc18690e7",
   "metadata": {},
   "outputs": [],
   "source": [
    "from snudda.plotting.plot_traces import PlotTraces\n",
    "pt = PlotTraces(output_file=sim_file, network_file=network_file)\n",
    "# Use trace_id to specify which traces\n",
    "ax = pt.plot_traces(offset=0, time_range=(0,0.5),fig_size=(10,4))"
   ]
  }
 ],
 "metadata": {
  "kernelspec": {
   "display_name": "Python 3 (ipykernel)",
   "language": "python",
   "name": "python3"
  },
  "language_info": {
   "codemirror_mode": {
    "name": "ipython",
    "version": 3
   },
   "file_extension": ".py",
   "mimetype": "text/x-python",
   "name": "python",
   "nbconvert_exporter": "python",
   "pygments_lexer": "ipython3",
   "version": "3.9.2"
  }
 },
 "nbformat": 4,
 "nbformat_minor": 5
}
