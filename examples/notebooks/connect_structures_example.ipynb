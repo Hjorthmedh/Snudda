{
 "cells": [
  {
   "cell_type": "markdown",
   "id": "asian-drinking",
   "metadata": {},
   "source": [
    "# Connecting structures together\n",
    "\n",
    "This example shows how to connect neurons in different structures together and is useful when you do not have the long range axons available. It can also be used within a volume, but note that this will then be in addition to what synapses touch detection provides (so useful when no axon is available).\n",
    "\n",
    "* Define two volumes, ```VolumeA``` and ```VolumeB``` (far apart).\n",
    "* Fill the volumes with ```dSPN``` and ```iSPN``` neurons respectively.\n",
    "* Define the connection rule between the two neuron types.\n",
    "* Create connections"
   ]
  },
  {
   "cell_type": "code",
   "execution_count": 1,
   "id": "national-century",
   "metadata": {},
   "outputs": [],
   "source": [
    "import os\n",
    "from snudda.create_cube_mesh import create_cube_mesh\n",
    "\n",
    "network_path = os.path.join(\"networks\", \"connect_structures_netework\")\n",
    "mesh_file_a = os.path.join(network_path, \"mesh\", \"volume_A.obj\")\n",
    "mesh_file_b = os.path.join(network_path, \"mesh\", \"volume_B.obj\")\n",
    "\n",
    "create_cube_mesh(mesh_file_a, [5e-3,0,0], 300e-6, \"Volume A - connect structures example\")\n",
    "create_cube_mesh(mesh_file_b, [-5e-3,0,0], 300e-6, \"Volume B - connect structures example\")"
   ]
  },
  {
   "cell_type": "code",
   "execution_count": null,
   "id": "reflected-dining",
   "metadata": {},
   "outputs": [],
   "source": [
    "from snudda.init import SnuddaInit\n",
    "\n",
    "cnc = SnuddaInit(network_path=network_path, random_seed=123)\n",
    "\n",
    "cnc.define_structure(struct_name=\"VolumeA\", struct_mesh=mesh_file_a, d_min=15e-6, mesh_bin_width=50e-6)\n",
    "cnc.define_structure(struct_name=\"VolumeB\", struct_mesh=mesh_file_b, d_min=15e-6, mesh_bin_width=50e-6)\n",
    "\n",
    "cnc.add_neurons(name=\"dSPN\", num_neurons=20, volume_id=\"VolumeA\",\n",
    "                neuron_dir=os.path.join(\"$DATA\",\"neurons\",\"striatum\",\"dspn\"))\n",
    "cnc.add_neurons(name=\"iSPN\", num_neurons=20, volume_id=\"VolumeB\",\n",
    "                neuron_dir=os.path.join(\"$DATA\",\"neurons\",\"striatum\",\"ispn\"))\n",
    "\n",
    "# Normally we would use add_neuron_target to connect the neurons in the same volume together, \n",
    "# but this time we want to use connect_neurons instead.\n",
    "\n",
    "proj_file = os.path.join(\"data\", \"ExampleProjection.json\")\n",
    "\n",
    "cnc.connect_neurons(neuron_name=\"dSPN\", \n",
    "                    target_name=\"iSPN\",\n",
    "                    projection_name=\"ExampleProjection\",\n",
    "                    projection_file=proj_file,\n",
    "                    source_volume=\"VolumeA\",\n",
    "                    dest_volume=\"VolumeB\",\n",
    "                    projection_radius=100e-6,\n",
    "                    number_of_targets=[10, 5],\n",
    "                    number_of_synapses=[10, 5],\n",
    "                    dendrite_synapse_density=\"1\",\n",
    "                    connection_type=\"GABA\",\n",
    "                    dist_pruning=None,\n",
    "                    f1=1,\n",
    "                    soft_max=None,\n",
    "                    mu2=None,\n",
    "                    a3=None)\n",
    "\n",
    "\n",
    "cnc.write_json()\n",
    "\n"
   ]
  },
  {
   "cell_type": "code",
   "execution_count": null,
   "id": "outside-running",
   "metadata": {},
   "outputs": [],
   "source": [
    "from snudda.place import SnuddaPlace\n",
    "sp = SnuddaPlace(network_path=network_path, verbose=False)\n",
    "sp.parse_config()\n",
    "sp.write_data()"
   ]
  },
  {
   "cell_type": "code",
   "execution_count": null,
   "id": "printable-stomach",
   "metadata": {},
   "outputs": [],
   "source": [
    "from snudda.plotting.plot_network import PlotNetwork\n",
    "network_file = os.path.join(network_path, \"network-neuron-positions.hdf5\")\n",
    "pn = PlotNetwork(network_file)\n",
    "pn.plot(plot_axon=False, plot_dendrite=False, plot_synapses=False)\n",
    "pn.close() "
   ]
  },
  {
   "cell_type": "code",
   "execution_count": null,
   "id": "loaded-reality",
   "metadata": {},
   "outputs": [],
   "source": [
    "# TODO: Update logic so that if there are no connections allowed between the neurons present in a hyper voxel, then it goes faster"
   ]
  },
  {
   "cell_type": "code",
   "execution_count": null,
   "id": "moderate-shore",
   "metadata": {},
   "outputs": [],
   "source": [
    "from snudda.detect import SnuddaDetect\n",
    "\n",
    "sd = SnuddaDetect(network_path=network_path)\n",
    "sd.detect()"
   ]
  },
  {
   "cell_type": "raw",
   "id": "acknowledged-congress",
   "metadata": {},
   "source": []
  },
  {
   "cell_type": "code",
   "execution_count": 2,
   "id": "competitive-immune",
   "metadata": {
    "scrolled": true
   },
   "outputs": [
    {
     "name": "stdout",
     "output_type": "stream",
     "text": [
      "pre dSPN, post iSPN\n"
     ]
    }
   ],
   "source": [
    "from snudda.connect import SnuddaConnect\n",
    "\n",
    "sc = SnuddaConnect(network_path=network_path)\n",
    "sc.connect()\n",
    "sc.write()"
   ]
  },
  {
   "cell_type": "code",
   "execution_count": null,
   "id": "obvious-celebration",
   "metadata": {},
   "outputs": [],
   "source": [
    "%load_ext autoreload\n",
    "%autoreload 2\n",
    "\n",
    "# !!! TODO, we need to include the output from SnuddaConnect in the big merge\n"
   ]
  },
  {
   "cell_type": "code",
   "execution_count": null,
   "id": "departmental-orange",
   "metadata": {},
   "outputs": [],
   "source": []
  }
 ],
 "metadata": {
  "kernelspec": {
   "display_name": "Python 3",
   "language": "python",
   "name": "python3"
  },
  "language_info": {
   "codemirror_mode": {
    "name": "ipython",
    "version": 3
   },
   "file_extension": ".py",
   "mimetype": "text/x-python",
   "name": "python",
   "nbconvert_exporter": "python",
   "pygments_lexer": "ipython3",
   "version": "3.7.3"
  }
 },
 "nbformat": 4,
 "nbformat_minor": 5
}
