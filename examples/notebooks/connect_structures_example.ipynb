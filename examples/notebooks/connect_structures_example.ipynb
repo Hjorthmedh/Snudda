{
 "cells": [
  {
   "cell_type": "markdown",
   "id": "asian-drinking",
   "metadata": {},
   "source": [
    "# Connecting structures together\n",
    "\n",
    "This example shows how to connect neurons in different structures together and is useful when you do not have the long range axons available. It can also be used within a volume, but note that this will then be in addition to what synapses touch detection provides (so useful when no axon is available).\n",
    "\n",
    "* Define two volumes, ```VolumeA``` and ```VolumeB``` (far apart).\n",
    "* Fill the volumes with ```dSPN``` and ```iSPN``` neurons respectively.\n",
    "* Define the connection rule between the two neuron types.\n",
    "* Create connections"
   ]
  },
  {
   "cell_type": "markdown",
   "id": "caroline-exception",
   "metadata": {},
   "source": [
    "## Define volumes\n",
    "\n",
    "Here we use ```create_cube_mesh``` to create two cubical volumes with sides 300 micrometer that are 10 mm apart."
   ]
  },
  {
   "cell_type": "code",
   "execution_count": 1,
   "id": "national-century",
   "metadata": {},
   "outputs": [],
   "source": [
    "import os\n",
    "from snudda.place import create_cube_mesh\n",
    "\n",
    "network_path = os.path.join(\"networks\", \"connect_structures_network\")\n",
    "mesh_file_a = os.path.join(network_path, \"mesh\", \"volume_A.obj\")\n",
    "mesh_file_b = os.path.join(network_path, \"mesh\", \"volume_B.obj\")\n",
    "\n",
    "create_cube_mesh(mesh_file_a, [5e-3,0,0], 300e-6, \"Volume A - connect structures example\")\n",
    "create_cube_mesh(mesh_file_b, [-5e-3,0,0], 300e-6, \"Volume B - connect structures example\")"
   ]
  },
  {
   "cell_type": "markdown",
   "id": "drawn-checkout",
   "metadata": {},
   "source": [
    "## Defining network, including projection\n",
    "\n",
    "Normally neurons are connected using touch detection, but here we show how to connect neurons in separate volumes together. This can be used to create topographic maps between structures. To define a projection map (here [```data/ExampleProjection.json```](data/ExampleProjection.json)) we define a set of source points, and their corresponding target points. Intermediate points will be interpolated. Note that points outside the convex hull of the source points will have no projection defined.\n",
    "\n",
    "```\n",
    "{\n",
    "    \"ExampleProjection\" : {\n",
    "        \"source\" : [[4850, -150, -150],\n",
    "                    [4850, -150, 150],\n",
    "                    [4850, 150, -150],\n",
    "                    [4850, 150, 150],\n",
    "                    [5150, -150, -150],\n",
    "                    [5150, -150, 150],\n",
    "                    [5150, 150, -150],\n",
    "                    [5150, 150, 150]],\n",
    "        \n",
    "        \"destination\" : [[-5150, -150, -150],\n",
    "                         [-5150, -150, 150],\n",
    "                         [-5150, 150, -150],\n",
    "                         [-5150, 150, 150],\n",
    "                         [-4850, -150, -150],\n",
    "                         [-4850, -150, 150],\n",
    "                         [-4850, 150, -150],\n",
    "                         [-4850, 150, 150]] \n",
    "    }\n",
    "    \n",
    "}\n",
    "```\n",
    "\n",
    "Here a neuron at ```[4850, -150, -150]``` will project to a neuron at ```[-5150, -150, -150]```.\n",
    "\n",
    "We define the structures (```define_structure```) using the mesh files created above, add add the neurons to the two volumes (```add_neurons```).\n",
    "\n",
    "Normally ```add_neuron_target``` is used to define which neurons we want to couple together using touch detect. For projections we instead use ```neuron_projection```.\n",
    "\n",
    "* ```neuron_name``` is the presynaptic neuron\n",
    "* ```target_name``` is the postsynaptic neuron\n",
    "* ```projection_name``` is the name of the projection, same as in the JSON projection file\n",
    "* ```projection_file``` defines the JSON projection map file.\n",
    "* ```source_volume``` volume of presynaptic neuron\n",
    "* ```dest_volume``` volume of postsynaptic neuron\n",
    "* ```projection_radius``` any neuron within this distance from target centre can be selected as target\n",
    "* ```number_of_targets``` is number of target neurons, given as ```[mean, std]```\n",
    "* ```number_of_synapses``` is number of synapses per connection, give as ```[mean, std]```\n",
    "* ```dendrite_synapse_density``` is density as a function of ```d``` (distance to soma), evaluated using ```numexpr``` \n",
    "* ```connection_type``` is synapse type, e.g. ```GABA```\n",
    "* ```dist_pruning```, ```f1```, ```soft_max```, ```mu2```, ```a3``` are the standard pruning parameters."
   ]
  },
  {
   "cell_type": "code",
   "execution_count": 2,
   "id": "subjective-knitting",
   "metadata": {},
   "outputs": [
    {
     "name": "stdout",
     "output_type": "stream",
     "text": [
      "Adding neurons: dSPN from dir /home/hjorth/HBP/Snudda/snudda/data/neurons/striatum/dspn\n",
      "Adding neurons: iSPN from dir /home/hjorth/HBP/Snudda/snudda/data/neurons/striatum/ispn\n",
      "Writing networks/connect_structures_network/network-config.json\n"
     ]
    }
   ],
   "source": [
    "from snudda import SnuddaInit\n",
    "\n",
    "si = SnuddaInit(network_path=network_path, random_seed=123)\n",
    "\n",
    "si.define_structure(struct_name=\"VolumeA\", struct_mesh=mesh_file_a, d_min=15e-6, mesh_bin_width=50e-6)\n",
    "si.define_structure(struct_name=\"VolumeB\", struct_mesh=mesh_file_b, d_min=15e-6, mesh_bin_width=50e-6)\n",
    "\n",
    "si.add_neurons(name=\"dSPN\", num_neurons=20, volume_id=\"VolumeA\",\n",
    "               neuron_dir=os.path.join(\"$DATA\",\"neurons\",\"striatum\",\"dspn\"))\n",
    "si.add_neurons(name=\"iSPN\", num_neurons=20, volume_id=\"VolumeB\",\n",
    "               neuron_dir=os.path.join(\"$DATA\",\"neurons\",\"striatum\",\"ispn\"))\n",
    "\n",
    "# Normally we would use add_neuron_target to connect the neurons in the same volume together, \n",
    "# but this time we want to use neuron_projection instead.\n",
    "\n",
    "proj_file = os.path.join(\"data\", \"ExampleProjection.json\")\n",
    "\n",
    "si.neuron_projection(neuron_name=\"dSPN\", \n",
    "                     target_name=\"iSPN\",\n",
    "                     projection_name=\"ExampleProjection\",\n",
    "                     projection_file=proj_file,\n",
    "                     source_volume=\"VolumeA\",\n",
    "                     dest_volume=\"VolumeB\",\n",
    "                     projection_radius=100e-6,\n",
    "                     number_of_targets=[10, 5],\n",
    "                     number_of_synapses=[10, 5],\n",
    "                     dendrite_synapse_density=\"1\",\n",
    "                     connection_type=\"GABA\",\n",
    "                     dist_pruning=None,\n",
    "                     f1=0.9,\n",
    "                     soft_max=None,\n",
    "                     mu2=None,\n",
    "                     a3=None)\n",
    "\n",
    "\n",
    "si.write_json()"
   ]
  },
  {
   "cell_type": "code",
   "execution_count": 3,
   "id": "opposed-organic",
   "metadata": {},
   "outputs": [],
   "source": [
    "from snudda import SnuddaPlace\n",
    "sp = SnuddaPlace(network_path=network_path, verbose=False)\n",
    "sp.place()"
   ]
  },
  {
   "cell_type": "code",
   "execution_count": 4,
   "id": "regulated-letters",
   "metadata": {},
   "outputs": [
    {
     "data": {
      "image/png": "[encoded data removed]",
      "text/plain": [
       "<Figure size 432x468 with 1 Axes>"
      ]
     },
     "metadata": {
      "needs_background": "light"
     },
     "output_type": "display_data"
    }
   ],
   "source": [
    "from snudda.plotting import PlotNetwork\n",
    "network_file = os.path.join(network_path, \"network-neuron-positions.hdf5\")\n",
    "pn = PlotNetwork(network_file)\n",
    "pn.plot(plot_axon=False, plot_dendrite=False, plot_synapses=False)\n",
    "pn.close() "
   ]
  },
  {
   "cell_type": "markdown",
   "id": "prepared-disease",
   "metadata": {},
   "source": [
    "__TODO__: Update logic so that if there are no connections allowed between the neurons present in a hyper voxel, \n",
    "then it skips those in detection step."
   ]
  },
  {
   "cell_type": "code",
   "execution_count": 5,
   "id": "unexpected-italic",
   "metadata": {},
   "outputs": [
    {
     "name": "stdout",
     "output_type": "stream",
     "text": [
      "No d_view specified, running distribute neurons in serial\n",
      "Processing hyper voxel : 549/592 (20 neurons)\n",
      "Processing hyper voxel : 21/592 (20 neurons)\n",
      "Processing hyper voxel : 545/592 (18 neurons)\n",
      "Processing hyper voxel : 22/592 (17 neurons)\n",
      "Processing hyper voxel : 533/592 (16 neurons)\n",
      "Processing hyper voxel : 5/592 (16 neurons)\n",
      "Processing hyper voxel : 565/592 (14 neurons)\n",
      "Processing hyper voxel : 550/592 (14 neurons)\n",
      "Processing hyper voxel : 17/592 (13 neurons)\n",
      "Processing hyper voxel : 25/592 (12 neurons)\n",
      "Processing hyper voxel : 6/592 (12 neurons)\n",
      "Processing hyper voxel : 548/592 (11 neurons)\n",
      "Processing hyper voxel : 1/592 (11 neurons)\n",
      "Processing hyper voxel : 546/592 (10 neurons)\n",
      "Processing hyper voxel : 9/592 (9 neurons)\n",
      "Processing hyper voxel : 18/592 (9 neurons)\n",
      "Processing hyper voxel : 20/592 (8 neurons)\n",
      "Processing hyper voxel : 553/592 (8 neurons)\n",
      "Processing hyper voxel : 529/592 (8 neurons)\n",
      "Processing hyper voxel : 561/592 (8 neurons)\n",
      "Processing hyper voxel : 26/592 (7 neurons)\n",
      "Processing hyper voxel : 4/592 (7 neurons)\n",
      "Processing hyper voxel : 532/592 (6 neurons)\n",
      "Processing hyper voxel : 544/592 (6 neurons)\n",
      "Processing hyper voxel : 2/592 (6 neurons)\n",
      "Processing hyper voxel : 37/592 (5 neurons)\n",
      "Processing hyper voxel : 566/592 (5 neurons)\n",
      "Processing hyper voxel : 534/592 (5 neurons)\n",
      "Processing hyper voxel : 10/592 (5 neurons)\n",
      "Processing hyper voxel : 33/592 (5 neurons)\n",
      "Processing hyper voxel : 564/592 (4 neurons)\n",
      "Processing hyper voxel : 530/592 (4 neurons)\n",
      "Processing hyper voxel : 16/592 (4 neurons)\n",
      "Processing hyper voxel : 562/592 (3 neurons)\n",
      "Processing hyper voxel : 552/592 (3 neurons)\n",
      "Processing hyper voxel : 0/592 (3 neurons)\n",
      "Processing hyper voxel : 38/592 (3 neurons)\n",
      "Processing hyper voxel : 528/592 (3 neurons)\n",
      "Processing hyper voxel : 537/592 (3 neurons)\n",
      "Processing hyper voxel : 36/592 (2 neurons)\n",
      "Processing hyper voxel : 34/592 (2 neurons)\n",
      "Processing hyper voxel : 32/592 (2 neurons)\n",
      "Processing hyper voxel : 24/592 (2 neurons)\n",
      "Processing hyper voxel : 568/592 (2 neurons)\n",
      "Processing hyper voxel : 536/592 (1 neurons)\n",
      "Processing hyper voxel : 554/592 (1 neurons)\n",
      "Processing hyper voxel : 560/592 (1 neurons)\n",
      "Processing hyper voxel : 8/592 (1 neurons)\n"
     ]
    }
   ],
   "source": [
    "from snudda import SnuddaDetect\n",
    "\n",
    "sd = SnuddaDetect(network_path=network_path)\n",
    "sd.detect()"
   ]
  },
  {
   "cell_type": "markdown",
   "id": "steady-syntax",
   "metadata": {},
   "source": [
    "After ```SnuddaDetect``` has done the touch detection in the hyper voxels we use ```SnuddaProject``` to add the projections defined."
   ]
  },
  {
   "cell_type": "code",
   "execution_count": 6,
   "id": "moderate-dubai",
   "metadata": {
    "scrolled": true
   },
   "outputs": [],
   "source": [
    "from snudda import SnuddaProject\n",
    "\n",
    "sp = SnuddaProject(network_path=network_path)\n",
    "sp.project()"
   ]
  },
  {
   "cell_type": "code",
   "execution_count": 7,
   "id": "written-alexander",
   "metadata": {},
   "outputs": [
    {
     "name": "stdout",
     "output_type": "stream",
     "text": [
      "Read 420 out of total 420 synapses\n"
     ]
    }
   ],
   "source": [
    "from snudda import SnuddaPrune\n",
    "\n",
    "sp = SnuddaPrune(network_path=network_path)\n",
    "sp.prune()"
   ]
  },
  {
   "cell_type": "markdown",
   "id": "hollywood-closure",
   "metadata": {},
   "source": [
    "Next we just want to verify that there are indeed projection synapses from dSPN to iSPN in this example. Their axons and dendrites should be out of reach of one another, so any connections found should be the projection synapses we specified in this little test example."
   ]
  },
  {
   "cell_type": "code",
   "execution_count": 8,
   "id": "occasional-certificate",
   "metadata": {},
   "outputs": [
    {
     "name": "stdout",
     "output_type": "stream",
     "text": [
      "Loading 40 neurons with 382 synapses and 0 gap junctions\n"
     ]
    }
   ],
   "source": [
    "from snudda import SnuddaLoad\n",
    "sl = SnuddaLoad(network_file=os.path.join(network_path,\"network-synapses.hdf5\"))"
   ]
  },
  {
   "cell_type": "code",
   "execution_count": 9,
   "id": "subtle-graduate",
   "metadata": {},
   "outputs": [],
   "source": [
    "ispn_id = [x[\"neuronID\"] for x in sl.data[\"neurons\"] if x[\"type\"] == \"iSPN\"]\n",
    "dspn_id = [x[\"neuronID\"] for x in sl.data[\"neurons\"] if x[\"type\"] == \"dSPN\"]"
   ]
  },
  {
   "cell_type": "markdown",
   "id": "determined-excuse",
   "metadata": {},
   "source": [
    "If you run in the command line you can use ```load.py``` to list all neurons of a certain type, and also find their pre- and post-synaptic partners. Here we do it using python. We use ```find_synapses``` to extract a subset of the synapse matrix. We know that the first column is presynaptic neuron, and second column is postsynaptic neuron."
   ]
  },
  {
   "cell_type": "code",
   "execution_count": 10,
   "id": "million-estate",
   "metadata": {},
   "outputs": [],
   "source": [
    "synapse_mat, synapse_loc = sl.find_synapses(post_id=ispn_id[0])\n",
    "presyn_id = set(synapse_mat[:,0])"
   ]
  },
  {
   "cell_type": "code",
   "execution_count": 11,
   "id": "racial-sharp",
   "metadata": {},
   "outputs": [
    {
     "data": {
      "text/plain": [
       "{21, 22, 23, 24}"
      ]
     },
     "execution_count": 11,
     "metadata": {},
     "output_type": "execute_result"
    }
   ],
   "source": [
    "presyn_id.intersection(dspn_id)"
   ]
  },
  {
   "cell_type": "markdown",
   "id": "tired-logistics",
   "metadata": {},
   "source": [
    "In this example we see that the first iSPN gets input from four dSPN neurons with id 21, 22, 23 and 24."
   ]
  },
  {
   "cell_type": "code",
   "execution_count": null,
   "id": "intermediate-notion",
   "metadata": {},
   "outputs": [],
   "source": []
  }
 ],
 "metadata": {
  "kernelspec": {
   "display_name": "Python 3 (ipykernel)",
   "language": "python",
   "name": "python3"
  },
  "language_info": {
   "codemirror_mode": {
    "name": "ipython",
    "version": 3
   },
   "file_extension": ".py",
   "mimetype": "text/x-python",
   "name": "python",
   "nbconvert_exporter": "python",
   "pygments_lexer": "ipython3",
   "version": "3.9.2"
  }
 },
 "nbformat": 4,
 "nbformat_minor": 5
}
