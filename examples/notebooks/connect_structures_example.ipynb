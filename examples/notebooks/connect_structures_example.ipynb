{
 "cells": [
  {
   "cell_type": "markdown",
   "id": "asian-drinking",
   "metadata": {},
   "source": [
    "# Connecting structures together\n",
    "\n",
    "This example shows how to connect neurons in different structures together and is useful when you do not have the long range axons available. It can also be used within a volume, but note that this will then be in addition to what synapses touch detection provides (so useful when no axon is available).\n",
    "\n",
    "* Define two volumes, ```VolumeA``` and ```VolumeB``` (far apart).\n",
    "* Fill the volumes with ```dSPN``` and ```iSPN``` neurons respectively.\n",
    "* Define the connection rule between the two neuron types.\n",
    "* Create connections"
   ]
  },
  {
   "cell_type": "code",
   "execution_count": 2,
   "id": "national-century",
   "metadata": {},
   "outputs": [],
   "source": [
    "import os\n",
    "from snudda.create_cube_mesh import create_cube_mesh\n",
    "\n",
    "network_path = os.path.join(\"networks\", \"connect_structures_netework\")\n",
    "mesh_file_a = os.path.join(network_path, \"mesh\", \"volume_A.obj\")\n",
    "mesh_file_b = os.path.join(network_path, \"mesh\", \"volume_B.obj\")\n",
    "\n",
    "create_cube_mesh(mesh_file_a, [5e-3,0,0], 300e-6, \"Volume A - connect structures example\")\n",
    "create_cube_mesh(mesh_file_b, [-5e-3,0,0], 300e-6, \"Volume B - connect structures example\")"
   ]
  },
  {
   "cell_type": "code",
   "execution_count": null,
   "id": "operating-translation",
   "metadata": {},
   "outputs": [],
   "source": [
    "from snudda.init import SnuddaInit\n",
    "\n",
    "cnc = SnuddaInit(network_path=network_path)\n",
    "\n",
    "cnc.define_structure(struct_name=\"VolumeA\", struct_mesh=mesh_file_a, d_min=15e-6, mesh_bin_width=50e-6)\n",
    "cnc.define_structure(struct_name=\"VolumEB\", struct_mesh=mesh_file_b, d_min=15e-6, mesh_bin_width=50e-6)\n",
    "\n",
    "cnc.add_neurons(name=\"dSPN\", num_neurons=200, volume_id=\"VolumeA\",\n",
    "                neuron_dir=os.path.join(\"$DATA\",\"neurons\",\"striatum\",\"dspn\"))\n",
    "cnc.add_neurons(name=\"iSPN\", num_neurons=200, volume_id=\"VolumeB\",\n",
    "                neuron_dir=os.path.join(\"$DATA\",\"neurons\",\"striatum\",\"ispn\"))\n",
    "\n",
    "# Normally we would use add_neuron_target to connect the neurons in the same volume together, \n",
    "# but this time we want to use connect_neurons instead.\n",
    "\n",
    "proj_file = os.path.join(network_path, \"example_projection.json\")\n",
    "\n",
    "cnc.connect_neurons(neuron_name=\"dSPN\", \n",
    "                    target_name=\"iSPN\",\n",
    "                    projection_name=\"exampleProjection\",\n",
    "                    projection_file=proj_file,\n",
    "                    source_volume=\"VolumeA\",\n",
    "                    dest_volume=\"VolumeB\",\n",
    "                    projection_radius=50e-6,\n",
    "                    number_of_targets=[10, 5],\n",
    "                    number_of_synapses=[10, 5],\n",
    "                    dendrite_synapse_density=\"1\",\n",
    "                    connection_type=\"GABA\",\n",
    "                    dist_pruning=None,\n",
    "                    f1=1,\n",
    "                    soft_max=None,\n",
    "                    mu2=None,\n",
    "                    a3=None)\n",
    "\n",
    "\n",
    "cnc.write_json()\n",
    "\n"
   ]
  }
 ],
 "metadata": {
  "kernelspec": {
   "display_name": "Python 3",
   "language": "python",
   "name": "python3"
  },
  "language_info": {
   "codemirror_mode": {
    "name": "ipython",
    "version": 3
   },
   "file_extension": ".py",
   "mimetype": "text/x-python",
   "name": "python",
   "nbconvert_exporter": "python",
   "pygments_lexer": "ipython3",
   "version": "3.7.3"
  }
 },
 "nbformat": 4,
 "nbformat_minor": 5
}
