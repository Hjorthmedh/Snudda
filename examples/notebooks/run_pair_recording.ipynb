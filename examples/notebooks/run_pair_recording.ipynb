{
 "cells": [
  {
   "cell_type": "markdown",
   "id": "vanilla-suspect",
   "metadata": {},
   "source": [
    "# Simulate current injections into one or more neurons in a network\n",
    "\n",
    "First we define the network. Generating the network is relatively fast, so you can generate a larger network. Simulating the full network is slower, so by default only the neurons receiving a current injection, and their post synaptic targets are simulated.\n",
    "\n",
    "In the cell below we define the number of neurons we want, and the volume we place them inside."
   ]
  },
  {
   "cell_type": "code",
   "execution_count": 1,
   "id": "micro-value",
   "metadata": {},
   "outputs": [],
   "source": [
    "import os\n",
    "\n",
    "n_dSPN = 4\n",
    "n_iSPN = 4\n",
    "n_FS = 4\n",
    "n_LTS = 1\n",
    "n_ChIN = 0\n",
    "\n",
    "\n",
    "network_path = os.path.join(\"networks\",\"pair_recording_simulation\")\n",
    "volume_type=\"cube\"\n",
    "side_len = 100e-6"
   ]
  },
  {
   "cell_type": "markdown",
   "id": "recorded-zambia",
   "metadata": {},
   "source": [
    "Snudda init writes the ```network-config.json``` file."
   ]
  },
  {
   "cell_type": "code",
   "execution_count": 2,
   "id": "stable-being",
   "metadata": {},
   "outputs": [
    {
     "name": "stdout",
     "output_type": "stream",
     "text": [
      "Using cube for striatum\n",
      "Adding neurons: FS from dir $SNUDDA_DATA/neurons/striatum/fs\n",
      "Adding neurons: dSPN from dir $SNUDDA_DATA/neurons/striatum/dspn\n",
      "Adding neurons: iSPN from dir $SNUDDA_DATA/neurons/striatum/ispn\n",
      "Checking boundaries, to make sure P is not too high\n",
      "LTS axon density P([-0.0002],[-0.0001],[-3.e-05]) = [1.84256218e-10]\n",
      "LTS axon density P([-0.0002],[-0.0001],[3.e-05]) = [1.84256218e-10]\n",
      "LTS axon density P([-0.0002],[0.0001],[-3.e-05]) = [1.84256218e-10]\n",
      "LTS axon density P([-0.0002],[0.0001],[3.e-05]) = [1.84256218e-10]\n",
      "LTS axon density P([0.0009],[-0.0001],[-3.e-05]) = [1.72360142e-23]\n",
      "LTS axon density P([0.0009],[-0.0001],[3.e-05]) = [1.72360142e-23]\n",
      "LTS axon density P([0.0009],[0.0001],[-3.e-05]) = [1.72360142e-23]\n",
      "LTS axon density P([0.0009],[0.0001],[3.e-05]) = [1.72360142e-23]\n",
      "Adding neurons: LTS from dir $SNUDDA_DATA/neurons/striatum/lts\n",
      "Writing networks/pair_recording_simulation/network-config.json\n"
     ]
    }
   ],
   "source": [
    "from snudda.init.init import SnuddaInit\n",
    "cnc = SnuddaInit(struct_def={}, network_path=network_path, random_seed=1337)\n",
    "cnc.define_striatum(num_dSPN=n_dSPN, num_iSPN=n_iSPN, num_FS=n_FS, num_LTS=n_LTS, num_ChIN=n_ChIN,\n",
    "                    volume_type=\"cube\", side_len=side_len)\n",
    "cnc.write_json()"
   ]
  },
  {
   "cell_type": "markdown",
   "id": "driven-facing",
   "metadata": {},
   "source": [
    "Snudda Place, Detect and Prune. Here the neurons are placed in the network, synapse touch detection is done, and finally pruning of the putative synapses."
   ]
  },
  {
   "cell_type": "code",
   "execution_count": 3,
   "id": "blind-williams",
   "metadata": {},
   "outputs": [],
   "source": [
    "from snudda.place import SnuddaPlace\n",
    "sp = SnuddaPlace(network_path=network_path)\n",
    "sp.place()"
   ]
  },
  {
   "cell_type": "code",
   "execution_count": 4,
   "id": "surprising-architecture",
   "metadata": {},
   "outputs": [
    {
     "name": "stdout",
     "output_type": "stream",
     "text": [
      "Instantiates par_id = 0\n",
      "morph_tag = lts_morp_2019-11-07_centered_no_axon.swc\n",
      "No d_view specified, running distribute neurons in serial\n",
      "Processing hyper voxel : 24/80 (13 neurons)\n",
      "Processing hyper voxel : 4/80 (13 neurons)\n",
      "Processing hyper voxel : 5/80 (13 neurons)\n",
      "Processing hyper voxel : 25/80 (13 neurons)\n",
      "Processing hyper voxel : 21/80 (10 neurons)\n",
      "Processing hyper voxel : 29/80 (9 neurons)\n",
      "Processing hyper voxel : 9/80 (9 neurons)\n",
      "Processing hyper voxel : 20/80 (9 neurons)\n",
      "Processing hyper voxel : 28/80 (9 neurons)\n",
      "Processing hyper voxel : 1/80 (8 neurons)\n",
      "Processing hyper voxel : 8/80 (8 neurons)\n",
      "Processing hyper voxel : 0/80 (6 neurons)\n",
      "Processing hyper voxel : 26/80 (2 neurons)\n",
      "Processing hyper voxel : 45/80 (2 neurons)\n",
      "Processing hyper voxel : 22/80 (1 neurons)\n",
      "Processing hyper voxel : 2/80 (1 neurons)\n",
      "Processing hyper voxel : 33/80 (1 neurons)\n",
      "Processing hyper voxel : 44/80 (1 neurons)\n",
      "Processing hyper voxel : 46/80 (1 neurons)\n",
      "Processing hyper voxel : 48/80 (1 neurons)\n",
      "Processing hyper voxel : 49/80 (1 neurons)\n"
     ]
    }
   ],
   "source": [
    "from snudda.detect import SnuddaDetect\n",
    "sd = SnuddaDetect(network_path=network_path)\n",
    "sd.detect()"
   ]
  },
  {
   "cell_type": "code",
   "execution_count": null,
   "id": "unavailable-christmas",
   "metadata": {},
   "outputs": [
    {
     "name": "stdout",
     "output_type": "stream",
     "text": [
      "Read 2113 out of total 2113 synapses\n",
      "Read 62 out of total 62 synapses\n",
      "> \u001b[0;32m/home/hjorth/HBP/Snudda/snudda/detect/prune.py\u001b[0m(1922)\u001b[0;36mprune_synapses_helper\u001b[0;34m()\u001b[0m\n",
      "\u001b[0;32m   1920 \u001b[0;31m                    \u001b[0;32mimport\u001b[0m \u001b[0mpdb\u001b[0m\u001b[0;34m\u001b[0m\u001b[0;34m\u001b[0m\u001b[0m\n",
      "\u001b[0m\u001b[0;32m   1921 \u001b[0;31m                    \u001b[0mpdb\u001b[0m\u001b[0;34m.\u001b[0m\u001b[0mset_trace\u001b[0m\u001b[0;34m(\u001b[0m\u001b[0;34m)\u001b[0m\u001b[0;34m\u001b[0m\u001b[0;34m\u001b[0m\u001b[0m\n",
      "\u001b[0m\u001b[0;32m-> 1922 \u001b[0;31m                    \u001b[0msynapses\u001b[0m\u001b[0;34m[\u001b[0m\u001b[0mnext_read_pos\u001b[0m\u001b[0;34m:\u001b[0m\u001b[0mread_end_idx\u001b[0m\u001b[0;34m,\u001b[0m \u001b[0;36m12\u001b[0m\u001b[0;34m]\u001b[0m \u001b[0;34m=\u001b[0m \u001b[0msynapses\u001b[0m\u001b[0;34m[\u001b[0m\u001b[0mnext_read_pos\u001b[0m\u001b[0;34m,\u001b[0m \u001b[0;36m12\u001b[0m\u001b[0;34m]\u001b[0m\u001b[0;34m\u001b[0m\u001b[0;34m\u001b[0m\u001b[0m\n",
      "\u001b[0m\u001b[0;32m   1923 \u001b[0;31m\u001b[0;34m\u001b[0m\u001b[0m\n",
      "\u001b[0m\u001b[0;32m   1924 \u001b[0;31m            \u001b[0;31m# Temp check\u001b[0m\u001b[0;34m\u001b[0m\u001b[0;34m\u001b[0m\u001b[0;34m\u001b[0m\u001b[0m\n",
      "\u001b[0m\n",
      "ipdb> next_read_pos\n",
      "0\n",
      "ipdb> read_end_idx\n",
      "32\n",
      "ipdb> synapses[next_read_pos:read_end_idx,:]\n",
      "array([[     2,      0,     93,    137,    100,      5,     10,    259,\n",
      "            69,     47,    381,   1340,  43005],\n",
      "       [     2,      0,     94,    138,    100,      5,     10,    230,\n",
      "            66,     47,    351,   4137, 843288],\n",
      "       [     2,      0,     95,    138,    100,      5,     10,    229,\n",
      "            64,     47,    339,   1125,  43898],\n",
      "       [     2,      0,     95,    139,    100,      5,     10,    225,\n",
      "            61,     47,    315,    562, 428235],\n",
      "       [     2,      0,     96,    139,    100,      5,     10,    224,\n",
      "            58,     47,    290,    110,  70079],\n",
      "       [     2,      0,    174,     97,     98,     20,     10,    581,\n",
      "           282,     13,    996,    110, 368895],\n",
      "       [     2,      0,    101,    154,     94,     24,     10,    255,\n",
      "            51,     19,    164,    471, 770465],\n",
      "       [     2,      0,    102,    153,     94,     24,     10,    256,\n",
      "            45,     19,    140,   2084,  60007],\n",
      "       [     2,      0,    102,    153,     95,     24,     10,    253,\n",
      "            44,     19,    134,   1750, 337472],\n",
      "       [     2,      0,    102,    154,     94,     24,     10,    258,\n",
      "            49,     19,    157,   2732, 327108],\n",
      "       [     2,      0,    104,    152,     97,     24,     10,    196,\n",
      "            36,     19,     98,   3483, 432997],\n",
      "       [     2,      0,    113,    148,     90,     24,     10,    220,\n",
      "            45,     20,    990,    919, 758016],\n",
      "       [     2,      0,    114,    148,     89,     24,     10,    222,\n",
      "            50,     21,     31,    687, 347827],\n",
      "       [     2,      0,    115,    130,     99,     24,     10,    309,\n",
      "            76,     49,    817,   1794,  16726],\n",
      "       [     2,      0,    115,    148,     88,     24,     10,    228,\n",
      "            54,     21,     57,    110, 775595],\n",
      "       [     2,      0,    116,    125,     98,     24,     10,    315,\n",
      "            94,     50,     53,    332, 546372],\n",
      "       [     2,      0,    116,    130,     98,     24,     10,    314,\n",
      "            79,     49,    882,   1175, 174855],\n",
      "       [     2,      0,    121,    125,     96,     24,     10,    332,\n",
      "           102,     51,    173,    110, 738581],\n",
      "       [     2,      0,    122,    150,     82,     24,     10,    265,\n",
      "            84,     21,    261,   1866, 367053],\n",
      "       [     2,      0,    123,    140,     89,     24,     10,    532,\n",
      "            64,     10,    512,    110, 521690],\n",
      "       [     2,      0,    123,    150,     81,     24,     10,    268,\n",
      "            89,     21,    292,   1111, 283281],\n",
      "       [     2,      0,    140,    131,     88,     24,     10,    407,\n",
      "           126,     44,    482,    719, 442439],\n",
      "       [     2,      0,    142,    131,     87,     24,     10,    417,\n",
      "           135,     44,    521,   4775, 363150],\n",
      "       [     2,      0,    145,    130,     92,     24,     10,    449,\n",
      "           134,     13,    408,   1612, 978562],\n",
      "       [     2,      0,    145,    130,     93,     24,     10,    419,\n",
      "           130,     13,    394,    731, 946082],\n",
      "       [     2,      0,    109,    142,    100,     25,     10,    267,\n",
      "            32,     48,    811,    201,  43674],\n",
      "       [     2,      0,    110,    141,    100,     25,     10,    271,\n",
      "            38,     49,     86,    110, 735906],\n",
      "       [     2,      0,    111,    145,    102,     25,     10,    340,\n",
      "             0,      0,    500,    651, 869536],\n",
      "       [     2,      0,    111,    146,    101,     25,     10,    333,\n",
      "             0,      0,    500,    110, 154112],\n",
      "       [     2,      0,    113,    147,    100,     25,     10,    334,\n",
      "            11,      9,     73,    521, 216774],\n",
      "       [     2,      0,    121,    138,    101,     25,     10,    307,\n",
      "            53,     44,    152,   1160, 218003],\n",
      "       [     2,      0,    122,    138,    101,     25,     10,    311,\n",
      "            54,     44,    158,   2240, 517641]], dtype=int32)\n"
     ]
    }
   ],
   "source": [
    "from snudda.detect import SnuddaPrune\n",
    "spr = SnuddaPrune(network_path=network_path)\n",
    "spr.prune()\n",
    "spr = None"
   ]
  },
  {
   "cell_type": "markdown",
   "id": "moral-elephant",
   "metadata": {},
   "source": [
    "We compile the neuron mechanisms for the simulation. Here we just use the default mechanisms provided."
   ]
  },
  {
   "cell_type": "code",
   "execution_count": null,
   "id": "sustained-monaco",
   "metadata": {},
   "outputs": [],
   "source": [
    "!nrnivmodl ../../snudda/data/neurons/mechanisms"
   ]
  },
  {
   "cell_type": "markdown",
   "id": "stuck-arctic",
   "metadata": {},
   "source": [
    "Run the NEURON simulation of the network. The setup is defined in the [experiment-config-6.json](../../snudda/data/experiment_config/experiment-config-6.json) file."
   ]
  },
  {
   "cell_type": "code",
   "execution_count": null,
   "id": "announced-programming",
   "metadata": {
    "scrolled": true
   },
   "outputs": [],
   "source": [
    "from snudda.simulate.pair_recording import PairRecording \n",
    "experiment_config_file = os.path.join(\"..\",\"..\", \"snudda\", \"data\", \"experiment_config\", \"experiment-config-6.json\")\n",
    "pr = PairRecording(network_path=network_path, experiment_config_file=experiment_config_file)"
   ]
  },
  {
   "cell_type": "code",
   "execution_count": null,
   "id": "hollow-undergraduate",
   "metadata": {},
   "outputs": [],
   "source": [
    "pr.run()"
   ]
  },
  {
   "cell_type": "markdown",
   "id": "center-struggle",
   "metadata": {},
   "source": [
    "## Plot the results\n",
    "\n",
    "First we start with an overview trace of all the neurons that receive a current injection, and their post synaptic targets."
   ]
  },
  {
   "cell_type": "code",
   "execution_count": null,
   "id": "proud-dividend",
   "metadata": {
    "scrolled": false
   },
   "outputs": [],
   "source": [
    "%matplotlib notebook\n",
    "pr.plot_trace_overview()"
   ]
  },
  {
   "cell_type": "markdown",
   "id": "modified-token",
   "metadata": {},
   "source": [
    "We can also plot the individual post synaptic traces, with the current pulses marked."
   ]
  },
  {
   "cell_type": "code",
   "execution_count": null,
   "id": "actual-rebel",
   "metadata": {
    "scrolled": false
   },
   "outputs": [],
   "source": [
    "pr.plot_traces()"
   ]
  },
  {
   "cell_type": "markdown",
   "id": "suitable-consent",
   "metadata": {},
   "source": [
    "The code below shows how you can use PlotTraces to load the voltage traces and plot the data yourself if you do not have the PairRecording object available anymore."
   ]
  },
  {
   "cell_type": "code",
   "execution_count": null,
   "id": "cooked-brazilian",
   "metadata": {},
   "outputs": [],
   "source": [
    "%matplotlib notebook\n",
    "from snudda.plotting import PlotTraces\n",
    "pt = PlotTraces(file_name=os.path.join(network_path,\"simulation\",\"network-voltage-6.txt\"),\n",
    "                network_file=os.path.join(network_path, \"network-synapses.hdf5\"))"
   ]
  },
  {
   "cell_type": "code",
   "execution_count": null,
   "id": "finished-determination",
   "metadata": {},
   "outputs": [],
   "source": [
    "pt.plot_traces([x for x in pt.voltage])"
   ]
  },
  {
   "cell_type": "code",
   "execution_count": null,
   "id": "burning-evanescence",
   "metadata": {},
   "outputs": [],
   "source": [
    "pt.plot_traces([11], offset=0)"
   ]
  },
  {
   "cell_type": "code",
   "execution_count": null,
   "id": "connected-bargain",
   "metadata": {},
   "outputs": [],
   "source": [
    "pt.plot_traces([12], offset=0)"
   ]
  },
  {
   "cell_type": "code",
   "execution_count": null,
   "id": "heavy-stick",
   "metadata": {
    "scrolled": false
   },
   "outputs": [],
   "source": [
    "pt.plot_traces([x for x in pt.voltage], offset=0)"
   ]
  },
  {
   "cell_type": "code",
   "execution_count": null,
   "id": "double-bryan",
   "metadata": {},
   "outputs": [],
   "source": [
    "import matplotlib.pyplot as plt\n",
    "plt.figure()\n",
    "plt.plot([x for x in pr.synapse_currents[0][2]])\n",
    "plt.show()"
   ]
  },
  {
   "cell_type": "code",
   "execution_count": null,
   "id": "loose-sleep",
   "metadata": {},
   "outputs": [],
   "source": [
    "pr.synapse_currents[0][2]"
   ]
  },
  {
   "cell_type": "code",
   "execution_count": null,
   "id": "ordered-balloon",
   "metadata": {},
   "outputs": [],
   "source": [
    "pr.neurons[1].name"
   ]
  },
  {
   "cell_type": "code",
   "execution_count": null,
   "id": "chicken-summary",
   "metadata": {},
   "outputs": [],
   "source": []
  }
 ],
 "metadata": {
  "kernelspec": {
   "display_name": "Python 3",
   "language": "python",
   "name": "python3"
  },
  "language_info": {
   "codemirror_mode": {
    "name": "ipython",
    "version": 3
   },
   "file_extension": ".py",
   "mimetype": "text/x-python",
   "name": "python",
   "nbconvert_exporter": "python",
   "pygments_lexer": "ipython3",
   "version": "3.7.3"
  }
 },
 "nbformat": 4,
 "nbformat_minor": 5
}
