{
 "cells": [
  {
   "cell_type": "code",
   "execution_count": 1,
   "id": "micro-value",
   "metadata": {},
   "outputs": [],
   "source": [
    "import os\n",
    "\n",
    "n_dSPN = 5\n",
    "n_iSPN = 5\n",
    "n_FS = 2\n",
    "n_LTS = 2\n",
    "n_ChIN = 2\n",
    "\n",
    "hold_v = -80e-3    # Holding voltage\n",
    "max_dist = 100e-6  # Only look at pairs closer than this distance\n",
    "GABA_rev = -60e-3  # GABA reversal potential\n",
    "\n",
    "cur_inj = 10e-9\n",
    "\n",
    "network_path = os.path.join(\"networks\",\"pair_recording_simulation\")\n",
    "volume_type=\"cube\"\n",
    "side_len = 200e-6"
   ]
  },
  {
   "cell_type": "code",
   "execution_count": null,
   "id": "stable-being",
   "metadata": {},
   "outputs": [],
   "source": [
    "from snudda.init.init import SnuddaInit\n",
    "cnc = SnuddaInit(struct_def={}, network_path=network_path)\n",
    "cnc.define_striatum(num_dSPN=n_dSPN, num_iSPN=n_iSPN, num_FS=n_FS, num_LTS=n_LTS, num_ChIN=n_ChIN,\n",
    "                    volume_type=\"cube\", side_len=side_len)\n",
    "cnc.write_json()"
   ]
  },
  {
   "cell_type": "code",
   "execution_count": null,
   "id": "blind-williams",
   "metadata": {},
   "outputs": [],
   "source": [
    "from snudda.place import SnuddaPlace\n",
    "sp = SnuddaPlace(network_path=network_path)\n",
    "sp.place()"
   ]
  },
  {
   "cell_type": "code",
   "execution_count": null,
   "id": "surprising-architecture",
   "metadata": {},
   "outputs": [],
   "source": [
    "from snudda.detect import SnuddaDetect\n",
    "sd = SnuddaDetect(network_path=network_path)\n",
    "sd.detect()"
   ]
  },
  {
   "cell_type": "code",
   "execution_count": null,
   "id": "unavailable-christmas",
   "metadata": {},
   "outputs": [],
   "source": [
    "from snudda.detect import SnuddaPrune\n",
    "spr = SnuddaPrune(network_path=network_path)\n",
    "spr.prune()\n",
    "spr = None"
   ]
  },
  {
   "cell_type": "markdown",
   "id": "moral-elephant",
   "metadata": {},
   "source": [
    "Compile neuron modules"
   ]
  },
  {
   "cell_type": "code",
   "execution_count": null,
   "id": "sustained-monaco",
   "metadata": {},
   "outputs": [],
   "source": [
    "!nrnivmodl ../../snudda/data/neurons/mechanisms"
   ]
  },
  {
   "cell_type": "code",
   "execution_count": null,
   "id": "announced-programming",
   "metadata": {},
   "outputs": [
    {
     "name": "stdout",
     "output_type": "stream",
     "text": [
      "numprocs=1\n",
      "Warning: No synaptic input file given!\n",
      "Loading 16 neurons with 219 synapses and 2 gap junctions\n"
     ]
    },
    {
     "name": "stderr",
     "output_type": "stream",
     "text": [
      "/home/hjorth/.local/lib/python3.9/site-packages/bluepyopt/ephys/simulators.py:73: UserWarning: Unable to find Neuron hoc shared library in /usr/local/lib/python/neuron, not disabling banner\n",
      "  warnings.warn('Unable to find Neuron hoc shared library in %s, '\n"
     ]
    },
    {
     "name": "stdout",
     "output_type": "stream",
     "text": [
      "Setting tmGabaA reversal potential to -40.0 mV\n",
      "> \u001b[0;32m/home/hjorth/HBP/Snudda/snudda/simulate/simulate.py\u001b[0m(1684)\u001b[0;36madd_current_pulses\u001b[0;34m()\u001b[0m\n",
      "\u001b[0;32m   1682 \u001b[0;31m        \u001b[0mpdb\u001b[0m\u001b[0;34m.\u001b[0m\u001b[0mset_trace\u001b[0m\u001b[0;34m(\u001b[0m\u001b[0;34m)\u001b[0m\u001b[0;34m\u001b[0m\u001b[0;34m\u001b[0m\u001b[0m\n",
      "\u001b[0m\u001b[0;32m   1683 \u001b[0;31m\u001b[0;34m\u001b[0m\u001b[0m\n",
      "\u001b[0m\u001b[0;32m-> 1684 \u001b[0;31m        \u001b[0;32mif\u001b[0m \u001b[0mlen\u001b[0m\u001b[0;34m(\u001b[0m\u001b[0mamplitudes\u001b[0m\u001b[0;34m)\u001b[0m \u001b[0;34m==\u001b[0m \u001b[0;36m1\u001b[0m \u001b[0;32mand\u001b[0m \u001b[0mlen\u001b[0m\u001b[0;34m(\u001b[0m\u001b[0mstart_times\u001b[0m\u001b[0;34m)\u001b[0m \u001b[0;34m>\u001b[0m \u001b[0;36m1\u001b[0m\u001b[0;34m:\u001b[0m\u001b[0;34m\u001b[0m\u001b[0;34m\u001b[0m\u001b[0m\n",
      "\u001b[0m\u001b[0;32m   1685 \u001b[0;31m            \u001b[0mamplitude\u001b[0m \u001b[0;34m=\u001b[0m \u001b[0mnp\u001b[0m\u001b[0;34m.\u001b[0m\u001b[0mrepeat\u001b[0m\u001b[0;34m(\u001b[0m\u001b[0mamplitudes\u001b[0m\u001b[0;34m[\u001b[0m\u001b[0;36m0\u001b[0m\u001b[0;34m]\u001b[0m\u001b[0;34m,\u001b[0m \u001b[0mlen\u001b[0m\u001b[0;34m(\u001b[0m\u001b[0mstart_times\u001b[0m\u001b[0;34m)\u001b[0m\u001b[0;34m)\u001b[0m\u001b[0;34m\u001b[0m\u001b[0;34m\u001b[0m\u001b[0m\n",
      "\u001b[0m\u001b[0;32m   1686 \u001b[0;31m\u001b[0;34m\u001b[0m\u001b[0m\n",
      "\u001b[0m\n",
      "ipdb> len(amplitudes)\n",
      "*** TypeError: len() of unsized object\n",
      "ipdb> amplitudes\n",
      "array(1.e-08)\n",
      "ipdb> amplitudes.shape\n",
      "()\n",
      "ipdb> len(amplitudes.shape)\n",
      "0\n",
      "ipdb> start_times.shape\n",
      "()\n",
      "ipdb> start_times\n",
      "array(0.5)\n"
     ]
    }
   ],
   "source": [
    "from snudda.simulate.pair_recording import PairRecording \n",
    "experiment_config_file = os.path.join(\"..\",\"..\", \"snudda\", \"data\", \"experiment_config\", \"experiment-config-4.json\")\n",
    "pr = PairRecording(network_path=network_path, experiment_config_file=experiment_config_file)\n",
    "pr.run()"
   ]
  },
  {
   "cell_type": "markdown",
   "id": "center-struggle",
   "metadata": {},
   "source": [
    "Plot results"
   ]
  },
  {
   "cell_type": "code",
   "execution_count": null,
   "id": "cooked-brazilian",
   "metadata": {},
   "outputs": [],
   "source": [
    "from snudda.plotting import PlotTraces\n",
    "pt = PlotTraces(file_name=os.path.join(network_path,\"simulation\",\"network-voltage-4.txt\"),\n",
    "                network_file=os.path.join(network_path, \"network-synapses.hdf5\"))"
   ]
  },
  {
   "cell_type": "code",
   "execution_count": null,
   "id": "finished-determination",
   "metadata": {},
   "outputs": [],
   "source": [
    "pt.plot_traces([x for x in pt.voltage])"
   ]
  },
  {
   "cell_type": "code",
   "execution_count": null,
   "id": "burning-evanescence",
   "metadata": {},
   "outputs": [],
   "source": []
  },
  {
   "cell_type": "code",
   "execution_count": null,
   "id": "connected-bargain",
   "metadata": {},
   "outputs": [],
   "source": []
  }
 ],
 "metadata": {
  "kernelspec": {
   "display_name": "Python 3 (ipykernel)",
   "language": "python",
   "name": "python3"
  },
  "language_info": {
   "codemirror_mode": {
    "name": "ipython",
    "version": 3
   },
   "file_extension": ".py",
   "mimetype": "text/x-python",
   "name": "python",
   "nbconvert_exporter": "python",
   "pygments_lexer": "ipython3",
   "version": "3.9.2"
  }
 },
 "nbformat": 4,
 "nbformat_minor": 5
}
