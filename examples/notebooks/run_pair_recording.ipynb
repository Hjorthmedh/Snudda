{
 "cells": [
  {
   "cell_type": "code",
   "execution_count": 1,
   "id": "micro-value",
   "metadata": {},
   "outputs": [],
   "source": [
    "import os\n",
    "\n",
    "n_dSPN = 8\n",
    "n_iSPN = 8\n",
    "n_FS = 8\n",
    "n_LTS = 2\n",
    "n_ChIN = 2\n",
    "\n",
    "hold_v = -80e-3    # Holding voltage\n",
    "max_dist = 100e-6  # Only look at pairs closer than this distance\n",
    "GABA_rev = -60e-3  # GABA reversal potential\n",
    "\n",
    "cur_inj = 10e-9\n",
    "\n",
    "network_path = os.path.join(\"networks\",\"pair_recording_simulation\")\n",
    "volume_type=\"cube\"\n",
    "side_len = 200e-6"
   ]
  },
  {
   "cell_type": "code",
   "execution_count": null,
   "id": "stable-being",
   "metadata": {},
   "outputs": [],
   "source": [
    "from snudda.init.init import SnuddaInit\n",
    "cnc = SnuddaInit(struct_def={}, network_path=network_path, random_seed=1337)\n",
    "cnc.define_striatum(num_dSPN=n_dSPN, num_iSPN=n_iSPN, num_FS=n_FS, num_LTS=n_LTS, num_ChIN=n_ChIN,\n",
    "                    volume_type=\"cube\", side_len=side_len)\n",
    "cnc.write_json()"
   ]
  },
  {
   "cell_type": "code",
   "execution_count": null,
   "id": "blind-williams",
   "metadata": {},
   "outputs": [],
   "source": [
    "from snudda.place import SnuddaPlace\n",
    "sp = SnuddaPlace(network_path=network_path)\n",
    "sp.place()"
   ]
  },
  {
   "cell_type": "code",
   "execution_count": null,
   "id": "surprising-architecture",
   "metadata": {},
   "outputs": [],
   "source": [
    "from snudda.detect import SnuddaDetect\n",
    "sd = SnuddaDetect(network_path=network_path)\n",
    "sd.detect()"
   ]
  },
  {
   "cell_type": "code",
   "execution_count": null,
   "id": "unavailable-christmas",
   "metadata": {},
   "outputs": [],
   "source": [
    "from snudda.detect import SnuddaPrune\n",
    "spr = SnuddaPrune(network_path=network_path)\n",
    "spr.prune()\n",
    "spr = None"
   ]
  },
  {
   "cell_type": "markdown",
   "id": "moral-elephant",
   "metadata": {},
   "source": [
    "Compile neuron modules"
   ]
  },
  {
   "cell_type": "code",
   "execution_count": null,
   "id": "sustained-monaco",
   "metadata": {},
   "outputs": [],
   "source": [
    "!nrnivmodl ../../snudda/data/neurons/mechanisms"
   ]
  },
  {
   "cell_type": "code",
   "execution_count": null,
   "id": "announced-programming",
   "metadata": {
    "scrolled": true
   },
   "outputs": [
    {
     "name": "stdout",
     "output_type": "stream",
     "text": [
      "Warning: No synaptic input file given!\n",
      "Loading 28 neurons with 872 synapses and 97 gap junctions\n",
      "> \u001b[0;32m/home/hjorth/HBP/Snudda/snudda/simulate/pair_recording.py\u001b[0m(170)\u001b[0;36mset_v_init\u001b[0;34m()\u001b[0m\n",
      "\u001b[0;32m    168 \u001b[0;31m        \u001b[0mpdb\u001b[0m\u001b[0;34m.\u001b[0m\u001b[0mset_trace\u001b[0m\u001b[0;34m(\u001b[0m\u001b[0;34m)\u001b[0m\u001b[0;34m\u001b[0m\u001b[0;34m\u001b[0m\u001b[0m\n",
      "\u001b[0m\u001b[0;32m    169 \u001b[0;31m\u001b[0;34m\u001b[0m\u001b[0m\n",
      "\u001b[0m\u001b[0;32m--> 170 \u001b[0;31m        \u001b[0mmissing_id\u001b[0m \u001b[0;34m=\u001b[0m \u001b[0;34m[\u001b[0m\u001b[0mx\u001b[0m \u001b[0;32mfor\u001b[0m \u001b[0mx\u001b[0m \u001b[0;32min\u001b[0m \u001b[0mself\u001b[0m\u001b[0;34m.\u001b[0m\u001b[0mneurons\u001b[0m\u001b[0;34m.\u001b[0m\u001b[0mkeys\u001b[0m\u001b[0;34m(\u001b[0m\u001b[0;34m)\u001b[0m \u001b[0;32mif\u001b[0m \u001b[0mx\u001b[0m \u001b[0;32mnot\u001b[0m \u001b[0;32min\u001b[0m \u001b[0mneuron_id\u001b[0m \u001b[0;32mand\u001b[0m \u001b[0mx\u001b[0m \u001b[0;32min\u001b[0m \u001b[0mself\u001b[0m\u001b[0;34m.\u001b[0m\u001b[0mneuron_id\u001b[0m\u001b[0;34m]\u001b[0m\u001b[0;34m\u001b[0m\u001b[0;34m\u001b[0m\u001b[0m\n",
      "\u001b[0m\u001b[0;32m    171 \u001b[0;31m\u001b[0;34m\u001b[0m\u001b[0m\n",
      "\u001b[0m\u001b[0;32m    172 \u001b[0;31m        \u001b[0;32mif\u001b[0m \u001b[0mlen\u001b[0m\u001b[0;34m(\u001b[0m\u001b[0mmissing_id\u001b[0m\u001b[0;34m)\u001b[0m \u001b[0;34m>\u001b[0m \u001b[0;36m0\u001b[0m\u001b[0;34m:\u001b[0m\u001b[0;34m\u001b[0m\u001b[0;34m\u001b[0m\u001b[0m\n",
      "\u001b[0m\n",
      "ipdb> soma_list\n",
      "[FS_2[0].soma[0], dSPN_3[0].soma[0], FS_1[0].soma[0], FS_2[1].soma[0], iSPN_0[0].soma[0], ChIN_0[0].soma[0], dSPN_3[1].soma[0], FS_0[0].soma[0], dSPN_0[0].soma[0], iSPN_2[0].soma[0], iSPN_2[1].soma[0], dSPN_2[0].soma[0], LTS_0[0].soma[0], ChIN_0[1].soma[0], iSPN_3[0].soma[0], iSPN_3[1].soma[0], dSPN_1[0].soma[0], dSPN_0[1].soma[0], FS_3[0].soma[0], LTS_0[1].soma[0], FS_0[1].soma[0], iSPN_1[0].soma[0], dSPN_1[1].soma[0], iSPN_0[1].soma[0], dSPN_2[1].soma[0], FS_3[1].soma[0], iSPN_1[1].soma[0], FS_1[1].soma[0]]\n",
      "ipdb> c\n",
      "> \u001b[0;32m/home/hjorth/HBP/Snudda/snudda/simulate/pair_recording.py\u001b[0m(212)\u001b[0;36mset_v_init\u001b[0;34m()\u001b[0m\n",
      "\u001b[0;32m    210 \u001b[0;31m\u001b[0;34m\u001b[0m\u001b[0m\n",
      "\u001b[0m\u001b[0;32m    211 \u001b[0;31m        \u001b[0;31m# Remove vClamps\u001b[0m\u001b[0;34m\u001b[0m\u001b[0;34m\u001b[0m\u001b[0;34m\u001b[0m\u001b[0m\n",
      "\u001b[0m\u001b[0;32m--> 212 \u001b[0;31m        \u001b[0mv_clamps\u001b[0m \u001b[0;34m=\u001b[0m \u001b[0;32mNone\u001b[0m\u001b[0;34m\u001b[0m\u001b[0;34m\u001b[0m\u001b[0m\n",
      "\u001b[0m\u001b[0;32m    213 \u001b[0;31m        \u001b[0mvc\u001b[0m \u001b[0;34m=\u001b[0m \u001b[0;32mNone\u001b[0m\u001b[0;34m\u001b[0m\u001b[0;34m\u001b[0m\u001b[0m\n",
      "\u001b[0m\u001b[0;32m    214 \u001b[0;31m\u001b[0;34m\u001b[0m\u001b[0m\n",
      "\u001b[0m\n",
      "ipdb> self.v_save[0][-1]\n",
      "-80.00000000027467\n",
      "ipdb> len(self.v_save[0])\n",
      "12001\n",
      "ipdb> self.v_save[0][6000]\n",
      "-80.00000000027468\n",
      "ipdb> self.v_save[0][4000]\n",
      "-80.00000000027468\n",
      "ipdb> self.v_save[0][1000]\n",
      "-80.00000000027566\n"
     ]
    }
   ],
   "source": [
    "from snudda.simulate.pair_recording import PairRecording \n",
    "experiment_config_file = os.path.join(\"..\",\"..\", \"snudda\", \"data\", \"experiment_config\", \"experiment-config-6.json\")\n",
    "pr = PairRecording(network_path=network_path, experiment_config_file=experiment_config_file)\n",
    "pr.run()"
   ]
  },
  {
   "cell_type": "markdown",
   "id": "center-struggle",
   "metadata": {},
   "source": [
    "Plot results"
   ]
  },
  {
   "cell_type": "code",
   "execution_count": null,
   "id": "cooked-brazilian",
   "metadata": {},
   "outputs": [],
   "source": [
    "from snudda.plotting import PlotTraces\n",
    "pt = PlotTraces(file_name=os.path.join(network_path,\"simulation\",\"network-voltage-6.txt\"),\n",
    "                network_file=os.path.join(network_path, \"network-synapses.hdf5\"))"
   ]
  },
  {
   "cell_type": "code",
   "execution_count": null,
   "id": "finished-determination",
   "metadata": {},
   "outputs": [],
   "source": [
    "pt.plot_traces([x for x in pt.voltage])"
   ]
  },
  {
   "cell_type": "code",
   "execution_count": null,
   "id": "burning-evanescence",
   "metadata": {},
   "outputs": [],
   "source": [
    "pt.plot_traces([1], offset=0)"
   ]
  },
  {
   "cell_type": "code",
   "execution_count": null,
   "id": "connected-bargain",
   "metadata": {},
   "outputs": [],
   "source": [
    "pt.plot_traces([5], offset=0)"
   ]
  },
  {
   "cell_type": "code",
   "execution_count": null,
   "id": "narrative-chicken",
   "metadata": {},
   "outputs": [],
   "source": [
    "pt.plot_traces([9], offset=0)"
   ]
  },
  {
   "cell_type": "code",
   "execution_count": null,
   "id": "occasional-estimate",
   "metadata": {},
   "outputs": [],
   "source": [
    "pt.plot_traces([10], offset=0)"
   ]
  },
  {
   "cell_type": "code",
   "execution_count": null,
   "id": "surgical-position",
   "metadata": {},
   "outputs": [],
   "source": [
    "pt.plot_traces([14], offset=0)"
   ]
  },
  {
   "cell_type": "code",
   "execution_count": null,
   "id": "substantial-observer",
   "metadata": {},
   "outputs": [],
   "source": [
    "pt.plot_traces([15], offset=0)"
   ]
  },
  {
   "cell_type": "code",
   "execution_count": null,
   "id": "vanilla-circuit",
   "metadata": {},
   "outputs": [],
   "source": [
    "pt.plot_traces([x for x in pt.voltage], offset=0)"
   ]
  },
  {
   "cell_type": "code",
   "execution_count": null,
   "id": "behind-snowboard",
   "metadata": {},
   "outputs": [],
   "source": []
  }
 ],
 "metadata": {
  "kernelspec": {
   "display_name": "Python 3",
   "language": "python",
   "name": "python3"
  },
  "language_info": {
   "codemirror_mode": {
    "name": "ipython",
    "version": 3
   },
   "file_extension": ".py",
   "mimetype": "text/x-python",
   "name": "python",
   "nbconvert_exporter": "python",
   "pygments_lexer": "ipython3",
   "version": "3.7.3"
  }
 },
 "nbformat": 4,
 "nbformat_minor": 5
}
