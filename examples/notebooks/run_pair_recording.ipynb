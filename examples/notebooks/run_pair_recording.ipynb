{
 "cells": [
  {
   "cell_type": "code",
   "execution_count": 1,
   "id": "micro-value",
   "metadata": {},
   "outputs": [],
   "source": [
    "import os\n",
    "\n",
    "n_dSPN = 5\n",
    "n_iSPN = 5\n",
    "n_FS = 2\n",
    "n_LTS = 2\n",
    "n_ChIN = 2\n",
    "\n",
    "hold_v = -80e-3    # Holding voltage\n",
    "max_dist = 100e-6  # Only look at pairs closer than this distance\n",
    "GABA_rev = -60e-3  # GABA reversal potential\n",
    "\n",
    "cur_inj = 10e-9\n",
    "\n",
    "network_path = os.path.join(\"networks\",\"pair_recording_simulation\")\n",
    "volume_type=\"cube\"\n",
    "side_len = 200e-6"
   ]
  },
  {
   "cell_type": "code",
   "execution_count": null,
   "id": "stable-being",
   "metadata": {},
   "outputs": [],
   "source": [
    "from snudda.init.init import SnuddaInit\n",
    "cnc = SnuddaInit(struct_def={}, network_path=network_path)\n",
    "cnc.define_striatum(num_dSPN=n_dSPN, num_iSPN=n_iSPN, num_FS=n_FS, num_LTS=n_LTS, num_ChIN=n_ChIN,\n",
    "                    volume_type=\"cube\", side_len=side_len)\n",
    "cnc.write_json()"
   ]
  },
  {
   "cell_type": "code",
   "execution_count": null,
   "id": "blind-williams",
   "metadata": {},
   "outputs": [],
   "source": [
    "from snudda.place import SnuddaPlace\n",
    "sp = SnuddaPlace(network_path=network_path)\n",
    "sp.place()"
   ]
  },
  {
   "cell_type": "code",
   "execution_count": null,
   "id": "surprising-architecture",
   "metadata": {},
   "outputs": [],
   "source": [
    "from snudda.detect import SnuddaDetect\n",
    "sd = SnuddaDetect(network_path=network_path)\n",
    "sd.detect()"
   ]
  },
  {
   "cell_type": "code",
   "execution_count": null,
   "id": "unavailable-christmas",
   "metadata": {},
   "outputs": [],
   "source": [
    "from snudda.detect import SnuddaPrune\n",
    "spr = SnuddaPrune(network_path=network_path)\n",
    "spr.prune()\n",
    "spr = None"
   ]
  },
  {
   "cell_type": "markdown",
   "id": "moral-elephant",
   "metadata": {},
   "source": [
    "Compile neuron modules"
   ]
  },
  {
   "cell_type": "code",
   "execution_count": null,
   "id": "sustained-monaco",
   "metadata": {},
   "outputs": [],
   "source": [
    "!nrnivmodl ../../snudda/data/neurons/mechanisms"
   ]
  },
  {
   "cell_type": "code",
   "execution_count": 2,
   "id": "announced-programming",
   "metadata": {},
   "outputs": [
    {
     "name": "stdout",
     "output_type": "stream",
     "text": [
      "Warning: No synaptic input file given!\n",
      "Loading 16 neurons with 175 synapses and 7 gap junctions\n",
      "Warning: v_init is not specified for neurons [4, 5, 6, 7, 8, 9, 10, 11, 12, 13, 14, 15]\n",
      "Running simulation for 5.0 s\n",
      "1% done. Elapsed: 26.3 s, estimated time left: 2600.4 s\n",
      "5% done. Elapsed: 134.2 s, estimated time left: 2550.3 s\n",
      "8% done. Elapsed: 237.6 s, estimated time left: 2732.9 s\n",
      "11% done. Elapsed: 341.2 s, estimated time left: 2760.3 s\n",
      "15% done. Elapsed: 451.7 s, estimated time left: 2559.6 s\n",
      "18% done. Elapsed: 554.3 s, estimated time left: 2525.0 s\n",
      "22% done. Elapsed: 684.8 s, estimated time left: 2427.8 s\n",
      "25% done. Elapsed: 785.6 s, estimated time left: 2356.7 s\n",
      "29% done. Elapsed: 908.3 s, estimated time left: 2223.8 s\n",
      "33% done. Elapsed: 1035.7 s, estimated time left: 2102.8 s\n",
      "37% done. Elapsed: 1167.1 s, estimated time left: 1987.2 s\n",
      "40% done. Elapsed: 1267.1 s, estimated time left: 1900.7 s\n",
      "43% done. Elapsed: 1369.7 s, estimated time left: 1815.6 s\n",
      "47% done. Elapsed: 1494.8 s, estimated time left: 1685.6 s\n",
      "51% done. Elapsed: 1626.2 s, estimated time left: 1562.4 s\n",
      "55% done. Elapsed: 1751.8 s, estimated time left: 1433.3 s\n",
      "59% done. Elapsed: 1879.1 s, estimated time left: 1305.8 s\n",
      "62% done. Elapsed: 1981.0 s, estimated time left: 1214.1 s\n",
      "66% done. Elapsed: 2111.6 s, estimated time left: 1087.8 s\n",
      "69% done. Elapsed: 2213.2 s, estimated time left: 994.3 s\n",
      "73% done. Elapsed: 2322.9 s, estimated time left: 859.2 s\n",
      "77% done. Elapsed: 2440.6 s, estimated time left: 729.0 s\n",
      "81% done. Elapsed: 2570.7 s, estimated time left: 603.0 s\n",
      "85% done. Elapsed: 2692.4 s, estimated time left: 475.1 s\n",
      "89% done. Elapsed: 2822.8 s, estimated time left: 348.9 s\n",
      "93% done. Elapsed: 2948.0 s, estimated time left: 221.9 s\n",
      "96% done. Elapsed: 3048.8 s, estimated time left: 127.0 s\n",
      "99% done. Elapsed: 3151.5 s, estimated time left: 31.8 s\n",
      "Simulation run time: 3185.5 s\n"
     ]
    },
    {
     "ename": "AttributeError",
     "evalue": "'PairRecording' object has no attribute 'volt_file'",
     "output_type": "error",
     "traceback": [
      "\u001b[0;31m---------------------------------------------------------------------------\u001b[0m",
      "\u001b[0;31mAttributeError\u001b[0m                            Traceback (most recent call last)",
      "\u001b[0;32m<ipython-input-2-2f3e6001a08b>\u001b[0m in \u001b[0;36m<module>\u001b[0;34m\u001b[0m\n\u001b[1;32m      2\u001b[0m \u001b[0mexperiment_config_file\u001b[0m \u001b[0;34m=\u001b[0m \u001b[0mos\u001b[0m\u001b[0;34m.\u001b[0m\u001b[0mpath\u001b[0m\u001b[0;34m.\u001b[0m\u001b[0mjoin\u001b[0m\u001b[0;34m(\u001b[0m\u001b[0;34m\"..\"\u001b[0m\u001b[0;34m,\u001b[0m\u001b[0;34m\"..\"\u001b[0m\u001b[0;34m,\u001b[0m \u001b[0;34m\"snudda\"\u001b[0m\u001b[0;34m,\u001b[0m \u001b[0;34m\"data\"\u001b[0m\u001b[0;34m,\u001b[0m \u001b[0;34m\"experiment_config\"\u001b[0m\u001b[0;34m,\u001b[0m \u001b[0;34m\"experiment-config-1.json\"\u001b[0m\u001b[0;34m)\u001b[0m\u001b[0;34m\u001b[0m\u001b[0;34m\u001b[0m\u001b[0m\n\u001b[1;32m      3\u001b[0m \u001b[0mpr\u001b[0m \u001b[0;34m=\u001b[0m \u001b[0mPairRecording\u001b[0m\u001b[0;34m(\u001b[0m\u001b[0mnetwork_path\u001b[0m\u001b[0;34m=\u001b[0m\u001b[0mnetwork_path\u001b[0m\u001b[0;34m,\u001b[0m \u001b[0mexperiment_config_file\u001b[0m\u001b[0;34m=\u001b[0m\u001b[0mexperiment_config_file\u001b[0m\u001b[0;34m)\u001b[0m\u001b[0;34m\u001b[0m\u001b[0;34m\u001b[0m\u001b[0m\n\u001b[0;32m----> 4\u001b[0;31m \u001b[0mpr\u001b[0m\u001b[0;34m.\u001b[0m\u001b[0mrun\u001b[0m\u001b[0;34m(\u001b[0m\u001b[0;34m)\u001b[0m\u001b[0;34m\u001b[0m\u001b[0;34m\u001b[0m\u001b[0m\n\u001b[0m",
      "\u001b[0;32m~/HBP/Snudda/snudda/simulate/pair_recording.py\u001b[0m in \u001b[0;36mrun\u001b[0;34m(self)\u001b[0m\n\u001b[1;32m    139\u001b[0m \u001b[0;34m\u001b[0m\u001b[0m\n\u001b[1;32m    140\u001b[0m         \u001b[0;31m# Write results to disk\u001b[0m\u001b[0;34m\u001b[0m\u001b[0;34m\u001b[0m\u001b[0;34m\u001b[0m\u001b[0m\n\u001b[0;32m--> 141\u001b[0;31m         \u001b[0mself\u001b[0m\u001b[0;34m.\u001b[0m\u001b[0mwrite_voltage\u001b[0m\u001b[0;34m(\u001b[0m\u001b[0mself\u001b[0m\u001b[0;34m.\u001b[0m\u001b[0mvolt_file\u001b[0m\u001b[0;34m)\u001b[0m\u001b[0;34m\u001b[0m\u001b[0;34m\u001b[0m\u001b[0m\n\u001b[0m",
      "\u001b[0;31mAttributeError\u001b[0m: 'PairRecording' object has no attribute 'volt_file'"
     ]
    }
   ],
   "source": [
    "from snudda.simulate.pair_recording import PairRecording \n",
    "experiment_config_file = os.path.join(\"..\",\"..\", \"snudda\", \"data\", \"experiment_config\", \"experiment-config-1.json\")\n",
    "pr = PairRecording(network_path=network_path, experiment_config_file=experiment_config_file)\n",
    "pr.run()"
   ]
  },
  {
   "cell_type": "markdown",
   "id": "center-struggle",
   "metadata": {},
   "source": [
    "Plot results"
   ]
  },
  {
   "cell_type": "code",
   "execution_count": null,
   "id": "cooked-brazilian",
   "metadata": {},
   "outputs": [],
   "source": []
  },
  {
   "cell_type": "code",
   "execution_count": null,
   "id": "finished-determination",
   "metadata": {},
   "outputs": [],
   "source": []
  },
  {
   "cell_type": "code",
   "execution_count": null,
   "id": "burning-evanescence",
   "metadata": {},
   "outputs": [],
   "source": []
  }
 ],
 "metadata": {
  "kernelspec": {
   "display_name": "Python 3",
   "language": "python",
   "name": "python3"
  },
  "language_info": {
   "codemirror_mode": {
    "name": "ipython",
    "version": 3
   },
   "file_extension": ".py",
   "mimetype": "text/x-python",
   "name": "python",
   "nbconvert_exporter": "python",
   "pygments_lexer": "ipython3",
   "version": "3.7.3"
  }
 },
 "nbformat": 4,
 "nbformat_minor": 5
}
