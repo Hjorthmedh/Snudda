{
 "cells": [
  {
   "cell_type": "markdown",
   "id": "played-complement",
   "metadata": {},
   "source": [
    "# Simulate current injections into one or more neurons in a network\n",
    "\n",
    "First we define the network. Generating the network is relatively fast, so you can generate a larger network. Simulating the full network is slower, so by default only the neurons receiving a current injection, and their post synaptic targets are simulated.\n",
    "\n",
    "In the cell below we define the number of neurons we want, and the volume we place them inside."
   ]
  },
  {
   "cell_type": "code",
   "execution_count": 1,
   "id": "micro-value",
   "metadata": {},
   "outputs": [],
   "source": [
    "import os\n",
    "\n",
    "n_dSPN = 4\n",
    "n_iSPN = 4\n",
    "n_FS = 4\n",
    "n_LTS = 1\n",
    "n_ChIN = 0\n",
    "\n",
    "\n",
    "network_path = os.path.join(\"networks\",\"pair_recording_simulation\")\n",
    "volume_type=\"cube\"\n",
    "side_len = 100e-6"
   ]
  },
  {
   "cell_type": "markdown",
   "id": "billion-wallet",
   "metadata": {},
   "source": [
    "Snudda init writes the ```network-config.json``` file."
   ]
  },
  {
   "cell_type": "code",
   "execution_count": 2,
   "id": "stable-being",
   "metadata": {},
   "outputs": [
    {
     "name": "stdout",
     "output_type": "stream",
     "text": [
      "Using cube for striatum\n",
      "Neurons for striatum read from /home/hjorth/HBP/Snudda/snudda/data/neurons/striatum\n",
      "Adding neurons: FS from dir /home/hjorth/HBP/Snudda/snudda/data/neurons/striatum/fs\n",
      "Adding neurons: dSPN from dir /home/hjorth/HBP/Snudda/snudda/data/neurons/striatum/dspn\n",
      "Adding neurons: iSPN from dir /home/hjorth/HBP/Snudda/snudda/data/neurons/striatum/ispn\n",
      "Checking boundaries, to make sure P is not too high\n",
      "LTS axon density P([-0.0002], [-0.0001], [-3.e-05]) = [1.84256218e-10]\n",
      "LTS axon density P([-0.0002], [-0.0001], [3.e-05]) = [1.84256218e-10]\n",
      "LTS axon density P([-0.0002], [0.0001], [-3.e-05]) = [1.84256218e-10]\n",
      "LTS axon density P([-0.0002], [0.0001], [3.e-05]) = [1.84256218e-10]\n",
      "LTS axon density P([0.0009], [-0.0001], [-3.e-05]) = [1.72360142e-23]\n",
      "LTS axon density P([0.0009], [-0.0001], [3.e-05]) = [1.72360142e-23]\n",
      "LTS axon density P([0.0009], [0.0001], [-3.e-05]) = [1.72360142e-23]\n",
      "LTS axon density P([0.0009], [0.0001], [3.e-05]) = [1.72360142e-23]\n",
      "Adding neurons: LTS from dir /home/hjorth/HBP/Snudda/snudda/data/neurons/striatum/lts\n",
      "Writing networks/pair_recording_simulation/network-config.json\n"
     ]
    }
   ],
   "source": [
    "from snudda.init.init import SnuddaInit\n",
    "cnc = SnuddaInit(struct_def={}, network_path=network_path, random_seed=1337)\n",
    "cnc.define_striatum(num_dSPN=n_dSPN, num_iSPN=n_iSPN, num_FS=n_FS, num_LTS=n_LTS, num_ChIN=n_ChIN,\n",
    "                    volume_type=\"cube\", side_len=side_len)\n",
    "cnc.write_json()"
   ]
  },
  {
   "cell_type": "markdown",
   "id": "frank-gamma",
   "metadata": {},
   "source": [
    "Snudda Place, Detect and Prune. Here the neurons are placed in the network, synapse touch detection is done, and finally pruning of the putative synapses."
   ]
  },
  {
   "cell_type": "code",
   "execution_count": 3,
   "id": "blind-williams",
   "metadata": {},
   "outputs": [],
   "source": [
    "from snudda.place import SnuddaPlace\n",
    "sp = SnuddaPlace(network_path=network_path)\n",
    "sp.place()"
   ]
  },
  {
   "cell_type": "code",
   "execution_count": 4,
   "id": "surprising-architecture",
   "metadata": {},
   "outputs": [
    {
     "name": "stdout",
     "output_type": "stream",
     "text": [
      "No d_view specified, running distribute neurons in serial\n",
      "Processing hyper voxel : 21/64 (13 neurons)\n",
      "Processing hyper voxel : 20/64 (13 neurons)\n",
      "Processing hyper voxel : 17/64 (13 neurons)\n",
      "Processing hyper voxel : 16/64 (13 neurons)\n",
      "Processing hyper voxel : 5/64 (11 neurons)\n",
      "Processing hyper voxel : 1/64 (9 neurons)\n",
      "Processing hyper voxel : 4/64 (9 neurons)\n",
      "Processing hyper voxel : 0/64 (7 neurons)\n",
      "Processing hyper voxel : 37/64 (7 neurons)\n",
      "Processing hyper voxel : 36/64 (5 neurons)\n",
      "Processing hyper voxel : 25/64 (5 neurons)\n",
      "Processing hyper voxel : 8/64 (4 neurons)\n",
      "Processing hyper voxel : 33/64 (4 neurons)\n",
      "Processing hyper voxel : 22/64 (3 neurons)\n",
      "Processing hyper voxel : 24/64 (3 neurons)\n",
      "Processing hyper voxel : 32/64 (3 neurons)\n",
      "Processing hyper voxel : 9/64 (2 neurons)\n",
      "Processing hyper voxel : 18/64 (2 neurons)\n",
      "Processing hyper voxel : 6/64 (1 neurons)\n",
      "Processing hyper voxel : 2/64 (1 neurons)\n",
      "Processing hyper voxel : 26/64 (1 neurons)\n"
     ]
    }
   ],
   "source": [
    "from snudda.detect import SnuddaDetect\n",
    "sd = SnuddaDetect(network_path=network_path)\n",
    "sd.detect()"
   ]
  },
  {
   "cell_type": "code",
   "execution_count": 5,
   "id": "unavailable-christmas",
   "metadata": {},
   "outputs": [
    {
     "name": "stdout",
     "output_type": "stream",
     "text": [
      "Read 2688 out of total 2688 synapses\n",
      "Read 85 out of total 85 gapJunctions\n"
     ]
    }
   ],
   "source": [
    "from snudda.detect import SnuddaPrune\n",
    "spr = SnuddaPrune(network_path=network_path)\n",
    "spr.prune()\n",
    "spr = None"
   ]
  },
  {
   "cell_type": "code",
   "execution_count": 6,
   "id": "49f61621",
   "metadata": {},
   "outputs": [
    {
     "name": "stdout",
     "output_type": "stream",
     "text": [
      "Loading 13 neurons with 256 synapses and 52 gap junctions\r\n",
      "Neurons in network: \r\n",
      "0 : FS_0  (x: 0.004763, y: 0.003989, z: 0.007753)\r\n",
      "1 : dSPN_3  (x: 0.004763, y: 0.004004, z: 0.007750)\r\n",
      "2 : FS_1  (x: 0.004769, y: 0.003991, z: 0.007769)\r\n",
      "3 : iSPN_1  (x: 0.004782, y: 0.003994, z: 0.007746)\r\n",
      "4 : iSPN_2  (x: 0.004780, y: 0.003978, z: 0.007760)\r\n",
      "5 : LTS_0  (x: 0.004758, y: 0.003980, z: 0.007772)\r\n",
      "6 : FS_3  (x: 0.004746, y: 0.003995, z: 0.007776)\r\n",
      "7 : dSPN_2  (x: 0.004753, y: 0.004009, z: 0.007779)\r\n",
      "8 : FS_2  (x: 0.004762, y: 0.004025, z: 0.007746)\r\n",
      "9 : dSPN_0  (x: 0.004789, y: 0.003980, z: 0.007780)\r\n",
      "10 : iSPN_3  (x: 0.004769, y: 0.004020, z: 0.007776)\r\n",
      "11 : iSPN_0  (x: 0.004792, y: 0.004015, z: 0.007764)\r\n",
      "12 : dSPN_1  (x: 0.004752, y: 0.004028, z: 0.007780)\r\n"
     ]
    }
   ],
   "source": [
    "!snudda_load networks/pair_recording_simulation/network-synapses.hdf5 --listN"
   ]
  },
  {
   "cell_type": "markdown",
   "id": "moral-elephant",
   "metadata": {},
   "source": [
    "We compile the neuron mechanisms for the simulation. Here we just use the default mechanisms provided."
   ]
  },
  {
   "cell_type": "code",
   "execution_count": 7,
   "id": "sustained-monaco",
   "metadata": {},
   "outputs": [
    {
     "name": "stdout",
     "output_type": "stream",
     "text": [
      "/home/hjorth/HBP/Snudda/examples/notebooks\n",
      "Mod files: \"../../snudda/data/neurons/mechanisms/bk_ch.mod\" \"../../snudda/data/neurons/mechanisms/bk_fs.mod\" \"../../snudda/data/neurons/mechanisms/bk_ms.mod\" \"../../snudda/data/neurons/mechanisms/ca_ch.mod\" \"../../snudda/data/neurons/mechanisms/cadyn_fs.mod\" \"../../snudda/data/neurons/mechanisms/cadyn_ms.mod\" \"../../snudda/data/neurons/mechanisms/cal12_ms.mod\" \"../../snudda/data/neurons/mechanisms/cal13_ms.mod\" \"../../snudda/data/neurons/mechanisms/cal_ch.mod\" \"../../snudda/data/neurons/mechanisms/caldyn_ms.mod\" \"../../snudda/data/neurons/mechanisms/can_fs.mod\" \"../../snudda/data/neurons/mechanisms/can_ms.mod\" \"../../snudda/data/neurons/mechanisms/cap_ch.mod\" \"../../snudda/data/neurons/mechanisms/caq_fs.mod\" \"../../snudda/data/neurons/mechanisms/caq_ms.mod\" \"../../snudda/data/neurons/mechanisms/car_fs.mod\" \"../../snudda/data/neurons/mechanisms/car_ms.mod\" \"../../snudda/data/neurons/mechanisms/cat32_ms.mod\" \"../../snudda/data/neurons/mechanisms/cat33_ms.mod\" \"../../snudda/data/neurons/mechanisms/concACh.mod\" \"../../snudda/data/neurons/mechanisms/concDAfile.mod\" \"../../snudda/data/neurons/mechanisms/concDA.mod\" \"../../snudda/data/neurons/mechanisms/hcn12_ch.mod\" \"../../snudda/data/neurons/mechanisms/hd_lts.mod\" \"../../snudda/data/neurons/mechanisms/im_lts.mod\" \"../../snudda/data/neurons/mechanisms/it_lts.mod\" \"../../snudda/data/neurons/mechanisms/kaf_fs.mod\" \"../../snudda/data/neurons/mechanisms/kaf_ms.mod\" \"../../snudda/data/neurons/mechanisms/kas_fs.mod\" \"../../snudda/data/neurons/mechanisms/kas_ms.mod\" \"../../snudda/data/neurons/mechanisms/kcnq_ch.mod\" \"../../snudda/data/neurons/mechanisms/kdrbca1_lts.mod\" \"../../snudda/data/neurons/mechanisms/kdr_fs.mod\" \"../../snudda/data/neurons/mechanisms/kdr_lts.mod\" \"../../snudda/data/neurons/mechanisms/kdr_ms.mod\" \"../../snudda/data/neurons/mechanisms/kir23_lts.mod\" \"../../snudda/data/neurons/mechanisms/kir2_ch.mod\" \"../../snudda/data/neurons/mechanisms/kir_fs.mod\" \"../../snudda/data/neurons/mechanisms/kir_ms.mod\" \"../../snudda/data/neurons/mechanisms/kv2_ch.mod\" \"../../snudda/data/neurons/mechanisms/Kv3_ch.mod\" \"../../snudda/data/neurons/mechanisms/kv4_ch.mod\" \"../../snudda/data/neurons/mechanisms/na2_ch.mod\" \"../../snudda/data/neurons/mechanisms/na3n_lts.mod\" \"../../snudda/data/neurons/mechanisms/na_ch.mod\" \"../../snudda/data/neurons/mechanisms/naf_fs.mod\" \"../../snudda/data/neurons/mechanisms/naf_lts.mod\" \"../../snudda/data/neurons/mechanisms/naf_ms.mod\" \"../../snudda/data/neurons/mechanisms/NO.mod\" \"../../snudda/data/neurons/mechanisms/par_ggap.mod\" \"../../snudda/data/neurons/mechanisms/sk_ch.mod\" \"../../snudda/data/neurons/mechanisms/sk_fs.mod\" \"../../snudda/data/neurons/mechanisms/sk_ms.mod\" \"../../snudda/data/neurons/mechanisms/tmampa.mod\" \"../../snudda/data/neurons/mechanisms/tmgabaa.mod\" \"../../snudda/data/neurons/mechanisms/tmglut_double.mod\" \"../../snudda/data/neurons/mechanisms/tmglut_M1RH_D1.mod\" \"../../snudda/data/neurons/mechanisms/tmglut.mod\" \"../../snudda/data/neurons/mechanisms/tmnmda.mod\" \"../../snudda/data/neurons/mechanisms/vecevent.mod\"\n",
      "\n",
      "COBJS=''\n",
      " -> \u001b[32mCompiling\u001b[0m mod_func.c\n",
      "x86_64-linux-gnu-gcc -O2   -I.   -I/home/hjorth/.local/lib/python3.7/site-packages/neuron/.data/include  -I/nrnwheel/openmpi/include -fPIC -c mod_func.c -o mod_func.o\n",
      " => \u001b[32mLINKING\u001b[0m shared library ./libnrnmech.so\n",
      "x86_64-linux-gnu-g++ -O2 -DVERSION_INFO='8.0.2' -std=c++11 -shared -fPIC  -I /home/hjorth/.local/lib/python3.7/site-packages/neuron/.data/include -o ./libnrnmech.so -Wl,-soname,libnrnmech.so \\\n",
      "  ./mod_func.o ./bk_ch.o ./bk_fs.o ./bk_ms.o ./ca_ch.o ./cadyn_fs.o ./cadyn_ms.o ./cal12_ms.o ./cal13_ms.o ./cal_ch.o ./caldyn_ms.o ./can_fs.o ./can_ms.o ./cap_ch.o ./caq_fs.o ./caq_ms.o ./car_fs.o ./car_ms.o ./cat32_ms.o ./cat33_ms.o ./concACh.o ./concDAfile.o ./concDA.o ./hcn12_ch.o ./hd_lts.o ./im_lts.o ./it_lts.o ./kaf_fs.o ./kaf_ms.o ./kas_fs.o ./kas_ms.o ./kcnq_ch.o ./kdrbca1_lts.o ./kdr_fs.o ./kdr_lts.o ./kdr_ms.o ./kir23_lts.o ./kir2_ch.o ./kir_fs.o ./kir_ms.o ./kv2_ch.o ./Kv3_ch.o ./kv4_ch.o ./na2_ch.o ./na3n_lts.o ./na_ch.o ./naf_fs.o ./naf_lts.o ./naf_ms.o ./NO.o ./par_ggap.o ./sk_ch.o ./sk_fs.o ./sk_ms.o ./tmampa.o ./tmgabaa.o ./tmglut_double.o ./tmglut_M1RH_D1.o ./tmglut.o ./tmnmda.o ./vecevent.o  -L/home/hjorth/.local/lib/python3.7/site-packages/neuron/.data/lib -lnrniv -Wl,-rpath,/home/hjorth/.local/lib/python3.7/site-packages/neuron/.data/lib   \n",
      "rm -f ./.libs/libnrnmech.so ; mkdir -p ./.libs ; cp ./libnrnmech.so ./.libs/libnrnmech.so\n",
      "Successfully created x86_64/special\n"
     ]
    }
   ],
   "source": [
    "!nrnivmodl ../../snudda/data/neurons/mechanisms"
   ]
  },
  {
   "cell_type": "markdown",
   "id": "documented-scenario",
   "metadata": {},
   "source": [
    "Run the NEURON simulation of the network. The setup is defined in the [experiment-config-7.json](../../snudda/data/experiment_config/experiment-config-7.json) file."
   ]
  },
  {
   "cell_type": "code",
   "execution_count": 8,
   "id": "announced-programming",
   "metadata": {
    "scrolled": true
   },
   "outputs": [
    {
     "name": "stdout",
     "output_type": "stream",
     "text": [
      "Warning: No synaptic input file given!\n",
      "Loading 13 neurons with 256 synapses and 52 gap junctions\n",
      "Found 0 local gap junctions on node.\n",
      "Setting tmGabaA reversal potential to -65.0 mV\n"
     ]
    }
   ],
   "source": [
    "from snudda.simulate.pair_recording import PairRecording \n",
    "experiment_config_file = os.path.join(\"..\",\"..\", \"snudda\", \"data\", \"experiment_config\", \"pair_recording\", \"experiment-config-7.json\")\n",
    "pr = PairRecording(network_path=network_path, experiment_config_file=experiment_config_file)"
   ]
  },
  {
   "cell_type": "code",
   "execution_count": null,
   "id": "round-attitude",
   "metadata": {},
   "outputs": [
    {
     "name": "stdout",
     "output_type": "stream",
     "text": [
      "Running simulation for 4.0 s\n",
      "Running Neuron simulator 4000 ms, with dt=0.025\n",
      "1% done. Elapsed: 5.6 s, estimated time left: 558.7 s\n",
      "20% done. Elapsed: 109.8 s, estimated time left: 439.4 s\n",
      "39% done. Elapsed: 214.3 s, estimated time left: 335.2 s\n",
      "58% done. Elapsed: 323.0 s, estimated time left: 233.9 s\n"
     ]
    }
   ],
   "source": [
    "pr.run()"
   ]
  },
  {
   "cell_type": "markdown",
   "id": "center-struggle",
   "metadata": {},
   "source": [
    "## Plot the results\n",
    "\n",
    "First we start with an overview trace of all the neurons that receive a current injection, and their post synaptic targets."
   ]
  },
  {
   "cell_type": "code",
   "execution_count": null,
   "id": "sexual-evaluation",
   "metadata": {
    "scrolled": false
   },
   "outputs": [],
   "source": [
    "%matplotlib notebook\n",
    "pr.plot_trace_overview()"
   ]
  },
  {
   "cell_type": "markdown",
   "id": "ready-chorus",
   "metadata": {},
   "source": [
    "We can also plot the individual post synaptic traces, with the current pulses marked."
   ]
  },
  {
   "cell_type": "code",
   "execution_count": null,
   "id": "southeast-addition",
   "metadata": {
    "scrolled": false
   },
   "outputs": [],
   "source": [
    "%matplotlib notebook\n",
    "pr.plot_traces()"
   ]
  },
  {
   "cell_type": "markdown",
   "id": "actual-michigan",
   "metadata": {},
   "source": [
    "The code below shows how you can use PlotTraces to load the voltage traces and plot the data yourself if you do not have the PairRecording object available anymore."
   ]
  },
  {
   "cell_type": "code",
   "execution_count": null,
   "id": "cooked-brazilian",
   "metadata": {},
   "outputs": [],
   "source": [
    "%matplotlib notebook\n",
    "from snudda.plotting import PlotTraces\n",
    "pt = PlotTraces(output_file=os.path.join(network_path,\"simulation\",\"network-output-7.hdf5\"),\n",
    "                network_file=os.path.join(network_path, \"network-synapses.hdf5\"))"
   ]
  },
  {
   "cell_type": "code",
   "execution_count": null,
   "id": "finished-determination",
   "metadata": {},
   "outputs": [],
   "source": [
    "pt.plot_traces([x for x in pt.voltage])"
   ]
  },
  {
   "cell_type": "code",
   "execution_count": null,
   "id": "burning-evanescence",
   "metadata": {},
   "outputs": [],
   "source": [
    "pt.plot_traces([11], offset=0)"
   ]
  },
  {
   "cell_type": "code",
   "execution_count": null,
   "id": "connected-bargain",
   "metadata": {},
   "outputs": [],
   "source": [
    "pt.plot_traces([10], offset=0)"
   ]
  },
  {
   "cell_type": "code",
   "execution_count": null,
   "id": "handmade-samuel",
   "metadata": {
    "scrolled": false
   },
   "outputs": [],
   "source": [
    "pt.plot_traces([x for x in pt.voltage], offset=0)"
   ]
  },
  {
   "cell_type": "code",
   "execution_count": null,
   "id": "surprised-minnesota",
   "metadata": {},
   "outputs": [],
   "source": [
    "import matplotlib.pyplot as plt\n",
    "plt.figure()\n",
    "plt.plot([x for x in pr.synapse_currents[0][2]])\n",
    "plt.show()"
   ]
  },
  {
   "cell_type": "code",
   "execution_count": null,
   "id": "republican-spiritual",
   "metadata": {},
   "outputs": [],
   "source": [
    "pr.synapse_currents[0][2]"
   ]
  },
  {
   "cell_type": "code",
   "execution_count": null,
   "id": "identical-rough",
   "metadata": {},
   "outputs": [],
   "source": [
    "pr.neurons[4].name"
   ]
  },
  {
   "cell_type": "code",
   "execution_count": null,
   "id": "suspended-traveler",
   "metadata": {},
   "outputs": [],
   "source": []
  }
 ],
 "metadata": {
  "kernelspec": {
   "display_name": "Python 3 (ipykernel)",
   "language": "python",
   "name": "python3"
  },
  "language_info": {
   "codemirror_mode": {
    "name": "ipython",
    "version": 3
   },
   "file_extension": ".py",
   "mimetype": "text/x-python",
   "name": "python",
   "nbconvert_exporter": "python",
   "pygments_lexer": "ipython3",
   "version": "3.7.3"
  }
 },
 "nbformat": 4,
 "nbformat_minor": 5
}
