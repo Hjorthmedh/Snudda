{
 "cells": [
  {
   "cell_type": "code",
   "execution_count": 1,
   "id": "micro-value",
   "metadata": {},
   "outputs": [],
   "source": [
    "import os\n",
    "\n",
    "n_dSPN = 5\n",
    "n_iSPN = 5\n",
    "n_FS = 2\n",
    "n_LTS = 2\n",
    "n_ChIN = 2\n",
    "\n",
    "hold_v = -80e-3    # Holding voltage\n",
    "max_dist = 100e-6  # Only look at pairs closer than this distance\n",
    "GABA_rev = -60e-3  # GABA reversal potential\n",
    "\n",
    "cur_inj = 10e-9\n",
    "\n",
    "network_path = os.path.join(\"networks\",\"pair_recording_simulation\")\n",
    "volume_type=\"cube\"\n",
    "side_len = 200e-6"
   ]
  },
  {
   "cell_type": "code",
   "execution_count": 2,
   "id": "stable-being",
   "metadata": {},
   "outputs": [
    {
     "name": "stdout",
     "output_type": "stream",
     "text": [
      "Using cube for striatum\n",
      "Adding neurons: FS from dir $SNUDDA_DATA/neurons/striatum/fs\n",
      "Adding neurons: dSPN from dir $SNUDDA_DATA/neurons/striatum/dspn\n",
      "Adding neurons: iSPN from dir $SNUDDA_DATA/neurons/striatum/ispn\n",
      "Adding neurons: ChIN from dir $SNUDDA_DATA/neurons/striatum/chin\n",
      "Checking boundaries, to make sure P is not too high\n",
      "LTS axon density P([-0.0002],[-0.0001],[-3.e-05]) = [1.84256218e-10]\n",
      "LTS axon density P([-0.0002],[-0.0001],[3.e-05]) = [1.84256218e-10]\n",
      "LTS axon density P([-0.0002],[0.0001],[-3.e-05]) = [1.84256218e-10]\n",
      "LTS axon density P([-0.0002],[0.0001],[3.e-05]) = [1.84256218e-10]\n",
      "LTS axon density P([0.0009],[-0.0001],[-3.e-05]) = [1.72360142e-23]\n",
      "LTS axon density P([0.0009],[-0.0001],[3.e-05]) = [1.72360142e-23]\n",
      "LTS axon density P([0.0009],[0.0001],[-3.e-05]) = [1.72360142e-23]\n",
      "LTS axon density P([0.0009],[0.0001],[3.e-05]) = [1.72360142e-23]\n",
      "Adding neurons: LTS from dir $SNUDDA_DATA/neurons/striatum/lts\n",
      "Writing networks/pair_recording_simulation/network-config.json\n"
     ]
    }
   ],
   "source": [
    "from snudda.init.init import SnuddaInit\n",
    "cnc = SnuddaInit(struct_def={}, network_path=network_path)\n",
    "cnc.define_striatum(num_dSPN=n_dSPN, num_iSPN=n_iSPN, num_FS=n_FS, num_LTS=n_LTS, num_ChIN=n_ChIN,\n",
    "                    volume_type=\"cube\", side_len=side_len)\n",
    "cnc.write_json()"
   ]
  },
  {
   "cell_type": "code",
   "execution_count": 3,
   "id": "blind-williams",
   "metadata": {},
   "outputs": [],
   "source": [
    "from snudda.place import SnuddaPlace\n",
    "sp = SnuddaPlace(network_path=network_path)\n",
    "sp.place()"
   ]
  },
  {
   "cell_type": "code",
   "execution_count": 4,
   "id": "surprising-architecture",
   "metadata": {},
   "outputs": [
    {
     "name": "stdout",
     "output_type": "stream",
     "text": [
      "Instantiates par_id = 0\n",
      "morph_tag = optim_chin_morph_renamed2019-11-08.swc\n",
      "Instantiates par_id = 0\n",
      "morph_tag = lts_morp_2019-11-07_centered_no_axon.swc\n",
      "No d_view specified, running distribute neurons in serial\n",
      "Processing hyper voxel : 20/64 (16 neurons)\n",
      "Processing hyper voxel : 21/64 (16 neurons)\n",
      "Processing hyper voxel : 4/64 (15 neurons)\n",
      "Processing hyper voxel : 5/64 (15 neurons)\n",
      "Processing hyper voxel : 17/64 (11 neurons)\n",
      "Processing hyper voxel : 9/64 (10 neurons)\n",
      "Processing hyper voxel : 25/64 (8 neurons)\n",
      "Processing hyper voxel : 1/64 (7 neurons)\n",
      "Processing hyper voxel : 37/64 (7 neurons)\n",
      "Processing hyper voxel : 16/64 (7 neurons)\n",
      "Processing hyper voxel : 0/64 (6 neurons)\n",
      "Processing hyper voxel : 24/64 (5 neurons)\n",
      "Processing hyper voxel : 8/64 (4 neurons)\n",
      "Processing hyper voxel : 36/64 (4 neurons)\n",
      "Processing hyper voxel : 22/64 (2 neurons)\n",
      "Processing hyper voxel : 33/64 (2 neurons)\n",
      "Processing hyper voxel : 6/64 (1 neurons)\n",
      "Processing hyper voxel : 32/64 (1 neurons)\n",
      "Processing hyper voxel : 2/64 (1 neurons)\n",
      "Processing hyper voxel : 41/64 (1 neurons)\n",
      "Processing hyper voxel : 57/64 (1 neurons)\n",
      "Processing hyper voxel : 58/64 (1 neurons)\n"
     ]
    }
   ],
   "source": [
    "from snudda.detect import SnuddaDetect\n",
    "sd = SnuddaDetect(network_path=network_path)\n",
    "sd.detect()"
   ]
  },
  {
   "cell_type": "code",
   "execution_count": 5,
   "id": "unavailable-christmas",
   "metadata": {},
   "outputs": [
    {
     "name": "stdout",
     "output_type": "stream",
     "text": [
      "Read 3505 out of total 3505 synapses\n",
      "Read 4 out of total 4 synapses\n"
     ]
    }
   ],
   "source": [
    "from snudda.detect import SnuddaPrune\n",
    "spr = SnuddaPrune(network_path=network_path)\n",
    "spr.prune()\n",
    "spr = None"
   ]
  },
  {
   "cell_type": "markdown",
   "id": "moral-elephant",
   "metadata": {},
   "source": [
    "Compile neuron modules"
   ]
  },
  {
   "cell_type": "code",
   "execution_count": 6,
   "id": "sustained-monaco",
   "metadata": {},
   "outputs": [
    {
     "name": "stdout",
     "output_type": "stream",
     "text": [
      "/home/hjorth/HBP/Snudda/examples/notebooks\n",
      "Mod files: \"../../snudda/data/neurons/mechanisms/bk_ch.mod\" \"../../snudda/data/neurons/mechanisms/bk_fs.mod\" \"../../snudda/data/neurons/mechanisms/bk_ms.mod\" \"../../snudda/data/neurons/mechanisms/ca_ch.mod\" \"../../snudda/data/neurons/mechanisms/cadyn_fs.mod\" \"../../snudda/data/neurons/mechanisms/cadyn_ms.mod\" \"../../snudda/data/neurons/mechanisms/cal12_ms.mod\" \"../../snudda/data/neurons/mechanisms/cal13_ms.mod\" \"../../snudda/data/neurons/mechanisms/cal_ch.mod\" \"../../snudda/data/neurons/mechanisms/caldyn_ms.mod\" \"../../snudda/data/neurons/mechanisms/can_fs.mod\" \"../../snudda/data/neurons/mechanisms/can_ms.mod\" \"../../snudda/data/neurons/mechanisms/cap_ch.mod\" \"../../snudda/data/neurons/mechanisms/caq_fs.mod\" \"../../snudda/data/neurons/mechanisms/caq_ms.mod\" \"../../snudda/data/neurons/mechanisms/car_fs.mod\" \"../../snudda/data/neurons/mechanisms/car_ms.mod\" \"../../snudda/data/neurons/mechanisms/cat32_ms.mod\" \"../../snudda/data/neurons/mechanisms/cat33_ms.mod\" \"../../snudda/data/neurons/mechanisms/concACh.mod\" \"../../snudda/data/neurons/mechanisms/concDAfile.mod\" \"../../snudda/data/neurons/mechanisms/concDA.mod\" \"../../snudda/data/neurons/mechanisms/hcn12_ch.mod\" \"../../snudda/data/neurons/mechanisms/hd_lts.mod\" \"../../snudda/data/neurons/mechanisms/im_lts.mod\" \"../../snudda/data/neurons/mechanisms/it_lts.mod\" \"../../snudda/data/neurons/mechanisms/kaf_fs.mod\" \"../../snudda/data/neurons/mechanisms/kaf_ms.mod\" \"../../snudda/data/neurons/mechanisms/kas_fs.mod\" \"../../snudda/data/neurons/mechanisms/kas_ms.mod\" \"../../snudda/data/neurons/mechanisms/kcnq_ch.mod\" \"../../snudda/data/neurons/mechanisms/kdrbca1_lts.mod\" \"../../snudda/data/neurons/mechanisms/kdr_fs.mod\" \"../../snudda/data/neurons/mechanisms/kdr_lts.mod\" \"../../snudda/data/neurons/mechanisms/kdr_ms.mod\" \"../../snudda/data/neurons/mechanisms/kir23_lts.mod\" \"../../snudda/data/neurons/mechanisms/kir2_ch.mod\" \"../../snudda/data/neurons/mechanisms/kir_fs.mod\" \"../../snudda/data/neurons/mechanisms/kir_ms.mod\" \"../../snudda/data/neurons/mechanisms/kv2_ch.mod\" \"../../snudda/data/neurons/mechanisms/Kv3_ch.mod\" \"../../snudda/data/neurons/mechanisms/kv4_ch.mod\" \"../../snudda/data/neurons/mechanisms/na2_ch.mod\" \"../../snudda/data/neurons/mechanisms/na3n_lts.mod\" \"../../snudda/data/neurons/mechanisms/na_ch.mod\" \"../../snudda/data/neurons/mechanisms/naf_fs.mod\" \"../../snudda/data/neurons/mechanisms/naf_lts.mod\" \"../../snudda/data/neurons/mechanisms/naf_ms.mod\" \"../../snudda/data/neurons/mechanisms/NO.mod\" \"../../snudda/data/neurons/mechanisms/par_ggap.mod\" \"../../snudda/data/neurons/mechanisms/sk_ch.mod\" \"../../snudda/data/neurons/mechanisms/sk_fs.mod\" \"../../snudda/data/neurons/mechanisms/sk_ms.mod\" \"../../snudda/data/neurons/mechanisms/tmampa.mod\" \"../../snudda/data/neurons/mechanisms/tmgabaa.mod\" \"../../snudda/data/neurons/mechanisms/tmglut_double.mod\" \"../../snudda/data/neurons/mechanisms/tmglut_M1RH_D1.mod\" \"../../snudda/data/neurons/mechanisms/tmglut.mod\" \"../../snudda/data/neurons/mechanisms/tmnmda.mod\" \"../../snudda/data/neurons/mechanisms/vecevent.mod\"\n",
      "\n",
      "COBJS=''\n",
      " -> \u001b[32mCompiling\u001b[0m mod_func.c\n",
      "x86_64-linux-gnu-gcc -O2   -I.   -I/home/hjorth/.local/lib/python3.7/site-packages/neuron/.data/include  -I/nrnwheel/openmpi/include -fPIC -c mod_func.c -o mod_func.o\n",
      " => \u001b[32mLINKING\u001b[0m shared library ./libnrnmech.so\n",
      "x86_64-linux-gnu-g++ -O2 -DVERSION_INFO='7.8.2' -std=c++11 -shared -fPIC  -I /home/hjorth/.local/lib/python3.7/site-packages/neuron/.data/include -o ./libnrnmech.so -Wl,-soname,libnrnmech.so \\\n",
      "  ./mod_func.o ./bk_ch.o ./bk_fs.o ./bk_ms.o ./ca_ch.o ./cadyn_fs.o ./cadyn_ms.o ./cal12_ms.o ./cal13_ms.o ./cal_ch.o ./caldyn_ms.o ./can_fs.o ./can_ms.o ./cap_ch.o ./caq_fs.o ./caq_ms.o ./car_fs.o ./car_ms.o ./cat32_ms.o ./cat33_ms.o ./concACh.o ./concDAfile.o ./concDA.o ./hcn12_ch.o ./hd_lts.o ./im_lts.o ./it_lts.o ./kaf_fs.o ./kaf_ms.o ./kas_fs.o ./kas_ms.o ./kcnq_ch.o ./kdrbca1_lts.o ./kdr_fs.o ./kdr_lts.o ./kdr_ms.o ./kir23_lts.o ./kir2_ch.o ./kir_fs.o ./kir_ms.o ./kv2_ch.o ./Kv3_ch.o ./kv4_ch.o ./na2_ch.o ./na3n_lts.o ./na_ch.o ./naf_fs.o ./naf_lts.o ./naf_ms.o ./NO.o ./par_ggap.o ./sk_ch.o ./sk_fs.o ./sk_ms.o ./tmampa.o ./tmgabaa.o ./tmglut_double.o ./tmglut_M1RH_D1.o ./tmglut.o ./tmnmda.o ./vecevent.o  -L/home/hjorth/.local/lib/python3.7/site-packages/neuron/.data/lib -lnrniv -Wl,-rpath,/home/hjorth/.local/lib/python3.7/site-packages/neuron/.data/lib   \n",
      "rm -f ./.libs/libnrnmech.so ; mkdir -p ./.libs ; cp ./libnrnmech.so ./.libs/libnrnmech.so\n",
      "Successfully created x86_64/special\n"
     ]
    }
   ],
   "source": [
    "!nrnivmodl ../../snudda/data/neurons/mechanisms"
   ]
  },
  {
   "cell_type": "code",
   "execution_count": 7,
   "id": "announced-programming",
   "metadata": {},
   "outputs": [
    {
     "name": "stdout",
     "output_type": "stream",
     "text": [
      "Warning: No synaptic input file given!\n",
      "Loading 16 neurons with 225 synapses and 0 gap junctions\n",
      "Warning: v_init is not specified for neurons [4, 5, 6, 7, 8, 9, 10, 11, 12, 13, 14, 15]\n",
      "Running simulation for 5.0 s\n",
      "1% done. Elapsed: 29.5 s, estimated time left: 2920.3 s\n",
      "5% done. Elapsed: 141.8 s, estimated time left: 2693.6 s\n",
      "9% done. Elapsed: 273.5 s, estimated time left: 2765.3 s\n",
      "12% done. Elapsed: 383.7 s, estimated time left: 2814.0 s\n",
      "15% done. Elapsed: 490.8 s, estimated time left: 2781.3 s\n",
      "18% done. Elapsed: 591.7 s, estimated time left: 2695.7 s\n",
      "22% done. Elapsed: 714.1 s, estimated time left: 2531.8 s\n",
      "25% done. Elapsed: 819.1 s, estimated time left: 2457.2 s\n",
      "29% done. Elapsed: 953.5 s, estimated time left: 2334.4 s\n",
      "33% done. Elapsed: 1087.3 s, estimated time left: 2207.5 s\n",
      "36% done. Elapsed: 1188.1 s, estimated time left: 2112.2 s\n",
      "40% done. Elapsed: 1321.5 s, estimated time left: 1982.3 s\n",
      "43% done. Elapsed: 1422.8 s, estimated time left: 1886.0 s\n",
      "46% done. Elapsed: 1524.4 s, estimated time left: 1789.5 s\n",
      "50% done. Elapsed: 1656.9 s, estimated time left: 1656.9 s\n",
      "53% done. Elapsed: 1758.3 s, estimated time left: 1559.3 s\n",
      "56% done. Elapsed: 1858.3 s, estimated time left: 1460.1 s\n",
      "59% done. Elapsed: 1959.4 s, estimated time left: 1361.6 s\n",
      "63% done. Elapsed: 2089.9 s, estimated time left: 1227.4 s\n",
      "66% done. Elapsed: 2194.1 s, estimated time left: 1130.3 s\n",
      "70% done. Elapsed: 2313.2 s, estimated time left: 991.4 s\n",
      "73% done. Elapsed: 2423.4 s, estimated time left: 896.3 s\n",
      "76% done. Elapsed: 2523.8 s, estimated time left: 797.0 s\n",
      "80% done. Elapsed: 2640.1 s, estimated time left: 660.0 s\n",
      "83% done. Elapsed: 2742.8 s, estimated time left: 561.8 s\n",
      "87% done. Elapsed: 2875.4 s, estimated time left: 429.7 s\n",
      "90% done. Elapsed: 2980.3 s, estimated time left: 331.1 s\n",
      "93% done. Elapsed: 3084.8 s, estimated time left: 232.2 s\n",
      "96% done. Elapsed: 3189.2 s, estimated time left: 132.9 s\n",
      "99% done. Elapsed: 3295.3 s, estimated time left: 33.3 s\n",
      "Simulation run time: 3324.4 s\n"
     ]
    }
   ],
   "source": [
    "from snudda.simulate.pair_recording import PairRecording \n",
    "experiment_config_file = os.path.join(\"..\",\"..\", \"snudda\", \"data\", \"experiment_config\", \"experiment-config-1.json\")\n",
    "pr = PairRecording(network_path=network_path, experiment_config_file=experiment_config_file)\n",
    "pr.run()"
   ]
  },
  {
   "cell_type": "markdown",
   "id": "center-struggle",
   "metadata": {},
   "source": [
    "Plot results"
   ]
  },
  {
   "cell_type": "code",
   "execution_count": null,
   "id": "cooked-brazilian",
   "metadata": {},
   "outputs": [],
   "source": [
    "from snudda.plotting import PlotTraces\n",
    "pt = PlotTraces(os.path.join(network_path,\"simulation\"))"
   ]
  },
  {
   "cell_type": "code",
   "execution_count": 10,
   "id": "finished-determination",
   "metadata": {},
   "outputs": [],
   "source": [
    "pr.write_voltage(os.path.join(network_path,\"simulation\",\"network-voltage.txt\"))"
   ]
  },
  {
   "cell_type": "code",
   "execution_count": null,
   "id": "burning-evanescence",
   "metadata": {},
   "outputs": [],
   "source": []
  }
 ],
 "metadata": {
  "kernelspec": {
   "display_name": "Python 3",
   "language": "python",
   "name": "python3"
  },
  "language_info": {
   "codemirror_mode": {
    "name": "ipython",
    "version": 3
   },
   "file_extension": ".py",
   "mimetype": "text/x-python",
   "name": "python",
   "nbconvert_exporter": "python",
   "pygments_lexer": "ipython3",
   "version": "3.7.3"
  }
 },
 "nbformat": 4,
 "nbformat_minor": 5
}
