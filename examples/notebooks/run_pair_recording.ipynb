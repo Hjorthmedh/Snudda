{
 "cells": [
  {
   "cell_type": "code",
   "execution_count": 1,
   "id": "micro-value",
   "metadata": {},
   "outputs": [],
   "source": [
    "import os\n",
    "\n",
    "n_dSPN = 5\n",
    "n_iSPN = 5\n",
    "n_FS = 2\n",
    "n_LTS = 2\n",
    "n_ChIN = 2\n",
    "\n",
    "hold_v = -80e-3    # Holding voltage\n",
    "max_dist = 100e-6  # Only look at pairs closer than this distance\n",
    "GABA_rev = -60e-3  # GABA reversal potential\n",
    "\n",
    "cur_inj = 10e-9\n",
    "\n",
    "network_path = os.path.join(\"networks\",\"pair_recording_simulation\")\n",
    "volume_type=\"cube\"\n",
    "side_len = 200e-6"
   ]
  },
  {
   "cell_type": "code",
   "execution_count": null,
   "id": "stable-being",
   "metadata": {},
   "outputs": [],
   "source": [
    "from snudda.init.init import SnuddaInit\n",
    "cnc = SnuddaInit(struct_def={}, network_path=network_path)\n",
    "cnc.define_striatum(num_dSPN=n_dSPN, num_iSPN=n_iSPN, num_FS=n_FS, num_LTS=n_LTS, num_ChIN=n_ChIN,\n",
    "                    volume_type=\"cube\", side_len=side_len)\n",
    "cnc.write_json()"
   ]
  },
  {
   "cell_type": "code",
   "execution_count": null,
   "id": "blind-williams",
   "metadata": {},
   "outputs": [],
   "source": [
    "from snudda.place import SnuddaPlace\n",
    "sp = SnuddaPlace(network_path=network_path)\n",
    "sp.place()"
   ]
  },
  {
   "cell_type": "code",
   "execution_count": null,
   "id": "surprising-architecture",
   "metadata": {},
   "outputs": [],
   "source": [
    "from snudda.detect import SnuddaDetect\n",
    "sd = SnuddaDetect(network_path=network_path)\n",
    "sd.detect()"
   ]
  },
  {
   "cell_type": "code",
   "execution_count": null,
   "id": "unavailable-christmas",
   "metadata": {},
   "outputs": [],
   "source": [
    "from snudda.detect import SnuddaPrune\n",
    "spr = SnuddaPrune(network_path=network_path)\n",
    "spr.prune()\n",
    "spr = None"
   ]
  },
  {
   "cell_type": "markdown",
   "id": "moral-elephant",
   "metadata": {},
   "source": [
    "Compile neuron modules"
   ]
  },
  {
   "cell_type": "code",
   "execution_count": null,
   "id": "sustained-monaco",
   "metadata": {},
   "outputs": [],
   "source": [
    "!nrnivmodl ../../snudda/data/neurons/mechanisms"
   ]
  },
  {
   "cell_type": "code",
   "execution_count": null,
   "id": "announced-programming",
   "metadata": {},
   "outputs": [
    {
     "name": "stdout",
     "output_type": "stream",
     "text": [
      "Warning: No synaptic input file given!\n",
      "Loading 16 neurons with 225 synapses and 0 gap junctions\n",
      "Warning: v_init is not specified for neurons [4, 7, 9, 12, 14]\n",
      "Running simulation for 5.0 s\n"
     ]
    }
   ],
   "source": [
    "from snudda.simulate.pair_recording import PairRecording \n",
    "experiment_config_file = os.path.join(\"..\",\"..\", \"snudda\", \"data\", \"experiment_config\", \"experiment-config-1.json\")\n",
    "pr = PairRecording(network_path=network_path, experiment_config_file=experiment_config_file)\n",
    "pr.run()"
   ]
  },
  {
   "cell_type": "markdown",
   "id": "center-struggle",
   "metadata": {},
   "source": [
    "Plot results"
   ]
  },
  {
   "cell_type": "code",
   "execution_count": null,
   "id": "cooked-brazilian",
   "metadata": {},
   "outputs": [],
   "source": [
    "from snudda.plotting import PlotTraces\n",
    "pt = PlotTraces(file_name=os.path.join(network_path,\"simulation\",\"network-voltage.txt\"),\n",
    "                network_file=os.path.join(network_path, \"network-synapses.hdf5\"))"
   ]
  },
  {
   "cell_type": "code",
   "execution_count": null,
   "id": "finished-determination",
   "metadata": {},
   "outputs": [],
   "source": [
    "pt.plot_traces([x for x in pt.voltage])"
   ]
  },
  {
   "cell_type": "code",
   "execution_count": null,
   "id": "burning-evanescence",
   "metadata": {},
   "outputs": [],
   "source": []
  },
  {
   "cell_type": "code",
   "execution_count": null,
   "id": "connected-bargain",
   "metadata": {},
   "outputs": [],
   "source": []
  }
 ],
 "metadata": {
  "kernelspec": {
   "display_name": "Python 3",
   "language": "python",
   "name": "python3"
  },
  "language_info": {
   "codemirror_mode": {
    "name": "ipython",
    "version": 3
   },
   "file_extension": ".py",
   "mimetype": "text/x-python",
   "name": "python",
   "nbconvert_exporter": "python",
   "pygments_lexer": "ipython3",
   "version": "3.7.3"
  }
 },
 "nbformat": 4,
 "nbformat_minor": 5
}
