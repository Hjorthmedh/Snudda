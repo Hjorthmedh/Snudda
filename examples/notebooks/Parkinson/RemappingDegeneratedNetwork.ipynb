{
 "cells": [
  {
   "cell_type": "markdown",
   "id": "3d1b2f6b-c726-4ceb-b63f-48e7f192ab49",
   "metadata": {},
   "source": [
    "# Remapping degenerated network\n",
    "\n",
    "When modelling wild type and degenerated networks, we want to be able to both remove and add synapses due to changes in dendritic and axonal morphologies. The synapses that are on unchanged branches should remain the same, removed branches will have their synapses removed, while added branches will get new synapses.\n",
    "\n",
    "Preparation. \n",
    "Create a wild type network using Snudda.\n",
    "Recreate the same network but with the modified morphologies (e.g. Parkinson's disease degenerated SPN dendrites, and growing FS axons).\n",
    "\n",
    "Run this notebook on the two created networks."
   ]
  },
  {
   "cell_type": "code",
   "execution_count": 1,
   "id": "9739b252-9e47-4dfb-aceb-a01d9053c215",
   "metadata": {
    "tags": []
   },
   "outputs": [],
   "source": [
    "original_network = \"/home/hjorth/HBP/DELME/networks/pd0_5k_swap\"\n",
    "updated_network = \"/home/hjorth/HBP/DELME/networks/pd2_5k_swap\"\n",
    "output_network =  \"/home/hjorth/HBP/DELME/networks/pd2_output_network\"\n",
    "\n",
    "import os\n",
    "\n",
    "original_network_file = os.path.join(original_network, \"network-synapses.hdf5\")\n",
    "updated_network_file = os.path.join(updated_network, \"network-synapses.hdf5\")\n",
    "output_network_file =  os.path.join(output_network, \"network-synapses.hdf5\")\n",
    "\n",
    "original_snudda_data_dir = \"/home/hjorth/HBP/BasalGangliaData/Parkinson/20220225/PD0\"\n",
    "updated_snudda_data_dir = \"/home/hjorth/HBP/BasalGangliaData/Parkinson/20220225/PD2\"\n",
    "\n",
    "# original_snudda_data_dir = \"/home/hjorth/HBP/BasalGangliaData/Parkinson/20211105/PD0\"\n",
    "# updated_snudda_data_dir = \"/home/hjorth/HBP/BasalGangliaData/Parkinson/20211105/PD2\""
   ]
  },
  {
   "cell_type": "code",
   "execution_count": 2,
   "id": "c3a96436-3d3a-4e1d-bd75-bfebdb6320a2",
   "metadata": {
    "tags": []
   },
   "outputs": [
    {
     "name": "stdout",
     "output_type": "stream",
     "text": [
      "Loading 5000 neurons with 2453190 synapses and 319 gap junctions\n",
      "Loading 5000 neurons with 998144 synapses and 317 gap junctions\n"
     ]
    }
   ],
   "source": [
    "from snudda.utils.swap_to_degenerated_morphologies_extended import SwapToDegeneratedMorphologiesExtended\n",
    "swap = SwapToDegeneratedMorphologiesExtended(original_network_file=original_network_file,\n",
    "                                             updated_network_file=updated_network_file,\n",
    "                                             output_network_file=output_network_file,\n",
    "                                             original_snudda_data_dir=original_snudda_data_dir,\n",
    "                                             updated_snudda_data_dir=updated_snudda_data_dir)"
   ]
  },
  {
   "cell_type": "code",
   "execution_count": null,
   "id": "18515f87-425b-4814-9069-fc38f4bed3cd",
   "metadata": {
    "tags": []
   },
   "outputs": [
    {
     "name": "stdout",
     "output_type": "stream",
     "text": [
      "Writing new network to /home/hjorth/HBP/DELME/networks/pd2_output_network/network-synapses.hdf5\n",
      "1000000 / 2453190\n",
      "2000000 / 2453190\n",
      "2453190 / 2453190\n",
      "Processing neuron 0\n",
      "Processing neuron 100\n",
      "No axon for neuron ChIN_0 (177)\n",
      "Processing neuron 200\n",
      "No axon for neuron ChIN_0 (265)\n",
      "No axon for neuron ChIN_0 (266)\n",
      "Processing neuron 300\n",
      "No axon for neuron LTS_4 (356)\n",
      "Processing neuron 400\n",
      "No axon for neuron ChIN_0 (412)\n",
      "No axon for neuron ChIN_0 (413)\n",
      "Processing neuron 500\n",
      "No axon for neuron LTS_8 (505)\n",
      "No axon for neuron ChIN_0 (552)\n",
      "No axon for neuron ChIN_0 (553)\n",
      "No axon for neuron ChIN_0 (592)\n",
      "No axon for neuron LTS_6 (593)\n",
      "Processing neuron 600\n",
      "No axon for neuron ChIN_0 (636)\n",
      "No axon for neuron ChIN_0 (690)\n",
      "No axon for neuron LTS_3 (691)\n",
      "Processing neuron 700\n",
      "No axon for neuron ChIN_0 (766)\n",
      "Processing neuron 800\n",
      "No axon for neuron ChIN_0 (854)\n",
      "No axon for neuron ChIN_0 (894)\n",
      "Processing neuron 900\n",
      "No axon for neuron ChIN_0 (980)\n",
      "Processing neuron 1000\n",
      "No axon for neuron LTS_1 (1027)\n",
      "Processing neuron 1100\n",
      "No axon for neuron ChIN_0 (1121)\n",
      "No axon for neuron ChIN_0 (1122)\n",
      "No axon for neuron LTS_5 (1123)\n",
      "No axon for neuron LTS_6 (1124)\n",
      "Processing neuron 1200\n",
      "No axon for neuron LTS_2 (1288)\n",
      "Processing neuron 1300\n",
      "No axon for neuron ChIN_0 (1318)\n",
      "No axon for neuron ChIN_0 (1319)\n",
      "No axon for neuron LTS_4 (1320)\n",
      "No axon for neuron ChIN_0 (1361)\n",
      "Processing neuron 1400\n",
      "No axon for neuron ChIN_0 (1409)\n",
      "No axon for neuron LTS_5 (1491)\n",
      "Processing neuron 1500\n",
      "No axon for neuron LTS_8 (1573)\n",
      "Processing neuron 1600\n",
      "No axon for neuron ChIN_0 (1628)\n",
      "No axon for neuron ChIN_0 (1669)\n",
      "Processing neuron 1700\n",
      "No axon for neuron ChIN_0 (1706)\n",
      "No axon for neuron ChIN_0 (1768)\n",
      "Processing neuron 1800\n",
      "No axon for neuron ChIN_0 (1811)\n",
      "No axon for neuron ChIN_0 (1812)\n",
      "No axon for neuron LTS_4 (1813)\n",
      "No axon for neuron LTS_7 (1814)\n",
      "Processing neuron 1900\n",
      "No axon for neuron ChIN_0 (1979)\n",
      "Processing neuron 2000\n",
      "No axon for neuron ChIN_0 (2066)\n",
      "No axon for neuron ChIN_0 (2067)\n",
      "Processing neuron 2100\n",
      "No axon for neuron LTS_1 (2125)\n",
      "No axon for neuron LTS_7 (2169)\n",
      "Processing neuron 2200\n"
     ]
    }
   ],
   "source": [
    "import cProfile\n",
    "prof_file = \"whysoslow.profile\"\n",
    "cProfile.runctx(\"swap.write_new_network_file()\", None, locals(), filename=prof_file)\n",
    "# swap.write_new_network_file()\n",
    "swap.close()"
   ]
  },
  {
   "cell_type": "code",
   "execution_count": null,
   "id": "542b023f-5ff3-42f3-8f6f-194475bbadb6",
   "metadata": {},
   "outputs": [],
   "source": [
    "import pstats\n",
    "from pstats import SortKey\n",
    "p = pstats.Stats(prof_file)\n",
    "p.strip_dirs().sort_stats(SortKey.CUMULATIVE).print_stats(100)"
   ]
  },
  {
   "cell_type": "code",
   "execution_count": null,
   "id": "f7034cce-1210-429b-b37d-bfa2b33c0a20",
   "metadata": {},
   "outputs": [],
   "source": [
    "%matplotlib inline\n",
    "from snudda.plotting.plot_degeneration import PlotDegeneration\n",
    "\n",
    "pd = PlotDegeneration(original_network_path=original_network,\n",
    "                      degenerated_network_path=output_network)\n",
    "plot_neuron_id = 1\n",
    "pd.plot_neuron(neuron_id=plot_neuron_id)"
   ]
  }
 ],
 "metadata": {
  "kernelspec": {
   "display_name": "Python 3 (ipykernel)",
   "language": "python",
   "name": "python3"
  },
  "language_info": {
   "codemirror_mode": {
    "name": "ipython",
    "version": 3
   },
   "file_extension": ".py",
   "mimetype": "text/x-python",
   "name": "python",
   "nbconvert_exporter": "python",
   "pygments_lexer": "ipython3",
   "version": "3.9.2"
  }
 },
 "nbformat": 4,
 "nbformat_minor": 5
}
