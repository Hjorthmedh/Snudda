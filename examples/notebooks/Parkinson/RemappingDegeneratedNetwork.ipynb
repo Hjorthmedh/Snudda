{
 "cells": [
  {
   "cell_type": "markdown",
   "id": "3d1b2f6b-c726-4ceb-b63f-48e7f192ab49",
   "metadata": {},
   "source": [
    "# Remapping degenerated network\n",
    "\n",
    "When modelling wild type and degenerated networks, we want to be able to both remove and add synapses due to changes in dendritic and axonal morphologies. The synapses that are on unchanged branches should remain the same, removed branches will have their synapses removed, while added branches will get new synapses.\n",
    "\n",
    "Preparation. \n",
    "Create a wild type network using Snudda.\n",
    "Recreate the same network but with the modified morphologies (e.g. Parkinson's disease degenerated SPN dendrites, and growing FS axons).\n",
    "\n",
    "Run this notebook on the two created networks."
   ]
  },
  {
   "cell_type": "code",
   "execution_count": 1,
   "id": "9739b252-9e47-4dfb-aceb-a01d9053c215",
   "metadata": {
    "tags": []
   },
   "outputs": [],
   "source": [
    "original_network = \"/home/hjorth/HBP/DELME/networks/pd0_1k_swap\"\n",
    "updated_network = \"/home/hjorth/HBP/DELME/networks/pd2_1k_swap\"\n",
    "output_network =  \"/home/hjorth/HBP/DELME/networks/pd2_output_network\"\n",
    "\n",
    "import os\n",
    "\n",
    "original_network_file = os.path.join(original_network, \"network-synapses.hdf5\")\n",
    "updated_network_file = os.path.join(updated_network, \"network-synapses.hdf5\")\n",
    "output_network_file =  os.path.join(output_network, \"network-synapses.hdf5\")\n",
    "\n",
    "original_snudda_data_dir = \"/home/hjorth/HBP/BasalGangliaData/Parkinson/20220225/PD0\"\n",
    "updated_snudda_data_dir = \"/home/hjorth/HBP/BasalGangliaData/Parkinson/20220225/PD2\"\n",
    "\n",
    "# original_snudda_data_dir = \"/home/hjorth/HBP/BasalGangliaData/Parkinson/20211105/PD0\"\n",
    "# updated_snudda_data_dir = \"/home/hjorth/HBP/BasalGangliaData/Parkinson/20211105/PD2\""
   ]
  },
  {
   "cell_type": "code",
   "execution_count": 2,
   "id": "c3a96436-3d3a-4e1d-bd75-bfebdb6320a2",
   "metadata": {
    "tags": []
   },
   "outputs": [
    {
     "name": "stdout",
     "output_type": "stream",
     "text": [
      "Loading 999 neurons with 275073 synapses and 32 gap junctions\n",
      "Loading 999 neurons with 110435 synapses and 37 gap junctions\n"
     ]
    }
   ],
   "source": [
    "from snudda.utils.swap_to_degenerated_morphologies_extended import SwapToDegeneratedMorphologiesExtended\n",
    "swap = SwapToDegeneratedMorphologiesExtended(original_network_file=original_network_file,\n",
    "                                             updated_network_file=updated_network_file,\n",
    "                                             output_network_file=output_network_file,\n",
    "                                             original_snudda_data_dir=original_snudda_data_dir,\n",
    "                                             updated_snudda_data_dir=updated_snudda_data_dir)"
   ]
  },
  {
   "cell_type": "code",
   "execution_count": null,
   "id": "18515f87-425b-4814-9069-fc38f4bed3cd",
   "metadata": {
    "tags": []
   },
   "outputs": [
    {
     "name": "stdout",
     "output_type": "stream",
     "text": [
      "Writing new network to /home/hjorth/HBP/DELME/networks/pd2_output_network/network-synapses.hdf5\n",
      "275073 / 275073\n",
      "Processing neuron 0\n",
      "No axon for neuron ChIN_0 (74)\n",
      "Processing neuron 100\n",
      "Processing neuron 200\n",
      "No axon for neuron ChIN_0 (244)\n",
      "Processing neuron 300\n",
      "No axon for neuron LTS_0 (315)\n",
      "No axon for neuron ChIN_0 (336)\n",
      "No axon for neuron ChIN_0 (361)\n",
      "No axon for neuron LTS_5 (369)\n",
      "Processing neuron 400\n",
      "No axon for neuron LTS_3 (421)\n",
      "No axon for neuron ChIN_0 (443)\n",
      "No axon for neuron ChIN_0 (456)\n",
      "Processing neuron 500\n",
      "No axon for neuron LTS_7 (526)\n",
      "No axon for neuron LTS_1 (576)\n",
      "Processing neuron 600\n",
      "No axon for neuron ChIN_0 (619)\n",
      "Processing neuron 700\n",
      "Processing neuron 800\n",
      "No axon for neuron ChIN_0 (881)\n",
      "Processing neuron 900\n",
      "No axon for neuron ChIN_0 (936)\n",
      "No axon for neuron LTS_4 (937)\n",
      "No axon for neuron ChIN_0 (969)\n",
      "No axon for neuron ChIN_0 (970)\n",
      "No axon for neuron LTS_2 (998)\n",
      "Running post degeneration pruning of synapses\n",
      "> \u001b[0;32m/home/hjorth/HBP/Snudda/snudda/utils/swap_to_degenerated_morphologies_extended.py\u001b[0m(230)\u001b[0;36mpost_degeneration_pruning\u001b[0;34m()\u001b[0m\n",
      "\u001b[0;32m    228 \u001b[0;31m        \u001b[0msynapse_ctr\u001b[0m \u001b[0;34m=\u001b[0m \u001b[0;36m0\u001b[0m\u001b[0;34m\u001b[0m\u001b[0;34m\u001b[0m\u001b[0m\n",
      "\u001b[0m\u001b[0;32m    229 \u001b[0;31m\u001b[0;34m\u001b[0m\u001b[0m\n",
      "\u001b[0m\u001b[0;32m--> 230 \u001b[0;31m        \u001b[0;32mfor\u001b[0m \u001b[0msynapse_set\u001b[0m \u001b[0;32min\u001b[0m \u001b[0mself\u001b[0m\u001b[0;34m.\u001b[0m\u001b[0msynapse_iterator\u001b[0m\u001b[0;34m(\u001b[0m\u001b[0msynapses\u001b[0m\u001b[0;34m=\u001b[0m\u001b[0msynapses\u001b[0m\u001b[0;34m)\u001b[0m\u001b[0;34m:\u001b[0m\u001b[0;34m\u001b[0m\u001b[0;34m\u001b[0m\u001b[0m\n",
      "\u001b[0m\u001b[0;32m    231 \u001b[0;31m\u001b[0;34m\u001b[0m\u001b[0m\n",
      "\u001b[0m\u001b[0;32m    232 \u001b[0;31m            \u001b[0mpre_id\u001b[0m \u001b[0;34m=\u001b[0m \u001b[0msynapse_set\u001b[0m\u001b[0;34m[\u001b[0m\u001b[0;36m0\u001b[0m\u001b[0;34m,\u001b[0m \u001b[0;36m0\u001b[0m\u001b[0;34m]\u001b[0m\u001b[0;34m\u001b[0m\u001b[0;34m\u001b[0m\u001b[0m\n",
      "\u001b[0m\n"
     ]
    },
    {
     "name": "stdin",
     "output_type": "stream",
     "text": [
      "ipdb>  synapses\n"
     ]
    },
    {
     "name": "stdout",
     "output_type": "stream",
     "text": [
      "array([[    24,      0,    153, ...,    557,   1281, 767611],\n",
      "       [    24,      0,    187, ...,    166,   1333, 767611],\n",
      "       [    87,      0,    153, ...,    325,    506, 811397],\n",
      "       ...,\n",
      "       [   996,    997,    208, ...,    579,    286, 499323],\n",
      "       [   996,    997,    215, ...,    951,    147, 499323],\n",
      "       [   996,    997,    223, ...,    568,    188, 499323]], dtype=int32)\n"
     ]
    },
    {
     "name": "stdin",
     "output_type": "stream",
     "text": [
      "ipdb>  synapse_set\n"
     ]
    },
    {
     "name": "stdout",
     "output_type": "stream",
     "text": [
      "array([[    24,      0,    153,    197,    204,     58,     10,    432,\n",
      "           108,     54,    557,   1281, 767611],\n",
      "       [    24,      0,    187,    195,    163,     99,     10,    422,\n",
      "           107,     31,    166,   1333, 767611]], dtype=int32)\n"
     ]
    },
    {
     "name": "stdin",
     "output_type": "stream",
     "text": [
      "ipdb>  n_syn\n"
     ]
    },
    {
     "name": "stdout",
     "output_type": "stream",
     "text": [
      "2\n"
     ]
    },
    {
     "name": "stdin",
     "output_type": "stream",
     "text": [
      "ipdb>  p_mu\n"
     ]
    },
    {
     "name": "stdout",
     "output_type": "stream",
     "text": [
      "0.5\n"
     ]
    },
    {
     "name": "stdin",
     "output_type": "stream",
     "text": [
      "ipdb>  mu2\n"
     ]
    },
    {
     "name": "stdout",
     "output_type": "stream",
     "text": [
      "2\n"
     ]
    },
    {
     "name": "stdin",
     "output_type": "stream",
     "text": [
      "ipdb>  keep_synapse_flag[:10]\n"
     ]
    },
    {
     "name": "stdout",
     "output_type": "stream",
     "text": [
      "array([ True, False,  True,  True,  True,  True,  True,  True,  True,\n",
      "        True])\n"
     ]
    }
   ],
   "source": [
    "import cProfile\n",
    "prof_file = \"whysoslow.profile\"\n",
    "cProfile.runctx(\"swap.write_new_network_file()\", None, locals(), filename=prof_file)\n",
    "# swap.write_new_network_file()\n",
    "swap.close()"
   ]
  },
  {
   "cell_type": "code",
   "execution_count": null,
   "id": "542b023f-5ff3-42f3-8f6f-194475bbadb6",
   "metadata": {},
   "outputs": [],
   "source": [
    "import pstats\n",
    "from pstats import SortKey\n",
    "p = pstats.Stats(prof_file)\n",
    "p.strip_dirs().sort_stats(SortKey.CUMULATIVE).print_stats(100)"
   ]
  },
  {
   "cell_type": "code",
   "execution_count": null,
   "id": "f7034cce-1210-429b-b37d-bfa2b33c0a20",
   "metadata": {},
   "outputs": [],
   "source": [
    "%matplotlib inline\n",
    "from snudda.plotting.plot_degeneration import PlotDegeneration\n",
    "\n",
    "pd = PlotDegeneration(original_network_path=original_network,\n",
    "                      degenerated_network_path=output_network)\n",
    "plot_neuron_id = 1\n",
    "pd.plot_neuron(neuron_id=plot_neuron_id)"
   ]
  }
 ],
 "metadata": {
  "kernelspec": {
   "display_name": "Python 3 (ipykernel)",
   "language": "python",
   "name": "python3"
  },
  "language_info": {
   "codemirror_mode": {
    "name": "ipython",
    "version": 3
   },
   "file_extension": ".py",
   "mimetype": "text/x-python",
   "name": "python",
   "nbconvert_exporter": "python",
   "pygments_lexer": "ipython3",
   "version": "3.9.2"
  }
 },
 "nbformat": 4,
 "nbformat_minor": 5
}
