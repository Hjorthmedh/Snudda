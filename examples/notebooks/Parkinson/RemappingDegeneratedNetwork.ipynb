{
 "cells": [
  {
   "cell_type": "markdown",
   "id": "3d1b2f6b-c726-4ceb-b63f-48e7f192ab49",
   "metadata": {},
   "source": [
    "# Remapping degenerated network\n",
    "\n",
    "When modelling wild type and degenerated networks, we want to be able to both remove and add synapses due to changes in dendritic and axonal morphologies. The synapses that are on unchanged branches should remain the same, removed branches will have their synapses removed, while added branches will get new synapses.\n",
    "\n",
    "Preparation. \n",
    "Create a wild type network using Snudda.\n",
    "Recreate the same network but with the modified morphologies (e.g. Parkinson's disease degenerated SPN dendrites, and growing FS axons).\n",
    "\n",
    "Run this notebook on the two created networks."
   ]
  },
  {
   "cell_type": "code",
   "execution_count": 1,
   "id": "9739b252-9e47-4dfb-aceb-a01d9053c215",
   "metadata": {
    "tags": []
   },
   "outputs": [],
   "source": [
    "original_network = \"/home/hjorth/HBP/DELME/networks/pd0_1k_swap\"\n",
    "updated_network = \"/home/hjorth/HBP/DELME/networks/pd2_1k_swap\"\n",
    "output_network =  \"/home/hjorth/HBP/DELME/networks/pd2_output_network\"\n",
    "\n",
    "import os\n",
    "\n",
    "original_network_file = os.path.join(original_network, \"network-synapses.hdf5\")\n",
    "updated_network_file = os.path.join(updated_network, \"network-synapses.hdf5\")\n",
    "output_network_file =  os.path.join(output_network, \"network-synapses.hdf5\")\n",
    "\n",
    "original_snudda_data_dir = \"/home/hjorth/HBP/BasalGangliaData/Parkinson/20220225/PD0\"\n",
    "updated_snudda_data_dir = \"/home/hjorth/HBP/BasalGangliaData/Parkinson/20220225/PD2\"\n",
    "\n",
    "# original_snudda_data_dir = \"/home/hjorth/HBP/BasalGangliaData/Parkinson/20211105/PD0\"\n",
    "# updated_snudda_data_dir = \"/home/hjorth/HBP/BasalGangliaData/Parkinson/20211105/PD2\""
   ]
  },
  {
   "cell_type": "code",
   "execution_count": 2,
   "id": "c3a96436-3d3a-4e1d-bd75-bfebdb6320a2",
   "metadata": {
    "tags": []
   },
   "outputs": [
    {
     "name": "stdout",
     "output_type": "stream",
     "text": [
      "Loading 999 neurons with 275073 synapses and 32 gap junctions\n",
      "Loading 999 neurons with 110435 synapses and 37 gap junctions\n"
     ]
    }
   ],
   "source": [
    "from snudda.utils.swap_to_degenerated_morphologies_extended import SwapToDegeneratedMorphologiesExtended\n",
    "swap = SwapToDegeneratedMorphologiesExtended(original_network_file=original_network_file,\n",
    "                                             updated_network_file=updated_network_file,\n",
    "                                             output_network_file=output_network_file,\n",
    "                                             original_snudda_data_dir=original_snudda_data_dir,\n",
    "                                             updated_snudda_data_dir=updated_snudda_data_dir)"
   ]
  },
  {
   "cell_type": "code",
   "execution_count": null,
   "id": "18515f87-425b-4814-9069-fc38f4bed3cd",
   "metadata": {
    "tags": []
   },
   "outputs": [
    {
     "name": "stdout",
     "output_type": "stream",
     "text": [
      "Writing new network to /home/hjorth/HBP/DELME/networks/pd2_output_network/network-synapses.hdf5\n"
     ]
    }
   ],
   "source": [
    "import cProfile\n",
    "prof_file = \"whysoslow.profile\"\n",
    "cProfile.runctx(\"swap.write_new_network_file()\", None, locals(), filename=prof_file)\n",
    "# swap.write_new_network_file()\n",
    "swap.close()"
   ]
  },
  {
   "cell_type": "code",
   "execution_count": null,
   "id": "542b023f-5ff3-42f3-8f6f-194475bbadb6",
   "metadata": {},
   "outputs": [],
   "source": [
    "import pstats\n",
    "from pstats import SortKey\n",
    "p = pstats.Stats(prof_file)\n",
    "p.strip_dirs().sort_stats(SortKey.CUMULATIVE).print_stats(100)"
   ]
  },
  {
   "cell_type": "code",
   "execution_count": null,
   "id": "f7034cce-1210-429b-b37d-bfa2b33c0a20",
   "metadata": {},
   "outputs": [],
   "source": [
    "%matplotlib inline\n",
    "from snudda.plotting.plot_degeneration import PlotDegeneration\n",
    "\n",
    "pd = PlotDegeneration(original_network_path=original_network,\n",
    "                      degenerated_network_path=output_network)\n",
    "plot_neuron_id = 1\n",
    "pd.plot_neuron(neuron_id=plot_neuron_id)"
   ]
  }
 ],
 "metadata": {
  "kernelspec": {
   "display_name": "Python 3 (ipykernel)",
   "language": "python",
   "name": "python3"
  },
  "language_info": {
   "codemirror_mode": {
    "name": "ipython",
    "version": 3
   },
   "file_extension": ".py",
   "mimetype": "text/x-python",
   "name": "python",
   "nbconvert_exporter": "python",
   "pygments_lexer": "ipython3",
   "version": "3.9.2"
  }
 },
 "nbformat": 4,
 "nbformat_minor": 5
}
