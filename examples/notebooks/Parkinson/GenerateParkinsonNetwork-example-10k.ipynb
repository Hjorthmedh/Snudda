{
 "cells": [
  {
   "cell_type": "markdown",
   "id": "32e410e8-cf7a-42bb-9f51-19c62476de2a",
   "metadata": {},
   "source": [
    "# Creating a wildtype (WT / PD0), and Parkinson degeneration (PD2) network\n",
    "\n",
    "In the directory ```network_path``` we have three sub directories ```PD0```, ```PD2-ref``` and ```PD2```. In order to generate the ```PD2``` network, we degenerate the ```PD0``` network by swapping the WT morphologies for the PD2 morphologies. In addition a subset of the synapses in the ```PD2-ref``` network are added to compensate for differences in pruning.\n",
    "\n",
    "We need to specify a ```connection_override``` file. The difference compared to the standard connection file is that it contains ```recovery``` information, i.e. the fraction of synapses from the ```PD2-ref``` network that should be added to the ```PD2``` network.\n",
    "\n",
    "The ```rc``` object is a ```ipyparallel``` ```RemoteClient``` object for parallel execution.\n",
    "\n",
    "If you want to remap external input that was removed to a new position, then use ```remap_removed_input = True```"
   ]
  },
  {
   "cell_type": "code",
   "execution_count": null,
   "id": "212baaee-00c7-4ab6-bc80-b68cd613e5c2",
   "metadata": {},
   "outputs": [],
   "source": [
    "import os\n",
    "\n",
    "network_path = os.path.join(\"networks\",\"PD-example-10k\")\n",
    "#network_path = os.path.join(\"networks\",\"PD-example-2_ref_0.9\")\n",
    "\n",
    "network_path_pd0 = os.path.join(network_path, \"PD0\")\n",
    "network_path_pd2_ref = os.path.join(network_path, \"PD2-ref\")\n",
    "network_path_pd2 = os.path.join(network_path, \"PD2\")\n",
    "\n",
    "network_size = 10000\n",
    "input_config = \"test-input.json\"  # Only background input will be used in this example\n",
    "\n",
    "snudda_data_base_path = os.path.join(\"..\", \"..\", \"..\", \"..\", \"BasalGangliaData\", \"Parkinson\", \"20221213\")\n",
    "snudda_data_pd0 = os.path.join(snudda_data_base_path, \"PD0\")\n",
    "snudda_data_pd2 = os.path.join(snudda_data_base_path, \"PD2\")\n",
    "\n",
    "network_config_pd0 = os.path.join(snudda_data_base_path, \"connectivity\", \"network-config.json\")\n",
    "# network_config_pd2 = os.path.join(snudda_data_base_path, \"connectivity\", \"network-config-PD-synapse-recovery.json\")\n",
    "network_config_pd2 = os.path.join(snudda_data_base_path, \"connectivity\", \"network-config-PD-basic.json\")\n",
    "\n",
    "\n",
    "input_pd0 = os.path.join(network_path_pd0, \"input-spikes.hdf5\")\n",
    "input_pd2 = os.path.join(network_path_pd2, \"input-spikes.hdf5\")\n",
    "\n",
    "# Do we want to remap removed input?\n",
    "remap_removed_input = False\n",
    "remapped_fraction = 0.0\n",
    "\n",
    "# Do we want to remap removed input? -- if so we need to use network-config-PD-synapse.recovery.json also.\n",
    "#remap_removed_input = True\n",
    "#remapped_fraction = 0.9\n",
    "\n",
    "rc = None"
   ]
  },
  {
   "cell_type": "markdown",
   "id": "d64758a4-758e-46a3-9071-d8d722de3ecb",
   "metadata": {},
   "source": [
    "## First generate the WT reference network"
   ]
  },
  {
   "cell_type": "code",
   "execution_count": null,
   "id": "a87ebe54-8a06-4065-99ae-cd0b01eb6dce",
   "metadata": {
    "tags": []
   },
   "outputs": [],
   "source": [
    "from snudda import SnuddaInit\n",
    "\n",
    "si = SnuddaInit(network_path=network_path_pd0, random_seed=123456, snudda_data=snudda_data_pd0,\n",
    "                struct_def={\"Striatum\": network_size}, connection_override_file=network_config_pd0)"
   ]
  },
  {
   "cell_type": "code",
   "execution_count": null,
   "id": "9cc72b7a-2185-4232-ac57-0c60cc09b599",
   "metadata": {},
   "outputs": [],
   "source": [
    "os.environ[\"IPYTHONDIR\"] = os.path.join(os.path.abspath(os.getcwd()), \".ipython\")\n",
    "os.environ[\"IPYTHON_PROFILE\"] = \"default\"\n",
    "os.system(\"ipcluster start -n 4 --profile=$IPYTHON_PROFILE --ip=127.0.0.1 --log-level ERROR 2> parallel-log.txt &\")\n",
    "\n",
    "import time\n",
    "time.sleep(10) # Wait for ipcluster to start"
   ]
  },
  {
   "cell_type": "code",
   "execution_count": null,
   "id": "4af8e087-ae0b-4259-914c-348b191b9f6a",
   "metadata": {},
   "outputs": [],
   "source": [
    "from snudda import Snudda\n",
    "snd_pd0 = Snudda(network_path=network_path_pd0, parallel=True, ipython_profile=\"default\")\n",
    "snd_pd0.create_network()"
   ]
  },
  {
   "cell_type": "code",
   "execution_count": null,
   "id": "248d9449-313a-4294-b7ed-7f69e7b6713d",
   "metadata": {},
   "outputs": [],
   "source": [
    "snd_pd0.setup_input(input_config=input_config)"
   ]
  },
  {
   "cell_type": "code",
   "execution_count": null,
   "id": "240070ac-728d-404a-ae6a-0b7f904a7109",
   "metadata": {},
   "outputs": [],
   "source": [
    "snd_pd0 = None"
   ]
  },
  {
   "cell_type": "markdown",
   "id": "7eace954-7ec3-4787-9f6d-51e97d127928",
   "metadata": {},
   "source": [
    "## Generate a PD2 reference network\n",
    "\n",
    "This network will not have the same synapses as the WT, but it is used in order to add \"recovery synapses\" to compensate for part of the degeneration."
   ]
  },
  {
   "cell_type": "code",
   "execution_count": null,
   "id": "4afe0e37-0604-4f31-845a-40673556d922",
   "metadata": {
    "tags": []
   },
   "outputs": [],
   "source": [
    "from snudda import SnuddaInit\n",
    "\n",
    "si = SnuddaInit(network_path=network_path_pd2_ref, random_seed=123456, snudda_data=snudda_data_pd2,\n",
    "                struct_def={\"Striatum\": network_size}, connection_override_file=network_config_pd2)"
   ]
  },
  {
   "cell_type": "code",
   "execution_count": null,
   "id": "ce37d134-8091-4e3b-8285-96e64e20dbee",
   "metadata": {},
   "outputs": [],
   "source": [
    "from snudda import Snudda\n",
    "snd_pd2_ref = Snudda(network_path=network_path_pd2_ref, parallel=True, ipython_profile=\"default\")\n",
    "snd_pd2_ref.create_network()"
   ]
  },
  {
   "cell_type": "code",
   "execution_count": null,
   "id": "0e35a69c-c9d1-4434-a272-e6bfae4b4e93",
   "metadata": {
    "tags": []
   },
   "outputs": [],
   "source": [
    "snd_pd2_ref.setup_input(input_config=input_config)"
   ]
  },
  {
   "cell_type": "code",
   "execution_count": null,
   "id": "638dcf39-a9f2-485a-8a50-a44103c96674",
   "metadata": {},
   "outputs": [],
   "source": [
    "snd_pd2_ref = None"
   ]
  },
  {
   "cell_type": "code",
   "execution_count": null,
   "id": "499564e6-bdd5-40dd-b31b-003111b19dbd",
   "metadata": {},
   "outputs": [],
   "source": [
    "os.system(f\"IPYTHONDIR={os.path.join(os.path.abspath(os.getcwd()), '.ipython')} && IPYTHON_PROFILE=default && ipcluster stop\")"
   ]
  },
  {
   "cell_type": "markdown",
   "id": "27e61710-71ff-4395-a527-a43f0be0c750",
   "metadata": {},
   "source": [
    "## Degenerating the PD0 network to get PD2 network"
   ]
  },
  {
   "cell_type": "code",
   "execution_count": null,
   "id": "0b4a0e8f-b58f-465f-ad06-70ed0df8da38",
   "metadata": {},
   "outputs": [],
   "source": [
    "network_file_pd0 = os.path.join(network_path_pd0, \"network-synapses.hdf5\")\n",
    "network_file_pd2_ref = os.path.join(network_path_pd2_ref, \"network-synapses.hdf5\")\n",
    "network_file_pd2 = os.path.join(network_path_pd2, \"network-synapses.hdf5\")\n",
    "\n",
    "from snudda.utils.swap_to_degenerated_morphologies_extended import SwapToDegeneratedMorphologiesExtended\n",
    "swap = SwapToDegeneratedMorphologiesExtended(original_network_file=network_file_pd0,\n",
    "                                             updated_network_file=network_file_pd2_ref,\n",
    "                                             output_network_file=network_file_pd2,\n",
    "                                             original_snudda_data_dir=snudda_data_pd0,\n",
    "                                             updated_snudda_data_dir=snudda_data_pd2,\n",
    "                                             original_input_file=input_pd0,\n",
    "                                             output_input_file=input_pd2)\n",
    "swap.write_new_network_file()\n",
    "swap.write_new_input_file(remap_removed_input=remap_removed_input, remapped_fraction=remapped_fraction)\n",
    "swap.close()"
   ]
  },
  {
   "cell_type": "code",
   "execution_count": null,
   "id": "ac942a43-86bc-40c3-8d5e-526aa17a13d7",
   "metadata": {},
   "outputs": [],
   "source": [
    "swap = None"
   ]
  },
  {
   "cell_type": "markdown",
   "id": "df400b1e-dd12-4e5d-84b9-23343cceb8e8",
   "metadata": {},
   "source": [
    "## Plotting of a degenerated neuron"
   ]
  },
  {
   "cell_type": "code",
   "execution_count": null,
   "id": "4dcb44ac-d3d8-4f32-b086-02a6efaf355e",
   "metadata": {},
   "outputs": [],
   "source": [
    "# This is so we get the most central dSPN in the network\n",
    "from snudda import SnuddaLoad\n",
    "sl = SnuddaLoad(network_path_pd0)\n",
    "neuron_id = list(sl.get_centre_neurons_iterator(neuron_type=\"dSPN\", n_neurons=1))[0][0]"
   ]
  },
  {
   "cell_type": "code",
   "execution_count": null,
   "id": "1cafa122",
   "metadata": {},
   "outputs": [],
   "source": [
    "# neuron_id = 55\n",
    "neuron_id"
   ]
  },
  {
   "cell_type": "code",
   "execution_count": null,
   "id": "1ea26248",
   "metadata": {},
   "outputs": [],
   "source": [
    "%matplotlib inline\n",
    "from snudda.plotting.plot_degeneration import PlotDegeneration\n",
    "\n",
    "# Note here original and degenerate path were the same, so we are plotting the full neuron and its synapses.\n",
    "pd = PlotDegeneration(original_network_path=network_path_pd0,\n",
    "                      degenerated_network_path=network_path_pd0)\n",
    "\n",
    "pd.plot_neuron(neuron_id=neuron_id, figure_size=(12,12), \n",
    "               show_internal_synapses=True, hide_axis=False)\n",
    "#internal synapses are blue\n",
    "#external synapses are red"
   ]
  },
  {
   "cell_type": "code",
   "execution_count": null,
   "id": "8cc7faff",
   "metadata": {},
   "outputs": [],
   "source": [
    "%matplotlib inline\n",
    "from snudda.plotting.plot_degeneration import PlotDegeneration\n",
    "\n",
    "pd = PlotDegeneration(original_network_path=network_path_pd0,\n",
    "                      degenerated_network_path=network_path_pd2)\n",
    "\n",
    "pd.plot_neuron(neuron_id=neuron_id, figure_size=(12,12), \n",
    "               show_internal_synapses=True, hide_axis=False)"
   ]
  },
  {
   "cell_type": "code",
   "execution_count": null,
   "id": "84c3217c-8447-4eab-8712-494d24c97b38",
   "metadata": {},
   "outputs": [],
   "source": [
    "%matplotlib inline\n",
    "from snudda.plotting.plot_degeneration import PlotDegeneration\n",
    "\n",
    "pd = PlotDegeneration(original_network_path=network_path_pd0,\n",
    "                      degenerated_network_path=network_path_pd2_ref)\n",
    "#neuron_id = 55\n",
    "pd.plot_neuron(neuron_id=neuron_id, figure_size=(12,12), \n",
    "               show_internal_synapses=True, hide_axis=False)"
   ]
  },
  {
   "cell_type": "code",
   "execution_count": null,
   "id": "5cb8b804-88b0-4fb7-af11-163bbca7d133",
   "metadata": {},
   "outputs": [],
   "source": [
    "from snudda.analyse.analyse_input import AnalyseInput\n",
    "\n",
    "pd0_input_info = AnalyseInput(input_file=input_pd0, network_path=network_path_pd0)\n",
    "pd2_input_info = AnalyseInput(input_file=input_pd2, network_path=network_path_pd2)"
   ]
  },
  {
   "cell_type": "code",
   "execution_count": null,
   "id": "4753a05f-c299-4f34-8b19-1545a324a03b",
   "metadata": {},
   "outputs": [],
   "source": [
    "pd0_input_info.plot_input_count(\"PD0-input_example.png\")\n",
    "pd2_input_info.plot_input_count(\"PD2-input_example.png\")"
   ]
  },
  {
   "cell_type": "code",
   "execution_count": null,
   "id": "e3dca220-b719-48d9-8cd1-a0c3eaa1b3e3",
   "metadata": {},
   "outputs": [],
   "source": [
    "cmd_str1 = f\"snudda_load {network_path_pd0}/network-synapses.hdf5 --countSyn\"\n",
    "cmd_str2 = f\"snudda_load {network_path_pd2}/network-synapses.hdf5 --countSyn\"\n",
    "cmd_str3 = f\"snudda_load {network_path_pd2_ref}/network-synapses.hdf5 --countSyn\"\n",
    "\n",
    "print(\"WT\")\n",
    "os.system(cmd_str1)\n",
    "print(\"\\nPD2\")\n",
    "os.system(cmd_str2)\n",
    "print(\"\\nPD2 degenerated\")\n",
    "os.system(cmd_str3)"
   ]
  },
  {
   "cell_type": "code",
   "execution_count": null,
   "id": "b59beba2",
   "metadata": {},
   "outputs": [],
   "source": [
    "cmd_str1 = f\"snudda_load {network_path_pd0}/network-synapses.hdf5 --listPre {neuron_id}\"\n",
    "cmd_str2 = f\"snudda_load {network_path_pd2}/network-synapses.hdf5 --listPre {neuron_id}\"\n",
    "cmd_str3 = f\"snudda_load {network_path_pd2_ref}/network-synapses.hdf5 --listPre {neuron_id}\"\n",
    "\n",
    "print(\"WT\")\n",
    "os.system(cmd_str1)\n",
    "print(\"\\nPD2\")\n",
    "os.system(cmd_str2)\n",
    "print(\"\\nPD2 degenerated\")\n",
    "os.system(cmd_str3)"
   ]
  },
  {
   "cell_type": "code",
   "execution_count": null,
   "id": "ebeab2bb",
   "metadata": {},
   "outputs": [],
   "source": [
    "from snudda.plotting.plot_degeneration_and_growth import PlotDegenerationAndGrowth\n",
    "pdg = PlotDegenerationAndGrowth(original_network_path=network_path_pd0, \n",
    "                                degenerated_network_path=network_path_pd2, \n",
    "                                neuron_id=neuron_id)\n",
    "pdg.plot_synapses()"
   ]
  },
  {
   "cell_type": "code",
   "execution_count": null,
   "id": "026277af",
   "metadata": {},
   "outputs": [],
   "source": [
    "from snudda.plotting.plot_degeneration_and_growth import PlotDegenerationAndGrowth\n",
    "pdg = PlotDegenerationAndGrowth(original_network_path=network_path_pd0, \n",
    "                                degenerated_network_path=network_path_pd2_ref, \n",
    "                                neuron_id=neuron_id)\n",
    "pdg.plot_synapses()"
   ]
  },
  {
   "cell_type": "code",
   "execution_count": null,
   "id": "322eb303",
   "metadata": {},
   "outputs": [],
   "source": [
    "from snudda.analyse.analyse import SnuddaAnalyse\n",
    "\n",
    "\n",
    "network_file_pd0 = os.path.join(network_path_pd0, \"network-synapses.hdf5\")\n",
    "network_file_pd2 = os.path.join(network_path_pd2, \"network-synapses.hdf5\")\n",
    "network_file_pd2_ref = os.path.join(network_path_pd2_ref, \"network-synapses.hdf5\")\n",
    "\n",
    "dist3D = False\n",
    "y_max_H = None\n",
    "\n",
    "sa_pd0 = SnuddaAnalyse(network_file_pd0)\n",
    "sa_pd2 = SnuddaAnalyse(network_file_pd2)\n",
    "sa_pd2_ref = SnuddaAnalyse(network_file_pd2_ref)    "
   ]
  },
  {
   "cell_type": "code",
   "execution_count": null,
   "id": "7c4aae21-f5c3-448a-ab70-2093af5ae325",
   "metadata": {},
   "outputs": [],
   "source": [
    "ax = sa_pd0.plot_connection_probability(\"dSPN\", \"iSPN\", dist_3d=True, exp_max_dist=[50e-6, 100e-6], exp_data_detailed=[(3, 47), (3, 66)], return_ax=True, show_plot=False, save_figure=False)\n",
    "sa_pd2.plot_connection_probability(\"dSPN\", \"iSPN\", dist_3d=True, ax=ax, colour=\"blue\")"
   ]
  },
  {
   "cell_type": "code",
   "execution_count": null,
   "id": "67b0d479-7013-467d-8ce8-455580c04e61",
   "metadata": {},
   "outputs": [],
   "source": [
    "sa_pd0.plot_num_synapses_per_pair(\"dSPN\", \"iSPN\")\n",
    "sa_pd2.plot_num_synapses_per_pair(\"dSPN\", \"iSPN\")"
   ]
  },
  {
   "cell_type": "code",
   "execution_count": null,
   "id": "3b532731-e3dd-4ceb-a2be-9c3a45dc666e",
   "metadata": {},
   "outputs": [],
   "source": [
    "ax = sa_pd0.plot_connection_probability(\"dSPN\", \"dSPN\", dist_3d=True, exp_max_dist=[50e-6, 100e-6], exp_data_detailed=[(5, 19), (3, 43)], return_ax=True, show_plot=False, save_figure=False)\n",
    "sa_pd2.plot_connection_probability(\"dSPN\", \"dSPN\", dist_3d=True, ax=ax, colour=\"blue\", exp_colour=\"blue\", exp_data_detailed=[(0, 7)], exp_max_dist=[50e-6])\n",
    "\n",
    "sa_pd0.plot_num_synapses_per_pair(\"dSPN\", \"dSPN\")\n",
    "sa_pd2.plot_num_synapses_per_pair(\"dSPN\", \"dSPN\")"
   ]
  },
  {
   "cell_type": "code",
   "execution_count": null,
   "id": "8ddd9987-00ca-4dda-ba06-ed2f0ce87e16",
   "metadata": {},
   "outputs": [],
   "source": [
    "ax = sa_pd0.plot_connection_probability(\"iSPN\", \"iSPN\", dist_3d=True, exp_max_dist=[50e-6, 100e-6], exp_data_detailed=[(14, 39), (7, 31)], return_ax=True, show_plot=False, save_figure=False)\n",
    "# PD connectivity from Taverna et al 2008\n",
    "sa_pd2.plot_connection_probability(\"iSPN\", \"iSPN\", dist_3d=True, ax=ax, colour=\"blue\", exp_colour=\"blue\", exp_data_detailed=[(3,17)], exp_max_dist=[50e-6])\n",
    "\n",
    "sa_pd0.plot_num_synapses_per_pair(\"iSPN\", \"iSPN\")\n",
    "sa_pd2.plot_num_synapses_per_pair(\"iSPN\", \"iSPN\")"
   ]
  },
  {
   "cell_type": "code",
   "execution_count": null,
   "id": "ee31e26b-4673-4770-b43e-748e1cc5f204",
   "metadata": {},
   "outputs": [],
   "source": [
    "ax = sa_pd0.plot_connection_probability(\"iSPN\", \"dSPN\", dist_3d=True, exp_max_dist=[50e-6, 100e-6], exp_data_detailed=[(13, 47), (10, 80)], return_ax=True, show_plot=False, save_figure=False)\n",
    "sa_pd2.plot_connection_probability(\"iSPN\", \"dSPN\", dist_3d=True, ax=ax, colour=\"blue\", exp_colour=\"blue\", exp_max_dist=[50e-6], exp_data_detailed=[(3, 12)])\n",
    "\n",
    "sa_pd0.plot_num_synapses_per_pair(\"iSPN\", \"dSPN\")\n",
    "sa_pd2.plot_num_synapses_per_pair(\"iSPN\", \"dSPN\")"
   ]
  },
  {
   "cell_type": "code",
   "execution_count": null,
   "id": "dee2ef42-6a0d-4749-91c0-42d342026f1d",
   "metadata": {},
   "outputs": [],
   "source": [
    "ax = sa_pd0.plot_connection_probability(\"FS\", \"FS\", dist_3d=True, exp_max_dist=[250e-6], exp_data_detailed=[(7, 12)], return_ax=True, show_plot=False, save_figure=False)\n",
    "sa_pd2.plot_connection_probability(\"FS\", \"FS\", dist_3d=True, ax=ax, colour=\"blue\")\n",
    "\n",
    "sa_pd0.plot_num_synapses_per_pair(\"FS\", \"FS\")\n",
    "sa_pd2.plot_num_synapses_per_pair(\"FS\", \"FS\")"
   ]
  },
  {
   "cell_type": "code",
   "execution_count": null,
   "id": "ce2efe34-447e-4184-81bf-438c03aeaf9b",
   "metadata": {},
   "outputs": [],
   "source": [
    "ax = sa_pd0.plot_connection_probability(\"FS\", \"iSPN\", dist_3d=True, exp_max_dist=[100e-6, 150e-6, 250e-6], exp_data_detailed=[(6, 9), (21, 54), (27,77)], return_ax=True, show_plot=False, save_figure=False)\n",
    "sa_pd2.plot_connection_probability(\"FS\", \"iSPN\", dist_3d=True, ax=ax, colour=\"blue\")\n",
    "\n",
    "sa_pd0.plot_num_synapses_per_pair(\"FS\", \"iSPN\")\n",
    "sa_pd2.plot_num_synapses_per_pair(\"FS\", \"iSPN\")"
   ]
  },
  {
   "cell_type": "code",
   "execution_count": null,
   "id": "dd5e3b8e-3a8c-4bbe-a89d-c014ae39bd59",
   "metadata": {},
   "outputs": [],
   "source": [
    "ax = sa_pd0.plot_connection_probability(\"FS\", \"dSPN\", dist_3d=True, exp_max_dist=[100e-6, 150e-6, 250e-6], exp_data_detailed=[(8, 9), (29, 48), (48,90)], return_ax=True, show_plot=False, save_figure=False)\n",
    "sa_pd2.plot_connection_probability(\"FS\", \"dSPN\", dist_3d=True, ax=ax, colour=\"blue\")\n",
    "\n",
    "sa_pd0.plot_num_synapses_per_pair(\"FS\", \"dSPN\")\n",
    "sa_pd2.plot_num_synapses_per_pair(\"FS\", \"dSPN\")"
   ]
  },
  {
   "cell_type": "code",
   "execution_count": null,
   "id": "86d70354-bd9b-4840-8e04-01fb721dd291",
   "metadata": {},
   "outputs": [],
   "source": []
  },
  {
   "cell_type": "code",
   "execution_count": null,
   "id": "91d3ad7e-5e9c-42f4-9659-827d2e928f1e",
   "metadata": {},
   "outputs": [],
   "source": []
  }
 ],
 "metadata": {
  "kernelspec": {
   "display_name": "Python 3 (ipykernel)",
   "language": "python",
   "name": "python3"
  },
  "language_info": {
   "codemirror_mode": {
    "name": "ipython",
    "version": 3
   },
   "file_extension": ".py",
   "mimetype": "text/x-python",
   "name": "python",
   "nbconvert_exporter": "python",
   "pygments_lexer": "ipython3",
   "version": "3.9.2"
  }
 },
 "nbformat": 4,
 "nbformat_minor": 5
}
