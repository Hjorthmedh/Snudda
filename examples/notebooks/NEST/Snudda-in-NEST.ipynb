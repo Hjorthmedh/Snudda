{
 "cells": [
  {
   "cell_type": "markdown",
   "id": "f2b9d506-600f-4208-954c-4db6943fa3f4",
   "metadata": {},
   "source": [
    "# Using connectivity from Snudda in NEST\n",
    "\n",
    "This example shows how to create a network in Snudda, and then import the network into NEST to run the simulation there instead of in the default NEURON environment."
   ]
  },
  {
   "cell_type": "markdown",
   "id": "0c73e4cc-ee04-495e-8efe-01e9af053743",
   "metadata": {},
   "source": [
    "## Creating the network connectivity"
   ]
  },
  {
   "cell_type": "code",
   "execution_count": 1,
   "id": "07413422-e250-4017-ad0d-13edb2bbf34a",
   "metadata": {
    "tags": []
   },
   "outputs": [],
   "source": [
    "import os\n",
    "network_path = os.path.join(\"networks\",\"snudda_in_nest\")"
   ]
  },
  {
   "cell_type": "code",
   "execution_count": null,
   "id": "011ac1a8-eda9-40df-9232-2cd69fe31b0e",
   "metadata": {
    "tags": []
   },
   "outputs": [],
   "source": [
    "from snudda import SnuddaInit\n",
    "\n",
    "snudda_data = os.path.join(\"..\", \"..\", \"..\", \"..\", \"BasalGangliaData\", \"data\")  # \"/home/hjorth/HBP/BasalGangliaData/data/\" \n",
    "snudda_data = \"/home/hjorth/HBP/BasalGangliaData/data/\" \n",
    "si = SnuddaInit(network_path=network_path, random_seed=12345, snudda_data=snudda_data)\n",
    "si.define_striatum(num_dSPN=500, num_iSPN=500, num_FS=10, num_LTS=0, num_ChIN=0, neuron_density=80500,\n",
    "                    volume_type=\"cube\", neurons_dir=\"$DATA/neurons\")\n",
    "si.write_json()"
   ]
  },
  {
   "cell_type": "code",
   "execution_count": null,
   "id": "655ae722-5fbc-4611-8d60-e245e6f19a3d",
   "metadata": {
    "tags": []
   },
   "outputs": [],
   "source": [
    "from snudda import SnuddaPlace\n",
    "spl = SnuddaPlace(network_path=network_path)\n",
    "spl.place()"
   ]
  },
  {
   "cell_type": "code",
   "execution_count": null,
   "id": "58bc5af7-4f9a-4aaf-a231-c33f105ebc5d",
   "metadata": {
    "tags": []
   },
   "outputs": [],
   "source": [
    "from snudda import SnuddaDetect\n",
    "\n",
    "sd = SnuddaDetect(network_path=network_path)\n",
    "sd.detect()"
   ]
  },
  {
   "cell_type": "code",
   "execution_count": null,
   "id": "50c01a1a-2195-411f-9d67-103533574ffc",
   "metadata": {
    "tags": []
   },
   "outputs": [],
   "source": [
    "from snudda import SnuddaPrune\n",
    "\n",
    "sp = SnuddaPrune(network_path=network_path)\n",
    "sp.prune()"
   ]
  },
  {
   "cell_type": "markdown",
   "id": "b52b132e-886e-4a7a-8cea-b9a8c94ccead",
   "metadata": {},
   "source": [
    "# Setup input \n",
    "\n",
    "-- TODO: Check that NEST imports the input spikes"
   ]
  },
  {
   "cell_type": "code",
   "execution_count": null,
   "id": "81b6a6dc-98eb-46de-9c3c-7da9f1c293b0",
   "metadata": {
    "tags": []
   },
   "outputs": [],
   "source": [
    "input_config = {\n",
    "    \"dSPN\": {\n",
    "        \"Ctx\" : {\n",
    "            \"generator\" : \"poisson\",\n",
    "            \"start\" : [0, 4, 5],\n",
    "            \"end\" : [4, 5, 10],\n",
    "            \"frequency\" : [2, 4, 2],\n",
    "            \"conductance\" : 0.5e-9,\n",
    "            \"nInputs\" : 20,\n",
    "            \"populationUnitCorrelation\" : [0.5, 1.0, 0.5],\n",
    "            \"jitter\" : 0.01,\t    \n",
    "            \"modFile\": \"tmGlut\"\n",
    "        }\n",
    "    },\n",
    "\n",
    "    \"iSPN\": {\n",
    "        \"Ctx\" : {\n",
    "            \"generator\" : \"poisson\",\n",
    "            \"start\" : [0, 5],\n",
    "            \"end\" : [3, 10],\t    \n",
    "            \"frequency\" : 1,\n",
    "            \"conductance\" : 0.5e-9,\n",
    "            \"nInputs\" : 10,\n",
    "            \"jitter\" : 0.01,\n",
    "            \"populationUnitCorrelation\" : 0.2,\n",
    "            \"populationUnitID\" : 1,\n",
    "            \"modFile\": \"tmGlut\"\n",
    "        }\n",
    "    },\n",
    "    \n",
    "    \"FS\": {\n",
    "        \"Ctx\" : {\n",
    "            \"generator\" : \"poisson\",\n",
    "            \"start\" : [0, 5],\n",
    "            \"end\" : [3, 10],\t    \n",
    "            \"frequency\" : 1,\n",
    "            \"conductance\" : 0.5e-9,\n",
    "            \"nInputs\" : 10,\n",
    "            \"jitter\" : 0.01,\n",
    "            \"populationUnitCorrelation\" : 0.2,\n",
    "            \"populationUnitID\" : 1,\n",
    "            \"modFile\": \"tmGlut\"\n",
    "        }\n",
    "    }\n",
    "}\n",
    "\n",
    "from snudda.input import SnuddaInput\n",
    "si = SnuddaInput(network_path=network_path, \n",
    "                 input_config_file=input_config,\n",
    "                 verbose=False)\n",
    "si.generate()"
   ]
  },
  {
   "cell_type": "code",
   "execution_count": null,
   "id": "2e229380-8851-4383-ad7c-55c62386235e",
   "metadata": {
    "tags": []
   },
   "outputs": [],
   "source": [
    "from snudda.utils.export_sonata import ExportSonata\n",
    "se = ExportSonata(network_path=network_path)"
   ]
  },
  {
   "cell_type": "code",
   "execution_count": null,
   "id": "70593a0b-24d8-46a3-851d-6c01ea425898",
   "metadata": {
    "tags": []
   },
   "outputs": [],
   "source": [
    "si = None\n",
    "spl = None\n",
    "sd = None\n",
    "sp = None\n",
    "se = None"
   ]
  },
  {
   "cell_type": "markdown",
   "id": "d5cc0a8e-cae8-43e1-89b9-6a70dd3262e0",
   "metadata": {},
   "source": [
    "# Import network into NEST and run simulation"
   ]
  },
  {
   "cell_type": "code",
   "execution_count": 2,
   "id": "711e8a95-daf2-4766-aa78-b98351dac708",
   "metadata": {
    "tags": []
   },
   "outputs": [
    {
     "name": "stdout",
     "output_type": "stream",
     "text": [
      "\n",
      "              -- N E S T --\n",
      "  Copyright (C) 2004 The NEST Initiative\n",
      "\n",
      " Version: 3.4.0-post0.dev0\n",
      " Built: Jun  1 2023 12:32:32\n",
      "\n",
      " This program is provided AS IS and comes with\n",
      " NO WARRANTY. See the file LICENSE for details.\n",
      "\n",
      " Problems or suggestions?\n",
      "   Visit https://www.nest-simulator.org\n",
      "\n",
      " Type 'nest.help()' to find out more about NEST.\n",
      "\n",
      "\n",
      "Jun 12 16:06:11 SimulationManager::set_status [Info]: \n",
      "    Temporal resolution changed from 0.1 to 0.1 ms.\n"
     ]
    }
   ],
   "source": [
    "import nest\n",
    "\n",
    "nest.ResetKernel()\n",
    "\n",
    "base_dir = os.path.join(network_path, \"SONATA\")\n",
    "net_config = os.path.join(base_dir, \"circuit_config.json\")\n",
    "sim_config = os.path.join(base_dir,\"simulation_config.json\")\n",
    "\n",
    "sonata_net = nest.SonataNetwork(net_config, sim_config)\n",
    "# node_collections = sonata_net.Create()\n",
    "\n",
    "node_collections = sonata_net.BuildNetwork()\n",
    "\n",
    "s_rec_dspn = nest.Create(\"spike_recorder\")\n",
    "s_rec_ispn = nest.Create(\"spike_recorder\")\n",
    "s_rec_fs = nest.Create(\"spike_recorder\")\n",
    "\n",
    "# record_node_ids = [1, 80, 160, 240, 270]\n",
    "# nest.Connect(node_collections[pop_name][record_node_ids], s_rec)\n",
    "\n",
    "nest.Connect(node_collections[\"dSPN\"], s_rec_dspn)\n",
    "nest.Connect(node_collections[\"iSPN\"], s_rec_ispn)\n",
    "nest.Connect(node_collections[\"FS\"], s_rec_fs)"
   ]
  },
  {
   "cell_type": "code",
   "execution_count": null,
   "id": "37ca25ad-6dd5-471e-84a4-a251a3bf49ee",
   "metadata": {},
   "outputs": [],
   "source": [
    "# If we need to add separate noise. \n",
    "# Currently the SONATA specified inputs exist (but according to SONATA documentation it should target virtual neurons), but are not properly connected.\n",
    "\n",
    "exc_rate = 4.5\n",
    "\n",
    "exc_noise_fs = nest.Create('poisson_generator', 1300)\n",
    "exc_noise_dspn = nest.Create('poisson_generator', 1500)\n",
    "exc_noise_ispn = nest.Create('poisson_generator', 1050)\n",
    "\n",
    "exc_noise_fs.set(rate=exc_rate)\n",
    "exc_noise_dspn.set(rate=exc_rate)\n",
    "exc_noise_ispn.set(rate=exc_rate)\n",
    "\n",
    "nest.Connect(exc_noise_fs, node_collections[\"FS\"], 'all_to_all', {'weight': +0.5})\n",
    "nest.Connect(exc_noise_dspn, node_collections[\"dSPN\"], 'all_to_all', {'weight': +0.5})\n",
    "nest.Connect(exc_noise_ispn, node_collections[\"iSPN\"], 'all_to_all', {'weight': +0.5})"
   ]
  },
  {
   "cell_type": "code",
   "execution_count": 3,
   "id": "d516b479-e2f4-4a6a-94e6-3881806b5875",
   "metadata": {},
   "outputs": [
    {
     "name": "stdout",
     "output_type": "stream",
     "text": [
      "\n",
      "Jun 12 16:06:14 NodeManager::prepare_nodes [Info]: \n",
      "    Preparing 3533 nodes for simulation.\n",
      "\n",
      "Jun 12 16:06:14 SimulationManager::start_updating_ [Info]: \n",
      "    Number of local nodes: 3533\n",
      "    Simulation time (ms): 1000\n",
      "    Number of OpenMP threads: 1\n",
      "    Not using MPI\n",
      "\n",
      "Jun 12 16:06:17 SimulationManager::run [Info]: \n",
      "    Simulation finished.\n"
     ]
    }
   ],
   "source": [
    "sonata_net.Simulate()"
   ]
  },
  {
   "cell_type": "code",
   "execution_count": 4,
   "id": "859267cf-8916-48b3-b3ec-31abd4e9a489",
   "metadata": {},
   "outputs": [
    {
     "ename": "NESTError",
     "evalue": "No events recorded!",
     "output_type": "error",
     "traceback": [
      "\u001b[0;31m---------------------------------------------------------------------------\u001b[0m",
      "\u001b[0;31mNESTError\u001b[0m                                 Traceback (most recent call last)",
      "Cell \u001b[0;32mIn[4], line 2\u001b[0m\n\u001b[1;32m      1\u001b[0m \u001b[38;5;28;01mimport\u001b[39;00m \u001b[38;5;21;01mmatplotlib\u001b[39;00m\u001b[38;5;21;01m.\u001b[39;00m\u001b[38;5;21;01mpyplot\u001b[39;00m \u001b[38;5;28;01mas\u001b[39;00m \u001b[38;5;21;01mplt\u001b[39;00m\n\u001b[0;32m----> 2\u001b[0m \u001b[43mnest\u001b[49m\u001b[38;5;241;43m.\u001b[39;49m\u001b[43mraster_plot\u001b[49m\u001b[38;5;241;43m.\u001b[39;49m\u001b[43mfrom_device\u001b[49m\u001b[43m(\u001b[49m\u001b[43ms_rec_dspn\u001b[49m\u001b[43m)\u001b[49m\n\u001b[1;32m      3\u001b[0m nest\u001b[38;5;241m.\u001b[39mraster_plot\u001b[38;5;241m.\u001b[39mfrom_device(s_rec_ispn)\n\u001b[1;32m      4\u001b[0m nest\u001b[38;5;241m.\u001b[39mraster_plot\u001b[38;5;241m.\u001b[39mfrom_device(s_rec_fs)\n",
      "File \u001b[0;32m~/NEST/nest-simulator/nest-install/lib/python3.9/site-packages/nest/raster_plot.py:191\u001b[0m, in \u001b[0;36mfrom_device\u001b[0;34m(detec, **kwargs)\u001b[0m\n\u001b[1;32m    188\u001b[0m ts, node_ids \u001b[38;5;241m=\u001b[39m _from_memory(detec)\n\u001b[1;32m    190\u001b[0m \u001b[38;5;28;01mif\u001b[39;00m \u001b[38;5;129;01mnot\u001b[39;00m \u001b[38;5;28mlen\u001b[39m(ts):\n\u001b[0;32m--> 191\u001b[0m     \u001b[38;5;28;01mraise\u001b[39;00m nest\u001b[38;5;241m.\u001b[39mkernel\u001b[38;5;241m.\u001b[39mNESTError(\u001b[38;5;124m\"\u001b[39m\u001b[38;5;124mNo events recorded!\u001b[39m\u001b[38;5;124m\"\u001b[39m)\n\u001b[1;32m    193\u001b[0m \u001b[38;5;28;01mif\u001b[39;00m \u001b[38;5;124m\"\u001b[39m\u001b[38;5;124mtitle\u001b[39m\u001b[38;5;124m\"\u001b[39m \u001b[38;5;129;01mnot\u001b[39;00m \u001b[38;5;129;01min\u001b[39;00m kwargs:\n\u001b[1;32m    194\u001b[0m     kwargs[\u001b[38;5;124m\"\u001b[39m\u001b[38;5;124mtitle\u001b[39m\u001b[38;5;124m\"\u001b[39m] \u001b[38;5;241m=\u001b[39m \u001b[38;5;124m\"\u001b[39m\u001b[38;5;124mRaster plot from device \u001b[39m\u001b[38;5;124m'\u001b[39m\u001b[38;5;132;01m%i\u001b[39;00m\u001b[38;5;124m'\u001b[39m\u001b[38;5;124m\"\u001b[39m \u001b[38;5;241m%\u001b[39m detec\u001b[38;5;241m.\u001b[39mget(\u001b[38;5;124m'\u001b[39m\u001b[38;5;124mglobal_id\u001b[39m\u001b[38;5;124m'\u001b[39m)\n",
      "\u001b[0;31mNESTError\u001b[0m: No events recorded!"
     ]
    }
   ],
   "source": [
    "import matplotlib.pyplot as plt\n",
    "nest.raster_plot.from_device(s_rec_dspn)\n",
    "nest.raster_plot.from_device(s_rec_ispn)\n",
    "nest.raster_plot.from_device(s_rec_fs)\n",
    "plt.show()"
   ]
  },
  {
   "cell_type": "code",
   "execution_count": null,
   "id": "9422d804-ff98-4703-b5de-b36af887b8d8",
   "metadata": {
    "tags": []
   },
   "outputs": [],
   "source": [
    "os.getcwd()"
   ]
  },
  {
   "cell_type": "code",
   "execution_count": null,
   "id": "121b8022-25cf-45fc-bdb3-5d77c89ccca5",
   "metadata": {},
   "outputs": [],
   "source": [
    "node_collections.keys()"
   ]
  },
  {
   "cell_type": "code",
   "execution_count": 5,
   "id": "413013ed-75c2-44a4-9670-6bd71cfd3b41",
   "metadata": {},
   "outputs": [
    {
     "data": {
      "text/plain": [
       "NodeCollection(metadata=None, model=spike_train_injector, size=2520, first=1011, last=3530)"
      ]
     },
     "execution_count": 5,
     "metadata": {},
     "output_type": "execute_result"
    }
   ],
   "source": [
    "node_collections[\"Striatum-input\"]"
   ]
  },
  {
   "cell_type": "code",
   "execution_count": null,
   "id": "9d8ceb60-fbcf-4850-9275-847e42e3cf6b",
   "metadata": {},
   "outputs": [],
   "source": [
    "node_collections[\"Striatum-input\"]"
   ]
  },
  {
   "cell_type": "code",
   "execution_count": null,
   "id": "865ee20a-3161-402c-968b-139929ca7af2",
   "metadata": {},
   "outputs": [],
   "source": []
  }
 ],
 "metadata": {
  "kernelspec": {
   "display_name": "Python 3 (ipykernel)",
   "language": "python",
   "name": "python3"
  },
  "language_info": {
   "codemirror_mode": {
    "name": "ipython",
    "version": 3
   },
   "file_extension": ".py",
   "mimetype": "text/x-python",
   "name": "python",
   "nbconvert_exporter": "python",
   "pygments_lexer": "ipython3",
   "version": "3.9.2"
  }
 },
 "nbformat": 4,
 "nbformat_minor": 5
}
