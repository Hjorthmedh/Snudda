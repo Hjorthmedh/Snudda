{
 "cells": [
  {
   "cell_type": "markdown",
   "id": "interstate-chapel",
   "metadata": {},
   "source": [
    "# Figure 2 in Hjorth et al, 2021 Neuroinformatics paper"
   ]
  },
  {
   "cell_type": "markdown",
   "id": "increasing-grade",
   "metadata": {},
   "source": [
    "This code can be run in parallel. To do that, please first start ```ipcluster```, on linux you write the following into the terminal, note that you should be in the same directory as the notebook is in (```examples/Neurinformatics2021/Figure2```):\n",
    "\n",
    "```\n",
    "export IPYTHONDIR=\"`pwd`/.ipython\"\n",
    "export IPYTHON_PROFILE=default\n",
    "ipcluster start \n",
    "```\n",
    "\n",
    "These commands are in ```start_ipcluster.sh``` in the ```examples/notebook``` directory. After starting ipcluster give it a few seconds to get fully up and running before proceeding with the rest of the commands in this notebook. \n",
    "\n",
    "If you restart the run you might need to do:\n",
    "\n",
    "```\n",
    "ipcluster stop\n",
    "ipcluster start\n",
    "```\n",
    "\n",
    "For instructions how to install and activate ipyparallel for your notebook see \n",
    "https://github.com/ipython/ipyparallel"
   ]
  },
  {
   "cell_type": "code",
   "execution_count": null,
   "id": "dried-schedule",
   "metadata": {},
   "outputs": [],
   "source": [
    "import os\n",
    "from ipyparallel import Client\n",
    "\n",
    "os.environ[\"IPYTHONDIR\"] = \".ipython\"\n",
    "os.environ[\"IPYTHON_PROFILE\"] = \"default\"\n",
    "\n",
    "u_file = os.path.join(\".ipython\", \"profile_default\", \"security\", \"ipcontroller-client.json\")\n",
    "if os.path.exists(u_file):\n",
    "    rc = Client(url_file=u_file, timeout=120, debug=False)\n",
    "else:\n",
    "    print(\"Warning, running in serial.\")\n",
    "    rc = None"
   ]
  },
  {
   "cell_type": "code",
   "execution_count": null,
   "id": "coupled-piece",
   "metadata": {},
   "outputs": [],
   "source": [
    "from methods_paper_figure2 import MethodsPaperFigure2\n",
    "from snudda import SnuddaPlace\n",
    "from snudda import SnuddaDetect\n",
    "from snudda import SnuddaPrune\n",
    "\n",
    "network_type = ['No pruning',\n",
    "                'DP',\n",
    "                'DP, f1',\n",
    "                'DP, f1, SM',\n",
    "                'DP, f1, SM, mu2']\n",
    "\n",
    "network_size = 10000\n",
    "network_path = \"Fig2_network\"\n",
    "config_list = []\n",
    "network_file_list = []\n",
    "\n",
    "for idx, nt in enumerate(network_type):\n",
    "    config_name = os.path.join(f\"network-config-{idx}.json\")\n",
    "    config_list.append(config_name)\n",
    "    network_file = os.path.join(network_path, f\"network-synapses-{idx}.hdf5\")\n",
    "    network_file_list.append(network_file)"
   ]
  },
  {
   "cell_type": "code",
   "execution_count": null,
   "id": "improved-orlando",
   "metadata": {},
   "outputs": [],
   "source": [
    "for config_name, nt in zip(config_list, network_type):\n",
    "    MethodsPaperFigure2.setup_network(network_path=network_path, config_name=config_name,\n",
    "                                      network_type=nt, n_neurons=network_size, random_seed=1234)"
   ]
  },
  {
   "cell_type": "code",
   "execution_count": null,
   "id": "local-compact",
   "metadata": {},
   "outputs": [],
   "source": [
    "conf_file=os.path.join(network_path, config_list[-1])\n",
    "\n",
    "sp = SnuddaPlace(config_file=conf_file, rc=rc)\n",
    "sp.place()\n",
    "del sp\n",
    "    \n",
    "sd = SnuddaDetect(config_file=conf_file, rc=rc)\n",
    "sd.detect()\n",
    "del sd  # Clean up memory"
   ]
  },
  {
   "cell_type": "code",
   "execution_count": null,
   "id": "protective-variation",
   "metadata": {},
   "outputs": [],
   "source": [
    "network_file = os.path.join(network_path, \"network-synapses.hdf5\")\n",
    "    \n",
    "for config_name, new_network_file in zip(config_list, network_file_list):\n",
    "    config_file = os.path.join(network_path, config_name)\n",
    "    print(f\"Using config_file={config_file}\")\n",
    "    sp2 = SnuddaPrune(network_path=network_path, config_file=config_file, rc=rc, keep_files=True)\n",
    "    sp2.prune()\n",
    "    del sp2\n",
    "    \n",
    "    # We need to save the network files with new names for each pruning\n",
    "    os.rename(network_file, new_network_file)"
   ]
  },
  {
   "cell_type": "code",
   "execution_count": null,
   "id": "protective-joyce",
   "metadata": {
    "scrolled": false
   },
   "outputs": [],
   "source": [
    "mpf = MethodsPaperFigure2(network_file_list=network_file_list)\n",
    "mpf.make_connection_probability_summary('iSPN', 'dSPN')\n",
    "mpf.make_num_synapses_summary_figure('iSPN', 'dSPN')\n",
    "mpf.summary_plot_cum_dist('iSPN', 'dSPN')"
   ]
  },
  {
   "cell_type": "code",
   "execution_count": null,
   "id": "aware-shadow",
   "metadata": {},
   "outputs": [],
   "source": []
  }
 ],
 "metadata": {
  "kernelspec": {
   "display_name": "Python 3",
   "language": "python",
   "name": "python3"
  },
  "language_info": {
   "codemirror_mode": {
    "name": "ipython",
    "version": 3
   },
   "file_extension": ".py",
   "mimetype": "text/x-python",
   "name": "python",
   "nbconvert_exporter": "python",
   "pygments_lexer": "ipython3",
   "version": "3.7.3"
  }
 },
 "nbformat": 4,
 "nbformat_minor": 5
}
