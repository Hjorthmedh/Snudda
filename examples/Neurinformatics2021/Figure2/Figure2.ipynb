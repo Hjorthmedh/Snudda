{
 "cells": [
  {
   "cell_type": "markdown",
   "id": "interstate-chapel",
   "metadata": {},
   "source": [
    "# Figure 2 in Hjorth et al, 2021 Neuroinformatics paper"
   ]
  },
  {
   "cell_type": "markdown",
   "id": "increasing-grade",
   "metadata": {},
   "source": [
    "This code can be run in parallel. To do that, please first start ```ipcluster```, on linux you write the following into the terminal, note that you should be in the same directory as the notebook is in (```examples/Neurinformatics2021/Figure2```):\n",
    "\n",
    "```\n",
    "export IPYTHONDIR=\"`pwd`/.ipython\"\n",
    "export IPYTHON_PROFILE=default\n",
    "ipcluster start \n",
    "```\n",
    "\n",
    "These commands are in ```start_ipcluster.sh``` in the ```examples/notebook``` directory. After starting ipcluster give it a few seconds to get fully up and running before proceeding with the rest of the commands in this notebook. \n",
    "\n",
    "If you restart the run you might need to do:\n",
    "\n",
    "```\n",
    "ipcluster stop\n",
    "ipcluster start\n",
    "```\n",
    "\n",
    "For instructions how to install and activate ipyparallel for your notebook see \n",
    "https://github.com/ipython/ipyparallel"
   ]
  },
  {
   "cell_type": "code",
   "execution_count": 1,
   "id": "dried-schedule",
   "metadata": {},
   "outputs": [],
   "source": [
    "import os\n",
    "from ipyparallel import Client\n",
    "\n",
    "os.environ[\"IPYTHONDIR\"] = \".ipython\"\n",
    "os.environ[\"IPYTHON_PROFILE\"] = \"default\"\n",
    "\n",
    "u_file = os.path.join(\".ipython\", \"profile_default\", \"security\", \"ipcontroller-client.json\")\n",
    "if os.path.exists(u_file):\n",
    "    rc = Client(url_file=u_file, timeout=120, debug=False)\n",
    "else:\n",
    "    print(\"Warning, running in serial.\")\n",
    "    rc = None"
   ]
  },
  {
   "cell_type": "code",
   "execution_count": 2,
   "id": "coupled-piece",
   "metadata": {},
   "outputs": [],
   "source": [
    "from methods_paper_figure2 import MethodsPaperFigure2\n",
    "from snudda import SnuddaPlace\n",
    "from snudda import SnuddaDetect\n",
    "from snudda import SnuddaPrune\n",
    "\n",
    "network_type = ['No pruning',\n",
    "                'DP',\n",
    "                'DP, f1',\n",
    "                'DP, f1, SM',\n",
    "                'DP, f1, SM, mu2']\n",
    "\n",
    "network_size = 100\n",
    "network_path = \"Fig2_network\"\n",
    "config_list = []\n",
    "network_file_list = []\n",
    "\n",
    "for idx, nt in enumerate(network_type):\n",
    "    config_name = os.path.join(f\"network-config-{idx}.json\")\n",
    "    config_list.append(config_name)\n",
    "    network_file = os.path.join(network_path, f\"network-synapses-{idx}.hdf5\")\n",
    "    network_file_list.append(network_file)"
   ]
  },
  {
   "cell_type": "code",
   "execution_count": 3,
   "id": "improved-orlando",
   "metadata": {},
   "outputs": [
    {
     "name": "stdout",
     "output_type": "stream",
     "text": [
      "Using cube for striatum\n",
      "Adding neurons: dSPN from dir $DATA/neurons/striatum/dspn\n",
      "Adding neurons: iSPN from dir $DATA/neurons/striatum/ispn\n",
      "Writing Fig2_network/network-config-0.json\n",
      "Using cube for striatum\n",
      "Adding neurons: dSPN from dir $DATA/neurons/striatum/dspn\n",
      "Adding neurons: iSPN from dir $DATA/neurons/striatum/ispn\n",
      "Writing Fig2_network/network-config-1.json\n",
      "Using cube for striatum\n",
      "Adding neurons: dSPN from dir $DATA/neurons/striatum/dspn\n",
      "Adding neurons: iSPN from dir $DATA/neurons/striatum/ispn\n",
      "Writing Fig2_network/network-config-2.json\n",
      "Using cube for striatum\n",
      "Adding neurons: dSPN from dir $DATA/neurons/striatum/dspn\n",
      "Adding neurons: iSPN from dir $DATA/neurons/striatum/ispn\n",
      "Writing Fig2_network/network-config-3.json\n",
      "Using cube for striatum\n",
      "Adding neurons: dSPN from dir $DATA/neurons/striatum/dspn\n",
      "Adding neurons: iSPN from dir $DATA/neurons/striatum/ispn\n",
      "Writing Fig2_network/network-config-4.json\n"
     ]
    }
   ],
   "source": [
    "for config_name, nt in zip(config_list, network_type):\n",
    "    MethodsPaperFigure2.setup_network(network_path=network_path, config_name=config_name,\n",
    "                                      network_type=nt, n_neurons=network_size, random_seed=1234)"
   ]
  },
  {
   "cell_type": "code",
   "execution_count": 4,
   "id": "local-compact",
   "metadata": {},
   "outputs": [
    {
     "name": "stdout",
     "output_type": "stream",
     "text": [
      "importing SnuddaDetect from snudda.detect.detect on engine(s)\n",
      "Suppressing printouts for hyper voxels that complete in < 100 seconds.\n"
     ]
    }
   ],
   "source": [
    "conf_file=os.path.join(network_path, config_list[-1])\n",
    "\n",
    "sp = SnuddaPlace(config_file=conf_file, rc=rc)\n",
    "sp.place()\n",
    "del sp\n",
    "    \n",
    "sd = SnuddaDetect(config_file=conf_file, rc=rc)\n",
    "sd.detect()\n",
    "del sd  # Clean up memory"
   ]
  },
  {
   "cell_type": "code",
   "execution_count": 5,
   "id": "protective-variation",
   "metadata": {},
   "outputs": [
    {
     "name": "stdout",
     "output_type": "stream",
     "text": [
      "Using config_file=Fig2_network/network-config-0.json\n",
      "importing SnuddaPrune from snudda.detect.prune on engine(s)\n",
      "prune_synapses_parallel (7510/134636 synapses, 5.6% kept): 0.5s\n",
      "prune_synapses_parallel (0/0 gapJunctions, 0.0% kept): 0.0s\n",
      "Using config_file=Fig2_network/network-config-1.json\n",
      "importing SnuddaPrune from snudda.detect.prune on engine(s)\n",
      "prune_synapses_parallel (7510/134636 synapses, 5.6% kept): 0.5s\n",
      "prune_synapses_parallel (0/0 gapJunctions, 0.0% kept): 0.0s\n",
      "Using config_file=Fig2_network/network-config-2.json\n",
      "importing SnuddaPrune from snudda.detect.prune on engine(s)\n",
      "prune_synapses_parallel (7510/134636 synapses, 5.6% kept): 0.6s\n",
      "prune_synapses_parallel (0/0 gapJunctions, 0.0% kept): 0.0s\n",
      "Using config_file=Fig2_network/network-config-3.json\n",
      "importing SnuddaPrune from snudda.detect.prune on engine(s)\n",
      "prune_synapses_parallel (7510/134636 synapses, 5.6% kept): 0.6s\n",
      "prune_synapses_parallel (0/0 gapJunctions, 0.0% kept): 0.0s\n",
      "Using config_file=Fig2_network/network-config-4.json\n",
      "importing SnuddaPrune from snudda.detect.prune on engine(s)\n",
      "prune_synapses_parallel (7510/134636 synapses, 5.6% kept): 0.6s\n",
      "prune_synapses_parallel (0/0 gapJunctions, 0.0% kept): 0.0s\n"
     ]
    }
   ],
   "source": [
    "network_file = os.path.join(network_path, \"network-synapses.hdf5\")\n",
    "    \n",
    "for config_name, new_network_file in zip(config_list, network_file_list):\n",
    "    config_file = os.path.join(network_path, config_name)\n",
    "    print(f\"Using config_file={config_file}\")\n",
    "    sp2 = SnuddaPrune(network_path=network_path, config_file=config_file, rc=rc, keep_files=True)\n",
    "    sp2.prune()\n",
    "    del sp2\n",
    "    \n",
    "    # We need to save the network files with new names for each pruning\n",
    "    os.rename(network_file, new_network_file)"
   ]
  },
  {
   "cell_type": "code",
   "execution_count": 6,
   "id": "protective-joyce",
   "metadata": {
    "scrolled": false
   },
   "outputs": [
    {
     "name": "stdout",
     "output_type": "stream",
     "text": [
      "Loading Fig2_network/network-synapses-0.hdf5\n",
      "Assuming volume type: cube[cube or full]\n",
      "Only using 20000neurons of the connection data\n",
      "Loading 100 neurons with 7510 synapses and 0 gap junctions\n",
      "Number of neurons: 100\n",
      "Synapse row 0 - 0.0 % time: 0.0017615430006117094 seconds\n",
      "Created connection matrix 0.01083023399769445 seconds\n",
      "Created gap junction connection matrix 0.00035203899824409746 seconds\n",
      "Creating population dictionary\n",
      "Done.\n",
      "Warning: the analysis cube specified by sideLen is too large.\n",
      "!!! Setting sideLen to None\n",
      "Calculating synapse distance histogram\n",
      "Creating dist histogram\n",
      "nSynapses = 7510, at 0\n",
      "Created distance histogram (optimised) in 0.011454540999693563 seconds\n",
      "Saving cache to Fig2_network/network-synapses-0.hdf5-cache\n",
      "Loading Fig2_network/network-synapses-1.hdf5\n",
      "Assuming volume type: cube[cube or full]\n",
      "Only using 20000neurons of the connection data\n",
      "Loading 100 neurons with 7510 synapses and 0 gap junctions\n",
      "Number of neurons: 100\n",
      "Synapse row 0 - 0.0 % time: 0.0014277800000854768 seconds\n",
      "Created connection matrix 0.010159559002204333 seconds\n",
      "Created gap junction connection matrix 0.00010900000052060932 seconds\n",
      "Creating population dictionary\n",
      "Done.\n",
      "Warning: the analysis cube specified by sideLen is too large.\n",
      "!!! Setting sideLen to None\n",
      "Calculating synapse distance histogram\n",
      "Creating dist histogram\n",
      "nSynapses = 7510, at 0\n",
      "Created distance histogram (optimised) in 0.010860120000870666 seconds\n",
      "Saving cache to Fig2_network/network-synapses-1.hdf5-cache\n",
      "Loading Fig2_network/network-synapses-2.hdf5\n",
      "Assuming volume type: cube[cube or full]\n",
      "Only using 20000neurons of the connection data\n",
      "Loading 100 neurons with 7510 synapses and 0 gap junctions\n",
      "Number of neurons: 100\n",
      "Synapse row 0 - 0.0 % time: 0.0015477859997190535 seconds\n",
      "Created connection matrix 0.01115275499978452 seconds\n",
      "Created gap junction connection matrix 0.00011324300066917203 seconds\n",
      "Creating population dictionary\n",
      "Done.\n",
      "Warning: the analysis cube specified by sideLen is too large.\n",
      "!!! Setting sideLen to None\n",
      "Calculating synapse distance histogram\n",
      "Creating dist histogram\n",
      "nSynapses = 7510, at 0\n",
      "Created distance histogram (optimised) in 0.010889956000028178 seconds\n",
      "Saving cache to Fig2_network/network-synapses-2.hdf5-cache\n",
      "Loading Fig2_network/network-synapses-3.hdf5\n",
      "Assuming volume type: cube[cube or full]\n",
      "Only using 20000neurons of the connection data\n",
      "Loading 100 neurons with 7510 synapses and 0 gap junctions\n",
      "Number of neurons: 100\n",
      "Synapse row 0 - 0.0 % time: 0.0014069940007175319 seconds\n",
      "Created connection matrix 0.010919123000348918 seconds\n",
      "Created gap junction connection matrix 0.00011963699944317341 seconds\n",
      "Creating population dictionary\n",
      "Done.\n",
      "Warning: the analysis cube specified by sideLen is too large.\n",
      "!!! Setting sideLen to None\n",
      "Calculating synapse distance histogram\n",
      "Creating dist histogram\n",
      "nSynapses = 7510, at 0\n",
      "Created distance histogram (optimised) in 0.012864972999523161 seconds\n",
      "Saving cache to Fig2_network/network-synapses-3.hdf5-cache\n",
      "Loading Fig2_network/network-synapses-4.hdf5\n",
      "Assuming volume type: cube[cube or full]\n",
      "Only using 20000neurons of the connection data\n",
      "Loading 100 neurons with 7510 synapses and 0 gap junctions\n",
      "Number of neurons: 100\n",
      "Synapse row 0 - 0.0 % time: 0.0017174009990412742 seconds\n",
      "Created connection matrix 0.011027266999008134 seconds\n",
      "Created gap junction connection matrix 0.0001338479996775277 seconds\n",
      "Creating population dictionary\n",
      "Done.\n",
      "Warning: the analysis cube specified by sideLen is too large.\n",
      "!!! Setting sideLen to None\n",
      "Calculating synapse distance histogram\n",
      "Creating dist histogram\n",
      "nSynapses = 7510, at 0\n",
      "Created distance histogram (optimised) in 0.012244761997862952 seconds\n",
      "Saving cache to Fig2_network/network-synapses-4.hdf5-cache\n",
      "Centering in Striatum : Keeping 50/50\n",
      "Counting connections\n"
     ]
    },
    {
     "name": "stderr",
     "output_type": "stream",
     "text": [
      "/home/hjorth/HBP/Snudda/snudda/analyse/analyse.py:1419: RuntimeWarning: invalid value encountered in true_divide\n",
      "  p_con = np.divide(count_con, count_all)\n",
      "/home/hjorth/HBP/Snudda/snudda/analyse/analyse.py:1419: RuntimeWarning: invalid value encountered in true_divide\n",
      "  p_con = np.divide(count_con, count_all)\n"
     ]
    },
    {
     "name": "stdout",
     "output_type": "stream",
     "text": [
      "Requested: 10000000.0 calculated [2181.]\n",
      "Rejected (too large z-depth): 319\n",
      "Centering in Striatum : Keeping 50/50\n",
      "Counting connections\n",
      "Requested: 10000000.0 calculated [2181.]\n",
      "Rejected (too large z-depth): 319\n",
      "Centering in Striatum : Keeping 50/50\n",
      "Counting connections\n"
     ]
    },
    {
     "name": "stderr",
     "output_type": "stream",
     "text": [
      "/home/hjorth/HBP/Snudda/snudda/analyse/analyse.py:1419: RuntimeWarning: invalid value encountered in true_divide\n",
      "  p_con = np.divide(count_con, count_all)\n",
      "/home/hjorth/HBP/Snudda/snudda/analyse/analyse.py:1419: RuntimeWarning: invalid value encountered in true_divide\n",
      "  p_con = np.divide(count_con, count_all)\n"
     ]
    },
    {
     "name": "stdout",
     "output_type": "stream",
     "text": [
      "Requested: 10000000.0 calculated [2181.]\n",
      "Rejected (too large z-depth): 319\n",
      "Centering in Striatum : Keeping 50/50\n",
      "Counting connections\n",
      "Requested: 10000000.0 calculated [2181.]\n",
      "Rejected (too large z-depth): 319\n",
      "Centering in Striatum : Keeping 50/50\n",
      "Counting connections\n"
     ]
    },
    {
     "name": "stderr",
     "output_type": "stream",
     "text": [
      "/home/hjorth/HBP/Snudda/snudda/analyse/analyse.py:1419: RuntimeWarning: invalid value encountered in true_divide\n",
      "  p_con = np.divide(count_con, count_all)\n"
     ]
    },
    {
     "name": "stdout",
     "output_type": "stream",
     "text": [
      "Requested: 10000000.0 calculated [2181.]\n",
      "Rejected (too large z-depth): 319\n"
     ]
    },
    {
     "data": {
      "image/png": "[encoded data removed]",
      "text/plain": [
       "<Figure size 432x288 with 1 Axes>"
      ]
     },
     "metadata": {
      "needs_background": "light"
     },
     "output_type": "display_data"
    },
    {
     "name": "stdout",
     "output_type": "stream",
     "text": [
      "Wrote Fig2_network/figures/Summary-pruning-dist-dep-connection-probability-iSPN-to-dSPN-synapses.png\n",
      "Centering in Striatum : Keeping 50/50\n",
      "Calculating max synapses\n",
      "Plotting 623 connections\n",
      "Centering in Striatum : Keeping 50/50\n",
      "Calculating max synapses\n",
      "Plotting 623 connections\n",
      "Centering in Striatum : Keeping 50/50\n",
      "Calculating max synapses\n",
      "Plotting 623 connections\n",
      "Centering in Striatum : Keeping 50/50\n",
      "Calculating max synapses\n",
      "Plotting 623 connections\n",
      "Centering in Striatum : Keeping 50/50\n",
      "Calculating max synapses\n",
      "Plotting 623 connections\n"
     ]
    },
    {
     "data": {
      "image/png": "[encoded data removed]",
      "text/plain": [
       "<Figure size 432x288 with 1 Axes>"
      ]
     },
     "metadata": {
      "needs_background": "light"
     },
     "output_type": "display_data"
    },
    {
     "name": "stdout",
     "output_type": "stream",
     "text": [
      "Wrote Fig2_network/figures/Summary-network-number-of-synapses-from-iSPN-to-dSPN-per-cell.png\n"
     ]
    },
    {
     "data": {
      "image/png": "[encoded data removed]",
      "text/plain": [
       "<Figure size 432x288 with 1 Axes>"
      ]
     },
     "metadata": {
      "needs_background": "light"
     },
     "output_type": "display_data"
    },
    {
     "name": "stdout",
     "output_type": "stream",
     "text": [
      "Wrote Fig2_network/figures/Summary-cumDist-of-synapses-from-iSPN-to-dSPN-per-cell.png\n"
     ]
    }
   ],
   "source": [
    "mpf = MethodsPaperFigure2(network_file_list=network_file_list)\n",
    "mpf.make_connection_probability_summary('iSPN', 'dSPN')\n",
    "mpf.make_num_synapses_summary_figure('iSPN', 'dSPN')\n",
    "mpf.summary_plot_cum_dist('iSPN', 'dSPN')"
   ]
  },
  {
   "cell_type": "code",
   "execution_count": null,
   "id": "aware-shadow",
   "metadata": {},
   "outputs": [],
   "source": []
  }
 ],
 "metadata": {
  "kernelspec": {
   "display_name": "Python 3",
   "language": "python",
   "name": "python3"
  },
  "language_info": {
   "codemirror_mode": {
    "name": "ipython",
    "version": 3
   },
   "file_extension": ".py",
   "mimetype": "text/x-python",
   "name": "python",
   "nbconvert_exporter": "python",
   "pygments_lexer": "ipython3",
   "version": "3.7.3"
  }
 },
 "nbformat": 4,
 "nbformat_minor": 5
}
