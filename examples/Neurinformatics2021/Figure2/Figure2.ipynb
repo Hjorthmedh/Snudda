{
 "cells": [
  {
   "cell_type": "markdown",
   "id": "interstate-chapel",
   "metadata": {},
   "source": [
    "# Figure 2 in Hjorth et al, 2021 Neuroinformatics paper"
   ]
  },
  {
   "cell_type": "markdown",
   "id": "increasing-grade",
   "metadata": {},
   "source": [
    "This code can be run in parallel. To do that, please first start ```ipcluster```, on linux you write the following into the terminal, note that you should be in the same directory as the notebook is in (```examples/Neurinformatics2021/Figure2```):\n",
    "\n",
    "```\n",
    "export IPYTHONDIR=\"`pwd`/.ipython\"\n",
    "export IPYTHON_PROFILE=default\n",
    "ipcluster start \n",
    "```\n",
    "\n",
    "These commands are in ```start_ipcluster.sh``` in the ```examples/notebook``` directory. After starting ipcluster give it a few seconds to get fully up and running before proceeding with the rest of the commands in this notebook. \n",
    "\n",
    "If you restart the run you might need to do:\n",
    "\n",
    "```\n",
    "ipcluster stop\n",
    "ipcluster start\n",
    "```\n",
    "\n",
    "For instructions how to install and activate ipyparallel for your notebook see \n",
    "https://github.com/ipython/ipyparallel"
   ]
  },
  {
   "cell_type": "code",
   "execution_count": 1,
   "id": "dried-schedule",
   "metadata": {},
   "outputs": [
    {
     "name": "stdout",
     "output_type": "stream",
     "text": [
      "Warning, running in serial.\n"
     ]
    }
   ],
   "source": [
    "import os\n",
    "from ipyparallel import Client\n",
    "\n",
    "os.environ[\"IPYTHONDIR\"] = \".ipython\"\n",
    "os.environ[\"IPYTHON_PROFILE\"] = \"default\"\n",
    "\n",
    "u_file = os.path.join(\".ipython\", \"profile_default\", \"security\", \"ipcontroller-client.json\")\n",
    "if os.path.exists(u_file):\n",
    "    rc = Client(url_file=u_file, timeout=120, debug=False)\n",
    "else:\n",
    "    print(\"Warning, running in serial.\")\n",
    "    rc = None"
   ]
  },
  {
   "cell_type": "code",
   "execution_count": 12,
   "id": "coupled-piece",
   "metadata": {},
   "outputs": [],
   "source": [
    "from methods_paper_figure2 import MethodsPaperFigure2\n",
    "from snudda import SnuddaPlace\n",
    "from snudda import SnuddaDetect\n",
    "from snudda import SnuddaPrune\n",
    "\n",
    "network_type = ['No pruning',\n",
    "                'DP',\n",
    "                'DP, f1',\n",
    "                'DP, f1, SM',\n",
    "                'DP, f1, SM, mu2']\n",
    "\n",
    "network_size = 10000\n",
    "network_path = \"Fig2_network\"\n",
    "config_list = []\n",
    "network_file_list = []\n",
    "\n",
    "for idx, nt in enumerate(network_type):\n",
    "    config_name = os.path.join(f\"network-config-{idx}.json\")\n",
    "    config_list.append(config_name)\n",
    "    network_file = os.path.join(network_path, f\"network-synapses-{idx}.hdf5\")\n",
    "    network_file_list.append(network_file)"
   ]
  },
  {
   "cell_type": "code",
   "execution_count": 3,
   "id": "accessory-editing",
   "metadata": {},
   "outputs": [
    {
     "name": "stdout",
     "output_type": "stream",
     "text": [
      "Using cube for striatum\n",
      "Adding neurons: dSPN from dir $DATA/neurons/striatum/dspn\n",
      "Adding neurons: iSPN from dir $DATA/neurons/striatum/ispn\n",
      "Writing Fig2_network/network-config-0.json\n",
      "Using cube for striatum\n",
      "Adding neurons: dSPN from dir $DATA/neurons/striatum/dspn\n",
      "Adding neurons: iSPN from dir $DATA/neurons/striatum/ispn\n",
      "Writing Fig2_network/network-config-1.json\n",
      "Using cube for striatum\n",
      "Adding neurons: dSPN from dir $DATA/neurons/striatum/dspn\n",
      "Adding neurons: iSPN from dir $DATA/neurons/striatum/ispn\n",
      "Writing Fig2_network/network-config-2.json\n",
      "Using cube for striatum\n",
      "Adding neurons: dSPN from dir $DATA/neurons/striatum/dspn\n",
      "Adding neurons: iSPN from dir $DATA/neurons/striatum/ispn\n",
      "Writing Fig2_network/network-config-3.json\n",
      "Using cube for striatum\n",
      "Adding neurons: dSPN from dir $DATA/neurons/striatum/dspn\n",
      "Adding neurons: iSPN from dir $DATA/neurons/striatum/ispn\n",
      "Writing Fig2_network/network-config-4.json\n",
      "Using cube for striatum\n",
      "Adding neurons: dSPN from dir $DATA/neurons/striatum/dspn\n",
      "Adding neurons: iSPN from dir $DATA/neurons/striatum/ispn\n",
      "Writing Fig2_network/network-config-5.json\n"
     ]
    }
   ],
   "source": [
    "for config_name, nt in zip(config_list, network_type):\n",
    "    MethodsPaperFigure2.setup_network(network_path=network_path, config_name=config_name,\n",
    "                                      network_type=nt, n_neurons=network_size, random_seed=1234)"
   ]
  },
  {
   "cell_type": "code",
   "execution_count": 4,
   "id": "local-compact",
   "metadata": {},
   "outputs": [
    {
     "name": "stdout",
     "output_type": "stream",
     "text": [
      "No d_view specified, running distribute neurons in serial\n",
      "Processing hyper voxel : 31/125 (1000 neurons)\n",
      "Processing hyper voxel : 56/125 (888 neurons)\n",
      "Processing hyper voxel : 36/125 (775 neurons)\n",
      "Processing hyper voxel : 32/125 (727 neurons)\n",
      "Processing hyper voxel : 30/125 (618 neurons)\n",
      "Processing hyper voxel : 26/125 (574 neurons)\n",
      "Processing hyper voxel : 61/125 (513 neurons)\n",
      "Processing hyper voxel : 57/125 (460 neurons)\n",
      "Processing hyper voxel : 6/125 (440 neurons)\n",
      "Processing hyper voxel : 37/125 (381 neurons)\n",
      "Processing hyper voxel : 55/125 (374 neurons)\n",
      "Processing hyper voxel : 51/125 (344 neurons)\n",
      "Processing hyper voxel : 35/125 (273 neurons)\n",
      "Processing hyper voxel : 27/125 (215 neurons)\n",
      "Processing hyper voxel : 62/125 (208 neurons)\n",
      "Processing hyper voxel : 11/125 (184 neurons)\n",
      "Processing hyper voxel : 25/125 (167 neurons)\n",
      "Processing hyper voxel : 7/125 (157 neurons)\n",
      "Processing hyper voxel : 60/125 (130 neurons)\n",
      "Processing hyper voxel : 5/125 (119 neurons)\n",
      "Processing hyper voxel : 1/125 (109 neurons)\n",
      "Processing hyper voxel : 52/125 (105 neurons)\n",
      "Processing hyper voxel : 50/125 (91 neurons)\n",
      "Processing hyper voxel : 12/125 (55 neurons)\n",
      "Processing hyper voxel : 10/125 (37 neurons)\n",
      "Processing hyper voxel : 2/125 (30 neurons)\n",
      "Processing hyper voxel : 81/125 (21 neurons)\n",
      "Processing hyper voxel : 0/125 (16 neurons)\n",
      "Processing hyper voxel : 41/125 (6 neurons)\n",
      "Processing hyper voxel : 86/125 (4 neurons)\n",
      "Processing hyper voxel : 33/125 (4 neurons)\n",
      "Processing hyper voxel : 66/125 (3 neurons)\n",
      "Processing hyper voxel : 42/125 (3 neurons)\n",
      "Processing hyper voxel : 82/125 (2 neurons)\n",
      "Processing hyper voxel : 40/125 (2 neurons)\n",
      "Processing hyper voxel : 85/125 (1 neurons)\n",
      "Processing hyper voxel : 38/125 (1 neurons)\n",
      "Processing hyper voxel : 63/125 (1 neurons)\n",
      "Processing hyper voxel : 67/125 (1 neurons)\n",
      "Processing hyper voxel : 76/125 (1 neurons)\n",
      "Processing hyper voxel : 77/125 (1 neurons)\n"
     ]
    }
   ],
   "source": [
    "conf_file=os.path.join(network_path, config_list[-1])\n",
    "\n",
    "sp = SnuddaPlace(config_file=conf_file, rc=rc)\n",
    "sp.place()\n",
    "    \n",
    "sd = SnuddaDetect(config_file=conf_file, rc=rc)\n",
    "sd.detect()"
   ]
  },
  {
   "cell_type": "code",
   "execution_count": 13,
   "id": "vocational-horror",
   "metadata": {},
   "outputs": [
    {
     "name": "stdout",
     "output_type": "stream",
     "text": [
      "Worker synapses: 11/5605223 (heap size: 24)\n",
      "Worker synapses: 5605223/5605223 (heap size: 0)\n",
      "Read 5605223 out of total 5605223 synapses\n"
     ]
    }
   ],
   "source": [
    "network_file = os.path.join(network_path, \"network-synapses.hdf5\")\n",
    "    \n",
    "for config_name, new_network_file in zip(config_list, network_file_list):\n",
    "    config_file = os.path.join(network_path, config_name)\n",
    "    sp2 = SnuddaPrune(network_path=network_path, config_file=config_file, rc=rc, keep_files=True)\n",
    "    sp2.prune()\n",
    "    \n",
    "    # We need to save the network files with new names for each pruning\n",
    "    os.rename(network_file, new_network_file)"
   ]
  },
  {
   "cell_type": "code",
   "execution_count": 14,
   "id": "protective-joyce",
   "metadata": {
    "scrolled": false
   },
   "outputs": [
    {
     "name": "stdout",
     "output_type": "stream",
     "text": [
      "Loading Fig2_network/network-synapses-0.hdf5\n",
      "Assuming volume type: cube[cube or full]\n",
      "Only using 20000neurons of the connection data\n",
      "Loading 1000 neurons with 2028088 synapses and 0 gap junctions\n",
      "Number of neurons: 1000\n",
      "Synapse row 0 - 0.0 % time: 0.08970462599972961 seconds\n",
      "Synapse row 1000000 - 49.30752511725329 % time: 0.772011263999957 seconds\n",
      "Synapse row 1514044 - 74.65376255862665 % time: 1.1668020010001783 seconds\n",
      "Created connection matrix 1.552158311000312 seconds\n",
      "Created gap junction connection matrix 0.0005210219987930031 seconds\n",
      "Creating population dictionary\n",
      "Done.\n",
      "Warning: the analysis cube specified by sideLen is too large.\n",
      "!!! Setting sideLen to None\n",
      "Calculating synapse distance histogram\n",
      "Creating dist histogram\n",
      "nSynapses = 2028088, at 0\n",
      "nSynapses = 2028088, at 1000000\n",
      "nSynapses = 2028088, at 2000000\n",
      "Created distance histogram (optimised) in 2.344350478000706 seconds\n",
      "Saving cache to Fig2_network/network-synapses-0.hdf5-cache\n",
      "Loading Fig2_network/network-synapses-1.hdf5\n",
      "Assuming volume type: cube[cube or full]\n",
      "Only using 20000neurons of the connection data\n",
      "Loading 1000 neurons with 833943 synapses and 0 gap junctions\n",
      "Number of neurons: 1000\n",
      "Synapse row 0 - 0.0 % time: 0.06991713599927607 seconds\n",
      "Created connection matrix 0.8921267959995021 seconds\n",
      "Created gap junction connection matrix 0.0007256539993250044 seconds\n",
      "Creating population dictionary\n",
      "Done.\n",
      "Warning: the analysis cube specified by sideLen is too large.\n",
      "!!! Setting sideLen to None\n",
      "Calculating synapse distance histogram\n",
      "Creating dist histogram\n",
      "nSynapses = 833943, at 0\n",
      "Created distance histogram (optimised) in 0.9642793309994886 seconds\n",
      "Saving cache to Fig2_network/network-synapses-1.hdf5-cache\n",
      "Loading Fig2_network/network-synapses-2.hdf5\n",
      "Assuming volume type: cube[cube or full]\n",
      "Only using 20000neurons of the connection data\n",
      "Loading 1000 neurons with 415942 synapses and 0 gap junctions\n",
      "Number of neurons: 1000\n",
      "Synapse row 0 - 0.0 % time: 0.036684493999928236 seconds\n",
      "Created connection matrix 0.604701397000099 seconds\n",
      "Created gap junction connection matrix 0.00043220299994572997 seconds\n",
      "Creating population dictionary\n",
      "Done.\n",
      "Warning: the analysis cube specified by sideLen is too large.\n",
      "!!! Setting sideLen to None\n",
      "Calculating synapse distance histogram\n",
      "Creating dist histogram\n",
      "nSynapses = 415942, at 0\n",
      "Created distance histogram (optimised) in 0.4875008520011761 seconds\n",
      "Saving cache to Fig2_network/network-synapses-2.hdf5-cache\n",
      "Loading Fig2_network/network-synapses-3.hdf5\n",
      "Assuming volume type: cube[cube or full]\n",
      "Only using 20000neurons of the connection data\n",
      "Loading 1000 neurons with 411971 synapses and 0 gap junctions\n",
      "Number of neurons: 1000\n",
      "Synapse row 0 - 0.0 % time: 0.038656819000607356 seconds\n",
      "Created connection matrix 0.6140913369999907 seconds\n",
      "Created gap junction connection matrix 0.0006013279999024235 seconds\n",
      "Creating population dictionary\n",
      "Done.\n",
      "Warning: the analysis cube specified by sideLen is too large.\n",
      "!!! Setting sideLen to None\n",
      "Calculating synapse distance histogram\n",
      "Creating dist histogram\n",
      "nSynapses = 411971, at 0\n",
      "Created distance histogram (optimised) in 0.5005904390000069 seconds\n",
      "Saving cache to Fig2_network/network-synapses-3.hdf5-cache\n",
      "Loading Fig2_network/network-synapses-4.hdf5\n",
      "Assuming volume type: cube[cube or full]\n",
      "Only using 20000neurons of the connection data\n",
      "Loading 1000 neurons with 316459 synapses and 0 gap junctions\n",
      "Number of neurons: 1000\n",
      "Synapse row 0 - 0.0 % time: 0.028272499001104734 seconds\n",
      "Created connection matrix 0.3490884830007417 seconds\n",
      "Created gap junction connection matrix 0.0008979260001069633 seconds\n",
      "Creating population dictionary\n",
      "Done.\n",
      "Warning: the analysis cube specified by sideLen is too large.\n",
      "!!! Setting sideLen to None\n",
      "Calculating synapse distance histogram\n",
      "Creating dist histogram\n",
      "nSynapses = 316459, at 0\n",
      "Created distance histogram (optimised) in 0.36540415700073936 seconds\n",
      "Saving cache to Fig2_network/network-synapses-4.hdf5-cache\n",
      "Loading Fig2_network/network-synapses-5.hdf5\n",
      "Assuming volume type: cube[cube or full]\n",
      "Only using 20000neurons of the connection data\n",
      "Loading 1000 neurons with 316459 synapses and 0 gap junctions\n",
      "Number of neurons: 1000\n",
      "Synapse row 0 - 0.0 % time: 0.031355709999843384 seconds\n",
      "Created connection matrix 0.37829745699855266 seconds\n",
      "Created gap junction connection matrix 0.0005642560008709552 seconds\n",
      "Creating population dictionary\n",
      "Done.\n",
      "Warning: the analysis cube specified by sideLen is too large.\n",
      "!!! Setting sideLen to None\n",
      "Calculating synapse distance histogram\n",
      "Creating dist histogram\n",
      "nSynapses = 316459, at 0\n",
      "Created distance histogram (optimised) in 0.39106644300045446 seconds\n",
      "Saving cache to Fig2_network/network-synapses-5.hdf5-cache\n",
      "Centering in Striatum : Keeping 500/500\n",
      "Counting connections\n"
     ]
    },
    {
     "name": "stderr",
     "output_type": "stream",
     "text": [
      "/home/hjorth/HBP/Snudda/snudda/analyse/analyse.py:1419: RuntimeWarning: invalid value encountered in true_divide\n",
      "  p_con = np.divide(count_con, count_all)\n"
     ]
    },
    {
     "name": "stdout",
     "output_type": "stream",
     "text": [
      "Requested: 10000000.0 calculated [128372.]\n",
      "Rejected (too large z-depth): 121628\n",
      "Centering in Striatum : Keeping 500/500\n",
      "Counting connections\n"
     ]
    },
    {
     "name": "stderr",
     "output_type": "stream",
     "text": [
      "/home/hjorth/HBP/Snudda/snudda/analyse/analyse.py:1419: RuntimeWarning: invalid value encountered in true_divide\n",
      "  p_con = np.divide(count_con, count_all)\n"
     ]
    },
    {
     "name": "stdout",
     "output_type": "stream",
     "text": [
      "Requested: 10000000.0 calculated [128372.]\n",
      "Rejected (too large z-depth): 121628\n",
      "Centering in Striatum : Keeping 500/500\n",
      "Counting connections\n"
     ]
    },
    {
     "name": "stderr",
     "output_type": "stream",
     "text": [
      "/home/hjorth/HBP/Snudda/snudda/analyse/analyse.py:1419: RuntimeWarning: invalid value encountered in true_divide\n",
      "  p_con = np.divide(count_con, count_all)\n"
     ]
    },
    {
     "name": "stdout",
     "output_type": "stream",
     "text": [
      "Requested: 10000000.0 calculated [128372.]\n",
      "Rejected (too large z-depth): 121628\n",
      "Centering in Striatum : Keeping 500/500\n",
      "Counting connections\n"
     ]
    },
    {
     "name": "stderr",
     "output_type": "stream",
     "text": [
      "/home/hjorth/HBP/Snudda/snudda/analyse/analyse.py:1419: RuntimeWarning: invalid value encountered in true_divide\n",
      "  p_con = np.divide(count_con, count_all)\n"
     ]
    },
    {
     "name": "stdout",
     "output_type": "stream",
     "text": [
      "Requested: 10000000.0 calculated [128372.]\n",
      "Rejected (too large z-depth): 121628\n",
      "Centering in Striatum : Keeping 500/500\n",
      "Counting connections\n"
     ]
    },
    {
     "name": "stderr",
     "output_type": "stream",
     "text": [
      "/home/hjorth/HBP/Snudda/snudda/analyse/analyse.py:1419: RuntimeWarning: invalid value encountered in true_divide\n",
      "  p_con = np.divide(count_con, count_all)\n"
     ]
    },
    {
     "name": "stdout",
     "output_type": "stream",
     "text": [
      "Requested: 10000000.0 calculated [128372.]\n",
      "Rejected (too large z-depth): 121628\n",
      "Centering in Striatum : Keeping 500/500\n",
      "Counting connections\n",
      "Requested: 10000000.0 calculated [128372.]\n",
      "Rejected (too large z-depth): 121628\n"
     ]
    },
    {
     "name": "stderr",
     "output_type": "stream",
     "text": [
      "/home/hjorth/HBP/Snudda/snudda/analyse/analyse.py:1419: RuntimeWarning: invalid value encountered in true_divide\n",
      "  p_con = np.divide(count_con, count_all)\n"
     ]
    },
    {
     "data": {
      "image/png": "[encoded data removed]",
      "text/plain": [
       "<Figure size 432x288 with 1 Axes>"
      ]
     },
     "metadata": {
      "needs_background": "light"
     },
     "output_type": "display_data"
    },
    {
     "name": "stdout",
     "output_type": "stream",
     "text": [
      "Wrote Fig2_network/figures/Summary-pruning-dist-dep-connection-probability-iSPN-to-dSPN-synapses.png\n",
      "Centering in Striatum : Keeping 500/500\n",
      "Calculating max synapses\n",
      "Plotting 176726 connections\n",
      "Centering in Striatum : Keeping 500/500\n",
      "Calculating max synapses\n",
      "Plotting 154400 connections\n",
      "Centering in Striatum : Keeping 500/500\n",
      "Calculating max synapses\n",
      "Plotting 97541 connections\n",
      "Centering in Striatum : Keeping 500/500\n",
      "Calculating max synapses\n",
      "Plotting 97541 connections\n",
      "Centering in Striatum : Keeping 500/500\n",
      "Calculating max synapses\n",
      "Plotting 24610 connections\n",
      "Centering in Striatum : Keeping 500/500\n",
      "Calculating max synapses\n",
      "Plotting 24610 connections\n"
     ]
    },
    {
     "data": {
      "image/png": "[encoded data removed]",
      "text/plain": [
       "<Figure size 432x288 with 1 Axes>"
      ]
     },
     "metadata": {
      "needs_background": "light"
     },
     "output_type": "display_data"
    },
    {
     "name": "stdout",
     "output_type": "stream",
     "text": [
      "Wrote Fig2_network/figures/Summary-network-number-of-synapses-from-iSPN-to-dSPN-per-cell.png\n"
     ]
    },
    {
     "data": {
      "image/png": "[encoded data removed]",
      "text/plain": [
       "<Figure size 432x288 with 1 Axes>"
      ]
     },
     "metadata": {
      "needs_background": "light"
     },
     "output_type": "display_data"
    },
    {
     "name": "stdout",
     "output_type": "stream",
     "text": [
      "Wrote Fig2_network/figures/Summary-cumDist-of-synapses-from-iSPN-to-dSPN-per-cell.png\n"
     ]
    }
   ],
   "source": [
    "mpf = MethodsPaperFigure2(network_file_list=network_file_list)\n",
    "mpf.make_connection_probability_summary('iSPN', 'dSPN')\n",
    "mpf.make_num_synapses_summary_figure('iSPN', 'dSPN')\n",
    "mpf.summary_plot_cum_dist('iSPN', 'dSPN')"
   ]
  },
  {
   "cell_type": "markdown",
   "id": "parallel-charm",
   "metadata": {},
   "source": []
  },
  {
   "cell_type": "code",
   "execution_count": 10,
   "id": "stupid-guide",
   "metadata": {},
   "outputs": [
    {
     "data": {
      "text/plain": [
       "['network-config-0.json',\n",
       " 'network-config-1.json',\n",
       " 'network-config-2.json',\n",
       " 'network-config-3.json',\n",
       " 'network-config-4.json',\n",
       " 'network-config-5.json']"
      ]
     },
     "execution_count": 10,
     "metadata": {},
     "output_type": "execute_result"
    }
   ],
   "source": []
  },
  {
   "cell_type": "code",
   "execution_count": null,
   "id": "bearing-ensemble",
   "metadata": {},
   "outputs": [],
   "source": []
  }
 ],
 "metadata": {
  "kernelspec": {
   "display_name": "Python 3",
   "language": "python",
   "name": "python3"
  },
  "language_info": {
   "codemirror_mode": {
    "name": "ipython",
    "version": 3
   },
   "file_extension": ".py",
   "mimetype": "text/x-python",
   "name": "python",
   "nbconvert_exporter": "python",
   "pygments_lexer": "ipython3",
   "version": "3.7.3"
  }
 },
 "nbformat": 4,
 "nbformat_minor": 5
}
