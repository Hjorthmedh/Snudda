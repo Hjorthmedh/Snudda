{
 "cells": [
  {
   "cell_type": "markdown",
   "id": "interstate-chapel",
   "metadata": {},
   "source": [
    "# Figure 2 in Hjorth et al, 2021 Neuroinformatics paper"
   ]
  },
  {
   "cell_type": "markdown",
   "id": "increasing-grade",
   "metadata": {},
   "source": [
    "This code can be run in parallel. To do that, please first start ```ipcluster```, on linux you write the following into the terminal, note that you should be in the same directory as the notebook is in (```examples/Neurinformatics2021/Figure2```):\n",
    "\n",
    "```\n",
    "export IPYTHONDIR=\"`pwd`/.ipython\"\n",
    "export IPYTHON_PROFILE=default\n",
    "ipcluster start \n",
    "```\n",
    "\n",
    "These commands are in ```start_ipcluster.sh``` in the ```examples/notebook``` directory. After starting ipcluster give it a few seconds to get fully up and running before proceeding with the rest of the commands in this notebook. \n",
    "\n",
    "If you restart the run you might need to do:\n",
    "\n",
    "```\n",
    "ipcluster stop\n",
    "ipcluster start\n",
    "```\n",
    "\n",
    "For instructions how to install and activate ipyparallel for your notebook see \n",
    "https://github.com/ipython/ipyparallel"
   ]
  },
  {
   "cell_type": "code",
   "execution_count": 1,
   "id": "dried-schedule",
   "metadata": {},
   "outputs": [],
   "source": [
    "import os\n",
    "from ipyparallel import Client\n",
    "\n",
    "os.environ[\"IPYTHONDIR\"] = \".ipython\"\n",
    "os.environ[\"IPYTHON_PROFILE\"] = \"default\"\n",
    "\n",
    "u_file = os.path.join(\".ipython\", \"profile_default\", \"security\", \"ipcontroller-client.json\")\n",
    "if os.path.exists(u_file):\n",
    "    rc = Client(url_file=u_file, timeout=120, debug=False)\n",
    "else:\n",
    "    print(\"Warning, running in serial.\")\n",
    "    rc = None"
   ]
  },
  {
   "cell_type": "code",
   "execution_count": 2,
   "id": "coupled-piece",
   "metadata": {},
   "outputs": [],
   "source": [
    "from methods_paper_figure2 import MethodsPaperFigure2\n",
    "from snudda import SnuddaPlace\n",
    "from snudda import SnuddaDetect\n",
    "from snudda import SnuddaPrune\n",
    "\n",
    "network_type = ['No pruning',\n",
    "                'DP',\n",
    "                'DP, f1',\n",
    "                'DP, f1, SM',\n",
    "                'DP, f1, SM, mu2']\n",
    "\n",
    "network_size = 10000\n",
    "network_path = \"Fig2_network\"\n",
    "config_list = []\n",
    "network_file_list = []\n",
    "\n",
    "for idx, nt in enumerate(network_type):\n",
    "    config_name = os.path.join(f\"network-config-{idx}.json\")\n",
    "    config_list.append(config_name)\n",
    "    network_file = os.path.join(network_path, f\"network-synapses-{idx}.hdf5\")\n",
    "    network_file_list.append(network_file)"
   ]
  },
  {
   "cell_type": "code",
   "execution_count": 3,
   "id": "improved-orlando",
   "metadata": {},
   "outputs": [
    {
     "name": "stdout",
     "output_type": "stream",
     "text": [
      "Using cube for striatum\n",
      "Adding neurons: dSPN from dir $DATA/neurons/striatum/dspn\n",
      "Adding neurons: iSPN from dir $DATA/neurons/striatum/ispn\n",
      "Writing Fig2_network/network-config-0.json\n",
      "Using cube for striatum\n",
      "Adding neurons: dSPN from dir $DATA/neurons/striatum/dspn\n",
      "Adding neurons: iSPN from dir $DATA/neurons/striatum/ispn\n",
      "Writing Fig2_network/network-config-1.json\n",
      "Using cube for striatum\n",
      "Adding neurons: dSPN from dir $DATA/neurons/striatum/dspn\n",
      "Adding neurons: iSPN from dir $DATA/neurons/striatum/ispn\n",
      "Writing Fig2_network/network-config-2.json\n",
      "Using cube for striatum\n",
      "Adding neurons: dSPN from dir $DATA/neurons/striatum/dspn\n",
      "Adding neurons: iSPN from dir $DATA/neurons/striatum/ispn\n",
      "Writing Fig2_network/network-config-3.json\n",
      "Using cube for striatum\n",
      "Adding neurons: dSPN from dir $DATA/neurons/striatum/dspn\n",
      "Adding neurons: iSPN from dir $DATA/neurons/striatum/ispn\n",
      "Writing Fig2_network/network-config-4.json\n"
     ]
    }
   ],
   "source": [
    "for config_name, nt in zip(config_list, network_type):\n",
    "    MethodsPaperFigure2.setup_network(network_path=network_path, config_name=config_name,\n",
    "                                      network_type=nt, n_neurons=network_size, random_seed=1234)"
   ]
  },
  {
   "cell_type": "code",
   "execution_count": 4,
   "id": "local-compact",
   "metadata": {},
   "outputs": [
    {
     "name": "stdout",
     "output_type": "stream",
     "text": [
      "importing SnuddaDetect from snudda.detect.detect on engine(s)\n",
      "HyperID 50 completed - 14810752 synapses found (427.7 s)\n",
      "HyperID 80 completed - 15399133 synapses found (463.2 s)\n",
      "HyperID 85 completed - 15459340 synapses found (477.6 s)\n",
      "HyperID 86 completed - 19976081 synapses found (603.0 s)\n",
      "HyperID 43 completed - 8892989 synapses found (284.1 s)\n",
      "HyperID 44 completed - 12563128 synapses found (461.4 s)\n",
      "HyperID 79 completed - 11482446 synapses found (432.4 s)\n",
      "HyperID 49 completed - 11687714 synapses found (431.6 s)\n",
      "Suppressing printouts for hyper voxels that complete in < 100 seconds.\n",
      "HyperID 116 completed - 216275 synapses found (108.3 s)\n"
     ]
    }
   ],
   "source": [
    "conf_file=os.path.join(network_path, config_list[-1])\n",
    "\n",
    "sp = SnuddaPlace(config_file=conf_file, rc=rc)\n",
    "sp.place()\n",
    "del sp\n",
    "    \n",
    "sd = SnuddaDetect(config_file=conf_file, rc=rc)\n",
    "sd.detect()\n",
    "del sd  # Clean up memory"
   ]
  },
  {
   "cell_type": "code",
   "execution_count": 5,
   "id": "protective-variation",
   "metadata": {},
   "outputs": [
    {
     "name": "stdout",
     "output_type": "stream",
     "text": [
      "Using config_file=Fig2_network/network-config-0.json\n",
      "importing SnuddaPrune from snudda.detect.prune on engine(s)\n",
      "prune_synapses_parallel (39800420/112960223 synapses, 35.2% kept): 569.6s\n",
      "prune_synapses_parallel (0/0 gapJunctions, 0.0% kept): 0.0s\n",
      "Using config_file=Fig2_network/network-config-1.json\n",
      "importing SnuddaPrune from snudda.detect.prune on engine(s)\n",
      "prune_synapses_parallel (17681094/112960223 synapses, 15.7% kept): 605.5s\n",
      "prune_synapses_parallel (0/0 gapJunctions, 0.0% kept): 0.0s\n",
      "Using config_file=Fig2_network/network-config-2.json\n",
      "importing SnuddaPrune from snudda.detect.prune on engine(s)\n",
      "prune_synapses_parallel (8709920/112960223 synapses, 7.7% kept): 597.7s\n",
      "prune_synapses_parallel (0/0 gapJunctions, 0.0% kept): 0.0s\n",
      "Using config_file=Fig2_network/network-config-3.json\n",
      "importing SnuddaPrune from snudda.detect.prune on engine(s)\n",
      "prune_synapses_parallel (8645061/112960223 synapses, 7.7% kept): 600.7s\n",
      "prune_synapses_parallel (0/0 gapJunctions, 0.0% kept): 0.0s\n",
      "Using config_file=Fig2_network/network-config-4.json\n",
      "importing SnuddaPrune from snudda.detect.prune on engine(s)\n",
      "prune_synapses_parallel (6314346/112960223 synapses, 5.6% kept): 710.0s\n",
      "prune_synapses_parallel (0/0 gapJunctions, 0.0% kept): 0.0s\n"
     ]
    }
   ],
   "source": [
    "network_file = os.path.join(network_path, \"network-synapses.hdf5\")\n",
    "    \n",
    "for config_name, new_network_file in zip(config_list, network_file_list):\n",
    "    config_file = os.path.join(network_path, config_name)\n",
    "    print(f\"Using config_file={config_file}\")\n",
    "    sp2 = SnuddaPrune(network_path=network_path, config_file=config_file, rc=rc, keep_files=True)\n",
    "    sp2.prune()\n",
    "    del sp2\n",
    "    \n",
    "    # We need to save the network files with new names for each pruning\n",
    "    os.rename(network_file, new_network_file)"
   ]
  },
  {
   "cell_type": "code",
   "execution_count": 6,
   "id": "protective-joyce",
   "metadata": {
    "scrolled": false
   },
   "outputs": [
    {
     "name": "stdout",
     "output_type": "stream",
     "text": [
      "Loading Fig2_network/network-synapses-0.hdf5\n",
      "Assuming volume type: cube[cube or full]\n",
      "Only using 20000neurons of the connection data\n",
      "Loading 10000 neurons with 39800420 synapses and 0 gap junctions\n",
      "Number of neurons: 10000\n",
      "Synapse row 0 - 0.0 % time: 0.1160094709994155 seconds\n",
      "Synapse row 1000000 - 2.5125362998681924 % time: 1.022414058999857 seconds\n",
      "Synapse row 1994882 - 5.012213438953659 % time: 1.9049047200023779 seconds\n",
      "Synapse row 2989765 - 7.511893090575426 % time: 2.835804571001063 seconds\n",
      "Synapse row 3984647 - 10.011570229660894 % time: 3.744320013000106 seconds\n",
      "Synapse row 4979530 - 12.51124988128266 % time: 4.63609511300092 seconds\n",
      "Synapse row 5974412 - 15.010927020368127 % time: 5.532793722999486 seconds\n",
      "Synapse row 6969295 - 17.510606671989894 % time: 6.440695004999725 seconds\n",
      "Synapse row 7964177 - 20.01028381107536 % time: 7.349490202999732 seconds\n",
      "Synapse row 8959060 - 22.509963462697126 % time: 8.225341568002477 seconds\n",
      "Synapse row 9953943 - 25.009643114318894 % time: 9.128574875001505 seconds\n",
      "Synapse row 10948825 - 27.50932025340436 % time: 9.994005723001465 seconds\n",
      "Synapse row 11943708 - 30.008999905026126 % time: 10.885420653001347 seconds\n",
      "Synapse row 12938590 - 32.50867704411159 % time: 11.752093888000672 seconds\n",
      "Synapse row 13933473 - 35.00835669573336 % time: 12.648607299001014 seconds\n",
      "Synapse row 14928355 - 37.50803383481883 % time: 13.514152881001792 seconds\n",
      "Synapse row 15923238 - 40.00771348644059 % time: 14.40279852200183 seconds\n",
      "Synapse row 16918121 - 42.50739313806236 % time: 15.288492703002703 seconds\n",
      "Synapse row 17913003 - 45.00707027714783 % time: 16.159351670001342 seconds\n",
      "Synapse row 18907886 - 47.506749928769594 % time: 17.018957121999847 seconds\n",
      "Synapse row 19902768 - 50.006427067855064 % time: 17.934110654001415 seconds\n",
      "Synapse row 20897651 - 52.50610671947683 % time: 18.802382267000212 seconds\n",
      "Synapse row 21892533 - 55.005783858562296 % time: 19.661459765000473 seconds\n",
      "Synapse row 22887416 - 57.505463510184065 % time: 20.520420617001946 seconds\n",
      "Synapse row 23882298 - 60.00514064926953 % time: 21.461278523001965 seconds\n",
      "Synapse row 24877181 - 62.504820300891296 % time: 22.354878469999676 seconds\n",
      "Synapse row 25872064 - 65.00449995251306 % time: 23.242375907000678 seconds\n",
      "Synapse row 26866946 - 67.50417709159854 % time: 24.1696149039999 seconds\n",
      "Synapse row 27861829 - 70.0038567432203 % time: 25.076935785000387 seconds\n",
      "Synapse row 28856711 - 72.50353388230576 % time: 25.977062816000398 seconds\n",
      "Synapse row 29851594 - 75.00321353392754 % time: 26.882187156999862 seconds\n",
      "Synapse row 30846476 - 77.502890673013 % time: 27.783953604001 seconds\n",
      "Synapse row 31841359 - 80.00257032463476 % time: 28.66298963600275 seconds\n",
      "Synapse row 32836242 - 82.50224997625654 % time: 29.563085069999943 seconds\n",
      "Synapse row 33831124 - 85.001927115342 % time: 30.462073437000072 seconds\n",
      "Synapse row 34826007 - 87.50160676696376 % time: 31.34142141600023 seconds\n",
      "Synapse row 35820889 - 90.00128390604924 % time: 32.32734543500192 seconds\n",
      "Synapse row 36815772 - 92.500963557671 % time: 33.29194375999941 seconds\n",
      "Synapse row 37810654 - 95.00064069675646 % time: 34.267692039000394 seconds\n",
      "Synapse row 38805537 - 97.50032034837824 % time: 35.13543735900021 seconds\n",
      "Created connection matrix 35.95857178500228 seconds\n",
      "Created gap junction connection matrix 0.06151602200043271 seconds\n",
      "Creating population dictionary\n",
      "Done.\n",
      "Taking corner neurons: Keeping 10000/10000\n",
      "Calculating synapse distance histogram\n",
      "Creating dist histogram\n",
      "nSynapses = 39800420, at 0\n",
      "nSynapses = 39800420, at 1000000\n",
      "nSynapses = 39800420, at 2000000\n",
      "nSynapses = 39800420, at 3000000\n",
      "nSynapses = 39800420, at 4000000\n",
      "nSynapses = 39800420, at 5000000\n",
      "nSynapses = 39800420, at 6000000\n",
      "nSynapses = 39800420, at 7000000\n",
      "nSynapses = 39800420, at 8000000\n",
      "nSynapses = 39800420, at 9000000\n",
      "nSynapses = 39800420, at 10000000\n",
      "nSynapses = 39800420, at 11000000\n",
      "nSynapses = 39800420, at 12000000\n",
      "nSynapses = 39800420, at 13000000\n",
      "nSynapses = 39800420, at 14000000\n",
      "nSynapses = 39800420, at 15000000\n",
      "nSynapses = 39800420, at 16000000\n",
      "nSynapses = 39800420, at 17000000\n",
      "nSynapses = 39800420, at 18000000\n",
      "nSynapses = 39800420, at 19000000\n",
      "nSynapses = 39800420, at 20000000\n",
      "nSynapses = 39800420, at 21000000\n",
      "nSynapses = 39800420, at 22000000\n",
      "nSynapses = 39800420, at 23000000\n",
      "nSynapses = 39800420, at 24000000\n",
      "nSynapses = 39800420, at 25000000\n",
      "nSynapses = 39800420, at 26000000\n",
      "nSynapses = 39800420, at 27000000\n",
      "nSynapses = 39800420, at 28000000\n",
      "nSynapses = 39800420, at 29000000\n",
      "nSynapses = 39800420, at 30000000\n",
      "nSynapses = 39800420, at 31000000\n",
      "nSynapses = 39800420, at 32000000\n",
      "nSynapses = 39800420, at 33000000\n",
      "nSynapses = 39800420, at 34000000\n",
      "nSynapses = 39800420, at 35000000\n",
      "nSynapses = 39800420, at 36000000\n",
      "nSynapses = 39800420, at 37000000\n",
      "nSynapses = 39800420, at 38000000\n",
      "nSynapses = 39800420, at 39000000\n",
      "Created distance histogram (optimised) in 45.68401162199734 seconds\n",
      "Saving cache to Fig2_network/network-synapses-0.hdf5-cache\n",
      "Loading Fig2_network/network-synapses-1.hdf5\n",
      "Assuming volume type: cube[cube or full]\n",
      "Only using 20000neurons of the connection data\n",
      "Loading 10000 neurons with 17681094 synapses and 0 gap junctions\n",
      "Number of neurons: 10000\n",
      "Synapse row 0 - 0.0 % time: 0.10936206599944853 seconds\n",
      "Synapse row 1000000 - 5.655758631224968 % time: 1.3397736170009011 seconds\n",
      "Synapse row 1981240 - 11.205415230528157 % time: 2.655419422000705 seconds\n",
      "Synapse row 2962481 - 16.755077485589975 % time: 3.851244018002035 seconds\n",
      "Synapse row 3943722 - 22.304739740651794 % time: 5.063078351002332 seconds\n",
      "Synapse row 4924963 - 27.854401995713612 % time: 6.24542928700248 seconds\n",
      "Synapse row 5906204 - 33.404064250775434 % time: 7.421940445001383 seconds\n",
      "Synapse row 6887444 - 38.95372085007862 % time: 8.597587522999675 seconds\n",
      "Synapse row 7868685 - 44.50338310514044 % time: 9.816941085999133 seconds\n",
      "Synapse row 8849926 - 50.05304536020226 % time: 10.99943227499898 seconds\n",
      "Synapse row 9831167 - 55.60270761526408 % time: 12.18189793000056 seconds\n",
      "Synapse row 10812408 - 61.1523698703259 % time: 13.372923531002016 seconds\n",
      "Synapse row 11793649 - 66.70203212538772 % time: 14.560235201999603 seconds\n",
      "Synapse row 12774889 - 72.25168872469091 % time: 15.872285573001136 seconds\n",
      "Synapse row 13756130 - 77.80135097975273 % time: 17.46462722200158 seconds\n",
      "Synapse row 14737371 - 83.35101323481454 % time: 18.788072891999036 seconds\n",
      "Synapse row 15718612 - 88.90067548987636 % time: 20.11027581700182 seconds\n",
      "Synapse row 16699853 - 94.45033774493818 % time: 21.347230665000097 seconds\n",
      "Created connection matrix 22.489728528998967 seconds\n",
      "Created gap junction connection matrix 0.003509666999889305 seconds\n",
      "Creating population dictionary\n",
      "Done.\n",
      "Taking corner neurons: Keeping 10000/10000\n",
      "Calculating synapse distance histogram\n",
      "Creating dist histogram\n",
      "nSynapses = 17681094, at 0\n",
      "nSynapses = 17681094, at 1000000\n",
      "nSynapses = 17681094, at 2000000\n",
      "nSynapses = 17681094, at 3000000\n",
      "nSynapses = 17681094, at 4000000\n",
      "nSynapses = 17681094, at 5000000\n",
      "nSynapses = 17681094, at 6000000\n",
      "nSynapses = 17681094, at 7000000\n",
      "nSynapses = 17681094, at 8000000\n",
      "nSynapses = 17681094, at 9000000\n",
      "nSynapses = 17681094, at 10000000\n",
      "nSynapses = 17681094, at 11000000\n",
      "nSynapses = 17681094, at 12000000\n",
      "nSynapses = 17681094, at 13000000\n",
      "nSynapses = 17681094, at 14000000\n",
      "nSynapses = 17681094, at 15000000\n",
      "nSynapses = 17681094, at 16000000\n",
      "nSynapses = 17681094, at 17000000\n",
      "Created distance histogram (optimised) in 20.173035561998404 seconds\n",
      "Saving cache to Fig2_network/network-synapses-1.hdf5-cache\n",
      "Loading Fig2_network/network-synapses-2.hdf5\n",
      "Assuming volume type: cube[cube or full]\n",
      "Only using 20000neurons of the connection data\n",
      "Loading 10000 neurons with 8709920 synapses and 0 gap junctions\n",
      "Number of neurons: 10000\n",
      "Synapse row 0 - 0.0 % time: 0.11260551599843893 seconds\n",
      "Synapse row 1000000 - 11.481161709866452 % time: 1.5775598309992347 seconds\n",
      "Synapse row 1963740 - 22.546016496133145 % time: 2.9733211399980064 seconds\n",
      "Synapse row 2927480 - 33.61087128239984 % time: 4.3927357629982 seconds\n",
      "Synapse row 3891220 - 44.675726068666535 % time: 5.779023944000073 seconds\n",
      "Synapse row 4854960 - 55.74058085493323 % time: 7.1855242749988975 seconds\n",
      "Synapse row 5818700 - 66.80543564119992 % time: 8.585597270001017 seconds\n"
     ]
    },
    {
     "name": "stdout",
     "output_type": "stream",
     "text": [
      "Synapse row 6782440 - 77.87029042746661 % time: 10.091985950999515 seconds\n",
      "Synapse row 7746180 - 88.9351452137333 % time: 11.484942030998354 seconds\n",
      "Created connection matrix 12.772752548000426 seconds\n",
      "Created gap junction connection matrix 2.73568954700022 seconds\n",
      "Creating population dictionary\n",
      "Done.\n",
      "Taking corner neurons: Keeping 10000/10000\n",
      "Calculating synapse distance histogram\n",
      "Creating dist histogram\n",
      "nSynapses = 8709920, at 0\n",
      "nSynapses = 8709920, at 1000000\n",
      "nSynapses = 8709920, at 2000000\n",
      "nSynapses = 8709920, at 3000000\n",
      "nSynapses = 8709920, at 4000000\n",
      "nSynapses = 8709920, at 5000000\n",
      "nSynapses = 8709920, at 6000000\n",
      "nSynapses = 8709920, at 7000000\n",
      "nSynapses = 8709920, at 8000000\n",
      "Created distance histogram (optimised) in 10.416295638999145 seconds\n",
      "Saving cache to Fig2_network/network-synapses-2.hdf5-cache\n",
      "Loading Fig2_network/network-synapses-3.hdf5\n",
      "Assuming volume type: cube[cube or full]\n",
      "Only using 20000neurons of the connection data\n",
      "Loading 10000 neurons with 8645061 synapses and 0 gap junctions\n",
      "Number of neurons: 10000\n",
      "Synapse row 0 - 0.0 % time: 0.1053310679999413 seconds\n",
      "Synapse row 1000000 - 11.567298368397863 % time: 1.6244154820014955 seconds\n",
      "Synapse row 1955632 - 22.62137884278665 % time: 3.0261091210013547 seconds\n",
      "Synapse row 2911265 - 33.6754708844738 % time: 4.470510030001606 seconds\n",
      "Synapse row 3866897 - 44.729551358862594 % time: 5.881053238001186 seconds\n",
      "Synapse row 4822530 - 55.78364340054975 % time: 7.282483178001712 seconds\n",
      "Synapse row 5778163 - 66.8377354422369 % time: 8.68017219900139 seconds\n",
      "Synapse row 6733795 - 77.89181591662569 % time: 10.05771916500089 seconds\n",
      "Synapse row 7689428 - 88.94590795831284 % time: 11.451780392999353 seconds\n",
      "Created connection matrix 12.729620210000576 seconds\n",
      "Created gap junction connection matrix 0.0033064170020224992 seconds\n",
      "Creating population dictionary\n",
      "Done.\n",
      "Taking corner neurons: Keeping 10000/10000\n",
      "Calculating synapse distance histogram\n",
      "Creating dist histogram\n",
      "nSynapses = 8645061, at 0\n",
      "nSynapses = 8645061, at 1000000\n",
      "nSynapses = 8645061, at 2000000\n",
      "nSynapses = 8645061, at 3000000\n",
      "nSynapses = 8645061, at 4000000\n",
      "nSynapses = 8645061, at 5000000\n",
      "nSynapses = 8645061, at 6000000\n",
      "nSynapses = 8645061, at 7000000\n",
      "nSynapses = 8645061, at 8000000\n",
      "Created distance histogram (optimised) in 9.840664426999865 seconds\n",
      "Saving cache to Fig2_network/network-synapses-3.hdf5-cache\n",
      "Loading Fig2_network/network-synapses-4.hdf5\n",
      "Assuming volume type: cube[cube or full]\n",
      "Only using 20000neurons of the connection data\n",
      "Loading 10000 neurons with 6314346 synapses and 0 gap junctions\n",
      "Number of neurons: 10000\n",
      "Synapse row 0 - 0.0 % time: 0.11154354899917962 seconds\n",
      "Synapse row 1000000 - 15.836952868911522 % time: 1.3611013810004806 seconds\n",
      "Synapse row 1885724 - 29.864122111775313 % time: 2.4232765349988767 seconds\n",
      "Synapse row 2771448 - 43.8912913546391 % time: 3.50523431900001 seconds\n",
      "Synapse row 3657173 - 57.91847643445576 % time: 4.57959987799768 seconds\n",
      "Synapse row 4542897 - 71.94564567731955 % time: 5.659451280000212 seconds\n",
      "Synapse row 5428621 - 85.97281492018334 % time: 6.73333407699829 seconds\n",
      "Created connection matrix 7.704318890999275 seconds\n",
      "Created gap junction connection matrix 0.003363273001014022 seconds\n",
      "Creating population dictionary\n",
      "Done.\n",
      "Taking corner neurons: Keeping 10000/10000\n",
      "Calculating synapse distance histogram\n",
      "Creating dist histogram\n",
      "nSynapses = 6314346, at 0\n",
      "nSynapses = 6314346, at 1000000\n",
      "nSynapses = 6314346, at 2000000\n",
      "nSynapses = 6314346, at 3000000\n",
      "nSynapses = 6314346, at 4000000\n",
      "nSynapses = 6314346, at 5000000\n",
      "nSynapses = 6314346, at 6000000\n",
      "Created distance histogram (optimised) in 7.182014396003069 seconds\n",
      "Saving cache to Fig2_network/network-synapses-4.hdf5-cache\n",
      "Centering in Striatum : Keeping 5000/5000\n",
      "Counting connections\n"
     ]
    },
    {
     "name": "stderr",
     "output_type": "stream",
     "text": [
      "/home/hjorth/HBP/Snudda/snudda/analyse/analyse.py:1419: RuntimeWarning: invalid value encountered in true_divide\n",
      "  p_con = np.divide(count_con, count_all)\n"
     ]
    },
    {
     "name": "stdout",
     "output_type": "stream",
     "text": [
      "Requested: 10000000.0 calculated [2606190.]\n",
      "Rejected (too large z-depth): 7393810\n",
      "Centering in Striatum : Keeping 5000/5000\n",
      "Counting connections\n"
     ]
    },
    {
     "name": "stderr",
     "output_type": "stream",
     "text": [
      "/home/hjorth/HBP/Snudda/snudda/analyse/analyse.py:1419: RuntimeWarning: invalid value encountered in true_divide\n",
      "  p_con = np.divide(count_con, count_all)\n"
     ]
    },
    {
     "name": "stdout",
     "output_type": "stream",
     "text": [
      "Requested: 10000000.0 calculated [2610976.]\n",
      "Rejected (too large z-depth): 7389024\n",
      "Centering in Striatum : Keeping 5000/5000\n",
      "Counting connections\n"
     ]
    },
    {
     "name": "stderr",
     "output_type": "stream",
     "text": [
      "/home/hjorth/HBP/Snudda/snudda/analyse/analyse.py:1419: RuntimeWarning: invalid value encountered in true_divide\n",
      "  p_con = np.divide(count_con, count_all)\n"
     ]
    },
    {
     "name": "stdout",
     "output_type": "stream",
     "text": [
      "Requested: 10000000.0 calculated [2608540.]\n",
      "Rejected (too large z-depth): 7391460\n",
      "Centering in Striatum : Keeping 5000/5000\n",
      "Counting connections\n"
     ]
    },
    {
     "name": "stderr",
     "output_type": "stream",
     "text": [
      "/home/hjorth/HBP/Snudda/snudda/analyse/analyse.py:1419: RuntimeWarning: invalid value encountered in true_divide\n",
      "  p_con = np.divide(count_con, count_all)\n"
     ]
    },
    {
     "name": "stdout",
     "output_type": "stream",
     "text": [
      "Requested: 10000000.0 calculated [2607228.]\n",
      "Rejected (too large z-depth): 7392772\n",
      "Centering in Striatum : Keeping 5000/5000\n",
      "Counting connections\n"
     ]
    },
    {
     "name": "stderr",
     "output_type": "stream",
     "text": [
      "/home/hjorth/HBP/Snudda/snudda/analyse/analyse.py:1419: RuntimeWarning: invalid value encountered in true_divide\n",
      "  p_con = np.divide(count_con, count_all)\n"
     ]
    },
    {
     "name": "stdout",
     "output_type": "stream",
     "text": [
      "Requested: 10000000.0 calculated [2607853.]\n",
      "Rejected (too large z-depth): 7392147\n"
     ]
    },
    {
     "data": {
      "image/png": "[encoded data removed]",
      "text/plain": [
       "<Figure size 432x288 with 1 Axes>"
      ]
     },
     "metadata": {
      "needs_background": "light"
     },
     "output_type": "display_data"
    },
    {
     "name": "stdout",
     "output_type": "stream",
     "text": [
      "Wrote Fig2_network/figures/Summary-pruning-dist-dep-connection-probability-iSPN-to-dSPN-synapses.png\n",
      "Centering in Striatum : Keeping 5000/5000\n",
      "Calculating max synapses\n",
      "Plotting 5025577 connections\n",
      "Centering in Striatum : Keeping 5000/5000\n",
      "Calculating max synapses\n",
      "Plotting 4119460 connections\n",
      "Centering in Striatum : Keeping 5000/5000\n",
      "Calculating max synapses\n",
      "Plotting 2318053 connections\n",
      "Centering in Striatum : Keeping 5000/5000\n",
      "Calculating max synapses\n",
      "Plotting 2318047 connections\n",
      "Centering in Striatum : Keeping 5000/5000\n",
      "Calculating max synapses\n",
      "Plotting 464171 connections\n"
     ]
    },
    {
     "data": {
      "image/png": "[encoded data removed]",
      "text/plain": [
       "<Figure size 432x288 with 1 Axes>"
      ]
     },
     "metadata": {
      "needs_background": "light"
     },
     "output_type": "display_data"
    },
    {
     "name": "stdout",
     "output_type": "stream",
     "text": [
      "Wrote Fig2_network/figures/Summary-network-number-of-synapses-from-iSPN-to-dSPN-per-cell.png\n"
     ]
    },
    {
     "data": {
      "image/png": "[encoded data removed]",
      "text/plain": [
       "<Figure size 432x288 with 1 Axes>"
      ]
     },
     "metadata": {
      "needs_background": "light"
     },
     "output_type": "display_data"
    },
    {
     "name": "stdout",
     "output_type": "stream",
     "text": [
      "Wrote Fig2_network/figures/Summary-cumDist-of-synapses-from-iSPN-to-dSPN-per-cell.png\n"
     ]
    }
   ],
   "source": [
    "mpf = MethodsPaperFigure2(network_file_list=network_file_list)\n",
    "mpf.make_connection_probability_summary('iSPN', 'dSPN')\n",
    "mpf.make_num_synapses_summary_figure('iSPN', 'dSPN')\n",
    "mpf.summary_plot_cum_dist('iSPN', 'dSPN')"
   ]
  },
  {
   "cell_type": "code",
   "execution_count": null,
   "id": "aware-shadow",
   "metadata": {},
   "outputs": [],
   "source": []
  }
 ],
 "metadata": {
  "kernelspec": {
   "display_name": "Python 3",
   "language": "python",
   "name": "python3"
  },
  "language_info": {
   "codemirror_mode": {
    "name": "ipython",
    "version": 3
   },
   "file_extension": ".py",
   "mimetype": "text/x-python",
   "name": "python",
   "nbconvert_exporter": "python",
   "pygments_lexer": "ipython3",
   "version": "3.7.3"
  }
 },
 "nbformat": 4,
 "nbformat_minor": 5
}
