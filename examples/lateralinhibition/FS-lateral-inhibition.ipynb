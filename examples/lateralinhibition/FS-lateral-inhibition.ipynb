{
 "cells": [
  {
   "cell_type": "markdown",
   "id": "c9ddfad0-22f5-4ae1-a68e-9b7abcd269b4",
   "metadata": {},
   "source": [
    "# Lateral inhibition between FS neurons\n",
    "\n",
    "The FS neuron population are connected by both gap junctions and GABAergic synapses. If a subpopulation of FS receives increased excitation the immediate surrounding neurons should have increased inhibition. Does this then result in reduced inhibition for the FS population further away?"
   ]
  },
  {
   "cell_type": "code",
   "execution_count": null,
   "id": "958e235b-7242-463d-b7e4-f0c61989a8eb",
   "metadata": {},
   "outputs": [],
   "source": []
  }
 ],
 "metadata": {
  "kernelspec": {
   "display_name": "Python 3 (ipykernel)",
   "language": "python",
   "name": "python3"
  },
  "language_info": {
   "codemirror_mode": {
    "name": "ipython",
    "version": 3
   },
   "file_extension": ".py",
   "mimetype": "text/x-python",
   "name": "python",
   "nbconvert_exporter": "python",
   "pygments_lexer": "ipython3",
   "version": "3.9.2"
  }
 },
 "nbformat": 4,
 "nbformat_minor": 5
}
