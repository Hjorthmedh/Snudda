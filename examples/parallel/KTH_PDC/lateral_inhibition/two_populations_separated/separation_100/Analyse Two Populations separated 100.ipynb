{
 "cells": [
  {
   "cell_type": "markdown",
   "id": "bc09aea9",
   "metadata": {},
   "source": [
    "# Verifying that lateral GABA inhibtion affects firing rate in a population"
   ]
  },
  {
   "cell_type": "code",
   "execution_count": null,
   "id": "98f5da90",
   "metadata": {},
   "outputs": [],
   "source": [
    "%matplotlib inline\n",
    "\n",
    "import os\n",
    "import numpy as np\n",
    "network_path = os.path.join(\"..\", \"networks\", \"lateral_twopop_separated_100\")\n",
    "network_file = os.path.join(network_path, \"network-synapses-minimal.hdf5\")\n",
    "simulation_file_with_synapses = os.path.join(network_path, \"simulation\", \"output-with-synapses-12Hz.hdf5\")\n",
    "simulation_file_no_synapses = os.path.join(network_path, \"simulation\", \"output-no-synapses-12Hz.hdf5\")\n",
    "duration = 5"
   ]
  },
  {
   "cell_type": "markdown",
   "id": "1b4c8039",
   "metadata": {},
   "source": [
    "# Plot network"
   ]
  },
  {
   "cell_type": "code",
   "execution_count": null,
   "id": "51d7a120",
   "metadata": {},
   "outputs": [],
   "source": [
    "from snudda.plotting import PlotNetwork\n",
    "\n",
    "pn = PlotNetwork(network_path)\n",
    "pn.plot_populations(unmarked_alpha=0)\n",
    "pn.plot_populations(unmarked_alpha=0.02)\n",
    "\n",
    "# The commented code below also plots the network, but with the option to plot more detail of the neurons:\n",
    "# pn = PlotNetwork(network_path)\n",
    "# pn.plot(plot_axon=False, plot_dendrite=False, plot_synapses=False, colour_population_unit=True)\n",
    "\n",
    "pn.close()  # Close the hdf5 file so others can use it (or better shut down kernel after)"
   ]
  },
  {
   "cell_type": "code",
   "execution_count": null,
   "id": "4d00765e-ff28-4423-a12d-fa3873d99e10",
   "metadata": {},
   "outputs": [],
   "source": [
    "from snudda.plotting import PlotNetwork\n",
    "\n",
    "pn2 = PlotNetwork(network_file)\n",
    "pn2.plot_populations(unmarked_alpha=0)\n",
    "pn2.plot_populations(unmarked_alpha=0.02)\n",
    "\n",
    "# The commented code below also plots the network, but with the option to plot more detail of the neurons:\n",
    "# pn = PlotNetwork(network_path)\n",
    "# pn.plot(plot_axon=False, plot_dendrite=False, plot_synapses=False, colour_population_unit=True)\n",
    "\n",
    "pn2.close()  # Close the hdf5 file so others can use it (or better shut down kernel after)"
   ]
  },
  {
   "cell_type": "markdown",
   "id": "92036f89",
   "metadata": {},
   "source": [
    "# Plot neuron input"
   ]
  },
  {
   "cell_type": "code",
   "execution_count": null,
   "id": "5ba36f39",
   "metadata": {},
   "outputs": [],
   "source": [
    "from snudda.plotting import PlotInput\n",
    "input_file = os.path.join(network_path, \"input-spikes.hdf5\")\n",
    "spi = PlotInput(input_file, network_file)\n",
    "spi.plot_input_population_unit(population_unit_id=1, num_neurons=2, neuron_type=\"dSPN\", fig_size=(15,5))\n",
    "spi.plot_input_population_unit(population_unit_id=1, num_neurons=2, neuron_type=\"iSPN\", fig_size=(15,5))\n",
    "spi.plot_input_population_unit(population_unit_id=2, num_neurons=2, neuron_type=\"dSPN\", fig_size=(15,5))\n",
    "spi.plot_input_population_unit(population_unit_id=2, num_neurons=2, neuron_type=\"iSPN\", fig_size=(15,5))"
   ]
  },
  {
   "cell_type": "code",
   "execution_count": null,
   "id": "db7643f1",
   "metadata": {},
   "outputs": [],
   "source": [
    "# Cleanup\n",
    "pn = None\n",
    "spi = None"
   ]
  },
  {
   "cell_type": "markdown",
   "id": "004a683c",
   "metadata": {},
   "source": [
    "# Plot neuron activity\n",
    "\n",
    "## With lateral inhibtion"
   ]
  },
  {
   "cell_type": "code",
   "execution_count": null,
   "id": "ba6db56f",
   "metadata": {
    "scrolled": true
   },
   "outputs": [],
   "source": [
    "from snudda.plotting import SnuddaPlotSpikeRaster2\n",
    "fig_file_raster = f\"spike-raster.png\"\n",
    "\n",
    "time_range_zoom = (0,duration)\n",
    "spr = SnuddaPlotSpikeRaster2(network_path=network_path, network_file=network_file, simulation_file=simulation_file_with_synapses)\n",
    "\n",
    "spr.plot_spike_raster(fig_file=fig_file_raster, time_range=time_range_zoom)"
   ]
  },
  {
   "cell_type": "code",
   "execution_count": null,
   "id": "19f4345a",
   "metadata": {},
   "outputs": [],
   "source": [
    "spr.plot_firing_frequency_distribution(bins=30)"
   ]
  },
  {
   "cell_type": "code",
   "execution_count": null,
   "id": "563e5d14",
   "metadata": {},
   "outputs": [],
   "source": [
    "spr.plot_spike_histogram(label_text=\"lateral inhibition pop_id=\")"
   ]
  },
  {
   "cell_type": "markdown",
   "id": "298fa51b",
   "metadata": {},
   "source": [
    "## Without lateral inhibition"
   ]
  },
  {
   "cell_type": "code",
   "execution_count": null,
   "id": "cef24518",
   "metadata": {
    "scrolled": true
   },
   "outputs": [],
   "source": [
    "from snudda.plotting import SnuddaPlotSpikeRaster2\n",
    "fig_file_raster = f\"spike-raster.png\"\n",
    "\n",
    "time_range_zoom = (0,duration)\n",
    "spr_no = SnuddaPlotSpikeRaster2(network_path=network_path, network_file=network_file, simulation_file=simulation_file_no_synapses)\n",
    "\n",
    "spr_no.plot_spike_raster(fig_file=fig_file_raster, time_range=time_range_zoom)"
   ]
  },
  {
   "cell_type": "code",
   "execution_count": null,
   "id": "bce8ba4e",
   "metadata": {},
   "outputs": [],
   "source": [
    "spr_no.plot_firing_frequency_distribution(bins=30)"
   ]
  },
  {
   "cell_type": "code",
   "execution_count": null,
   "id": "3587df65",
   "metadata": {},
   "outputs": [],
   "source": [
    "spr_no.plot_spike_histogram(label_text=\"no inhibition pop_id=\")"
   ]
  },
  {
   "cell_type": "markdown",
   "id": "aa220317",
   "metadata": {},
   "source": [
    "# Summarising difference in activity (with and without lateral inhibition)"
   ]
  },
  {
   "cell_type": "code",
   "execution_count": null,
   "id": "7f23f8f9",
   "metadata": {},
   "outputs": [],
   "source": [
    "ax = spr.plot_spike_histogram(label_text=\"lateral inhibition \", show_figure=False, save_figure=False, fig_size=(10,8))\n",
    "spr_no.plot_spike_histogram(ax=ax, label_text=\"no inhibition \", show_figure=True, save_figure=True)"
   ]
  },
  {
   "cell_type": "code",
   "execution_count": null,
   "id": "e9f11a75",
   "metadata": {},
   "outputs": [],
   "source": [
    "# Cleanup\n",
    "spr = None\n",
    "spr_no = None"
   ]
  },
  {
   "cell_type": "markdown",
   "id": "425d699c",
   "metadata": {},
   "source": [
    "# Plotting the traces for the two cases to make sure it looks ok"
   ]
  },
  {
   "cell_type": "code",
   "execution_count": null,
   "id": "14876ee0",
   "metadata": {},
   "outputs": [],
   "source": [
    "from snudda.plotting.plot_traces import PlotTraces\n",
    "pt_with_syn = PlotTraces(output_file=simulation_file_with_synapses, network_file=network_file)\n",
    "# Use trace_id to specify which traces\n"
   ]
  },
  {
   "cell_type": "code",
   "execution_count": null,
   "id": "52abfd0f",
   "metadata": {},
   "outputs": [],
   "source": [
    "pop_id_1 = pt_with_syn.network_info.get_population_unit_members(population_unit=1, num_neurons=30)\n",
    "pop_id_2 = pt_with_syn.network_info.get_population_unit_members(population_unit=2, num_neurons=30)"
   ]
  },
  {
   "cell_type": "code",
   "execution_count": null,
   "id": "d4a6df97",
   "metadata": {},
   "outputs": [],
   "source": [
    "ax = pt_with_syn.plot_traces(offset=0.1, time_range=(0,5),fig_size=(10,10), title=\"With synapses (pop 1)\",\n",
    "                            trace_id=pop_id_1)"
   ]
  },
  {
   "cell_type": "code",
   "execution_count": null,
   "id": "26b6a9f1",
   "metadata": {},
   "outputs": [],
   "source": [
    "ax = pt_with_syn.plot_traces(offset=0.1, time_range=(0,5),fig_size=(10,10), title=\"With synapses (pop 2)\",\n",
    "                            trace_id=pop_id_2)"
   ]
  },
  {
   "cell_type": "code",
   "execution_count": null,
   "id": "ae938344",
   "metadata": {},
   "outputs": [],
   "source": [
    "from snudda.plotting.plot_traces import PlotTraces\n",
    "pt_no_syn = PlotTraces(output_file=simulation_file_no_synapses, network_file=network_file)\n",
    "# Use trace_id to specify which traces"
   ]
  },
  {
   "cell_type": "code",
   "execution_count": null,
   "id": "9760033d",
   "metadata": {},
   "outputs": [],
   "source": [
    "pop_id_1 = pt_no_syn.network_info.get_population_unit_members(population_unit=1, num_neurons=30)\n",
    "pop_id_2 = pt_no_syn.network_info.get_population_unit_members(population_unit=2, num_neurons=30)"
   ]
  },
  {
   "cell_type": "code",
   "execution_count": null,
   "id": "db59186b",
   "metadata": {},
   "outputs": [],
   "source": [
    "ax = pt_no_syn.plot_traces(offset=0.1, time_range=(0,5),fig_size=(10,10), title=\"No synapses (pop 1)\",\n",
    "                           trace_id=pop_id_1)"
   ]
  },
  {
   "cell_type": "code",
   "execution_count": null,
   "id": "3494d828",
   "metadata": {},
   "outputs": [],
   "source": [
    "ax = pt_no_syn.plot_traces(offset=0.1, time_range=(0,5),fig_size=(10,10), title=\"No synapses (pop 2)\",\n",
    "                           trace_id=pop_id_2)"
   ]
  },
  {
   "cell_type": "markdown",
   "id": "5f3b902f",
   "metadata": {},
   "source": [
    "# Plot neuron with depolarisation block"
   ]
  },
  {
   "cell_type": "code",
   "execution_count": null,
   "id": "8c6d095e",
   "metadata": {},
   "outputs": [],
   "source": [
    "bad_idx_with_syn = np.unique([x[0] for x in pt_with_syn.output_load.depolarisation_block])\n",
    "bad_idx_no_syn = np.unique([x[0] for x in pt_no_syn.output_load.depolarisation_block])\n",
    "\n",
    "# Should be same network (with syn and without syn)\n",
    "pop_id_1 = pt_with_syn.network_info.get_population_unit_members(population_unit=1)\n",
    "pop_id_2 = pt_with_syn.network_info.get_population_unit_members(population_unit=2)\n",
    "\n",
    "bad_idx_with_syn_1 = np.intersect1d(bad_idx_with_syn, pop_id_1)\n",
    "bad_idx_with_syn_2 = np.intersect1d(bad_idx_with_syn, pop_id_2)\n",
    "\n",
    "bad_idx_no_syn_1 = np.intersect1d(bad_idx_no_syn, pop_id_1)\n",
    "bad_idx_no_syn_2 = np.intersect1d(bad_idx_no_syn, pop_id_2)"
   ]
  },
  {
   "cell_type": "code",
   "execution_count": null,
   "id": "d7515611",
   "metadata": {},
   "outputs": [],
   "source": [
    "ax = pt_with_syn.plot_traces(offset=0.05, time_range=(0,5),fig_size=(10,15), title=\"With synapses (pop 1, DB)\",\n",
    "                            trace_id=bad_idx_with_syn_1)"
   ]
  },
  {
   "cell_type": "code",
   "execution_count": null,
   "id": "b0854d63",
   "metadata": {},
   "outputs": [],
   "source": [
    "ax = pt_with_syn.plot_traces(offset=0.05, time_range=(0,5),fig_size=(10,15), title=\"With synapses (pop 2, DB)\",\n",
    "                            trace_id=bad_idx_with_syn_2)"
   ]
  },
  {
   "cell_type": "code",
   "execution_count": null,
   "id": "216430aa",
   "metadata": {},
   "outputs": [],
   "source": [
    "ax = pt_no_syn.plot_traces(offset=0.05, time_range=(0,5),fig_size=(10,15), title=\"No synapses (pop 1, DB)\",\n",
    "                           trace_id=bad_idx_no_syn_1)"
   ]
  },
  {
   "cell_type": "code",
   "execution_count": null,
   "id": "d6dc3a71",
   "metadata": {},
   "outputs": [],
   "source": [
    "ax = pt_no_syn.plot_traces(offset=0.05, time_range=(0,5),fig_size=(10,15), title=\"No synapses (pop 2, DB)\",\n",
    "                           trace_id=bad_idx_no_syn_2)"
   ]
  },
  {
   "cell_type": "code",
   "execution_count": null,
   "id": "a4e63060",
   "metadata": {},
   "outputs": [],
   "source": []
  }
 ],
 "metadata": {
  "kernelspec": {
   "display_name": "Python 3 (ipykernel)",
   "language": "python",
   "name": "python3"
  },
  "language_info": {
   "codemirror_mode": {
    "name": "ipython",
    "version": 3
   },
   "file_extension": ".py",
   "mimetype": "text/x-python",
   "name": "python",
   "nbconvert_exporter": "python",
   "pygments_lexer": "ipython3",
   "version": "3.9.2"
  }
 },
 "nbformat": 4,
 "nbformat_minor": 5
}
