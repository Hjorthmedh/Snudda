{
 "cells": [
  {
   "cell_type": "markdown",
   "id": "2aebe20e-a40c-413f-8a8a-649016442434",
   "metadata": {},
   "source": [
    "# Loading the data\n",
    "\n",
    "This example shows how to first load the network structure, and then how to load the simulation data."
   ]
  },
  {
   "cell_type": "code",
   "execution_count": 4,
   "id": "89443923-2b9b-4339-869f-997f069f2b7c",
   "metadata": {},
   "outputs": [],
   "source": [
    "network_path = \"networks/VBT_kir_scan/\""
   ]
  },
  {
   "cell_type": "markdown",
   "id": "3f56456a-0d9b-4f85-93d5-9500b3b41001",
   "metadata": {},
   "source": [
    "## Loading the network structure"
   ]
  },
  {
   "cell_type": "code",
   "execution_count": 5,
   "id": "eb218bc8-7218-40ae-8ca6-c010fbfea092",
   "metadata": {},
   "outputs": [],
   "source": [
    "from snudda import SnuddaLoad\n",
    "sl = SnuddaLoad(network_path)"
   ]
  },
  {
   "cell_type": "code",
   "execution_count": 6,
   "id": "600cd39f-9233-418e-8560-1907736a29c3",
   "metadata": {},
   "outputs": [
    {
     "data": {
      "text/plain": [
       "dict_keys(['network_file', 'config', 'num_neurons', 'neuron_id', 'num_synapses', 'num_gap_junctions', 'synapses', 'gap_junctions', 'synapse_coords', 'config_file', 'position_file', 'slurm_id', 'simulation_origo', 'voxel_size', 'snudda_data', 'neurons', 'neuron_positions', 'name', 'population_unit', 'connectivity_distributions'])"
      ]
     },
     "execution_count": 6,
     "metadata": {},
     "output_type": "execute_result"
    }
   ],
   "source": [
    "sl.data.keys()"
   ]
  },
  {
   "cell_type": "code",
   "execution_count": 10,
   "id": "e7c123ff-30cd-4e94-9018-bcd6c31b813b",
   "metadata": {},
   "outputs": [],
   "source": [
    "dspn_id = sl.get_neuron_id_of_type(\"dSPN\")"
   ]
  },
  {
   "cell_type": "code",
   "execution_count": 11,
   "id": "1458fa62-2962-4e5a-8d59-417cbdfaf171",
   "metadata": {},
   "outputs": [
    {
     "data": {
      "text/plain": [
       "{'name': 'dSPN_0',\n",
       " 'morphology': '$SNUDDA_DATA/neurons/striatum/dspn/str-dspn-e150602_c1_D1-mWT-0728MSN01-v20220620/morphology/WT-0728MSN01-cor-rep-ax-res3-var8.swc',\n",
       " 'type': 'dSPN',\n",
       " 'neuron_id': 0,\n",
       " 'volume_id': 'Striatum',\n",
       " 'hoc': '',\n",
       " 'neuron_path': '$SNUDDA_DATA/neurons/striatum/dspn/str-dspn-e150602_c1_D1-mWT-0728MSN01-v20220620',\n",
       " 'position': array([0.00424381, 0.00344045, 0.00673498]),\n",
       " 'rotation': array([[-0.37359772,  0.7988934 ,  0.47137467],\n",
       "        [ 0.78180431, -0.00229201,  0.62351966],\n",
       "        [ 0.49920614,  0.60146828, -0.62372201]]),\n",
       " 'virtual_neuron': False,\n",
       " 'axon_density_type': None,\n",
       " 'axon_density': None,\n",
       " 'axon_density_bounds_xyz': None,\n",
       " 'axon_density_radius': nan,\n",
       " 'parameter_key': 'pd4bd01a9',\n",
       " 'morphology_key': 'm4a48752c',\n",
       " 'modulation_key': None,\n",
       " 'reaction_diffusion_file': None,\n",
       " 'population_unit': 0}"
      ]
     },
     "execution_count": 11,
     "metadata": {},
     "output_type": "execute_result"
    }
   ],
   "source": [
    "sl.data[\"neurons\"][dspn_id[0]]"
   ]
  },
  {
   "cell_type": "markdown",
   "id": "421865f1-29a4-429e-976d-99426916553d",
   "metadata": {},
   "source": [
    "Use ```sl.get_centre_neurons_iterator``` to get the central part of the neuron population."
   ]
  },
  {
   "cell_type": "code",
   "execution_count": 25,
   "id": "b11e5ece-5e5b-4d99-8e60-5b2be84235f0",
   "metadata": {},
   "outputs": [],
   "source": [
    "center_neuron_id = list(sl.get_centre_neurons_iterator(n_neurons=1000))"
   ]
  },
  {
   "cell_type": "markdown",
   "id": "e56ac02e-c4e3-4196-8393-eab50ac963e0",
   "metadata": {},
   "source": [
    "You can get the connection matrix with ```sl.create_connectoin_matrix()``` the underlying data is stored in ```sl.data[\"synapses\"]```, with one row per synapse, first column is presynaptic neuron id, second column is postsynaptic id."
   ]
  },
  {
   "cell_type": "code",
   "execution_count": 13,
   "id": "cf716774-1a0f-44b2-8ba6-293360ef4258",
   "metadata": {},
   "outputs": [],
   "source": [
    "con_matrix = sl.create_connection_matrix()"
   ]
  },
  {
   "cell_type": "code",
   "execution_count": 26,
   "id": "caa251a6-88fd-4525-84d4-2ac74fa00620",
   "metadata": {},
   "outputs": [
    {
     "data": {
      "text/plain": [
       "array([[    77,      0,    288, ...,    304,    226, 787255],\n",
       "       [    77,      0,    289, ...,    775,    237, 787255],\n",
       "       [    77,      0,    292, ...,    558,    400, 787255],\n",
       "       ...,\n",
       "       [  9471,   9809,   1251, ...,    554,    292, 126166],\n",
       "       [  9471,   9809,   1247, ...,    101,     94, 126166],\n",
       "       [  9471,   9809,   1257, ...,    218,    148, 126166]], dtype=int32)"
      ]
     },
     "execution_count": 26,
     "metadata": {},
     "output_type": "execute_result"
    },
    {
     "name": "stderr",
     "output_type": "stream",
     "text": [
      "[terpsichore:3568026] tcp_peer_recv_connect_ack: invalid header type: 114\n",
      "[terpsichore:3568026] tcp_peer_recv_connect_ack: invalid header type: 143\n",
      "[terpsichore:3568026] tcp_peer_recv_connect_ack: invalid header type: 36\n",
      "[terpsichore:3568026] tcp_peer_recv_connect_ack: invalid header type: 102\n",
      "[terpsichore:3568026] tcp_peer_recv_connect_ack: invalid header type: 176\n",
      "[terpsichore:3568026] tcp_peer_recv_connect_ack: invalid header type: 62\n",
      "[terpsichore:3568026] tcp_peer_recv_connect_ack: invalid header type: 54\n",
      "[terpsichore:3568026] tcp_peer_recv_connect_ack: invalid header type: 98\n",
      "[terpsichore:3568026] tcp_peer_recv_connect_ack: invalid header type: 128\n",
      "[terpsichore:3568026] tcp_peer_recv_connect_ack: invalid header type: 114\n",
      "[terpsichore:3568026] tcp_peer_recv_connect_ack: invalid header type: 54\n",
      "[terpsichore:3568026] tcp_peer_recv_connect_ack: invalid header type: 79\n",
      "[terpsichore:3568026] tcp_peer_recv_connect_ack: invalid header type: 49\n",
      "[terpsichore:3568026] tcp_peer_recv_connect_ack: invalid header type: 235\n",
      "[terpsichore:3568026] [[7157,0],0] tcp_peer_recv_blocking: recv() failed for [[1,790],510]: Connection reset by peer (104)\n",
      "[terpsichore:3568026] tcp_peer_recv_connect_ack: invalid header type: 50\n",
      "[terpsichore:3568026] tcp_peer_recv_connect_ack: invalid header type: 52\n",
      "[terpsichore:3568026] tcp_peer_recv_connect_ack: invalid header type: 128\n",
      "[terpsichore:3568026] tcp_peer_recv_connect_ack: invalid header type: 110\n",
      "[terpsichore:3568026] tcp_peer_recv_connect_ack: invalid header type: 0\n",
      "[terpsichore:3568026] tcp_peer_recv_connect_ack: invalid header type: 110\n",
      "[terpsichore:3568026] tcp_peer_recv_connect_ack: invalid header type: 0\n",
      "[terpsichore:3568026] tcp_peer_recv_connect_ack: invalid header type: 58\n",
      "[terpsichore:3568026] tcp_peer_recv_connect_ack: invalid header type: 58\n",
      "[terpsichore:3568026] tcp_peer_recv_connect_ack: invalid header type: 58\n",
      "[terpsichore:3568026] tcp_peer_recv_connect_ack: invalid header type: 58\n",
      "[terpsichore:3568026] tcp_peer_recv_connect_ack: invalid header type: 175\n",
      "[terpsichore:3568026] tcp_peer_recv_connect_ack: invalid header type: 73\n",
      "[terpsichore:3568026] tcp_peer_recv_connect_ack: invalid header type: 73\n",
      "[terpsichore:3568026] tcp_peer_recv_connect_ack: invalid header type: 7\n",
      "[terpsichore:3568026] tcp_peer_recv_connect_ack: invalid header type: 0\n",
      "[terpsichore:3568026] tcp_peer_recv_connect_ack: invalid header type: 0\n",
      "[terpsichore:3568026] tcp_peer_recv_connect_ack: invalid header type: 42\n",
      "[terpsichore:3568026] tcp_peer_recv_connect_ack: invalid header type: 42\n",
      "[terpsichore:3568026] tcp_peer_recv_connect_ack: invalid header type: 105\n",
      "[terpsichore:3568026] tcp_peer_recv_connect_ack: invalid header type: 105\n",
      "[terpsichore:3568026] tcp_peer_recv_connect_ack: invalid header type: 0\n",
      "[terpsichore:3568026] tcp_peer_recv_connect_ack: invalid header type: 0\n",
      "[terpsichore:3568026] tcp_peer_recv_connect_ack: invalid header type: 124\n",
      "[terpsichore:3568026] tcp_peer_recv_connect_ack: invalid header type: 124\n",
      "[terpsichore:3568026] tcp_peer_recv_connect_ack: invalid header type: 99\n",
      "[terpsichore:3568026] tcp_peer_recv_connect_ack: invalid header type: 112\n",
      "[terpsichore:3568026] tcp_peer_recv_connect_ack: invalid header type: 99\n",
      "[terpsichore:3568026] tcp_peer_recv_connect_ack: invalid header type: 112\n",
      "[terpsichore:3568026] tcp_peer_recv_connect_ack: invalid header type: 98\n",
      "[terpsichore:3568026] tcp_peer_recv_connect_ack: invalid header type: 0\n",
      "[terpsichore:3568026] tcp_peer_recv_connect_ack: invalid header type: 11\n",
      "[terpsichore:3568026] tcp_peer_recv_connect_ack: invalid header type: 0\n",
      "[terpsichore:3568026] tcp_peer_recv_connect_ack: invalid header type: 0\n",
      "[terpsichore:3568026] tcp_peer_recv_connect_ack: invalid header type: 0\n",
      "[terpsichore:3568026] tcp_peer_recv_connect_ack: invalid header type: 0\n",
      "[terpsichore:3568026] tcp_peer_recv_connect_ack: invalid header type: 0\n",
      "[terpsichore:3568026] tcp_peer_recv_connect_ack: invalid header type: 79\n",
      "[terpsichore:3568026] tcp_peer_recv_connect_ack: invalid header type: 54\n",
      "[terpsichore:3568026] tcp_peer_recv_connect_ack: invalid header type: 0\n",
      "[terpsichore:3568026] tcp_peer_recv_connect_ack: invalid header type: 0\n",
      "[terpsichore:3568026] tcp_peer_recv_connect_ack: invalid header type: 0\n",
      "[terpsichore:3568026] tcp_peer_recv_connect_ack: invalid header type: 0\n",
      "[terpsichore:3568026] tcp_peer_recv_connect_ack: invalid header type: 110\n",
      "[terpsichore:3568026] tcp_peer_recv_connect_ack: invalid header type: 99\n",
      "[terpsichore:3568026] tcp_peer_recv_connect_ack: invalid header type: 55\n",
      "[terpsichore:3568026] tcp_peer_recv_connect_ack: invalid header type: 99\n",
      "[terpsichore:3568026] tcp_peer_recv_connect_ack: invalid header type: 55\n",
      "[terpsichore:3568026] tcp_peer_recv_connect_ack: invalid header type: 110\n",
      "[terpsichore:3568026] tcp_peer_recv_connect_ack: invalid header type: 99\n",
      "[terpsichore:3568026] tcp_peer_recv_connect_ack: invalid header type: 99\n",
      "[terpsichore:3568026] tcp_peer_recv_connect_ack: invalid header type: 99\n",
      "[terpsichore:3568026] tcp_peer_recv_connect_ack: invalid header type: 82\n",
      "[terpsichore:3568026] tcp_peer_recv_connect_ack: invalid header type: 99\n",
      "[terpsichore:3568026] tcp_peer_recv_connect_ack: invalid header type: 99\n",
      "[terpsichore:3568026] tcp_peer_recv_connect_ack: invalid header type: 19\n",
      "[terpsichore:3568026] tcp_peer_recv_connect_ack: invalid header type: 98\n",
      "[terpsichore:3568026] tcp_peer_recv_connect_ack: invalid header type: 99\n",
      "[terpsichore:3568026] tcp_peer_recv_connect_ack: invalid header type: 99\n",
      "[terpsichore:3568026] tcp_peer_recv_connect_ack: invalid header type: 99\n",
      "[terpsichore:3568026] tcp_peer_recv_connect_ack: invalid header type: 113\n",
      "[terpsichore:3568026] tcp_peer_recv_connect_ack: invalid header type: 116\n",
      "[terpsichore:3568026] tcp_peer_recv_connect_ack: invalid header type: 0\n",
      "[terpsichore:3568026] tcp_peer_recv_connect_ack: invalid header type: 0\n",
      "[terpsichore:3568026] tcp_peer_recv_connect_ack: invalid header type: 116\n",
      "[terpsichore:3568026] tcp_peer_recv_connect_ack: invalid header type: 67\n",
      "[terpsichore:3568026] tcp_peer_recv_connect_ack: invalid header type: 48\n",
      "[terpsichore:3568026] tcp_peer_recv_connect_ack: invalid header type: 65\n",
      "[terpsichore:3568026] tcp_peer_recv_connect_ack: invalid header type: 67\n",
      "[terpsichore:3568026] tcp_peer_recv_connect_ack: invalid header type: 48\n",
      "[terpsichore:3568026] tcp_peer_recv_connect_ack: invalid header type: 65\n",
      "[terpsichore:3568026] [[7157,0],0] tcp_peer_send_blocking: send() to socket 24 failed: Connection reset by peer (104)\n",
      "[terpsichore:3568026] tcp_peer_recv_connect_ack: invalid header type: 104\n",
      "[terpsichore:3568026] tcp_peer_recv_connect_ack: invalid header type: 104\n",
      "[terpsichore:3568026] tcp_peer_recv_connect_ack: invalid header type: 35\n",
      "[terpsichore:3568026] tcp_peer_recv_connect_ack: invalid header type: 35\n",
      "[terpsichore:3568026] tcp_peer_recv_connect_ack: invalid header type: 0\n",
      "[terpsichore:3568026] tcp_peer_recv_connect_ack: invalid header type: 0\n",
      "[terpsichore:3568026] tcp_peer_recv_connect_ack: invalid header type: 0\n",
      "[terpsichore:3568026] tcp_peer_recv_connect_ack: invalid header type: 0\n",
      "[terpsichore:3568026] tcp_peer_recv_connect_ack: invalid header type: 98\n",
      "[terpsichore:3568026] tcp_peer_recv_connect_ack: invalid header type: 98\n",
      "[terpsichore:3568026] tcp_peer_recv_connect_ack: invalid header type: 34\n",
      "[terpsichore:3568026] tcp_peer_recv_connect_ack: invalid header type: 217\n",
      "[terpsichore:3568026] tcp_peer_recv_connect_ack: invalid header type: 217\n",
      "[terpsichore:3568026] tcp_peer_recv_connect_ack: invalid header type: 34\n",
      "[terpsichore:3568026] tcp_peer_recv_connect_ack: invalid header type: 115\n",
      "[terpsichore:3568026] tcp_peer_recv_connect_ack: invalid header type: 55\n",
      "[terpsichore:3568026] tcp_peer_recv_connect_ack: invalid header type: 55\n",
      "[terpsichore:3568026] tcp_peer_recv_connect_ack: invalid header type: 115\n",
      "[terpsichore:3568026] tcp_peer_recv_connect_ack: invalid header type: 0\n",
      "[terpsichore:3568026] tcp_peer_recv_connect_ack: invalid header type: 0\n",
      "[terpsichore:3568026] tcp_peer_recv_connect_ack: invalid header type: 65\n",
      "[terpsichore:3568026] tcp_peer_recv_connect_ack: invalid header type: 0\n",
      "[terpsichore:3568026] tcp_peer_recv_connect_ack: invalid header type: 46\n",
      "[terpsichore:3568026] tcp_peer_recv_connect_ack: invalid header type: 0\n",
      "[terpsichore:3568026] tcp_peer_recv_connect_ack: invalid header type: 65\n",
      "[terpsichore:3568026] tcp_peer_recv_connect_ack: invalid header type: 46\n",
      "[terpsichore:3568026] tcp_peer_recv_connect_ack: invalid header type: 59\n",
      "[terpsichore:3568026] tcp_peer_recv_connect_ack: invalid header type: 59\n",
      "[terpsichore:3568026] tcp_peer_recv_connect_ack: invalid header type: 48\n",
      "[terpsichore:3568026] tcp_peer_recv_connect_ack: invalid header type: 48\n",
      "[terpsichore:3568026] tcp_peer_recv_connect_ack: invalid header type: 124\n",
      "[terpsichore:3568026] tcp_peer_recv_connect_ack: invalid header type: 124\n",
      "[terpsichore:3568026] tcp_peer_recv_connect_ack: invalid header type: 124\n",
      "[terpsichore:3568026] tcp_peer_recv_connect_ack: invalid header type: 124\n",
      "[terpsichore:3568026] tcp_peer_recv_connect_ack: invalid header type: 101\n",
      "[terpsichore:3568026] tcp_peer_recv_connect_ack: invalid header type: 101\n",
      "[terpsichore:3568026] tcp_peer_recv_connect_ack: invalid header type: 0\n",
      "[terpsichore:3568026] tcp_peer_recv_connect_ack: invalid header type: 0\n",
      "[terpsichore:3568026] tcp_peer_recv_connect_ack: invalid header type: 17\n",
      "[terpsichore:3568026] tcp_peer_recv_connect_ack: invalid header type: 17\n",
      "[terpsichore:3568026] tcp_peer_recv_connect_ack: invalid header type: 83\n",
      "[terpsichore:3568026] tcp_peer_recv_connect_ack: invalid header type: 83\n",
      "[terpsichore:3568026] tcp_peer_recv_connect_ack: invalid header type: 163\n",
      "[terpsichore:3568026] tcp_peer_recv_connect_ack: invalid header type: 163\n",
      "[terpsichore:3568026] tcp_peer_recv_connect_ack: invalid header type: 163\n",
      "[terpsichore:3568026] tcp_peer_recv_connect_ack: invalid header type: 163\n",
      "[terpsichore:3568026] tcp_peer_recv_connect_ack: invalid header type: 0\n",
      "[terpsichore:3568026] tcp_peer_recv_connect_ack: invalid header type: 0\n",
      "[terpsichore:3568026] tcp_peer_recv_connect_ack: invalid header type: 0\n",
      "[terpsichore:3568026] tcp_peer_recv_connect_ack: invalid header type: 0\n",
      "[terpsichore:3568026] tcp_peer_recv_connect_ack: invalid header type: 0\n",
      "[terpsichore:3568026] tcp_peer_recv_connect_ack: invalid header type: 0\n",
      "[terpsichore:3568026] tcp_peer_recv_connect_ack: invalid header type: 99\n",
      "[terpsichore:3568026] tcp_peer_recv_connect_ack: invalid header type: 99\n",
      "[terpsichore:3568026] tcp_peer_recv_connect_ack: invalid header type: 0\n",
      "[terpsichore:3568026] tcp_peer_recv_connect_ack: invalid header type: 184\n",
      "[terpsichore:3568026] tcp_peer_recv_connect_ack: invalid header type: 30\n",
      "[terpsichore:3568026] tcp_peer_recv_connect_ack: invalid header type: 0\n",
      "[terpsichore:3568026] tcp_peer_recv_connect_ack: invalid header type: 21\n",
      "[terpsichore:3568026] tcp_peer_recv_connect_ack: invalid header type: 243\n",
      "[terpsichore:3568026] tcp_peer_recv_connect_ack: invalid header type: 0\n",
      "[terpsichore:3568026] tcp_peer_recv_connect_ack: invalid header type: 0\n"
     ]
    }
   ],
   "source": [
    "sl.data[\"synapses\"]"
   ]
  },
  {
   "cell_type": "markdown",
   "id": "51a8c577-0079-41ba-a6a2-21b922b58b47",
   "metadata": {},
   "source": [
    "## Loading the simulation data"
   ]
  },
  {
   "cell_type": "code",
   "execution_count": 16,
   "id": "6d5a7d02-924d-4cdc-8f08-d308cec0bc0d",
   "metadata": {},
   "outputs": [
    {
     "name": "stdout",
     "output_type": "stream",
     "text": [
      "Loading networks/VBT_kir_scan/simulations/output_kir_1.0.hdf5\n",
      "Failed sanity check on neuron ID, not all neurons simulated? [   0    1    2 ... 9667 9668 9669]\n",
      "WARNING. Depolarisation block in neuron - neuron_id: (name, parameter_key, morphology_key):\n",
      "1367: (LTS_0, p7f931884, m803558b5)\n",
      "1463: (LTS_1, pdc4da746, ma4dacccf)\n",
      "1921: (LTS_0, p1fd33c8c, m803558b5)\n",
      "2897: (LTS_0, p1fd33c8c, m803558b5)\n",
      "4057: (LTS_1, p54dfea77, m8ded5e00)\n",
      "4511: (LTS_1, p266c7fb8, mf4ba6a4e)\n",
      "5184: (LTS_1, pe675a3d7, m872fbb26)\n",
      "5185: (LTS_1, p664ecb6e, m872fbb26)\n",
      "5186: (LTS_1, p4d93b0c3, m8ded5e00)\n",
      "5371: (LTS_1, p664ecb6e, m872fbb26)\n",
      "5372: (LTS_1, pd2b66278, m872fbb26)\n",
      "6546: (LTS_0, p1fd33c8c, m803558b5)\n",
      "6733: (LTS_1, pdc4da746, ma4dacccf)\n",
      "6851: (LTS_1, pd2b66278, m872fbb26)\n",
      "6952: (LTS_0, pe9c8b984, m803558b5)\n",
      "9096: (LTS_1, p53b70df2, ma4dacccf)\n",
      "9357: (LTS_0, p1fd33c8c, m803558b5)\n"
     ]
    }
   ],
   "source": [
    "import os\n",
    "from snudda.utils import SnuddaLoadSimulation\n",
    "output_file_WT = os.path.join(network_path, \"simulations\", \"output_kir_1.0.hdf5\")\n",
    "sls = SnuddaLoadSimulation(network_simulation_output_file=output_file_WT)"
   ]
  },
  {
   "cell_type": "code",
   "execution_count": 17,
   "id": "8b6b46fc-b63b-4487-8a1b-5d6ed9023dd2",
   "metadata": {},
   "outputs": [],
   "source": [
    "spikes_0 = sls.get_spikes(neuron_id=0)"
   ]
  },
  {
   "cell_type": "markdown",
   "id": "9a62c15b-99ee-45af-9dff-dadf40b7ee65",
   "metadata": {},
   "source": [
    "Spike time is in seconds"
   ]
  },
  {
   "cell_type": "code",
   "execution_count": 19,
   "id": "dec90ef4-5b09-4489-b71b-9963d14d5b1b",
   "metadata": {},
   "outputs": [
    {
     "data": {
      "text/plain": [
       "array([[0.382   , 0.82975 , 0.9554  , 1.0435  , 1.32845 , 1.581175,\n",
       "        2.64415 , 2.737325, 3.611   , 3.9507  , 4.159275, 4.536575,\n",
       "        4.788575, 5.665925, 5.714225, 5.78175 , 6.18265 , 6.220175,\n",
       "        6.465975, 7.6796  , 7.81035 , 7.961575, 8.595825, 8.8656  ,\n",
       "        9.051325]])"
      ]
     },
     "execution_count": 19,
     "metadata": {},
     "output_type": "execute_result"
    }
   ],
   "source": [
    "spikes_0"
   ]
  },
  {
   "cell_type": "code",
   "execution_count": 20,
   "id": "877dd0f0-a754-4b9a-ab3f-b50f8f81ce9c",
   "metadata": {},
   "outputs": [],
   "source": [
    "voltage_0 = sls.get_voltage(neuron_id=0)"
   ]
  },
  {
   "cell_type": "code",
   "execution_count": 21,
   "id": "4c256091-edc2-431b-9709-02979729044c",
   "metadata": {},
   "outputs": [],
   "source": [
    "time = sls.get_time()"
   ]
  },
  {
   "cell_type": "code",
   "execution_count": 24,
   "id": "0362bb54-4f02-4383-bb84-99ff861d3c28",
   "metadata": {},
   "outputs": [
    {
     "data": {
      "image/png": "[encoded data removed]",
      "text/plain": [
       "<Figure size 640x480 with 1 Axes>"
      ]
     },
     "metadata": {},
     "output_type": "display_data"
    }
   ],
   "source": [
    "import matplotlib.pyplot as plt\n",
    "plt.plot(time, voltage_0)\n",
    "plt.xlabel(\"Time (s)\")\n",
    "plt.ylabel(\"Voltage (V)\")\n",
    "plt.show()"
   ]
  },
  {
   "cell_type": "code",
   "execution_count": null,
   "id": "0fcf6cbf-fa1b-421e-98b8-05dc896f02d1",
   "metadata": {},
   "outputs": [],
   "source": []
  }
 ],
 "metadata": {
  "kernelspec": {
   "display_name": "Python 3 (ipykernel)",
   "language": "python",
   "name": "python3"
  },
  "language_info": {
   "codemirror_mode": {
    "name": "ipython",
    "version": 3
   },
   "file_extension": ".py",
   "mimetype": "text/x-python",
   "name": "python",
   "nbconvert_exporter": "python",
   "pygments_lexer": "ipython3",
   "version": "3.11.2"
  }
 },
 "nbformat": 4,
 "nbformat_minor": 5
}
