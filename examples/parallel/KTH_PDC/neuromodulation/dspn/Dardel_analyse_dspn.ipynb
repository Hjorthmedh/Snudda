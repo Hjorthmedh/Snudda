{
 "cells": [
  {
   "cell_type": "markdown",
   "id": "7afb8f8f-84c4-44e5-8d6c-2c4e64bece08",
   "metadata": {},
   "source": [
    "# DSPN neuromodulation\n",
    "\n",
    "This jupyter notebook analyses ```Dardel_simulate_neuromodulation_dspn.job```."
   ]
  },
  {
   "cell_type": "code",
   "execution_count": null,
   "id": "e363da89-25b4-4087-b05a-eb91099bca43",
   "metadata": {},
   "outputs": [],
   "source": [
    "import os\n",
    "network_path = os.path.join(\"..\", \"networks\", \"dspn_modulation\"))\n",
    "\n",
    "from snudda.utils import SnuddaLoadNetworkSimulation\n"
   ]
  }
 ],
 "metadata": {
  "kernelspec": {
   "display_name": "Python 3 (ipykernel)",
   "language": "python",
   "name": "python3"
  },
  "language_info": {
   "codemirror_mode": {
    "name": "ipython",
    "version": 3
   },
   "file_extension": ".py",
   "mimetype": "text/x-python",
   "name": "python",
   "nbconvert_exporter": "python",
   "pygments_lexer": "ipython3",
   "version": "3.9.2"
  }
 },
 "nbformat": 4,
 "nbformat_minor": 5
}
