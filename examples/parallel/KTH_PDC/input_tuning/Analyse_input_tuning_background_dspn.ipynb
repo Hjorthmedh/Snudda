{
 "cells": [
  {
   "cell_type": "markdown",
   "id": "396177f4",
   "metadata": {},
   "source": [
    "# Analyse background input tuning for dSPN\n",
    "\n",
    "### First run the background input simulation on Dardel\n",
    "\n",
    "On Dardel first run:\n",
    "\n",
    "```\n",
    "sbatch Dardel_run_input_tuning_background_dspn.job\n",
    "```\n",
    "\n",
    "Then copy over the networks/input_tuning_dspn directory to the corresponding location on your local machine.\n",
    "\n",
    "In my case that is (all one very long line):\n",
    "\n",
    "```\n",
    "scp -pr dardel.pdc.kth.se:/cfs/klemming/home/h/hjorth/Snudda/examples/parallel/KTH_PDC/input_tuning/networks/input_tuning_dspn_background networks/\n",
    "```\n",
    "\n",
    "### Analyse the background simulation"
   ]
  },
  {
   "cell_type": "code",
   "execution_count": 1,
   "id": "31eac505",
   "metadata": {},
   "outputs": [],
   "source": [
    "import os\n",
    "from snudda.input.input_tuning import InputTuning"
   ]
  },
  {
   "cell_type": "code",
   "execution_count": 2,
   "id": "1e8efa4e",
   "metadata": {},
   "outputs": [],
   "source": [
    "network_path = os.path.join(\"networks\", \"input_tuning_dspn_background\")\n",
    "input_tuning = InputTuning(network_path, snudda_data=\"../../../../../BasalGangliaData/data/\", input_seed_list=[10,20,30,40,50])"
   ]
  },
  {
   "cell_type": "code",
   "execution_count": 3,
   "id": "c1966c30",
   "metadata": {},
   "outputs": [],
   "source": [
    "%matplotlib notebook\n",
    "\n",
    "background_input = input_tuning.find_highest_non_spiking_background_input()"
   ]
  },
  {
   "cell_type": "markdown",
   "id": "e9713eb9",
   "metadata": {},
   "source": [
    "### Update your SNUDDA_DATA with the new background input \n",
    "\n",
    "This updates the ```meta.json``` file for each of the neurons."
   ]
  },
  {
   "cell_type": "code",
   "execution_count": 4,
   "id": "851d86a7",
   "metadata": {},
   "outputs": [],
   "source": [
    "input_tuning.update_meta(background_input, overwrite=True)"
   ]
  },
  {
   "cell_type": "markdown",
   "id": "4c52a61d",
   "metadata": {},
   "source": [
    "### Run the input signal calibration on Dardel\n",
    "\n",
    "```sbatch Dardel_run_input_tuning_cortical_signal_dspn.job ```\n",
    "\n",
    "Then after the run finishes copy over the files to your local machine:\n",
    "\n",
    "```\n",
    "scp -pr dardel.pdc.kth.se:/cfs/klemming/home/h/hjorth/Snudda/examples/parallel/KTH_PDC/input_tuning/networks/input_tuning_dspn_cortical_signal networks/\n",
    "```\n",
    "\n",
    "### Find the optimal number of synapses for the signal\n",
    "\n",
    "Here as a starting point we aim to have approximately 10Hz firing when there is 10Hz input frequency to the synapses."
   ]
  },
  {
   "cell_type": "code",
   "execution_count": 5,
   "id": "3cacd126",
   "metadata": {},
   "outputs": [],
   "source": [
    "network_path = os.path.join(\"networks\", \"input_tuning_dspn_cortical_signal\")\n",
    "input_tuning_cortical = InputTuning(network_path, snudda_data=\"../../../../../BasalGangliaData/data/\", input_seed_list=[10,20,30,40,50])"
   ]
  },
  {
   "cell_type": "code",
   "execution_count": 6,
   "id": "f17f1a0b",
   "metadata": {
    "scrolled": true
   },
   "outputs": [],
   "source": [
    "input_signal = input_tuning_cortical.find_signal_strength(requested_frequency=10.0)"
   ]
  },
  {
   "cell_type": "markdown",
   "id": "a1a538d7",
   "metadata": {},
   "source": [
    "### Update the SNUDDA_DATA with the new cortical signal \n",
    "\n",
    "Important, we will set the signal frequency to 0Hz, so the user can update it themselves by overriding the frequency in the ```input.json``` file."
   ]
  },
  {
   "cell_type": "code",
   "execution_count": 7,
   "id": "60c61f35",
   "metadata": {},
   "outputs": [],
   "source": [
    "input_tuning_cortical.update_meta(input_signal, overwrite=False, set_frequency=0.0)"
   ]
  }
 ],
 "metadata": {
  "kernelspec": {
   "display_name": "Python 3 (ipykernel)",
   "language": "python",
   "name": "python3"
  },
  "language_info": {
   "codemirror_mode": {
    "name": "ipython",
    "version": 3
   },
   "file_extension": ".py",
   "mimetype": "text/x-python",
   "name": "python",
   "nbconvert_exporter": "python",
   "pygments_lexer": "ipython3",
   "version": "3.9.2"
  }
 },
 "nbformat": 4,
 "nbformat_minor": 5
}
