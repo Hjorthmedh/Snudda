{
 "cells": [
  {
   "cell_type": "markdown",
   "id": "0b652e4a",
   "metadata": {},
   "source": [
    "# Verify the dSPN input tuning\n",
    "\n",
    "Here we run a network of neurons to verify the input tuning, and check the distribution of firing frequencies."
   ]
  },
  {
   "cell_type": "code",
   "execution_count": 1,
   "id": "15a57c82",
   "metadata": {},
   "outputs": [],
   "source": [
    "import os\n",
    "from snudda.input.input_tuning import InputTuning\n",
    "\n",
    "neuron_type = \"dspn\"\n",
    "input_type = \"cortical\"\n",
    "seed_list = None\n",
    "network_path = os.path.join(\"networks\", f\"verify_{neuron_type}_input_tuning\")\n",
    "\n",
    "os.environ[\"SNUDDA_DATA\"] = \"../../../../../BasalGangliaData/data/\"\n",
    "assert os.path.isdir(os.getenv(\"SNUDDA_DATA\")), f\"You need to have BasalGangliaData installed for this example.\""
   ]
  },
  {
   "cell_type": "code",
   "execution_count": 5,
   "id": "31b5d603",
   "metadata": {},
   "outputs": [
    {
     "name": "stdout",
     "output_type": "stream",
     "text": [
      "Reading SNUDDA_DATA=../../../../../BasalGangliaData/data/ from environment variable $SNUDDA_DATA\n",
      "Found 144 neuron models in /home/hjorth/HBP/BasalGangliaData/data/neurons/striatum/dspn\n",
      "Skipping neuron type fs\n",
      "Skipping neuron type chin\n",
      "Skipping neuron type ispn\n",
      "Skipping neuron type lts\n",
      "Writing network config file to networks/verify_dspn_input_tuning/network-config.json\n",
      "Reading SNUDDA_DATA=../../../../../BasalGangliaData/data/ from networks/verify_dspn_input_tuning/network-config.json\n",
      "Generating 323771 points for data/mesh/InputTestMesh.obj\n",
      "n_points = 307864, previous close_pairs = 665705\n",
      "n_points = 292771, previous close_pairs = 548425\n",
      "n_points = 278469, previous close_pairs = 456366\n",
      "n_points = 264938, previous close_pairs = 381843\n",
      "n_points = 252168, previous close_pairs = 319495\n",
      "n_points = 240148, previous close_pairs = 269564\n",
      "n_points = 228882, previous close_pairs = 225017\n",
      "n_points = 218375, previous close_pairs = 190027\n",
      "n_points = 208625, previous close_pairs = 160204\n",
      "n_points = 199652, previous close_pairs = 133112\n",
      "n_points = 191460, previous close_pairs = 111411\n",
      "n_points = 183999, previous close_pairs = 95762\n",
      "n_points = 177262, previous close_pairs = 81574\n",
      "n_points = 171230, previous close_pairs = 68868\n",
      "n_points = 165894, previous close_pairs = 57584\n",
      "n_points = 163564, previous close_pairs = 47732\n",
      "n_points = 120304, previous close_pairs = 43260\n",
      "Filtering 120304 points..\n",
      "Filtering, keeping inside points: 108783 / 120304\n",
      "Reading SNUDDA_DATA=../../../../../BasalGangliaData/data/ from networks/verify_dspn_input_tuning/network-config.json\n",
      "No d_view specified, running distribute neurons in serial\n",
      "No connections specified in connectivity_distribution.\n",
      "No file networks/verify_dspn_input_tuning/pruning_merge_info.json\n"
     ]
    },
    {
     "ename": "AttributeError",
     "evalue": "'InputTuning' object has no attribute 'input_type'",
     "output_type": "error",
     "traceback": [
      "\u001b[0;31m---------------------------------------------------------------------------\u001b[0m",
      "\u001b[0;31mAttributeError\u001b[0m                            Traceback (most recent call last)",
      "Cell \u001b[0;32mIn[5], line 5\u001b[0m\n\u001b[1;32m      1\u001b[0m input_tuning \u001b[38;5;241m=\u001b[39m InputTuning(network_path)\n\u001b[1;32m      2\u001b[0m input_tuning\u001b[38;5;241m.\u001b[39msetup_network(neurons_path \u001b[38;5;241m=\u001b[39m os\u001b[38;5;241m.\u001b[39mpath\u001b[38;5;241m.\u001b[39mjoin(\u001b[38;5;124m\"\u001b[39m\u001b[38;5;124m$DATA\u001b[39m\u001b[38;5;124m\"\u001b[39m, \u001b[38;5;124m\"\u001b[39m\u001b[38;5;124mneurons\u001b[39m\u001b[38;5;124m\"\u001b[39m, \u001b[38;5;124m\"\u001b[39m\u001b[38;5;124mstriatum\u001b[39m\u001b[38;5;124m\"\u001b[39m),\n\u001b[1;32m      3\u001b[0m                            num_replicas\u001b[38;5;241m=\u001b[39m\u001b[38;5;241m1\u001b[39m,\n\u001b[1;32m      4\u001b[0m                            neuron_types\u001b[38;5;241m=\u001b[39mneuron_type)\n\u001b[0;32m----> 5\u001b[0m \u001b[43minput_tuning\u001b[49m\u001b[38;5;241;43m.\u001b[39;49m\u001b[43msetup_input_verification\u001b[49m\u001b[43m(\u001b[49m\u001b[43minput_type\u001b[49m\u001b[38;5;241;43m=\u001b[39;49m\u001b[43minput_type\u001b[49m\u001b[43m,\u001b[49m\u001b[43m \u001b[49m\u001b[43mneuron_type\u001b[49m\u001b[38;5;241;43m=\u001b[39;49m\u001b[43mneuron_type\u001b[49m\u001b[43m,\u001b[49m\n\u001b[1;32m      6\u001b[0m \u001b[43m                                      \u001b[49m\u001b[43minput_frequency_range\u001b[49m\u001b[38;5;241;43m=\u001b[39;49m\u001b[43m[\u001b[49m\u001b[38;5;241;43m0\u001b[39;49m\u001b[43m,\u001b[49m\u001b[43m \u001b[49m\u001b[38;5;241;43m5\u001b[39;49m\u001b[43m,\u001b[49m\u001b[43m \u001b[49m\u001b[38;5;241;43m10\u001b[39;49m\u001b[43m,\u001b[49m\u001b[43m \u001b[49m\u001b[38;5;241;43m20\u001b[39;49m\u001b[43m,\u001b[49m\u001b[43m \u001b[49m\u001b[38;5;241;43m30\u001b[39;49m\u001b[43m,\u001b[49m\u001b[43m \u001b[49m\u001b[38;5;241;43m40\u001b[39;49m\u001b[43m]\u001b[49m\u001b[43m,\u001b[49m\n\u001b[1;32m      7\u001b[0m \u001b[43m                                      \u001b[49m\u001b[43minput_duration\u001b[49m\u001b[38;5;241;43m=\u001b[39;49m\u001b[38;5;241;43m10\u001b[39;49m\u001b[43m,\u001b[49m\n\u001b[1;32m      8\u001b[0m \u001b[43m                                      \u001b[49m\u001b[43mgenerate\u001b[49m\u001b[38;5;241;43m=\u001b[39;49m\u001b[38;5;28;43;01mTrue\u001b[39;49;00m\u001b[43m,\u001b[49m\u001b[43m \u001b[49m\u001b[43mseed_list\u001b[49m\u001b[38;5;241;43m=\u001b[39;49m\u001b[43mseed_list\u001b[49m\u001b[43m)\u001b[49m\n",
      "File \u001b[0;32m~/HBP/Snudda/snudda/input/input_tuning.py:280\u001b[0m, in \u001b[0;36mInputTuning.setup_input_verification\u001b[0;34m(self, input_type, neuron_type, input_frequency_range, input_duration, generate, seed_list)\u001b[0m\n\u001b[1;32m    276\u001b[0m input_end \u001b[38;5;241m=\u001b[39m input_duration \u001b[38;5;241m*\u001b[39m np\u001b[38;5;241m.\u001b[39marange(\u001b[38;5;241m1\u001b[39m, n_steps \u001b[38;5;241m+\u001b[39m \u001b[38;5;241m1\u001b[39m)\n\u001b[1;32m    278\u001b[0m input_target \u001b[38;5;241m=\u001b[39m neuron_type\n\u001b[0;32m--> 280\u001b[0m \u001b[38;5;28;01mif\u001b[39;00m input_target \u001b[38;5;129;01mnot\u001b[39;00m \u001b[38;5;129;01min\u001b[39;00m \u001b[38;5;28;43mself\u001b[39;49m\u001b[38;5;241;43m.\u001b[39;49m\u001b[43minput_type\u001b[49m:\n\u001b[1;32m    281\u001b[0m     \u001b[38;5;28mself\u001b[39m\u001b[38;5;241m.\u001b[39minput_info[input_target] \u001b[38;5;241m=\u001b[39m collections\u001b[38;5;241m.\u001b[39mOrderedDict()\n\u001b[1;32m    283\u001b[0m \u001b[38;5;28mself\u001b[39m\u001b[38;5;241m.\u001b[39minput_info[input_target][input_type] \u001b[38;5;241m=\u001b[39m collections\u001b[38;5;241m.\u001b[39mOrderedDict()\n",
      "\u001b[0;31mAttributeError\u001b[0m: 'InputTuning' object has no attribute 'input_type'"
     ]
    }
   ],
   "source": [
    "input_tuning = InputTuning(network_path)\n",
    "input_tuning.setup_network(neurons_path = os.path.join(\"$DATA\", \"neurons\", \"striatum\"),\n",
    "                           num_replicas=1,\n",
    "                           neuron_types=neuron_type)\n",
    "input_tuning.setup_input_verification(input_type=input_type, neuron_type=neuron_type,\n",
    "                                      input_frequency_range=[0, 5, 10, 20, 30, 40],\n",
    "                                      input_duration=10,\n",
    "                                      generate=True, seed_list=seed_list)"
   ]
  },
  {
   "cell_type": "code",
   "execution_count": null,
   "id": "fe851f51",
   "metadata": {},
   "outputs": [],
   "source": []
  }
 ],
 "metadata": {
  "kernelspec": {
   "display_name": "Python 3 (ipykernel)",
   "language": "python",
   "name": "python3"
  },
  "language_info": {
   "codemirror_mode": {
    "name": "ipython",
    "version": 3
   },
   "file_extension": ".py",
   "mimetype": "text/x-python",
   "name": "python",
   "nbconvert_exporter": "python",
   "pygments_lexer": "ipython3",
   "version": "3.9.2"
  }
 },
 "nbformat": 4,
 "nbformat_minor": 5
}
