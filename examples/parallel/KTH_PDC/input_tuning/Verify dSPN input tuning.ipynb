{
 "cells": [
  {
   "cell_type": "markdown",
   "id": "1a3d3634",
   "metadata": {},
   "source": [
    "# Verify the dSPN input tuning\n",
    "\n",
    "Here we run a network of neurons to verify the input tuning, and check the distribution of firing frequencies."
   ]
  },
  {
   "cell_type": "code",
   "execution_count": null,
   "id": "5d531497",
   "metadata": {},
   "outputs": [],
   "source": [
    "import os\n",
    "from snudda.input.input_tuning import InputTuning\n",
    "\n",
    "# Let's run FS for now, to do it faster\n",
    "neuron_type = \"dspn\"\n",
    "input_type = \"cortical\"\n",
    "seed_list = None\n",
    "input_duration = 10\n",
    "input_frequency_range= [0, 5, 10, 20, 30, 40]\n",
    "network_path = os.path.join(\"networks\", f\"verify_{neuron_type}_input_tuning\")\n",
    "\n",
    "os.environ[\"SNUDDA_DATA\"] = \"../../../../../BasalGangliaData/data/\"\n",
    "assert os.path.isdir(os.getenv(\"SNUDDA_DATA\")), f\"You need to have BasalGangliaData installed for this example.\""
   ]
  },
  {
   "cell_type": "code",
   "execution_count": null,
   "id": "29bc673b",
   "metadata": {},
   "outputs": [],
   "source": [
    "input_tuning = InputTuning(network_path)\n",
    "input_tuning.setup_network(neurons_path = os.path.join(\"$DATA\", \"neurons\", \"striatum\"),\n",
    "                           num_replicas=1,\n",
    "                           neuron_types=neuron_type)\n",
    "input_tuning.setup_input_verification(input_type=input_type, neuron_type=neuron_type,\n",
    "                                      input_frequency_range=input_frequency_range,\n",
    "                                      input_duration=input_duration,\n",
    "                                      generate=True, seed_list=seed_list)"
   ]
  },
  {
   "cell_type": "markdown",
   "id": "3be252ab",
   "metadata": {},
   "source": [
    "## Run the simulation\n",
    "\n",
    "```mpiexec -n 8 python ../../../../snudda/input/input_tuning.py simulate networks/verify_dspn_input_tuning/```\n",
    "\n",
    "## Verify output frequencies\n",
    "Next we plot the output frequency distribution of the population to see that it looks good"
   ]
  },
  {
   "cell_type": "code",
   "execution_count": null,
   "id": "95d6a78c",
   "metadata": {},
   "outputs": [],
   "source": [
    "input_tuning.plot_verify_frequency_distribution(input_type=\"cortical\")"
   ]
  },
  {
   "cell_type": "markdown",
   "id": "6eec071d",
   "metadata": {},
   "source": [
    "# Plot histogram of frequency distribution"
   ]
  },
  {
   "cell_type": "code",
   "execution_count": null,
   "id": "fae35a2c",
   "metadata": {},
   "outputs": [],
   "source": []
  }
 ],
 "metadata": {
  "kernelspec": {
   "display_name": "Python 3 (ipykernel)",
   "language": "python",
   "name": "python3"
  },
  "language_info": {
   "codemirror_mode": {
    "name": "ipython",
    "version": 3
   },
   "file_extension": ".py",
   "mimetype": "text/x-python",
   "name": "python",
   "nbconvert_exporter": "python",
   "pygments_lexer": "ipython3",
   "version": "3.9.2"
  }
 },
 "nbformat": 4,
 "nbformat_minor": 5
}
